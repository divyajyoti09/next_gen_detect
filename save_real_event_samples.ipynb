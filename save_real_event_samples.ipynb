{
 "cells": [
  {
   "cell_type": "code",
   "execution_count": 143,
   "id": "995468dc-04d5-4a2f-995b-48a4a3ad7c71",
   "metadata": {},
   "outputs": [],
   "source": [
    "import deepdish as dd\n",
    "import os\n",
    "import h5py\n",
    "import pandas as pd\n",
    "import numpy as np"
   ]
  },
  {
   "cell_type": "code",
   "execution_count": 86,
   "id": "1b73c00a-80f3-4f4c-bcab-6c484928507c",
   "metadata": {},
   "outputs": [],
   "source": [
    "data_dir = '/home/divyajyoti/ACADEMIC/Projects/Cardiff_University/calc_SNR_next_gen/real_events'"
   ]
  },
  {
   "cell_type": "markdown",
   "id": "13d564a9-faf0-4d91-b906-73d812372dc3",
   "metadata": {},
   "source": [
    "## Events"
   ]
  },
  {
   "cell_type": "code",
   "execution_count": 163,
   "id": "612c039e-d30e-4e7c-bdae-1a847dee300a",
   "metadata": {},
   "outputs": [
    {
     "data": {
      "text/plain": [
       "{'input': {'GW190426': '/home/divyajyoti/ACADEMIC/Projects/Cardiff_University/calc_SNR_next_gen/real_events/downloaded_samples/IGWN-GWTC2p1-v2-GW190426_190642_PEDataRelease_mixed_cosmo.h5',\n",
       "  'GW150914': '/home/divyajyoti/ACADEMIC/Projects/Cardiff_University/calc_SNR_next_gen/real_events/downloaded_samples/IGWN-GWTC2p1-v2-GW150914_095045_PEDataRelease_mixed_cosmo.h5',\n",
       "  'GW200129': '/home/divyajyoti/ACADEMIC/Projects/Cardiff_University/calc_SNR_next_gen/real_events/downloaded_samples/IGWN-GWTC3p0-v2-GW200129_065458_PEDataRelease_mixed_cosmo.h5'},\n",
       " 'output': {'GW190426': '/home/divyajyoti/ACADEMIC/Projects/Cardiff_University/calc_SNR_next_gen/real_events/selected_samples/GW190426_samples.h5',\n",
       "  'GW150914': '/home/divyajyoti/ACADEMIC/Projects/Cardiff_University/calc_SNR_next_gen/real_events/selected_samples/GW150914_samples.h5',\n",
       "  'GW200129': '/home/divyajyoti/ACADEMIC/Projects/Cardiff_University/calc_SNR_next_gen/real_events/selected_samples/GW200129_samples.h5'}}"
      ]
     },
     "execution_count": 163,
     "metadata": {},
     "output_type": "execute_result"
    }
   ],
   "source": [
    "events = ['GW190426', 'GW150914', 'GW200129']\n",
    "pos_file_paths = {'input':{}, 'output':{}}\n",
    "for event in events:\n",
    "    event_file = [file for file in list(os.walk(os.path.join(data_dir, 'downloaded_samples')))[0][-1] if event in file][0]\n",
    "    pos_file_paths['input'][event] = os.path.join(data_dir, 'downloaded_samples', event_file)\n",
    "    pos_file_paths['output'][event] = os.path.join(data_dir, 'selected_samples', f'{event}_samples.h5')\n",
    "pos_file_paths"
   ]
  },
  {
   "cell_type": "code",
   "execution_count": 164,
   "id": "2a55c15b-c4b0-4466-946b-30e74bda855b",
   "metadata": {},
   "outputs": [
    {
     "name": "stdout",
     "output_type": "stream",
     "text": [
      "GW190426\n",
      "16781\n",
      "GW150914\n",
      "3337\n",
      "GW200129\n",
      "1993\n"
     ]
    }
   ],
   "source": [
    "for event in events:\n",
    "    with h5py.File(pos_file_paths['input'][event], 'r') as event_data:\n",
    "        print(event)\n",
    "        data = event_data['C01:Mixed']['posterior_samples'][:]\n",
    "        data_dict = {name:data[name] for name in data.dtype.names}\n",
    "        print(len(data_dict['mass_1']))\n",
    "        dd.io.save(pos_file_paths['output'][event], data_dict)"
   ]
  },
  {
   "cell_type": "code",
   "execution_count": 165,
   "id": "fa98a94c-f66a-41c1-9fe5-17e9caa34f0e",
   "metadata": {},
   "outputs": [
    {
     "data": {
      "text/plain": [
       "dict_keys(['a_1', 'a_2', 'beta', 'chi_eff', 'chi_eff_infinity_only_prec_avg', 'chi_p', 'chi_p_2spin', 'chi_p_infinity_only_prec_avg', 'chirp_mass', 'chirp_mass_source', 'comoving_distance', 'cos_iota', 'cos_theta_jn', 'cos_tilt_1', 'cos_tilt_1_infinity_only_prec_avg', 'cos_tilt_2', 'cos_tilt_2_infinity_only_prec_avg', 'dec', 'final_mass', 'final_mass_source', 'final_spin', 'geocent_time', 'inverted_mass_ratio', 'iota', 'log_likelihood', 'luminosity_distance', 'mass_1', 'mass_1_source', 'mass_2', 'mass_2_source', 'mass_ratio', 'peak_luminosity', 'phase', 'phi_1', 'phi_12', 'phi_2', 'phi_jl', 'psi', 'psi_J', 'ra', 'radiated_energy', 'redshift', 'spin_1x', 'spin_1y', 'spin_1z', 'spin_1z_infinity_only_prec_avg', 'spin_2x', 'spin_2y', 'spin_2z', 'spin_2z_infinity_only_prec_avg', 'symmetric_mass_ratio', 'theta_jn', 'tilt_1', 'tilt_1_infinity_only_prec_avg', 'tilt_2', 'tilt_2_infinity_only_prec_avg', 'total_mass', 'total_mass_source', 'viewing_angle'])"
      ]
     },
     "execution_count": 165,
     "metadata": {},
     "output_type": "execute_result"
    }
   ],
   "source": [
    "test_data = dd.io.load(pos_file_paths['output']['GW150914'])\n",
    "test_data.keys()"
   ]
  },
  {
   "cell_type": "markdown",
   "id": "6911459a-0bbc-43b9-a55c-123a9957447c",
   "metadata": {},
   "source": [
    "## GW170817"
   ]
  },
  {
   "cell_type": "code",
   "execution_count": 157,
   "id": "b8ee6574-3b6d-4927-a6c6-e47a92118376",
   "metadata": {},
   "outputs": [],
   "source": [
    "input_file = os.path.join(data_dir, 'downloaded_samples', 'GW170817_GWTC-1.hdf5')"
   ]
  },
  {
   "cell_type": "code",
   "execution_count": 158,
   "id": "3318f8c7-7e84-4dec-9277-a50413dba673",
   "metadata": {},
   "outputs": [],
   "source": [
    "param_names_map = {'costheta_jn': 'cos_theta_jn',\n",
    "                   'luminosity_distance_Mpc': 'luminosity_distance',\n",
    "                   'right_ascension': 'ra',\n",
    "                   'declination': 'dec',\n",
    "                   'm1_detector_frame_Msun': 'mass_1',\n",
    "                   'm2_detector_frame_Msun': 'mass_2',\n",
    "                   'lambda1': 'lambda_1',\n",
    "                   'lambda2': 'lambda_2',\n",
    "                   'spin1': 'a_1',\n",
    "                   'spin2': 'a_2',\n",
    "                   'costilt1': 'cos_tilt_1',\n",
    "                   'costilt2': 'cos_tilt_2'}"
   ]
  },
  {
   "cell_type": "code",
   "execution_count": 159,
   "id": "300a7f98-38c6-474a-9264-071083275a3a",
   "metadata": {},
   "outputs": [
    {
     "name": "stdout",
     "output_type": "stream",
     "text": [
      "4041\n",
      "dict_keys(['cos_theta_jn', 'luminosity_distance', 'ra', 'dec', 'mass_1', 'mass_2', 'lambda_1', 'lambda_2', 'a_1', 'a_2', 'cos_tilt_1', 'cos_tilt_2', 'spin_1z', 'spin_2z', 'theta_jn', 'psi', 'geocent_time'])\n"
     ]
    }
   ],
   "source": [
    "spin_type = 'highSpin'\n",
    "with h5py.File(input_file, 'r') as event_data:\n",
    "    data = event_data[f'IMRPhenomPv2NRT_{spin_type}_posterior'][:]\n",
    "    data_dict = {param_names_map[name]:data[name] for name in data.dtype.names}\n",
    "    data_dict['spin_1z'] = data_dict['a_1']*data_dict['cos_tilt_1']\n",
    "    data_dict['spin_2z'] = data_dict['a_2']*data_dict['cos_tilt_2']\n",
    "    data_dict['theta_jn'] = np.arccos(data_dict['cos_theta_jn'])\n",
    "    data_dict['psi'] = np.zeros_like(data_dict['dec'])\n",
    "    data_dict['geocent_time'] = np.full_like(data_dict['dec'], 1187008882.4)\n",
    "    print(len(data_dict['mass_1']))\n",
    "    print(data_dict.keys())\n",
    "    dd.io.save(os.path.join(data_dir, 'selected_samples', f'GW170817_{spin_type}_samples.h5'), data_dict)"
   ]
  },
  {
   "cell_type": "code",
   "execution_count": null,
   "id": "295abc7f-5adb-47b1-9a0b-cff815c15f76",
   "metadata": {},
   "outputs": [],
   "source": []
  }
 ],
 "metadata": {
  "kernelspec": {
   "display_name": "my_pycbc",
   "language": "python",
   "name": "my_pycbc"
  },
  "language_info": {
   "codemirror_mode": {
    "name": "ipython",
    "version": 3
   },
   "file_extension": ".py",
   "mimetype": "text/x-python",
   "name": "python",
   "nbconvert_exporter": "python",
   "pygments_lexer": "ipython3",
   "version": "3.11.11"
  }
 },
 "nbformat": 4,
 "nbformat_minor": 5
}
