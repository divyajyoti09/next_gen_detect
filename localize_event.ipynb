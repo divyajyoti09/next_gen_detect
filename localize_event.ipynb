{
 "cells": [
  {
   "cell_type": "code",
   "execution_count": 1,
   "id": "53e05280-afaf-4874-9a66-209a0f0998fc",
   "metadata": {},
   "outputs": [
    {
     "name": "stderr",
     "output_type": "stream",
     "text": [
      "PyCBC.libutils: pkg-config call failed, setting NO_PKGCONFIG=1\n"
     ]
    }
   ],
   "source": [
    "import warnings\n",
    "warnings.filterwarnings(\"ignore\", \"Wswiglal-redir-stdio\")\n",
    "import simple_pe\n",
    "from simple_pe.localization import event\n",
    "from pesummary.utils.samples_dict import SamplesDict\n",
    "from astropy.cosmology import Planck18 as cosmo\n",
    "import numpy as np\n",
    "from simple_pe.detectors import network\n",
    "from simple_pe import io\n",
    "import pandas as pd\n",
    "import h5py"
   ]
  },
  {
   "cell_type": "markdown",
   "id": "0f4cbaba-016b-45d4-ab0a-72d2ddbfd7f6",
   "metadata": {},
   "source": [
    "## S250818t"
   ]
  },
  {
   "cell_type": "code",
   "execution_count": 129,
   "id": "bad49871-97d9-4cbb-8b14-5202c164e80c",
   "metadata": {
    "scrolled": true
   },
   "outputs": [
    {
     "name": "stderr",
     "output_type": "stream",
     "text": [
      "2025-08-25  20:14:13 PESummary WARNING : Could not find f_final in input file and one was not passed from the command line. Using 1024.0Hz as default\n",
      "2025-08-25  20:14:13 PESummary WARNING : Could not find delta_f in input file and one was not passed from the command line. Using 0.00390625Hz as default\n",
      "2025-08-25  20:14:13 PESummary WARNING : Could not find f_start in input file and one was not passed from the command line. Using 20.0Hz as default\n",
      "2025-08-25  20:14:13 PESummary WARNING : Could not find f_low in input file and one was not passed from the command line. Using 20.0Hz as default\n",
      "2025-08-25  20:14:13 PESummary WARNING : Could not find reference_frequency in input file. Using 20Hz as default\n",
      "2025-08-25  20:14:13 PESummary WARNING : Could not find f_final in input file and one was not passed from the command line. Using 1024.0Hz as default\n",
      "2025-08-25  20:14:13 PESummary WARNING : Could not find delta_f in input file and one was not passed from the command line. Using 0.00390625Hz as default\n",
      "2025-08-25  20:14:13 PESummary WARNING : Could not find f_start in input file and one was not passed from the command line. Using 20.0Hz as default\n",
      "2025-08-25  20:14:13 PESummary WARNING : Could not find f_low in input file and one was not passed from the command line. Using 20.0Hz as default\n",
      "2025-08-25  20:14:13 PESummary WARNING : Could not find reference_frequency in input file. Using 20Hz as default\n"
     ]
    }
   ],
   "source": [
    "params_vals = {\n",
    "        'ra': 0.32,\n",
    "        'dec': -1.3,\n",
    "        'iota': 1.04,\n",
    "        'psi': 2.7,\n",
    "        'phase': 0.7,\n",
    "        'geocent_time': 1439518156.375,\n",
    "        'chirp_mass_source': 11.16,\n",
    "        'mass_ratio': 0.49,\n",
    "        'comoving_distance': 993.61,\n",
    "        'redshift': 0.24\n",
    "    }\n",
    "\n",
    "params = {key: np.array([val]) for key, val in params_vals.items()}\n",
    "\n",
    "samples = SamplesDict(params)\n",
    "samples.generate_all_posterior_samples()\n",
    "samples.generate_all_posterior_samples()"
   ]
  },
  {
   "cell_type": "code",
   "execution_count": 130,
   "id": "142d0240-6f70-4865-8b01-a1e19d6f110d",
   "metadata": {
    "scrolled": true
   },
   "outputs": [
    {
     "name": "stderr",
     "output_type": "stream",
     "text": [
      "2025-08-25  20:14:14 PESummary WARNING : Could not find f_final in input file and one was not passed from the command line. Using 1024.0Hz as default            | 0/10 [00:00<?, ?it/s]\n",
      "2025-08-25  20:14:14 PESummary WARNING : Could not find f_start in input file and one was not passed from the command line. Using 20.0Hz as default\n",
      "2025-08-25  20:14:15 PESummary WARNING : Could not find f_final in input file and one was not passed from the command line. Using 1024.0Hz as default    | 1/10 [00:00<00:06,  1.30it/s]\n",
      "2025-08-25  20:14:15 PESummary WARNING : Could not find f_start in input file and one was not passed from the command line. Using 20.0Hz as default\n",
      "2025-08-25  20:14:16 PESummary WARNING : Could not find f_final in input file and one was not passed from the command line. Using 1024.0Hz as default    | 2/10 [00:01<00:06,  1.33it/s]\n",
      "2025-08-25  20:14:16 PESummary WARNING : Could not find f_start in input file and one was not passed from the command line. Using 20.0Hz as default\n",
      "2025-08-25  20:14:17 PESummary WARNING : Could not find f_final in input file and one was not passed from the command line. Using 1024.0Hz as default    | 3/10 [00:02<00:05,  1.33it/s]\n",
      "2025-08-25  20:14:17 PESummary WARNING : Could not find f_start in input file and one was not passed from the command line. Using 20.0Hz as default\n",
      "2025-08-25  20:14:17 PESummary WARNING : Could not find f_final in input file and one was not passed from the command line. Using 1024.0Hz as default    | 4/10 [00:03<00:04,  1.25it/s]\n",
      "2025-08-25  20:14:17 PESummary WARNING : Could not find f_start in input file and one was not passed from the command line. Using 20.0Hz as default\n",
      "2025-08-25  20:14:18 PESummary WARNING : Could not find f_final in input file and one was not passed from the command line. Using 1024.0Hz as default    | 5/10 [00:04<00:04,  1.19it/s]\n",
      "2025-08-25  20:14:18 PESummary WARNING : Could not find f_start in input file and one was not passed from the command line. Using 20.0Hz as default\n",
      "2025-08-25  20:14:19 PESummary WARNING : Could not find f_final in input file and one was not passed from the command line. Using 1024.0Hz as default    | 6/10 [00:04<00:03,  1.23it/s]\n",
      "2025-08-25  20:14:19 PESummary WARNING : Could not find f_start in input file and one was not passed from the command line. Using 20.0Hz as default\n",
      "2025-08-25  20:14:20 PESummary WARNING : Could not find f_final in input file and one was not passed from the command line. Using 1024.0Hz as default    | 7/10 [00:05<00:02,  1.24it/s]\n",
      "2025-08-25  20:14:20 PESummary WARNING : Could not find f_start in input file and one was not passed from the command line. Using 20.0Hz as default\n",
      "2025-08-25  20:14:21 PESummary WARNING : Could not find f_final in input file and one was not passed from the command line. Using 1024.0Hz as default    | 8/10 [00:06<00:01,  1.22it/s]\n",
      "2025-08-25  20:14:21 PESummary WARNING : Could not find f_start in input file and one was not passed from the command line. Using 20.0Hz as default\n",
      "2025-08-25  20:14:22 PESummary WARNING : Could not find f_final in input file and one was not passed from the command line. Using 1024.0Hz as default    | 9/10 [00:07<00:00,  1.24it/s]\n",
      "2025-08-25  20:14:22 PESummary WARNING : Could not find f_start in input file and one was not passed from the command line. Using 20.0Hz as default\n",
      "calculating sigma, f_mean, f_band on grid: 100%|████████████████████████████████████████████████████████████████████████████████████████████████████████| 10/10 [00:07<00:00,  1.26it/s]\n",
      "2025-08-25  20:14:22 PESummary WARNING : Could not find f_final in input file and one was not passed from the command line. Using 1024.0Hz as default            | 0/10 [00:00<?, ?it/s]\n",
      "2025-08-25  20:14:22 PESummary WARNING : Could not find f_start in input file and one was not passed from the command line. Using 20.0Hz as default\n",
      "2025-08-25  20:14:23 PESummary WARNING : Could not find f_final in input file and one was not passed from the command line. Using 1024.0Hz as default    | 1/10 [00:00<00:06,  1.44it/s]\n",
      "2025-08-25  20:14:23 PESummary WARNING : Could not find f_start in input file and one was not passed from the command line. Using 20.0Hz as default\n",
      "2025-08-25  20:14:24 PESummary WARNING : Could not find f_final in input file and one was not passed from the command line. Using 1024.0Hz as default    | 2/10 [00:01<00:05,  1.36it/s]\n",
      "2025-08-25  20:14:24 PESummary WARNING : Could not find f_start in input file and one was not passed from the command line. Using 20.0Hz as default\n",
      "2025-08-25  20:14:24 PESummary WARNING : Could not find f_final in input file and one was not passed from the command line. Using 1024.0Hz as default    | 3/10 [00:02<00:05,  1.38it/s]\n",
      "2025-08-25  20:14:24 PESummary WARNING : Could not find f_start in input file and one was not passed from the command line. Using 20.0Hz as default\n",
      "2025-08-25  20:14:25 PESummary WARNING : Could not find f_final in input file and one was not passed from the command line. Using 1024.0Hz as default    | 4/10 [00:02<00:04,  1.31it/s]\n",
      "2025-08-25  20:14:25 PESummary WARNING : Could not find f_start in input file and one was not passed from the command line. Using 20.0Hz as default\n",
      "2025-08-25  20:14:26 PESummary WARNING : Could not find f_final in input file and one was not passed from the command line. Using 1024.0Hz as default    | 5/10 [00:03<00:03,  1.33it/s]\n",
      "2025-08-25  20:14:26 PESummary WARNING : Could not find f_start in input file and one was not passed from the command line. Using 20.0Hz as default\n",
      "2025-08-25  20:14:27 PESummary WARNING : Could not find f_final in input file and one was not passed from the command line. Using 1024.0Hz as default    | 6/10 [00:04<00:02,  1.35it/s]\n",
      "2025-08-25  20:14:27 PESummary WARNING : Could not find f_start in input file and one was not passed from the command line. Using 20.0Hz as default\n",
      "2025-08-25  20:14:27 PESummary WARNING : Could not find f_final in input file and one was not passed from the command line. Using 1024.0Hz as default    | 7/10 [00:05<00:02,  1.37it/s]\n",
      "2025-08-25  20:14:27 PESummary WARNING : Could not find f_start in input file and one was not passed from the command line. Using 20.0Hz as default\n",
      "2025-08-25  20:14:28 PESummary WARNING : Could not find f_final in input file and one was not passed from the command line. Using 1024.0Hz as default    | 8/10 [00:05<00:01,  1.38it/s]\n",
      "2025-08-25  20:14:28 PESummary WARNING : Could not find f_start in input file and one was not passed from the command line. Using 20.0Hz as default\n",
      "2025-08-25  20:14:29 PESummary WARNING : Could not find f_final in input file and one was not passed from the command line. Using 1024.0Hz as default    | 9/10 [00:06<00:00,  1.38it/s]\n",
      "2025-08-25  20:14:29 PESummary WARNING : Could not find f_start in input file and one was not passed from the command line. Using 20.0Hz as default\n",
      "calculating sigma, f_mean, f_band on grid: 100%|████████████████████████████████████████████████████████████████████████████████████████████████████████| 10/10 [00:07<00:00,  1.37it/s]\n"
     ]
    }
   ],
   "source": [
    "ncs = io.generate_noise_curves_from_names(['AdvVirgo', 'aLIGOZeroDetHighPower'], [20]*2)\n",
    "for nc in ncs.values():\n",
    "    nc.generate_reach_bandwidth_vs_mchirp(grid_points=10, \n",
    "                                          mc_min = 0.95 * samples['chirp_mass'].min(),\n",
    "                                          mc_max = 1.05 * samples['chirp_mass'].max())"
   ]
  },
  {
   "cell_type": "code",
   "execution_count": 131,
   "id": "e916cfc8-f222-4067-9887-6586a05e2eb5",
   "metadata": {},
   "outputs": [],
   "source": [
    "ncs.update(io.generate_noise_curves_from_files([], \n",
    "                                               ['noise_curves/Asharp-asd.txt'], [10]))"
   ]
  },
  {
   "cell_type": "code",
   "execution_count": 132,
   "id": "1c83afbf-5e53-4fb1-9d14-d8596f6d6449",
   "metadata": {},
   "outputs": [
    {
     "data": {
      "text/plain": [
       "{('AdvVirgo',\n",
       "  20): <simple_pe.detectors.noise_curves.NoiseCurve at 0x76e6438cfeb0>,\n",
       " ('aLIGOZeroDetHighPower',\n",
       "  20): <simple_pe.detectors.noise_curves.NoiseCurve at 0x76e6434e8640>,\n",
       " ('noise_curves/Asharp-asd.txt',\n",
       "  10): <simple_pe.detectors.noise_curves.NoiseCurve at 0x76e6433c0100>}"
      ]
     },
     "execution_count": 132,
     "metadata": {},
     "output_type": "execute_result"
    }
   ],
   "source": [
    "ncs"
   ]
  },
  {
   "cell_type": "code",
   "execution_count": 133,
   "id": "479f00b3-1059-4f12-a8c8-be7f894b1b36",
   "metadata": {},
   "outputs": [],
   "source": [
    "netw1 = network.Network()\n",
    "for ifo, psd in zip(['L1', 'H1', 'V1'], ['aLIGOZeroDetHighPower']*2 + ['AdvVirgo']):\n",
    "    netw1.add_ifo_from_noise_curve(ifo, ncs[(psd,20)])\n",
    "netw2 = network.Network()\n",
    "for ifo, psd in zip(['L1', 'H1', 'I1'], ['aLIGOZeroDetHighPower']*3):\n",
    "    netw2.add_ifo_from_noise_curve(ifo, ncs[(psd,20)])\n",
    "netw3 = network.Network()\n",
    "for ifo, psd in zip(['L1', 'H1', 'I1', 'V1'], ['aLIGOZeroDetHighPower']*3 + ['AdvVirgo']):\n",
    "    netw3.add_ifo_from_noise_curve(ifo, ncs[(psd,20)])"
   ]
  },
  {
   "cell_type": "code",
   "execution_count": 134,
   "id": "2adaea40-63b4-49e1-8b5a-58a5e8a9b20f",
   "metadata": {},
   "outputs": [],
   "source": [
    "for event_num in range(len(samples['chirp_mass'])):\n",
    "    my_event1 = event.Event.from_samples_dict(samples[event_num:event_num+1])\n",
    "    my_event1.add_network(netw1)"
   ]
  },
  {
   "cell_type": "code",
   "execution_count": 135,
   "id": "d313dc2f-53cb-4070-a78d-0d7cdfad51c5",
   "metadata": {},
   "outputs": [],
   "source": [
    "for event_num in range(len(samples['chirp_mass'])):\n",
    "    my_event2 = event.Event.from_samples_dict(samples[event_num:event_num+1])\n",
    "    my_event2.add_network(netw2)"
   ]
  },
  {
   "cell_type": "code",
   "execution_count": 136,
   "id": "49f60378-668a-4737-b92f-faaaf5daa432",
   "metadata": {},
   "outputs": [],
   "source": [
    "for event_num in range(len(samples['chirp_mass'])):\n",
    "    my_event3 = event.Event.from_samples_dict(samples[event_num:event_num+1])\n",
    "    my_event3.add_network(netw3)"
   ]
  },
  {
   "cell_type": "code",
   "execution_count": 137,
   "id": "64fdd9f1-8bc6-4cbb-87d8-940adc5d5c21",
   "metadata": {},
   "outputs": [
    {
     "name": "stderr",
     "output_type": "stream",
     "text": [
      "/home/divyajyoti/miniconda3/envs/simple-pe-ngloc/lib/python3.10/site-packages/simple_pe/localization/loc.py:21: RuntimeWarning: invalid value encountered in sqrt\n",
      "  sigma = 1 / np.sqrt(ev + epsilon)\n",
      "/home/divyajyoti/miniconda3/envs/simple-pe-ngloc/lib/python3.10/site-packages/scipy/optimize/_zeros_py.py:806: ComplexWarning: Casting complex values to real discards the imaginary part\n",
      "  r = _zeros._brentq(f, a, b, xtol, rtol, maxiter, args, full_output, disp)\n"
     ]
    }
   ],
   "source": [
    "my_event1.localize_all()\n",
    "my_event2.localize_all()\n",
    "my_event3.localize_all()"
   ]
  },
  {
   "cell_type": "code",
   "execution_count": 138,
   "id": "1feca6b6-0eda-4d14-8c28-798771504a04",
   "metadata": {},
   "outputs": [
    {
     "data": {
      "text/plain": [
       "{'L1': array([-4.17038171+6.12470861j]),\n",
       " 'H1': array([3.87374607-8.95967728j]),\n",
       " 'V1': array([-0.7788528+4.91430936j])}"
      ]
     },
     "execution_count": 138,
     "metadata": {},
     "output_type": "execute_result"
    }
   ],
   "source": [
    "my_event1.snr"
   ]
  },
  {
   "cell_type": "code",
   "execution_count": 139,
   "id": "c7ca55c5-b02a-4034-b75c-bb5c8e2dd256",
   "metadata": {},
   "outputs": [
    {
     "data": {
      "text/plain": [
       "{'L1': array([-4.17038171+6.12470861j]),\n",
       " 'H1': array([3.87374607-8.95967728j]),\n",
       " 'I1': array([1.64208179-1.33092246j])}"
      ]
     },
     "execution_count": 139,
     "metadata": {},
     "output_type": "execute_result"
    }
   ],
   "source": [
    "my_event2.snr"
   ]
  },
  {
   "cell_type": "code",
   "execution_count": 140,
   "id": "f9776a52-5a07-4968-8589-802c19fbfaa3",
   "metadata": {},
   "outputs": [
    {
     "data": {
      "text/plain": [
       "{'L1': array([-4.17038171+6.12470861j]),\n",
       " 'H1': array([3.87374607-8.95967728j]),\n",
       " 'I1': array([1.64208179-1.33092246j]),\n",
       " 'V1': array([-0.7788528+4.91430936j])}"
      ]
     },
     "execution_count": 140,
     "metadata": {},
     "output_type": "execute_result"
    }
   ],
   "source": [
    "my_event3.snr"
   ]
  },
  {
   "cell_type": "code",
   "execution_count": 141,
   "id": "bf838900-f1ce-46f8-9c9e-b665c74b583f",
   "metadata": {},
   "outputs": [
    {
     "data": {
      "text/plain": [
       "{'time': 40.886623467081606,\n",
       " 'coh': 29.13005477312673,\n",
       " 'left': 9.776814224125408,\n",
       " 'right': 11.737216709157087,\n",
       " 'marg': 9.837122828749667}"
      ]
     },
     "execution_count": 141,
     "metadata": {},
     "output_type": "execute_result"
    }
   ],
   "source": [
    "my_event1.area"
   ]
  },
  {
   "cell_type": "code",
   "execution_count": 142,
   "id": "ed01f81d-e08f-4af9-ae24-7b9daa2c41d0",
   "metadata": {},
   "outputs": [
    {
     "data": {
      "text/plain": [
       "{'time': 2253.9910235387183,\n",
       " 'coh': 2253.991023538718,\n",
       " 'left': (1605.4450271448547+0j),\n",
       " 'right': 1658.9027828786457,\n",
       " 'marg': 1615.8994406272213}"
      ]
     },
     "execution_count": 142,
     "metadata": {},
     "output_type": "execute_result"
    }
   ],
   "source": [
    "my_event2.area"
   ]
  },
  {
   "cell_type": "code",
   "execution_count": 143,
   "id": "4bb3ca51-e649-4cd2-aac4-1f718d1381b1",
   "metadata": {},
   "outputs": [
    {
     "data": {
      "text/plain": [
       "{'time': 40.886623467081606,\n",
       " 'coh': 29.13005477312673,\n",
       " 'left': 9.776814224125408,\n",
       " 'right': 11.737216709157087,\n",
       " 'marg': 9.837122828749667}"
      ]
     },
     "execution_count": 143,
     "metadata": {},
     "output_type": "execute_result"
    }
   ],
   "source": [
    "my_event3.area"
   ]
  },
  {
   "cell_type": "code",
   "execution_count": null,
   "id": "a9012e90-5573-40ed-92b9-f3712ad4184a",
   "metadata": {},
   "outputs": [],
   "source": []
  }
 ],
 "metadata": {
  "kernelspec": {
   "display_name": "simple-pe-ngloc",
   "language": "python",
   "name": "simple-pe-ngloc"
  },
  "language_info": {
   "codemirror_mode": {
    "name": "ipython",
    "version": 3
   },
   "file_extension": ".py",
   "mimetype": "text/x-python",
   "name": "python",
   "nbconvert_exporter": "python",
   "pygments_lexer": "ipython3",
   "version": "3.10.16"
  }
 },
 "nbformat": 4,
 "nbformat_minor": 5
}
