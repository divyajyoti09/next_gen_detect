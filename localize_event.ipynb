{
 "cells": [
  {
   "cell_type": "code",
   "execution_count": 1,
   "id": "53e05280-afaf-4874-9a66-209a0f0998fc",
   "metadata": {},
   "outputs": [
    {
     "name": "stderr",
     "output_type": "stream",
     "text": [
      "PyCBC.libutils: pkg-config call failed, setting NO_PKGCONFIG=1\n"
     ]
    }
   ],
   "source": [
    "import warnings\n",
    "warnings.filterwarnings(\"ignore\", \"Wswiglal-redir-stdio\")\n",
    "import simple_pe\n",
    "from simple_pe.localization import event\n",
    "from pesummary.utils.samples_dict import SamplesDict\n",
    "from astropy.cosmology import Planck18 as cosmo\n",
    "import numpy as np\n",
    "from simple_pe.detectors import network\n",
    "from simple_pe import io\n",
    "import pandas as pd\n",
    "import h5py"
   ]
  },
  {
   "cell_type": "markdown",
   "id": "0f4cbaba-016b-45d4-ab0a-72d2ddbfd7f6",
   "metadata": {},
   "source": [
    "## S250818t"
   ]
  },
  {
   "cell_type": "code",
   "execution_count": 12,
   "id": "bad49871-97d9-4cbb-8b14-5202c164e80c",
   "metadata": {
    "scrolled": true
   },
   "outputs": [
    {
     "name": "stderr",
     "output_type": "stream",
     "text": [
      "2025-08-25  19:31:24 PESummary WARNING : Could not find f_final in input file and one was not passed from the command line. Using 1024.0Hz as default\n",
      "2025-08-25  19:31:24 PESummary WARNING : Could not find delta_f in input file and one was not passed from the command line. Using 0.00390625Hz as default\n",
      "2025-08-25  19:31:24 PESummary WARNING : Could not find f_start in input file and one was not passed from the command line. Using 20.0Hz as default\n",
      "2025-08-25  19:31:24 PESummary WARNING : Could not find f_low in input file and one was not passed from the command line. Using 20.0Hz as default\n",
      "2025-08-25  19:31:24 PESummary WARNING : Could not find reference_frequency in input file. Using 20Hz as default\n",
      "2025-08-25  19:31:24 PESummary WARNING : Could not find f_final in input file and one was not passed from the command line. Using 1024.0Hz as default\n",
      "2025-08-25  19:31:24 PESummary WARNING : Could not find delta_f in input file and one was not passed from the command line. Using 0.00390625Hz as default\n",
      "2025-08-25  19:31:24 PESummary WARNING : Could not find f_start in input file and one was not passed from the command line. Using 20.0Hz as default\n",
      "2025-08-25  19:31:24 PESummary WARNING : Could not find f_low in input file and one was not passed from the command line. Using 20.0Hz as default\n",
      "2025-08-25  19:31:24 PESummary WARNING : Could not find reference_frequency in input file. Using 20Hz as default\n"
     ]
    }
   ],
   "source": [
    "params_vals = {\n",
    "        'ra': 0.32,\n",
    "        'dec': -1.3,\n",
    "        'iota': 1.04,\n",
    "        'psi': 2.7,\n",
    "        'phase': 0.7,\n",
    "        'geocent_time': 1439518156.375,\n",
    "        'chirp_mass_source': 11.16,\n",
    "        'mass_ratio': 0.49,\n",
    "        'comoving_distance': 993.61,\n",
    "        'redshift': 0.24\n",
    "    }\n",
    "\n",
    "params = {key: np.array([val]) for key, val in params_vals.items()}\n",
    "\n",
    "samples = SamplesDict(params)\n",
    "samples.generate_all_posterior_samples()\n",
    "samples.generate_all_posterior_samples()"
   ]
  },
  {
   "cell_type": "code",
   "execution_count": 13,
   "id": "142d0240-6f70-4865-8b01-a1e19d6f110d",
   "metadata": {
    "scrolled": true
   },
   "outputs": [
    {
     "name": "stderr",
     "output_type": "stream",
     "text": [
      "2025-08-25  19:31:28 PESummary WARNING : Could not find f_final in input file and one was not passed from the command line. Using 1024.0Hz as default            | 0/30 [00:00<?, ?it/s]\n",
      "2025-08-25  19:31:28 PESummary WARNING : Could not find f_start in input file and one was not passed from the command line. Using 20.0Hz as default\n",
      "2025-08-25  19:31:29 PESummary WARNING : Could not find f_final in input file and one was not passed from the command line. Using 1024.0Hz as default    | 1/30 [00:00<00:21,  1.36it/s]\n",
      "2025-08-25  19:31:29 PESummary WARNING : Could not find f_start in input file and one was not passed from the command line. Using 20.0Hz as default\n",
      "2025-08-25  19:31:29 PESummary WARNING : Could not find f_final in input file and one was not passed from the command line. Using 1024.0Hz as default    | 2/30 [00:01<00:21,  1.31it/s]\n",
      "2025-08-25  19:31:29 PESummary WARNING : Could not find f_start in input file and one was not passed from the command line. Using 20.0Hz as default\n",
      "2025-08-25  19:31:30 PESummary WARNING : Could not find f_final in input file and one was not passed from the command line. Using 1024.0Hz as default    | 3/30 [00:02<00:20,  1.31it/s]\n",
      "2025-08-25  19:31:30 PESummary WARNING : Could not find f_start in input file and one was not passed from the command line. Using 20.0Hz as default\n",
      "2025-08-25  19:31:31 PESummary WARNING : Could not find f_final in input file and one was not passed from the command line. Using 1024.0Hz as default    | 4/30 [00:03<00:19,  1.32it/s]\n",
      "2025-08-25  19:31:31 PESummary WARNING : Could not find f_start in input file and one was not passed from the command line. Using 20.0Hz as default\n",
      "2025-08-25  19:31:32 PESummary WARNING : Could not find f_final in input file and one was not passed from the command line. Using 1024.0Hz as default    | 5/30 [00:03<00:18,  1.34it/s]\n",
      "2025-08-25  19:31:32 PESummary WARNING : Could not find f_start in input file and one was not passed from the command line. Using 20.0Hz as default\n",
      "2025-08-25  19:31:32 PESummary WARNING : Could not find f_final in input file and one was not passed from the command line. Using 1024.0Hz as default    | 6/30 [00:04<00:18,  1.32it/s]\n",
      "2025-08-25  19:31:32 PESummary WARNING : Could not find f_start in input file and one was not passed from the command line. Using 20.0Hz as default\n",
      "2025-08-25  19:31:33 PESummary WARNING : Could not find f_final in input file and one was not passed from the command line. Using 1024.0Hz as default    | 7/30 [00:05<00:17,  1.33it/s]\n",
      "2025-08-25  19:31:33 PESummary WARNING : Could not find f_start in input file and one was not passed from the command line. Using 20.0Hz as default\n",
      "2025-08-25  19:31:34 PESummary WARNING : Could not find f_final in input file and one was not passed from the command line. Using 1024.0Hz as default    | 8/30 [00:06<00:16,  1.34it/s]\n",
      "2025-08-25  19:31:34 PESummary WARNING : Could not find f_start in input file and one was not passed from the command line. Using 20.0Hz as default\n",
      "2025-08-25  19:31:35 PESummary WARNING : Could not find f_final in input file and one was not passed from the command line. Using 1024.0Hz as default    | 9/30 [00:06<00:15,  1.32it/s]\n",
      "2025-08-25  19:31:35 PESummary WARNING : Could not find f_start in input file and one was not passed from the command line. Using 20.0Hz as default\n",
      "2025-08-25  19:31:36 PESummary WARNING : Could not find f_final in input file and one was not passed from the command line. Using 1024.0Hz as default   | 10/30 [00:07<00:16,  1.21it/s]\n",
      "2025-08-25  19:31:36 PESummary WARNING : Could not find f_start in input file and one was not passed from the command line. Using 20.0Hz as default\n",
      "2025-08-25  19:31:36 PESummary WARNING : Could not find f_final in input file and one was not passed from the command line. Using 1024.0Hz as default   | 11/30 [00:08<00:15,  1.24it/s]\n",
      "2025-08-25  19:31:36 PESummary WARNING : Could not find f_start in input file and one was not passed from the command line. Using 20.0Hz as default\n",
      "2025-08-25  19:31:37 PESummary WARNING : Could not find f_final in input file and one was not passed from the command line. Using 1024.0Hz as default   | 12/30 [00:09<00:14,  1.27it/s]\n",
      "2025-08-25  19:31:37 PESummary WARNING : Could not find f_start in input file and one was not passed from the command line. Using 20.0Hz as default\n",
      "2025-08-25  19:31:38 PESummary WARNING : Could not find f_final in input file and one was not passed from the command line. Using 1024.0Hz as default   | 13/30 [00:10<00:13,  1.28it/s]\n",
      "2025-08-25  19:31:38 PESummary WARNING : Could not find f_start in input file and one was not passed from the command line. Using 20.0Hz as default\n",
      "2025-08-25  19:31:39 PESummary WARNING : Could not find f_final in input file and one was not passed from the command line. Using 1024.0Hz as default   | 14/30 [00:10<00:12,  1.30it/s]\n",
      "2025-08-25  19:31:39 PESummary WARNING : Could not find f_start in input file and one was not passed from the command line. Using 20.0Hz as default\n",
      "2025-08-25  19:31:39 PESummary WARNING : Could not find f_final in input file and one was not passed from the command line. Using 1024.0Hz as default   | 15/30 [00:11<00:11,  1.29it/s]\n",
      "2025-08-25  19:31:39 PESummary WARNING : Could not find f_start in input file and one was not passed from the command line. Using 20.0Hz as default\n",
      "2025-08-25  19:31:40 PESummary WARNING : Could not find f_final in input file and one was not passed from the command line. Using 1024.0Hz as default   | 16/30 [00:12<00:11,  1.24it/s]\n",
      "2025-08-25  19:31:40 PESummary WARNING : Could not find f_start in input file and one was not passed from the command line. Using 20.0Hz as default\n",
      "2025-08-25  19:31:41 PESummary WARNING : Could not find f_final in input file and one was not passed from the command line. Using 1024.0Hz as default   | 17/30 [00:13<00:10,  1.24it/s]\n",
      "2025-08-25  19:31:41 PESummary WARNING : Could not find f_start in input file and one was not passed from the command line. Using 20.0Hz as default\n",
      "2025-08-25  19:31:42 PESummary WARNING : Could not find f_final in input file and one was not passed from the command line. Using 1024.0Hz as default   | 18/30 [00:14<00:09,  1.27it/s]\n",
      "2025-08-25  19:31:42 PESummary WARNING : Could not find f_start in input file and one was not passed from the command line. Using 20.0Hz as default\n",
      "2025-08-25  19:31:43 PESummary WARNING : Could not find f_final in input file and one was not passed from the command line. Using 1024.0Hz as default   | 19/30 [00:14<00:08,  1.25it/s]\n",
      "2025-08-25  19:31:43 PESummary WARNING : Could not find f_start in input file and one was not passed from the command line. Using 20.0Hz as default\n",
      "2025-08-25  19:31:43 PESummary WARNING : Could not find f_final in input file and one was not passed from the command line. Using 1024.0Hz as default   | 20/30 [00:15<00:07,  1.26it/s]\n",
      "2025-08-25  19:31:43 PESummary WARNING : Could not find f_start in input file and one was not passed from the command line. Using 20.0Hz as default\n",
      "2025-08-25  19:31:44 PESummary WARNING : Could not find f_final in input file and one was not passed from the command line. Using 1024.0Hz as default   | 21/30 [00:16<00:07,  1.22it/s]\n",
      "2025-08-25  19:31:44 PESummary WARNING : Could not find f_start in input file and one was not passed from the command line. Using 20.0Hz as default\n",
      "2025-08-25  19:31:45 PESummary WARNING : Could not find f_final in input file and one was not passed from the command line. Using 1024.0Hz as default   | 22/30 [00:17<00:06,  1.24it/s]\n",
      "2025-08-25  19:31:45 PESummary WARNING : Could not find f_start in input file and one was not passed from the command line. Using 20.0Hz as default\n",
      "2025-08-25  19:31:46 PESummary WARNING : Could not find f_final in input file and one was not passed from the command line. Using 1024.0Hz as default   | 23/30 [00:18<00:05,  1.25it/s]\n",
      "2025-08-25  19:31:46 PESummary WARNING : Could not find f_start in input file and one was not passed from the command line. Using 20.0Hz as default\n",
      "2025-08-25  19:31:47 PESummary WARNING : Could not find f_final in input file and one was not passed from the command line. Using 1024.0Hz as default   | 24/30 [00:18<00:04,  1.23it/s]\n",
      "2025-08-25  19:31:47 PESummary WARNING : Could not find f_start in input file and one was not passed from the command line. Using 20.0Hz as default\n",
      "2025-08-25  19:31:48 PESummary WARNING : Could not find f_final in input file and one was not passed from the command line. Using 1024.0Hz as default   | 25/30 [00:19<00:04,  1.17it/s]\n",
      "2025-08-25  19:31:48 PESummary WARNING : Could not find f_start in input file and one was not passed from the command line. Using 20.0Hz as default\n",
      "2025-08-25  19:31:48 PESummary WARNING : Could not find f_final in input file and one was not passed from the command line. Using 1024.0Hz as default   | 26/30 [00:20<00:03,  1.19it/s]\n",
      "2025-08-25  19:31:48 PESummary WARNING : Could not find f_start in input file and one was not passed from the command line. Using 20.0Hz as default\n",
      "2025-08-25  19:31:49 PESummary WARNING : Could not find f_final in input file and one was not passed from the command line. Using 1024.0Hz as default   | 27/30 [00:21<00:02,  1.20it/s]\n",
      "2025-08-25  19:31:49 PESummary WARNING : Could not find f_start in input file and one was not passed from the command line. Using 20.0Hz as default\n",
      "2025-08-25  19:31:50 PESummary WARNING : Could not find f_final in input file and one was not passed from the command line. Using 1024.0Hz as default   | 28/30 [00:22<00:01,  1.24it/s]\n",
      "2025-08-25  19:31:50 PESummary WARNING : Could not find f_start in input file and one was not passed from the command line. Using 20.0Hz as default\n",
      "2025-08-25  19:31:51 PESummary WARNING : Could not find f_final in input file and one was not passed from the command line. Using 1024.0Hz as default   | 29/30 [00:23<00:00,  1.25it/s]\n",
      "2025-08-25  19:31:51 PESummary WARNING : Could not find f_start in input file and one was not passed from the command line. Using 20.0Hz as default\n",
      "calculating sigma, f_mean, f_band on grid: 100%|████████████████████████████████████████████████████████████████████████████████████████████████████████| 30/30 [00:23<00:00,  1.26it/s]\n",
      "2025-08-25  19:31:52 PESummary WARNING : Could not find f_final in input file and one was not passed from the command line. Using 1024.0Hz as default            | 0/30 [00:00<?, ?it/s]\n",
      "2025-08-25  19:31:52 PESummary WARNING : Could not find f_start in input file and one was not passed from the command line. Using 20.0Hz as default\n",
      "2025-08-25  19:31:52 PESummary WARNING : Could not find f_final in input file and one was not passed from the command line. Using 1024.0Hz as default    | 1/30 [00:00<00:22,  1.28it/s]\n",
      "2025-08-25  19:31:52 PESummary WARNING : Could not find f_start in input file and one was not passed from the command line. Using 20.0Hz as default\n",
      "2025-08-25  19:31:53 PESummary WARNING : Could not find f_final in input file and one was not passed from the command line. Using 1024.0Hz as default    | 2/30 [00:01<00:21,  1.29it/s]\n",
      "2025-08-25  19:31:53 PESummary WARNING : Could not find f_start in input file and one was not passed from the command line. Using 20.0Hz as default\n",
      "2025-08-25  19:31:54 PESummary WARNING : Could not find f_final in input file and one was not passed from the command line. Using 1024.0Hz as default    | 3/30 [00:02<00:20,  1.31it/s]\n",
      "2025-08-25  19:31:54 PESummary WARNING : Could not find f_start in input file and one was not passed from the command line. Using 20.0Hz as default\n",
      "2025-08-25  19:31:55 PESummary WARNING : Could not find f_final in input file and one was not passed from the command line. Using 1024.0Hz as default    | 4/30 [00:03<00:19,  1.35it/s]\n",
      "2025-08-25  19:31:55 PESummary WARNING : Could not find f_start in input file and one was not passed from the command line. Using 20.0Hz as default\n",
      "2025-08-25  19:31:55 PESummary WARNING : Could not find f_final in input file and one was not passed from the command line. Using 1024.0Hz as default    | 5/30 [00:03<00:18,  1.38it/s]\n",
      "2025-08-25  19:31:55 PESummary WARNING : Could not find f_start in input file and one was not passed from the command line. Using 20.0Hz as default\n",
      "2025-08-25  19:31:56 PESummary WARNING : Could not find f_final in input file and one was not passed from the command line. Using 1024.0Hz as default    | 6/30 [00:04<00:17,  1.39it/s]\n",
      "2025-08-25  19:31:56 PESummary WARNING : Could not find f_start in input file and one was not passed from the command line. Using 20.0Hz as default\n",
      "2025-08-25  19:31:57 PESummary WARNING : Could not find f_final in input file and one was not passed from the command line. Using 1024.0Hz as default    | 7/30 [00:05<00:16,  1.38it/s]\n",
      "2025-08-25  19:31:57 PESummary WARNING : Could not find f_start in input file and one was not passed from the command line. Using 20.0Hz as default\n",
      "2025-08-25  19:31:58 PESummary WARNING : Could not find f_final in input file and one was not passed from the command line. Using 1024.0Hz as default    | 8/30 [00:05<00:16,  1.35it/s]\n",
      "2025-08-25  19:31:58 PESummary WARNING : Could not find f_start in input file and one was not passed from the command line. Using 20.0Hz as default\n",
      "2025-08-25  19:31:58 PESummary WARNING : Could not find f_final in input file and one was not passed from the command line. Using 1024.0Hz as default    | 9/30 [00:06<00:15,  1.36it/s]\n",
      "2025-08-25  19:31:58 PESummary WARNING : Could not find f_start in input file and one was not passed from the command line. Using 20.0Hz as default\n",
      "2025-08-25  19:31:59 PESummary WARNING : Could not find f_final in input file and one was not passed from the command line. Using 1024.0Hz as default   | 10/30 [00:07<00:15,  1.33it/s]\n",
      "2025-08-25  19:31:59 PESummary WARNING : Could not find f_start in input file and one was not passed from the command line. Using 20.0Hz as default\n",
      "2025-08-25  19:32:00 PESummary WARNING : Could not find f_final in input file and one was not passed from the command line. Using 1024.0Hz as default   | 11/30 [00:08<00:14,  1.27it/s]\n",
      "2025-08-25  19:32:00 PESummary WARNING : Could not find f_start in input file and one was not passed from the command line. Using 20.0Hz as default\n",
      "2025-08-25  19:32:01 PESummary WARNING : Could not find f_final in input file and one was not passed from the command line. Using 1024.0Hz as default   | 12/30 [00:09<00:14,  1.28it/s]\n",
      "2025-08-25  19:32:01 PESummary WARNING : Could not find f_start in input file and one was not passed from the command line. Using 20.0Hz as default\n",
      "2025-08-25  19:32:01 PESummary WARNING : Could not find f_final in input file and one was not passed from the command line. Using 1024.0Hz as default   | 13/30 [00:09<00:13,  1.30it/s]\n",
      "2025-08-25  19:32:01 PESummary WARNING : Could not find f_start in input file and one was not passed from the command line. Using 20.0Hz as default\n",
      "2025-08-25  19:32:02 PESummary WARNING : Could not find f_final in input file and one was not passed from the command line. Using 1024.0Hz as default   | 14/30 [00:10<00:11,  1.34it/s]\n",
      "2025-08-25  19:32:02 PESummary WARNING : Could not find f_start in input file and one was not passed from the command line. Using 20.0Hz as default\n",
      "2025-08-25  19:32:03 PESummary WARNING : Could not find f_final in input file and one was not passed from the command line. Using 1024.0Hz as default   | 15/30 [00:11<00:11,  1.30it/s]\n",
      "2025-08-25  19:32:03 PESummary WARNING : Could not find f_start in input file and one was not passed from the command line. Using 20.0Hz as default\n",
      "2025-08-25  19:32:04 PESummary WARNING : Could not find f_final in input file and one was not passed from the command line. Using 1024.0Hz as default   | 16/30 [00:11<00:10,  1.36it/s]\n",
      "2025-08-25  19:32:04 PESummary WARNING : Could not find f_start in input file and one was not passed from the command line. Using 20.0Hz as default\n",
      "2025-08-25  19:32:04 PESummary WARNING : Could not find f_final in input file and one was not passed from the command line. Using 1024.0Hz as default   | 17/30 [00:12<00:09,  1.40it/s]\n",
      "2025-08-25  19:32:04 PESummary WARNING : Could not find f_start in input file and one was not passed from the command line. Using 20.0Hz as default\n",
      "2025-08-25  19:32:05 PESummary WARNING : Could not find f_final in input file and one was not passed from the command line. Using 1024.0Hz as default   | 18/30 [00:13<00:08,  1.42it/s]\n",
      "2025-08-25  19:32:05 PESummary WARNING : Could not find f_start in input file and one was not passed from the command line. Using 20.0Hz as default\n",
      "2025-08-25  19:32:06 PESummary WARNING : Could not find f_final in input file and one was not passed from the command line. Using 1024.0Hz as default   | 19/30 [00:13<00:07,  1.45it/s]\n",
      "2025-08-25  19:32:06 PESummary WARNING : Could not find f_start in input file and one was not passed from the command line. Using 20.0Hz as default\n",
      "2025-08-25  19:32:06 PESummary WARNING : Could not find f_final in input file and one was not passed from the command line. Using 1024.0Hz as default   | 20/30 [00:14<00:06,  1.46it/s]\n",
      "2025-08-25  19:32:06 PESummary WARNING : Could not find f_start in input file and one was not passed from the command line. Using 20.0Hz as default\n",
      "2025-08-25  19:32:07 PESummary WARNING : Could not find f_final in input file and one was not passed from the command line. Using 1024.0Hz as default   | 21/30 [00:15<00:06,  1.46it/s]\n",
      "2025-08-25  19:32:07 PESummary WARNING : Could not find f_start in input file and one was not passed from the command line. Using 20.0Hz as default\n",
      "2025-08-25  19:32:08 PESummary WARNING : Could not find f_final in input file and one was not passed from the command line. Using 1024.0Hz as default   | 22/30 [00:16<00:05,  1.47it/s]\n",
      "2025-08-25  19:32:08 PESummary WARNING : Could not find f_start in input file and one was not passed from the command line. Using 20.0Hz as default\n",
      "2025-08-25  19:32:08 PESummary WARNING : Could not find f_final in input file and one was not passed from the command line. Using 1024.0Hz as default   | 23/30 [00:16<00:04,  1.48it/s]\n",
      "2025-08-25  19:32:08 PESummary WARNING : Could not find f_start in input file and one was not passed from the command line. Using 20.0Hz as default\n",
      "2025-08-25  19:32:09 PESummary WARNING : Could not find f_final in input file and one was not passed from the command line. Using 1024.0Hz as default   | 24/30 [00:17<00:04,  1.46it/s]\n",
      "2025-08-25  19:32:09 PESummary WARNING : Could not find f_start in input file and one was not passed from the command line. Using 20.0Hz as default\n",
      "2025-08-25  19:32:10 PESummary WARNING : Could not find f_final in input file and one was not passed from the command line. Using 1024.0Hz as default   | 25/30 [00:18<00:03,  1.47it/s]\n",
      "2025-08-25  19:32:10 PESummary WARNING : Could not find f_start in input file and one was not passed from the command line. Using 20.0Hz as default\n",
      "2025-08-25  19:32:10 PESummary WARNING : Could not find f_final in input file and one was not passed from the command line. Using 1024.0Hz as default   | 26/30 [00:18<00:02,  1.45it/s]\n",
      "2025-08-25  19:32:10 PESummary WARNING : Could not find f_start in input file and one was not passed from the command line. Using 20.0Hz as default\n",
      "2025-08-25  19:32:11 PESummary WARNING : Could not find f_final in input file and one was not passed from the command line. Using 1024.0Hz as default   | 27/30 [00:19<00:02,  1.45it/s]\n",
      "2025-08-25  19:32:11 PESummary WARNING : Could not find f_start in input file and one was not passed from the command line. Using 20.0Hz as default\n",
      "2025-08-25  19:32:12 PESummary WARNING : Could not find f_final in input file and one was not passed from the command line. Using 1024.0Hz as default   | 28/30 [00:20<00:01,  1.47it/s]\n",
      "2025-08-25  19:32:12 PESummary WARNING : Could not find f_start in input file and one was not passed from the command line. Using 20.0Hz as default\n",
      "2025-08-25  19:32:12 PESummary WARNING : Could not find f_final in input file and one was not passed from the command line. Using 1024.0Hz as default   | 29/30 [00:20<00:00,  1.45it/s]\n",
      "2025-08-25  19:32:12 PESummary WARNING : Could not find f_start in input file and one was not passed from the command line. Using 20.0Hz as default\n",
      "calculating sigma, f_mean, f_band on grid: 100%|████████████████████████████████████████████████████████████████████████████████████████████████████████| 30/30 [00:21<00:00,  1.39it/s]\n"
     ]
    }
   ],
   "source": [
    "ncs = io.generate_noise_curves_from_names(['AdvVirgo', 'aLIGOZeroDetHighPower'], [20]*2)\n",
    "for nc in ncs.values():\n",
    "    nc.generate_reach_bandwidth_vs_mchirp(grid_points=30, \n",
    "                                          mc_min = 0.95 * samples['chirp_mass'].min(),\n",
    "                                          mc_max = 1.05 * samples['chirp_mass'].max())"
   ]
  },
  {
   "cell_type": "code",
   "execution_count": 14,
   "id": "e916cfc8-f222-4067-9887-6586a05e2eb5",
   "metadata": {},
   "outputs": [],
   "source": [
    "ncs.update(io.generate_noise_curves_from_files([], \n",
    "                                               ['next_gen_detect/noise_curves/Asharp-asd.txt'], [10]))"
   ]
  },
  {
   "cell_type": "code",
   "execution_count": 15,
   "id": "1c83afbf-5e53-4fb1-9d14-d8596f6d6449",
   "metadata": {},
   "outputs": [
    {
     "data": {
      "text/plain": [
       "{('aLIGOZeroDetHighPower',\n",
       "  20): <simple_pe.detectors.noise_curves.NoiseCurve at 0x7164c4189190>,\n",
       " ('AdvVirgo',\n",
       "  20): <simple_pe.detectors.noise_curves.NoiseCurve at 0x71644f0f1b10>,\n",
       " ('next_gen_detect/noise_curves/Asharp-asd.txt',\n",
       "  10): <simple_pe.detectors.noise_curves.NoiseCurve at 0x71644f11ac50>}"
      ]
     },
     "execution_count": 15,
     "metadata": {},
     "output_type": "execute_result"
    }
   ],
   "source": [
    "ncs"
   ]
  },
  {
   "cell_type": "code",
   "execution_count": 48,
   "id": "479f00b3-1059-4f12-a8c8-be7f894b1b36",
   "metadata": {},
   "outputs": [],
   "source": [
    "netw1 = network.Network()\n",
    "for ifo, psd in zip(['L1', 'H1', 'V1'], ['aLIGOZeroDetHighPower']*2 + ['AdvVirgo']):\n",
    "    netw1.add_ifo_from_noise_curve(ifo, ncs[(psd,20)])\n",
    "netw2 = network.Network()\n",
    "for ifo, psd in zip(['L1', 'H1', 'I1'], ['aLIGOZeroDetHighPower']*3):\n",
    "    netw2.add_ifo_from_noise_curve(ifo, ncs[(psd,20)])"
   ]
  },
  {
   "cell_type": "code",
   "execution_count": 49,
   "id": "2adaea40-63b4-49e1-8b5a-58a5e8a9b20f",
   "metadata": {},
   "outputs": [],
   "source": [
    "for event_num in range(len(samples['chirp_mass'])):\n",
    "    my_event1 = event.Event.from_samples_dict(samples[event_num:event_num+1])\n",
    "    my_event1.add_network(netw1)"
   ]
  },
  {
   "cell_type": "code",
   "execution_count": 50,
   "id": "d313dc2f-53cb-4070-a78d-0d7cdfad51c5",
   "metadata": {},
   "outputs": [],
   "source": [
    "for event_num in range(len(samples['chirp_mass'])):\n",
    "    my_event2 = event.Event.from_samples_dict(samples[event_num:event_num+1])\n",
    "    my_event2.add_network(netw2)"
   ]
  },
  {
   "cell_type": "code",
   "execution_count": 51,
   "id": "64fdd9f1-8bc6-4cbb-87d8-940adc5d5c21",
   "metadata": {},
   "outputs": [],
   "source": [
    "my_event1.localize_all()\n",
    "my_event2.localize_all()"
   ]
  },
  {
   "cell_type": "code",
   "execution_count": 52,
   "id": "bf838900-f1ce-46f8-9c9e-b665c74b583f",
   "metadata": {},
   "outputs": [
    {
     "data": {
      "text/plain": [
       "{'time': 40.88601568092482,\n",
       " 'coh': 29.129627572052954,\n",
       " 'left': 9.776696132346135,\n",
       " 'right': 11.737070639498748,\n",
       " 'marg': 9.83700236080931}"
      ]
     },
     "execution_count": 52,
     "metadata": {},
     "output_type": "execute_result"
    }
   ],
   "source": [
    "my_event1.area"
   ]
  },
  {
   "cell_type": "code",
   "execution_count": 53,
   "id": "ed01f81d-e08f-4af9-ae24-7b9daa2c41d0",
   "metadata": {},
   "outputs": [
    {
     "data": {
      "text/plain": [
       "{'time': 2253.9880031864486,\n",
       " 'coh': 2253.988003186448,\n",
       " 'left': 1605.4406208050566,\n",
       " 'right': 1658.8982791652884,\n",
       " 'marg': 1615.8949803094993}"
      ]
     },
     "execution_count": 53,
     "metadata": {},
     "output_type": "execute_result"
    }
   ],
   "source": [
    "my_event2.area"
   ]
  },
  {
   "cell_type": "code",
   "execution_count": null,
   "id": "4bb3ca51-e649-4cd2-aac4-1f718d1381b1",
   "metadata": {},
   "outputs": [],
   "source": []
  }
 ],
 "metadata": {
  "kernelspec": {
   "display_name": "simple-pe-localization-ellipses",
   "language": "python",
   "name": "simple-pe-localization-ellipses"
  },
  "language_info": {
   "codemirror_mode": {
    "name": "ipython",
    "version": 3
   },
   "file_extension": ".py",
   "mimetype": "text/x-python",
   "name": "python",
   "nbconvert_exporter": "python",
   "pygments_lexer": "ipython3",
   "version": "3.11.11"
  }
 },
 "nbformat": 4,
 "nbformat_minor": 5
}
