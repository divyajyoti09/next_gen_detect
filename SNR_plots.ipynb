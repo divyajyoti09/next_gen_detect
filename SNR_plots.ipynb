{
 "cells": [
  {
   "cell_type": "code",
   "execution_count": 134,
   "id": "4a809691-58cb-4e2e-932c-fa871b4c59c0",
   "metadata": {},
   "outputs": [],
   "source": [
    "import deepdish as dd\n",
    "import os\n",
    "import numpy as np\n",
    "import pylab as plt"
   ]
  },
  {
   "cell_type": "code",
   "execution_count": 161,
   "id": "189974ed-2ccf-4da7-b3d8-0aedd7a7f0e9",
   "metadata": {},
   "outputs": [],
   "source": [
    "python = '/Users/gravity/opt/anaconda3/envs/gwforge_18Oct24/bin/python'"
   ]
  },
  {
   "cell_type": "code",
   "execution_count": 178,
   "id": "911e1adc-9f03-4bb0-b94f-74b3d879fe0b",
   "metadata": {},
   "outputs": [],
   "source": [
    "test_data_local = dd.io.load('../output_data/1_day_prec_z_10_local_SNR_data.h5')['Optimal_SNR']\n",
    "test_data_parallel = dd.io.load('../output_data/1_day_prec_z_10_parallel_SNR_data.h5')['Optimal_SNR']\n",
    "test_data_serial = dd.io.load('../output_data/1_day_prec_z_10_serial_SNR_data.h5')['Optimal_SNR']\n",
    "data_7_days = dd.io.load('../output_data/7_days_prec_z_10_parallel_SNR_data.h5')['Optimal_SNR']"
   ]
  },
  {
   "cell_type": "code",
   "execution_count": 175,
   "id": "2bd2f5a1-3e64-4547-bccf-e23173a3b0c2",
   "metadata": {},
   "outputs": [
    {
     "data": {
      "text/plain": [
       "Index(['inclination', 'distance', 'mass1', 'mass2', 'coa_phase', 'f_ref',\n",
       "       'spin1x', 'spin1y', 'spin1z', 'spin2x', 'spin2y', 'spin2z',\n",
       "       'approximant', 'f_lower', 'delta_f', 'f_final', 'dec', 'trigger_time',\n",
       "       'polarization', 'ra', 'SNR_L1', 'SNR_H1', 'SNR_V1', 'SNR_network_sq',\n",
       "       'SNR_network'],\n",
       "      dtype='object')"
      ]
     },
     "execution_count": 175,
     "metadata": {},
     "output_type": "execute_result"
    }
   ],
   "source": [
    "test_data_local.keys()"
   ]
  },
  {
   "cell_type": "code",
   "execution_count": 179,
   "id": "0fe117cf-40a7-438a-8c5b-458d7c146859",
   "metadata": {},
   "outputs": [],
   "source": [
    "def get_detected_SNRs(data_dict, ifo_threshold=8, network_threshold=10):\n",
    "    detected = {}\n",
    "    SNR_keys = [key for key in data_dict.keys() if 'SNR' in key]\n",
    "    for key in SNR_keys:\n",
    "        if \"network_sq\" in key:\n",
    "            detected[key.split('SNR_')[-1]] = data_dict[data_dict[key] > network_threshold**2]\n",
    "        elif \"network\" in key:\n",
    "            detected[key.split('SNR_')[-1]] = data_dict[data_dict[key] > network_threshold]\n",
    "        else:\n",
    "            detected[key.split('SNR_')[-1]] = data_dict[data_dict[key] > ifo_threshold]\n",
    "    return(detected)"
   ]
  },
  {
   "cell_type": "code",
   "execution_count": 181,
   "id": "6b9c27f8-5536-4946-ba44-e499f9f2fe91",
   "metadata": {},
   "outputs": [],
   "source": [
    "detected_7_days_netw = get_detected_SNRs(data_7_days)['network']"
   ]
  },
  {
   "cell_type": "code",
   "execution_count": 182,
   "id": "91127574-c9c8-496f-a5d9-8feab773cee2",
   "metadata": {},
   "outputs": [
    {
     "data": {
      "text/plain": [
       "Index(['inclination', 'distance', 'mass1', 'mass2', 'coa_phase', 'f_ref',\n",
       "       'spin1x', 'spin1y', 'spin1z', 'spin2x', 'spin2y', 'spin2z',\n",
       "       'approximant', 'f_lower', 'delta_f', 'f_final', 'dec', 'trigger_time',\n",
       "       'polarization', 'ra', 'SNR_L1', 'SNR_H1', 'SNR_V1', 'SNR_network_sq',\n",
       "       'SNR_network'],\n",
       "      dtype='object')"
      ]
     },
     "execution_count": 182,
     "metadata": {},
     "output_type": "execute_result"
    }
   ],
   "source": [
    "detected_7_days_netw.keys()"
   ]
  },
  {
   "cell_type": "code",
   "execution_count": 186,
   "id": "c98dfa43-fd1a-4f0d-81cb-d45d36e17c26",
   "metadata": {},
   "outputs": [
    {
     "data": {
      "image/png": "[encoded data removed]",
      "text/plain": [
       "<Figure size 640x480 with 1 Axes>"
      ]
     },
     "metadata": {},
     "output_type": "display_data"
    }
   ],
   "source": [
    "plt.hist(detected_7_days_netw['distance'], histtype=u'step');"
   ]
  },
  {
   "cell_type": "code",
   "execution_count": 170,
   "id": "23575445-300e-4195-817b-607471d3568c",
   "metadata": {},
   "outputs": [
    {
     "data": {
      "text/html": [
       "<div>\n",
       "<style scoped>\n",
       "    .dataframe tbody tr th:only-of-type {\n",
       "        vertical-align: middle;\n",
       "    }\n",
       "\n",
       "    .dataframe tbody tr th {\n",
       "        vertical-align: top;\n",
       "    }\n",
       "\n",
       "    .dataframe thead th {\n",
       "        text-align: right;\n",
       "    }\n",
       "</style>\n",
       "<table border=\"1\" class=\"dataframe\">\n",
       "  <thead>\n",
       "    <tr style=\"text-align: right;\">\n",
       "      <th></th>\n",
       "      <th>inclination</th>\n",
       "      <th>distance</th>\n",
       "      <th>mass1</th>\n",
       "      <th>mass2</th>\n",
       "      <th>coa_phase</th>\n",
       "      <th>f_ref</th>\n",
       "      <th>spin1x</th>\n",
       "      <th>spin1y</th>\n",
       "      <th>spin1z</th>\n",
       "      <th>spin2x</th>\n",
       "      <th>...</th>\n",
       "      <th>f_final</th>\n",
       "      <th>dec</th>\n",
       "      <th>trigger_time</th>\n",
       "      <th>polarization</th>\n",
       "      <th>ra</th>\n",
       "      <th>SNR_L1</th>\n",
       "      <th>SNR_H1</th>\n",
       "      <th>SNR_V1</th>\n",
       "      <th>SNR_network_sq</th>\n",
       "      <th>SNR_network</th>\n",
       "    </tr>\n",
       "  </thead>\n",
       "  <tbody>\n",
       "    <tr>\n",
       "      <th>34</th>\n",
       "      <td>0.532770</td>\n",
       "      <td>2810.675418</td>\n",
       "      <td>47.076243</td>\n",
       "      <td>29.655835</td>\n",
       "      <td>5.629477</td>\n",
       "      <td>5.0</td>\n",
       "      <td>0.274178</td>\n",
       "      <td>0.838540</td>\n",
       "      <td>-0.230261</td>\n",
       "      <td>-0.238946</td>\n",
       "      <td>...</td>\n",
       "      <td>1567</td>\n",
       "      <td>-0.698742</td>\n",
       "      <td>1.893034e+09</td>\n",
       "      <td>0.619728</td>\n",
       "      <td>5.490057</td>\n",
       "      <td>6.509596</td>\n",
       "      <td>6.353447</td>\n",
       "      <td>8.570054</td>\n",
       "      <td>156.186957</td>\n",
       "      <td>12.497478</td>\n",
       "    </tr>\n",
       "    <tr>\n",
       "      <th>235</th>\n",
       "      <td>1.447689</td>\n",
       "      <td>1803.846948</td>\n",
       "      <td>59.656395</td>\n",
       "      <td>53.806263</td>\n",
       "      <td>1.258496</td>\n",
       "      <td>5.0</td>\n",
       "      <td>-0.024972</td>\n",
       "      <td>0.020333</td>\n",
       "      <td>0.086569</td>\n",
       "      <td>0.293121</td>\n",
       "      <td>...</td>\n",
       "      <td>1567</td>\n",
       "      <td>-0.664756</td>\n",
       "      <td>1.893088e+09</td>\n",
       "      <td>0.007347</td>\n",
       "      <td>3.332223</td>\n",
       "      <td>3.096475</td>\n",
       "      <td>5.307420</td>\n",
       "      <td>10.937706</td>\n",
       "      <td>157.390280</td>\n",
       "      <td>12.545528</td>\n",
       "    </tr>\n",
       "  </tbody>\n",
       "</table>\n",
       "<p>2 rows × 25 columns</p>\n",
       "</div>"
      ],
      "text/plain": [
       "     inclination     distance      mass1      mass2  coa_phase  f_ref  \\\n",
       "34      0.532770  2810.675418  47.076243  29.655835   5.629477    5.0   \n",
       "235     1.447689  1803.846948  59.656395  53.806263   1.258496    5.0   \n",
       "\n",
       "       spin1x    spin1y    spin1z    spin2x  ...  f_final       dec  \\\n",
       "34   0.274178  0.838540 -0.230261 -0.238946  ...     1567 -0.698742   \n",
       "235 -0.024972  0.020333  0.086569  0.293121  ...     1567 -0.664756   \n",
       "\n",
       "     trigger_time  polarization        ra    SNR_L1    SNR_H1     SNR_V1  \\\n",
       "34   1.893034e+09      0.619728  5.490057  6.509596  6.353447   8.570054   \n",
       "235  1.893088e+09      0.007347  3.332223  3.096475  5.307420  10.937706   \n",
       "\n",
       "     SNR_network_sq  SNR_network  \n",
       "34       156.186957    12.497478  \n",
       "235      157.390280    12.545528  \n",
       "\n",
       "[2 rows x 25 columns]"
      ]
     },
     "execution_count": 170,
     "metadata": {},
     "output_type": "execute_result"
    }
   ],
   "source": [
    "get_detected_SNRs(test_data_local)['network']"
   ]
  },
  {
   "cell_type": "code",
   "execution_count": 171,
   "id": "a8e242e7-e6ae-4a11-b18a-681b02d4ae15",
   "metadata": {},
   "outputs": [
    {
     "data": {
      "text/html": [
       "<div>\n",
       "<style scoped>\n",
       "    .dataframe tbody tr th:only-of-type {\n",
       "        vertical-align: middle;\n",
       "    }\n",
       "\n",
       "    .dataframe tbody tr th {\n",
       "        vertical-align: top;\n",
       "    }\n",
       "\n",
       "    .dataframe thead th {\n",
       "        text-align: right;\n",
       "    }\n",
       "</style>\n",
       "<table border=\"1\" class=\"dataframe\">\n",
       "  <thead>\n",
       "    <tr style=\"text-align: right;\">\n",
       "      <th></th>\n",
       "      <th>inclination</th>\n",
       "      <th>distance</th>\n",
       "      <th>mass1</th>\n",
       "      <th>mass2</th>\n",
       "      <th>coa_phase</th>\n",
       "      <th>f_ref</th>\n",
       "      <th>spin1x</th>\n",
       "      <th>spin1y</th>\n",
       "      <th>spin1z</th>\n",
       "      <th>spin2x</th>\n",
       "      <th>...</th>\n",
       "      <th>f_final</th>\n",
       "      <th>dec</th>\n",
       "      <th>trigger_time</th>\n",
       "      <th>polarization</th>\n",
       "      <th>ra</th>\n",
       "      <th>SNR_L1</th>\n",
       "      <th>SNR_H1</th>\n",
       "      <th>SNR_V1</th>\n",
       "      <th>SNR_network_sq</th>\n",
       "      <th>SNR_network</th>\n",
       "    </tr>\n",
       "  </thead>\n",
       "  <tbody>\n",
       "    <tr>\n",
       "      <th>34</th>\n",
       "      <td>0.532770</td>\n",
       "      <td>2810.675418</td>\n",
       "      <td>47.076243</td>\n",
       "      <td>29.655835</td>\n",
       "      <td>5.629477</td>\n",
       "      <td>5.0</td>\n",
       "      <td>0.274178</td>\n",
       "      <td>0.838540</td>\n",
       "      <td>-0.230261</td>\n",
       "      <td>-0.238946</td>\n",
       "      <td>...</td>\n",
       "      <td>1567</td>\n",
       "      <td>-0.698742</td>\n",
       "      <td>1.893034e+09</td>\n",
       "      <td>0.619728</td>\n",
       "      <td>5.490057</td>\n",
       "      <td>6.509596</td>\n",
       "      <td>6.353447</td>\n",
       "      <td>8.570055</td>\n",
       "      <td>156.186961</td>\n",
       "      <td>12.497478</td>\n",
       "    </tr>\n",
       "    <tr>\n",
       "      <th>235</th>\n",
       "      <td>1.447689</td>\n",
       "      <td>1803.846948</td>\n",
       "      <td>59.656395</td>\n",
       "      <td>53.806263</td>\n",
       "      <td>1.258496</td>\n",
       "      <td>5.0</td>\n",
       "      <td>-0.024972</td>\n",
       "      <td>0.020333</td>\n",
       "      <td>0.086569</td>\n",
       "      <td>0.293121</td>\n",
       "      <td>...</td>\n",
       "      <td>1567</td>\n",
       "      <td>-0.664756</td>\n",
       "      <td>1.893088e+09</td>\n",
       "      <td>0.007347</td>\n",
       "      <td>3.332223</td>\n",
       "      <td>3.096476</td>\n",
       "      <td>5.307420</td>\n",
       "      <td>10.937706</td>\n",
       "      <td>157.390286</td>\n",
       "      <td>12.545529</td>\n",
       "    </tr>\n",
       "  </tbody>\n",
       "</table>\n",
       "<p>2 rows × 25 columns</p>\n",
       "</div>"
      ],
      "text/plain": [
       "     inclination     distance      mass1      mass2  coa_phase  f_ref  \\\n",
       "34      0.532770  2810.675418  47.076243  29.655835   5.629477    5.0   \n",
       "235     1.447689  1803.846948  59.656395  53.806263   1.258496    5.0   \n",
       "\n",
       "       spin1x    spin1y    spin1z    spin2x  ...  f_final       dec  \\\n",
       "34   0.274178  0.838540 -0.230261 -0.238946  ...     1567 -0.698742   \n",
       "235 -0.024972  0.020333  0.086569  0.293121  ...     1567 -0.664756   \n",
       "\n",
       "     trigger_time  polarization        ra    SNR_L1    SNR_H1     SNR_V1  \\\n",
       "34   1.893034e+09      0.619728  5.490057  6.509596  6.353447   8.570055   \n",
       "235  1.893088e+09      0.007347  3.332223  3.096476  5.307420  10.937706   \n",
       "\n",
       "     SNR_network_sq  SNR_network  \n",
       "34       156.186961    12.497478  \n",
       "235      157.390286    12.545529  \n",
       "\n",
       "[2 rows x 25 columns]"
      ]
     },
     "execution_count": 171,
     "metadata": {},
     "output_type": "execute_result"
    }
   ],
   "source": [
    "get_detected_SNRs(test_data_serial)['network']"
   ]
  },
  {
   "cell_type": "code",
   "execution_count": 172,
   "id": "9b3732de-3bfe-4a6a-abd2-d1bfcce035a6",
   "metadata": {},
   "outputs": [
    {
     "data": {
      "text/html": [
       "<div>\n",
       "<style scoped>\n",
       "    .dataframe tbody tr th:only-of-type {\n",
       "        vertical-align: middle;\n",
       "    }\n",
       "\n",
       "    .dataframe tbody tr th {\n",
       "        vertical-align: top;\n",
       "    }\n",
       "\n",
       "    .dataframe thead th {\n",
       "        text-align: right;\n",
       "    }\n",
       "</style>\n",
       "<table border=\"1\" class=\"dataframe\">\n",
       "  <thead>\n",
       "    <tr style=\"text-align: right;\">\n",
       "      <th></th>\n",
       "      <th>inclination</th>\n",
       "      <th>distance</th>\n",
       "      <th>mass1</th>\n",
       "      <th>mass2</th>\n",
       "      <th>coa_phase</th>\n",
       "      <th>f_ref</th>\n",
       "      <th>spin1x</th>\n",
       "      <th>spin1y</th>\n",
       "      <th>spin1z</th>\n",
       "      <th>spin2x</th>\n",
       "      <th>...</th>\n",
       "      <th>f_final</th>\n",
       "      <th>dec</th>\n",
       "      <th>trigger_time</th>\n",
       "      <th>polarization</th>\n",
       "      <th>ra</th>\n",
       "      <th>SNR_L1</th>\n",
       "      <th>SNR_H1</th>\n",
       "      <th>SNR_V1</th>\n",
       "      <th>SNR_network_sq</th>\n",
       "      <th>SNR_network</th>\n",
       "    </tr>\n",
       "  </thead>\n",
       "  <tbody>\n",
       "    <tr>\n",
       "      <th>34</th>\n",
       "      <td>0.532770</td>\n",
       "      <td>2810.675418</td>\n",
       "      <td>47.076243</td>\n",
       "      <td>29.655835</td>\n",
       "      <td>5.629477</td>\n",
       "      <td>5.0</td>\n",
       "      <td>0.274178</td>\n",
       "      <td>0.838540</td>\n",
       "      <td>-0.230261</td>\n",
       "      <td>-0.238946</td>\n",
       "      <td>...</td>\n",
       "      <td>1567</td>\n",
       "      <td>-0.698742</td>\n",
       "      <td>1.893034e+09</td>\n",
       "      <td>0.619728</td>\n",
       "      <td>5.490057</td>\n",
       "      <td>6.509596</td>\n",
       "      <td>6.353447</td>\n",
       "      <td>8.570055</td>\n",
       "      <td>156.186961</td>\n",
       "      <td>12.497478</td>\n",
       "    </tr>\n",
       "    <tr>\n",
       "      <th>235</th>\n",
       "      <td>1.447689</td>\n",
       "      <td>1803.846948</td>\n",
       "      <td>59.656395</td>\n",
       "      <td>53.806263</td>\n",
       "      <td>1.258496</td>\n",
       "      <td>5.0</td>\n",
       "      <td>-0.024972</td>\n",
       "      <td>0.020333</td>\n",
       "      <td>0.086569</td>\n",
       "      <td>0.293121</td>\n",
       "      <td>...</td>\n",
       "      <td>1567</td>\n",
       "      <td>-0.664756</td>\n",
       "      <td>1.893088e+09</td>\n",
       "      <td>0.007347</td>\n",
       "      <td>3.332223</td>\n",
       "      <td>3.096476</td>\n",
       "      <td>5.307420</td>\n",
       "      <td>10.937706</td>\n",
       "      <td>157.390286</td>\n",
       "      <td>12.545529</td>\n",
       "    </tr>\n",
       "  </tbody>\n",
       "</table>\n",
       "<p>2 rows × 25 columns</p>\n",
       "</div>"
      ],
      "text/plain": [
       "     inclination     distance      mass1      mass2  coa_phase  f_ref  \\\n",
       "34      0.532770  2810.675418  47.076243  29.655835   5.629477    5.0   \n",
       "235     1.447689  1803.846948  59.656395  53.806263   1.258496    5.0   \n",
       "\n",
       "       spin1x    spin1y    spin1z    spin2x  ...  f_final       dec  \\\n",
       "34   0.274178  0.838540 -0.230261 -0.238946  ...     1567 -0.698742   \n",
       "235 -0.024972  0.020333  0.086569  0.293121  ...     1567 -0.664756   \n",
       "\n",
       "     trigger_time  polarization        ra    SNR_L1    SNR_H1     SNR_V1  \\\n",
       "34   1.893034e+09      0.619728  5.490057  6.509596  6.353447   8.570055   \n",
       "235  1.893088e+09      0.007347  3.332223  3.096476  5.307420  10.937706   \n",
       "\n",
       "     SNR_network_sq  SNR_network  \n",
       "34       156.186961    12.497478  \n",
       "235      157.390286    12.545529  \n",
       "\n",
       "[2 rows x 25 columns]"
      ]
     },
     "execution_count": 172,
     "metadata": {},
     "output_type": "execute_result"
    }
   ],
   "source": [
    "get_detected_SNRs(test_data_parallel)['network']"
   ]
  },
  {
   "cell_type": "code",
   "execution_count": 173,
   "id": "cc5c7c85-036e-4a4a-a62a-4e03aea67db0",
   "metadata": {},
   "outputs": [
    {
     "data": {
      "text/plain": [
       "[<matplotlib.lines.Line2D at 0x10bd0a190>]"
      ]
     },
     "execution_count": 173,
     "metadata": {},
     "output_type": "execute_result"
    },
    {
     "data": {
      "image/png": "[encoded data removed]",
      "text/plain": [
       "<Figure size 640x480 with 1 Axes>"
      ]
     },
     "metadata": {},
     "output_type": "display_data"
    }
   ],
   "source": [
    "plt.plot(test_data_serial['SNR_network'], 'bo')\n",
    "plt.plot(test_data_parallel['SNR_network'], 'g.')\n",
    "plt.plot(test_data_local['SNR_network'], 'y.')"
   ]
  },
  {
   "cell_type": "code",
   "execution_count": null,
   "id": "dd4d418e-8d26-4a0d-915a-45613a600c82",
   "metadata": {},
   "outputs": [],
   "source": []
  },
  {
   "cell_type": "code",
   "execution_count": null,
   "id": "3ddd0a65-b001-49f6-837a-d383e588c2cd",
   "metadata": {},
   "outputs": [],
   "source": []
  }
 ],
 "metadata": {
  "kernelspec": {
   "display_name": "gwforge_18Oct24",
   "language": "python",
   "name": "gwforge_18oct24"
  },
  "language_info": {
   "codemirror_mode": {
    "name": "ipython",
    "version": 3
   },
   "file_extension": ".py",
   "mimetype": "text/x-python",
   "name": "python",
   "nbconvert_exporter": "python",
   "pygments_lexer": "ipython3",
   "version": "3.9.18"
  }
 },
 "nbformat": 4,
 "nbformat_minor": 5
}
