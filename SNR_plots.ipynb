{
 "cells": [
  {
   "cell_type": "code",
   "execution_count": 1,
   "id": "4a809691-58cb-4e2e-932c-fa871b4c59c0",
   "metadata": {},
   "outputs": [],
   "source": [
    "import deepdish as dd\n",
    "import os\n",
    "import numpy as np"
   ]
  },
  {
   "cell_type": "code",
   "execution_count": 2,
   "id": "189974ed-2ccf-4da7-b3d8-0aedd7a7f0e9",
   "metadata": {},
   "outputs": [],
   "source": [
    "python = '/Users/gravity/opt/anaconda3/envs/gwforge_18Oct24/bin/python'"
   ]
  },
  {
   "cell_type": "code",
   "execution_count": 17,
   "id": "82097f7b-c569-45bd-bd07-a00d3f8ecf24",
   "metadata": {},
   "outputs": [
    {
     "name": "stdout",
     "output_type": "stream",
     "text": [
      "File found\n"
     ]
    },
    {
     "name": "stderr",
     "output_type": "stream",
     "text": [
      "WARNING:root:PSD model /Users/gravity/ACADEMIC/Projects/IITM_GW/Phenomhh/HM_detect_PyCBC/data_files/psd_voyager.dat not available. \n",
      "Checking if this is a file path..\n"
     ]
    },
    {
     "name": "stdout",
     "output_type": "stream",
     "text": [
      "Calculating SNR for L1\n",
      "Calculating SNR for H1\n",
      "Calculating SNR for V1\n",
      "Writing results to file\n",
      "Done!\n"
     ]
    },
    {
     "data": {
      "text/plain": [
       "0"
      ]
     },
     "execution_count": 17,
     "metadata": {},
     "output_type": "execute_result"
    }
   ],
   "source": [
    "#os.system(f'{python} gen_WF_calc_SNR.py \\\n",
    "            --param-file /Users/gravity/ACADEMIC/Projects/Cardiff_University/gwforge/test_pop_day.h5 \\\n",
    "            --approximant IMRPhenomPv2 \\\n",
    "            --detectors-and-psds \\\n",
    "                L1:aLIGOZeroDetHighPower \\\n",
    "                H1:aLIGOZeroDetHighPower \\\n",
    "                V1:AdvVirgo \\\n",
    "            --is-asd \\\n",
    "            --set-name 31_days_prec_z_10_')"
   ]
  },
  {
   "cell_type": "code",
   "execution_count": 38,
   "id": "911e1adc-9f03-4bb0-b94f-74b3d879fe0b",
   "metadata": {},
   "outputs": [],
   "source": [
    "test_data = dd.io.load('../output_data/1_day_prec_z_10_SNR_data.h5')['Optimal_SNR']"
   ]
  },
  {
   "cell_type": "code",
   "execution_count": 39,
   "id": "2bd2f5a1-3e64-4547-bccf-e23173a3b0c2",
   "metadata": {},
   "outputs": [
    {
     "data": {
      "text/plain": [
       "Index(['inclination', 'distance', 'mass1', 'mass2', 'coa_phase', 'f_ref',\n",
       "       'spin1x', 'spin1y', 'spin1z', 'spin2x', 'spin2y', 'spin2z',\n",
       "       'approximant', 'f_lower', 'delta_f', 'f_final', 'dec', 'trigger_time',\n",
       "       'polarization', 'ra', 'SNR_L1', 'SNR_H1', 'SNR_V1', 'SNR_network_sq',\n",
       "       'SNR_network'],\n",
       "      dtype='object')"
      ]
     },
     "execution_count": 39,
     "metadata": {},
     "output_type": "execute_result"
    }
   ],
   "source": [
    "test_data.keys()"
   ]
  },
  {
   "cell_type": "code",
   "execution_count": 40,
   "id": "a51503d0-2ef9-41c3-b0a2-86fdb113e358",
   "metadata": {},
   "outputs": [],
   "source": [
    "SNRs = {}\n",
    "detected_SNRs = {}\n",
    "SNR_threshold = 10\n",
    "for det in ['L1', 'H1', 'V1', 'network', 'network_sq']:\n",
    "    if det == 'network_sq':\n",
    "        SNR_threshold = SNR_threshold**2\n",
    "    SNRs[det] = np.array(test_data['SNR_'+det])\n",
    "    detected_SNRs[det] = SNRs[det][np.where(SNRs[det] >= SNR_threshold)]"
   ]
  },
  {
   "cell_type": "code",
   "execution_count": 41,
   "id": "defe06f7-d9aa-4bd7-9ec4-2d840f8dc977",
   "metadata": {},
   "outputs": [
    {
     "name": "stdout",
     "output_type": "stream",
     "text": [
      "0.8712575053591547 0.8712575053591547 0.8712575053591547\n",
      "0.5668601385907314 0.5668601385907314 0.5668601385907314\n",
      "47.83723459159324 47.83723459159324 47.83723459159324\n",
      "0.6815772415593295 0.6815772415593295 0.6815772415593295\n",
      "1.0493144572807556 1.0493144572807556 1.0493144572807556\n",
      "0.22184313321502608 0.22184313321502608 0.22184313321502608\n",
      "1.1698793222009567 1.1698793222009567 1.1698793222009567\n",
      "0.7022796639920941 0.7022796639920941 0.7022796639920941\n",
      "0.25419825729008233 0.25419825729008233 0.25419825729008233\n"
     ]
    }
   ],
   "source": [
    "netw_sq = SNRs['H1']**2 + SNRs['L1']**2 + SNRs['V1']**2\n",
    "for i in range(9):\n",
    "    print(SNRs['H1'][i]**2 + SNRs['L1'][i]**2 + SNRs['V1'][i]**2, netw_sq[i], SNRs['network_sq'][i])"
   ]
  },
  {
   "cell_type": "code",
   "execution_count": 42,
   "id": "51b94a71-6ebf-488c-b9d0-28161d403483",
   "metadata": {},
   "outputs": [
    {
     "data": {
      "text/plain": [
       "{'L1': array([], dtype=float64),\n",
       " 'H1': array([], dtype=float64),\n",
       " 'V1': array([10.93770602]),\n",
       " 'network': array([12.49747802, 12.54552827]),\n",
       " 'network_sq': array([156.18695676, 157.39027967])}"
      ]
     },
     "execution_count": 42,
     "metadata": {},
     "output_type": "execute_result"
    }
   ],
   "source": [
    "detected_SNRs"
   ]
  },
  {
   "cell_type": "code",
   "execution_count": null,
   "id": "730fc1fc-ab6e-44e0-90db-25b9bc864840",
   "metadata": {},
   "outputs": [],
   "source": []
  }
 ],
 "metadata": {
  "kernelspec": {
   "display_name": "gwforge_18Oct24",
   "language": "python",
   "name": "gwforge_18oct24"
  },
  "language_info": {
   "codemirror_mode": {
    "name": "ipython",
    "version": 3
   },
   "file_extension": ".py",
   "mimetype": "text/x-python",
   "name": "python",
   "nbconvert_exporter": "python",
   "pygments_lexer": "ipython3",
   "version": "3.9.18"
  }
 },
 "nbformat": 4,
 "nbformat_minor": 5
}
