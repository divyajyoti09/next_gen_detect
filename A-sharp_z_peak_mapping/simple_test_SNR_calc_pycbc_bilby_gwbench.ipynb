{
 "cells": [
  {
   "cell_type": "code",
   "execution_count": 1,
   "id": "e5ff518f-6618-4cfe-ac1e-b36779febf6b",
   "metadata": {},
   "outputs": [],
   "source": [
    "import warnings\n",
    "warnings.filterwarnings(\"ignore\", \"Wswiglal-redir-stdio\")\n",
    "import h5py\n",
    "import pandas as pd\n",
    "import os\n",
    "import numpy as np\n",
    "import pylab as plt\n",
    "from pesummary.gw.conversions.spins import spin_angles\n",
    "import bilby\n",
    "import sys\n",
    "import pesummary\n",
    "from pesummary.utils.samples_dict import SamplesDict\n",
    "import sys"
   ]
  },
  {
   "cell_type": "markdown",
   "id": "fe6e1756-14a5-47ee-8962-b1d08a1d86a3",
   "metadata": {},
   "source": [
    "## Parameters"
   ]
  },
  {
   "cell_type": "code",
   "execution_count": 2,
   "id": "4b6aedf0-0abd-4081-9fed-b927f640bc0f",
   "metadata": {},
   "outputs": [],
   "source": [
    "f_low = 10\n",
    "f_ref = f_low\n",
    "\n",
    "param_dict = {\n",
    "    'mass_1': 38.64693598,\n",
    "    'mass_2': 17.87341125,\n",
    "    'luminosity_distance': 985.39919979,\n",
    "    'theta_jn': 1.42311665,\n",
    "    'ra': 1.8892089,\n",
    "    'dec': 1.59878643,\n",
    "    'psi': 2.01666645,\n",
    "    'geocent_time': 0,\n",
    "    'phase': 0,\n",
    "    'a_1': 0.25482327,\n",
    "    'a_2': 0.17168806,\n",
    "    'tilt_1': 0.78275606,\n",
    "    'tilt_2': 1.813414,\n",
    "    'phi_12': 0.39800541,\n",
    "    'phi_jl': 1.50715013,\n",
    "    #'reference_frequency': f_ref\n",
    "}\n",
    "\"\"\"\n",
    "param_dict = {\n",
    "    'mass_1': 30,\n",
    "    'mass_2': 20,\n",
    "    'luminosity_distance': 500,\n",
    "    'theta_jn': 0,\n",
    "    'ra': np.pi/3,\n",
    "    'dec': np.pi/4,\n",
    "    'psi': np.pi/3,\n",
    "    'geocent_time': 0,\n",
    "    'phase': 0,\n",
    "    'a_1': 0.0,\n",
    "    'a_2': 0.0,\n",
    "    'tilt_1': np.pi/4,\n",
    "    'tilt_2': np.pi/6,\n",
    "    'phi_12': np.pi/4,\n",
    "    'phi_jl': np.pi/2,\n",
    "    #'reference_frequency': f_ref\n",
    "}\n",
    "\"\"\"\n",
    "approx = 'IMRPhenomXPHM'\n",
    "delta_f = 1./100,\n",
    "f_high = 4096"
   ]
  },
  {
   "cell_type": "code",
   "execution_count": 3,
   "id": "384caa5a-8c7d-40e9-8d74-9bd419d7a5a9",
   "metadata": {
    "scrolled": true
   },
   "outputs": [
    {
     "name": "stderr",
     "output_type": "stream",
     "text": [
      "2025-09-16  00:19:56 PESummary WARNING : The redshift is being approximated using interpolation. Bear in mind that this does introduce a small error.\n",
      "2025-09-16  00:19:56 PESummary INFO    : Averaging the final spin from the following fits: function bbh_final_spin_precessing_projected_UIB2016 at 0x79f70d7a27a0, function bbh_final_spin_precessing_projected_Healyetal at 0x79f70d7a25f0, function bbh_final_spin_precessing_HBR2016 at 0x79f70d7a2950\n",
      "2025-09-16  00:19:56 PESummary INFO    : Averaging the peak luminosity from the following fits: function bbh_peak_luminosity_non_precessing_UIB2016 at 0x79f70d7a29e0, function bbh_peak_luminosity_non_precessing_Healyetal at 0x79f70d7a2a70\n",
      "2025-09-16  00:19:56 PESummary INFO    : Averaging the final mass from the following fits: function bbh_final_mass_non_precessing_UIB2016 at 0x79f70d7a1f30, function bbh_final_mass_non_precessing_Healyetal at 0x79f70d7a0940\n"
     ]
    },
    {
     "data": {
      "text/plain": [
       "{'mass_1': Array([38.64693598]),\n",
       " 'mass_2': Array([17.87341125]),\n",
       " 'luminosity_distance': Array([985.39919979]),\n",
       " 'theta_jn': Array([1.42311665]),\n",
       " 'ra': Array([1.8892089]),\n",
       " 'dec': Array([1.59878643]),\n",
       " 'psi': Array([2.01666645]),\n",
       " 'geocent_time': Array([0.]),\n",
       " 'phase': Array([0.]),\n",
       " 'a_1': Array([0.25482327]),\n",
       " 'a_2': Array([0.17168806]),\n",
       " 'tilt_1': Array([0.78275606]),\n",
       " 'tilt_2': Array([1.813414]),\n",
       " 'phi_12': Array([0.39800541]),\n",
       " 'phi_jl': Array([1.50715013]),\n",
       " 'redshift': Array([0.19537723]),\n",
       " 'comoving_distance': Array([824.34162341]),\n",
       " 'comoving_volume': Array([2.34644456e+09]),\n",
       " 'mass_ratio': Array([0.46247939]),\n",
       " 'inverted_mass_ratio': Array([2.16225853]),\n",
       " 'total_mass': Array([56.52034723]),\n",
       " 'chirp_mass': Array([22.55031149]),\n",
       " 'symmetric_mass_ratio': Array([0.21622847]),\n",
       " 'mass_1_source': Array([32.33032645]),\n",
       " 'mass_2_source': Array([14.95210955]),\n",
       " 'total_mass_source': Array([47.282436]),\n",
       " 'chirp_mass_source': Array([18.86459854]),\n",
       " 'iota': Array([1.34036117]),\n",
       " 'spin_1x': Array([-0.02321944]),\n",
       " 'spin_1y': Array([-0.17820422]),\n",
       " 'spin_1z': Array([0.18066271]),\n",
       " 'spin_2x': Array([0.04420253]),\n",
       " 'spin_2y': Array([-0.16069102]),\n",
       " 'spin_2z': Array([-0.0412471]),\n",
       " 'phi_1': Array([4.58282212]),\n",
       " 'phi_2': Array([4.98082753]),\n",
       " 'chi_p': Array([0.17971056]),\n",
       " 'chi_p_2spin': Array([0.20568717]),\n",
       " 'chi_eff': Array([0.11048824]),\n",
       " 'beta': Array([0.08292587]),\n",
       " 'psi_J': Array([3.5820514]),\n",
       " 'final_spin_non_evolved': Array([0.67530435]),\n",
       " 'peak_luminosity_non_evolved': Array([2.85090626]),\n",
       " 'final_mass_non_evolved': Array([54.25391882]),\n",
       " 'cos_tilt_1': Array([0.70897256]),\n",
       " 'cos_tilt_2': Array([-0.24024445]),\n",
       " 'final_mass_source_non_evolved': Array([45.3864417]),\n",
       " 'radiated_energy_non_evolved': Array([1.8959943]),\n",
       " 'cos_theta_jn': Array([0.14714346]),\n",
       " 'viewing_angle': Array([1.42311665]),\n",
       " 'cos_iota': Array([0.2284012])}"
      ]
     },
     "execution_count": 3,
     "metadata": {},
     "output_type": "execute_result"
    }
   ],
   "source": [
    "samples = SamplesDict({key:[val] for key, val in param_dict.items()})\n",
    "samples.generate_all_posterior_samples(delta_f = delta_f, f_start = f_low, f_low=f_low, f_final=f_high, f_ref=f_ref)\n",
    "samples"
   ]
  },
  {
   "cell_type": "markdown",
   "id": "a13b2cb9-1c2d-4b00-8067-dbd86b02d54f",
   "metadata": {},
   "source": [
    "## PyCBC"
   ]
  },
  {
   "cell_type": "code",
   "execution_count": 4,
   "id": "157f0bbc-a011-4053-8251-fc8e71caf951",
   "metadata": {},
   "outputs": [],
   "source": [
    "from pycbc.waveform import get_fd_waveform\n",
    "from pycbc.detector import Detector\n",
    "from pycbc.filter.matchedfilter import sigmasq, sigma, FrequencySeries, TimeSeries\n",
    "import pycbc"
   ]
  },
  {
   "cell_type": "code",
   "execution_count": 5,
   "id": "7ee919cd-948e-42a2-b43f-8107850c0e1e",
   "metadata": {},
   "outputs": [],
   "source": [
    "PyCBC_wf_gen_keys_map = {\n",
    "    'mass_1':'mass1', \n",
    "    'mass_2':'mass2', \n",
    "    'luminosity_distance':'distance',\n",
    "    'iota':'inclination',\n",
    "    'geocent_time':'trigger_time',\n",
    "    'phase':'coa_phase',\n",
    "    'ra':'ra',\n",
    "    'dec':'dec',\n",
    "    'psi':'polarization',\n",
    "    'spin_1x':'spin1x',\n",
    "    'spin_1y':'spin1y',\n",
    "    'spin_1z':'spin1z',\n",
    "    'spin_2x':'spin2x',\n",
    "    'spin_2y':'spin2y',\n",
    "    'spin_2z':'spin2z',\n",
    "    #'reference_frequency':'f_ref'\n",
    "}"
   ]
  },
  {
   "cell_type": "code",
   "execution_count": 6,
   "id": "09204c5c-a7de-43ed-b410-dd02f328932e",
   "metadata": {
    "scrolled": true
   },
   "outputs": [
    {
     "data": {
      "text/plain": [
       "{'mass1': Array([38.64693598]),\n",
       " 'mass2': Array([17.87341125]),\n",
       " 'distance': Array([985.39919979]),\n",
       " 'inclination': Array([1.34036117]),\n",
       " 'trigger_time': Array([0.]),\n",
       " 'coa_phase': Array([0.]),\n",
       " 'ra': Array([1.8892089]),\n",
       " 'dec': Array([1.59878643]),\n",
       " 'polarization': Array([2.01666645]),\n",
       " 'spin1x': Array([-0.02321944]),\n",
       " 'spin1y': Array([-0.17820422]),\n",
       " 'spin1z': Array([0.18066271]),\n",
       " 'spin2x': Array([0.04420253]),\n",
       " 'spin2y': Array([-0.16069102]),\n",
       " 'spin2z': Array([-0.0412471])}"
      ]
     },
     "execution_count": 6,
     "metadata": {},
     "output_type": "execute_result"
    }
   ],
   "source": [
    "PyCBC_samples = {PyCBC_wf_gen_keys_map[key]:samples[key] for key in PyCBC_wf_gen_keys_map.keys()}\n",
    "PyCBC_samples"
   ]
  },
  {
   "cell_type": "code",
   "execution_count": 7,
   "id": "094bd33e-160b-49a6-b0b7-1861f1987d94",
   "metadata": {},
   "outputs": [],
   "source": [
    "def calc_PyCBC_snr(params_dict, f_low, f_high):\n",
    "    hp, hc = get_fd_waveform(**params_dict)\n",
    "    dets = ['L1', 'H1', 'I1']\n",
    "    hf = {}\n",
    "    snrs = {}\n",
    "    psds = {}\n",
    "    snr_sq_netw = 0\n",
    "    for det in dets:\n",
    "        fp, fc = Detector(det).antenna_pattern(params_dict['ra'], params_dict['dec'], params_dict['polarization'], params_dict['trigger_time'])\n",
    "        hf[det] = hp*fp + hc*fc\n",
    "        psds[det] = pycbc.psd.read.from_txt('../noise_curves/Asharp-asd.txt', len(hf[det]), hf[det].delta_f, f_low)\n",
    "        snr_sq = sigmasq(hf[det], psd=psds[det], low_frequency_cutoff=f_low, high_frequency_cutoff=f_high)\n",
    "        snrs[f'SNR_{det}'] = np.sqrt(snr_sq)\n",
    "        snr_sq_netw += snr_sq\n",
    "    snrs['SNR_network'] = np.sqrt(snr_sq_netw)\n",
    "    return(hf, snrs, psds)"
   ]
  },
  {
   "cell_type": "code",
   "execution_count": 8,
   "id": "79dc93d3-8b44-4350-89a2-ec17e8bf9fad",
   "metadata": {},
   "outputs": [
    {
     "data": {
      "text/plain": [
       "{'mass1': 38.64693598,\n",
       " 'mass2': 17.87341125,\n",
       " 'distance': 985.39919979,\n",
       " 'inclination': 1.3403611696729574,\n",
       " 'trigger_time': 0.0,\n",
       " 'coa_phase': 0.0,\n",
       " 'ra': 1.8892089,\n",
       " 'dec': 1.59878643,\n",
       " 'polarization': 2.01666645,\n",
       " 'spin1x': -0.023219439502729415,\n",
       " 'spin1y': -0.178204217619192,\n",
       " 'spin1z': 0.1806627061277552,\n",
       " 'spin2x': 0.044202532562217546,\n",
       " 'spin2y': -0.16069101545104217,\n",
       " 'spin2z': -0.04124710432215358,\n",
       " 'approximant': 'IMRPhenomXPHM',\n",
       " 'f_lower': 10,\n",
       " 'delta_f': 0.01,\n",
       " 'f_final': 4096,\n",
       " 'f_ref': 10}"
      ]
     },
     "execution_count": 8,
     "metadata": {},
     "output_type": "execute_result"
    }
   ],
   "source": [
    "PyCBC_samples_wf_gen = {key: PyCBC_samples[key][0] for key in PyCBC_wf_gen_keys_map.values()}\n",
    "PyCBC_samples_wf_gen.update(approximant=approx, f_lower=f_low, delta_f=delta_f[0], f_final=f_high, f_ref=f_ref)\n",
    "PyCBC_samples_wf_gen"
   ]
  },
  {
   "cell_type": "code",
   "execution_count": 9,
   "id": "41617cb7-e05d-48ed-b147-bce4eef6be80",
   "metadata": {},
   "outputs": [],
   "source": [
    "pycbc_hfs, pycbc_snrs, pycbc_psds = calc_PyCBC_snr(PyCBC_samples_wf_gen, f_low, f_high)"
   ]
  },
  {
   "cell_type": "code",
   "execution_count": 10,
   "id": "6512e9fa-e7d0-4dd3-b94f-9437b2272836",
   "metadata": {},
   "outputs": [
    {
     "data": {
      "text/plain": [
       "{'SNR_L1': 16.49796390063354,\n",
       " 'SNR_H1': 28.324489076649478,\n",
       " 'SNR_I1': 13.823906951088633,\n",
       " 'SNR_network': 35.57470868063714}"
      ]
     },
     "execution_count": 10,
     "metadata": {},
     "output_type": "execute_result"
    }
   ],
   "source": [
    "pycbc_snrs"
   ]
  },
  {
   "cell_type": "markdown",
   "id": "d6297f08-149d-4e1a-add3-85f64093942b",
   "metadata": {},
   "source": [
    "## Bilby"
   ]
  },
  {
   "cell_type": "code",
   "execution_count": 11,
   "id": "99625ca8-8f78-4a6a-972e-f2c7cda94cad",
   "metadata": {},
   "outputs": [],
   "source": [
    "import bilby\n",
    "bilby.core.utils.log.setup_logger(log_level=\"warning\")"
   ]
  },
  {
   "cell_type": "code",
   "execution_count": 12,
   "id": "52d868d6-e182-4b2b-9a9e-2556d8244d48",
   "metadata": {},
   "outputs": [],
   "source": [
    "def calc_bilby_snr(injection_parameters):\n",
    "    waveform_arguments = dict(\n",
    "        waveform_approximant=approx,\n",
    "        reference_frequency=f_ref,\n",
    "        minimum_frequency=f_low\n",
    "    )\n",
    "    duration = 100\n",
    "    # Create the waveform_generator using a LAL BinaryBlackHole source function\n",
    "    waveform_generator = bilby.gw.WaveformGenerator(\n",
    "        duration=duration,\n",
    "        sampling_frequency=2*f_high,\n",
    "        frequency_domain_source_model=bilby.gw.source.lal_binary_black_hole,\n",
    "        parameter_conversion=bilby.gw.conversion.convert_to_lal_binary_black_hole_parameters,\n",
    "        waveform_arguments=waveform_arguments\n",
    "    )\n",
    "    \n",
    "    ifos = bilby.gw.detector.InterferometerList([\"L1\", \"H1\", \"A1\"])\n",
    "    ifos.set_strain_data_from_zero_noise(\n",
    "        sampling_frequency=2*f_high,\n",
    "        duration=duration,\n",
    "        start_time=injection_parameters[\"geocent_time\"] - duration + 2,\n",
    "    )\n",
    "    \n",
    "    for ifo in ifos:\n",
    "        ifo.power_spectral_density = bilby.gw.detector.psd.PowerSpectralDensity(psd_file='../noise_curves/Asharp-psd.txt')\n",
    "        ifo.minimum_frequency = f_low\n",
    "    \n",
    "    ifos.inject_signal(\n",
    "        waveform_generator=waveform_generator, parameters=injection_parameters\n",
    "    )\n",
    "\n",
    "    snrdict_return = {}\n",
    "    optsnrsquared = 0\n",
    "    for ifo in ifos:\n",
    "        det = ifo.name\n",
    "        SNR = ifos.meta_data[det][\"optimal_SNR\"]\n",
    "        snrdict_return[f'SNR_{det}'] = SNR\n",
    "        optsnrsquared += SNR ** 2\n",
    "    snrdict_return['SNR_network'] = np.sqrt(optsnrsquared)\n",
    "\n",
    "    return snrdict_return, ifos"
   ]
  },
  {
   "cell_type": "code",
   "execution_count": 13,
   "id": "0a25ee8f-3eeb-4843-bc19-9ec8e20da279",
   "metadata": {
    "scrolled": true
   },
   "outputs": [],
   "source": [
    "bilby_snr, ifos = calc_bilby_snr(param_dict)"
   ]
  },
  {
   "cell_type": "code",
   "execution_count": 14,
   "id": "442aa1fe-f27f-452b-a8e8-2770579dd962",
   "metadata": {},
   "outputs": [
    {
     "data": {
      "text/plain": [
       "({'SNR_L1': 16.441149253749053,\n",
       "  'SNR_H1': 28.256434928232153,\n",
       "  'SNR_A1': 13.785090777972817,\n",
       "  'SNR_network': 35.479095695837884},\n",
       " {'SNR_L1': 16.49796390063354,\n",
       "  'SNR_H1': 28.324489076649478,\n",
       "  'SNR_I1': 13.823906951088633,\n",
       "  'SNR_network': 35.57470868063714})"
      ]
     },
     "execution_count": 14,
     "metadata": {},
     "output_type": "execute_result"
    }
   ],
   "source": [
    "bilby_snr, pycbc_snrs"
   ]
  },
  {
   "cell_type": "markdown",
   "id": "46a3b95e-daff-4d22-ac33-dd34a69ae724",
   "metadata": {},
   "source": [
    "## GWBench"
   ]
  },
  {
   "cell_type": "code",
   "execution_count": 15,
   "id": "202afa0d-599d-4a0c-a519-26a8e7bccbc6",
   "metadata": {},
   "outputs": [],
   "source": [
    "from gwbench import Network, injections_CBC_params_redshift"
   ]
  },
  {
   "cell_type": "code",
   "execution_count": 16,
   "id": "9ba5af43-c962-404d-a574-15c69bc94fb2",
   "metadata": {},
   "outputs": [],
   "source": [
    "import gwbench"
   ]
  },
  {
   "cell_type": "code",
   "execution_count": 17,
   "id": "491e8791-bf4f-463c-92e5-6895cfcffe6c",
   "metadata": {},
   "outputs": [],
   "source": [
    "fm_params_str = 'Mc eta DL iota tc phic ra dec psi'\n",
    "def run_analysis(inj_params, logging_level='WARNING', num_cores=2):\n",
    "    f\"\"\"\n",
    "    Parameters:\n",
    "    -------------------------------------------------------------\n",
    "    inj_params: dict\n",
    "        dict with keys: Mc, eta, tc, phic, \n",
    "                        DL, iota, ra, dec, psi, \n",
    "                        chi1x, chi1y, chi1z, chi2x, chi2y, chi2z\n",
    "    Returns:\n",
    "    -----------------------\n",
    "    FM: matrix\n",
    "        Fisher matrix with parameter order as: {fm_params_str}\n",
    "    cov: matrix\n",
    "        Covariance matrix corresponding to the FM\n",
    "    errors: dict\n",
    "        Parameter errors\n",
    "    \"\"\"\n",
    "    wf_model_name = 'lal_bbh'\n",
    "    wf_other_var_dic = {'approximant':approx, 'fRef':f_ref}\n",
    "    user_psds = {'A-Sharp':{'psd_file': '/home/divyajyoti/ACADEMIC/Projects/Cardiff_University/Next_gen_detectability/scripts/next_gen_detect/noise_curves/Asharp-asd.txt', \n",
    "                            'is_asd': True},\n",
    "                 'CE40':{'psd_file': '/home/divyajyoti/ACADEMIC/Projects/Cardiff_University/Next_gen_detectability/scripts/next_gen_detect/noise_curves/CE40-asd.txt', \n",
    "                         'is_asd': True}, \n",
    "                 'CE20':{'psd_file': '/home/divyajyoti/ACADEMIC/Projects/Cardiff_University/Next_gen_detectability/scripts/next_gen_detect/noise_curves/CE20-asd.txt', \n",
    "                         'is_asd': True}, \n",
    "                 'ET10-CoBA':{'psd_file': '/home/divyajyoti/ACADEMIC/Projects/Cardiff_University/Next_gen_detectability/scripts/next_gen_detect/noise_curves/18213_ET10kmcolumns.txt', \n",
    "                              'is_asd': False}}\n",
    "    user_locs = {'C1':{'longitude': -2.06175744538, 'latitude': 0.59637900541, 'arm_azimuth':0, 'which_arm':'y', 'shape':'L'}, \n",
    "                 'I1':{'longitude': 1.34444215058, 'latitude':0.34231676739, 'arm_azimuth':2.0527812170378947, #3.623591506466807, \n",
    "                       'which_arm':'y', 'shape':'L'}}\n",
    "    conv_log = ('Mc', 'DL')\n",
    "    ana_deriv_symbs_string = 'DL tc phic ra dec psi'\n",
    "    network_spec = ['A-Sharp_L', 'A-Sharp_H', 'A-Sharp_I1']\n",
    "    df = delta_f[0]\n",
    "    f_arr = np.arange(f_low, f_high+df, df)\n",
    "    net = Network(network_spec, logger_level=logging_level)\n",
    "    net.set_net_vars(wf_model_name=wf_model_name, \n",
    "                     wf_other_var_dic=wf_other_var_dic,\n",
    "                     f=f_arr, \n",
    "                     inj_params=inj_params,\n",
    "                     deriv_symbs_string=fm_params_str,\n",
    "                     ana_deriv_symbs_string=ana_deriv_symbs_string,\n",
    "                     conv_log=conv_log, \n",
    "                     user_psds=user_psds,\n",
    "                     user_locs=user_locs,\n",
    "                     use_rot=False)\n",
    "    net.calc_snrs()\n",
    "    return(net)"
   ]
  },
  {
   "cell_type": "code",
   "execution_count": 18,
   "id": "68181eaa-4121-469d-b120-cad63a37f336",
   "metadata": {},
   "outputs": [],
   "source": [
    "gwbench_params_key = {\n",
    "    'chirp_mass':'Mc',\n",
    "    'symmetric_mass_ratio':'eta',\n",
    "    'geocent_time':'tc',\n",
    "    'phase':'phic',\n",
    "    'luminosity_distance':'DL',\n",
    "    'iota':'iota',\n",
    "    'ra':'ra',\n",
    "    'dec':'dec',\n",
    "    'psi':'psi',\n",
    "    'spin_1x':'chi1x',\n",
    "    'spin_1y':'chi1y',\n",
    "    'spin_1z':'chi1z',\n",
    "    'spin_2x':'chi2x',\n",
    "    'spin_2y':'chi2y',\n",
    "    'spin_2z':'chi2z',\n",
    "}"
   ]
  },
  {
   "cell_type": "code",
   "execution_count": 19,
   "id": "4ebb798a-8007-45ac-acfd-0a791c27373d",
   "metadata": {},
   "outputs": [
    {
     "data": {
      "text/plain": [
       "{'Mc': 22.55031149420461,\n",
       " 'eta': 0.2162284690447004,\n",
       " 'tc': 0.0,\n",
       " 'phic': 0.0,\n",
       " 'DL': 985.39919979,\n",
       " 'iota': 1.3403611696729574,\n",
       " 'ra': 1.8892089,\n",
       " 'dec': 1.59878643,\n",
       " 'psi': 2.01666645,\n",
       " 'chi1x': -0.023219439502729415,\n",
       " 'chi1y': -0.178204217619192,\n",
       " 'chi1z': 0.1806627061277552,\n",
       " 'chi2x': 0.044202532562217546,\n",
       " 'chi2y': -0.16069101545104217,\n",
       " 'chi2z': -0.04124710432215358}"
      ]
     },
     "execution_count": 19,
     "metadata": {},
     "output_type": "execute_result"
    }
   ],
   "source": [
    "gwb_inj_params = {gwbench_params_key[key]:samples[key][0] for key in gwbench_params_key}\n",
    "#gwb_inj_params.update(gmst0=bilby.gw.utils.greenwich_mean_sidereal_time(param_dict['geocent_time']))\n",
    "gwb_inj_params"
   ]
  },
  {
   "cell_type": "code",
   "execution_count": 20,
   "id": "30da9f4b-2690-444a-88dd-0ae499b483b2",
   "metadata": {},
   "outputs": [],
   "source": [
    "net = run_analysis(gwb_inj_params)"
   ]
  },
  {
   "cell_type": "code",
   "execution_count": 21,
   "id": "20c3235a-132e-4d50-94f4-51baf1e108d9",
   "metadata": {},
   "outputs": [
    {
     "name": "stdout",
     "output_type": "stream",
     "text": [
      "A-Sharp_L 13.051645521406561\n",
      "A-Sharp_H 23.739845628384415\n",
      "A-Sharp_I1 11.297051553828874\n"
     ]
    },
    {
     "data": {
      "text/plain": [
       "29.35215656618508"
      ]
     },
     "execution_count": 21,
     "metadata": {},
     "output_type": "execute_result"
    }
   ],
   "source": [
    "for det in net.detectors:\n",
    "    print(det.det_key, det.snr)\n",
    "net.snr"
   ]
  },
  {
   "cell_type": "code",
   "execution_count": 22,
   "id": "1eac8c96-1e76-4c88-abb6-ba66d770a59e",
   "metadata": {},
   "outputs": [
    {
     "data": {
      "text/plain": [
       "{'SNR_L1': 16.49796390063354,\n",
       " 'SNR_H1': 28.324489076649478,\n",
       " 'SNR_I1': 13.823906951088633,\n",
       " 'SNR_network': 35.57470868063714}"
      ]
     },
     "execution_count": 22,
     "metadata": {},
     "output_type": "execute_result"
    }
   ],
   "source": [
    "pycbc_snrs"
   ]
  },
  {
   "cell_type": "code",
   "execution_count": 23,
   "id": "0cea5b94-0f91-4056-ab64-b1c39d9fa565",
   "metadata": {},
   "outputs": [
    {
     "data": {
      "text/plain": [
       "{'SNR_L1': 16.441149253749053,\n",
       " 'SNR_H1': 28.256434928232153,\n",
       " 'SNR_A1': 13.785090777972817,\n",
       " 'SNR_network': 35.479095695837884}"
      ]
     },
     "execution_count": 23,
     "metadata": {},
     "output_type": "execute_result"
    }
   ],
   "source": [
    "bilby_snr"
   ]
  },
  {
   "cell_type": "code",
   "execution_count": null,
   "id": "e83fa207-4aad-4b4a-b8bf-475ea9dad5d5",
   "metadata": {},
   "outputs": [],
   "source": []
  },
  {
   "cell_type": "code",
   "execution_count": 40,
   "id": "893d96a7-889d-4934-98f9-e1cf08a20a99",
   "metadata": {},
   "outputs": [],
   "source": [
    "gwfish_det_dict = {'L1':'L', 'H1':'H', 'I1':'IN'}"
   ]
  },
  {
   "cell_type": "code",
   "execution_count": 41,
   "id": "db5eb638-0790-4384-b50f-92ed91daafea",
   "metadata": {},
   "outputs": [],
   "source": [
    "gwfish_input_data = pd.DataFrame({key:[val] for key, val in param_dict.items()})"
   ]
  },
  {
   "cell_type": "code",
   "execution_count": 42,
   "id": "1b52c907-6087-4d9a-9dcd-bd18cdc3ab2b",
   "metadata": {},
   "outputs": [
    {
     "data": {
      "text/html": [
       "<div>\n",
       "<style scoped>\n",
       "    .dataframe tbody tr th:only-of-type {\n",
       "        vertical-align: middle;\n",
       "    }\n",
       "\n",
       "    .dataframe tbody tr th {\n",
       "        vertical-align: top;\n",
       "    }\n",
       "\n",
       "    .dataframe thead th {\n",
       "        text-align: right;\n",
       "    }\n",
       "</style>\n",
       "<table border=\"1\" class=\"dataframe\">\n",
       "  <thead>\n",
       "    <tr style=\"text-align: right;\">\n",
       "      <th></th>\n",
       "      <th>mass_1</th>\n",
       "      <th>mass_2</th>\n",
       "      <th>luminosity_distance</th>\n",
       "      <th>theta_jn</th>\n",
       "      <th>ra</th>\n",
       "      <th>dec</th>\n",
       "      <th>psi</th>\n",
       "      <th>geocent_time</th>\n",
       "      <th>phase</th>\n",
       "      <th>a_1</th>\n",
       "      <th>a_2</th>\n",
       "      <th>tilt_1</th>\n",
       "      <th>tilt_2</th>\n",
       "      <th>phi_12</th>\n",
       "      <th>phi_jl</th>\n",
       "    </tr>\n",
       "  </thead>\n",
       "  <tbody>\n",
       "    <tr>\n",
       "      <th>0</th>\n",
       "      <td>30</td>\n",
       "      <td>20</td>\n",
       "      <td>500</td>\n",
       "      <td>0.785398</td>\n",
       "      <td>1.047198</td>\n",
       "      <td>0.785398</td>\n",
       "      <td>1.047198</td>\n",
       "      <td>0</td>\n",
       "      <td>0.785398</td>\n",
       "      <td>0.0</td>\n",
       "      <td>0.0</td>\n",
       "      <td>0.785398</td>\n",
       "      <td>0.523599</td>\n",
       "      <td>0.785398</td>\n",
       "      <td>1.570796</td>\n",
       "    </tr>\n",
       "  </tbody>\n",
       "</table>\n",
       "</div>"
      ],
      "text/plain": [
       "   mass_1  mass_2  luminosity_distance  theta_jn        ra       dec  \\\n",
       "0      30      20                  500  0.785398  1.047198  0.785398   \n",
       "\n",
       "        psi  geocent_time     phase  a_1  a_2    tilt_1    tilt_2    phi_12  \\\n",
       "0  1.047198             0  0.785398  0.0  0.0  0.785398  0.523599  0.785398   \n",
       "\n",
       "     phi_jl  \n",
       "0  1.570796  "
      ]
     },
     "execution_count": 42,
     "metadata": {},
     "output_type": "execute_result"
    }
   ],
   "source": [
    "gwfish_input_data"
   ]
  },
  {
   "cell_type": "code",
   "execution_count": 62,
   "id": "c5a24b10-8a97-40e9-ae0e-554e867b4a34",
   "metadata": {},
   "outputs": [],
   "source": [
    "# import GWFish.modules as gwf_mods\n",
    "import pathlib\n",
    "from GWFish.modules.detection import Detector\n",
    "detectors = ['A_sharp_L', 'A_sharp_H', 'A_sharp_IN']\n",
    "network = gwf_mods.detection.Network(detector_ids = detectors, detection_SNR = (0., 8.), config=pathlib.Path('detectors.yaml'))\n",
    "gwfish_snr = gwf_mods.utilities.get_snr(gwfish_input_data, network, approx, f_ref=f_ref).rename(columns={f'A_sharp_{val}':f'SNR_{key}' for key, val in gwfish_det_dict.items()}).rename(columns={'network':'SNR_network'})"
   ]
  },
  {
   "cell_type": "code",
   "execution_count": 63,
   "id": "8cc1275c-c1c4-4738-a660-e54753d32693",
   "metadata": {
    "scrolled": true
   },
   "outputs": [
    {
     "data": {
      "text/html": [
       "<div>\n",
       "<style scoped>\n",
       "    .dataframe tbody tr th:only-of-type {\n",
       "        vertical-align: middle;\n",
       "    }\n",
       "\n",
       "    .dataframe tbody tr th {\n",
       "        vertical-align: top;\n",
       "    }\n",
       "\n",
       "    .dataframe thead th {\n",
       "        text-align: right;\n",
       "    }\n",
       "</style>\n",
       "<table border=\"1\" class=\"dataframe\">\n",
       "  <thead>\n",
       "    <tr style=\"text-align: right;\">\n",
       "      <th></th>\n",
       "      <th>SNR_L1</th>\n",
       "      <th>SNR_H1</th>\n",
       "      <th>SNR_I1</th>\n",
       "      <th>SNR_network</th>\n",
       "    </tr>\n",
       "  </thead>\n",
       "  <tbody>\n",
       "    <tr>\n",
       "      <th>event_0</th>\n",
       "      <td>123.359161</td>\n",
       "      <td>108.477113</td>\n",
       "      <td>77.7113</td>\n",
       "      <td>181.724552</td>\n",
       "    </tr>\n",
       "  </tbody>\n",
       "</table>\n",
       "</div>"
      ],
      "text/plain": [
       "             SNR_L1      SNR_H1   SNR_I1  SNR_network\n",
       "event_0  123.359161  108.477113  77.7113   181.724552"
      ]
     },
     "execution_count": 63,
     "metadata": {},
     "output_type": "execute_result"
    }
   ],
   "source": [
    "gwfish_snr"
   ]
  },
  {
   "cell_type": "code",
   "execution_count": 64,
   "id": "117c2ca5-ca2f-40a1-bab3-045f2d02797c",
   "metadata": {},
   "outputs": [
    {
     "data": {
      "text/plain": [
       "{'SNR_L1': 123.31739868642305,\n",
       " 'SNR_H1': 108.45946257957475,\n",
       " 'SNR_I1': 77.71136958133104,\n",
       " 'SNR_network': 181.6856978522047}"
      ]
     },
     "execution_count": 64,
     "metadata": {},
     "output_type": "execute_result"
    }
   ],
   "source": [
    "pycbc_snrs"
   ]
  },
  {
   "cell_type": "code",
   "execution_count": 65,
   "id": "a305aff3-80e1-4cb7-94aa-aeb233d6709c",
   "metadata": {},
   "outputs": [
    {
     "data": {
      "text/plain": [
       "{'SNR_L1': 123.389663014981,\n",
       " 'SNR_H1': 108.5066750249657,\n",
       " 'SNR_A1': 77.74804325309046,\n",
       " 'SNR_network': 181.77861726179046}"
      ]
     },
     "execution_count": 65,
     "metadata": {},
     "output_type": "execute_result"
    }
   ],
   "source": [
    "bilby_snr"
   ]
  },
  {
   "cell_type": "code",
   "execution_count": null,
   "id": "f5d0f4fc-012c-48d6-ad59-dfd81f008066",
   "metadata": {},
   "outputs": [],
   "source": []
  }
 ],
 "metadata": {
  "kernelspec": {
   "display_name": "gwbench",
   "language": "python",
   "name": "gwbench"
  },
  "language_info": {
   "codemirror_mode": {
    "name": "ipython",
    "version": 3
   },
   "file_extension": ".py",
   "mimetype": "text/x-python",
   "name": "python",
   "nbconvert_exporter": "python",
   "pygments_lexer": "ipython3",
   "version": "3.10.13"
  }
 },
 "nbformat": 4,
 "nbformat_minor": 5
}
