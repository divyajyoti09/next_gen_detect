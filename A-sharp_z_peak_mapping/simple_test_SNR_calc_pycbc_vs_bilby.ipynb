{
 "cells": [
  {
   "cell_type": "code",
   "execution_count": 19,
   "id": "e5ff518f-6618-4cfe-ac1e-b36779febf6b",
   "metadata": {},
   "outputs": [],
   "source": [
    "import warnings\n",
    "warnings.filterwarnings(\"ignore\", \"Wswiglal-redir-stdio\")\n",
    "import pandas as pd\n",
    "import os\n",
    "import numpy as np\n",
    "import pylab as plt\n",
    "from pesummary.gw.conversions.spins import spin_angles\n",
    "import bilby\n",
    "import sys\n",
    "import pesummary\n",
    "from pesummary.utils.samples_dict import SamplesDict\n",
    "import sys"
   ]
  },
  {
   "cell_type": "markdown",
   "id": "fe6e1756-14a5-47ee-8962-b1d08a1d86a3",
   "metadata": {},
   "source": [
    "## Parameters"
   ]
  },
  {
   "cell_type": "code",
   "execution_count": 33,
   "id": "4b6aedf0-0abd-4081-9fed-b927f640bc0f",
   "metadata": {},
   "outputs": [],
   "source": [
    "param_dict = {\n",
    "    'mass_1': 101.074872,\n",
    "    'mass_2': 92.346816,\n",
    "    'luminosity_distance': 1338.594547,\n",
    "    'theta_jn': 1.985243,\n",
    "    'ra': 3.911826,\n",
    "    'dec': -0.785394,\n",
    "    'psi': 2.725428,\n",
    "    'geocent_time': 1.898149e9,\n",
    "    'phase': 2.925349,\n",
    "    'a_1': 0.381862,\n",
    "    'a_2': 0.571084,\n",
    "    'tilt_1': 2.586043,\n",
    "    'tilt_2': 2.641905,\n",
    "    'phi_12': 0.402861,\n",
    "    'phi_jl': 5.313141\n",
    "}\n",
    "approx = 'IMRPhenomXPHM'\n",
    "delta_f = 1./100,\n",
    "f_low = 10\n",
    "f_ref = f_low\n",
    "f_high = 2048"
   ]
  },
  {
   "cell_type": "code",
   "execution_count": 34,
   "id": "384caa5a-8c7d-40e9-8d74-9bd419d7a5a9",
   "metadata": {
    "scrolled": true
   },
   "outputs": [
    {
     "name": "stderr",
     "output_type": "stream",
     "text": [
      "\u001b[32m2025-08-29  21:30:01\u001b[0m \u001b[34mPESummary\u001b[0m \u001b[1;30mWARNING :\u001b[0m \u001b[33mThe redshift is being approximated using interpolation. Bear in mind that this does introduce a small error.\u001b[0m\n",
      "\u001b[32m2025-08-29  21:30:01\u001b[0m \u001b[34mPESummary\u001b[0m \u001b[1;30mINFO    :\u001b[0m Averaging the final spin from the following fits: function bbh_final_spin_precessing_projected_UIB2016 at 0x7490af73c2c0, function bbh_final_spin_precessing_projected_Healyetal at 0x7490af73c860, function bbh_final_spin_precessing_HBR2016 at 0x7490af73c360\n",
      "\u001b[32m2025-08-29  21:30:01\u001b[0m \u001b[34mPESummary\u001b[0m \u001b[1;30mINFO    :\u001b[0m Averaging the peak luminosity from the following fits: function bbh_peak_luminosity_non_precessing_UIB2016 at 0x7490af73e8e0, function bbh_peak_luminosity_non_precessing_Healyetal at 0x7490af73e980\n",
      "\u001b[32m2025-08-29  21:30:01\u001b[0m \u001b[34mPESummary\u001b[0m \u001b[1;30mINFO    :\u001b[0m Averaging the final mass from the following fits: function bbh_final_mass_non_precessing_UIB2016 at 0x7490af73d120, function bbh_final_mass_non_precessing_Healyetal at 0x7490af7318a0\n"
     ]
    },
    {
     "data": {
      "text/plain": [
       "{'mass_1': Array([101.074872]),\n",
       " 'mass_2': Array([92.346816]),\n",
       " 'luminosity_distance': Array([1338.594547]),\n",
       " 'theta_jn': Array([1.985243]),\n",
       " 'ra': Array([3.911826]),\n",
       " 'dec': Array([-0.785394]),\n",
       " 'psi': Array([2.725428]),\n",
       " 'geocent_time': Array([1.898149e+09]),\n",
       " 'phase': Array([2.925349]),\n",
       " 'a_1': Array([0.381862]),\n",
       " 'a_2': Array([0.571084]),\n",
       " 'tilt_1': Array([2.586043]),\n",
       " 'tilt_2': Array([2.641905]),\n",
       " 'phi_12': Array([0.402861]),\n",
       " 'phi_jl': Array([5.313141]),\n",
       " 'redshift': Array([0.25650865]),\n",
       " 'comoving_distance': Array([1065.32855064]),\n",
       " 'mass_ratio': Array([0.91364762]),\n",
       " 'inverted_mass_ratio': Array([1.09451388]),\n",
       " 'total_mass': Array([193.421688]),\n",
       " 'chirp_mass': Array([84.08877812]),\n",
       " 'symmetric_mass_ratio': Array([0.24949094]),\n",
       " 'mass_1_source': Array([80.44104722]),\n",
       " 'mass_2_source': Array([73.49477115]),\n",
       " 'total_mass_source': Array([153.93581837]),\n",
       " 'chirp_mass_source': Array([66.92256184]),\n",
       " 'iota': Array([2.1138162]),\n",
       " 'spin_1x': Array([0.12202995]),\n",
       " 'spin_1y': Array([-0.16021809]),\n",
       " 'spin_1z': Array([-0.32443403]),\n",
       " 'spin_2x': Array([0.23787037]),\n",
       " 'spin_2y': Array([-0.135256]),\n",
       " 'spin_2z': Array([-0.50125885]),\n",
       " 'phi_1': Array([5.36330385]),\n",
       " 'phi_2': Array([5.76616485]),\n",
       " 'chi_p': Array([0.24680399]),\n",
       " 'chi_p_2spin': Array([0.40646658]),\n",
       " 'chi_eff': Array([-0.40885688]),\n",
       " 'beta': Array([0.15836695]),\n",
       " 'psi_J': Array([4.19191212]),\n",
       " 'final_spin_non_evolved': Array([0.56876728]),\n",
       " 'peak_luminosity_non_evolved': Array([3.13698557]),\n",
       " 'final_mass_non_evolved': Array([185.80843433]),\n",
       " 'cos_tilt_1': Array([-0.84961068]),\n",
       " 'cos_tilt_2': Array([-0.87773227]),\n",
       " 'final_mass_source_non_evolved': Array([147.87676446]),\n",
       " 'radiated_energy_non_evolved': Array([6.05905391]),\n",
       " 'cos_theta_jn': Array([-0.40268351]),\n",
       " 'viewing_angle': Array([1.15634965]),\n",
       " 'cos_iota': Array([-0.51672381])}"
      ]
     },
     "execution_count": 34,
     "metadata": {},
     "output_type": "execute_result"
    }
   ],
   "source": [
    "samples = SamplesDict({key:[val] for key, val in param_dict.items()})\n",
    "samples.generate_all_posterior_samples(delta_f = delta_f, f_start = f_low, f_low=f_low, f_ref=f_ref, f_final=f_high)\n",
    "samples"
   ]
  },
  {
   "cell_type": "markdown",
   "id": "7fd01c0d-35b9-4d7d-8efe-b7b64341fbe8",
   "metadata": {},
   "source": [
    "## PyCBC"
   ]
  },
  {
   "cell_type": "code",
   "execution_count": 35,
   "id": "157f0bbc-a011-4053-8251-fc8e71caf951",
   "metadata": {},
   "outputs": [],
   "source": [
    "from pycbc.waveform import get_fd_waveform\n",
    "from pycbc.detector import Detector\n",
    "from pycbc.filter.matchedfilter import sigmasq\n",
    "import pycbc"
   ]
  },
  {
   "cell_type": "code",
   "execution_count": 36,
   "id": "7ee919cd-948e-42a2-b43f-8107850c0e1e",
   "metadata": {},
   "outputs": [],
   "source": [
    "PyCBC_wf_gen_keys_map = {\n",
    "    'mass_1':'mass1', \n",
    "    'mass_2':'mass2', \n",
    "    'luminosity_distance':'distance',\n",
    "    'iota':'inclination',\n",
    "    'geocent_time':'trigger_time',\n",
    "    'phase':'coa_phase',\n",
    "    'ra':'ra',\n",
    "    'dec':'dec',\n",
    "    'psi':'polarization',\n",
    "    'spin_1x':'spin1x',\n",
    "    'spin_1y':'spin1y',\n",
    "    'spin_1z':'spin1z',\n",
    "    'spin_2x':'spin2x',\n",
    "    'spin_2y':'spin2y',\n",
    "    'spin_2z':'spin2z'\n",
    "}"
   ]
  },
  {
   "cell_type": "code",
   "execution_count": 37,
   "id": "09204c5c-a7de-43ed-b410-dd02f328932e",
   "metadata": {
    "scrolled": true
   },
   "outputs": [
    {
     "data": {
      "text/plain": [
       "{'mass1': Array([101.074872]),\n",
       " 'mass2': Array([92.346816]),\n",
       " 'distance': Array([1338.594547]),\n",
       " 'inclination': Array([2.1138162]),\n",
       " 'trigger_time': Array([1.898149e+09]),\n",
       " 'coa_phase': Array([2.925349]),\n",
       " 'ra': Array([3.911826]),\n",
       " 'dec': Array([-0.785394]),\n",
       " 'polarization': Array([2.725428]),\n",
       " 'spin1x': Array([0.12202995]),\n",
       " 'spin1y': Array([-0.16021809]),\n",
       " 'spin1z': Array([-0.32443403]),\n",
       " 'spin2x': Array([0.23787037]),\n",
       " 'spin2y': Array([-0.135256]),\n",
       " 'spin2z': Array([-0.50125885])}"
      ]
     },
     "execution_count": 37,
     "metadata": {},
     "output_type": "execute_result"
    }
   ],
   "source": [
    "PyCBC_samples = {PyCBC_wf_gen_keys_map[key]:samples[key] for key in PyCBC_wf_gen_keys_map.keys()}\n",
    "PyCBC_samples"
   ]
  },
  {
   "cell_type": "code",
   "execution_count": 38,
   "id": "094bd33e-160b-49a6-b0b7-1861f1987d94",
   "metadata": {},
   "outputs": [],
   "source": [
    "def calc_PyCBC_snr(params_dict, f_low, f_high):\n",
    "    hp, hc = get_fd_waveform(**params_dict)\n",
    "    dets = ['L1', 'H1', 'I1']\n",
    "    hf = {}\n",
    "    snrs = {}\n",
    "    snr_sq_netw = 0\n",
    "    for det in dets:\n",
    "        fp, fc = Detector(det).antenna_pattern(params_dict['ra'], params_dict['dec'], params_dict['polarization'], params_dict['trigger_time'])\n",
    "        hf[det] = hp*fp + hc*fc\n",
    "        psd = pycbc.psd.read.from_txt('../noise_curves/Asharp-asd.txt', len(hf[det]), hf[det].delta_f, f_low)\n",
    "        snr_sq = sigmasq(hf[det], psd=psd, low_frequency_cutoff=f_low, high_frequency_cutoff=f_high)\n",
    "        snrs[f'SNR_{det}'] = np.sqrt(snr_sq)\n",
    "        snr_sq_netw += snr_sq\n",
    "    snrs['SNR_network'] = np.sqrt(snr_sq_netw)\n",
    "    return(hf, snrs)"
   ]
  },
  {
   "cell_type": "code",
   "execution_count": 39,
   "id": "79dc93d3-8b44-4350-89a2-ec17e8bf9fad",
   "metadata": {},
   "outputs": [
    {
     "data": {
      "text/plain": [
       "{'mass1': 101.074872,\n",
       " 'mass2': 92.346816,\n",
       " 'distance': 1338.594547,\n",
       " 'inclination': 2.1138161980601673,\n",
       " 'trigger_time': 1898149000.0,\n",
       " 'coa_phase': 2.925349,\n",
       " 'ra': 3.911826,\n",
       " 'dec': -0.785394,\n",
       " 'polarization': 2.725428,\n",
       " 'spin1x': 0.12202994926782969,\n",
       " 'spin1y': -0.1602180936295745,\n",
       " 'spin1z': -0.324434031814475,\n",
       " 'spin2x': 0.23787036640856557,\n",
       " 'spin2y': -0.13525600088430356,\n",
       " 'spin2z': -0.5012588533536739,\n",
       " 'approximant': 'IMRPhenomXPHM',\n",
       " 'f_lower': 10,\n",
       " 'delta_f': 0.01,\n",
       " 'f_ref': 10}"
      ]
     },
     "execution_count": 39,
     "metadata": {},
     "output_type": "execute_result"
    }
   ],
   "source": [
    "PyCBC_samples_wf_gen = {key: PyCBC_samples[key][0] for key in PyCBC_wf_gen_keys_map.values()}\n",
    "PyCBC_samples_wf_gen.update(approximant=approx, f_lower=f_low, delta_f=delta_f[0], f_ref=f_ref)\n",
    "PyCBC_samples_wf_gen"
   ]
  },
  {
   "cell_type": "code",
   "execution_count": 40,
   "id": "41617cb7-e05d-48ed-b147-bce4eef6be80",
   "metadata": {},
   "outputs": [],
   "source": [
    "pycbc_hfs, pycbc_snrs = calc_PyCBC_snr(PyCBC_samples_wf_gen, f_low=f_low, f_high=f_high)"
   ]
  },
  {
   "cell_type": "code",
   "execution_count": 41,
   "id": "6512e9fa-e7d0-4dd3-b94f-9437b2272836",
   "metadata": {},
   "outputs": [
    {
     "data": {
      "text/plain": [
       "{'SNR_L1': 47.958314160034526,\n",
       " 'SNR_H1': 43.79786213605386,\n",
       " 'SNR_I1': 56.296546658342976,\n",
       " 'SNR_network': 85.950880102628}"
      ]
     },
     "execution_count": 41,
     "metadata": {},
     "output_type": "execute_result"
    }
   ],
   "source": [
    "pycbc_snrs"
   ]
  },
  {
   "cell_type": "markdown",
   "id": "d6297f08-149d-4e1a-add3-85f64093942b",
   "metadata": {},
   "source": [
    "## Bilby"
   ]
  },
  {
   "cell_type": "code",
   "execution_count": 42,
   "id": "99625ca8-8f78-4a6a-972e-f2c7cda94cad",
   "metadata": {},
   "outputs": [],
   "source": [
    "import bilby\n",
    "bilby.core.utils.log.setup_logger(log_level=\"debug\")"
   ]
  },
  {
   "cell_type": "code",
   "execution_count": 43,
   "id": "52d868d6-e182-4b2b-9a9e-2556d8244d48",
   "metadata": {},
   "outputs": [],
   "source": [
    "def calc_bilby_snr(injection_parameters):\n",
    "    waveform_arguments = dict(\n",
    "        waveform_approximant=approx,\n",
    "        reference_frequency=f_low,\n",
    "        minimum_frequency=f_low,\n",
    "    )\n",
    "    duration = 100\n",
    "    # Create the waveform_generator using a LAL BinaryBlackHole source function\n",
    "    waveform_generator = bilby.gw.WaveformGenerator(\n",
    "        duration=duration,\n",
    "        sampling_frequency=4096,\n",
    "        frequency_domain_source_model=bilby.gw.source.lal_binary_black_hole,\n",
    "        parameter_conversion=bilby.gw.conversion.convert_to_lal_binary_black_hole_parameters,\n",
    "        waveform_arguments=waveform_arguments\n",
    "    )\n",
    "    \n",
    "    ifos = bilby.gw.detector.InterferometerList([\"L1\", \"H1\", \"A1\"])\n",
    "    ifos.set_strain_data_from_zero_noise(\n",
    "        sampling_frequency=4096,\n",
    "        duration=duration,\n",
    "        start_time=injection_parameters[\"geocent_time\"] - duration + 2,\n",
    "    )\n",
    "    \n",
    "    for ifo in ifos:\n",
    "        ifo.minimum_frequency = f_low\n",
    "        ifo.power_spectral_density = bilby.gw.detector.psd.PowerSpectralDensity(psd_file='../noise_curves/Asharp-psd.txt')\n",
    "    \n",
    "    ifos.inject_signal(\n",
    "        waveform_generator=waveform_generator, parameters=injection_parameters\n",
    "    )\n",
    "\n",
    "    snrdict_return = {}\n",
    "    optsnrsquared = 0\n",
    "    for ifo in ifos:\n",
    "        det = ifo.name\n",
    "        SNR = ifos.meta_data[det][\"optimal_SNR\"]\n",
    "        snrdict_return[f'SNR_{det}'] = SNR\n",
    "        optsnrsquared += SNR ** 2\n",
    "    snrdict_return['SNR_network'] = np.sqrt(optsnrsquared)\n",
    "\n",
    "    return snrdict_return, ifo"
   ]
  },
  {
   "cell_type": "code",
   "execution_count": 44,
   "id": "0a25ee8f-3eeb-4843-bc19-9ec8e20da279",
   "metadata": {
    "scrolled": true
   },
   "outputs": [
    {
     "name": "stderr",
     "output_type": "stream",
     "text": [
      "21:30 bilby INFO    : Waveform generator initiated with\n",
      "  frequency_domain_source_model: bilby.gw.source.lal_binary_black_hole\n",
      "  time_domain_source_model: None\n",
      "  parameter_conversion: bilby.gw.conversion.convert_to_lal_binary_black_hole_parameters\n",
      "21:30 bilby DEBUG   : PSD file set to None\n",
      "21:30 bilby DEBUG   : PSD file aLIGO_O4_high_asd.txt exists in default dir.\n",
      "21:30 bilby DEBUG   : Assuming L shape for name\n",
      "21:30 bilby DEBUG   : PSD file set to None\n",
      "21:30 bilby DEBUG   : PSD file aLIGO_O4_high_asd.txt exists in default dir.\n",
      "21:30 bilby DEBUG   : Assuming L shape for name\n",
      "21:30 bilby DEBUG   : PSD file set to None\n",
      "21:30 bilby DEBUG   : PSD file Aplus_asd.txt exists in default dir.\n",
      "21:30 bilby DEBUG   : Assuming L shape for name\n",
      "21:30 bilby DEBUG   : Setting zero noise data\n",
      "21:30 bilby DEBUG   : Setting zero noise data\n",
      "21:30 bilby DEBUG   : Setting zero noise data\n",
      "21:30 bilby DEBUG   : PSD file ../noise_curves/Asharp-psd.txt exists\n",
      "21:30 bilby DEBUG   : PSD file set to None\n",
      "21:30 bilby DEBUG   : PSD file ../noise_curves/Asharp-psd.txt exists\n",
      "21:30 bilby DEBUG   : PSD file set to None\n",
      "21:30 bilby DEBUG   : PSD file ../noise_curves/Asharp-psd.txt exists\n",
      "21:30 bilby DEBUG   : PSD file set to None\n",
      "21:30 bilby DEBUG   : LALsim waveform longer than bilby's `frequency_array`(262145 vs 204801), probably because padded with zeros up to the next power of two length. Truncating lalsim array.\n",
      "21:30 bilby DEBUG   : Assuming reference_frequency = 50.0\n",
      "21:30 bilby DEBUG   : Assuming waveform_approximant = IMRPhenomPv2\n",
      "21:30 bilby DEBUG   : Assuming minimum_frequency = 20.0\n",
      "21:30 bilby INFO    : Injected signal in L1:\n",
      "21:30 bilby INFO    :   optimal SNR = 47.95\n",
      "21:30 bilby INFO    :   matched filter SNR = 47.95+0.00j\n",
      "21:30 bilby INFO    :   mass_1 = 101.074872\n",
      "21:30 bilby INFO    :   mass_2 = 92.346816\n",
      "21:30 bilby INFO    :   luminosity_distance = 1338.594547\n",
      "21:30 bilby INFO    :   theta_jn = 1.985243\n",
      "21:30 bilby INFO    :   ra = 3.911826\n",
      "21:30 bilby INFO    :   dec = -0.785394\n",
      "21:30 bilby INFO    :   psi = 2.725428\n",
      "21:30 bilby INFO    :   geocent_time = 1898149000.0\n",
      "21:30 bilby INFO    :   phase = 2.925349\n",
      "21:30 bilby INFO    :   a_1 = 0.381862\n",
      "21:30 bilby INFO    :   a_2 = 0.571084\n",
      "21:30 bilby INFO    :   tilt_1 = 2.586043\n",
      "21:30 bilby INFO    :   tilt_2 = 2.641905\n",
      "21:30 bilby INFO    :   phi_12 = 0.402861\n",
      "21:30 bilby INFO    :   phi_jl = 5.313141\n",
      "21:30 bilby DEBUG   : Assuming reference_frequency = 50.0\n",
      "21:30 bilby DEBUG   : Assuming waveform_approximant = IMRPhenomPv2\n",
      "21:30 bilby DEBUG   : Assuming minimum_frequency = 20.0\n",
      "21:30 bilby INFO    : Injected signal in H1:\n",
      "21:30 bilby INFO    :   optimal SNR = 43.79\n",
      "21:30 bilby INFO    :   matched filter SNR = 43.79+0.00j\n",
      "21:30 bilby INFO    :   mass_1 = 101.074872\n",
      "21:30 bilby INFO    :   mass_2 = 92.346816\n",
      "21:30 bilby INFO    :   luminosity_distance = 1338.594547\n",
      "21:30 bilby INFO    :   theta_jn = 1.985243\n",
      "21:30 bilby INFO    :   ra = 3.911826\n",
      "21:30 bilby INFO    :   dec = -0.785394\n",
      "21:30 bilby INFO    :   psi = 2.725428\n",
      "21:30 bilby INFO    :   geocent_time = 1898149000.0\n",
      "21:30 bilby INFO    :   phase = 2.925349\n",
      "21:30 bilby INFO    :   a_1 = 0.381862\n",
      "21:30 bilby INFO    :   a_2 = 0.571084\n",
      "21:30 bilby INFO    :   tilt_1 = 2.586043\n",
      "21:30 bilby INFO    :   tilt_2 = 2.641905\n",
      "21:30 bilby INFO    :   phi_12 = 0.402861\n",
      "21:30 bilby INFO    :   phi_jl = 5.313141\n",
      "21:30 bilby DEBUG   : Assuming reference_frequency = 50.0\n",
      "21:30 bilby DEBUG   : Assuming waveform_approximant = IMRPhenomPv2\n",
      "21:30 bilby DEBUG   : Assuming minimum_frequency = 20.0\n",
      "21:30 bilby INFO    : Injected signal in A1:\n",
      "21:30 bilby INFO    :   optimal SNR = 56.30\n",
      "21:30 bilby INFO    :   matched filter SNR = 56.30+0.00j\n",
      "21:30 bilby INFO    :   mass_1 = 101.074872\n",
      "21:30 bilby INFO    :   mass_2 = 92.346816\n",
      "21:30 bilby INFO    :   luminosity_distance = 1338.594547\n",
      "21:30 bilby INFO    :   theta_jn = 1.985243\n",
      "21:30 bilby INFO    :   ra = 3.911826\n",
      "21:30 bilby INFO    :   dec = -0.785394\n",
      "21:30 bilby INFO    :   psi = 2.725428\n",
      "21:30 bilby INFO    :   geocent_time = 1898149000.0\n",
      "21:30 bilby INFO    :   phase = 2.925349\n",
      "21:30 bilby INFO    :   a_1 = 0.381862\n",
      "21:30 bilby INFO    :   a_2 = 0.571084\n",
      "21:30 bilby INFO    :   tilt_1 = 2.586043\n",
      "21:30 bilby INFO    :   tilt_2 = 2.641905\n",
      "21:30 bilby INFO    :   phi_12 = 0.402861\n",
      "21:30 bilby INFO    :   phi_jl = 5.313141\n"
     ]
    }
   ],
   "source": [
    "bilby_snr, ifo = calc_bilby_snr(param_dict)"
   ]
  },
  {
   "cell_type": "code",
   "execution_count": 45,
   "id": "d1fe03b5-9047-48c1-ae3b-a56f1a8678b6",
   "metadata": {},
   "outputs": [
    {
     "name": "stdout",
     "output_type": "stream",
     "text": [
      "bilby:  {'SNR_L1': 47.954553124888925, 'SNR_H1': 43.79356624792153, 'SNR_A1': 56.297022427614614, 'SNR_network': 85.94690421611607}\n",
      "pycbc:  {'SNR_L1': 47.958314160034526, 'SNR_H1': 43.79786213605386, 'SNR_I1': 56.296546658342976, 'SNR_network': 85.950880102628}\n"
     ]
    }
   ],
   "source": [
    "print('bilby: ', bilby_snr)\n",
    "print('pycbc: ', pycbc_snrs)"
   ]
  },
  {
   "cell_type": "code",
   "execution_count": 18,
   "id": "e578c573-36ed-4033-a9c9-5392e3c711f3",
   "metadata": {},
   "outputs": [
    {
     "data": {
      "text/plain": [
       "<matplotlib.legend.Legend at 0x7490ae028f90>"
      ]
     },
     "execution_count": 18,
     "metadata": {},
     "output_type": "execute_result"
    },
    {
     "data": {
      "image/png": "[encoded data removed]",
      "text/plain": [
       "<Figure size 640x480 with 1 Axes>"
      ]
     },
     "metadata": {},
     "output_type": "display_data"
    }
   ],
   "source": [
    "plt.loglog(pycbc_hfs['I1'].sample_frequencies, abs(pycbc_hfs['I1']), label='pycbc')\n",
    "plt.loglog(ifo.frequency_array, abs(ifo.frequency_domain_strain), ls='--', label='bilby')\n",
    "plt.xlim(10,)\n",
    "plt.ylim(1e-25,)\n",
    "plt.legend()"
   ]
  },
  {
   "cell_type": "code",
   "execution_count": null,
   "id": "1bdaffce-5f1a-4b24-9436-65cc3a77eeca",
   "metadata": {},
   "outputs": [],
   "source": []
  }
 ],
 "metadata": {
  "kernelspec": {
   "display_name": "igwn-py311",
   "language": "python",
   "name": "igwn-py311"
  },
  "language_info": {
   "codemirror_mode": {
    "name": "ipython",
    "version": 3
   },
   "file_extension": ".py",
   "mimetype": "text/x-python",
   "name": "python",
   "nbconvert_exporter": "python",
   "pygments_lexer": "ipython3",
   "version": "3.11.10"
  }
 },
 "nbformat": 4,
 "nbformat_minor": 5
}
