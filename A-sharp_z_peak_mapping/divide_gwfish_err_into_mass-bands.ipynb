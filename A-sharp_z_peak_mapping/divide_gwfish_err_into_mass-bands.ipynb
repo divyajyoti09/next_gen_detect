{
 "cells": [
  {
   "cell_type": "code",
   "execution_count": 1,
   "id": "4f462c1a-935e-4ff1-9cdd-a11c3a6e437c",
   "metadata": {},
   "outputs": [],
   "source": [
    "import warnings\n",
    "warnings.filterwarnings(\"ignore\", \"Wswiglal-redir-stdio\")\n",
    "import lal\n",
    "import os\n",
    "import h5py\n",
    "import numpy\n",
    "import pandas as pd\n",
    "import pylab as plt\n",
    "from bilby.core.prior import MultivariateGaussian, MultivariateGaussianDist, PriorDict\n",
    "import numpy as np\n",
    "from scipy.interpolate import UnivariateSpline\n",
    "from tqdm import tqdm\n",
    "import pycbc.conversions as convert\n",
    "import bilby\n",
    "import pycbc\n",
    "import seaborn as sns"
   ]
  },
  {
   "cell_type": "markdown",
   "id": "6d631ac5-3a21-4781-9f9a-a4c75cb53e8e",
   "metadata": {},
   "source": [
    "## Load FM errors"
   ]
  },
  {
   "cell_type": "code",
   "execution_count": 2,
   "id": "9c9ad644-8bf7-4182-bbca-109f0f4e313c",
   "metadata": {},
   "outputs": [],
   "source": [
    "def decode_data(data):\n",
    "    \"\"\"\n",
    "    Decodes byte strings or arrays of byte strings from HDF5.\n",
    "    \"\"\"\n",
    "    if isinstance(data, bytes):\n",
    "        return data.decode('utf-8')\n",
    "    elif isinstance(data, np.ndarray) and data.dtype.kind in {'S', 'O'}:\n",
    "        return [d.decode('utf-8') if isinstance(d, bytes) else d for d in data]\n",
    "    else:\n",
    "        return data\n",
    "\n",
    "def load_from_h5_group(group):\n",
    "    \"\"\"\n",
    "    Recursively loads data from an HDF5 group and reconstructs Python objects.\n",
    "    \"\"\"\n",
    "    result = {}\n",
    "\n",
    "    # Check if this group is an array-style list (all keys are numeric)\n",
    "    keys = list(group.keys())\n",
    "    if all(k.isdigit() for k in keys):\n",
    "        # Treat it as a list, sorted by numeric key\n",
    "        items = []\n",
    "        for key in sorted(keys, key=lambda x: int(x)):\n",
    "            val = group[key]\n",
    "            if isinstance(val, h5py.Group):\n",
    "                items.append(load_from_h5_group(val))\n",
    "            else:\n",
    "                items.append(decode_data(val[()]))\n",
    "        return items\n",
    "\n",
    "    # Otherwise treat as dict\n",
    "    for key in group:\n",
    "        item = group[key]\n",
    "        if isinstance(item, h5py.Group):\n",
    "            result[key] = load_from_h5_group(item)\n",
    "        else:\n",
    "            result[key] = decode_data(item[()])\n",
    "\n",
    "    return result\n",
    "\n",
    "def load_results_from_h5(filename):\n",
    "    \"\"\"\n",
    "    Loads structured data from a universally saved HDF5 file.\n",
    "    \"\"\"\n",
    "    with h5py.File(filename, 'r') as f:\n",
    "        return load_from_h5_group(f)"
   ]
  },
  {
   "cell_type": "code",
   "execution_count": 3,
   "id": "40fa5a2e-1422-4649-9a76-444563587728",
   "metadata": {},
   "outputs": [],
   "source": [
    "base_dir = '/home/divyajyoti/ACADEMIC/Projects/Cardiff_University/Next_gen_detectability/A-sharp-study/'\n",
    "#fm_err_file = os.path.join(base_dir, 'GWFish_analysis', 'BBH', 'Errors',\n",
    "#                           'CE4020ET123_CoBA10_2_PLP_z_MD_zmax_10_lmrd_22_no_spins_5999_events_pop_from_XPHM_det10.h5')\n",
    "fm_err_file = os.path.join(base_dir, 'GWFish_analysis', 'BBH', 'Errors',\n",
    "                           'LHI_Asharp_2_PLP_z_MD_zmax_10_lmrd_22_no_spins_5945_events_365_days_pop_from_XPHM_det10.h5')"
   ]
  },
  {
   "cell_type": "code",
   "execution_count": 4,
   "id": "5621d625-d7b9-4d03-9cac-718a0d0466ab",
   "metadata": {},
   "outputs": [
    {
     "name": "stdout",
     "output_type": "stream",
     "text": [
      "<KeysViewHDF5 ['all_inj_params_original', 'cov', 'deriv_variables_in_order', 'errors', 'inj_params', 'netw_snrs', 'sky_locs']>\n",
      "<KeysViewHDF5 ['PSD_H1', 'PSD_I1', 'PSD_L1', 'SNR_H1', 'SNR_I1', 'SNR_L1', 'SNR_mf_H1', 'SNR_mf_I1', 'SNR_mf_L1', 'SNR_mf_from_opt_H1', 'SNR_mf_from_opt_I1', 'SNR_mf_from_opt_L1', 'SNR_mf_from_opt_network', 'SNR_mf_network', 'SNR_network', 'approximant', 'chi_1_in_plane', 'chi_2_in_plane', 'chi_eff', 'chi_p', 'coa_phase', 'cos_spin1_polar', 'cos_spin2_polar', 'dec', 'delta_f', 'distance', 'eta', 'f_final', 'f_lower', 'f_ref', 'inclination', 'inv_q', 'log_distance', 'mass1', 'mass2', 'mchirp', 'mtotal', 'old_index', 'phi_12', 'phi_jl', 'polarization', 'q', 'ra', 'redshift', 'spin1_a', 'spin1_azimuthal', 'spin1_polar', 'spin1x', 'spin1y', 'spin1z', 'spin2_a', 'spin2_azimuthal', 'spin2_polar', 'spin2x', 'spin2y', 'spin2z', 'srcmass1', 'srcmass2', 'srcmchirp', 'srcmtotal', 'theta_jn', 'time_interval', 'trigger_time']>\n"
     ]
    }
   ],
   "source": [
    "with h5py.File(fm_err_file, 'r') as f:\n",
    "    print(f.keys())\n",
    "    print(f['all_inj_params_original'].keys())"
   ]
  },
  {
   "cell_type": "code",
   "execution_count": 5,
   "id": "9a8b346b-21a8-49a0-9d16-7889996db269",
   "metadata": {},
   "outputs": [],
   "source": [
    "fm_results = load_results_from_h5(fm_err_file)"
   ]
  },
  {
   "cell_type": "code",
   "execution_count": 6,
   "id": "be1c6b33-f7c8-4db8-ad72-fb385bfd4e02",
   "metadata": {},
   "outputs": [
    {
     "data": {
      "text/plain": [
       "[('all_inj_params_original', dict),\n",
       " ('cov', numpy.ndarray),\n",
       " ('deriv_variables_in_order', list),\n",
       " ('errors', dict),\n",
       " ('inj_params', dict),\n",
       " ('netw_snrs', numpy.ndarray),\n",
       " ('sky_locs', numpy.ndarray)]"
      ]
     },
     "execution_count": 6,
     "metadata": {},
     "output_type": "execute_result"
    }
   ],
   "source": [
    "[(key, type(fm_results[key])) for key in fm_results.keys()]"
   ]
  },
  {
   "cell_type": "code",
   "execution_count": 7,
   "id": "29d73203-1c31-4fe7-bf60-79ca56b8953b",
   "metadata": {},
   "outputs": [],
   "source": [
    "for key, val in fm_results.items():\n",
    "    if isinstance(val, dict):\n",
    "        fm_results[key] = pd.DataFrame(val)"
   ]
  },
  {
   "cell_type": "code",
   "execution_count": 8,
   "id": "f09a54da-7d93-481f-91d5-4ea1ac2a3e0f",
   "metadata": {},
   "outputs": [
    {
     "data": {
      "text/plain": [
       "[('all_inj_params_original', pandas.core.frame.DataFrame),\n",
       " ('cov', numpy.ndarray),\n",
       " ('deriv_variables_in_order', list),\n",
       " ('errors', pandas.core.frame.DataFrame),\n",
       " ('inj_params', pandas.core.frame.DataFrame),\n",
       " ('netw_snrs', numpy.ndarray),\n",
       " ('sky_locs', numpy.ndarray)]"
      ]
     },
     "execution_count": 8,
     "metadata": {},
     "output_type": "execute_result"
    }
   ],
   "source": [
    "[(key, type(fm_results[key])) for key in fm_results.keys()]"
   ]
  },
  {
   "cell_type": "code",
   "execution_count": 9,
   "id": "f933dd7b-afc0-4bf9-aeaa-4d7bda999baa",
   "metadata": {},
   "outputs": [
    {
     "data": {
      "text/plain": [
       "5945"
      ]
     },
     "execution_count": 9,
     "metadata": {},
     "output_type": "execute_result"
    }
   ],
   "source": [
    "num_events = len(fm_results['cov'])\n",
    "num_events"
   ]
  },
  {
   "cell_type": "code",
   "execution_count": 10,
   "id": "6fe927d1-d410-4ecb-8741-5a878e415cc4",
   "metadata": {},
   "outputs": [
    {
     "data": {
      "text/html": [
       "<div>\n",
       "<style scoped>\n",
       "    .dataframe tbody tr th:only-of-type {\n",
       "        vertical-align: middle;\n",
       "    }\n",
       "\n",
       "    .dataframe tbody tr th {\n",
       "        vertical-align: top;\n",
       "    }\n",
       "\n",
       "    .dataframe thead th {\n",
       "        text-align: right;\n",
       "    }\n",
       "</style>\n",
       "<table border=\"1\" class=\"dataframe\">\n",
       "  <thead>\n",
       "    <tr style=\"text-align: right;\">\n",
       "      <th></th>\n",
       "      <th>PSD_H1</th>\n",
       "      <th>PSD_I1</th>\n",
       "      <th>PSD_L1</th>\n",
       "      <th>SNR_H1</th>\n",
       "      <th>SNR_I1</th>\n",
       "      <th>SNR_L1</th>\n",
       "      <th>SNR_mf_H1</th>\n",
       "      <th>SNR_mf_I1</th>\n",
       "      <th>SNR_mf_L1</th>\n",
       "      <th>SNR_mf_from_opt_H1</th>\n",
       "      <th>...</th>\n",
       "      <th>spin2x</th>\n",
       "      <th>spin2y</th>\n",
       "      <th>spin2z</th>\n",
       "      <th>srcmass1</th>\n",
       "      <th>srcmass2</th>\n",
       "      <th>srcmchirp</th>\n",
       "      <th>srcmtotal</th>\n",
       "      <th>theta_jn</th>\n",
       "      <th>time_interval</th>\n",
       "      <th>trigger_time</th>\n",
       "    </tr>\n",
       "  </thead>\n",
       "  <tbody>\n",
       "    <tr>\n",
       "      <th>0</th>\n",
       "      <td>ASharp</td>\n",
       "      <td>ASharp</td>\n",
       "      <td>ASharp</td>\n",
       "      <td>5.737929</td>\n",
       "      <td>6.612176</td>\n",
       "      <td>4.515110</td>\n",
       "      <td>4.990872</td>\n",
       "      <td>5.949039</td>\n",
       "      <td>5.529881</td>\n",
       "      <td>6.329655</td>\n",
       "      <td>...</td>\n",
       "      <td>0.141844</td>\n",
       "      <td>0.044275</td>\n",
       "      <td>-0.066039</td>\n",
       "      <td>10.461559</td>\n",
       "      <td>6.814191</td>\n",
       "      <td>7.316764</td>\n",
       "      <td>17.275750</td>\n",
       "      <td>2.565574</td>\n",
       "      <td>499.605743</td>\n",
       "      <td>1.918683e+09</td>\n",
       "    </tr>\n",
       "    <tr>\n",
       "      <th>1</th>\n",
       "      <td>ASharp</td>\n",
       "      <td>ASharp</td>\n",
       "      <td>ASharp</td>\n",
       "      <td>6.988540</td>\n",
       "      <td>12.965098</td>\n",
       "      <td>8.170157</td>\n",
       "      <td>7.322774</td>\n",
       "      <td>13.623122</td>\n",
       "      <td>7.544432</td>\n",
       "      <td>6.906180</td>\n",
       "      <td>...</td>\n",
       "      <td>0.365632</td>\n",
       "      <td>0.075366</td>\n",
       "      <td>-0.674420</td>\n",
       "      <td>32.725315</td>\n",
       "      <td>22.754919</td>\n",
       "      <td>23.678153</td>\n",
       "      <td>55.480234</td>\n",
       "      <td>0.920305</td>\n",
       "      <td>577.695695</td>\n",
       "      <td>1.905093e+09</td>\n",
       "    </tr>\n",
       "    <tr>\n",
       "      <th>2</th>\n",
       "      <td>ASharp</td>\n",
       "      <td>ASharp</td>\n",
       "      <td>ASharp</td>\n",
       "      <td>6.459393</td>\n",
       "      <td>5.967921</td>\n",
       "      <td>5.250371</td>\n",
       "      <td>7.343760</td>\n",
       "      <td>7.935865</td>\n",
       "      <td>5.183641</td>\n",
       "      <td>6.766340</td>\n",
       "      <td>...</td>\n",
       "      <td>-0.219477</td>\n",
       "      <td>-0.041962</td>\n",
       "      <td>-0.015915</td>\n",
       "      <td>8.392924</td>\n",
       "      <td>6.371731</td>\n",
       "      <td>6.354154</td>\n",
       "      <td>14.764655</td>\n",
       "      <td>2.348911</td>\n",
       "      <td>2222.426320</td>\n",
       "      <td>1.912483e+09</td>\n",
       "    </tr>\n",
       "    <tr>\n",
       "      <th>3</th>\n",
       "      <td>ASharp</td>\n",
       "      <td>ASharp</td>\n",
       "      <td>ASharp</td>\n",
       "      <td>14.560698</td>\n",
       "      <td>11.921481</td>\n",
       "      <td>9.715585</td>\n",
       "      <td>14.450827</td>\n",
       "      <td>12.141482</td>\n",
       "      <td>10.467112</td>\n",
       "      <td>13.831645</td>\n",
       "      <td>...</td>\n",
       "      <td>0.017010</td>\n",
       "      <td>-0.046605</td>\n",
       "      <td>-0.084842</td>\n",
       "      <td>13.033235</td>\n",
       "      <td>12.375024</td>\n",
       "      <td>11.055133</td>\n",
       "      <td>25.408259</td>\n",
       "      <td>2.528247</td>\n",
       "      <td>916.054887</td>\n",
       "      <td>1.907989e+09</td>\n",
       "    </tr>\n",
       "    <tr>\n",
       "      <th>4</th>\n",
       "      <td>ASharp</td>\n",
       "      <td>ASharp</td>\n",
       "      <td>ASharp</td>\n",
       "      <td>12.978992</td>\n",
       "      <td>20.279215</td>\n",
       "      <td>21.563933</td>\n",
       "      <td>12.611910</td>\n",
       "      <td>18.900234</td>\n",
       "      <td>19.424952</td>\n",
       "      <td>13.724821</td>\n",
       "      <td>...</td>\n",
       "      <td>-0.654972</td>\n",
       "      <td>-0.339141</td>\n",
       "      <td>0.364609</td>\n",
       "      <td>46.235741</td>\n",
       "      <td>27.282979</td>\n",
       "      <td>30.707339</td>\n",
       "      <td>73.518720</td>\n",
       "      <td>1.727465</td>\n",
       "      <td>926.558514</td>\n",
       "      <td>1.918155e+09</td>\n",
       "    </tr>\n",
       "    <tr>\n",
       "      <th>...</th>\n",
       "      <td>...</td>\n",
       "      <td>...</td>\n",
       "      <td>...</td>\n",
       "      <td>...</td>\n",
       "      <td>...</td>\n",
       "      <td>...</td>\n",
       "      <td>...</td>\n",
       "      <td>...</td>\n",
       "      <td>...</td>\n",
       "      <td>...</td>\n",
       "      <td>...</td>\n",
       "      <td>...</td>\n",
       "      <td>...</td>\n",
       "      <td>...</td>\n",
       "      <td>...</td>\n",
       "      <td>...</td>\n",
       "      <td>...</td>\n",
       "      <td>...</td>\n",
       "      <td>...</td>\n",
       "      <td>...</td>\n",
       "      <td>...</td>\n",
       "    </tr>\n",
       "    <tr>\n",
       "      <th>5940</th>\n",
       "      <td>ASharp</td>\n",
       "      <td>ASharp</td>\n",
       "      <td>ASharp</td>\n",
       "      <td>7.498994</td>\n",
       "      <td>7.583466</td>\n",
       "      <td>9.386317</td>\n",
       "      <td>6.598482</td>\n",
       "      <td>7.896857</td>\n",
       "      <td>10.782910</td>\n",
       "      <td>9.419448</td>\n",
       "      <td>...</td>\n",
       "      <td>-0.282208</td>\n",
       "      <td>-0.290758</td>\n",
       "      <td>0.602100</td>\n",
       "      <td>8.334860</td>\n",
       "      <td>3.432170</td>\n",
       "      <td>4.568218</td>\n",
       "      <td>11.767029</td>\n",
       "      <td>2.002046</td>\n",
       "      <td>727.310107</td>\n",
       "      <td>1.920927e+09</td>\n",
       "    </tr>\n",
       "    <tr>\n",
       "      <th>5941</th>\n",
       "      <td>ASharp</td>\n",
       "      <td>ASharp</td>\n",
       "      <td>ASharp</td>\n",
       "      <td>10.971796</td>\n",
       "      <td>1.507655</td>\n",
       "      <td>8.514215</td>\n",
       "      <td>8.808629</td>\n",
       "      <td>4.693575</td>\n",
       "      <td>8.927209</td>\n",
       "      <td>10.428617</td>\n",
       "      <td>...</td>\n",
       "      <td>0.038046</td>\n",
       "      <td>0.002885</td>\n",
       "      <td>-0.016180</td>\n",
       "      <td>33.091586</td>\n",
       "      <td>10.912564</td>\n",
       "      <td>16.065265</td>\n",
       "      <td>44.004150</td>\n",
       "      <td>0.383436</td>\n",
       "      <td>35.416407</td>\n",
       "      <td>1.914497e+09</td>\n",
       "    </tr>\n",
       "    <tr>\n",
       "      <th>5942</th>\n",
       "      <td>ASharp</td>\n",
       "      <td>ASharp</td>\n",
       "      <td>ASharp</td>\n",
       "      <td>11.669346</td>\n",
       "      <td>5.985211</td>\n",
       "      <td>8.256056</td>\n",
       "      <td>11.708980</td>\n",
       "      <td>6.482828</td>\n",
       "      <td>8.584062</td>\n",
       "      <td>14.417930</td>\n",
       "      <td>...</td>\n",
       "      <td>-0.023523</td>\n",
       "      <td>-0.392819</td>\n",
       "      <td>0.044015</td>\n",
       "      <td>11.621360</td>\n",
       "      <td>9.809821</td>\n",
       "      <td>9.288415</td>\n",
       "      <td>21.431181</td>\n",
       "      <td>1.119219</td>\n",
       "      <td>579.707114</td>\n",
       "      <td>1.900153e+09</td>\n",
       "    </tr>\n",
       "    <tr>\n",
       "      <th>5943</th>\n",
       "      <td>ASharp</td>\n",
       "      <td>ASharp</td>\n",
       "      <td>ASharp</td>\n",
       "      <td>9.837806</td>\n",
       "      <td>6.623922</td>\n",
       "      <td>5.562597</td>\n",
       "      <td>8.385219</td>\n",
       "      <td>4.627059</td>\n",
       "      <td>6.927970</td>\n",
       "      <td>10.261099</td>\n",
       "      <td>...</td>\n",
       "      <td>-0.207687</td>\n",
       "      <td>-0.446978</td>\n",
       "      <td>0.037424</td>\n",
       "      <td>36.542956</td>\n",
       "      <td>35.969051</td>\n",
       "      <td>31.561498</td>\n",
       "      <td>72.512006</td>\n",
       "      <td>0.748454</td>\n",
       "      <td>3247.087656</td>\n",
       "      <td>1.911353e+09</td>\n",
       "    </tr>\n",
       "    <tr>\n",
       "      <th>5944</th>\n",
       "      <td>ASharp</td>\n",
       "      <td>ASharp</td>\n",
       "      <td>ASharp</td>\n",
       "      <td>5.511141</td>\n",
       "      <td>9.095688</td>\n",
       "      <td>8.619414</td>\n",
       "      <td>6.509578</td>\n",
       "      <td>10.487938</td>\n",
       "      <td>9.561373</td>\n",
       "      <td>4.984353</td>\n",
       "      <td>...</td>\n",
       "      <td>-0.514344</td>\n",
       "      <td>-0.203784</td>\n",
       "      <td>-0.561969</td>\n",
       "      <td>11.831450</td>\n",
       "      <td>7.957392</td>\n",
       "      <td>8.413974</td>\n",
       "      <td>19.788842</td>\n",
       "      <td>2.304982</td>\n",
       "      <td>1360.407499</td>\n",
       "      <td>1.911990e+09</td>\n",
       "    </tr>\n",
       "  </tbody>\n",
       "</table>\n",
       "<p>5945 rows × 63 columns</p>\n",
       "</div>"
      ],
      "text/plain": [
       "      PSD_H1  PSD_I1  PSD_L1     SNR_H1     SNR_I1     SNR_L1  SNR_mf_H1  \\\n",
       "0     ASharp  ASharp  ASharp   5.737929   6.612176   4.515110   4.990872   \n",
       "1     ASharp  ASharp  ASharp   6.988540  12.965098   8.170157   7.322774   \n",
       "2     ASharp  ASharp  ASharp   6.459393   5.967921   5.250371   7.343760   \n",
       "3     ASharp  ASharp  ASharp  14.560698  11.921481   9.715585  14.450827   \n",
       "4     ASharp  ASharp  ASharp  12.978992  20.279215  21.563933  12.611910   \n",
       "...      ...     ...     ...        ...        ...        ...        ...   \n",
       "5940  ASharp  ASharp  ASharp   7.498994   7.583466   9.386317   6.598482   \n",
       "5941  ASharp  ASharp  ASharp  10.971796   1.507655   8.514215   8.808629   \n",
       "5942  ASharp  ASharp  ASharp  11.669346   5.985211   8.256056  11.708980   \n",
       "5943  ASharp  ASharp  ASharp   9.837806   6.623922   5.562597   8.385219   \n",
       "5944  ASharp  ASharp  ASharp   5.511141   9.095688   8.619414   6.509578   \n",
       "\n",
       "      SNR_mf_I1  SNR_mf_L1  SNR_mf_from_opt_H1  ...    spin2x    spin2y  \\\n",
       "0      5.949039   5.529881            6.329655  ...  0.141844  0.044275   \n",
       "1     13.623122   7.544432            6.906180  ...  0.365632  0.075366   \n",
       "2      7.935865   5.183641            6.766340  ... -0.219477 -0.041962   \n",
       "3     12.141482  10.467112           13.831645  ...  0.017010 -0.046605   \n",
       "4     18.900234  19.424952           13.724821  ... -0.654972 -0.339141   \n",
       "...         ...        ...                 ...  ...       ...       ...   \n",
       "5940   7.896857  10.782910            9.419448  ... -0.282208 -0.290758   \n",
       "5941   4.693575   8.927209           10.428617  ...  0.038046  0.002885   \n",
       "5942   6.482828   8.584062           14.417930  ... -0.023523 -0.392819   \n",
       "5943   4.627059   6.927970           10.261099  ... -0.207687 -0.446978   \n",
       "5944  10.487938   9.561373            4.984353  ... -0.514344 -0.203784   \n",
       "\n",
       "        spin2z   srcmass1   srcmass2  srcmchirp  srcmtotal  theta_jn  \\\n",
       "0    -0.066039  10.461559   6.814191   7.316764  17.275750  2.565574   \n",
       "1    -0.674420  32.725315  22.754919  23.678153  55.480234  0.920305   \n",
       "2    -0.015915   8.392924   6.371731   6.354154  14.764655  2.348911   \n",
       "3    -0.084842  13.033235  12.375024  11.055133  25.408259  2.528247   \n",
       "4     0.364609  46.235741  27.282979  30.707339  73.518720  1.727465   \n",
       "...        ...        ...        ...        ...        ...       ...   \n",
       "5940  0.602100   8.334860   3.432170   4.568218  11.767029  2.002046   \n",
       "5941 -0.016180  33.091586  10.912564  16.065265  44.004150  0.383436   \n",
       "5942  0.044015  11.621360   9.809821   9.288415  21.431181  1.119219   \n",
       "5943  0.037424  36.542956  35.969051  31.561498  72.512006  0.748454   \n",
       "5944 -0.561969  11.831450   7.957392   8.413974  19.788842  2.304982   \n",
       "\n",
       "      time_interval  trigger_time  \n",
       "0        499.605743  1.918683e+09  \n",
       "1        577.695695  1.905093e+09  \n",
       "2       2222.426320  1.912483e+09  \n",
       "3        916.054887  1.907989e+09  \n",
       "4        926.558514  1.918155e+09  \n",
       "...             ...           ...  \n",
       "5940     727.310107  1.920927e+09  \n",
       "5941      35.416407  1.914497e+09  \n",
       "5942     579.707114  1.900153e+09  \n",
       "5943    3247.087656  1.911353e+09  \n",
       "5944    1360.407499  1.911990e+09  \n",
       "\n",
       "[5945 rows x 63 columns]"
      ]
     },
     "execution_count": 10,
     "metadata": {},
     "output_type": "execute_result"
    }
   ],
   "source": [
    "fm_results['all_inj_params_original']"
   ]
  },
  {
   "cell_type": "markdown",
   "id": "bdad9c4b-0d3a-4b21-a85b-ff32d89ded4c",
   "metadata": {},
   "source": [
    "### Divide events into mass categories"
   ]
  },
  {
   "cell_type": "code",
   "execution_count": 11,
   "id": "667baa85-f075-4ddf-9549-e6c0b4055a90",
   "metadata": {},
   "outputs": [],
   "source": [
    "def slice_mtotal_pop(arr, mtotal_range):\n",
    "    \"\"\"\n",
    "    Returns: A bool array corresponding to arr, depending on the range provided\n",
    "    \"\"\"\n",
    "    if '<' in mtotal_range:\n",
    "        max_boundary = float(mtotal_range.split('<')[-1])\n",
    "        return(arr < max_boundary)\n",
    "        \n",
    "    elif '<=' in mtotal_range:\n",
    "        max_boundary = float(mtotal_range.split('<=')[-1])\n",
    "        return(arr <= max_boundary)\n",
    "        \n",
    "    elif '>' in mtotal_range:\n",
    "        min_boundary = float(mtotal_range.split('>')[-1])\n",
    "        return(arr > min_boundary)\n",
    "        \n",
    "    elif '>=' in mtotal_range:\n",
    "        min_boundary = float(mtotal_range.split('>=')[-1])\n",
    "        return(arr >= min_boundary)\n",
    "        \n",
    "    elif '-' in mtotal_range:\n",
    "        min_boundary, max_boundary = map(float, mtotal_range.split('-'))\n",
    "        return(np.all((arr >= min_boundary, arr <= max_boundary), axis=0))"
   ]
  },
  {
   "cell_type": "code",
   "execution_count": 12,
   "id": "c506c49c-ff0d-40f8-964d-212cf46057fd",
   "metadata": {},
   "outputs": [
    {
     "name": "stdout",
     "output_type": "stream",
     "text": [
      "Total events = 5945\n",
      "<40 = 3357\n",
      "40-80 = 2356\n",
      ">80 = 232\n"
     ]
    }
   ],
   "source": [
    "mass_ranges = ['<40', '40-80', '>80']\n",
    "fm_mass_divided = {}\n",
    "print('Total events =', num_events)\n",
    "for m_range in mass_ranges:\n",
    "    fm_mass_divided[m_range] = {}\n",
    "    selected_idxs = slice_mtotal_pop(fm_results['all_inj_params_original']['srcmtotal'], m_range)\n",
    "    for key in fm_results.keys():\n",
    "        if 'variables' in key:\n",
    "            fm_mass_divided[m_range][key] = fm_results[key]\n",
    "        else:\n",
    "            fm_mass_divided[m_range][key] = fm_results[key][selected_idxs]\n",
    "    print(m_range, '=', len(fm_mass_divided[m_range]['cov']))"
   ]
  },
  {
   "cell_type": "code",
   "execution_count": 13,
   "id": "f7876459-5c9b-4e08-9a62-43505e37a525",
   "metadata": {},
   "outputs": [
    {
     "name": "stderr",
     "output_type": "stream",
     "text": [
      "/home/divyajyoti/miniconda3/envs/igwn-py311/lib/python3.11/site-packages/seaborn/_oldcore.py:1119: FutureWarning: use_inf_as_na option is deprecated and will be removed in a future version. Convert inf values to NaN before operating instead.\n",
      "  with pd.option_context('mode.use_inf_as_na', True):\n",
      "/home/divyajyoti/miniconda3/envs/igwn-py311/lib/python3.11/site-packages/seaborn/_oldcore.py:1119: FutureWarning: use_inf_as_na option is deprecated and will be removed in a future version. Convert inf values to NaN before operating instead.\n",
      "  with pd.option_context('mode.use_inf_as_na', True):\n",
      "/home/divyajyoti/miniconda3/envs/igwn-py311/lib/python3.11/site-packages/seaborn/_oldcore.py:1119: FutureWarning: use_inf_as_na option is deprecated and will be removed in a future version. Convert inf values to NaN before operating instead.\n",
      "  with pd.option_context('mode.use_inf_as_na', True):\n"
     ]
    },
    {
     "data": {
      "image/png": "[encoded data removed]",
      "text/plain": [
       "<Figure size 640x480 with 1 Axes>"
      ]
     },
     "metadata": {},
     "output_type": "display_data"
    }
   ],
   "source": [
    "for m_range in fm_mass_divided.keys():\n",
    "    sns.kdeplot(pd.DataFrame(fm_mass_divided[m_range]['all_inj_params_original'])['SNR_mf_from_opt_network'], \n",
    "                label=m_range)\n",
    "plt.legend(loc=1)\n",
    "plt.xscale('log')"
   ]
  },
  {
   "cell_type": "markdown",
   "id": "c28314e7-06df-49bb-ae81-ba99f8a426d2",
   "metadata": {},
   "source": [
    "## Save to h5 file"
   ]
  },
  {
   "cell_type": "code",
   "execution_count": 14,
   "id": "f38b79e4-3c0e-4a02-88d5-bfe2265206f3",
   "metadata": {},
   "outputs": [],
   "source": [
    "def save_to_h5_group(group, data, string_dtype, key=None):\n",
    "    # if key is given, create dataset/group under that name\n",
    "    if isinstance(data, dict):\n",
    "        subgroup = group if key is None else group.create_group(str(key))\n",
    "        for k, v in data.items():\n",
    "            save_to_h5_group(subgroup, v, string_dtype, k)\n",
    "\n",
    "    elif isinstance(data, (list, tuple)):\n",
    "        subgroup = group if key is None else group.create_group(str(key))\n",
    "        for i, item in enumerate(data):\n",
    "            save_to_h5_group(subgroup, item, string_dtype, str(i))\n",
    "\n",
    "    elif isinstance(data, pd.DataFrame):\n",
    "        subgroup = group if key is None else group.create_group(str(key))\n",
    "        for col in data.columns:\n",
    "            subgroup.create_dataset(str(col), data=data[col].to_numpy())\n",
    "\n",
    "    elif isinstance(data, str):\n",
    "        if key is None:\n",
    "            raise ValueError(\"Strings must be stored with a key\")\n",
    "        group.create_dataset(str(key), data=data, dtype=string_dtype)\n",
    "\n",
    "    else:\n",
    "        if key is None:\n",
    "            raise ValueError(\"Scalars/arrays must be stored with a key\")\n",
    "        group.create_dataset(str(key), data=np.array(data))\n",
    "\n",
    "\n",
    "def save_results_to_h5(results, filename):\n",
    "    dt = h5py.string_dtype(encoding='utf-8')\n",
    "    with h5py.File(filename, 'w') as f:\n",
    "        save_to_h5_group(f, results, dt)"
   ]
  },
  {
   "cell_type": "code",
   "execution_count": 15,
   "id": "ad236eef-69ef-4831-a165-69473d7d8b3a",
   "metadata": {},
   "outputs": [
    {
     "data": {
      "text/plain": [
       "'/home/divyajyoti/ACADEMIC/Projects/Cardiff_University/Next_gen_detectability/A-sharp-study/GWFish_analysis/BBH/Errors/LHI_Asharp_2_PLP_z_MD_zmax_10_lmrd_22_no_spins_5945_events_365_days_pop_from_XPHM_det10.h5'"
      ]
     },
     "execution_count": 15,
     "metadata": {},
     "output_type": "execute_result"
    }
   ],
   "source": [
    "fm_err_file"
   ]
  },
  {
   "cell_type": "code",
   "execution_count": 16,
   "id": "a7bfee3f-f275-4bd8-928a-1503a6b5e924",
   "metadata": {},
   "outputs": [],
   "source": [
    "def mass_range_names(range_name):\n",
    "    return(range_name.replace('<', 'below_').replace('>', 'above_'))"
   ]
  },
  {
   "cell_type": "code",
   "execution_count": 18,
   "id": "8589bab5-48c7-4357-a331-40419bd8305a",
   "metadata": {},
   "outputs": [
    {
     "data": {
      "text/plain": [
       "{'<40': '/home/divyajyoti/ACADEMIC/Projects/Cardiff_University/Next_gen_detectability/A-sharp-study/GWFish_analysis/BBH/Errors/mass_bands/LHI_Asharp_2_PLP_z_MD_zmax_10_lmrd_22_no_spins_365_days_pop_from_XPHM_det10_below_40.h5',\n",
       " '40-80': '/home/divyajyoti/ACADEMIC/Projects/Cardiff_University/Next_gen_detectability/A-sharp-study/GWFish_analysis/BBH/Errors/mass_bands/LHI_Asharp_2_PLP_z_MD_zmax_10_lmrd_22_no_spins_365_days_pop_from_XPHM_det10_40-80.h5',\n",
       " '>80': '/home/divyajyoti/ACADEMIC/Projects/Cardiff_University/Next_gen_detectability/A-sharp-study/GWFish_analysis/BBH/Errors/mass_bands/LHI_Asharp_2_PLP_z_MD_zmax_10_lmrd_22_no_spins_365_days_pop_from_XPHM_det10_above_80.h5'}"
      ]
     },
     "execution_count": 18,
     "metadata": {},
     "output_type": "execute_result"
    }
   ],
   "source": [
    "results_files = {}\n",
    "for m_range in mass_ranges:\n",
    "    results_files[m_range] = os.path.join('/'.join(fm_err_file.split('/')[:-1]), \n",
    "                                          'mass_bands', \n",
    "                                          fm_err_file.split('/')[-1].replace('_5945_events', '').replace('.h5',\n",
    "                                                                                '_'+mass_range_names(m_range)+'.h5'))\n",
    "results_files"
   ]
  },
  {
   "cell_type": "code",
   "execution_count": 19,
   "id": "afdb5ac8-8338-44e2-a563-dfd43fcf5f99",
   "metadata": {
    "scrolled": true
   },
   "outputs": [],
   "source": [
    "for m_range in mass_ranges:\n",
    "    save_results_to_h5(fm_mass_divided[m_range], results_files[m_range])"
   ]
  },
  {
   "cell_type": "code",
   "execution_count": null,
   "id": "3631e067-efaf-4c60-ae9d-5a1b9d2d3975",
   "metadata": {},
   "outputs": [],
   "source": []
  }
 ],
 "metadata": {
  "kernelspec": {
   "display_name": "igwn-py311",
   "language": "python",
   "name": "igwn-py311"
  },
  "language_info": {
   "codemirror_mode": {
    "name": "ipython",
    "version": 3
   },
   "file_extension": ".py",
   "mimetype": "text/x-python",
   "name": "python",
   "nbconvert_exporter": "python",
   "pygments_lexer": "ipython3",
   "version": "3.11.10"
  }
 },
 "nbformat": 4,
 "nbformat_minor": 5
}
