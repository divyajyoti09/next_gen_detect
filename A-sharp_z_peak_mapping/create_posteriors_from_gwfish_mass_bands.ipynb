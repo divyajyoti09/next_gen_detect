{
 "cells": [
  {
   "cell_type": "code",
   "execution_count": 1,
   "id": "5a8d2d3c-36f1-40dc-9b34-304877a6e790",
   "metadata": {},
   "outputs": [],
   "source": [
    "import warnings\n",
    "warnings.filterwarnings(\"ignore\", \"Wswiglal-redir-stdio\")\n",
    "import lal\n",
    "import os\n",
    "import h5py\n",
    "import numpy\n",
    "import pandas as pd\n",
    "import pylab as plt\n",
    "from bilby.core.prior import MultivariateGaussian, MultivariateGaussianDist, PriorDict\n",
    "import numpy as np\n",
    "from scipy.interpolate import UnivariateSpline\n",
    "from tqdm import tqdm\n",
    "import pycbc.conversions as convert\n",
    "import bilby\n",
    "import pycbc\n",
    "import seaborn as sns"
   ]
  },
  {
   "cell_type": "markdown",
   "id": "15193af1-429a-40ac-968f-01e179af0370",
   "metadata": {},
   "source": [
    "## Load FM errors and covariance matrices"
   ]
  },
  {
   "cell_type": "code",
   "execution_count": 2,
   "id": "642ab046-b797-4bde-b899-300828f27cba",
   "metadata": {},
   "outputs": [],
   "source": [
    "def decode_data(data):\n",
    "    \"\"\"\n",
    "    Decodes byte strings or arrays of byte strings from HDF5.\n",
    "    \"\"\"\n",
    "    if isinstance(data, bytes):\n",
    "        return data.decode('utf-8')\n",
    "    elif isinstance(data, np.ndarray) and data.dtype.kind in {'S', 'O'}:\n",
    "        return [d.decode('utf-8') if isinstance(d, bytes) else d for d in data]\n",
    "    else:\n",
    "        return data\n",
    "\n",
    "def load_from_h5_group(group):\n",
    "    \"\"\"\n",
    "    Recursively loads data from an HDF5 group and reconstructs Python objects.\n",
    "    \"\"\"\n",
    "    result = {}\n",
    "\n",
    "    # Check if this group is an array-style list (all keys are numeric)\n",
    "    keys = list(group.keys())\n",
    "    if all(k.isdigit() for k in keys):\n",
    "        # Treat it as a list, sorted by numeric key\n",
    "        items = []\n",
    "        for key in sorted(keys, key=lambda x: int(x)):\n",
    "            val = group[key]\n",
    "            if isinstance(val, h5py.Group):\n",
    "                items.append(load_from_h5_group(val))\n",
    "            else:\n",
    "                items.append(decode_data(val[()]))\n",
    "        return items\n",
    "\n",
    "    # Otherwise treat as dict\n",
    "    for key in group:\n",
    "        item = group[key]\n",
    "        if isinstance(item, h5py.Group):\n",
    "            result[key] = load_from_h5_group(item)\n",
    "        else:\n",
    "            result[key] = decode_data(item[()])\n",
    "\n",
    "    return result\n",
    "\n",
    "def load_results_from_h5(filename):\n",
    "    \"\"\"\n",
    "    Loads structured data from a universally saved HDF5 file.\n",
    "    \"\"\"\n",
    "    with h5py.File(filename, 'r') as f:\n",
    "        return load_from_h5_group(f)"
   ]
  },
  {
   "cell_type": "code",
   "execution_count": 3,
   "id": "7e770c39-01e3-4e0d-a95d-a626ace194a2",
   "metadata": {},
   "outputs": [],
   "source": [
    "base_dir = '/home/divyajyoti/ACADEMIC/Projects/Cardiff_University/Next_gen_detectability/A-sharp-study/'\n",
    "mass_band = 'below_40'\n",
    "#mass_band = '40-80'\n",
    "#mass_band = 'above_80'\n",
    "#file_str = f'CE4020ET123_CoBA10_2_PLP_z_MD_zmax_10_lmrd_22_no_spins_pop_from_XPHM_det10_{mass_band}'\n",
    "file_str = f'LHI_Asharp_2_PLP_z_MD_zmax_10_lmrd_22_no_spins_365_days_pop_from_XPHM_det10_{mass_band}'\n",
    "fm_err_file = os.path.join(base_dir, 'GWFish_analysis', 'BBH', 'Errors', 'mass_bands',\n",
    "                           f'{file_str}.h5')\n",
    "#fm_err_file = os.path.join(base_dir, 'GWBench_analysis', 'BBH', \n",
    "#                           'LHI_Asharp_1_PLP_z_MD_zmax_6_lmrd_22_no_spins_all_events_365_days_pop_from_XPHM.h5')"
   ]
  },
  {
   "cell_type": "code",
   "execution_count": 4,
   "id": "c6dd2fcf-4714-4186-9770-6f64d3ad4931",
   "metadata": {},
   "outputs": [
    {
     "name": "stdout",
     "output_type": "stream",
     "text": [
      "<KeysViewHDF5 ['PSD_H1', 'PSD_I1', 'PSD_L1', 'SNR_H1', 'SNR_I1', 'SNR_L1', 'SNR_mf_H1', 'SNR_mf_I1', 'SNR_mf_L1', 'SNR_mf_from_opt_H1', 'SNR_mf_from_opt_I1', 'SNR_mf_from_opt_L1', 'SNR_mf_from_opt_network', 'SNR_mf_network', 'SNR_network', 'approximant', 'chi_1_in_plane', 'chi_2_in_plane', 'chi_eff', 'chi_p', 'coa_phase', 'cos_spin1_polar', 'cos_spin2_polar', 'dec', 'delta_f', 'distance', 'eta', 'f_final', 'f_lower', 'f_ref', 'inclination', 'inv_q', 'log_distance', 'mass1', 'mass2', 'mchirp', 'mtotal', 'old_index', 'phi_12', 'phi_jl', 'polarization', 'q', 'ra', 'redshift', 'spin1_a', 'spin1_azimuthal', 'spin1_polar', 'spin1x', 'spin1y', 'spin1z', 'spin2_a', 'spin2_azimuthal', 'spin2_polar', 'spin2x', 'spin2y', 'spin2z', 'srcmass1', 'srcmass2', 'srcmchirp', 'srcmtotal', 'theta_jn', 'time_interval', 'trigger_time']>\n"
     ]
    }
   ],
   "source": [
    "with h5py.File(fm_err_file, 'r') as f:\n",
    "    print(f['all_inj_params_original'].keys())\n",
    "    #print(f['all_inj_params_original']['0']['q'][()])"
   ]
  },
  {
   "cell_type": "code",
   "execution_count": 5,
   "id": "b5ea7445-2cf9-483b-8663-756ef221d28e",
   "metadata": {},
   "outputs": [],
   "source": [
    "fm_results = load_results_from_h5(fm_err_file)"
   ]
  },
  {
   "cell_type": "code",
   "execution_count": 6,
   "id": "ffad8abb-a4d0-4f27-a447-2546fd14cc44",
   "metadata": {},
   "outputs": [
    {
     "data": {
      "text/plain": [
       "3357"
      ]
     },
     "execution_count": 6,
     "metadata": {},
     "output_type": "execute_result"
    }
   ],
   "source": [
    "num_events = len(fm_results['errors']['chirp_mass'])\n",
    "num_events"
   ]
  },
  {
   "cell_type": "code",
   "execution_count": 7,
   "id": "12be6603-662d-458a-b803-fbc12f2b1b99",
   "metadata": {
    "scrolled": true
   },
   "outputs": [],
   "source": [
    "for key,val in fm_results.items():\n",
    "    if type(val) == dict:\n",
    "        fm_results[key] = pd.DataFrame(fm_results[key])"
   ]
  },
  {
   "cell_type": "code",
   "execution_count": 8,
   "id": "edee7d32-b729-4905-94ce-1d450653c7a9",
   "metadata": {},
   "outputs": [],
   "source": [
    "for key in fm_results['all_inj_params_original'].keys():\n",
    "    if 'PSD' in key or 'approximant' in key:\n",
    "        del fm_results['all_inj_params_original'][key]"
   ]
  },
  {
   "cell_type": "markdown",
   "id": "73b6866d-7720-47a1-88cb-29240656391b",
   "metadata": {},
   "source": [
    "## Convert DL to logDL cov matrix"
   ]
  },
  {
   "cell_type": "code",
   "execution_count": 9,
   "id": "98f7da7d-b0c6-4e9f-a805-b5f112893d63",
   "metadata": {},
   "outputs": [],
   "source": [
    "def transform_cov_DL_Mc_to_logDL_logMc(cov, DL, DL_index, Mc, Mc_index):\n",
    "    \"\"\"\n",
    "    Transforms a covariance matrix where:\n",
    "    - DL is replaced with log_DL using dlogDL/dDL = 1/DL\n",
    "    - Mc is replaced with log_Mc using dlogMc/dMc = 1/Mc\n",
    "    - Other parameters remain unchanged\n",
    "\n",
    "    Parameters:\n",
    "    -----------\n",
    "    cov : np.ndarray\n",
    "        Original NxN covariance matrix including DL and Mc.\n",
    "    DL : float\n",
    "        Mean value of DL (Mpc).\n",
    "    DL_index : int\n",
    "        Index of DL in the covariance matrix.\n",
    "    Mc : float\n",
    "        Mean value of chirp mass (solar masses).\n",
    "    Mc_index : int\n",
    "        Index of Mc in the covariance matrix.\n",
    "\n",
    "    Returns:\n",
    "    --------\n",
    "    cov_new : np.ndarray\n",
    "        Transformed covariance matrix with log_DL and log_Mc replacing DL and Mc.\n",
    "    \"\"\"\n",
    "\n",
    "    # Derivatives for Jacobian\n",
    "    dlogDL_dDL = 1.0 / DL\n",
    "    dlogMc_dMc = 1.0 / Mc\n",
    "\n",
    "    # Build Jacobian matrix\n",
    "    N = cov.shape[0]\n",
    "    J = np.eye(N)\n",
    "    J[DL_index, DL_index] = dlogDL_dDL\n",
    "    J[Mc_index, Mc_index] = dlogMc_dMc\n",
    "\n",
    "    # Transform covariance matrix\n",
    "    cov_new = J @ cov @ J.T\n",
    "\n",
    "    return cov_new"
   ]
  },
  {
   "cell_type": "markdown",
   "id": "473227a2-4a2c-4c4f-8a3e-3f392098d5cc",
   "metadata": {},
   "source": [
    "### Convert cov matrices to new cov matrices"
   ]
  },
  {
   "cell_type": "code",
   "execution_count": 10,
   "id": "461c691a-7478-41e0-a945-626bb32a6463",
   "metadata": {},
   "outputs": [],
   "source": [
    "DL_idx = fm_results['deriv_variables_in_order'].index('luminosity_distance')\n",
    "Mc_idx = fm_results['deriv_variables_in_order'].index('chirp_mass')\n",
    "fm_results['new_cov'] = []\n",
    "for i in range(len(fm_results['cov'])):\n",
    "    new_cov = transform_cov_DL_Mc_to_logDL_logMc(fm_results['cov'][i],\n",
    "                                                 fm_results['inj_params']['luminosity_distance'][i], DL_idx, \n",
    "                                                 fm_results['inj_params']['chirp_mass'][i], Mc_idx)\n",
    "    fm_results['new_cov'].append(new_cov)\n",
    "fm_results['new_cov'] = np.array(fm_results['new_cov'])\n",
    "fm_results['new_deriv_variables_in_order'] = []\n",
    "\n",
    "for var in fm_results['deriv_variables_in_order']:\n",
    "    if var == 'luminosity_distance' or var == 'chirp_mass':\n",
    "        fm_results['new_deriv_variables_in_order'].append(f'log_{var}')\n",
    "    else:\n",
    "        fm_results['new_deriv_variables_in_order'].append(var)"
   ]
  },
  {
   "cell_type": "code",
   "execution_count": 11,
   "id": "23ec1a03-3a17-4284-bc39-b59df296eb8a",
   "metadata": {},
   "outputs": [
    {
     "data": {
      "text/plain": [
       "['log_chirp_mass',\n",
       " 'mass_ratio',\n",
       " 'log_luminosity_distance',\n",
       " 'theta_jn',\n",
       " 'phase',\n",
       " 'geocent_time',\n",
       " 'ra',\n",
       " 'dec',\n",
       " 'psi']"
      ]
     },
     "execution_count": 11,
     "metadata": {},
     "output_type": "execute_result"
    }
   ],
   "source": [
    "fm_results['new_deriv_variables_in_order']"
   ]
  },
  {
   "cell_type": "markdown",
   "id": "6defface-61c6-4255-b398-39f0ea285f1a",
   "metadata": {},
   "source": [
    "### Sanity check the errors are consistent"
   ]
  },
  {
   "cell_type": "code",
   "execution_count": 12,
   "id": "74b1595b-1e48-4526-9e04-963f64adc54d",
   "metadata": {},
   "outputs": [],
   "source": [
    "fm_results['errors']['log_luminosity_distance'] = fm_results['errors']['luminosity_distance']/fm_results['all_inj_params_original']['distance']\n",
    "log_DL_idx = list(fm_results['new_deriv_variables_in_order']).index('log_luminosity_distance')"
   ]
  },
  {
   "cell_type": "code",
   "execution_count": 13,
   "id": "f92170f0-192a-433f-bbc5-755302bab97f",
   "metadata": {},
   "outputs": [
    {
     "data": {
      "text/plain": [
       "[<matplotlib.lines.Line2D at 0x76e0fb1d5610>]"
      ]
     },
     "execution_count": 13,
     "metadata": {},
     "output_type": "execute_result"
    },
    {
     "data": {
      "image/png": "[encoded data removed]",
      "text/plain": [
       "<Figure size 640x480 with 1 Axes>"
      ]
     },
     "metadata": {},
     "output_type": "display_data"
    }
   ],
   "source": [
    "plt.plot([np.sqrt(cov[log_DL_idx, log_DL_idx]) for cov in fm_results['new_cov']]/fm_results['errors']['log_luminosity_distance'])"
   ]
  },
  {
   "cell_type": "markdown",
   "id": "8e9a0716-58cf-4d42-bf7b-5c07dc47ac93",
   "metadata": {},
   "source": [
    "## Create new means"
   ]
  },
  {
   "cell_type": "code",
   "execution_count": 14,
   "id": "09e6f6de-32ee-40b6-b28c-8ac7ea80bd02",
   "metadata": {},
   "outputs": [
    {
     "data": {
      "text/plain": [
       "['chirp_mass',\n",
       " 'mass_ratio',\n",
       " 'luminosity_distance',\n",
       " 'theta_jn',\n",
       " 'phase',\n",
       " 'geocent_time',\n",
       " 'ra',\n",
       " 'dec',\n",
       " 'psi']"
      ]
     },
     "execution_count": 14,
     "metadata": {},
     "output_type": "execute_result"
    }
   ],
   "source": [
    "fm_results['deriv_variables_in_order']"
   ]
  },
  {
   "cell_type": "code",
   "execution_count": 15,
   "id": "c2035d55-58af-4ebc-9efc-1a2ef7fe6041",
   "metadata": {},
   "outputs": [],
   "source": [
    "param_bounds = {\n",
    "    'chirp_mass':[1, np.inf],\n",
    "    'log_chirp_mass':[0, np.inf],\n",
    "    'mass_ratio':[1/20, 1],\n",
    "    'luminosity_distance':[1, np.inf],\n",
    "    'log_luminosity_distance':[0, np.inf],\n",
    "    'theta_jn':[0, np.pi],\n",
    "    'geocent_time':[-np.inf, np.inf],\n",
    "    'ra':[0, 2*np.pi],\n",
    "    'dec':[-np.pi/2, np.pi/2],\n",
    "    'psi':[0, 2*np.pi]\n",
    "}\n",
    "\n",
    "if max(fm_results['all_inj_params_original']['coa_phase']) > np.pi:\n",
    "    param_bounds['phase'] = [0, 2*np.pi]\n",
    "else:    \n",
    "    param_bounds['phase'] = [-np.pi, np.pi]"
   ]
  },
  {
   "cell_type": "code",
   "execution_count": 16,
   "id": "ae64f471-1e90-4bbd-81c3-90a868102c52",
   "metadata": {},
   "outputs": [
    {
     "data": {
      "text/plain": [
       "{'chirp_mass': [1, inf],\n",
       " 'log_chirp_mass': [0, inf],\n",
       " 'mass_ratio': [0.05, 1],\n",
       " 'luminosity_distance': [1, inf],\n",
       " 'log_luminosity_distance': [0, inf],\n",
       " 'theta_jn': [0, 3.141592653589793],\n",
       " 'geocent_time': [-inf, inf],\n",
       " 'ra': [0, 6.283185307179586],\n",
       " 'dec': [-1.5707963267948966, 1.5707963267948966],\n",
       " 'psi': [0, 6.283185307179586],\n",
       " 'phase': [0, 6.283185307179586]}"
      ]
     },
     "execution_count": 16,
     "metadata": {},
     "output_type": "execute_result"
    }
   ],
   "source": [
    "param_bounds"
   ]
  },
  {
   "cell_type": "markdown",
   "id": "d83e24c4-e7aa-4682-86af-1ca5bcf1e142",
   "metadata": {},
   "source": [
    "### Create posterior using jittered mean values for each parameter"
   ]
  },
  {
   "cell_type": "markdown",
   "id": "8817265b-ba9d-4f75-889b-c4f1461d1ab5",
   "metadata": {},
   "source": [
    "In order to induce noise in the posterior, the following steps are followed:\n",
    "1. Multivariate gaussian (MVG) is created taking true value as mean\n",
    "2. One random sample is drawn for each parameter from the MVG. This sample becomes the new mean mimicking the effect of gaussian noise.\n",
    "3. New gaussian is created taking the above value as the new mean"
   ]
  },
  {
   "cell_type": "markdown",
   "id": "cdfb85b6-d3d6-4688-9021-d67a7da250a8",
   "metadata": {},
   "source": [
    "#### Using transformed cov matrices"
   ]
  },
  {
   "cell_type": "code",
   "execution_count": 17,
   "id": "9d239423-7bec-4e9e-8e66-9df879054872",
   "metadata": {},
   "outputs": [
    {
     "data": {
      "text/plain": [
       "['log_chirp_mass',\n",
       " 'mass_ratio',\n",
       " 'log_luminosity_distance',\n",
       " 'theta_jn',\n",
       " 'phase',\n",
       " 'geocent_time',\n",
       " 'ra',\n",
       " 'dec',\n",
       " 'psi']"
      ]
     },
     "execution_count": 17,
     "metadata": {},
     "output_type": "execute_result"
    }
   ],
   "source": [
    "fm_results['new_deriv_variables_in_order']"
   ]
  },
  {
   "cell_type": "code",
   "execution_count": 18,
   "id": "2e13078d-bc7c-4d64-996a-a9aa11c8dcd9",
   "metadata": {},
   "outputs": [],
   "source": [
    "fm_results['inj_params'].loc[:, 'log_luminosity_distance'] = np.log(fm_results['inj_params']['luminosity_distance'])\n",
    "fm_results['inj_params'].loc[:, 'log_chirp_mass'] = np.log(fm_results['inj_params']['chirp_mass'])"
   ]
  },
  {
   "cell_type": "markdown",
   "id": "d9692046-c8ca-4988-9df6-510e1165dccd",
   "metadata": {},
   "source": [
    "### Check if cov matrices are positive-definite"
   ]
  },
  {
   "cell_type": "code",
   "execution_count": 19,
   "id": "5cfc7d87-17b1-41fc-9c13-b3878ee0f176",
   "metadata": {},
   "outputs": [],
   "source": [
    "failed = []\n",
    "for event in range(len(fm_results['all_inj_params_original'])):\n",
    "    cov = fm_results['new_cov'][event]  # the covariance matrix\n",
    "    try:\n",
    "        np.linalg.cholesky(cov)\n",
    "    except np.linalg.LinAlgError:\n",
    "        failed.append(event)"
   ]
  },
  {
   "cell_type": "code",
   "execution_count": 20,
   "id": "b30596c5-6936-4158-a196-6c6d02d97eb1",
   "metadata": {},
   "outputs": [
    {
     "data": {
      "text/plain": [
       "[]"
      ]
     },
     "execution_count": 20,
     "metadata": {},
     "output_type": "execute_result"
    }
   ],
   "source": [
    "failed"
   ]
  },
  {
   "cell_type": "markdown",
   "id": "159b540d-a3d9-4fa4-a86d-279d7b997bc7",
   "metadata": {},
   "source": [
    "### Get new means"
   ]
  },
  {
   "cell_type": "code",
   "execution_count": 21,
   "id": "19865f73-f60f-4c72-a09b-1a536f65de96",
   "metadata": {},
   "outputs": [],
   "source": [
    "n_events = len(fm_results['new_cov'])\n",
    "fm_results_updated = {'new_mean_vals': []}\n",
    "for key, val in fm_results.items():\n",
    "    if 'variables' in key or 'new_mean' in key:\n",
    "        continue\n",
    "    elif isinstance(val, np.ndarray):\n",
    "        fm_results_updated[key] = []\n",
    "    elif isinstance(val, pd.DataFrame):\n",
    "        fm_results_updated[key] = pd.DataFrame(columns=val.columns)"
   ]
  },
  {
   "cell_type": "code",
   "execution_count": 22,
   "id": "8a569ae8-269c-42fc-ad93-7623653bf20a",
   "metadata": {},
   "outputs": [
    {
     "data": {
      "text/plain": [
       "[('new_mean_vals', list),\n",
       " ('all_inj_params_original', pandas.core.frame.DataFrame),\n",
       " ('cov', list),\n",
       " ('errors', pandas.core.frame.DataFrame),\n",
       " ('inj_params', pandas.core.frame.DataFrame),\n",
       " ('netw_snrs', list),\n",
       " ('sky_locs', list),\n",
       " ('new_cov', list)]"
      ]
     },
     "execution_count": 22,
     "metadata": {},
     "output_type": "execute_result"
    }
   ],
   "source": [
    "[(key, type(fm_results_updated[key])) for key in fm_results_updated.keys()]"
   ]
  },
  {
   "cell_type": "code",
   "execution_count": 23,
   "id": "e78907e1-2d74-4fba-b6d4-b44d32bd62a1",
   "metadata": {},
   "outputs": [
    {
     "name": "stderr",
     "output_type": "stream",
     "text": [
      "100%|██████████████████████████████████████████████████████████████████████████████████████████████████████████████████████████████████████████████| 3357/3357 [00:22<00:00, 146.69it/s]"
     ]
    },
    {
     "name": "stdout",
     "output_type": "stream",
     "text": [
      "Failed to convert events: [247, 393, 2518, 2539, 2852, 3045]\n"
     ]
    },
    {
     "name": "stderr",
     "output_type": "stream",
     "text": [
      "\n"
     ]
    }
   ],
   "source": [
    "from numpy.linalg import LinAlgError\n",
    "import logging\n",
    "\n",
    "logging.getLogger('bilby').setLevel(logging.ERROR)\n",
    "failed_convert_posteriors = []\n",
    "\n",
    "for event in tqdm(range(n_events)):\n",
    "    mu = [fm_results['inj_params'][param][event] for param in fm_results['new_deriv_variables_in_order']]\n",
    "    cov = fm_results['new_cov'][event]\n",
    "\n",
    "    # Symmetrize covariance\n",
    "    cov = (cov + cov.T) / 2\n",
    "\n",
    "    # Try constructing the posterior, adding jitter if needed\n",
    "    for attempt in range(5):\n",
    "        try:\n",
    "            mvg = MultivariateGaussianDist(\n",
    "                fm_results['new_deriv_variables_in_order'],\n",
    "                mus=mu,\n",
    "                covs=cov,\n",
    "                bounds=[param_bounds[param] for param in fm_results['new_deriv_variables_in_order']]\n",
    "            )\n",
    "            break\n",
    "        except LinAlgError:\n",
    "            # Add increasing jitter\n",
    "            eps = 1e-12 * (10 ** attempt)\n",
    "            cov += eps * np.eye(cov.shape[0])\n",
    "        except ValueError:\n",
    "            # Add increasing jitter\n",
    "            eps = 1e-12 * (10 ** attempt)\n",
    "            cov += eps * np.eye(cov.shape[0])\n",
    "    else:\n",
    "        failed_convert_posteriors.append(event)\n",
    "        continue  # skip this event\n",
    "\n",
    "    # Sample new mean values\n",
    "    new_mean_vals = {param: MultivariateGaussian(mvg, param).sample() \n",
    "                     for param in fm_results['new_deriv_variables_in_order']}\n",
    "    fm_results_updated['new_mean_vals'].append(new_mean_vals)\n",
    "    for key in fm_results_updated.keys():\n",
    "        if key == 'new_mean_vals':\n",
    "            continue\n",
    "        else:\n",
    "            if isinstance(fm_results_updated[key], pd.DataFrame):\n",
    "                fm_results_updated[key].loc[event] = fm_results[key].loc[event]\n",
    "            elif isinstance(fm_results_updated[key], list):\n",
    "                fm_results_updated[key].append(fm_results[key][event])\n",
    "\n",
    "if failed_convert_posteriors:\n",
    "    print(f\"Failed to convert events: {failed_convert_posteriors}\")"
   ]
  },
  {
   "cell_type": "code",
   "execution_count": 24,
   "id": "88c6f37d-ac8c-4f96-9b39-e5c19a21114a",
   "metadata": {},
   "outputs": [],
   "source": [
    "fm_results_updated['all_inj_params_original'].reset_index(inplace=True, drop=True)\n",
    "fm_results_updated['inj_params'].reset_index(inplace=True, drop=True)\n",
    "fm_results_updated['errors'].reset_index(inplace=True, drop=True)\n",
    "fm_results_updated['new_mean_vals'] = pd.DataFrame(fm_results_updated['new_mean_vals'])"
   ]
  },
  {
   "cell_type": "code",
   "execution_count": 25,
   "id": "d4dc07b5-60c7-4df5-aaa7-a53bc5497624",
   "metadata": {},
   "outputs": [
    {
     "data": {
      "text/plain": [
       "[3351, 3351, 3351, 3351, 3351, 3351, 3351, 3351]"
      ]
     },
     "execution_count": 25,
     "metadata": {},
     "output_type": "execute_result"
    }
   ],
   "source": [
    "[len(fm_results_updated[key]) for key in fm_results_updated.keys()]"
   ]
  },
  {
   "cell_type": "code",
   "execution_count": 26,
   "id": "6bebb564-2737-4423-9084-5237aecb7955",
   "metadata": {},
   "outputs": [
    {
     "data": {
      "image/png": "[encoded data removed]",
      "text/plain": [
       "<Figure size 640x480 with 1 Axes>"
      ]
     },
     "metadata": {},
     "output_type": "display_data"
    }
   ],
   "source": [
    "plt.plot(fm_results_updated['inj_params']['log_luminosity_distance'], \n",
    "         fm_results_updated['inj_params']['log_luminosity_distance']/fm_results_updated['new_mean_vals']['log_luminosity_distance'], \n",
    "         '.');"
   ]
  },
  {
   "cell_type": "markdown",
   "id": "09d90084-cb19-4f39-9022-72451f429659",
   "metadata": {},
   "source": [
    "#### Save new means to h5"
   ]
  },
  {
   "cell_type": "code",
   "execution_count": 27,
   "id": "a3ce2e44-e0d5-4065-a2ea-4fe8c12bbb36",
   "metadata": {},
   "outputs": [],
   "source": [
    "def save_to_h5_group(group, data, string_dtype, key=None):\n",
    "    # if key is given, create dataset/group under that name\n",
    "    if isinstance(data, dict):\n",
    "        subgroup = group if key is None else group.create_group(str(key))\n",
    "        for k, v in data.items():\n",
    "            save_to_h5_group(subgroup, v, string_dtype, k)\n",
    "\n",
    "    elif isinstance(data, (list, tuple)):\n",
    "        subgroup = group if key is None else group.create_group(str(key))\n",
    "        for i, item in enumerate(data):\n",
    "            save_to_h5_group(subgroup, item, string_dtype, str(i))\n",
    "\n",
    "    elif isinstance(data, pd.DataFrame):\n",
    "        subgroup = group if key is None else group.create_group(str(key))\n",
    "        for col in data.columns:\n",
    "            subgroup.create_dataset(str(col), data=data[col].to_numpy())\n",
    "\n",
    "    elif isinstance(data, str):\n",
    "        if key is None:\n",
    "            raise ValueError(\"Strings must be stored with a key\")\n",
    "        group.create_dataset(str(key), data=data, dtype=string_dtype)\n",
    "\n",
    "    else:\n",
    "        if key is None:\n",
    "            raise ValueError(\"Scalars/arrays must be stored with a key\")\n",
    "        group.create_dataset(str(key), data=np.array(data))\n",
    "\n",
    "\n",
    "def save_results_to_h5(results, filename):\n",
    "    dt = h5py.string_dtype(encoding='utf-8')\n",
    "    with h5py.File(filename, 'w') as f:\n",
    "        save_to_h5_group(f, results, dt)"
   ]
  },
  {
   "cell_type": "code",
   "execution_count": 28,
   "id": "5f6d29bd-4298-4bf2-8cfc-577bf22e4848",
   "metadata": {
    "scrolled": true
   },
   "outputs": [
    {
     "data": {
      "text/plain": [
       "'/home/divyajyoti/ACADEMIC/Projects/Cardiff_University/Next_gen_detectability/A-sharp-study/GWFish_analysis/BBH/Errors/mass_bands/LHI_Asharp_2_PLP_z_MD_zmax_10_lmrd_22_no_spins_365_days_pop_from_XPHM_det10_below_40.h5'"
      ]
     },
     "execution_count": 28,
     "metadata": {},
     "output_type": "execute_result"
    }
   ],
   "source": [
    "fm_err_file"
   ]
  },
  {
   "cell_type": "code",
   "execution_count": 29,
   "id": "8088a175-7569-4e4d-8319-830723a1e50b",
   "metadata": {},
   "outputs": [
    {
     "data": {
      "text/plain": [
       "3357"
      ]
     },
     "execution_count": 29,
     "metadata": {},
     "output_type": "execute_result"
    }
   ],
   "source": [
    "num_events"
   ]
  },
  {
   "cell_type": "code",
   "execution_count": 30,
   "id": "2a563dd8-c7ea-4254-bef4-bdc08fb2c1fd",
   "metadata": {},
   "outputs": [
    {
     "data": {
      "text/plain": [
       "'/home/divyajyoti/ACADEMIC/Projects/Cardiff_University/Next_gen_detectability/A-sharp-study/GWFish_analysis/BBH/Errors/mass_bands/LHI_Asharp_2_PLP_z_MD_zmax_10_lmrd_22_no_spins_365_days_pop_from_XPHM_det10_below_40_with_new_means2.h5'"
      ]
     },
     "execution_count": 30,
     "metadata": {},
     "output_type": "execute_result"
    }
   ],
   "source": [
    "new_fm_file = fm_err_file.replace('.h5', '_with_new_means2.h5').replace(str(num_events), str(len(fm_results_updated['new_mean_vals'])))\n",
    "new_fm_file"
   ]
  },
  {
   "cell_type": "code",
   "execution_count": 31,
   "id": "ee4013c7-3e70-4f62-8e87-951215604ae4",
   "metadata": {},
   "outputs": [],
   "source": [
    "save_results_to_h5(fm_results, new_fm_file)"
   ]
  },
  {
   "cell_type": "markdown",
   "id": "358986b2-1539-4bcf-bfb9-07e0acb4477f",
   "metadata": {},
   "source": [
    "## Calculate SNRs with new means for samples with SNR <=15"
   ]
  },
  {
   "cell_type": "code",
   "execution_count": 32,
   "id": "0b356375-81ac-4a37-bd2a-6e9b7dc46e32",
   "metadata": {},
   "outputs": [],
   "source": [
    "fm_results_updated['netw_snrs'] = np.array(fm_results_updated['netw_snrs'])"
   ]
  },
  {
   "cell_type": "code",
   "execution_count": 33,
   "id": "570f488c-35d2-4a42-907d-6c629650587b",
   "metadata": {},
   "outputs": [],
   "source": [
    "snr_mask_below_15 = (fm_results_updated['netw_snrs']<=15)\n",
    "snr_mask_above_15 = (fm_results_updated['netw_snrs']>15)"
   ]
  },
  {
   "cell_type": "code",
   "execution_count": 34,
   "id": "53e70495-b4d9-467a-bdc1-59e600f8620d",
   "metadata": {},
   "outputs": [
    {
     "data": {
      "text/plain": [
       "2120"
      ]
     },
     "execution_count": 34,
     "metadata": {},
     "output_type": "execute_result"
    }
   ],
   "source": [
    "len(fm_results_updated['netw_snrs'][snr_mask_below_15])"
   ]
  },
  {
   "cell_type": "code",
   "execution_count": 35,
   "id": "85db32cd-0c98-4974-95ea-3a4042e631ca",
   "metadata": {},
   "outputs": [
    {
     "data": {
      "text/plain": [
       "1231"
      ]
     },
     "execution_count": 35,
     "metadata": {},
     "output_type": "execute_result"
    }
   ],
   "source": [
    "len(fm_results_updated['netw_snrs'][snr_mask_above_15])"
   ]
  },
  {
   "cell_type": "code",
   "execution_count": 36,
   "id": "29a7c5b5-1c0a-47fe-ba28-dea87b059207",
   "metadata": {},
   "outputs": [],
   "source": [
    "fm_results_snr_below_15 = {}\n",
    "fm_results_snr_above_15 = {}\n",
    "for key, val in fm_results_updated.items():\n",
    "    if type(val) == list:\n",
    "        fm_results_snr_below_15[key] = np.array(val)[snr_mask_below_15]\n",
    "        fm_results_snr_above_15[key] = np.array(val)[snr_mask_above_15]\n",
    "    else:\n",
    "        fm_results_snr_below_15[key] = val[snr_mask_below_15]\n",
    "        fm_results_snr_above_15[key] = val[snr_mask_above_15]\n",
    "    if isinstance(val, pd.DataFrame):\n",
    "        fm_results_snr_below_15[key].reset_index(inplace=True)\n",
    "        fm_results_snr_above_15[key].reset_index(inplace=True)"
   ]
  },
  {
   "cell_type": "code",
   "execution_count": 37,
   "id": "fc85bd41-81c0-40b5-ba85-d7f9eef898e6",
   "metadata": {},
   "outputs": [
    {
     "data": {
      "text/html": [
       "<div>\n",
       "<style scoped>\n",
       "    .dataframe tbody tr th:only-of-type {\n",
       "        vertical-align: middle;\n",
       "    }\n",
       "\n",
       "    .dataframe tbody tr th {\n",
       "        vertical-align: top;\n",
       "    }\n",
       "\n",
       "    .dataframe thead th {\n",
       "        text-align: right;\n",
       "    }\n",
       "</style>\n",
       "<table border=\"1\" class=\"dataframe\">\n",
       "  <thead>\n",
       "    <tr style=\"text-align: right;\">\n",
       "      <th></th>\n",
       "      <th>index</th>\n",
       "      <th>SNR_H1</th>\n",
       "      <th>SNR_I1</th>\n",
       "      <th>SNR_L1</th>\n",
       "      <th>SNR_mf_H1</th>\n",
       "      <th>SNR_mf_I1</th>\n",
       "      <th>SNR_mf_L1</th>\n",
       "      <th>SNR_mf_from_opt_H1</th>\n",
       "      <th>SNR_mf_from_opt_I1</th>\n",
       "      <th>SNR_mf_from_opt_L1</th>\n",
       "      <th>...</th>\n",
       "      <th>spin2x</th>\n",
       "      <th>spin2y</th>\n",
       "      <th>spin2z</th>\n",
       "      <th>srcmass1</th>\n",
       "      <th>srcmass2</th>\n",
       "      <th>srcmchirp</th>\n",
       "      <th>srcmtotal</th>\n",
       "      <th>theta_jn</th>\n",
       "      <th>time_interval</th>\n",
       "      <th>trigger_time</th>\n",
       "    </tr>\n",
       "  </thead>\n",
       "  <tbody>\n",
       "    <tr>\n",
       "      <th>0</th>\n",
       "      <td>0</td>\n",
       "      <td>5.737929</td>\n",
       "      <td>6.612176</td>\n",
       "      <td>4.515110</td>\n",
       "      <td>4.990872</td>\n",
       "      <td>5.949039</td>\n",
       "      <td>5.529881</td>\n",
       "      <td>6.329655</td>\n",
       "      <td>7.729607</td>\n",
       "      <td>5.252206</td>\n",
       "      <td>...</td>\n",
       "      <td>0.141844</td>\n",
       "      <td>0.044275</td>\n",
       "      <td>-0.066039</td>\n",
       "      <td>10.461559</td>\n",
       "      <td>6.814191</td>\n",
       "      <td>7.316764</td>\n",
       "      <td>17.275750</td>\n",
       "      <td>2.565574</td>\n",
       "      <td>499.605743</td>\n",
       "      <td>1.918683e+09</td>\n",
       "    </tr>\n",
       "    <tr>\n",
       "      <th>1</th>\n",
       "      <td>1</td>\n",
       "      <td>6.459393</td>\n",
       "      <td>5.967921</td>\n",
       "      <td>5.250371</td>\n",
       "      <td>7.343760</td>\n",
       "      <td>7.935865</td>\n",
       "      <td>5.183641</td>\n",
       "      <td>6.766340</td>\n",
       "      <td>4.897668</td>\n",
       "      <td>5.541406</td>\n",
       "      <td>...</td>\n",
       "      <td>-0.219477</td>\n",
       "      <td>-0.041962</td>\n",
       "      <td>-0.015915</td>\n",
       "      <td>8.392924</td>\n",
       "      <td>6.371731</td>\n",
       "      <td>6.354154</td>\n",
       "      <td>14.764655</td>\n",
       "      <td>2.348911</td>\n",
       "      <td>2222.426320</td>\n",
       "      <td>1.912483e+09</td>\n",
       "    </tr>\n",
       "    <tr>\n",
       "      <th>2</th>\n",
       "      <td>4</td>\n",
       "      <td>9.460108</td>\n",
       "      <td>5.742980</td>\n",
       "      <td>9.847214</td>\n",
       "      <td>11.405794</td>\n",
       "      <td>5.933732</td>\n",
       "      <td>9.773517</td>\n",
       "      <td>10.853944</td>\n",
       "      <td>5.013345</td>\n",
       "      <td>9.761409</td>\n",
       "      <td>...</td>\n",
       "      <td>0.081307</td>\n",
       "      <td>-0.623728</td>\n",
       "      <td>-0.291770</td>\n",
       "      <td>12.197304</td>\n",
       "      <td>11.636990</td>\n",
       "      <td>10.371038</td>\n",
       "      <td>23.834293</td>\n",
       "      <td>0.604727</td>\n",
       "      <td>136.362457</td>\n",
       "      <td>1.921417e+09</td>\n",
       "    </tr>\n",
       "    <tr>\n",
       "      <th>3</th>\n",
       "      <td>6</td>\n",
       "      <td>5.278256</td>\n",
       "      <td>7.080621</td>\n",
       "      <td>6.633048</td>\n",
       "      <td>6.181388</td>\n",
       "      <td>8.048833</td>\n",
       "      <td>8.091454</td>\n",
       "      <td>4.517418</td>\n",
       "      <td>7.742652</td>\n",
       "      <td>5.729139</td>\n",
       "      <td>...</td>\n",
       "      <td>0.565660</td>\n",
       "      <td>-0.058539</td>\n",
       "      <td>-0.494145</td>\n",
       "      <td>17.334173</td>\n",
       "      <td>13.128419</td>\n",
       "      <td>13.107382</td>\n",
       "      <td>30.462592</td>\n",
       "      <td>2.096383</td>\n",
       "      <td>306.539350</td>\n",
       "      <td>1.923731e+09</td>\n",
       "    </tr>\n",
       "    <tr>\n",
       "      <th>4</th>\n",
       "      <td>8</td>\n",
       "      <td>5.325550</td>\n",
       "      <td>3.977372</td>\n",
       "      <td>6.024175</td>\n",
       "      <td>5.097116</td>\n",
       "      <td>5.051174</td>\n",
       "      <td>4.908736</td>\n",
       "      <td>6.720365</td>\n",
       "      <td>3.730393</td>\n",
       "      <td>7.760278</td>\n",
       "      <td>...</td>\n",
       "      <td>-0.076987</td>\n",
       "      <td>-0.656426</td>\n",
       "      <td>-0.736565</td>\n",
       "      <td>14.806252</td>\n",
       "      <td>9.237804</td>\n",
       "      <td>10.125274</td>\n",
       "      <td>24.044057</td>\n",
       "      <td>1.067849</td>\n",
       "      <td>382.309356</td>\n",
       "      <td>1.897278e+09</td>\n",
       "    </tr>\n",
       "    <tr>\n",
       "      <th>...</th>\n",
       "      <td>...</td>\n",
       "      <td>...</td>\n",
       "      <td>...</td>\n",
       "      <td>...</td>\n",
       "      <td>...</td>\n",
       "      <td>...</td>\n",
       "      <td>...</td>\n",
       "      <td>...</td>\n",
       "      <td>...</td>\n",
       "      <td>...</td>\n",
       "      <td>...</td>\n",
       "      <td>...</td>\n",
       "      <td>...</td>\n",
       "      <td>...</td>\n",
       "      <td>...</td>\n",
       "      <td>...</td>\n",
       "      <td>...</td>\n",
       "      <td>...</td>\n",
       "      <td>...</td>\n",
       "      <td>...</td>\n",
       "      <td>...</td>\n",
       "    </tr>\n",
       "    <tr>\n",
       "      <th>2115</th>\n",
       "      <td>3343</td>\n",
       "      <td>5.905949</td>\n",
       "      <td>6.979376</td>\n",
       "      <td>7.574776</td>\n",
       "      <td>5.456311</td>\n",
       "      <td>6.720567</td>\n",
       "      <td>7.599031</td>\n",
       "      <td>6.090053</td>\n",
       "      <td>6.944513</td>\n",
       "      <td>7.816984</td>\n",
       "      <td>...</td>\n",
       "      <td>0.472832</td>\n",
       "      <td>0.058221</td>\n",
       "      <td>0.014888</td>\n",
       "      <td>9.758681</td>\n",
       "      <td>5.246928</td>\n",
       "      <td>6.170595</td>\n",
       "      <td>15.005609</td>\n",
       "      <td>0.741537</td>\n",
       "      <td>830.011452</td>\n",
       "      <td>1.915111e+09</td>\n",
       "    </tr>\n",
       "    <tr>\n",
       "      <th>2116</th>\n",
       "      <td>3345</td>\n",
       "      <td>8.592440</td>\n",
       "      <td>4.867569</td>\n",
       "      <td>7.473803</td>\n",
       "      <td>8.146766</td>\n",
       "      <td>5.283918</td>\n",
       "      <td>8.286178</td>\n",
       "      <td>8.338752</td>\n",
       "      <td>4.711078</td>\n",
       "      <td>6.529891</td>\n",
       "      <td>...</td>\n",
       "      <td>-0.621032</td>\n",
       "      <td>-0.300933</td>\n",
       "      <td>0.662416</td>\n",
       "      <td>13.628962</td>\n",
       "      <td>12.299460</td>\n",
       "      <td>11.268188</td>\n",
       "      <td>25.928422</td>\n",
       "      <td>1.142771</td>\n",
       "      <td>615.691024</td>\n",
       "      <td>1.924069e+09</td>\n",
       "    </tr>\n",
       "    <tr>\n",
       "      <th>2117</th>\n",
       "      <td>3347</td>\n",
       "      <td>7.838168</td>\n",
       "      <td>6.573160</td>\n",
       "      <td>9.460761</td>\n",
       "      <td>8.998243</td>\n",
       "      <td>7.080569</td>\n",
       "      <td>8.701748</td>\n",
       "      <td>5.769288</td>\n",
       "      <td>6.443492</td>\n",
       "      <td>9.583304</td>\n",
       "      <td>...</td>\n",
       "      <td>-0.064918</td>\n",
       "      <td>-0.054183</td>\n",
       "      <td>-0.002100</td>\n",
       "      <td>12.154861</td>\n",
       "      <td>11.041748</td>\n",
       "      <td>10.082955</td>\n",
       "      <td>23.196610</td>\n",
       "      <td>1.574023</td>\n",
       "      <td>2157.280003</td>\n",
       "      <td>1.924090e+09</td>\n",
       "    </tr>\n",
       "    <tr>\n",
       "      <th>2118</th>\n",
       "      <td>3348</td>\n",
       "      <td>7.498994</td>\n",
       "      <td>7.583466</td>\n",
       "      <td>9.386317</td>\n",
       "      <td>6.598482</td>\n",
       "      <td>7.896857</td>\n",
       "      <td>10.782910</td>\n",
       "      <td>9.419448</td>\n",
       "      <td>6.933749</td>\n",
       "      <td>7.506449</td>\n",
       "      <td>...</td>\n",
       "      <td>-0.282208</td>\n",
       "      <td>-0.290758</td>\n",
       "      <td>0.602100</td>\n",
       "      <td>8.334860</td>\n",
       "      <td>3.432170</td>\n",
       "      <td>4.568218</td>\n",
       "      <td>11.767029</td>\n",
       "      <td>2.002046</td>\n",
       "      <td>727.310107</td>\n",
       "      <td>1.920927e+09</td>\n",
       "    </tr>\n",
       "    <tr>\n",
       "      <th>2119</th>\n",
       "      <td>3350</td>\n",
       "      <td>5.511141</td>\n",
       "      <td>9.095688</td>\n",
       "      <td>8.619414</td>\n",
       "      <td>6.509578</td>\n",
       "      <td>10.487938</td>\n",
       "      <td>9.561373</td>\n",
       "      <td>4.984353</td>\n",
       "      <td>10.309723</td>\n",
       "      <td>6.578988</td>\n",
       "      <td>...</td>\n",
       "      <td>-0.514344</td>\n",
       "      <td>-0.203784</td>\n",
       "      <td>-0.561969</td>\n",
       "      <td>11.831450</td>\n",
       "      <td>7.957392</td>\n",
       "      <td>8.413974</td>\n",
       "      <td>19.788842</td>\n",
       "      <td>2.304982</td>\n",
       "      <td>1360.407499</td>\n",
       "      <td>1.911990e+09</td>\n",
       "    </tr>\n",
       "  </tbody>\n",
       "</table>\n",
       "<p>2120 rows × 60 columns</p>\n",
       "</div>"
      ],
      "text/plain": [
       "      index    SNR_H1    SNR_I1    SNR_L1  SNR_mf_H1  SNR_mf_I1  SNR_mf_L1  \\\n",
       "0         0  5.737929  6.612176  4.515110   4.990872   5.949039   5.529881   \n",
       "1         1  6.459393  5.967921  5.250371   7.343760   7.935865   5.183641   \n",
       "2         4  9.460108  5.742980  9.847214  11.405794   5.933732   9.773517   \n",
       "3         6  5.278256  7.080621  6.633048   6.181388   8.048833   8.091454   \n",
       "4         8  5.325550  3.977372  6.024175   5.097116   5.051174   4.908736   \n",
       "...     ...       ...       ...       ...        ...        ...        ...   \n",
       "2115   3343  5.905949  6.979376  7.574776   5.456311   6.720567   7.599031   \n",
       "2116   3345  8.592440  4.867569  7.473803   8.146766   5.283918   8.286178   \n",
       "2117   3347  7.838168  6.573160  9.460761   8.998243   7.080569   8.701748   \n",
       "2118   3348  7.498994  7.583466  9.386317   6.598482   7.896857  10.782910   \n",
       "2119   3350  5.511141  9.095688  8.619414   6.509578  10.487938   9.561373   \n",
       "\n",
       "      SNR_mf_from_opt_H1  SNR_mf_from_opt_I1  SNR_mf_from_opt_L1  ...  \\\n",
       "0               6.329655            7.729607            5.252206  ...   \n",
       "1               6.766340            4.897668            5.541406  ...   \n",
       "2              10.853944            5.013345            9.761409  ...   \n",
       "3               4.517418            7.742652            5.729139  ...   \n",
       "4               6.720365            3.730393            7.760278  ...   \n",
       "...                  ...                 ...                 ...  ...   \n",
       "2115            6.090053            6.944513            7.816984  ...   \n",
       "2116            8.338752            4.711078            6.529891  ...   \n",
       "2117            5.769288            6.443492            9.583304  ...   \n",
       "2118            9.419448            6.933749            7.506449  ...   \n",
       "2119            4.984353           10.309723            6.578988  ...   \n",
       "\n",
       "        spin2x    spin2y    spin2z   srcmass1   srcmass2  srcmchirp  \\\n",
       "0     0.141844  0.044275 -0.066039  10.461559   6.814191   7.316764   \n",
       "1    -0.219477 -0.041962 -0.015915   8.392924   6.371731   6.354154   \n",
       "2     0.081307 -0.623728 -0.291770  12.197304  11.636990  10.371038   \n",
       "3     0.565660 -0.058539 -0.494145  17.334173  13.128419  13.107382   \n",
       "4    -0.076987 -0.656426 -0.736565  14.806252   9.237804  10.125274   \n",
       "...        ...       ...       ...        ...        ...        ...   \n",
       "2115  0.472832  0.058221  0.014888   9.758681   5.246928   6.170595   \n",
       "2116 -0.621032 -0.300933  0.662416  13.628962  12.299460  11.268188   \n",
       "2117 -0.064918 -0.054183 -0.002100  12.154861  11.041748  10.082955   \n",
       "2118 -0.282208 -0.290758  0.602100   8.334860   3.432170   4.568218   \n",
       "2119 -0.514344 -0.203784 -0.561969  11.831450   7.957392   8.413974   \n",
       "\n",
       "      srcmtotal  theta_jn  time_interval  trigger_time  \n",
       "0     17.275750  2.565574     499.605743  1.918683e+09  \n",
       "1     14.764655  2.348911    2222.426320  1.912483e+09  \n",
       "2     23.834293  0.604727     136.362457  1.921417e+09  \n",
       "3     30.462592  2.096383     306.539350  1.923731e+09  \n",
       "4     24.044057  1.067849     382.309356  1.897278e+09  \n",
       "...         ...       ...            ...           ...  \n",
       "2115  15.005609  0.741537     830.011452  1.915111e+09  \n",
       "2116  25.928422  1.142771     615.691024  1.924069e+09  \n",
       "2117  23.196610  1.574023    2157.280003  1.924090e+09  \n",
       "2118  11.767029  2.002046     727.310107  1.920927e+09  \n",
       "2119  19.788842  2.304982    1360.407499  1.911990e+09  \n",
       "\n",
       "[2120 rows x 60 columns]"
      ]
     },
     "execution_count": 37,
     "metadata": {},
     "output_type": "execute_result"
    }
   ],
   "source": [
    "fm_results_snr_below_15['all_inj_params_original']"
   ]
  },
  {
   "cell_type": "code",
   "execution_count": 38,
   "id": "f7bdbf1d-e8a1-45ee-b609-7f128a9b08fa",
   "metadata": {},
   "outputs": [
    {
     "data": {
      "text/html": [
       "<div>\n",
       "<style scoped>\n",
       "    .dataframe tbody tr th:only-of-type {\n",
       "        vertical-align: middle;\n",
       "    }\n",
       "\n",
       "    .dataframe tbody tr th {\n",
       "        vertical-align: top;\n",
       "    }\n",
       "\n",
       "    .dataframe thead th {\n",
       "        text-align: right;\n",
       "    }\n",
       "</style>\n",
       "<table border=\"1\" class=\"dataframe\">\n",
       "  <thead>\n",
       "    <tr style=\"text-align: right;\">\n",
       "      <th></th>\n",
       "      <th>index</th>\n",
       "      <th>log_chirp_mass</th>\n",
       "      <th>mass_ratio</th>\n",
       "      <th>log_luminosity_distance</th>\n",
       "      <th>theta_jn</th>\n",
       "      <th>phase</th>\n",
       "      <th>geocent_time</th>\n",
       "      <th>ra</th>\n",
       "      <th>dec</th>\n",
       "      <th>psi</th>\n",
       "    </tr>\n",
       "  </thead>\n",
       "  <tbody>\n",
       "    <tr>\n",
       "      <th>0</th>\n",
       "      <td>0</td>\n",
       "      <td>2.701218</td>\n",
       "      <td>0.677748</td>\n",
       "      <td>9.090233</td>\n",
       "      <td>2.775175</td>\n",
       "      <td>4.038126</td>\n",
       "      <td>1.918683e+09</td>\n",
       "      <td>5.855407</td>\n",
       "      <td>-0.936461</td>\n",
       "      <td>1.531920</td>\n",
       "    </tr>\n",
       "    <tr>\n",
       "      <th>1</th>\n",
       "      <td>1</td>\n",
       "      <td>2.404828</td>\n",
       "      <td>0.776633</td>\n",
       "      <td>8.403015</td>\n",
       "      <td>2.214088</td>\n",
       "      <td>0.828339</td>\n",
       "      <td>1.912483e+09</td>\n",
       "      <td>1.107102</td>\n",
       "      <td>-0.030422</td>\n",
       "      <td>2.769643</td>\n",
       "    </tr>\n",
       "    <tr>\n",
       "      <th>2</th>\n",
       "      <td>4</td>\n",
       "      <td>3.179634</td>\n",
       "      <td>0.954125</td>\n",
       "      <td>9.209640</td>\n",
       "      <td>0.572663</td>\n",
       "      <td>1.324507</td>\n",
       "      <td>1.921417e+09</td>\n",
       "      <td>0.246551</td>\n",
       "      <td>-0.691551</td>\n",
       "      <td>2.741066</td>\n",
       "    </tr>\n",
       "    <tr>\n",
       "      <th>3</th>\n",
       "      <td>6</td>\n",
       "      <td>3.483985</td>\n",
       "      <td>0.854898</td>\n",
       "      <td>9.486652</td>\n",
       "      <td>2.147850</td>\n",
       "      <td>4.997690</td>\n",
       "      <td>1.923731e+09</td>\n",
       "      <td>2.705237</td>\n",
       "      <td>0.140874</td>\n",
       "      <td>1.183550</td>\n",
       "    </tr>\n",
       "    <tr>\n",
       "      <th>4</th>\n",
       "      <td>8</td>\n",
       "      <td>3.384539</td>\n",
       "      <td>0.708692</td>\n",
       "      <td>9.925102</td>\n",
       "      <td>0.609942</td>\n",
       "      <td>1.320263</td>\n",
       "      <td>1.897278e+09</td>\n",
       "      <td>2.463022</td>\n",
       "      <td>0.468256</td>\n",
       "      <td>3.121472</td>\n",
       "    </tr>\n",
       "    <tr>\n",
       "      <th>...</th>\n",
       "      <td>...</td>\n",
       "      <td>...</td>\n",
       "      <td>...</td>\n",
       "      <td>...</td>\n",
       "      <td>...</td>\n",
       "      <td>...</td>\n",
       "      <td>...</td>\n",
       "      <td>...</td>\n",
       "      <td>...</td>\n",
       "      <td>...</td>\n",
       "    </tr>\n",
       "    <tr>\n",
       "      <th>2115</th>\n",
       "      <td>3343</td>\n",
       "      <td>2.536620</td>\n",
       "      <td>0.511932</td>\n",
       "      <td>9.008354</td>\n",
       "      <td>0.394857</td>\n",
       "      <td>0.260469</td>\n",
       "      <td>1.915111e+09</td>\n",
       "      <td>2.357018</td>\n",
       "      <td>0.189034</td>\n",
       "      <td>2.899713</td>\n",
       "    </tr>\n",
       "    <tr>\n",
       "      <th>2116</th>\n",
       "      <td>3345</td>\n",
       "      <td>2.956442</td>\n",
       "      <td>0.915407</td>\n",
       "      <td>8.433193</td>\n",
       "      <td>1.317902</td>\n",
       "      <td>1.139024</td>\n",
       "      <td>1.924069e+09</td>\n",
       "      <td>3.387186</td>\n",
       "      <td>-1.477554</td>\n",
       "      <td>0.592214</td>\n",
       "    </tr>\n",
       "    <tr>\n",
       "      <th>2117</th>\n",
       "      <td>3347</td>\n",
       "      <td>2.623998</td>\n",
       "      <td>0.936153</td>\n",
       "      <td>7.532683</td>\n",
       "      <td>1.576411</td>\n",
       "      <td>4.458816</td>\n",
       "      <td>1.924090e+09</td>\n",
       "      <td>4.121815</td>\n",
       "      <td>-0.000669</td>\n",
       "      <td>2.519419</td>\n",
       "    </tr>\n",
       "    <tr>\n",
       "      <th>2118</th>\n",
       "      <td>3348</td>\n",
       "      <td>1.887721</td>\n",
       "      <td>0.411065</td>\n",
       "      <td>8.019213</td>\n",
       "      <td>2.126426</td>\n",
       "      <td>3.303141</td>\n",
       "      <td>1.920927e+09</td>\n",
       "      <td>5.365635</td>\n",
       "      <td>0.028278</td>\n",
       "      <td>2.668460</td>\n",
       "    </tr>\n",
       "    <tr>\n",
       "      <th>2119</th>\n",
       "      <td>3350</td>\n",
       "      <td>2.710402</td>\n",
       "      <td>0.660143</td>\n",
       "      <td>8.485213</td>\n",
       "      <td>2.143225</td>\n",
       "      <td>1.768736</td>\n",
       "      <td>1.911990e+09</td>\n",
       "      <td>1.227211</td>\n",
       "      <td>-0.190296</td>\n",
       "      <td>2.803107</td>\n",
       "    </tr>\n",
       "  </tbody>\n",
       "</table>\n",
       "<p>2120 rows × 10 columns</p>\n",
       "</div>"
      ],
      "text/plain": [
       "      index  log_chirp_mass  mass_ratio  log_luminosity_distance  theta_jn  \\\n",
       "0         0        2.701218    0.677748                 9.090233  2.775175   \n",
       "1         1        2.404828    0.776633                 8.403015  2.214088   \n",
       "2         4        3.179634    0.954125                 9.209640  0.572663   \n",
       "3         6        3.483985    0.854898                 9.486652  2.147850   \n",
       "4         8        3.384539    0.708692                 9.925102  0.609942   \n",
       "...     ...             ...         ...                      ...       ...   \n",
       "2115   3343        2.536620    0.511932                 9.008354  0.394857   \n",
       "2116   3345        2.956442    0.915407                 8.433193  1.317902   \n",
       "2117   3347        2.623998    0.936153                 7.532683  1.576411   \n",
       "2118   3348        1.887721    0.411065                 8.019213  2.126426   \n",
       "2119   3350        2.710402    0.660143                 8.485213  2.143225   \n",
       "\n",
       "         phase  geocent_time        ra       dec       psi  \n",
       "0     4.038126  1.918683e+09  5.855407 -0.936461  1.531920  \n",
       "1     0.828339  1.912483e+09  1.107102 -0.030422  2.769643  \n",
       "2     1.324507  1.921417e+09  0.246551 -0.691551  2.741066  \n",
       "3     4.997690  1.923731e+09  2.705237  0.140874  1.183550  \n",
       "4     1.320263  1.897278e+09  2.463022  0.468256  3.121472  \n",
       "...        ...           ...       ...       ...       ...  \n",
       "2115  0.260469  1.915111e+09  2.357018  0.189034  2.899713  \n",
       "2116  1.139024  1.924069e+09  3.387186 -1.477554  0.592214  \n",
       "2117  4.458816  1.924090e+09  4.121815 -0.000669  2.519419  \n",
       "2118  3.303141  1.920927e+09  5.365635  0.028278  2.668460  \n",
       "2119  1.768736  1.911990e+09  1.227211 -0.190296  2.803107  \n",
       "\n",
       "[2120 rows x 10 columns]"
      ]
     },
     "execution_count": 38,
     "metadata": {},
     "output_type": "execute_result"
    }
   ],
   "source": [
    "fm_results_snr_below_15['new_mean_vals']"
   ]
  },
  {
   "cell_type": "code",
   "execution_count": 39,
   "id": "893d96a7-889d-4934-98f9-e1cf08a20a99",
   "metadata": {},
   "outputs": [],
   "source": [
    "pycbc_to_pesummary_map_spins = {\n",
    "    'spin1_a': 'a_1',\n",
    "    'spin2_a': 'a_2',\n",
    "    'spin1_polar': 'tilt_1',\n",
    "    'spin2_polar':'tilt_2',\n",
    "    'phi_12': 'phi_12',\n",
    "    'phi_jl': 'phi_jl'\n",
    "}\n",
    "gwfish_det_dict = {'L1':'L', 'H1':'H', 'I1':'IN'}"
   ]
  },
  {
   "cell_type": "code",
   "execution_count": 40,
   "id": "fd6de166-8cdd-43c6-88f9-08dae837e27e",
   "metadata": {},
   "outputs": [
    {
     "data": {
      "text/plain": [
       "['chirp_mass',\n",
       " 'mass_ratio',\n",
       " 'luminosity_distance',\n",
       " 'theta_jn',\n",
       " 'phase',\n",
       " 'geocent_time',\n",
       " 'ra',\n",
       " 'dec',\n",
       " 'psi']"
      ]
     },
     "execution_count": 40,
     "metadata": {},
     "output_type": "execute_result"
    }
   ],
   "source": [
    "fm_results['deriv_variables_in_order']"
   ]
  },
  {
   "cell_type": "code",
   "execution_count": 41,
   "id": "0697d8cc-8c53-455e-aa47-be0f8586771a",
   "metadata": {},
   "outputs": [
    {
     "name": "stderr",
     "output_type": "stream",
     "text": [
      "/tmp/ipykernel_24353/896725840.py:1: SettingWithCopyWarning: \n",
      "A value is trying to be set on a copy of a slice from a DataFrame.\n",
      "Try using .loc[row_indexer,col_indexer] = value instead\n",
      "\n",
      "See the caveats in the documentation: https://pandas.pydata.org/pandas-docs/stable/user_guide/indexing.html#returning-a-view-versus-a-copy\n",
      "  fm_results_snr_below_15['new_mean_vals'].loc[:,'chirp_mass'] = np.exp(fm_results_snr_below_15['new_mean_vals']['log_chirp_mass'])\n",
      "/tmp/ipykernel_24353/896725840.py:2: SettingWithCopyWarning: \n",
      "A value is trying to be set on a copy of a slice from a DataFrame.\n",
      "Try using .loc[row_indexer,col_indexer] = value instead\n",
      "\n",
      "See the caveats in the documentation: https://pandas.pydata.org/pandas-docs/stable/user_guide/indexing.html#returning-a-view-versus-a-copy\n",
      "  fm_results_snr_below_15['new_mean_vals'].loc[:,'luminosity_distance'] = np.exp(fm_results_snr_below_15['new_mean_vals']['log_luminosity_distance'])\n"
     ]
    }
   ],
   "source": [
    "fm_results_snr_below_15['new_mean_vals'].loc[:,'chirp_mass'] = np.exp(fm_results_snr_below_15['new_mean_vals']['log_chirp_mass'])\n",
    "fm_results_snr_below_15['new_mean_vals'].loc[:,'luminosity_distance'] = np.exp(fm_results_snr_below_15['new_mean_vals']['log_luminosity_distance'])"
   ]
  },
  {
   "cell_type": "code",
   "execution_count": 42,
   "id": "e91041fc-7799-4e41-ba21-df3648813bb0",
   "metadata": {},
   "outputs": [
    {
     "data": {
      "text/html": [
       "<div>\n",
       "<style scoped>\n",
       "    .dataframe tbody tr th:only-of-type {\n",
       "        vertical-align: middle;\n",
       "    }\n",
       "\n",
       "    .dataframe tbody tr th {\n",
       "        vertical-align: top;\n",
       "    }\n",
       "\n",
       "    .dataframe thead th {\n",
       "        text-align: right;\n",
       "    }\n",
       "</style>\n",
       "<table border=\"1\" class=\"dataframe\">\n",
       "  <thead>\n",
       "    <tr style=\"text-align: right;\">\n",
       "      <th></th>\n",
       "      <th>index</th>\n",
       "      <th>log_chirp_mass</th>\n",
       "      <th>mass_ratio</th>\n",
       "      <th>log_luminosity_distance</th>\n",
       "      <th>theta_jn</th>\n",
       "      <th>phase</th>\n",
       "      <th>geocent_time</th>\n",
       "      <th>ra</th>\n",
       "      <th>dec</th>\n",
       "      <th>psi</th>\n",
       "      <th>chirp_mass</th>\n",
       "      <th>luminosity_distance</th>\n",
       "    </tr>\n",
       "  </thead>\n",
       "  <tbody>\n",
       "    <tr>\n",
       "      <th>0</th>\n",
       "      <td>0</td>\n",
       "      <td>2.701218</td>\n",
       "      <td>0.677748</td>\n",
       "      <td>9.090233</td>\n",
       "      <td>2.775175</td>\n",
       "      <td>4.038126</td>\n",
       "      <td>1.918683e+09</td>\n",
       "      <td>5.855407</td>\n",
       "      <td>-0.936461</td>\n",
       "      <td>1.531920</td>\n",
       "      <td>14.897870</td>\n",
       "      <td>8868.256133</td>\n",
       "    </tr>\n",
       "    <tr>\n",
       "      <th>1</th>\n",
       "      <td>1</td>\n",
       "      <td>2.404828</td>\n",
       "      <td>0.776633</td>\n",
       "      <td>8.403015</td>\n",
       "      <td>2.214088</td>\n",
       "      <td>0.828339</td>\n",
       "      <td>1.912483e+09</td>\n",
       "      <td>1.107102</td>\n",
       "      <td>-0.030422</td>\n",
       "      <td>2.769643</td>\n",
       "      <td>11.076529</td>\n",
       "      <td>4460.495661</td>\n",
       "    </tr>\n",
       "    <tr>\n",
       "      <th>2</th>\n",
       "      <td>4</td>\n",
       "      <td>3.179634</td>\n",
       "      <td>0.954125</td>\n",
       "      <td>9.209640</td>\n",
       "      <td>0.572663</td>\n",
       "      <td>1.324507</td>\n",
       "      <td>1.921417e+09</td>\n",
       "      <td>0.246551</td>\n",
       "      <td>-0.691551</td>\n",
       "      <td>2.741066</td>\n",
       "      <td>24.037965</td>\n",
       "      <td>9993.003452</td>\n",
       "    </tr>\n",
       "    <tr>\n",
       "      <th>3</th>\n",
       "      <td>6</td>\n",
       "      <td>3.483985</td>\n",
       "      <td>0.854898</td>\n",
       "      <td>9.486652</td>\n",
       "      <td>2.147850</td>\n",
       "      <td>4.997690</td>\n",
       "      <td>1.923731e+09</td>\n",
       "      <td>2.705237</td>\n",
       "      <td>0.140874</td>\n",
       "      <td>1.183550</td>\n",
       "      <td>32.589338</td>\n",
       "      <td>13182.584940</td>\n",
       "    </tr>\n",
       "    <tr>\n",
       "      <th>4</th>\n",
       "      <td>8</td>\n",
       "      <td>3.384539</td>\n",
       "      <td>0.708692</td>\n",
       "      <td>9.925102</td>\n",
       "      <td>0.609942</td>\n",
       "      <td>1.320263</td>\n",
       "      <td>1.897278e+09</td>\n",
       "      <td>2.463022</td>\n",
       "      <td>0.468256</td>\n",
       "      <td>3.121472</td>\n",
       "      <td>29.504384</td>\n",
       "      <td>20436.993328</td>\n",
       "    </tr>\n",
       "    <tr>\n",
       "      <th>...</th>\n",
       "      <td>...</td>\n",
       "      <td>...</td>\n",
       "      <td>...</td>\n",
       "      <td>...</td>\n",
       "      <td>...</td>\n",
       "      <td>...</td>\n",
       "      <td>...</td>\n",
       "      <td>...</td>\n",
       "      <td>...</td>\n",
       "      <td>...</td>\n",
       "      <td>...</td>\n",
       "      <td>...</td>\n",
       "    </tr>\n",
       "    <tr>\n",
       "      <th>2115</th>\n",
       "      <td>3343</td>\n",
       "      <td>2.536620</td>\n",
       "      <td>0.511932</td>\n",
       "      <td>9.008354</td>\n",
       "      <td>0.394857</td>\n",
       "      <td>0.260469</td>\n",
       "      <td>1.915111e+09</td>\n",
       "      <td>2.357018</td>\n",
       "      <td>0.189034</td>\n",
       "      <td>2.899713</td>\n",
       "      <td>12.636882</td>\n",
       "      <td>8171.064140</td>\n",
       "    </tr>\n",
       "    <tr>\n",
       "      <th>2116</th>\n",
       "      <td>3345</td>\n",
       "      <td>2.956442</td>\n",
       "      <td>0.915407</td>\n",
       "      <td>8.433193</td>\n",
       "      <td>1.317902</td>\n",
       "      <td>1.139024</td>\n",
       "      <td>1.924069e+09</td>\n",
       "      <td>3.387186</td>\n",
       "      <td>-1.477554</td>\n",
       "      <td>0.592214</td>\n",
       "      <td>19.229424</td>\n",
       "      <td>4597.157606</td>\n",
       "    </tr>\n",
       "    <tr>\n",
       "      <th>2117</th>\n",
       "      <td>3347</td>\n",
       "      <td>2.623998</td>\n",
       "      <td>0.936153</td>\n",
       "      <td>7.532683</td>\n",
       "      <td>1.576411</td>\n",
       "      <td>4.458816</td>\n",
       "      <td>1.924090e+09</td>\n",
       "      <td>4.121815</td>\n",
       "      <td>-0.000669</td>\n",
       "      <td>2.519419</td>\n",
       "      <td>13.790745</td>\n",
       "      <td>1868.111710</td>\n",
       "    </tr>\n",
       "    <tr>\n",
       "      <th>2118</th>\n",
       "      <td>3348</td>\n",
       "      <td>1.887721</td>\n",
       "      <td>0.411065</td>\n",
       "      <td>8.019213</td>\n",
       "      <td>2.126426</td>\n",
       "      <td>3.303141</td>\n",
       "      <td>1.920927e+09</td>\n",
       "      <td>5.365635</td>\n",
       "      <td>0.028278</td>\n",
       "      <td>2.668460</td>\n",
       "      <td>6.604299</td>\n",
       "      <td>3038.785407</td>\n",
       "    </tr>\n",
       "    <tr>\n",
       "      <th>2119</th>\n",
       "      <td>3350</td>\n",
       "      <td>2.710402</td>\n",
       "      <td>0.660143</td>\n",
       "      <td>8.485213</td>\n",
       "      <td>2.143225</td>\n",
       "      <td>1.768736</td>\n",
       "      <td>1.911990e+09</td>\n",
       "      <td>1.227211</td>\n",
       "      <td>-0.190296</td>\n",
       "      <td>2.803107</td>\n",
       "      <td>15.035320</td>\n",
       "      <td>4842.627310</td>\n",
       "    </tr>\n",
       "  </tbody>\n",
       "</table>\n",
       "<p>2120 rows × 12 columns</p>\n",
       "</div>"
      ],
      "text/plain": [
       "      index  log_chirp_mass  mass_ratio  log_luminosity_distance  theta_jn  \\\n",
       "0         0        2.701218    0.677748                 9.090233  2.775175   \n",
       "1         1        2.404828    0.776633                 8.403015  2.214088   \n",
       "2         4        3.179634    0.954125                 9.209640  0.572663   \n",
       "3         6        3.483985    0.854898                 9.486652  2.147850   \n",
       "4         8        3.384539    0.708692                 9.925102  0.609942   \n",
       "...     ...             ...         ...                      ...       ...   \n",
       "2115   3343        2.536620    0.511932                 9.008354  0.394857   \n",
       "2116   3345        2.956442    0.915407                 8.433193  1.317902   \n",
       "2117   3347        2.623998    0.936153                 7.532683  1.576411   \n",
       "2118   3348        1.887721    0.411065                 8.019213  2.126426   \n",
       "2119   3350        2.710402    0.660143                 8.485213  2.143225   \n",
       "\n",
       "         phase  geocent_time        ra       dec       psi  chirp_mass  \\\n",
       "0     4.038126  1.918683e+09  5.855407 -0.936461  1.531920   14.897870   \n",
       "1     0.828339  1.912483e+09  1.107102 -0.030422  2.769643   11.076529   \n",
       "2     1.324507  1.921417e+09  0.246551 -0.691551  2.741066   24.037965   \n",
       "3     4.997690  1.923731e+09  2.705237  0.140874  1.183550   32.589338   \n",
       "4     1.320263  1.897278e+09  2.463022  0.468256  3.121472   29.504384   \n",
       "...        ...           ...       ...       ...       ...         ...   \n",
       "2115  0.260469  1.915111e+09  2.357018  0.189034  2.899713   12.636882   \n",
       "2116  1.139024  1.924069e+09  3.387186 -1.477554  0.592214   19.229424   \n",
       "2117  4.458816  1.924090e+09  4.121815 -0.000669  2.519419   13.790745   \n",
       "2118  3.303141  1.920927e+09  5.365635  0.028278  2.668460    6.604299   \n",
       "2119  1.768736  1.911990e+09  1.227211 -0.190296  2.803107   15.035320   \n",
       "\n",
       "      luminosity_distance  \n",
       "0             8868.256133  \n",
       "1             4460.495661  \n",
       "2             9993.003452  \n",
       "3            13182.584940  \n",
       "4            20436.993328  \n",
       "...                   ...  \n",
       "2115          8171.064140  \n",
       "2116          4597.157606  \n",
       "2117          1868.111710  \n",
       "2118          3038.785407  \n",
       "2119          4842.627310  \n",
       "\n",
       "[2120 rows x 12 columns]"
      ]
     },
     "execution_count": 42,
     "metadata": {},
     "output_type": "execute_result"
    }
   ],
   "source": [
    "fm_results_snr_below_15['new_mean_vals']"
   ]
  },
  {
   "cell_type": "code",
   "execution_count": 43,
   "id": "db5eb638-0790-4384-b50f-92ed91daafea",
   "metadata": {},
   "outputs": [],
   "source": [
    "gwfish_input_data = {pycbc_to_pesummary_map_spins[key]:fm_results_snr_below_15['all_inj_params_original'][key] for key in pycbc_to_pesummary_map_spins.keys()}\n",
    "for key in fm_results['deriv_variables_in_order']:\n",
    "    gwfish_input_data[key] = fm_results_snr_below_15['new_mean_vals'][key]\n",
    "gwfish_input_data = pd.DataFrame(gwfish_input_data)"
   ]
  },
  {
   "cell_type": "code",
   "execution_count": 44,
   "id": "1b52c907-6087-4d9a-9dcd-bd18cdc3ab2b",
   "metadata": {
    "scrolled": true
   },
   "outputs": [
    {
     "data": {
      "text/html": [
       "<div>\n",
       "<style scoped>\n",
       "    .dataframe tbody tr th:only-of-type {\n",
       "        vertical-align: middle;\n",
       "    }\n",
       "\n",
       "    .dataframe tbody tr th {\n",
       "        vertical-align: top;\n",
       "    }\n",
       "\n",
       "    .dataframe thead th {\n",
       "        text-align: right;\n",
       "    }\n",
       "</style>\n",
       "<table border=\"1\" class=\"dataframe\">\n",
       "  <thead>\n",
       "    <tr style=\"text-align: right;\">\n",
       "      <th></th>\n",
       "      <th>a_1</th>\n",
       "      <th>a_2</th>\n",
       "      <th>tilt_1</th>\n",
       "      <th>tilt_2</th>\n",
       "      <th>phi_12</th>\n",
       "      <th>phi_jl</th>\n",
       "      <th>chirp_mass</th>\n",
       "      <th>mass_ratio</th>\n",
       "      <th>luminosity_distance</th>\n",
       "      <th>theta_jn</th>\n",
       "      <th>phase</th>\n",
       "      <th>geocent_time</th>\n",
       "      <th>ra</th>\n",
       "      <th>dec</th>\n",
       "      <th>psi</th>\n",
       "    </tr>\n",
       "  </thead>\n",
       "  <tbody>\n",
       "    <tr>\n",
       "      <th>0</th>\n",
       "      <td>0.733744</td>\n",
       "      <td>0.162607</td>\n",
       "      <td>0.806790</td>\n",
       "      <td>1.989009</td>\n",
       "      <td>1.199278</td>\n",
       "      <td>1.028160</td>\n",
       "      <td>14.897870</td>\n",
       "      <td>0.677748</td>\n",
       "      <td>8868.256133</td>\n",
       "      <td>2.775175</td>\n",
       "      <td>4.038126</td>\n",
       "      <td>1.918683e+09</td>\n",
       "      <td>5.855407</td>\n",
       "      <td>-0.936461</td>\n",
       "      <td>1.531920</td>\n",
       "    </tr>\n",
       "    <tr>\n",
       "      <th>1</th>\n",
       "      <td>0.776113</td>\n",
       "      <td>0.224019</td>\n",
       "      <td>2.614474</td>\n",
       "      <td>1.641900</td>\n",
       "      <td>4.989302</td>\n",
       "      <td>3.021350</td>\n",
       "      <td>11.076529</td>\n",
       "      <td>0.776633</td>\n",
       "      <td>4460.495661</td>\n",
       "      <td>2.214088</td>\n",
       "      <td>0.828339</td>\n",
       "      <td>1.912483e+09</td>\n",
       "      <td>1.107102</td>\n",
       "      <td>-0.030422</td>\n",
       "      <td>2.769643</td>\n",
       "    </tr>\n",
       "    <tr>\n",
       "      <th>2</th>\n",
       "      <td>0.635659</td>\n",
       "      <td>0.693381</td>\n",
       "      <td>2.332391</td>\n",
       "      <td>2.005115</td>\n",
       "      <td>3.669152</td>\n",
       "      <td>3.298349</td>\n",
       "      <td>24.037965</td>\n",
       "      <td>0.954125</td>\n",
       "      <td>9993.003452</td>\n",
       "      <td>0.572663</td>\n",
       "      <td>1.324507</td>\n",
       "      <td>1.921417e+09</td>\n",
       "      <td>0.246551</td>\n",
       "      <td>-0.691551</td>\n",
       "      <td>2.741066</td>\n",
       "    </tr>\n",
       "    <tr>\n",
       "      <th>3</th>\n",
       "      <td>0.892743</td>\n",
       "      <td>0.753377</td>\n",
       "      <td>1.257484</td>\n",
       "      <td>2.286180</td>\n",
       "      <td>5.520224</td>\n",
       "      <td>1.935453</td>\n",
       "      <td>32.589338</td>\n",
       "      <td>0.854898</td>\n",
       "      <td>13182.584940</td>\n",
       "      <td>2.147850</td>\n",
       "      <td>4.997690</td>\n",
       "      <td>1.923731e+09</td>\n",
       "      <td>2.705237</td>\n",
       "      <td>0.140874</td>\n",
       "      <td>1.183550</td>\n",
       "    </tr>\n",
       "    <tr>\n",
       "      <th>4</th>\n",
       "      <td>0.581470</td>\n",
       "      <td>0.989622</td>\n",
       "      <td>2.310148</td>\n",
       "      <td>2.410267</td>\n",
       "      <td>5.093597</td>\n",
       "      <td>4.612198</td>\n",
       "      <td>29.504384</td>\n",
       "      <td>0.708692</td>\n",
       "      <td>20436.993328</td>\n",
       "      <td>0.609942</td>\n",
       "      <td>1.320263</td>\n",
       "      <td>1.897278e+09</td>\n",
       "      <td>2.463022</td>\n",
       "      <td>0.468256</td>\n",
       "      <td>3.121472</td>\n",
       "    </tr>\n",
       "    <tr>\n",
       "      <th>...</th>\n",
       "      <td>...</td>\n",
       "      <td>...</td>\n",
       "      <td>...</td>\n",
       "      <td>...</td>\n",
       "      <td>...</td>\n",
       "      <td>...</td>\n",
       "      <td>...</td>\n",
       "      <td>...</td>\n",
       "      <td>...</td>\n",
       "      <td>...</td>\n",
       "      <td>...</td>\n",
       "      <td>...</td>\n",
       "      <td>...</td>\n",
       "      <td>...</td>\n",
       "      <td>...</td>\n",
       "    </tr>\n",
       "    <tr>\n",
       "      <th>2115</th>\n",
       "      <td>0.985051</td>\n",
       "      <td>0.476635</td>\n",
       "      <td>1.358079</td>\n",
       "      <td>1.539555</td>\n",
       "      <td>3.785076</td>\n",
       "      <td>0.204583</td>\n",
       "      <td>12.636882</td>\n",
       "      <td>0.511932</td>\n",
       "      <td>8171.064140</td>\n",
       "      <td>0.394857</td>\n",
       "      <td>0.260469</td>\n",
       "      <td>1.915111e+09</td>\n",
       "      <td>2.357018</td>\n",
       "      <td>0.189034</td>\n",
       "      <td>2.899713</td>\n",
       "    </tr>\n",
       "    <tr>\n",
       "      <th>2116</th>\n",
       "      <td>0.195548</td>\n",
       "      <td>0.956575</td>\n",
       "      <td>2.980968</td>\n",
       "      <td>0.805865</td>\n",
       "      <td>5.314391</td>\n",
       "      <td>1.086773</td>\n",
       "      <td>19.229424</td>\n",
       "      <td>0.915407</td>\n",
       "      <td>4597.157606</td>\n",
       "      <td>1.317902</td>\n",
       "      <td>1.139024</td>\n",
       "      <td>1.924069e+09</td>\n",
       "      <td>3.387186</td>\n",
       "      <td>-1.477554</td>\n",
       "      <td>0.592214</td>\n",
       "    </tr>\n",
       "    <tr>\n",
       "      <th>2117</th>\n",
       "      <td>0.370342</td>\n",
       "      <td>0.084585</td>\n",
       "      <td>1.370707</td>\n",
       "      <td>1.595627</td>\n",
       "      <td>3.741948</td>\n",
       "      <td>1.287067</td>\n",
       "      <td>13.790745</td>\n",
       "      <td>0.936153</td>\n",
       "      <td>1868.111710</td>\n",
       "      <td>1.576411</td>\n",
       "      <td>4.458816</td>\n",
       "      <td>1.924090e+09</td>\n",
       "      <td>4.121815</td>\n",
       "      <td>-0.000669</td>\n",
       "      <td>2.519419</td>\n",
       "    </tr>\n",
       "    <tr>\n",
       "      <th>2118</th>\n",
       "      <td>0.511464</td>\n",
       "      <td>0.725745</td>\n",
       "      <td>1.441895</td>\n",
       "      <td>0.592352</td>\n",
       "      <td>1.849265</td>\n",
       "      <td>2.344761</td>\n",
       "      <td>6.604299</td>\n",
       "      <td>0.411065</td>\n",
       "      <td>3038.785407</td>\n",
       "      <td>2.126426</td>\n",
       "      <td>3.303141</td>\n",
       "      <td>1.920927e+09</td>\n",
       "      <td>5.365635</td>\n",
       "      <td>0.028278</td>\n",
       "      <td>2.668460</td>\n",
       "    </tr>\n",
       "    <tr>\n",
       "      <th>2119</th>\n",
       "      <td>0.836044</td>\n",
       "      <td>0.788598</td>\n",
       "      <td>1.420778</td>\n",
       "      <td>2.364019</td>\n",
       "      <td>4.901770</td>\n",
       "      <td>3.098544</td>\n",
       "      <td>15.035320</td>\n",
       "      <td>0.660143</td>\n",
       "      <td>4842.627310</td>\n",
       "      <td>2.143225</td>\n",
       "      <td>1.768736</td>\n",
       "      <td>1.911990e+09</td>\n",
       "      <td>1.227211</td>\n",
       "      <td>-0.190296</td>\n",
       "      <td>2.803107</td>\n",
       "    </tr>\n",
       "  </tbody>\n",
       "</table>\n",
       "<p>2120 rows × 15 columns</p>\n",
       "</div>"
      ],
      "text/plain": [
       "           a_1       a_2    tilt_1    tilt_2    phi_12    phi_jl  chirp_mass  \\\n",
       "0     0.733744  0.162607  0.806790  1.989009  1.199278  1.028160   14.897870   \n",
       "1     0.776113  0.224019  2.614474  1.641900  4.989302  3.021350   11.076529   \n",
       "2     0.635659  0.693381  2.332391  2.005115  3.669152  3.298349   24.037965   \n",
       "3     0.892743  0.753377  1.257484  2.286180  5.520224  1.935453   32.589338   \n",
       "4     0.581470  0.989622  2.310148  2.410267  5.093597  4.612198   29.504384   \n",
       "...        ...       ...       ...       ...       ...       ...         ...   \n",
       "2115  0.985051  0.476635  1.358079  1.539555  3.785076  0.204583   12.636882   \n",
       "2116  0.195548  0.956575  2.980968  0.805865  5.314391  1.086773   19.229424   \n",
       "2117  0.370342  0.084585  1.370707  1.595627  3.741948  1.287067   13.790745   \n",
       "2118  0.511464  0.725745  1.441895  0.592352  1.849265  2.344761    6.604299   \n",
       "2119  0.836044  0.788598  1.420778  2.364019  4.901770  3.098544   15.035320   \n",
       "\n",
       "      mass_ratio  luminosity_distance  theta_jn     phase  geocent_time  \\\n",
       "0       0.677748          8868.256133  2.775175  4.038126  1.918683e+09   \n",
       "1       0.776633          4460.495661  2.214088  0.828339  1.912483e+09   \n",
       "2       0.954125          9993.003452  0.572663  1.324507  1.921417e+09   \n",
       "3       0.854898         13182.584940  2.147850  4.997690  1.923731e+09   \n",
       "4       0.708692         20436.993328  0.609942  1.320263  1.897278e+09   \n",
       "...          ...                  ...       ...       ...           ...   \n",
       "2115    0.511932          8171.064140  0.394857  0.260469  1.915111e+09   \n",
       "2116    0.915407          4597.157606  1.317902  1.139024  1.924069e+09   \n",
       "2117    0.936153          1868.111710  1.576411  4.458816  1.924090e+09   \n",
       "2118    0.411065          3038.785407  2.126426  3.303141  1.920927e+09   \n",
       "2119    0.660143          4842.627310  2.143225  1.768736  1.911990e+09   \n",
       "\n",
       "            ra       dec       psi  \n",
       "0     5.855407 -0.936461  1.531920  \n",
       "1     1.107102 -0.030422  2.769643  \n",
       "2     0.246551 -0.691551  2.741066  \n",
       "3     2.705237  0.140874  1.183550  \n",
       "4     2.463022  0.468256  3.121472  \n",
       "...        ...       ...       ...  \n",
       "2115  2.357018  0.189034  2.899713  \n",
       "2116  3.387186 -1.477554  0.592214  \n",
       "2117  4.121815 -0.000669  2.519419  \n",
       "2118  5.365635  0.028278  2.668460  \n",
       "2119  1.227211 -0.190296  2.803107  \n",
       "\n",
       "[2120 rows x 15 columns]"
      ]
     },
     "execution_count": 44,
     "metadata": {},
     "output_type": "execute_result"
    }
   ],
   "source": [
    "gwfish_input_data"
   ]
  },
  {
   "cell_type": "code",
   "execution_count": 45,
   "id": "301a174a-d20b-4633-8596-023a9932b9ad",
   "metadata": {},
   "outputs": [
    {
     "name": "stderr",
     "output_type": "stream",
     "text": [
      "100%|███████████████████████████████████████████████████████████████████████████████████████████████████████████████████████████████████████████████| 2120/2120 [04:23<00:00,  8.06it/s]\n"
     ]
    }
   ],
   "source": [
    "import GWFish.modules as gwf_mods\n",
    "import pathlib\n",
    "detectors = ['A_sharp_L', 'A_sharp_H', 'A_sharp_IN']\n",
    "#detectors = ['CE1', 'CE2', 'ET']\n",
    "network = gwf_mods.detection.Network(detector_ids = detectors, detection_SNR = (0., 1.), config=pathlib.Path('detectors.yaml'))\n",
    "fm_results_snr_below_15['new_snrs'] = pd.DataFrame()\n",
    "for event in tqdm(range(len(gwfish_input_data))):\n",
    "    gwfish_snr = gwf_mods.utilities.get_snr(gwfish_input_data[event:event+1], network, \n",
    "                                            'IMRPhenomXPHM', \n",
    "                                            f_ref=fm_results_snr_below_15['all_inj_params_original']['f_ref'][0])\n",
    "    fm_results_snr_below_15['new_snrs'] = pd.concat([fm_results_snr_below_15['new_snrs'], gwfish_snr], ignore_index=True)"
   ]
  },
  {
   "cell_type": "code",
   "execution_count": 46,
   "id": "8cc1275c-c1c4-4738-a660-e54753d32693",
   "metadata": {
    "scrolled": true
   },
   "outputs": [],
   "source": [
    "fm_results_snr_below_15['new_snrs'].rename(columns={f'A_sharp_{val}':f'SNR_{key}' for key, val in gwfish_det_dict.items()}, inplace=True)\n",
    "fm_results_snr_below_15['new_snrs'].rename(columns={'CE1':'SNR_C1', 'CE2':'SNR_CE20', 'ET':'SNR_ET'}, inplace=True)\n",
    "fm_results_snr_below_15['new_snrs'].rename(columns={'network':'SNR_network'}, inplace=True)"
   ]
  },
  {
   "cell_type": "code",
   "execution_count": 47,
   "id": "b3f09746-efd9-4649-a5b2-ca5731330d85",
   "metadata": {},
   "outputs": [
    {
     "data": {
      "image/png": "[encoded data removed]",
      "text/plain": [
       "<Figure size 640x480 with 1 Axes>"
      ]
     },
     "metadata": {},
     "output_type": "display_data"
    }
   ],
   "source": [
    "if len(fm_results_snr_below_15['cov']) == 0:\n",
    "    print('No events with SNR <=15')\n",
    "else:\n",
    "    plt.plot(fm_results_snr_below_15['all_inj_params_original']['SNR_network'], \n",
    "             fm_results_snr_below_15['new_snrs']['SNR_network']/fm_results_snr_below_15['all_inj_params_original']['SNR_network'], \n",
    "             '.')\n",
    "    plt.xlabel('Old SNR')\n",
    "    plt.ylabel('New/Old SNR')"
   ]
  },
  {
   "cell_type": "code",
   "execution_count": 48,
   "id": "4c073743-bf02-4f70-b28a-9639676dabd6",
   "metadata": {},
   "outputs": [
    {
     "data": {
      "image/png": "[encoded data removed]",
      "text/plain": [
       "<Figure size 640x480 with 1 Axes>"
      ]
     },
     "metadata": {},
     "output_type": "display_data"
    }
   ],
   "source": [
    "if len(fm_results_snr_below_15['cov']) == 0:\n",
    "    print('No events with SNR <=15')\n",
    "else:\n",
    "    plt.plot(fm_results_snr_below_15['new_snrs']['SNR_network'], \n",
    "             fm_results_snr_below_15['new_snrs']['SNR_network']/fm_results_snr_below_15['all_inj_params_original']['SNR_network'], \n",
    "             '.')\n",
    "    plt.xlabel('New SNR')\n",
    "    plt.ylabel('New/Old SNR')"
   ]
  },
  {
   "cell_type": "code",
   "execution_count": 49,
   "id": "0fdaae52-f5f5-493e-8327-a276e867ca0e",
   "metadata": {},
   "outputs": [
    {
     "data": {
      "image/png": "[encoded data removed]",
      "text/plain": [
       "<Figure size 640x480 with 1 Axes>"
      ]
     },
     "metadata": {},
     "output_type": "display_data"
    }
   ],
   "source": [
    "if len(fm_results_snr_below_15['cov']) == 0:\n",
    "    print('No events with SNR <=15')\n",
    "else:\n",
    "    plt.plot(fm_results_snr_below_15['inj_params']['luminosity_distance']/fm_results_snr_below_15['new_mean_vals']['luminosity_distance'], \n",
    "             fm_results_snr_below_15['new_snrs']['SNR_network']/fm_results_snr_below_15['all_inj_params_original']['SNR_network'], \n",
    "             '.')\n",
    "    plt.xlabel('$D_L^{old} / D_L^{new}$')\n",
    "    plt.ylabel('New/Old SNR')"
   ]
  },
  {
   "cell_type": "code",
   "execution_count": 50,
   "id": "8a5da58a-e75d-4b51-b670-1d479a3030b4",
   "metadata": {},
   "outputs": [
    {
     "data": {
      "image/png": "[encoded data removed]",
      "text/plain": [
       "<Figure size 640x480 with 1 Axes>"
      ]
     },
     "metadata": {},
     "output_type": "display_data"
    }
   ],
   "source": [
    "plt.plot(fm_results_snr_below_15['inj_params']['luminosity_distance'], \n",
    "         fm_results_snr_below_15['inj_params']['luminosity_distance']/fm_results_snr_below_15['new_mean_vals']['luminosity_distance'], \n",
    "         '.');"
   ]
  },
  {
   "cell_type": "markdown",
   "id": "82903596-ca7a-476a-b5b8-2d45fad67d71",
   "metadata": {
    "jp-MarkdownHeadingCollapsed": true
   },
   "source": [
    "### Check the SNR code sanity"
   ]
  },
  {
   "cell_type": "code",
   "execution_count": 60,
   "id": "db700df3-c84a-455f-a89c-d21cd0db238e",
   "metadata": {},
   "outputs": [],
   "source": [
    "test_gwfish_input_data = {pycbc_to_pesummary_map_spins[key]:fm_results_snr_below_15['all_inj_params_original'][key] for key in pycbc_to_pesummary_map_spins.keys()}\n",
    "for key in fm_results['deriv_variables_in_order']:\n",
    "    test_gwfish_input_data[key] = fm_results_snr_below_15['inj_params'][key]\n",
    "test_gwfish_input_data = pd.DataFrame(test_gwfish_input_data)"
   ]
  },
  {
   "cell_type": "code",
   "execution_count": 61,
   "id": "8cc7e4d0-20ba-4b8e-b4f2-38715367ffe7",
   "metadata": {
    "scrolled": true
   },
   "outputs": [
    {
     "data": {
      "text/html": [
       "<div>\n",
       "<style scoped>\n",
       "    .dataframe tbody tr th:only-of-type {\n",
       "        vertical-align: middle;\n",
       "    }\n",
       "\n",
       "    .dataframe tbody tr th {\n",
       "        vertical-align: top;\n",
       "    }\n",
       "\n",
       "    .dataframe thead th {\n",
       "        text-align: right;\n",
       "    }\n",
       "</style>\n",
       "<table border=\"1\" class=\"dataframe\">\n",
       "  <thead>\n",
       "    <tr style=\"text-align: right;\">\n",
       "      <th></th>\n",
       "      <th>a_1</th>\n",
       "      <th>a_2</th>\n",
       "      <th>tilt_1</th>\n",
       "      <th>tilt_2</th>\n",
       "      <th>phi_12</th>\n",
       "      <th>phi_jl</th>\n",
       "      <th>chirp_mass</th>\n",
       "      <th>mass_ratio</th>\n",
       "      <th>luminosity_distance</th>\n",
       "      <th>theta_jn</th>\n",
       "      <th>phase</th>\n",
       "      <th>geocent_time</th>\n",
       "      <th>ra</th>\n",
       "      <th>dec</th>\n",
       "      <th>psi</th>\n",
       "    </tr>\n",
       "  </thead>\n",
       "  <tbody>\n",
       "    <tr>\n",
       "      <th>0</th>\n",
       "      <td>0.733744</td>\n",
       "      <td>0.162607</td>\n",
       "      <td>0.806790</td>\n",
       "      <td>1.989009</td>\n",
       "      <td>1.199278</td>\n",
       "      <td>1.028160</td>\n",
       "      <td>14.903814</td>\n",
       "      <td>0.651355</td>\n",
       "      <td>7102.476949</td>\n",
       "      <td>2.565574</td>\n",
       "      <td>5.043973</td>\n",
       "      <td>1.918683e+09</td>\n",
       "      <td>5.979558</td>\n",
       "      <td>-0.782326</td>\n",
       "      <td>1.868698</td>\n",
       "    </tr>\n",
       "    <tr>\n",
       "      <th>1</th>\n",
       "      <td>0.776113</td>\n",
       "      <td>0.224019</td>\n",
       "      <td>2.614474</td>\n",
       "      <td>1.641900</td>\n",
       "      <td>4.989302</td>\n",
       "      <td>3.021350</td>\n",
       "      <td>11.075118</td>\n",
       "      <td>0.759179</td>\n",
       "      <td>4714.683541</td>\n",
       "      <td>2.348911</td>\n",
       "      <td>1.723476</td>\n",
       "      <td>1.912483e+09</td>\n",
       "      <td>1.100764</td>\n",
       "      <td>-0.053062</td>\n",
       "      <td>2.967122</td>\n",
       "    </tr>\n",
       "    <tr>\n",
       "      <th>2</th>\n",
       "      <td>0.635659</td>\n",
       "      <td>0.693381</td>\n",
       "      <td>2.332391</td>\n",
       "      <td>2.005115</td>\n",
       "      <td>3.669152</td>\n",
       "      <td>3.298349</td>\n",
       "      <td>24.037935</td>\n",
       "      <td>0.954062</td>\n",
       "      <td>9546.153230</td>\n",
       "      <td>0.604727</td>\n",
       "      <td>0.769342</td>\n",
       "      <td>1.921417e+09</td>\n",
       "      <td>0.228548</td>\n",
       "      <td>-0.682888</td>\n",
       "      <td>3.084111</td>\n",
       "    </tr>\n",
       "    <tr>\n",
       "      <th>3</th>\n",
       "      <td>0.892743</td>\n",
       "      <td>0.753377</td>\n",
       "      <td>1.257484</td>\n",
       "      <td>2.286180</td>\n",
       "      <td>5.520224</td>\n",
       "      <td>1.935453</td>\n",
       "      <td>32.588701</td>\n",
       "      <td>0.757372</td>\n",
       "      <td>11071.732285</td>\n",
       "      <td>2.096383</td>\n",
       "      <td>4.580874</td>\n",
       "      <td>1.923731e+09</td>\n",
       "      <td>2.496851</td>\n",
       "      <td>-0.076270</td>\n",
       "      <td>1.317720</td>\n",
       "    </tr>\n",
       "    <tr>\n",
       "      <th>4</th>\n",
       "      <td>0.581470</td>\n",
       "      <td>0.989622</td>\n",
       "      <td>2.310148</td>\n",
       "      <td>2.410267</td>\n",
       "      <td>5.093597</td>\n",
       "      <td>4.612198</td>\n",
       "      <td>29.491745</td>\n",
       "      <td>0.623912</td>\n",
       "      <td>15088.750214</td>\n",
       "      <td>1.067849</td>\n",
       "      <td>2.404491</td>\n",
       "      <td>1.897278e+09</td>\n",
       "      <td>2.476892</td>\n",
       "      <td>0.504245</td>\n",
       "      <td>2.813551</td>\n",
       "    </tr>\n",
       "    <tr>\n",
       "      <th>...</th>\n",
       "      <td>...</td>\n",
       "      <td>...</td>\n",
       "      <td>...</td>\n",
       "      <td>...</td>\n",
       "      <td>...</td>\n",
       "      <td>...</td>\n",
       "      <td>...</td>\n",
       "      <td>...</td>\n",
       "      <td>...</td>\n",
       "      <td>...</td>\n",
       "      <td>...</td>\n",
       "      <td>...</td>\n",
       "      <td>...</td>\n",
       "      <td>...</td>\n",
       "      <td>...</td>\n",
       "    </tr>\n",
       "    <tr>\n",
       "      <th>2115</th>\n",
       "      <td>0.985051</td>\n",
       "      <td>0.476635</td>\n",
       "      <td>1.358079</td>\n",
       "      <td>1.539555</td>\n",
       "      <td>3.785076</td>\n",
       "      <td>0.204583</td>\n",
       "      <td>12.636805</td>\n",
       "      <td>0.537668</td>\n",
       "      <td>7195.229246</td>\n",
       "      <td>0.741537</td>\n",
       "      <td>0.557675</td>\n",
       "      <td>1.915111e+09</td>\n",
       "      <td>2.345870</td>\n",
       "      <td>0.146845</td>\n",
       "      <td>2.756062</td>\n",
       "    </tr>\n",
       "    <tr>\n",
       "      <th>2116</th>\n",
       "      <td>0.195548</td>\n",
       "      <td>0.956575</td>\n",
       "      <td>2.980968</td>\n",
       "      <td>0.805865</td>\n",
       "      <td>5.314391</td>\n",
       "      <td>1.086773</td>\n",
       "      <td>19.225902</td>\n",
       "      <td>0.902450</td>\n",
       "      <td>4431.245707</td>\n",
       "      <td>1.142771</td>\n",
       "      <td>0.564620</td>\n",
       "      <td>1.924069e+09</td>\n",
       "      <td>3.401963</td>\n",
       "      <td>-1.518038</td>\n",
       "      <td>0.845852</td>\n",
       "    </tr>\n",
       "    <tr>\n",
       "      <th>2117</th>\n",
       "      <td>0.370342</td>\n",
       "      <td>0.084585</td>\n",
       "      <td>1.370707</td>\n",
       "      <td>1.595627</td>\n",
       "      <td>3.741948</td>\n",
       "      <td>1.287067</td>\n",
       "      <td>13.791372</td>\n",
       "      <td>0.908422</td>\n",
       "      <td>2028.723340</td>\n",
       "      <td>1.574023</td>\n",
       "      <td>4.461540</td>\n",
       "      <td>1.924090e+09</td>\n",
       "      <td>4.031284</td>\n",
       "      <td>-0.165029</td>\n",
       "      <td>2.507842</td>\n",
       "    </tr>\n",
       "    <tr>\n",
       "      <th>2118</th>\n",
       "      <td>0.511464</td>\n",
       "      <td>0.725745</td>\n",
       "      <td>1.441895</td>\n",
       "      <td>0.592352</td>\n",
       "      <td>1.849265</td>\n",
       "      <td>2.344761</td>\n",
       "      <td>6.604061</td>\n",
       "      <td>0.411785</td>\n",
       "      <td>2544.204711</td>\n",
       "      <td>2.002046</td>\n",
       "      <td>3.218352</td>\n",
       "      <td>1.920927e+09</td>\n",
       "      <td>5.392731</td>\n",
       "      <td>0.091157</td>\n",
       "      <td>2.714773</td>\n",
       "    </tr>\n",
       "    <tr>\n",
       "      <th>2119</th>\n",
       "      <td>0.836044</td>\n",
       "      <td>0.788598</td>\n",
       "      <td>1.420778</td>\n",
       "      <td>2.364019</td>\n",
       "      <td>4.901770</td>\n",
       "      <td>3.098544</td>\n",
       "      <td>15.034956</td>\n",
       "      <td>0.672563</td>\n",
       "      <td>5058.236820</td>\n",
       "      <td>2.304982</td>\n",
       "      <td>1.413865</td>\n",
       "      <td>1.911990e+09</td>\n",
       "      <td>1.265989</td>\n",
       "      <td>-0.081724</td>\n",
       "      <td>2.725028</td>\n",
       "    </tr>\n",
       "  </tbody>\n",
       "</table>\n",
       "<p>2120 rows × 15 columns</p>\n",
       "</div>"
      ],
      "text/plain": [
       "           a_1       a_2    tilt_1    tilt_2    phi_12    phi_jl  chirp_mass  \\\n",
       "0     0.733744  0.162607  0.806790  1.989009  1.199278  1.028160   14.903814   \n",
       "1     0.776113  0.224019  2.614474  1.641900  4.989302  3.021350   11.075118   \n",
       "2     0.635659  0.693381  2.332391  2.005115  3.669152  3.298349   24.037935   \n",
       "3     0.892743  0.753377  1.257484  2.286180  5.520224  1.935453   32.588701   \n",
       "4     0.581470  0.989622  2.310148  2.410267  5.093597  4.612198   29.491745   \n",
       "...        ...       ...       ...       ...       ...       ...         ...   \n",
       "2115  0.985051  0.476635  1.358079  1.539555  3.785076  0.204583   12.636805   \n",
       "2116  0.195548  0.956575  2.980968  0.805865  5.314391  1.086773   19.225902   \n",
       "2117  0.370342  0.084585  1.370707  1.595627  3.741948  1.287067   13.791372   \n",
       "2118  0.511464  0.725745  1.441895  0.592352  1.849265  2.344761    6.604061   \n",
       "2119  0.836044  0.788598  1.420778  2.364019  4.901770  3.098544   15.034956   \n",
       "\n",
       "      mass_ratio  luminosity_distance  theta_jn     phase  geocent_time  \\\n",
       "0       0.651355          7102.476949  2.565574  5.043973  1.918683e+09   \n",
       "1       0.759179          4714.683541  2.348911  1.723476  1.912483e+09   \n",
       "2       0.954062          9546.153230  0.604727  0.769342  1.921417e+09   \n",
       "3       0.757372         11071.732285  2.096383  4.580874  1.923731e+09   \n",
       "4       0.623912         15088.750214  1.067849  2.404491  1.897278e+09   \n",
       "...          ...                  ...       ...       ...           ...   \n",
       "2115    0.537668          7195.229246  0.741537  0.557675  1.915111e+09   \n",
       "2116    0.902450          4431.245707  1.142771  0.564620  1.924069e+09   \n",
       "2117    0.908422          2028.723340  1.574023  4.461540  1.924090e+09   \n",
       "2118    0.411785          2544.204711  2.002046  3.218352  1.920927e+09   \n",
       "2119    0.672563          5058.236820  2.304982  1.413865  1.911990e+09   \n",
       "\n",
       "            ra       dec       psi  \n",
       "0     5.979558 -0.782326  1.868698  \n",
       "1     1.100764 -0.053062  2.967122  \n",
       "2     0.228548 -0.682888  3.084111  \n",
       "3     2.496851 -0.076270  1.317720  \n",
       "4     2.476892  0.504245  2.813551  \n",
       "...        ...       ...       ...  \n",
       "2115  2.345870  0.146845  2.756062  \n",
       "2116  3.401963 -1.518038  0.845852  \n",
       "2117  4.031284 -0.165029  2.507842  \n",
       "2118  5.392731  0.091157  2.714773  \n",
       "2119  1.265989 -0.081724  2.725028  \n",
       "\n",
       "[2120 rows x 15 columns]"
      ]
     },
     "execution_count": 61,
     "metadata": {},
     "output_type": "execute_result"
    }
   ],
   "source": [
    "test_gwfish_input_data"
   ]
  },
  {
   "cell_type": "code",
   "execution_count": 62,
   "id": "503bd6c5-698f-4c72-acc2-598fe63ce636",
   "metadata": {},
   "outputs": [
    {
     "name": "stderr",
     "output_type": "stream",
     "text": [
      "100%|████████████████████████████████████████████████████████████████████████████████████████████████████████████████████████████████████████████████████████████████████████████████████████████████████████████████████████████████████████████████████████████████████████████████| 2120/2120 [04:18<00:00,  8.19it/s]\n"
     ]
    }
   ],
   "source": [
    "import GWFish.modules as gwf_mods\n",
    "import pathlib\n",
    "detectors = ['A_sharp_L', 'A_sharp_H', 'A_sharp_IN']\n",
    "#detectors = ['CE1', 'CE2', 'ET']\n",
    "network = gwf_mods.detection.Network(detector_ids = detectors, detection_SNR = (0., 1.), config=pathlib.Path('detectors.yaml'))\n",
    "test_snrs = pd.DataFrame()\n",
    "for event in tqdm(range(len(test_gwfish_input_data))):\n",
    "    test_gwfish_snr = gwf_mods.utilities.get_snr(test_gwfish_input_data[event:event+1], network, \n",
    "                                                 'IMRPhenomXPHM', \n",
    "                                                 f_ref=fm_results_snr_below_15['all_inj_params_original']['f_ref'][0])\n",
    "    test_snrs = pd.concat([test_snrs, test_gwfish_snr], ignore_index=True)"
   ]
  },
  {
   "cell_type": "code",
   "execution_count": 63,
   "id": "4f2704bc-703f-4770-8e5e-22787f4f3311",
   "metadata": {
    "scrolled": true
   },
   "outputs": [],
   "source": [
    "test_snrs.rename(columns={f'A_sharp_{val}':f'SNR_{key}' for key, val in gwfish_det_dict.items()}, inplace=True)\n",
    "test_snrs.rename(columns={'CE1':'SNR_C1', 'CE2':'SNR_CE20', 'ET':'SNR_ET'}, inplace=True)\n",
    "test_snrs.rename(columns={'network':'SNR_network'}, inplace=True)"
   ]
  },
  {
   "cell_type": "code",
   "execution_count": 64,
   "id": "540c87b9-b48d-413b-8263-0ab8adbf4ba6",
   "metadata": {},
   "outputs": [
    {
     "data": {
      "text/plain": [
       "Text(0, 0.5, 'New/Old SNR')"
      ]
     },
     "execution_count": 64,
     "metadata": {},
     "output_type": "execute_result"
    },
    {
     "data": {
      "image/png": "[encoded data removed]",
      "text/plain": [
       "<Figure size 640x480 with 1 Axes>"
      ]
     },
     "metadata": {},
     "output_type": "display_data"
    }
   ],
   "source": [
    "plt.plot(fm_results_snr_below_15['all_inj_params_original']['SNR_network'], \n",
    "         test_snrs['SNR_network']/fm_results_snr_below_15['all_inj_params_original']['SNR_network'], \n",
    "         '.')\n",
    "plt.xlabel('Old SNR')\n",
    "plt.ylabel('New/Old SNR')"
   ]
  },
  {
   "cell_type": "code",
   "execution_count": 65,
   "id": "2654ecc4-cefe-49dd-970c-1f7ab98e4a2d",
   "metadata": {},
   "outputs": [
    {
     "data": {
      "text/plain": [
       "Text(0, 0.5, 'New/Old SNR')"
      ]
     },
     "execution_count": 65,
     "metadata": {},
     "output_type": "execute_result"
    },
    {
     "data": {
      "image/png": "[encoded data removed]",
      "text/plain": [
       "<Figure size 640x480 with 1 Axes>"
      ]
     },
     "metadata": {},
     "output_type": "display_data"
    }
   ],
   "source": [
    "plt.plot(test_snrs['SNR_network'], \n",
    "         test_snrs['SNR_network']/fm_results_snr_below_15['all_inj_params_original']['SNR_network'], \n",
    "         '.')\n",
    "plt.xlabel('New SNR')\n",
    "plt.ylabel('New/Old SNR')"
   ]
  },
  {
   "cell_type": "markdown",
   "id": "2bf1a5d7-9dfc-484f-8fba-5b68da1a0843",
   "metadata": {},
   "source": [
    "### Take points with SNR >= 12"
   ]
  },
  {
   "cell_type": "code",
   "execution_count": 51,
   "id": "50b88b26-d6fa-44f6-a209-b98af53fd553",
   "metadata": {},
   "outputs": [],
   "source": [
    "if len(fm_results_snr_below_15['cov']) == 0:\n",
    "    print('No events with SNR <=15')\n",
    "else:\n",
    "    snr_mask_above_12_new = (fm_results_snr_below_15['new_snrs']['SNR_network'] >=12)\n",
    "    fm_results_snr_12_15 = {}\n",
    "    for key in fm_results_updated.keys():\n",
    "        val = fm_results_snr_below_15[key]\n",
    "        if type(val) == list:\n",
    "            fm_results_snr_12_15[key] = np.array(val)[snr_mask_above_12_new]\n",
    "        else:\n",
    "            fm_results_snr_12_15[key] = val[snr_mask_above_12_new]\n",
    "        if isinstance(val, pd.DataFrame):\n",
    "            fm_results_snr_12_15[key].reset_index(inplace=True, drop=True)"
   ]
  },
  {
   "cell_type": "code",
   "execution_count": 52,
   "id": "fa66baff-a1c1-4bf5-903d-552acaa7ec68",
   "metadata": {},
   "outputs": [
    {
     "data": {
      "text/plain": [
       "[('new_mean_vals', pandas.core.frame.DataFrame),\n",
       " ('all_inj_params_original', pandas.core.frame.DataFrame),\n",
       " ('cov', numpy.ndarray),\n",
       " ('errors', pandas.core.frame.DataFrame),\n",
       " ('inj_params', pandas.core.frame.DataFrame),\n",
       " ('netw_snrs', numpy.ndarray),\n",
       " ('sky_locs', numpy.ndarray),\n",
       " ('new_cov', numpy.ndarray)]"
      ]
     },
     "execution_count": 52,
     "metadata": {},
     "output_type": "execute_result"
    }
   ],
   "source": [
    "[(key, type(fm_results_snr_12_15[key])) for key in fm_results_snr_12_15.keys()]"
   ]
  },
  {
   "cell_type": "code",
   "execution_count": 53,
   "id": "859b444d-3dd1-4cea-8ae7-d45f49449bb8",
   "metadata": {},
   "outputs": [
    {
     "data": {
      "text/plain": [
       "[('new_mean_vals', pandas.core.frame.DataFrame),\n",
       " ('all_inj_params_original', pandas.core.frame.DataFrame),\n",
       " ('cov', numpy.ndarray),\n",
       " ('errors', pandas.core.frame.DataFrame),\n",
       " ('inj_params', pandas.core.frame.DataFrame),\n",
       " ('netw_snrs', numpy.ndarray),\n",
       " ('sky_locs', numpy.ndarray),\n",
       " ('new_cov', numpy.ndarray)]"
      ]
     },
     "execution_count": 53,
     "metadata": {},
     "output_type": "execute_result"
    }
   ],
   "source": [
    "[(key, type(fm_results_snr_above_15[key])) for key in fm_results_snr_above_15.keys()]"
   ]
  },
  {
   "cell_type": "markdown",
   "id": "55aac873-418a-4dba-b07a-549cda08f30c",
   "metadata": {},
   "source": [
    "### Combine the samples SNR = (12-15) and SNR >=15"
   ]
  },
  {
   "cell_type": "code",
   "execution_count": 54,
   "id": "691e645f-f908-43ba-b05c-52fad9333d89",
   "metadata": {},
   "outputs": [],
   "source": [
    "if len(fm_results_snr_below_15['cov']) == 0:\n",
    "    print('No events with SNR <=15')\n",
    "    fm_results_snr_above_12_combined_new = fm_results_snr_above_15\n",
    "else:\n",
    "    fm_results_snr_above_12_combined_new = {}\n",
    "    for key, val in fm_results_snr_12_15.items():\n",
    "        if isinstance(val, np.ndarray):\n",
    "            fm_results_snr_above_12_combined_new[key] = np.concatenate((fm_results_snr_12_15[key], fm_results_snr_above_15[key]), axis=0)\n",
    "        elif isinstance(val, pd.DataFrame):\n",
    "            fm_results_snr_above_12_combined_new[key] = pd.concat([fm_results_snr_12_15[key], fm_results_snr_above_15[key]], axis=0, \n",
    "                                                                  ignore_index=True)"
   ]
  },
  {
   "cell_type": "code",
   "execution_count": 55,
   "id": "627a796a-be48-406f-a548-2147a6161d57",
   "metadata": {},
   "outputs": [
    {
     "data": {
      "text/html": [
       "<div>\n",
       "<style scoped>\n",
       "    .dataframe tbody tr th:only-of-type {\n",
       "        vertical-align: middle;\n",
       "    }\n",
       "\n",
       "    .dataframe tbody tr th {\n",
       "        vertical-align: top;\n",
       "    }\n",
       "\n",
       "    .dataframe thead th {\n",
       "        text-align: right;\n",
       "    }\n",
       "</style>\n",
       "<table border=\"1\" class=\"dataframe\">\n",
       "  <thead>\n",
       "    <tr style=\"text-align: right;\">\n",
       "      <th></th>\n",
       "      <th>index</th>\n",
       "      <th>SNR_H1</th>\n",
       "      <th>SNR_I1</th>\n",
       "      <th>SNR_L1</th>\n",
       "      <th>SNR_mf_H1</th>\n",
       "      <th>SNR_mf_I1</th>\n",
       "      <th>SNR_mf_L1</th>\n",
       "      <th>SNR_mf_from_opt_H1</th>\n",
       "      <th>SNR_mf_from_opt_I1</th>\n",
       "      <th>SNR_mf_from_opt_L1</th>\n",
       "      <th>...</th>\n",
       "      <th>spin2x</th>\n",
       "      <th>spin2y</th>\n",
       "      <th>spin2z</th>\n",
       "      <th>srcmass1</th>\n",
       "      <th>srcmass2</th>\n",
       "      <th>srcmchirp</th>\n",
       "      <th>srcmtotal</th>\n",
       "      <th>theta_jn</th>\n",
       "      <th>time_interval</th>\n",
       "      <th>trigger_time</th>\n",
       "    </tr>\n",
       "  </thead>\n",
       "  <tbody>\n",
       "    <tr>\n",
       "      <th>0</th>\n",
       "      <td>4</td>\n",
       "      <td>9.460108</td>\n",
       "      <td>5.742980</td>\n",
       "      <td>9.847214</td>\n",
       "      <td>11.405794</td>\n",
       "      <td>5.933732</td>\n",
       "      <td>9.773517</td>\n",
       "      <td>10.853944</td>\n",
       "      <td>5.013345</td>\n",
       "      <td>9.761409</td>\n",
       "      <td>...</td>\n",
       "      <td>0.081307</td>\n",
       "      <td>-0.623728</td>\n",
       "      <td>-0.291770</td>\n",
       "      <td>12.197304</td>\n",
       "      <td>11.636990</td>\n",
       "      <td>10.371038</td>\n",
       "      <td>23.834293</td>\n",
       "      <td>0.604727</td>\n",
       "      <td>136.362457</td>\n",
       "      <td>1.921417e+09</td>\n",
       "    </tr>\n",
       "    <tr>\n",
       "      <th>1</th>\n",
       "      <td>11</td>\n",
       "      <td>7.814793</td>\n",
       "      <td>6.318224</td>\n",
       "      <td>9.427966</td>\n",
       "      <td>8.334314</td>\n",
       "      <td>5.653066</td>\n",
       "      <td>9.339729</td>\n",
       "      <td>7.772256</td>\n",
       "      <td>6.404921</td>\n",
       "      <td>10.245605</td>\n",
       "      <td>...</td>\n",
       "      <td>0.504863</td>\n",
       "      <td>-0.192281</td>\n",
       "      <td>-0.201064</td>\n",
       "      <td>7.854731</td>\n",
       "      <td>3.413810</td>\n",
       "      <td>4.432501</td>\n",
       "      <td>11.268541</td>\n",
       "      <td>2.456791</td>\n",
       "      <td>957.756785</td>\n",
       "      <td>1.906833e+09</td>\n",
       "    </tr>\n",
       "    <tr>\n",
       "      <th>2</th>\n",
       "      <td>14</td>\n",
       "      <td>9.460114</td>\n",
       "      <td>3.748845</td>\n",
       "      <td>9.329385</td>\n",
       "      <td>8.423820</td>\n",
       "      <td>5.308567</td>\n",
       "      <td>6.673201</td>\n",
       "      <td>10.182784</td>\n",
       "      <td>1.913145</td>\n",
       "      <td>8.238195</td>\n",
       "      <td>...</td>\n",
       "      <td>-0.060585</td>\n",
       "      <td>0.048711</td>\n",
       "      <td>0.082519</td>\n",
       "      <td>15.732230</td>\n",
       "      <td>12.993089</td>\n",
       "      <td>12.435082</td>\n",
       "      <td>28.725319</td>\n",
       "      <td>1.424166</td>\n",
       "      <td>795.791322</td>\n",
       "      <td>1.907419e+09</td>\n",
       "    </tr>\n",
       "    <tr>\n",
       "      <th>3</th>\n",
       "      <td>20</td>\n",
       "      <td>5.613384</td>\n",
       "      <td>7.558257</td>\n",
       "      <td>6.218701</td>\n",
       "      <td>5.045447</td>\n",
       "      <td>7.621946</td>\n",
       "      <td>6.729741</td>\n",
       "      <td>5.416409</td>\n",
       "      <td>7.311148</td>\n",
       "      <td>6.011048</td>\n",
       "      <td>...</td>\n",
       "      <td>-0.002328</td>\n",
       "      <td>-0.302186</td>\n",
       "      <td>0.003966</td>\n",
       "      <td>18.644068</td>\n",
       "      <td>10.436082</td>\n",
       "      <td>12.042803</td>\n",
       "      <td>29.080150</td>\n",
       "      <td>1.472392</td>\n",
       "      <td>2099.425252</td>\n",
       "      <td>1.917996e+09</td>\n",
       "    </tr>\n",
       "    <tr>\n",
       "      <th>4</th>\n",
       "      <td>21</td>\n",
       "      <td>9.892610</td>\n",
       "      <td>2.575332</td>\n",
       "      <td>8.662344</td>\n",
       "      <td>9.721332</td>\n",
       "      <td>5.083268</td>\n",
       "      <td>8.055929</td>\n",
       "      <td>10.846093</td>\n",
       "      <td>3.364355</td>\n",
       "      <td>9.661198</td>\n",
       "      <td>...</td>\n",
       "      <td>0.001909</td>\n",
       "      <td>-0.005896</td>\n",
       "      <td>0.000435</td>\n",
       "      <td>10.650244</td>\n",
       "      <td>6.260210</td>\n",
       "      <td>7.058916</td>\n",
       "      <td>16.910453</td>\n",
       "      <td>2.387934</td>\n",
       "      <td>245.836682</td>\n",
       "      <td>1.908190e+09</td>\n",
       "    </tr>\n",
       "    <tr>\n",
       "      <th>...</th>\n",
       "      <td>...</td>\n",
       "      <td>...</td>\n",
       "      <td>...</td>\n",
       "      <td>...</td>\n",
       "      <td>...</td>\n",
       "      <td>...</td>\n",
       "      <td>...</td>\n",
       "      <td>...</td>\n",
       "      <td>...</td>\n",
       "      <td>...</td>\n",
       "      <td>...</td>\n",
       "      <td>...</td>\n",
       "      <td>...</td>\n",
       "      <td>...</td>\n",
       "      <td>...</td>\n",
       "      <td>...</td>\n",
       "      <td>...</td>\n",
       "      <td>...</td>\n",
       "      <td>...</td>\n",
       "      <td>...</td>\n",
       "      <td>...</td>\n",
       "    </tr>\n",
       "    <tr>\n",
       "      <th>1995</th>\n",
       "      <td>3341</td>\n",
       "      <td>9.167907</td>\n",
       "      <td>15.648371</td>\n",
       "      <td>12.334877</td>\n",
       "      <td>9.576197</td>\n",
       "      <td>16.685637</td>\n",
       "      <td>13.713593</td>\n",
       "      <td>7.075897</td>\n",
       "      <td>15.258565</td>\n",
       "      <td>11.865811</td>\n",
       "      <td>...</td>\n",
       "      <td>-0.648836</td>\n",
       "      <td>-0.225883</td>\n",
       "      <td>0.697607</td>\n",
       "      <td>18.190602</td>\n",
       "      <td>11.410991</td>\n",
       "      <td>12.474962</td>\n",
       "      <td>29.601593</td>\n",
       "      <td>2.744684</td>\n",
       "      <td>36.063088</td>\n",
       "      <td>1.897947e+09</td>\n",
       "    </tr>\n",
       "    <tr>\n",
       "      <th>1996</th>\n",
       "      <td>3342</td>\n",
       "      <td>15.129966</td>\n",
       "      <td>6.560405</td>\n",
       "      <td>18.397225</td>\n",
       "      <td>14.987298</td>\n",
       "      <td>6.333314</td>\n",
       "      <td>19.189915</td>\n",
       "      <td>16.210412</td>\n",
       "      <td>6.159846</td>\n",
       "      <td>18.285245</td>\n",
       "      <td>...</td>\n",
       "      <td>-0.478178</td>\n",
       "      <td>0.413912</td>\n",
       "      <td>-0.024613</td>\n",
       "      <td>12.110949</td>\n",
       "      <td>9.891962</td>\n",
       "      <td>9.518759</td>\n",
       "      <td>22.002911</td>\n",
       "      <td>1.340427</td>\n",
       "      <td>88.339069</td>\n",
       "      <td>1.923107e+09</td>\n",
       "    </tr>\n",
       "    <tr>\n",
       "      <th>1997</th>\n",
       "      <td>3344</td>\n",
       "      <td>10.502344</td>\n",
       "      <td>8.068063</td>\n",
       "      <td>10.829235</td>\n",
       "      <td>10.565742</td>\n",
       "      <td>8.354059</td>\n",
       "      <td>10.485640</td>\n",
       "      <td>9.644713</td>\n",
       "      <td>8.294619</td>\n",
       "      <td>10.064519</td>\n",
       "      <td>...</td>\n",
       "      <td>0.358141</td>\n",
       "      <td>-0.194483</td>\n",
       "      <td>-0.307463</td>\n",
       "      <td>28.361763</td>\n",
       "      <td>9.893590</td>\n",
       "      <td>14.200833</td>\n",
       "      <td>38.255353</td>\n",
       "      <td>2.474689</td>\n",
       "      <td>697.033529</td>\n",
       "      <td>1.893502e+09</td>\n",
       "    </tr>\n",
       "    <tr>\n",
       "      <th>1998</th>\n",
       "      <td>3346</td>\n",
       "      <td>17.999284</td>\n",
       "      <td>10.499723</td>\n",
       "      <td>16.379522</td>\n",
       "      <td>15.501703</td>\n",
       "      <td>12.705178</td>\n",
       "      <td>15.125736</td>\n",
       "      <td>18.875933</td>\n",
       "      <td>11.138589</td>\n",
       "      <td>15.984366</td>\n",
       "      <td>...</td>\n",
       "      <td>-0.445415</td>\n",
       "      <td>0.480120</td>\n",
       "      <td>-0.159486</td>\n",
       "      <td>16.797471</td>\n",
       "      <td>15.717491</td>\n",
       "      <td>14.143589</td>\n",
       "      <td>32.514962</td>\n",
       "      <td>2.125111</td>\n",
       "      <td>501.417399</td>\n",
       "      <td>1.901352e+09</td>\n",
       "    </tr>\n",
       "    <tr>\n",
       "      <th>1999</th>\n",
       "      <td>3349</td>\n",
       "      <td>11.669346</td>\n",
       "      <td>5.985211</td>\n",
       "      <td>8.256056</td>\n",
       "      <td>11.708980</td>\n",
       "      <td>6.482828</td>\n",
       "      <td>8.584062</td>\n",
       "      <td>14.417930</td>\n",
       "      <td>5.890691</td>\n",
       "      <td>6.797239</td>\n",
       "      <td>...</td>\n",
       "      <td>-0.023523</td>\n",
       "      <td>-0.392819</td>\n",
       "      <td>0.044015</td>\n",
       "      <td>11.621360</td>\n",
       "      <td>9.809821</td>\n",
       "      <td>9.288415</td>\n",
       "      <td>21.431181</td>\n",
       "      <td>1.119219</td>\n",
       "      <td>579.707114</td>\n",
       "      <td>1.900153e+09</td>\n",
       "    </tr>\n",
       "  </tbody>\n",
       "</table>\n",
       "<p>2000 rows × 60 columns</p>\n",
       "</div>"
      ],
      "text/plain": [
       "      index     SNR_H1     SNR_I1     SNR_L1  SNR_mf_H1  SNR_mf_I1  SNR_mf_L1  \\\n",
       "0         4   9.460108   5.742980   9.847214  11.405794   5.933732   9.773517   \n",
       "1        11   7.814793   6.318224   9.427966   8.334314   5.653066   9.339729   \n",
       "2        14   9.460114   3.748845   9.329385   8.423820   5.308567   6.673201   \n",
       "3        20   5.613384   7.558257   6.218701   5.045447   7.621946   6.729741   \n",
       "4        21   9.892610   2.575332   8.662344   9.721332   5.083268   8.055929   \n",
       "...     ...        ...        ...        ...        ...        ...        ...   \n",
       "1995   3341   9.167907  15.648371  12.334877   9.576197  16.685637  13.713593   \n",
       "1996   3342  15.129966   6.560405  18.397225  14.987298   6.333314  19.189915   \n",
       "1997   3344  10.502344   8.068063  10.829235  10.565742   8.354059  10.485640   \n",
       "1998   3346  17.999284  10.499723  16.379522  15.501703  12.705178  15.125736   \n",
       "1999   3349  11.669346   5.985211   8.256056  11.708980   6.482828   8.584062   \n",
       "\n",
       "      SNR_mf_from_opt_H1  SNR_mf_from_opt_I1  SNR_mf_from_opt_L1  ...  \\\n",
       "0              10.853944            5.013345            9.761409  ...   \n",
       "1               7.772256            6.404921           10.245605  ...   \n",
       "2              10.182784            1.913145            8.238195  ...   \n",
       "3               5.416409            7.311148            6.011048  ...   \n",
       "4              10.846093            3.364355            9.661198  ...   \n",
       "...                  ...                 ...                 ...  ...   \n",
       "1995            7.075897           15.258565           11.865811  ...   \n",
       "1996           16.210412            6.159846           18.285245  ...   \n",
       "1997            9.644713            8.294619           10.064519  ...   \n",
       "1998           18.875933           11.138589           15.984366  ...   \n",
       "1999           14.417930            5.890691            6.797239  ...   \n",
       "\n",
       "        spin2x    spin2y    spin2z   srcmass1   srcmass2  srcmchirp  \\\n",
       "0     0.081307 -0.623728 -0.291770  12.197304  11.636990  10.371038   \n",
       "1     0.504863 -0.192281 -0.201064   7.854731   3.413810   4.432501   \n",
       "2    -0.060585  0.048711  0.082519  15.732230  12.993089  12.435082   \n",
       "3    -0.002328 -0.302186  0.003966  18.644068  10.436082  12.042803   \n",
       "4     0.001909 -0.005896  0.000435  10.650244   6.260210   7.058916   \n",
       "...        ...       ...       ...        ...        ...        ...   \n",
       "1995 -0.648836 -0.225883  0.697607  18.190602  11.410991  12.474962   \n",
       "1996 -0.478178  0.413912 -0.024613  12.110949   9.891962   9.518759   \n",
       "1997  0.358141 -0.194483 -0.307463  28.361763   9.893590  14.200833   \n",
       "1998 -0.445415  0.480120 -0.159486  16.797471  15.717491  14.143589   \n",
       "1999 -0.023523 -0.392819  0.044015  11.621360   9.809821   9.288415   \n",
       "\n",
       "      srcmtotal  theta_jn  time_interval  trigger_time  \n",
       "0     23.834293  0.604727     136.362457  1.921417e+09  \n",
       "1     11.268541  2.456791     957.756785  1.906833e+09  \n",
       "2     28.725319  1.424166     795.791322  1.907419e+09  \n",
       "3     29.080150  1.472392    2099.425252  1.917996e+09  \n",
       "4     16.910453  2.387934     245.836682  1.908190e+09  \n",
       "...         ...       ...            ...           ...  \n",
       "1995  29.601593  2.744684      36.063088  1.897947e+09  \n",
       "1996  22.002911  1.340427      88.339069  1.923107e+09  \n",
       "1997  38.255353  2.474689     697.033529  1.893502e+09  \n",
       "1998  32.514962  2.125111     501.417399  1.901352e+09  \n",
       "1999  21.431181  1.119219     579.707114  1.900153e+09  \n",
       "\n",
       "[2000 rows x 60 columns]"
      ]
     },
     "execution_count": 55,
     "metadata": {},
     "output_type": "execute_result"
    }
   ],
   "source": [
    "fm_results_snr_above_12_combined_new['all_inj_params_original']"
   ]
  },
  {
   "cell_type": "code",
   "execution_count": 56,
   "id": "879539b8-84f7-4192-8a1c-ff36f9ca0c63",
   "metadata": {},
   "outputs": [
    {
     "data": {
      "text/plain": [
       "[2000, 2000, 2000, 2000, 2000, 2000, 2000, 2000]"
      ]
     },
     "execution_count": 56,
     "metadata": {},
     "output_type": "execute_result"
    }
   ],
   "source": [
    "[len(fm_results_snr_above_12_combined_new[key]) for key in fm_results_snr_above_12_combined_new.keys()]"
   ]
  },
  {
   "cell_type": "code",
   "execution_count": 57,
   "id": "475fac84-c69b-4328-aca7-ca3deac2a742",
   "metadata": {},
   "outputs": [
    {
     "data": {
      "text/plain": [
       "[1231, 1231, 1231, 1231, 1231, 1231, 1231, 1231]"
      ]
     },
     "execution_count": 57,
     "metadata": {},
     "output_type": "execute_result"
    }
   ],
   "source": [
    "[len(fm_results_snr_above_15[key]) for key in fm_results_snr_above_15.keys()]"
   ]
  },
  {
   "cell_type": "code",
   "execution_count": 58,
   "id": "de4b9d21-15fa-4e15-8528-60e8649df610",
   "metadata": {},
   "outputs": [
    {
     "data": {
      "text/plain": [
       "[769, 769, 769, 769, 769, 769, 769, 769]"
      ]
     },
     "execution_count": 58,
     "metadata": {},
     "output_type": "execute_result"
    }
   ],
   "source": [
    "[len(fm_results_snr_12_15[key]) for key in fm_results_snr_12_15.keys()]"
   ]
  },
  {
   "cell_type": "markdown",
   "id": "28dccf3e-810a-476f-8952-bb24100eae7a",
   "metadata": {
    "jp-MarkdownHeadingCollapsed": true
   },
   "source": [
    "### Create posteriors without parallelization"
   ]
  },
  {
   "cell_type": "code",
   "execution_count": 142,
   "id": "05e0f785-fb99-4ea3-a748-859392f27d13",
   "metadata": {},
   "outputs": [
    {
     "name": "stderr",
     "output_type": "stream",
     "text": [
      "  7%|█████████▉                                                                                                                                      | 407/5882 [03:06<41:50,  2.18it/s]\n"
     ]
    },
    {
     "ename": "KeyboardInterrupt",
     "evalue": "",
     "output_type": "error",
     "traceback": [
      "\u001b[31m---------------------------------------------------------------------------\u001b[39m",
      "\u001b[31mKeyboardInterrupt\u001b[39m                         Traceback (most recent call last)",
      "\u001b[36mCell\u001b[39m\u001b[36m \u001b[39m\u001b[32mIn[142]\u001b[39m\u001b[32m, line 15\u001b[39m\n\u001b[32m     13\u001b[39m \u001b[38;5;28;01mfor\u001b[39;00m param \u001b[38;5;129;01min\u001b[39;00m [\u001b[33m'\u001b[39m\u001b[33mlog_chirp_mass\u001b[39m\u001b[33m'\u001b[39m, \u001b[33m'\u001b[39m\u001b[33mmass_ratio\u001b[39m\u001b[33m'\u001b[39m, \u001b[33m'\u001b[39m\u001b[33mlog_luminosity_distance\u001b[39m\u001b[33m'\u001b[39m]:\n\u001b[32m     14\u001b[39m     posterior_dists_i[param] = MultivariateGaussian(mvg, param)\n\u001b[32m---> \u001b[39m\u001b[32m15\u001b[39m     posterior_samples_i[param] = \u001b[43mposterior_dists_i\u001b[49m\u001b[43m[\u001b[49m\u001b[43mparam\u001b[49m\u001b[43m]\u001b[49m\u001b[43m.\u001b[49m\u001b[43msample\u001b[49m\u001b[43m(\u001b[49m\u001b[43mn_samples\u001b[49m\u001b[43m)\u001b[49m\n\u001b[32m     16\u001b[39m posterior_samples_all_events[\u001b[33mf\u001b[39m\u001b[33m'\u001b[39m\u001b[33mevent_\u001b[39m\u001b[38;5;132;01m{\u001b[39;00mevent\u001b[38;5;132;01m}\u001b[39;00m\u001b[33m'\u001b[39m] = posterior_samples_i\n",
      "\u001b[36mFile \u001b[39m\u001b[32m~/miniconda3/envs/gwfish/lib/python3.11/site-packages/bilby/core/prior/joint.py:832\u001b[39m, in \u001b[36mJointPrior.sample\u001b[39m\u001b[34m(self, size, **kwargs)\u001b[39m\n\u001b[32m    824\u001b[39m     logger.warning(\n\u001b[32m    825\u001b[39m         \u001b[33m\"\u001b[39m\u001b[33mYou have already drawn a sample from parameter \u001b[39m\u001b[33m\"\u001b[39m\n\u001b[32m    826\u001b[39m         \u001b[33m\"\u001b[39m\u001b[33m'\u001b[39m\u001b[38;5;132;01m{}\u001b[39;00m\u001b[33m'\u001b[39m\u001b[33m. The same sample will be \u001b[39m\u001b[33m\"\u001b[39m\n\u001b[32m    827\u001b[39m         \u001b[33m\"\u001b[39m\u001b[33mreturned\u001b[39m\u001b[33m\"\u001b[39m.format(\u001b[38;5;28mself\u001b[39m.name)\n\u001b[32m    828\u001b[39m     )\n\u001b[32m    830\u001b[39m \u001b[38;5;28;01mif\u001b[39;00m \u001b[38;5;28mlen\u001b[39m(\u001b[38;5;28mself\u001b[39m.dist.current_sample) == \u001b[32m0\u001b[39m:\n\u001b[32m    831\u001b[39m     \u001b[38;5;66;03m# generate a sample\u001b[39;00m\n\u001b[32m--> \u001b[39m\u001b[32m832\u001b[39m     \u001b[38;5;28;43mself\u001b[39;49m\u001b[43m.\u001b[49m\u001b[43mdist\u001b[49m\u001b[43m.\u001b[49m\u001b[43msample\u001b[49m\u001b[43m(\u001b[49m\u001b[43msize\u001b[49m\u001b[43m=\u001b[49m\u001b[43msize\u001b[49m\u001b[43m,\u001b[49m\u001b[43m \u001b[49m\u001b[43m*\u001b[49m\u001b[43m*\u001b[49m\u001b[43mkwargs\u001b[49m\u001b[43m)\u001b[49m\n\u001b[32m    834\u001b[39m sample = \u001b[38;5;28mself\u001b[39m.dist.current_sample[\u001b[38;5;28mself\u001b[39m.name]\n\u001b[32m    836\u001b[39m \u001b[38;5;28;01mif\u001b[39;00m \u001b[38;5;28mself\u001b[39m.name \u001b[38;5;129;01mnot\u001b[39;00m \u001b[38;5;129;01min\u001b[39;00m \u001b[38;5;28mself\u001b[39m.dist.sampled_parameters:\n",
      "\u001b[36mFile \u001b[39m\u001b[32m~/miniconda3/envs/gwfish/lib/python3.11/site-packages/bilby/core/prior/joint.py:276\u001b[39m, in \u001b[36mBaseJointPriorDist.sample\u001b[39m\u001b[34m(self, size, **kwargs)\u001b[39m\n\u001b[32m    274\u001b[39m \u001b[38;5;28;01mif\u001b[39;00m size \u001b[38;5;129;01mis\u001b[39;00m \u001b[38;5;28;01mNone\u001b[39;00m:\n\u001b[32m    275\u001b[39m     size = \u001b[32m1\u001b[39m\n\u001b[32m--> \u001b[39m\u001b[32m276\u001b[39m samps = \u001b[38;5;28;43mself\u001b[39;49m\u001b[43m.\u001b[49m\u001b[43m_sample\u001b[49m\u001b[43m(\u001b[49m\u001b[43msize\u001b[49m\u001b[43m=\u001b[49m\u001b[43msize\u001b[49m\u001b[43m,\u001b[49m\u001b[43m \u001b[49m\u001b[43m*\u001b[49m\u001b[43m*\u001b[49m\u001b[43mkwargs\u001b[49m\u001b[43m)\u001b[49m\n\u001b[32m    277\u001b[39m \u001b[38;5;28;01mfor\u001b[39;00m i, name \u001b[38;5;129;01min\u001b[39;00m \u001b[38;5;28menumerate\u001b[39m(\u001b[38;5;28mself\u001b[39m.names):\n\u001b[32m    278\u001b[39m     \u001b[38;5;28;01mif\u001b[39;00m size == \u001b[32m1\u001b[39m:\n",
      "\u001b[36mFile \u001b[39m\u001b[32m~/miniconda3/envs/gwfish/lib/python3.11/site-packages/bilby/core/prior/joint.py:663\u001b[39m, in \u001b[36mMultivariateGaussianDist._sample\u001b[39m\u001b[34m(self, size, **kwargs)\u001b[39m\n\u001b[32m    661\u001b[39m     samp = np.atleast_1d(\u001b[38;5;28mself\u001b[39m.rescale(vals, mode=mode[i]))\n\u001b[32m    662\u001b[39m \u001b[38;5;28;01melse\u001b[39;00m:\n\u001b[32m--> \u001b[39m\u001b[32m663\u001b[39m     samp = np.atleast_1d(\u001b[38;5;28;43mself\u001b[39;49m\u001b[43m.\u001b[49m\u001b[43mrescale\u001b[49m\u001b[43m(\u001b[49m\u001b[43mvals\u001b[49m\u001b[43m,\u001b[49m\u001b[43m \u001b[49m\u001b[43mmode\u001b[49m\u001b[43m=\u001b[49m\u001b[43mmode\u001b[49m\u001b[43m)\u001b[49m)\n\u001b[32m    664\u001b[39m samps[i, :] = samp\n\u001b[32m    666\u001b[39m \u001b[38;5;66;03m# check sample is in bounds (otherwise perform another draw)\u001b[39;00m\n",
      "\u001b[36mFile \u001b[39m\u001b[32m~/miniconda3/envs/gwfish/lib/python3.11/site-packages/bilby/core/prior/joint.py:329\u001b[39m, in \u001b[36mBaseJointPriorDist.rescale\u001b[39m\u001b[34m(self, value, **kwargs)\u001b[39m\n\u001b[32m    326\u001b[39m \u001b[38;5;28;01melif\u001b[39;00m samp.shape[\u001b[32m1\u001b[39m] != \u001b[38;5;28mself\u001b[39m.num_vars:\n\u001b[32m    327\u001b[39m     \u001b[38;5;28;01mraise\u001b[39;00m \u001b[38;5;167;01mValueError\u001b[39;00m(\u001b[33m\"\u001b[39m\u001b[33mArray is the wrong shape\u001b[39m\u001b[33m\"\u001b[39m)\n\u001b[32m--> \u001b[39m\u001b[32m329\u001b[39m samp = \u001b[38;5;28;43mself\u001b[39;49m\u001b[43m.\u001b[49m\u001b[43m_rescale\u001b[49m\u001b[43m(\u001b[49m\u001b[43msamp\u001b[49m\u001b[43m,\u001b[49m\u001b[43m \u001b[49m\u001b[43m*\u001b[49m\u001b[43m*\u001b[49m\u001b[43mkwargs\u001b[49m\u001b[43m)\u001b[49m\n\u001b[32m    330\u001b[39m \u001b[38;5;28;01mreturn\u001b[39;00m np.squeeze(samp)\n",
      "\u001b[31mKeyboardInterrupt\u001b[39m: "
     ]
    }
   ],
   "source": [
    "n_samples = 10000\n",
    "n_events = len(fm_results_snr_above_12_combined_new['cov'])\n",
    "params = fm_results['new_deriv_variables_in_order']\n",
    "posterior_samples_all_events = {}\n",
    "\n",
    "for event in tqdm(range(n_events)):\n",
    "    mu = [fm_results_snr_above_12_combined_new['new_mean_vals'][param][event] for param in params]\n",
    "    cov = fm_results_snr_above_12_combined_new['new_cov'][event]  # the covariance matrix\n",
    "    mvg = MultivariateGaussianDist(params, mus=mu, covs=cov, \n",
    "                                   bounds=[param_bounds[param] for param in params])\n",
    "    posterior_dists_i = dict()\n",
    "    posterior_samples_i = {}\n",
    "    for param in ['log_chirp_mass', 'mass_ratio', 'log_luminosity_distance']:\n",
    "        posterior_dists_i[param] = MultivariateGaussian(mvg, param)\n",
    "        posterior_samples_i[param] = posterior_dists_i[param].sample(n_samples)\n",
    "    posterior_samples_all_events[f'event_{event}'] = posterior_samples_i"
   ]
  },
  {
   "cell_type": "markdown",
   "id": "08054a36-0f0f-4020-ae5d-a0eb73b7f74a",
   "metadata": {},
   "source": [
    "### Create posteriors with parallelization"
   ]
  },
  {
   "cell_type": "code",
   "execution_count": 59,
   "id": "05db6514-d1d9-4b2e-9f85-79ccf01a5b32",
   "metadata": {},
   "outputs": [],
   "source": [
    "from concurrent.futures import ProcessPoolExecutor, as_completed\n",
    "from tqdm import tqdm\n",
    "import numpy as np\n",
    "from numpy.linalg import LinAlgError\n",
    "\n",
    "\n",
    "def process_event(event, data, params, param_bounds, n_samples):\n",
    "    \"\"\"\n",
    "    Process a single event: build Gaussian dist and sample.\n",
    "    Returns (event_key, samples, failed_info).\n",
    "    \"\"\"\n",
    "    mu = [data['new_mean_vals'][param][event] for param in params]\n",
    "    cov = data['new_cov'][event]  # covariance matrix\n",
    "\n",
    "    # Symmetrize covariance\n",
    "    cov = (cov + cov.T) / 2\n",
    "\n",
    "    mvg = None\n",
    "    for attempt in range(5):\n",
    "        try:\n",
    "            mvg = MultivariateGaussianDist(\n",
    "                params, mus=mu, covs=cov,\n",
    "                bounds=[param_bounds[param] for param in params]\n",
    "            )\n",
    "            break  # success\n",
    "        except LinAlgError:\n",
    "            # Add increasing jitter\n",
    "            eps = 1e-12 * (10 ** attempt)\n",
    "            cov += eps * np.eye(cov.shape[0])\n",
    "        except ValueError:\n",
    "            # Add increasing jitter\n",
    "            eps = 1e-12 * (10 ** attempt)\n",
    "            cov += eps * np.eye(cov.shape[0])\n",
    "\n",
    "    if mvg is None:  # all attempts failed\n",
    "        failed_info = {\n",
    "            \"event\": event,\n",
    "            \"params\": {p: data['new_mean_vals'][p][event] for p in params},\n",
    "            \"error\": \"LinAlgError after jitter attempts\",\n",
    "        }\n",
    "        return f'event_{event}', None, failed_info\n",
    "\n",
    "    # If we succeed, sample posteriors\n",
    "    posterior_samples_i = {}\n",
    "    for param in ['log_chirp_mass', 'mass_ratio', 'log_luminosity_distance']:\n",
    "        posterior_d = MultivariateGaussian(mvg, param)\n",
    "        posterior_samples_i[param] = posterior_d.sample(n_samples)\n",
    "\n",
    "    return f'event_{event}', posterior_samples_i, None\n",
    "\n",
    "\n",
    "def parallel_sampling(data, params, param_bounds, n_samples, nproc=4):\n",
    "    \"\"\"\n",
    "    Parallel sampling across events with failure logging.\n",
    "    \"\"\"\n",
    "    n_events = len(data['new_cov'])\n",
    "    results_list = [None] * n_events\n",
    "    failed_events = []\n",
    "\n",
    "    with ProcessPoolExecutor(max_workers=nproc) as executor:\n",
    "        futures = {\n",
    "            executor.submit(process_event, event, data, params, param_bounds, n_samples): event\n",
    "            for event in range(n_events)\n",
    "        }\n",
    "\n",
    "        for future in tqdm(as_completed(futures), total=n_events):\n",
    "            event_key, samples, failed_info = future.result()\n",
    "            idx = int(event_key.split(\"_\")[1])\n",
    "            results_list[idx] = (event_key, samples)\n",
    "\n",
    "            if failed_info is not None:\n",
    "                failed_events.append(failed_info)\n",
    "\n",
    "    # Filter out None entries before unpacking\n",
    "    posterior_samples_all_events = {\n",
    "        k: v for kv in results_list if kv is not None for k, v in [kv]\n",
    "    }\n",
    "\n",
    "    return posterior_samples_all_events, failed_events"
   ]
  },
  {
   "cell_type": "code",
   "execution_count": 60,
   "id": "88e19db1-8cbd-4246-8c88-2035a309b175",
   "metadata": {
    "scrolled": true
   },
   "outputs": [
    {
     "name": "stderr",
     "output_type": "stream",
     "text": [
      "100%|███████████████████████████████████████████████████████████████████████████████████████████████████████████████████████████████████████████████| 2000/2000 [43:50<00:00,  1.32s/it]\n"
     ]
    }
   ],
   "source": [
    "posterior_samples_all_events, failed_events = parallel_sampling(\n",
    "    data=fm_results_snr_above_12_combined_new,\n",
    "    params=fm_results['new_deriv_variables_in_order'],\n",
    "    param_bounds=param_bounds,\n",
    "    n_samples=10000,\n",
    "    nproc=8  # adjust to number of CPU cores\n",
    ")"
   ]
  },
  {
   "cell_type": "code",
   "execution_count": 61,
   "id": "47144fb6-b01b-4454-a9bd-716ef4b90d54",
   "metadata": {
    "scrolled": true
   },
   "outputs": [
    {
     "data": {
      "text/plain": [
       "[]"
      ]
     },
     "execution_count": 61,
     "metadata": {},
     "output_type": "execute_result"
    }
   ],
   "source": [
    "failed_events"
   ]
  },
  {
   "cell_type": "code",
   "execution_count": 62,
   "id": "94f7cc98-180c-467f-8162-44222486a18c",
   "metadata": {},
   "outputs": [
    {
     "data": {
      "text/plain": [
       "2000"
      ]
     },
     "execution_count": 62,
     "metadata": {},
     "output_type": "execute_result"
    }
   ],
   "source": [
    "len(posterior_samples_all_events)"
   ]
  },
  {
   "cell_type": "markdown",
   "id": "ca7297c7-c202-44cb-a7af-3c8ecc45ff18",
   "metadata": {},
   "source": [
    "##### Add Mc and DL from log_Mc and log_DL"
   ]
  },
  {
   "cell_type": "code",
   "execution_count": 63,
   "id": "4542e3e8-56e2-46a3-947d-aa85db59423a",
   "metadata": {},
   "outputs": [
    {
     "data": {
      "text/plain": [
       "dict_keys(['log_chirp_mass', 'mass_ratio', 'log_luminosity_distance'])"
      ]
     },
     "execution_count": 63,
     "metadata": {},
     "output_type": "execute_result"
    }
   ],
   "source": [
    "posterior_samples_all_events['event_0'].keys()"
   ]
  },
  {
   "cell_type": "code",
   "execution_count": 64,
   "id": "9c5e23d7-3a66-432a-ac29-1004cfae42a4",
   "metadata": {},
   "outputs": [],
   "source": [
    "for event in posterior_samples_all_events.keys():\n",
    "    posterior_samples_all_events[event]['chirp_mass'] = np.exp(posterior_samples_all_events[event]['log_chirp_mass'])\n",
    "    posterior_samples_all_events[event]['luminosity_distance'] = np.exp(posterior_samples_all_events[event]['log_luminosity_distance'])"
   ]
  },
  {
   "cell_type": "markdown",
   "id": "ce844de8-e1cb-46d5-98a5-85c8b4c9703d",
   "metadata": {},
   "source": [
    "### Add m1, m2, q, z"
   ]
  },
  {
   "cell_type": "code",
   "execution_count": 65,
   "id": "34309849-d395-45f5-a94d-5da93a3d39c2",
   "metadata": {},
   "outputs": [
    {
     "name": "stderr",
     "output_type": "stream",
     "text": [
      "100%|██████████████████████████████████████████████████████████████████████████████████████████████████████████████████████████████████████████████| 2000/2000 [00:05<00:00, 389.38it/s]\n"
     ]
    }
   ],
   "source": [
    "for event in tqdm(posterior_samples_all_events.keys()):\n",
    "    Mc = posterior_samples_all_events[event]['chirp_mass']\n",
    "    q = posterior_samples_all_events[event]['mass_ratio']\n",
    "    DL = posterior_samples_all_events[event]['luminosity_distance']\n",
    "    posterior_samples_all_events[event]['mass_1'] = convert.mass1_from_mchirp_q(Mc, 1/q)\n",
    "    posterior_samples_all_events[event]['mass_2'] = convert.mass2_from_mchirp_q(Mc, 1/q)\n",
    "    posterior_samples_all_events[event]['redshift'] = pycbc.cosmology.redshift(DL, cosmology='Planck18')"
   ]
  },
  {
   "cell_type": "markdown",
   "id": "ce5bca86-568d-4a97-ad12-8a97b1b770b2",
   "metadata": {},
   "source": [
    "#### Add source frame parameters"
   ]
  },
  {
   "cell_type": "code",
   "execution_count": 66,
   "id": "568e17b2-dbbf-4398-9e9a-cb2cce09acc2",
   "metadata": {},
   "outputs": [],
   "source": [
    "for event in posterior_samples_all_events.keys():\n",
    "    for param in ['mass_1', 'mass_2', 'chirp_mass']:\n",
    "        posterior_samples_all_events[event][param+'_source'] = posterior_samples_all_events[event][param]/(1 + posterior_samples_all_events[event]['redshift'])"
   ]
  },
  {
   "cell_type": "code",
   "execution_count": 67,
   "id": "2dfa7923-e870-4d2e-b031-1bff7d3f2233",
   "metadata": {},
   "outputs": [
    {
     "data": {
      "text/plain": [
       "dict_keys(['log_chirp_mass', 'mass_ratio', 'log_luminosity_distance', 'chirp_mass', 'luminosity_distance', 'mass_1', 'mass_2', 'redshift', 'mass_1_source', 'mass_2_source', 'chirp_mass_source'])"
      ]
     },
     "execution_count": 67,
     "metadata": {},
     "output_type": "execute_result"
    }
   ],
   "source": [
    "posterior_samples_all_events['event_0'].keys()"
   ]
  },
  {
   "cell_type": "markdown",
   "id": "c88b88a7-76ac-4a9c-92df-00fb44db1196",
   "metadata": {},
   "source": [
    "### Save all posteriors to h5 file"
   ]
  },
  {
   "cell_type": "code",
   "execution_count": 68,
   "id": "82cd991f-f3d6-44f3-ad88-154dde191bb2",
   "metadata": {},
   "outputs": [
    {
     "data": {
      "text/plain": [
       "2000"
      ]
     },
     "execution_count": 68,
     "metadata": {},
     "output_type": "execute_result"
    }
   ],
   "source": [
    "len(posterior_samples_all_events)"
   ]
  },
  {
   "cell_type": "code",
   "execution_count": 69,
   "id": "1a49404b-b5ef-484a-b9a5-31b4f3a189c2",
   "metadata": {},
   "outputs": [
    {
     "data": {
      "text/plain": [
       "'/home/divyajyoti/ACADEMIC/Projects/Cardiff_University/Next_gen_detectability/A-sharp-study/event_posterior_files/BBH/Asharp/GWFish/mass_bands/LHI_Asharp_2_PLP_z_fref_10_MD_zmax_10_lmrd_22_no_spins_posteriors_10K_2000_events_pop_from_XPHM2_below_40.h5'"
      ]
     },
     "execution_count": 69,
     "metadata": {},
     "output_type": "execute_result"
    }
   ],
   "source": [
    "#events_posterior_file = os.path.join(base_dir, 'event_posterior_files', 'BBH', 'CE4020ET123', 'GWFish', 'mass_bands',\n",
    "#                        f'CE4020ET123_CoBA10_2_PLP_z_MD_zmax_10_lmrd_22_no_spins_posteriors_10K_{len(posterior_samples_all_events)}_events_pop_from_XPHM2_{mass_band}.h5')\n",
    "events_posterior_file = os.path.join(base_dir, 'event_posterior_files', 'BBH', 'Asharp', 'GWFish', 'mass_bands',\n",
    "                        f'LHI_Asharp_2_PLP_z_fref_10_MD_zmax_10_lmrd_22_no_spins_posteriors_10K_{len(posterior_samples_all_events)}_events_pop_from_XPHM2_{mass_band}.h5')\n",
    "events_posterior_file"
   ]
  },
  {
   "cell_type": "code",
   "execution_count": 70,
   "id": "97b67293-e850-4720-8f60-fb0cbe1f7648",
   "metadata": {},
   "outputs": [],
   "source": [
    "save_results_to_h5(posterior_samples_all_events, events_posterior_file)"
   ]
  },
  {
   "cell_type": "markdown",
   "id": "1a4b5d9a-f0f9-49c7-92b0-abacc3854007",
   "metadata": {},
   "source": [
    "## Considering only redshift posterior for gwpop analysis"
   ]
  },
  {
   "cell_type": "markdown",
   "id": "ffe42ad9-f0d2-4010-aabb-1ef7f2bbae1c",
   "metadata": {},
   "source": [
    "### Create prior on redshift"
   ]
  },
  {
   "cell_type": "markdown",
   "id": "0d2ff56b-f000-4e82-bb5a-71803f738ecd",
   "metadata": {},
   "source": [
    "$p(z)dz = p(\\log D_L) d(\\log D_L)$\n",
    "\n",
    "Since the posteriors were drawn from a Multivariate Gaussian created on $\\log\\mathcal{M}_c$, $q$, and $\\log D_L$, the priors are uniform on these parameters.\n",
    "\n",
    "Hence,\n",
    "\n",
    "$p(z) = p(\\log D_L) \\frac{1}{D_L} \\left| \\frac{dD_L(z)}{dz} \\right| \\propto \\frac{1}{D_L} \\left| \\frac{dD_L(z)}{dz} \\right|$\n",
    "\n",
    "since $p(log(D_L)) = const$"
   ]
  },
  {
   "cell_type": "code",
   "execution_count": 71,
   "id": "941b4e8d-2eb0-4984-bbb1-28391f62f193",
   "metadata": {},
   "outputs": [],
   "source": [
    "def calc_dDL_dz(DL_arr, z_arr):\n",
    "    \"\"\"\n",
    "    Parameters: \n",
    "    ----------------------\n",
    "    z_arr: numpy array\n",
    "        redshift value\n",
    "    DL_arr: numpy array\n",
    "        Luminosity distance (Mpc)\n",
    "\n",
    "    Returns:\n",
    "    --------------------------\n",
    "    dDL_dz : scipy.interpolate.UnivariateSpline\n",
    "        Derivative spline giving dDL/dz\n",
    "    \"\"\"\n",
    "    \n",
    "    sort_idx = np.argsort(DL_arr)\n",
    "    DL_sorted = DL_arr[sort_idx]\n",
    "    z_sorted = z_arr[sort_idx]\n",
    "    \n",
    "    fDL = UnivariateSpline(z_sorted, DL_sorted, s=0)\n",
    "    dfDL_dz = fDL.derivative()\n",
    "    return(dfDL_dz)"
   ]
  },
  {
   "cell_type": "code",
   "execution_count": 72,
   "id": "dd9a9172-5600-43d1-b1c0-80e45bcf3bd2",
   "metadata": {},
   "outputs": [
    {
     "name": "stdout",
     "output_type": "stream",
     "text": [
      "z_max = 11.979426122089338\n"
     ]
    }
   ],
   "source": [
    "DL_grid = np.linspace(1, 13e4, 10000)\n",
    "z_grid = pycbc.cosmology.redshift(DL_grid, cosmology='Planck18')\n",
    "print('z_max =', z_grid.max())\n",
    "dDL_dz_interp = calc_dDL_dz(DL_grid, z_grid)"
   ]
  },
  {
   "cell_type": "code",
   "execution_count": 73,
   "id": "0da06ffd-898f-4bef-b1b4-41fcd02bfff3",
   "metadata": {},
   "outputs": [
    {
     "name": "stderr",
     "output_type": "stream",
     "text": [
      "100%|██████████████████████████████████████████████████████████████████████████████████████████████████████████████████████████████████████████████| 2000/2000 [00:04<00:00, 476.98it/s]\n"
     ]
    }
   ],
   "source": [
    "posteriors_z_list = []\n",
    "for event in tqdm(posterior_samples_all_events):\n",
    "    zi = posterior_samples_all_events[event]['redshift']\n",
    "    DLi = posterior_samples_all_events[event]['luminosity_distance']\n",
    "    prior_zi = dDL_dz_interp(zi)/DLi\n",
    "    #prior_zi_normalized = prior_zi/np.trapz(prior_zi, zi)\n",
    "    prior_zi_normalized = prior_zi/np.sum(prior_zi)\n",
    "    event_i = {'redshift': zi,\n",
    "               'prior': prior_zi_normalized}\n",
    "    posteriors_z_list.append(pd.DataFrame(event_i))"
   ]
  },
  {
   "cell_type": "markdown",
   "id": "ed381e31-543f-4a22-9ee9-f68fc9d08be8",
   "metadata": {},
   "source": [
    "### Plot the priors"
   ]
  },
  {
   "cell_type": "code",
   "execution_count": 74,
   "id": "48a64a46-61e5-474a-85a1-ac2f13e8b26f",
   "metadata": {},
   "outputs": [
    {
     "data": {
      "text/plain": [
       "<matplotlib.legend.Legend at 0x76e0f12c7a50>"
      ]
     },
     "execution_count": 74,
     "metadata": {},
     "output_type": "execute_result"
    },
    {
     "data": {
      "image/png": "[encoded data removed]",
      "text/plain": [
       "<Figure size 640x480 with 1 Axes>"
      ]
     },
     "metadata": {},
     "output_type": "display_data"
    }
   ],
   "source": [
    "plt.plot(zi, prior_zi_normalized, '.', label='corrected')\n",
    "plt.legend(loc=1)"
   ]
  },
  {
   "cell_type": "markdown",
   "id": "00b1ca56-f087-4360-bc82-feb90521791d",
   "metadata": {},
   "source": [
    "### Remove points which have z>10"
   ]
  },
  {
   "cell_type": "code",
   "execution_count": 75,
   "id": "39abcd8a-8996-44da-ac24-e3a7ae1fbc63",
   "metadata": {},
   "outputs": [
    {
     "name": "stderr",
     "output_type": "stream",
     "text": [
      "100%|█████████████████████████████████████████████████████████████████████████████████████████████████████████████████████████████████████████████| 2000/2000 [00:00<00:00, 3937.45it/s]\n"
     ]
    }
   ],
   "source": [
    "posteriors_z_list_updated = []\n",
    "for i in tqdm(range(len(posteriors_z_list))):\n",
    "    if np.median(posteriors_z_list[i]['redshift']) >=10:\n",
    "        print(f'Skipping event {i}')\n",
    "    else:\n",
    "        posteriors_z_list_updated.append(posteriors_z_list[i])"
   ]
  },
  {
   "cell_type": "code",
   "execution_count": 76,
   "id": "3a51cd14-685e-40c3-aad6-3d96db46ba4a",
   "metadata": {},
   "outputs": [
    {
     "data": {
      "text/plain": [
       "2000"
      ]
     },
     "execution_count": 76,
     "metadata": {},
     "output_type": "execute_result"
    }
   ],
   "source": [
    "len(posteriors_z_list)"
   ]
  },
  {
   "cell_type": "code",
   "execution_count": 77,
   "id": "31369e20-bfaa-4b54-97d2-6af43aaf12c7",
   "metadata": {},
   "outputs": [
    {
     "data": {
      "text/plain": [
       "2000"
      ]
     },
     "execution_count": 77,
     "metadata": {},
     "output_type": "execute_result"
    }
   ],
   "source": [
    "len(posteriors_z_list_updated)"
   ]
  },
  {
   "cell_type": "markdown",
   "id": "c915fafc-f7d9-4e0b-a531-b05e014f868d",
   "metadata": {},
   "source": [
    "### Save to pickle file"
   ]
  },
  {
   "cell_type": "code",
   "execution_count": 78,
   "id": "2242ea02-775f-4fe7-8cc0-e06bf6d4eced",
   "metadata": {},
   "outputs": [
    {
     "data": {
      "text/plain": [
       "3357"
      ]
     },
     "execution_count": 78,
     "metadata": {},
     "output_type": "execute_result"
    }
   ],
   "source": [
    "num_events"
   ]
  },
  {
   "cell_type": "code",
   "execution_count": 79,
   "id": "f125d8bf-043c-4a33-995a-5a46f03d5c7e",
   "metadata": {},
   "outputs": [
    {
     "data": {
      "text/plain": [
       "2000"
      ]
     },
     "execution_count": 79,
     "metadata": {},
     "output_type": "execute_result"
    }
   ],
   "source": [
    "len(posteriors_z_list_updated)"
   ]
  },
  {
   "cell_type": "code",
   "execution_count": 80,
   "id": "c47d3a82-f312-44ae-8dff-8c81f861e113",
   "metadata": {},
   "outputs": [],
   "source": [
    "# commented out to avoid accidental overwriting\n",
    "#pd.to_pickle(posteriors_z_list, os.path.join(base_dir, 'gwpopulation', 'BBH', 'posteriors_from_GWFish', 'mass_bands',\n",
    "#                        f'CE4020ET123_CoBA10_2_PLP_z_MD_zmax_10_lmrd_22_no_spins_z_posteriors_10K_{len(posteriors_z_list_updated)}_events_pop_from_XPHM2_{mass_band}.pkl'))\n",
    "pd.to_pickle(posteriors_z_list, os.path.join(base_dir, 'gwpopulation', 'BBH', 'posteriors_from_GWFish', 'mass_bands',\n",
    "                        f'LHI_Asharp_2_PLP_z_fref_10_MD_zmax_10_lmrd_22_no_spins_z_posteriors_10K_{len(posteriors_z_list_updated)}_events_pop_from_XPHM2_{mass_band}.pkl'))"
   ]
  },
  {
   "cell_type": "code",
   "execution_count": null,
   "id": "bc66946a-e09a-4841-9309-b5c380e23bb4",
   "metadata": {},
   "outputs": [],
   "source": []
  },
  {
   "cell_type": "code",
   "execution_count": null,
   "id": "18bb52ec-9f3d-4393-ae0c-0774fc9c1d62",
   "metadata": {},
   "outputs": [],
   "source": []
  }
 ],
 "metadata": {
  "kernelspec": {
   "display_name": "gwfish",
   "language": "python",
   "name": "gwfish"
  },
  "language_info": {
   "codemirror_mode": {
    "name": "ipython",
    "version": 3
   },
   "file_extension": ".py",
   "mimetype": "text/x-python",
   "name": "python",
   "nbconvert_exporter": "python",
   "pygments_lexer": "ipython3",
   "version": "3.11.11"
  }
 },
 "nbformat": 4,
 "nbformat_minor": 5
}
