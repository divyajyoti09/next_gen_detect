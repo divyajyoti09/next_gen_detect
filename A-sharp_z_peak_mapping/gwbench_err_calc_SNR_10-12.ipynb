{
 "cells": [
  {
   "cell_type": "code",
   "execution_count": 1,
   "id": "e5ff518f-6618-4cfe-ac1e-b36779febf6b",
   "metadata": {},
   "outputs": [
    {
     "name": "stderr",
     "output_type": "stream",
     "text": [
      "PyCBC.libutils: pkg-config call failed, setting NO_PKGCONFIG=1\n"
     ]
    }
   ],
   "source": [
    "import warnings\n",
    "warnings.filterwarnings(\"ignore\", \"Wswiglal-redir-stdio\")\n",
    "import h5py\n",
    "from gwbench import Network, injections_CBC_params_redshift\n",
    "import pandas as pd\n",
    "import deepdish as dd\n",
    "import os\n",
    "import numpy as np\n",
    "import pylab as plt\n",
    "from glob import glob\n",
    "from tqdm import tqdm\n",
    "import seaborn as sns\n",
    "from scipy.stats import ncx2\n",
    "from pesummary.gw.conversions.spins import spin_angles\n",
    "import bilby"
   ]
  },
  {
   "cell_type": "markdown",
   "id": "67d25f69-3492-4284-bb23-4591aa00d003",
   "metadata": {},
   "source": [
    "## Get injection data SNRs"
   ]
  },
  {
   "cell_type": "code",
   "execution_count": 2,
   "id": "a7c9779b-0deb-473a-a773-0527f99e7618",
   "metadata": {},
   "outputs": [],
   "source": [
    "base_dir = '/home/divyajyoti/ACADEMIC/Projects/Cardiff_University/Next_gen_detectability/A-sharp-study/'\n",
    "#inj_data_file = os.path.join(base_dir, 'SNR_output_files_XPHM', 'BBH', \n",
    "#                             'CE4020ET123_CoBA10_SNR_2_pop_PLP_spin_prec_z_MD_zmax_10_lmrd_22_365_days_corrected_td_SNR_data.h5')\n",
    "inj_data_file = os.path.join(base_dir, 'SNR_output_files_XPHM', 'BBH', \n",
    "                             'LHI_SNR_1_pop_PLP_spin_prec_z_MD_zmax_6_lmrd_22_365_days_corrected_td_SNR_data.h5')"
   ]
  },
  {
   "cell_type": "code",
   "execution_count": 3,
   "id": "2ab1c4ed-308b-4547-b761-23e39c610a4c",
   "metadata": {
    "scrolled": true
   },
   "outputs": [],
   "source": [
    "def decode_bytes_recursive(val):\n",
    "    if isinstance(val, bytes):\n",
    "        return val.decode('utf-8')\n",
    "    elif isinstance(val, np.ndarray):\n",
    "        if val.dtype.kind == 'S':  # Byte string array\n",
    "            return np.vectorize(lambda x: x.decode('utf-8'))(val)\n",
    "        elif val.dtype.kind in {'O'}:\n",
    "            return np.vectorize(decode_bytes_recursive)(val)\n",
    "        else:\n",
    "            return val\n",
    "    elif isinstance(val, list):\n",
    "        return [decode_bytes_recursive(v) for v in val]\n",
    "    elif isinstance(val, dict):\n",
    "        return {k: decode_bytes_recursive(v) for k, v in val.items()}\n",
    "    return val\n",
    "\n",
    "def load_h5_group(group):\n",
    "    data = {}\n",
    "    for key in group.keys():\n",
    "        item = group[key]\n",
    "        if isinstance(item, h5py.Dataset):\n",
    "            val = item[()]\n",
    "            data[key] = decode_bytes_recursive(val)\n",
    "        elif isinstance(item, h5py.Group):\n",
    "            data[key] = load_h5_group(item)\n",
    "    return data"
   ]
  },
  {
   "cell_type": "code",
   "execution_count": 4,
   "id": "6e475de3-f9b5-455e-9c28-3f824b739877",
   "metadata": {
    "scrolled": true
   },
   "outputs": [],
   "source": [
    "# Main loader\n",
    "inj_data = {}\n",
    "with h5py.File(inj_data_file, 'r') as f:\n",
    "    for key in f.keys():\n",
    "        item = f[key]\n",
    "        if isinstance(item, h5py.Dataset):\n",
    "            val = item[()]\n",
    "            inj_data[key] = decode_bytes_recursive(val)\n",
    "        elif isinstance(item, h5py.Group):\n",
    "            inj_data[key] = load_h5_group(item)"
   ]
  },
  {
   "cell_type": "code",
   "execution_count": 5,
   "id": "62baf7b3-8e9e-4be7-b360-756ea3bbf77e",
   "metadata": {},
   "outputs": [
    {
     "data": {
      "text/html": [
       "<div>\n",
       "<style scoped>\n",
       "    .dataframe tbody tr th:only-of-type {\n",
       "        vertical-align: middle;\n",
       "    }\n",
       "\n",
       "    .dataframe tbody tr th {\n",
       "        vertical-align: top;\n",
       "    }\n",
       "\n",
       "    .dataframe thead th {\n",
       "        text-align: right;\n",
       "    }\n",
       "</style>\n",
       "<table border=\"1\" class=\"dataframe\">\n",
       "  <thead>\n",
       "    <tr style=\"text-align: right;\">\n",
       "      <th></th>\n",
       "      <th>PSD_H1</th>\n",
       "      <th>PSD_I1</th>\n",
       "      <th>PSD_L1</th>\n",
       "      <th>SNR_H1</th>\n",
       "      <th>SNR_I1</th>\n",
       "      <th>SNR_L1</th>\n",
       "      <th>SNR_mf_H1</th>\n",
       "      <th>SNR_mf_I1</th>\n",
       "      <th>SNR_mf_L1</th>\n",
       "      <th>SNR_mf_from_opt_H1</th>\n",
       "      <th>...</th>\n",
       "      <th>spin2x</th>\n",
       "      <th>spin2y</th>\n",
       "      <th>spin2z</th>\n",
       "      <th>srcmass1</th>\n",
       "      <th>srcmass2</th>\n",
       "      <th>srcmchirp</th>\n",
       "      <th>srcmtotal</th>\n",
       "      <th>theta_jn</th>\n",
       "      <th>time_interval</th>\n",
       "      <th>trigger_time</th>\n",
       "    </tr>\n",
       "  </thead>\n",
       "  <tbody>\n",
       "    <tr>\n",
       "      <th>0</th>\n",
       "      <td>ASharp</td>\n",
       "      <td>ASharp</td>\n",
       "      <td>ASharp</td>\n",
       "      <td>1.693707</td>\n",
       "      <td>4.943555</td>\n",
       "      <td>2.077302</td>\n",
       "      <td>5.034389</td>\n",
       "      <td>5.246678</td>\n",
       "      <td>5.034375</td>\n",
       "      <td>1.134260</td>\n",
       "      <td>...</td>\n",
       "      <td>0.033247</td>\n",
       "      <td>0.024677</td>\n",
       "      <td>-0.048819</td>\n",
       "      <td>7.158183</td>\n",
       "      <td>2.199053</td>\n",
       "      <td>3.341901</td>\n",
       "      <td>9.357236</td>\n",
       "      <td>0.367256</td>\n",
       "      <td>602.537511</td>\n",
       "      <td>1.893025e+09</td>\n",
       "    </tr>\n",
       "    <tr>\n",
       "      <th>1</th>\n",
       "      <td>ASharp</td>\n",
       "      <td>ASharp</td>\n",
       "      <td>ASharp</td>\n",
       "      <td>7.462232</td>\n",
       "      <td>10.996149</td>\n",
       "      <td>9.171689</td>\n",
       "      <td>8.925212</td>\n",
       "      <td>10.167282</td>\n",
       "      <td>8.721079</td>\n",
       "      <td>6.116944</td>\n",
       "      <td>...</td>\n",
       "      <td>0.249090</td>\n",
       "      <td>-0.166984</td>\n",
       "      <td>0.067888</td>\n",
       "      <td>11.103544</td>\n",
       "      <td>5.758366</td>\n",
       "      <td>6.887715</td>\n",
       "      <td>16.861910</td>\n",
       "      <td>1.987150</td>\n",
       "      <td>2545.821065</td>\n",
       "      <td>1.893027e+09</td>\n",
       "    </tr>\n",
       "    <tr>\n",
       "      <th>2</th>\n",
       "      <td>ASharp</td>\n",
       "      <td>ASharp</td>\n",
       "      <td>ASharp</td>\n",
       "      <td>1.966208</td>\n",
       "      <td>1.842166</td>\n",
       "      <td>1.819105</td>\n",
       "      <td>4.730238</td>\n",
       "      <td>4.815714</td>\n",
       "      <td>4.713457</td>\n",
       "      <td>1.958101</td>\n",
       "      <td>...</td>\n",
       "      <td>-0.265570</td>\n",
       "      <td>-0.319928</td>\n",
       "      <td>0.468807</td>\n",
       "      <td>6.305204</td>\n",
       "      <td>6.036780</td>\n",
       "      <td>5.370636</td>\n",
       "      <td>12.341984</td>\n",
       "      <td>2.268992</td>\n",
       "      <td>852.109512</td>\n",
       "      <td>1.893028e+09</td>\n",
       "    </tr>\n",
       "    <tr>\n",
       "      <th>3</th>\n",
       "      <td>ASharp</td>\n",
       "      <td>ASharp</td>\n",
       "      <td>ASharp</td>\n",
       "      <td>2.653696</td>\n",
       "      <td>3.294027</td>\n",
       "      <td>2.585196</td>\n",
       "      <td>5.789991</td>\n",
       "      <td>4.570096</td>\n",
       "      <td>4.766716</td>\n",
       "      <td>2.691171</td>\n",
       "      <td>...</td>\n",
       "      <td>-0.259108</td>\n",
       "      <td>0.139932</td>\n",
       "      <td>-0.827407</td>\n",
       "      <td>12.413744</td>\n",
       "      <td>12.239730</td>\n",
       "      <td>10.730727</td>\n",
       "      <td>24.653474</td>\n",
       "      <td>0.918034</td>\n",
       "      <td>602.504015</td>\n",
       "      <td>1.893029e+09</td>\n",
       "    </tr>\n",
       "    <tr>\n",
       "      <th>4</th>\n",
       "      <td>ASharp</td>\n",
       "      <td>ASharp</td>\n",
       "      <td>ASharp</td>\n",
       "      <td>0.239420</td>\n",
       "      <td>0.920351</td>\n",
       "      <td>1.115850</td>\n",
       "      <td>5.417744</td>\n",
       "      <td>4.587039</td>\n",
       "      <td>5.276610</td>\n",
       "      <td>1.206034</td>\n",
       "      <td>...</td>\n",
       "      <td>0.508363</td>\n",
       "      <td>-0.309093</td>\n",
       "      <td>-0.698571</td>\n",
       "      <td>6.744830</td>\n",
       "      <td>3.321215</td>\n",
       "      <td>4.069950</td>\n",
       "      <td>10.066045</td>\n",
       "      <td>1.044370</td>\n",
       "      <td>760.011927</td>\n",
       "      <td>1.893029e+09</td>\n",
       "    </tr>\n",
       "    <tr>\n",
       "      <th>...</th>\n",
       "      <td>...</td>\n",
       "      <td>...</td>\n",
       "      <td>...</td>\n",
       "      <td>...</td>\n",
       "      <td>...</td>\n",
       "      <td>...</td>\n",
       "      <td>...</td>\n",
       "      <td>...</td>\n",
       "      <td>...</td>\n",
       "      <td>...</td>\n",
       "      <td>...</td>\n",
       "      <td>...</td>\n",
       "      <td>...</td>\n",
       "      <td>...</td>\n",
       "      <td>...</td>\n",
       "      <td>...</td>\n",
       "      <td>...</td>\n",
       "      <td>...</td>\n",
       "      <td>...</td>\n",
       "      <td>...</td>\n",
       "      <td>...</td>\n",
       "    </tr>\n",
       "    <tr>\n",
       "      <th>31268</th>\n",
       "      <td>ASharp</td>\n",
       "      <td>ASharp</td>\n",
       "      <td>ASharp</td>\n",
       "      <td>6.186727</td>\n",
       "      <td>5.510906</td>\n",
       "      <td>7.519452</td>\n",
       "      <td>6.383282</td>\n",
       "      <td>4.853199</td>\n",
       "      <td>8.045866</td>\n",
       "      <td>7.302511</td>\n",
       "      <td>...</td>\n",
       "      <td>-0.164923</td>\n",
       "      <td>0.090490</td>\n",
       "      <td>-0.461434</td>\n",
       "      <td>11.109727</td>\n",
       "      <td>6.050501</td>\n",
       "      <td>7.072814</td>\n",
       "      <td>17.160229</td>\n",
       "      <td>2.606432</td>\n",
       "      <td>1047.134154</td>\n",
       "      <td>1.924548e+09</td>\n",
       "    </tr>\n",
       "    <tr>\n",
       "      <th>31269</th>\n",
       "      <td>ASharp</td>\n",
       "      <td>ASharp</td>\n",
       "      <td>ASharp</td>\n",
       "      <td>1.721740</td>\n",
       "      <td>4.009021</td>\n",
       "      <td>1.908319</td>\n",
       "      <td>4.943081</td>\n",
       "      <td>5.579007</td>\n",
       "      <td>4.556275</td>\n",
       "      <td>1.928961</td>\n",
       "      <td>...</td>\n",
       "      <td>0.113401</td>\n",
       "      <td>-0.448902</td>\n",
       "      <td>0.865685</td>\n",
       "      <td>10.939650</td>\n",
       "      <td>6.079042</td>\n",
       "      <td>7.039112</td>\n",
       "      <td>17.018691</td>\n",
       "      <td>1.854766</td>\n",
       "      <td>370.510977</td>\n",
       "      <td>1.924549e+09</td>\n",
       "    </tr>\n",
       "    <tr>\n",
       "      <th>31270</th>\n",
       "      <td>ASharp</td>\n",
       "      <td>ASharp</td>\n",
       "      <td>ASharp</td>\n",
       "      <td>0.822574</td>\n",
       "      <td>0.764163</td>\n",
       "      <td>1.675189</td>\n",
       "      <td>5.269077</td>\n",
       "      <td>5.015103</td>\n",
       "      <td>4.772040</td>\n",
       "      <td>1.012084</td>\n",
       "      <td>...</td>\n",
       "      <td>-0.111784</td>\n",
       "      <td>0.615304</td>\n",
       "      <td>0.175296</td>\n",
       "      <td>8.603080</td>\n",
       "      <td>2.792378</td>\n",
       "      <td>4.140288</td>\n",
       "      <td>11.395457</td>\n",
       "      <td>0.856639</td>\n",
       "      <td>736.088811</td>\n",
       "      <td>1.924549e+09</td>\n",
       "    </tr>\n",
       "    <tr>\n",
       "      <th>31271</th>\n",
       "      <td>ASharp</td>\n",
       "      <td>ASharp</td>\n",
       "      <td>ASharp</td>\n",
       "      <td>4.170996</td>\n",
       "      <td>3.444372</td>\n",
       "      <td>2.521179</td>\n",
       "      <td>4.706955</td>\n",
       "      <td>4.913677</td>\n",
       "      <td>4.613671</td>\n",
       "      <td>3.074621</td>\n",
       "      <td>...</td>\n",
       "      <td>-0.165810</td>\n",
       "      <td>0.029646</td>\n",
       "      <td>0.155422</td>\n",
       "      <td>33.284011</td>\n",
       "      <td>17.564394</td>\n",
       "      <td>20.838470</td>\n",
       "      <td>50.848405</td>\n",
       "      <td>1.779638</td>\n",
       "      <td>104.786554</td>\n",
       "      <td>1.924550e+09</td>\n",
       "    </tr>\n",
       "    <tr>\n",
       "      <th>31272</th>\n",
       "      <td>ASharp</td>\n",
       "      <td>ASharp</td>\n",
       "      <td>ASharp</td>\n",
       "      <td>6.296650</td>\n",
       "      <td>3.006299</td>\n",
       "      <td>4.946434</td>\n",
       "      <td>5.705755</td>\n",
       "      <td>4.624974</td>\n",
       "      <td>6.715840</td>\n",
       "      <td>8.948352</td>\n",
       "      <td>...</td>\n",
       "      <td>-0.403428</td>\n",
       "      <td>-0.061432</td>\n",
       "      <td>-0.256654</td>\n",
       "      <td>7.115492</td>\n",
       "      <td>6.210798</td>\n",
       "      <td>5.784550</td>\n",
       "      <td>13.326291</td>\n",
       "      <td>2.100656</td>\n",
       "      <td>697.008912</td>\n",
       "      <td>1.924550e+09</td>\n",
       "    </tr>\n",
       "  </tbody>\n",
       "</table>\n",
       "<p>31273 rows × 60 columns</p>\n",
       "</div>"
      ],
      "text/plain": [
       "       PSD_H1  PSD_I1  PSD_L1    SNR_H1     SNR_I1    SNR_L1  SNR_mf_H1  \\\n",
       "0      ASharp  ASharp  ASharp  1.693707   4.943555  2.077302   5.034389   \n",
       "1      ASharp  ASharp  ASharp  7.462232  10.996149  9.171689   8.925212   \n",
       "2      ASharp  ASharp  ASharp  1.966208   1.842166  1.819105   4.730238   \n",
       "3      ASharp  ASharp  ASharp  2.653696   3.294027  2.585196   5.789991   \n",
       "4      ASharp  ASharp  ASharp  0.239420   0.920351  1.115850   5.417744   \n",
       "...       ...     ...     ...       ...        ...       ...        ...   \n",
       "31268  ASharp  ASharp  ASharp  6.186727   5.510906  7.519452   6.383282   \n",
       "31269  ASharp  ASharp  ASharp  1.721740   4.009021  1.908319   4.943081   \n",
       "31270  ASharp  ASharp  ASharp  0.822574   0.764163  1.675189   5.269077   \n",
       "31271  ASharp  ASharp  ASharp  4.170996   3.444372  2.521179   4.706955   \n",
       "31272  ASharp  ASharp  ASharp  6.296650   3.006299  4.946434   5.705755   \n",
       "\n",
       "       SNR_mf_I1  SNR_mf_L1  SNR_mf_from_opt_H1  ...    spin2x    spin2y  \\\n",
       "0       5.246678   5.034375            1.134260  ...  0.033247  0.024677   \n",
       "1      10.167282   8.721079            6.116944  ...  0.249090 -0.166984   \n",
       "2       4.815714   4.713457            1.958101  ... -0.265570 -0.319928   \n",
       "3       4.570096   4.766716            2.691171  ... -0.259108  0.139932   \n",
       "4       4.587039   5.276610            1.206034  ...  0.508363 -0.309093   \n",
       "...          ...        ...                 ...  ...       ...       ...   \n",
       "31268   4.853199   8.045866            7.302511  ... -0.164923  0.090490   \n",
       "31269   5.579007   4.556275            1.928961  ...  0.113401 -0.448902   \n",
       "31270   5.015103   4.772040            1.012084  ... -0.111784  0.615304   \n",
       "31271   4.913677   4.613671            3.074621  ... -0.165810  0.029646   \n",
       "31272   4.624974   6.715840            8.948352  ... -0.403428 -0.061432   \n",
       "\n",
       "         spin2z   srcmass1   srcmass2  srcmchirp  srcmtotal  theta_jn  \\\n",
       "0     -0.048819   7.158183   2.199053   3.341901   9.357236  0.367256   \n",
       "1      0.067888  11.103544   5.758366   6.887715  16.861910  1.987150   \n",
       "2      0.468807   6.305204   6.036780   5.370636  12.341984  2.268992   \n",
       "3     -0.827407  12.413744  12.239730  10.730727  24.653474  0.918034   \n",
       "4     -0.698571   6.744830   3.321215   4.069950  10.066045  1.044370   \n",
       "...         ...        ...        ...        ...        ...       ...   \n",
       "31268 -0.461434  11.109727   6.050501   7.072814  17.160229  2.606432   \n",
       "31269  0.865685  10.939650   6.079042   7.039112  17.018691  1.854766   \n",
       "31270  0.175296   8.603080   2.792378   4.140288  11.395457  0.856639   \n",
       "31271  0.155422  33.284011  17.564394  20.838470  50.848405  1.779638   \n",
       "31272 -0.256654   7.115492   6.210798   5.784550  13.326291  2.100656   \n",
       "\n",
       "       time_interval  trigger_time  \n",
       "0         602.537511  1.893025e+09  \n",
       "1        2545.821065  1.893027e+09  \n",
       "2         852.109512  1.893028e+09  \n",
       "3         602.504015  1.893029e+09  \n",
       "4         760.011927  1.893029e+09  \n",
       "...              ...           ...  \n",
       "31268    1047.134154  1.924548e+09  \n",
       "31269     370.510977  1.924549e+09  \n",
       "31270     736.088811  1.924549e+09  \n",
       "31271     104.786554  1.924550e+09  \n",
       "31272     697.008912  1.924550e+09  \n",
       "\n",
       "[31273 rows x 60 columns]"
      ]
     },
     "execution_count": 5,
     "metadata": {},
     "output_type": "execute_result"
    }
   ],
   "source": [
    "pd.DataFrame(inj_data['results'])"
   ]
  },
  {
   "cell_type": "markdown",
   "id": "f45ead5a-67b6-4fa9-b985-a6ce0cbd29f0",
   "metadata": {
    "jp-MarkdownHeadingCollapsed": true
   },
   "source": [
    "### Calculate MF SNRs from Optimal SNRs"
   ]
  },
  {
   "cell_type": "code",
   "execution_count": 6,
   "id": "fd96f7e4-46b0-4774-ab5f-c10831095dae",
   "metadata": {},
   "outputs": [],
   "source": [
    "def mf_snr_from_opt_snr(opt_snr, method='chisq'):\n",
    "    \"\"\"\n",
    "    Choose method from ['chisq', 'normal']\n",
    "    \"\"\"\n",
    "    if method == 'normal':\n",
    "        mf_snr = np.random.normal(loc=opt_snr, scale=1.0)\n",
    "    elif method == 'chisq':\n",
    "        mf_snr_sq = ncx2.rvs(2, opt_snr**2)\n",
    "        mf_snr = np.sqrt(mf_snr_sq)\n",
    "    return(mf_snr)"
   ]
  },
  {
   "cell_type": "code",
   "execution_count": 7,
   "id": "0bc0106a-a6bf-4c89-9295-92d80569c185",
   "metadata": {},
   "outputs": [
    {
     "name": "stderr",
     "output_type": "stream",
     "text": [
      "100%|███████████████████████████████████████████████████████████████████████████████████████████████████████████████████████████████████████████| 31728/31728 [00:05<00:00, 5672.88it/s]\n"
     ]
    }
   ],
   "source": [
    "#dets = ['L1', 'H1', 'I1']\n",
    "dets = ['C1', 'CE20', 'E1', 'E2', 'E3']\n",
    "for det in dets:\n",
    "    inj_data['results'][f'SNR_mf_from_opt_{det}'] = []\n",
    "inj_data['results']['SNR_mf_from_opt_network'] = []\n",
    "\n",
    "for event in tqdm(range(len(inj_data['results']['SNR_network']))):\n",
    "    snr_netw_sq = 0\n",
    "    for det in dets:\n",
    "        snr_det = mf_snr_from_opt_snr(inj_data['results'][f'SNR_{det}'][event])\n",
    "        inj_data['results'][f'SNR_mf_from_opt_{det}'].append(snr_det)\n",
    "        snr_netw_sq += snr_det**2\n",
    "    inj_data['results']['SNR_mf_from_opt_network'].append(np.sqrt(snr_netw_sq))\n",
    "\n",
    "for key in inj_data['results'].keys():\n",
    "    if 'mf_from_opt' in key:\n",
    "        inj_data['results'][key] = np.array(inj_data['results'][key])"
   ]
  },
  {
   "cell_type": "markdown",
   "id": "21b84fb4-8e39-4fd4-b69c-98782c047e56",
   "metadata": {},
   "source": [
    "### Get detected"
   ]
  },
  {
   "cell_type": "code",
   "execution_count": 6,
   "id": "a477e1ca-99de-4456-adf9-aab0f724611c",
   "metadata": {},
   "outputs": [],
   "source": [
    "def get_detected_SNRs(data_dict, ifo_threshold=5, network_threshold=12, \n",
    "                      method='network', return_detected_dict=False, \n",
    "                      snr_type='mf_from_opt'):\n",
    "    if type(data_dict) == pd.core.frame.DataFrame:\n",
    "        pass\n",
    "    else:\n",
    "        data_dict = pd.DataFrame(data_dict)\n",
    "        \n",
    "    if snr_type == 'opt':\n",
    "        SNR_keys = [key for key in data_dict.keys() if 'SNR' in key and 'mf' not in key]\n",
    "    elif snr_type == 'mf_from_opt':\n",
    "        SNR_keys = [key for key in data_dict.keys() if 'SNR_mf_from_opt' in key]\n",
    "    elif snr_type == 'mf':\n",
    "        SNR_keys = [key for key in data_dict.keys() if 'SNR_mf' in key and 'from_opt' not in key]\n",
    "    else:\n",
    "        raise KeyError('Please choose snr_type from \"opt\" or \"mf\"')\n",
    "    print(SNR_keys)\n",
    "    detected_bool_dict = {}\n",
    "    detected_dict = {}\n",
    "    \n",
    "    for key in SNR_keys:\n",
    "        if snr_type == 'opt':\n",
    "            dict_key = key.split('SNR_')[-1]\n",
    "        elif snr_type == 'mf_from_opt':\n",
    "            dict_key = key.split('SNR_mf_from_opt_')[-1]\n",
    "        elif snr_type == 'mf':\n",
    "            dict_key = key.split('SNR_mf_')[-1]\n",
    "        \n",
    "        if \"network\" in key:\n",
    "            threshold = network_threshold\n",
    "        else:\n",
    "            threshold = ifo_threshold\n",
    "\n",
    "        detected_bool_dict[dict_key] = data_dict[key] >= threshold\n",
    "        detected_dict[dict_key] = data_dict[detected_bool_dict[dict_key]]\n",
    "\n",
    "    if method=='all':\n",
    "        detected_events_df = data_dict[np.all(tuple(detected_bool_dict.values()), axis=0) & detected_bool_dict['network']]\n",
    "    elif method == 'two-detector':\n",
    "        detector_keys = [key for key in detected_bool_dict.keys() if key != 'network']\n",
    "        detection_sum = np.sum([detected_bool_dict[key] for key in detector_keys], axis=0)\n",
    "        detected_events_df = data_dict[(detection_sum >= 2) & (detected_bool_dict['network'])]\n",
    "    elif method=='network':\n",
    "        detected_events_df = detected_dict['network']\n",
    "\n",
    "    if return_detected_dict:\n",
    "        return(detected_events_df, detected_dict)\n",
    "    else:\n",
    "        return(detected_events_df)"
   ]
  },
  {
   "cell_type": "code",
   "execution_count": 7,
   "id": "76e3decd-03f2-49c6-a05a-0d687ac85332",
   "metadata": {},
   "outputs": [
    {
     "data": {
      "image/png": "[encoded data removed]",
      "text/plain": [
       "<Figure size 640x480 with 1 Axes>"
      ]
     },
     "metadata": {},
     "output_type": "display_data"
    }
   ],
   "source": [
    "plt.hist(inj_data['results']['SNR_mf_from_opt_network'], bins=np.logspace(0,3.3,50), histtype=u'step', label='MF from opt');\n",
    "plt.xlabel('SNR')\n",
    "plt.legend()\n",
    "plt.xscale('log')"
   ]
  },
  {
   "cell_type": "code",
   "execution_count": 8,
   "id": "3134163a-b594-427b-87c8-b273181e340d",
   "metadata": {},
   "outputs": [
    {
     "name": "stdout",
     "output_type": "stream",
     "text": [
      "['SNR_mf_from_opt_H1', 'SNR_mf_from_opt_I1', 'SNR_mf_from_opt_L1', 'SNR_mf_from_opt_network']\n"
     ]
    }
   ],
   "source": [
    "inj_data['detected_mf_from_opt_10'] = get_detected_SNRs(inj_data['results'], method='two-detector', \n",
    "                                                     snr_type='mf_from_opt', network_threshold=10)"
   ]
  },
  {
   "cell_type": "markdown",
   "id": "57f1e6f1-ed23-4ff4-aa06-6fa4431c14b4",
   "metadata": {},
   "source": [
    "### Detected percentage"
   ]
  },
  {
   "cell_type": "code",
   "execution_count": 9,
   "id": "a35218e6-f54a-447a-9874-987415b95cda",
   "metadata": {},
   "outputs": [
    {
     "name": "stdout",
     "output_type": "stream",
     "text": [
      "Total = 31273\n",
      "detected = 5938 = 19.0 %\n"
     ]
    }
   ],
   "source": [
    "n_total = len(inj_data['results']['redshift'])\n",
    "n_detected = len(inj_data['detected_mf_from_opt_10']['redshift'])\n",
    "\n",
    "print('Total =', n_total)\n",
    "print('detected =', n_detected, '=', round(n_detected*100/n_total, 1), '%')"
   ]
  },
  {
   "cell_type": "code",
   "execution_count": 10,
   "id": "3e674328-3aa8-4c50-8567-1443244dc105",
   "metadata": {},
   "outputs": [
    {
     "data": {
      "text/html": [
       "<div>\n",
       "<style scoped>\n",
       "    .dataframe tbody tr th:only-of-type {\n",
       "        vertical-align: middle;\n",
       "    }\n",
       "\n",
       "    .dataframe tbody tr th {\n",
       "        vertical-align: top;\n",
       "    }\n",
       "\n",
       "    .dataframe thead th {\n",
       "        text-align: right;\n",
       "    }\n",
       "</style>\n",
       "<table border=\"1\" class=\"dataframe\">\n",
       "  <thead>\n",
       "    <tr style=\"text-align: right;\">\n",
       "      <th></th>\n",
       "      <th>PSD_H1</th>\n",
       "      <th>PSD_I1</th>\n",
       "      <th>PSD_L1</th>\n",
       "      <th>SNR_H1</th>\n",
       "      <th>SNR_I1</th>\n",
       "      <th>SNR_L1</th>\n",
       "      <th>SNR_mf_H1</th>\n",
       "      <th>SNR_mf_I1</th>\n",
       "      <th>SNR_mf_L1</th>\n",
       "      <th>SNR_mf_from_opt_H1</th>\n",
       "      <th>...</th>\n",
       "      <th>spin2x</th>\n",
       "      <th>spin2y</th>\n",
       "      <th>spin2z</th>\n",
       "      <th>srcmass1</th>\n",
       "      <th>srcmass2</th>\n",
       "      <th>srcmchirp</th>\n",
       "      <th>srcmtotal</th>\n",
       "      <th>theta_jn</th>\n",
       "      <th>time_interval</th>\n",
       "      <th>trigger_time</th>\n",
       "    </tr>\n",
       "  </thead>\n",
       "  <tbody>\n",
       "    <tr>\n",
       "      <th>0</th>\n",
       "      <td>ASharp</td>\n",
       "      <td>ASharp</td>\n",
       "      <td>ASharp</td>\n",
       "      <td>4.210169</td>\n",
       "      <td>9.724204</td>\n",
       "      <td>4.798106</td>\n",
       "      <td>5.238635</td>\n",
       "      <td>9.329020</td>\n",
       "      <td>4.716167</td>\n",
       "      <td>4.770949</td>\n",
       "      <td>...</td>\n",
       "      <td>0.003878</td>\n",
       "      <td>0.026014</td>\n",
       "      <td>0.010671</td>\n",
       "      <td>22.861002</td>\n",
       "      <td>13.207925</td>\n",
       "      <td>15.015205</td>\n",
       "      <td>36.068927</td>\n",
       "      <td>0.858470</td>\n",
       "      <td>6112.223185</td>\n",
       "      <td>1.893047e+09</td>\n",
       "    </tr>\n",
       "    <tr>\n",
       "      <th>1</th>\n",
       "      <td>ASharp</td>\n",
       "      <td>ASharp</td>\n",
       "      <td>ASharp</td>\n",
       "      <td>3.987302</td>\n",
       "      <td>5.737965</td>\n",
       "      <td>6.536942</td>\n",
       "      <td>4.687712</td>\n",
       "      <td>5.484266</td>\n",
       "      <td>7.136520</td>\n",
       "      <td>4.021567</td>\n",
       "      <td>...</td>\n",
       "      <td>-0.036769</td>\n",
       "      <td>0.057128</td>\n",
       "      <td>-0.047775</td>\n",
       "      <td>9.002676</td>\n",
       "      <td>8.730396</td>\n",
       "      <td>7.717676</td>\n",
       "      <td>17.733072</td>\n",
       "      <td>0.871115</td>\n",
       "      <td>62.118977</td>\n",
       "      <td>1.893114e+09</td>\n",
       "    </tr>\n",
       "    <tr>\n",
       "      <th>2</th>\n",
       "      <td>ASharp</td>\n",
       "      <td>ASharp</td>\n",
       "      <td>ASharp</td>\n",
       "      <td>6.586697</td>\n",
       "      <td>4.358943</td>\n",
       "      <td>7.234943</td>\n",
       "      <td>6.918798</td>\n",
       "      <td>5.246057</td>\n",
       "      <td>5.777002</td>\n",
       "      <td>5.687277</td>\n",
       "      <td>...</td>\n",
       "      <td>0.436964</td>\n",
       "      <td>0.368606</td>\n",
       "      <td>-0.008880</td>\n",
       "      <td>13.580559</td>\n",
       "      <td>12.597791</td>\n",
       "      <td>11.385150</td>\n",
       "      <td>26.178349</td>\n",
       "      <td>2.696717</td>\n",
       "      <td>1677.407499</td>\n",
       "      <td>1.893150e+09</td>\n",
       "    </tr>\n",
       "    <tr>\n",
       "      <th>3</th>\n",
       "      <td>ASharp</td>\n",
       "      <td>ASharp</td>\n",
       "      <td>ASharp</td>\n",
       "      <td>6.163715</td>\n",
       "      <td>7.702091</td>\n",
       "      <td>5.333599</td>\n",
       "      <td>6.222053</td>\n",
       "      <td>7.697570</td>\n",
       "      <td>6.358283</td>\n",
       "      <td>5.045709</td>\n",
       "      <td>...</td>\n",
       "      <td>-0.593706</td>\n",
       "      <td>-0.578204</td>\n",
       "      <td>0.359554</td>\n",
       "      <td>8.542882</td>\n",
       "      <td>7.286706</td>\n",
       "      <td>6.864161</td>\n",
       "      <td>15.829589</td>\n",
       "      <td>1.746895</td>\n",
       "      <td>474.135015</td>\n",
       "      <td>1.893163e+09</td>\n",
       "    </tr>\n",
       "    <tr>\n",
       "      <th>4</th>\n",
       "      <td>ASharp</td>\n",
       "      <td>ASharp</td>\n",
       "      <td>ASharp</td>\n",
       "      <td>5.798188</td>\n",
       "      <td>3.693452</td>\n",
       "      <td>5.314853</td>\n",
       "      <td>4.835761</td>\n",
       "      <td>4.639396</td>\n",
       "      <td>4.416468</td>\n",
       "      <td>6.227247</td>\n",
       "      <td>...</td>\n",
       "      <td>-0.327118</td>\n",
       "      <td>0.192339</td>\n",
       "      <td>0.248624</td>\n",
       "      <td>35.875943</td>\n",
       "      <td>12.409798</td>\n",
       "      <td>17.880392</td>\n",
       "      <td>48.285740</td>\n",
       "      <td>0.629593</td>\n",
       "      <td>575.386384</td>\n",
       "      <td>1.893164e+09</td>\n",
       "    </tr>\n",
       "    <tr>\n",
       "      <th>...</th>\n",
       "      <td>...</td>\n",
       "      <td>...</td>\n",
       "      <td>...</td>\n",
       "      <td>...</td>\n",
       "      <td>...</td>\n",
       "      <td>...</td>\n",
       "      <td>...</td>\n",
       "      <td>...</td>\n",
       "      <td>...</td>\n",
       "      <td>...</td>\n",
       "      <td>...</td>\n",
       "      <td>...</td>\n",
       "      <td>...</td>\n",
       "      <td>...</td>\n",
       "      <td>...</td>\n",
       "      <td>...</td>\n",
       "      <td>...</td>\n",
       "      <td>...</td>\n",
       "      <td>...</td>\n",
       "      <td>...</td>\n",
       "      <td>...</td>\n",
       "    </tr>\n",
       "    <tr>\n",
       "      <th>1588</th>\n",
       "      <td>ASharp</td>\n",
       "      <td>ASharp</td>\n",
       "      <td>ASharp</td>\n",
       "      <td>6.608441</td>\n",
       "      <td>6.215135</td>\n",
       "      <td>6.433877</td>\n",
       "      <td>5.045234</td>\n",
       "      <td>6.220431</td>\n",
       "      <td>7.449398</td>\n",
       "      <td>5.866432</td>\n",
       "      <td>...</td>\n",
       "      <td>-0.353836</td>\n",
       "      <td>0.259280</td>\n",
       "      <td>0.056916</td>\n",
       "      <td>16.989024</td>\n",
       "      <td>13.172279</td>\n",
       "      <td>13.001923</td>\n",
       "      <td>30.161303</td>\n",
       "      <td>0.980254</td>\n",
       "      <td>7.544506</td>\n",
       "      <td>1.924426e+09</td>\n",
       "    </tr>\n",
       "    <tr>\n",
       "      <th>1589</th>\n",
       "      <td>ASharp</td>\n",
       "      <td>ASharp</td>\n",
       "      <td>ASharp</td>\n",
       "      <td>6.052748</td>\n",
       "      <td>5.653147</td>\n",
       "      <td>8.956621</td>\n",
       "      <td>8.307097</td>\n",
       "      <td>6.043693</td>\n",
       "      <td>9.894815</td>\n",
       "      <td>6.890841</td>\n",
       "      <td>...</td>\n",
       "      <td>-0.192937</td>\n",
       "      <td>-0.112590</td>\n",
       "      <td>-0.481962</td>\n",
       "      <td>36.300611</td>\n",
       "      <td>31.727001</td>\n",
       "      <td>29.530359</td>\n",
       "      <td>68.027611</td>\n",
       "      <td>1.878076</td>\n",
       "      <td>2631.333184</td>\n",
       "      <td>1.924453e+09</td>\n",
       "    </tr>\n",
       "    <tr>\n",
       "      <th>1590</th>\n",
       "      <td>ASharp</td>\n",
       "      <td>ASharp</td>\n",
       "      <td>ASharp</td>\n",
       "      <td>6.677095</td>\n",
       "      <td>6.171132</td>\n",
       "      <td>6.661758</td>\n",
       "      <td>5.424761</td>\n",
       "      <td>5.897267</td>\n",
       "      <td>7.588838</td>\n",
       "      <td>6.333351</td>\n",
       "      <td>...</td>\n",
       "      <td>-0.550841</td>\n",
       "      <td>-0.110724</td>\n",
       "      <td>0.101759</td>\n",
       "      <td>34.359499</td>\n",
       "      <td>22.015446</td>\n",
       "      <td>23.825793</td>\n",
       "      <td>56.374945</td>\n",
       "      <td>0.515434</td>\n",
       "      <td>369.857565</td>\n",
       "      <td>1.924496e+09</td>\n",
       "    </tr>\n",
       "    <tr>\n",
       "      <th>1591</th>\n",
       "      <td>ASharp</td>\n",
       "      <td>ASharp</td>\n",
       "      <td>ASharp</td>\n",
       "      <td>6.211696</td>\n",
       "      <td>3.163374</td>\n",
       "      <td>6.225603</td>\n",
       "      <td>6.556689</td>\n",
       "      <td>5.653049</td>\n",
       "      <td>6.178245</td>\n",
       "      <td>7.637260</td>\n",
       "      <td>...</td>\n",
       "      <td>-0.002040</td>\n",
       "      <td>-0.005968</td>\n",
       "      <td>0.013702</td>\n",
       "      <td>11.306695</td>\n",
       "      <td>9.694535</td>\n",
       "      <td>9.108957</td>\n",
       "      <td>21.001230</td>\n",
       "      <td>2.377800</td>\n",
       "      <td>304.139935</td>\n",
       "      <td>1.924528e+09</td>\n",
       "    </tr>\n",
       "    <tr>\n",
       "      <th>1592</th>\n",
       "      <td>ASharp</td>\n",
       "      <td>ASharp</td>\n",
       "      <td>ASharp</td>\n",
       "      <td>6.186727</td>\n",
       "      <td>5.510906</td>\n",
       "      <td>7.519452</td>\n",
       "      <td>6.383282</td>\n",
       "      <td>4.853199</td>\n",
       "      <td>8.045866</td>\n",
       "      <td>7.302511</td>\n",
       "      <td>...</td>\n",
       "      <td>-0.164923</td>\n",
       "      <td>0.090490</td>\n",
       "      <td>-0.461434</td>\n",
       "      <td>11.109727</td>\n",
       "      <td>6.050501</td>\n",
       "      <td>7.072814</td>\n",
       "      <td>17.160229</td>\n",
       "      <td>2.606432</td>\n",
       "      <td>1047.134154</td>\n",
       "      <td>1.924548e+09</td>\n",
       "    </tr>\n",
       "  </tbody>\n",
       "</table>\n",
       "<p>1593 rows × 60 columns</p>\n",
       "</div>"
      ],
      "text/plain": [
       "      PSD_H1  PSD_I1  PSD_L1    SNR_H1    SNR_I1    SNR_L1  SNR_mf_H1  \\\n",
       "0     ASharp  ASharp  ASharp  4.210169  9.724204  4.798106   5.238635   \n",
       "1     ASharp  ASharp  ASharp  3.987302  5.737965  6.536942   4.687712   \n",
       "2     ASharp  ASharp  ASharp  6.586697  4.358943  7.234943   6.918798   \n",
       "3     ASharp  ASharp  ASharp  6.163715  7.702091  5.333599   6.222053   \n",
       "4     ASharp  ASharp  ASharp  5.798188  3.693452  5.314853   4.835761   \n",
       "...      ...     ...     ...       ...       ...       ...        ...   \n",
       "1588  ASharp  ASharp  ASharp  6.608441  6.215135  6.433877   5.045234   \n",
       "1589  ASharp  ASharp  ASharp  6.052748  5.653147  8.956621   8.307097   \n",
       "1590  ASharp  ASharp  ASharp  6.677095  6.171132  6.661758   5.424761   \n",
       "1591  ASharp  ASharp  ASharp  6.211696  3.163374  6.225603   6.556689   \n",
       "1592  ASharp  ASharp  ASharp  6.186727  5.510906  7.519452   6.383282   \n",
       "\n",
       "      SNR_mf_I1  SNR_mf_L1  SNR_mf_from_opt_H1  ...    spin2x    spin2y  \\\n",
       "0      9.329020   4.716167            4.770949  ...  0.003878  0.026014   \n",
       "1      5.484266   7.136520            4.021567  ... -0.036769  0.057128   \n",
       "2      5.246057   5.777002            5.687277  ...  0.436964  0.368606   \n",
       "3      7.697570   6.358283            5.045709  ... -0.593706 -0.578204   \n",
       "4      4.639396   4.416468            6.227247  ... -0.327118  0.192339   \n",
       "...         ...        ...                 ...  ...       ...       ...   \n",
       "1588   6.220431   7.449398            5.866432  ... -0.353836  0.259280   \n",
       "1589   6.043693   9.894815            6.890841  ... -0.192937 -0.112590   \n",
       "1590   5.897267   7.588838            6.333351  ... -0.550841 -0.110724   \n",
       "1591   5.653049   6.178245            7.637260  ... -0.002040 -0.005968   \n",
       "1592   4.853199   8.045866            7.302511  ... -0.164923  0.090490   \n",
       "\n",
       "        spin2z   srcmass1   srcmass2  srcmchirp  srcmtotal  theta_jn  \\\n",
       "0     0.010671  22.861002  13.207925  15.015205  36.068927  0.858470   \n",
       "1    -0.047775   9.002676   8.730396   7.717676  17.733072  0.871115   \n",
       "2    -0.008880  13.580559  12.597791  11.385150  26.178349  2.696717   \n",
       "3     0.359554   8.542882   7.286706   6.864161  15.829589  1.746895   \n",
       "4     0.248624  35.875943  12.409798  17.880392  48.285740  0.629593   \n",
       "...        ...        ...        ...        ...        ...       ...   \n",
       "1588  0.056916  16.989024  13.172279  13.001923  30.161303  0.980254   \n",
       "1589 -0.481962  36.300611  31.727001  29.530359  68.027611  1.878076   \n",
       "1590  0.101759  34.359499  22.015446  23.825793  56.374945  0.515434   \n",
       "1591  0.013702  11.306695   9.694535   9.108957  21.001230  2.377800   \n",
       "1592 -0.461434  11.109727   6.050501   7.072814  17.160229  2.606432   \n",
       "\n",
       "      time_interval  trigger_time  \n",
       "0       6112.223185  1.893047e+09  \n",
       "1         62.118977  1.893114e+09  \n",
       "2       1677.407499  1.893150e+09  \n",
       "3        474.135015  1.893163e+09  \n",
       "4        575.386384  1.893164e+09  \n",
       "...             ...           ...  \n",
       "1588       7.544506  1.924426e+09  \n",
       "1589    2631.333184  1.924453e+09  \n",
       "1590     369.857565  1.924496e+09  \n",
       "1591     304.139935  1.924528e+09  \n",
       "1592    1047.134154  1.924548e+09  \n",
       "\n",
       "[1593 rows x 60 columns]"
      ]
     },
     "execution_count": 10,
     "metadata": {},
     "output_type": "execute_result"
    }
   ],
   "source": [
    "inj_data['detected_mf_from_opt_10-12'] = inj_data['detected_mf_from_opt_10'][inj_data['detected_mf_from_opt_10']['SNR_mf_from_opt_network'] <= 12].reset_index(drop=True)\n",
    "inj_data['detected_mf_from_opt_10-12']"
   ]
  },
  {
   "cell_type": "markdown",
   "id": "a176ec62-1d66-43f7-a5d0-15e2ecc5d341",
   "metadata": {},
   "source": [
    "### Choose n_events from detected as injection parameters"
   ]
  },
  {
   "cell_type": "code",
   "execution_count": 11,
   "id": "68f6f9ca-0cf1-409b-9685-fb879909586f",
   "metadata": {},
   "outputs": [],
   "source": [
    "#n_events = 4345\n",
    "#n_events = 100\n",
    "#n_events = len(inj_data['detected_mf_from_opt_10-12']['redshift'])\n",
    "n_events = 10\n",
    "#inj_data['selected_n_events'] = inj_data['detected_mf_from_opt_10-12'].sample(n_events, \n",
    "#                                                                        random_state=129).reset_index().rename(columns={'index': 'old_index'})\n",
    "inj_data['selected_n_events'] = inj_data['detected_mf_from_opt_10-12'].iloc[:n_events]"
   ]
  },
  {
   "cell_type": "code",
   "execution_count": 12,
   "id": "2013bda2-5745-4e75-a143-191f2dcdc1e8",
   "metadata": {},
   "outputs": [
    {
     "data": {
      "text/plain": [
       "Text(0.5, 0, 'z')"
      ]
     },
     "execution_count": 12,
     "metadata": {},
     "output_type": "execute_result"
    },
    {
     "data": {
      "image/png": "[encoded data removed]",
      "text/plain": [
       "<Figure size 640x480 with 1 Axes>"
      ]
     },
     "metadata": {},
     "output_type": "display_data"
    }
   ],
   "source": [
    "plt.hist(inj_data['detected_mf_from_opt_10-12']['redshift'], density=True, histtype=u'step', bins=np.linspace(0,10,50), \n",
    "         label='Detected')\n",
    "plt.hist(inj_data['selected_n_events']['redshift'], density=True, histtype=u'step', \n",
    "         bins=np.linspace(0,10,50), label='Selected');\n",
    "plt.legend()\n",
    "plt.xlabel('z')"
   ]
  },
  {
   "cell_type": "code",
   "execution_count": 13,
   "id": "7045e3f1-9948-4b11-83c2-0fa5133f6965",
   "metadata": {},
   "outputs": [
    {
     "data": {
      "text/plain": [
       "10"
      ]
     },
     "execution_count": 13,
     "metadata": {},
     "output_type": "execute_result"
    }
   ],
   "source": [
    "len(inj_data['selected_n_events']['redshift'])"
   ]
  },
  {
   "cell_type": "markdown",
   "id": "e5332943-7fee-41c2-965b-b7f0e929846f",
   "metadata": {},
   "source": [
    "## FM analysis with GWBench"
   ]
  },
  {
   "cell_type": "markdown",
   "id": "64890cf4-ef5d-41b1-9911-e2a99529791d",
   "metadata": {},
   "source": [
    "### Setup - A#"
   ]
  },
  {
   "cell_type": "code",
   "execution_count": 14,
   "id": "6fb726cf-4bb4-4061-892e-0c87cd7654a8",
   "metadata": {},
   "outputs": [],
   "source": [
    "fm_params_str = 'Mc eta DL iota tc phic ra dec psi'\n",
    "def run_analysis(inj_params, logging_level='WARNING', num_cores=4):\n",
    "    f\"\"\"\n",
    "    Parameters:\n",
    "    -------------------------------------------------------------\n",
    "    inj_params: dict\n",
    "        dict with keys: Mc, eta, tc, phic, \n",
    "                        DL, iota, ra, dec, psi, \n",
    "                        chi1x, chi1y, chi1z, chi2x, chi2y, chi2z\n",
    "    Returns:\n",
    "    -----------------------\n",
    "    FM: matrix\n",
    "        Fisher matrix with parameter order as: {fm_params_str}\n",
    "    cov: matrix\n",
    "        Covariance matrix corresponding to the FM\n",
    "    errors: dict\n",
    "        Parameter errors\n",
    "    \"\"\"\n",
    "    wf_model_name = 'lal_bbh'\n",
    "    wf_other_var_dic = {'approximant':'IMRPhenomXPHM'}\n",
    "    user_psds = {'A-Sharp':{'psd_file': '/home/divyajyoti/ACADEMIC/Projects/Cardiff_University/Next_gen_detectability/scripts/next_gen_detect/noise_curves/Asharp-asd.txt', \n",
    "                            'is_asd': True}}\n",
    "    conv_log = ('Mc', 'DL')\n",
    "    ana_deriv_symbs_string = 'DL tc phic ra dec psi'\n",
    "    network_spec = ['A-Sharp_L', 'A-Sharp_H', 'A-Sharp_I']\n",
    "    f_low = 10\n",
    "    f_high = 1024\n",
    "    df = 1/16\n",
    "    f_arr = np.arange(f_low, f_high+df, df)\n",
    "    net = Network(network_spec, logger_level=logging_level)\n",
    "    net.set_net_vars(wf_model_name=wf_model_name, \n",
    "                     wf_other_var_dic=wf_other_var_dic,\n",
    "                     f=f_arr, \n",
    "                     inj_params=inj_params,\n",
    "                     deriv_symbs_string=fm_params_str,\n",
    "                     ana_deriv_symbs_string=ana_deriv_symbs_string,\n",
    "                     conv_log=conv_log, \n",
    "                     user_psds=user_psds)\n",
    "    net.calc_errors(derivs='num', f_lo=f_low, f_hi=f_high, num_cores=num_cores)\n",
    "    return(net)"
   ]
  },
  {
   "cell_type": "markdown",
   "id": "4aaacd2f-ead4-4f50-82f9-76f0aaa1e057",
   "metadata": {
    "jp-MarkdownHeadingCollapsed": true
   },
   "source": [
    "### Setup - CE4020ET123"
   ]
  },
  {
   "cell_type": "code",
   "execution_count": 13,
   "id": "491e8791-bf4f-463c-92e5-6895cfcffe6c",
   "metadata": {},
   "outputs": [],
   "source": [
    "fm_params_str = 'Mc eta DL iota tc phic ra dec psi'\n",
    "def run_analysis(inj_params, logging_level='WARNING', num_cores=2):\n",
    "    f\"\"\"\n",
    "    Parameters:\n",
    "    -------------------------------------------------------------\n",
    "    inj_params: dict\n",
    "        dict with keys: Mc, eta, tc, phic, \n",
    "                        DL, iota, ra, dec, psi, \n",
    "                        chi1x, chi1y, chi1z, chi2x, chi2y, chi2z\n",
    "    Returns:\n",
    "    -----------------------\n",
    "    FM: matrix\n",
    "        Fisher matrix with parameter order as: {fm_params_str}\n",
    "    cov: matrix\n",
    "        Covariance matrix corresponding to the FM\n",
    "    errors: dict\n",
    "        Parameter errors\n",
    "    \"\"\"\n",
    "    wf_model_name = 'lal_bbh'\n",
    "    wf_other_var_dic = {'approximant':'IMRPhenomXPHM'}\n",
    "    user_psds = {'A-Sharp':{'psd_file': '/home/divyajyoti/ACADEMIC/Projects/Cardiff_University/Next_gen_detectability/scripts/next_gen_detect/noise_curves/Asharp-asd.txt', \n",
    "                            'is_asd': True},\n",
    "                 'CE40':{'psd_file': '/home/divyajyoti/ACADEMIC/Projects/Cardiff_University/Next_gen_detectability/scripts/next_gen_detect/noise_curves/CE40-asd.txt', \n",
    "                         'is_asd': True}, \n",
    "                 'CE20':{'psd_file': '/home/divyajyoti/ACADEMIC/Projects/Cardiff_University/Next_gen_detectability/scripts/next_gen_detect/noise_curves/CE20-asd.txt', \n",
    "                         'is_asd': True}, \n",
    "                 'ET10-CoBA':{'psd_file': '/home/divyajyoti/ACADEMIC/Projects/Cardiff_University/Next_gen_detectability/scripts/next_gen_detect/noise_curves/18213_ET10kmcolumns.txt', \n",
    "                              'is_asd': False}}\n",
    "    user_locs = {'C1':{'longitude': -2.06175744538, 'latitude': 0.59637900541, 'arm_azimuth':0, 'which_arm':'y', 'shape':'L'}}\n",
    "    conv_log = ('Mc', 'DL')\n",
    "    ana_deriv_symbs_string = 'DL tc phic ra dec psi'\n",
    "    network_spec = ['CE40_C1', 'CE20_CEB', 'ET10-CoBA_ET1', 'ET10-CoBA_ET2', 'ET10-CoBA_ET3']\n",
    "    f_low = 5\n",
    "    f_high = 1024\n",
    "    df = 1/16\n",
    "    f_arr = np.arange(f_low, f_high+df, df)\n",
    "    net = Network(network_spec, logger_level=logging_level)\n",
    "    net.set_net_vars(wf_model_name=wf_model_name, \n",
    "                     wf_other_var_dic=wf_other_var_dic,\n",
    "                     f=f_arr, \n",
    "                     inj_params=inj_params,\n",
    "                     deriv_symbs_string=fm_params_str,\n",
    "                     ana_deriv_symbs_string=ana_deriv_symbs_string,\n",
    "                     conv_log=conv_log, \n",
    "                     user_psds=user_psds,\n",
    "                     user_locs=user_locs)\n",
    "    net.calc_errors(derivs='num', f_lo=f_low, f_hi=f_high, num_cores=num_cores)\n",
    "    return(net)"
   ]
  },
  {
   "cell_type": "markdown",
   "id": "ba1567a8-5bcd-431d-8ad5-ff73c59ecab3",
   "metadata": {},
   "source": [
    "### Calculate Errors"
   ]
  },
  {
   "cell_type": "code",
   "execution_count": 15,
   "id": "fbaf1432-64ee-490c-bfda-a792644b567b",
   "metadata": {},
   "outputs": [],
   "source": [
    "gwbench_to_pycbc_map = {\n",
    "    'Mc': 'mchirp',\n",
    "    'eta': 'eta',\n",
    "    'DL': 'distance',\n",
    "    'ra': 'ra',\n",
    "    'dec': 'dec',\n",
    "    'psi': 'polarization',\n",
    "    'chi1z': 'spin1z',\n",
    "    'chi2z': 'spin2z',\n",
    "    'tc': 'trigger_time',\n",
    "    'phic': 'coa_phase'\n",
    "}"
   ]
  },
  {
   "cell_type": "code",
   "execution_count": 16,
   "id": "9b6c1647-2dc0-48ce-b408-a01d3557666b",
   "metadata": {},
   "outputs": [
    {
     "name": "stderr",
     "output_type": "stream",
     "text": [
      "100%|███████████████████████████████████████████████████████████████████████████████████████████████████████████████████████████████████████████████████| 10/10 [00:23<00:00,  2.31s/it]\n"
     ]
    }
   ],
   "source": [
    "inj_records = inj_data['selected_n_events'].to_records()\n",
    "results = {'inj_params':[], 'cov':[], 'errs':[]}\n",
    "failed_events = {'inj_params':[], 'event_num':[]}\n",
    "#for event_num in tqdm(range(3)):\n",
    "det_objs = []\n",
    "for event_num in tqdm(range(len(inj_records))):\n",
    "    params_i = inj_records[event_num]\n",
    "    inj_params = {'chi1x': params_i['spin1x'], \n",
    "                  'chi1y': params_i['spin1y'],\n",
    "                  'chi2x': params_i['spin2x'],\n",
    "                  'chi2y': params_i['spin2y'],\n",
    "                  'chi1z': params_i['spin1z'],\n",
    "                  'chi2z': params_i['spin2z'],\n",
    "                  'gmst0': bilby.gw.utils.greenwich_mean_sidereal_time(params_i['trigger_time'])}\n",
    "    for param in fm_params_str.split():\n",
    "        if param == 'iota':\n",
    "            theta_jn, phi_jl, tilt_1, tilt_2, phi_12, a_1, a_2 =  spin_angles(params_i['mass1'], params_i['mass2'], \n",
    "                                                                              params_i['inclination'], \n",
    "                                                                              params_i['spin1x'], params_i['spin1y'], params_i['spin1z'], \n",
    "                                                                              params_i['spin2x'], params_i['spin2y'], params_i['spin2z'], \n",
    "                                                                              params_i['f_ref'], params_i['coa_phase'])\n",
    "            #inj_params[param] = theta_jn\n",
    "            inj_params[param] = params_i['inclination']\n",
    "        else:\n",
    "            inj_params[param] = params_i[gwbench_to_pycbc_map[param]]\n",
    "            #inj_params['tc'] = 0\n",
    "    try:\n",
    "        net = run_analysis(inj_params, num_cores=8)\n",
    "        results['inj_params'].append(inj_params)\n",
    "        errs = net.errs\n",
    "        errs['snr'] = net.snr\n",
    "        errs['inv_err'] = net.inv_err['inv_err']\n",
    "        results['cov'].append(net.cov)\n",
    "        for det_obj in net.detectors:\n",
    "            errs[f'snr_{det_obj.tec}_{det_obj.loc}'] = det_obj.snr\n",
    "        det_objs.append(net.detectors)\n",
    "        results['errs'].append(errs)\n",
    "        results['deriv_variables_in_order'] = net.deriv_variables\n",
    "    except Exception as e:\n",
    "        failed_events['event_num'].append(event_num)\n",
    "        failed_events['inj_params'].append(inj_params)"
   ]
  },
  {
   "cell_type": "code",
   "execution_count": 17,
   "id": "c4b221e0-db24-4c74-8b92-9936c84913bf",
   "metadata": {},
   "outputs": [
    {
     "name": "stdout",
     "output_type": "stream",
     "text": [
      "L A-Sharp\n",
      "H A-Sharp\n",
      "I A-Sharp\n"
     ]
    }
   ],
   "source": [
    "for det in det_objs[0]:\n",
    "    print(det.loc, det.tec)"
   ]
  },
  {
   "cell_type": "code",
   "execution_count": 25,
   "id": "e680d813-eba9-4f5f-bb74-6d9f8a3a91d4",
   "metadata": {},
   "outputs": [
    {
     "data": {
      "text/html": [
       "<div>\n",
       "<style scoped>\n",
       "    .dataframe tbody tr th:only-of-type {\n",
       "        vertical-align: middle;\n",
       "    }\n",
       "\n",
       "    .dataframe tbody tr th {\n",
       "        vertical-align: top;\n",
       "    }\n",
       "\n",
       "    .dataframe thead th {\n",
       "        text-align: right;\n",
       "    }\n",
       "</style>\n",
       "<table border=\"1\" class=\"dataframe\">\n",
       "  <thead>\n",
       "    <tr style=\"text-align: right;\">\n",
       "      <th></th>\n",
       "      <th>snr_A-Sharp_L</th>\n",
       "      <th>snr_A-Sharp_H</th>\n",
       "      <th>snr_A-Sharp_I</th>\n",
       "      <th>snr</th>\n",
       "    </tr>\n",
       "  </thead>\n",
       "  <tbody>\n",
       "    <tr>\n",
       "      <th>0</th>\n",
       "      <td>4.803340</td>\n",
       "      <td>4.224015</td>\n",
       "      <td>9.070525</td>\n",
       "      <td>11.099045</td>\n",
       "    </tr>\n",
       "    <tr>\n",
       "      <th>1</th>\n",
       "      <td>4.908528</td>\n",
       "      <td>2.991862</td>\n",
       "      <td>4.509644</td>\n",
       "      <td>7.306284</td>\n",
       "    </tr>\n",
       "    <tr>\n",
       "      <th>2</th>\n",
       "      <td>7.115951</td>\n",
       "      <td>6.464111</td>\n",
       "      <td>4.341386</td>\n",
       "      <td>10.548418</td>\n",
       "    </tr>\n",
       "    <tr>\n",
       "      <th>3</th>\n",
       "      <td>5.521005</td>\n",
       "      <td>6.662409</td>\n",
       "      <td>6.455620</td>\n",
       "      <td>10.795565</td>\n",
       "    </tr>\n",
       "    <tr>\n",
       "      <th>4</th>\n",
       "      <td>6.344801</td>\n",
       "      <td>6.883342</td>\n",
       "      <td>5.019567</td>\n",
       "      <td>10.622286</td>\n",
       "    </tr>\n",
       "    <tr>\n",
       "      <th>5</th>\n",
       "      <td>4.203513</td>\n",
       "      <td>6.281446</td>\n",
       "      <td>1.978011</td>\n",
       "      <td>7.812722</td>\n",
       "    </tr>\n",
       "    <tr>\n",
       "      <th>6</th>\n",
       "      <td>6.360562</td>\n",
       "      <td>5.101085</td>\n",
       "      <td>8.279182</td>\n",
       "      <td>11.619926</td>\n",
       "    </tr>\n",
       "    <tr>\n",
       "      <th>7</th>\n",
       "      <td>2.627691</td>\n",
       "      <td>6.097051</td>\n",
       "      <td>8.329029</td>\n",
       "      <td>10.651362</td>\n",
       "    </tr>\n",
       "    <tr>\n",
       "      <th>8</th>\n",
       "      <td>7.116817</td>\n",
       "      <td>6.396738</td>\n",
       "      <td>5.936138</td>\n",
       "      <td>11.260776</td>\n",
       "    </tr>\n",
       "    <tr>\n",
       "      <th>9</th>\n",
       "      <td>7.787699</td>\n",
       "      <td>7.797101</td>\n",
       "      <td>4.063563</td>\n",
       "      <td>11.745450</td>\n",
       "    </tr>\n",
       "  </tbody>\n",
       "</table>\n",
       "</div>"
      ],
      "text/plain": [
       "   snr_A-Sharp_L  snr_A-Sharp_H  snr_A-Sharp_I        snr\n",
       "0       4.803340       4.224015       9.070525  11.099045\n",
       "1       4.908528       2.991862       4.509644   7.306284\n",
       "2       7.115951       6.464111       4.341386  10.548418\n",
       "3       5.521005       6.662409       6.455620  10.795565\n",
       "4       6.344801       6.883342       5.019567  10.622286\n",
       "5       4.203513       6.281446       1.978011   7.812722\n",
       "6       6.360562       5.101085       8.279182  11.619926\n",
       "7       2.627691       6.097051       8.329029  10.651362\n",
       "8       7.116817       6.396738       5.936138  11.260776\n",
       "9       7.787699       7.797101       4.063563  11.745450"
      ]
     },
     "execution_count": 25,
     "metadata": {},
     "output_type": "execute_result"
    }
   ],
   "source": [
    "pd.DataFrame(results['errs'])[['snr_A-Sharp_L', 'snr_A-Sharp_H', 'snr_A-Sharp_I', 'snr']]"
   ]
  },
  {
   "cell_type": "code",
   "execution_count": 24,
   "id": "25245357-f14d-4256-9063-d62cb24962bc",
   "metadata": {},
   "outputs": [
    {
     "data": {
      "text/html": [
       "<div>\n",
       "<style scoped>\n",
       "    .dataframe tbody tr th:only-of-type {\n",
       "        vertical-align: middle;\n",
       "    }\n",
       "\n",
       "    .dataframe tbody tr th {\n",
       "        vertical-align: top;\n",
       "    }\n",
       "\n",
       "    .dataframe thead th {\n",
       "        text-align: right;\n",
       "    }\n",
       "</style>\n",
       "<table border=\"1\" class=\"dataframe\">\n",
       "  <thead>\n",
       "    <tr style=\"text-align: right;\">\n",
       "      <th></th>\n",
       "      <th>Mc</th>\n",
       "    </tr>\n",
       "  </thead>\n",
       "  <tbody>\n",
       "    <tr>\n",
       "      <th>0</th>\n",
       "      <td>36.891936</td>\n",
       "    </tr>\n",
       "    <tr>\n",
       "      <th>1</th>\n",
       "      <td>16.708713</td>\n",
       "    </tr>\n",
       "    <tr>\n",
       "      <th>2</th>\n",
       "      <td>41.214928</td>\n",
       "    </tr>\n",
       "    <tr>\n",
       "      <th>3</th>\n",
       "      <td>10.275220</td>\n",
       "    </tr>\n",
       "    <tr>\n",
       "      <th>4</th>\n",
       "      <td>82.165739</td>\n",
       "    </tr>\n",
       "    <tr>\n",
       "      <th>5</th>\n",
       "      <td>33.254329</td>\n",
       "    </tr>\n",
       "    <tr>\n",
       "      <th>6</th>\n",
       "      <td>10.571371</td>\n",
       "    </tr>\n",
       "    <tr>\n",
       "      <th>7</th>\n",
       "      <td>46.794875</td>\n",
       "    </tr>\n",
       "    <tr>\n",
       "      <th>8</th>\n",
       "      <td>12.697416</td>\n",
       "    </tr>\n",
       "    <tr>\n",
       "      <th>9</th>\n",
       "      <td>12.787506</td>\n",
       "    </tr>\n",
       "  </tbody>\n",
       "</table>\n",
       "</div>"
      ],
      "text/plain": [
       "          Mc\n",
       "0  36.891936\n",
       "1  16.708713\n",
       "2  41.214928\n",
       "3  10.275220\n",
       "4  82.165739\n",
       "5  33.254329\n",
       "6  10.571371\n",
       "7  46.794875\n",
       "8  12.697416\n",
       "9  12.787506"
      ]
     },
     "execution_count": 24,
     "metadata": {},
     "output_type": "execute_result"
    }
   ],
   "source": [
    "pd.DataFrame(results['inj_params'])[['Mc']]"
   ]
  },
  {
   "cell_type": "code",
   "execution_count": 18,
   "id": "67a92e96-ea77-4c97-985b-0ece1dfb0575",
   "metadata": {},
   "outputs": [],
   "source": [
    "gwb_det_dict = {'C1':'CE40_C1', \n",
    "                'CE20':'CE20_CEB',\n",
    "                'E1':'ET10-CoBA_ET1',\n",
    "                'E2':'ET10-CoBA_ET2',\n",
    "                'E3':'ET10-CoBA_ET3'}"
   ]
  },
  {
   "cell_type": "code",
   "execution_count": 27,
   "id": "308f4dae-9ad9-4565-a995-467042bc6445",
   "metadata": {},
   "outputs": [
    {
     "data": {
      "text/plain": [
       "<matplotlib.lines.Line2D at 0x775e988aee60>"
      ]
     },
     "execution_count": 27,
     "metadata": {},
     "output_type": "execute_result"
    },
    {
     "data": {
      "image/png": "[encoded data removed]",
      "text/plain": [
       "<Figure size 640x480 with 1 Axes>"
      ]
     },
     "metadata": {},
     "output_type": "display_data"
    }
   ],
   "source": [
    "from pycbc.detector import Detector\n",
    "Fp_gwb = {}\n",
    "Fp_pycbc = {}\n",
    "#for det_i, key in enumerate(gwb_det_dict.keys()):\n",
    "for det_i, key in enumerate(['L1', 'H1', 'I1']):\n",
    "    if key == 'CE20':\n",
    "        continue\n",
    "    #Fp_gwb[gwb_det_dict[key]] = np.array([det_obj[det_i].Fp[0] for det_obj in det_objs])\n",
    "    Fp_gwb[key] = np.array([det_obj[det_i].Fp[0] for det_obj in det_objs])\n",
    "    d = Detector(key)\n",
    "    Fp_pycbc[key] = np.array([d.antenna_pattern(result['ra'], \n",
    "                                       result['dec'], \n",
    "                                       result['psi'], \n",
    "                                       result['tc'])[0] for result in results['inj_params']])\n",
    "    #plt.plot(Fp_pycbc[key]/Fp_gwb[gwb_det_dict[key]], 'o', label=key)\n",
    "    plt.plot(Fp_pycbc[key]/Fp_gwb[key], 'o', label=key)\n",
    "plt.legend()\n",
    "plt.axhline(1, c='k')"
   ]
  },
  {
   "cell_type": "code",
   "execution_count": 29,
   "id": "f8b92512-ac90-4371-926b-bd5490bc3f70",
   "metadata": {},
   "outputs": [
    {
     "data": {
      "text/plain": [
       "<matplotlib.lines.Line2D at 0x775edbc44250>"
      ]
     },
     "execution_count": 29,
     "metadata": {},
     "output_type": "execute_result"
    },
    {
     "data": {
      "image/png": "[encoded data removed]",
      "text/plain": [
       "<Figure size 640x480 with 1 Axes>"
      ]
     },
     "metadata": {},
     "output_type": "display_data"
    }
   ],
   "source": [
    "from pycbc.detector import Detector\n",
    "Fc_gwb = {}\n",
    "Fc_pycbc = {}\n",
    "#for det_i, key in enumerate(gwb_det_dict.keys()):\n",
    "for det_i, key in enumerate(['L1', 'H1', 'I1']):\n",
    "    if key == 'CE20':\n",
    "        continue\n",
    "    #Fp_gwb[gwb_det_dict[key]] = np.array([det_obj[det_i].Fp[0] for det_obj in det_objs])\n",
    "    Fc_gwb[key] = np.array([det_obj[det_i].Fc[0] for det_obj in det_objs])\n",
    "    d = Detector(key)\n",
    "    Fc_pycbc[key] = np.array([d.antenna_pattern(result['ra'], \n",
    "                                       result['dec'], \n",
    "                                       result['psi'], \n",
    "                                       result['tc'])[1] for result in results['inj_params']])\n",
    "    #plt.plot(Fp_pycbc[key]/Fp_gwb[gwb_det_dict[key]], 'o', label=key)\n",
    "    plt.plot(Fc_pycbc[key]/Fc_gwb[key], 'o', label=key)\n",
    "plt.legend()\n",
    "plt.axhline(1, c='k')"
   ]
  },
  {
   "cell_type": "code",
   "execution_count": 30,
   "id": "5df0de26-5196-488c-b14f-7cc2730413b2",
   "metadata": {},
   "outputs": [
    {
     "data": {
      "text/plain": [
       "{'L1': array([ 0.35036188,  0.34539191,  0.78437992,  0.86649791, -0.67547571,\n",
       "        -0.02261025, -0.77297096, -0.0130513 ,  0.0590198 , -0.55412913]),\n",
       " 'H1': array([-0.37537886, -0.14646263, -0.76194153, -0.86316955,  0.63148836,\n",
       "         0.23072502,  0.6234073 , -0.25840348, -0.1390811 ,  0.38779223]),\n",
       " 'I1': array([ 0.54032224,  0.44976293,  0.5984928 ,  0.40212406, -0.64636335,\n",
       "        -0.07795695, -0.71649716, -0.04349256, -0.53310639,  0.11670606])}"
      ]
     },
     "execution_count": 30,
     "metadata": {},
     "output_type": "execute_result"
    }
   ],
   "source": [
    "Fc_gwb"
   ]
  },
  {
   "cell_type": "code",
   "execution_count": 31,
   "id": "b238b178-759a-43b9-a39d-e3c8cde6c550",
   "metadata": {},
   "outputs": [
    {
     "data": {
      "text/plain": [
       "{'L1': array([ 0.34671026,  0.34280244,  0.77859886,  0.86293353, -0.66750942,\n",
       "        -0.01214932, -0.77194469, -0.01286134,  0.0669764 , -0.5636575 ]),\n",
       " 'H1': array([-0.37019911, -0.1448894 , -0.75802226, -0.86019757,  0.62275115,\n",
       "         0.21749409,  0.62220472, -0.25997958, -0.14850539,  0.40047758]),\n",
       " 'I1': array([ 0.28359613, -0.72936589, -0.39485911,  0.34347339,  0.07922239,\n",
       "        -0.332453  , -0.15634362,  0.24418232,  0.75603116, -0.26370003])}"
      ]
     },
     "execution_count": 31,
     "metadata": {},
     "output_type": "execute_result"
    }
   ],
   "source": [
    "Fc_pycbc"
   ]
  },
  {
   "cell_type": "code",
   "execution_count": 21,
   "id": "5aa4e76c-4d4b-47d7-a2df-e463ada3f599",
   "metadata": {},
   "outputs": [
    {
     "data": {
      "text/plain": [
       "{'inj_params': [], 'event_num': []}"
      ]
     },
     "execution_count": 21,
     "metadata": {},
     "output_type": "execute_result"
    }
   ],
   "source": [
    "failed_events"
   ]
  },
  {
   "cell_type": "code",
   "execution_count": 22,
   "id": "36777c18-56b7-477f-b4ec-7eaf957255de",
   "metadata": {},
   "outputs": [],
   "source": [
    "results['all_inj_params_original'] = []\n",
    "for event_num in range(len(inj_records)):\n",
    "    if event_num in failed_events['event_num']:\n",
    "        print(f'Skipped event_num = {event_num}')\n",
    "        continue\n",
    "    params_i = inj_records[event_num]\n",
    "    results['all_inj_params_original'].append({key:params_i[key] for key in params_i.dtype.names})"
   ]
  },
  {
   "cell_type": "code",
   "execution_count": 23,
   "id": "6c3e2b8f-67f7-4478-87ff-39845954e6ab",
   "metadata": {},
   "outputs": [
    {
     "data": {
      "text/plain": [
       "[<matplotlib.lines.Line2D at 0x7d693aef1ff0>]"
      ]
     },
     "execution_count": 23,
     "metadata": {},
     "output_type": "execute_result"
    },
    {
     "data": {
      "image/png": "[encoded data removed]",
      "text/plain": [
       "<Figure size 640x480 with 1 Axes>"
      ]
     },
     "metadata": {},
     "output_type": "display_data"
    }
   ],
   "source": [
    "plt.plot(pd.DataFrame(results['inj_params'])['DL']/pd.DataFrame(results['all_inj_params_original'])['distance'])"
   ]
  },
  {
   "cell_type": "markdown",
   "id": "76f20a95-3d62-45c5-bb72-dfc1b0c1df1c",
   "metadata": {},
   "source": [
    "### Check if cov matrices are positive-definite"
   ]
  },
  {
   "cell_type": "markdown",
   "id": "f4ba8df2-9212-434b-84b0-852319c3fc44",
   "metadata": {},
   "source": [
    "1. Check if multi-banding is off for PhenomX waveforms\n",
    "2. Step size for PhenomX ~ 10^-6 (don't use 10^-8 or 10^-4)"
   ]
  },
  {
   "cell_type": "code",
   "execution_count": 24,
   "id": "369a0fec-f1b7-4aa9-a0d3-c55e12d55fab",
   "metadata": {},
   "outputs": [],
   "source": [
    "failed = []\n",
    "for event in range(len(results['all_inj_params_original'])):\n",
    "    cov = results['cov'][event]  # the covariance matrix\n",
    "    try:\n",
    "        np.linalg.cholesky(cov)\n",
    "    except np.linalg.LinAlgError:\n",
    "        failed.append(event)"
   ]
  },
  {
   "cell_type": "code",
   "execution_count": 25,
   "id": "502e7226-3430-44bd-9b1a-0b28fded12d4",
   "metadata": {},
   "outputs": [
    {
     "data": {
      "text/plain": [
       "[]"
      ]
     },
     "execution_count": 25,
     "metadata": {},
     "output_type": "execute_result"
    }
   ],
   "source": [
    "failed"
   ]
  },
  {
   "cell_type": "code",
   "execution_count": 26,
   "id": "e520a9bf-ebfb-4076-8884-39859e3d1a2e",
   "metadata": {},
   "outputs": [],
   "source": [
    "failed_dict = {}\n",
    "if len(failed) !=0:\n",
    "    failed_dict['inj_params'] = pd.DataFrame([results['inj_params'][i] for i in failed])\n",
    "    failed_dict['all_inj_params_original'] = pd.DataFrame([results['all_inj_params_original'][i] for i in failed])"
   ]
  },
  {
   "cell_type": "code",
   "execution_count": 27,
   "id": "b01c2537-75d2-4bda-b77b-0f450e3cc3f9",
   "metadata": {},
   "outputs": [
    {
     "ename": "KeyError",
     "evalue": "'inj_params'",
     "output_type": "error",
     "traceback": [
      "\u001b[0;31m---------------------------------------------------------------------------\u001b[0m",
      "\u001b[0;31mKeyError\u001b[0m                                  Traceback (most recent call last)",
      "Cell \u001b[0;32mIn[27], line 1\u001b[0m\n\u001b[0;32m----> 1\u001b[0m \u001b[43mfailed_dict\u001b[49m\u001b[43m[\u001b[49m\u001b[38;5;124;43m'\u001b[39;49m\u001b[38;5;124;43minj_params\u001b[39;49m\u001b[38;5;124;43m'\u001b[39;49m\u001b[43m]\u001b[49m\n",
      "\u001b[0;31mKeyError\u001b[0m: 'inj_params'"
     ]
    }
   ],
   "source": [
    "failed_dict['inj_params']"
   ]
  },
  {
   "cell_type": "code",
   "execution_count": 28,
   "id": "0c60de1b-b162-4490-a503-d94f658953ea",
   "metadata": {},
   "outputs": [
    {
     "name": "stdout",
     "output_type": "stream",
     "text": [
      "10\n"
     ]
    }
   ],
   "source": [
    "print(len(results['inj_params']))"
   ]
  },
  {
   "cell_type": "code",
   "execution_count": 29,
   "id": "d899dbfc-ec42-4f73-bf16-38a67aeb71b0",
   "metadata": {},
   "outputs": [
    {
     "data": {
      "text/plain": [
       "dict_keys(['inj_params', 'cov', 'errs', 'deriv_variables_in_order', 'all_inj_params_original'])"
      ]
     },
     "execution_count": 29,
     "metadata": {},
     "output_type": "execute_result"
    }
   ],
   "source": [
    "results.keys()"
   ]
  },
  {
   "cell_type": "code",
   "execution_count": 30,
   "id": "8beaae39-51e2-4ae9-bd29-e9545dbfa074",
   "metadata": {},
   "outputs": [
    {
     "name": "stdout",
     "output_type": "stream",
     "text": [
      "No failed events\n",
      "No failed events\n",
      "No failed events\n",
      "No failed events\n"
     ]
    }
   ],
   "source": [
    "results_updated = {}\n",
    "for key in results.keys():\n",
    "    if key == 'deriv_variables_in_order':\n",
    "        results_updated[key] = results[key]\n",
    "    else:\n",
    "        if len(failed) == 0:\n",
    "            print(\"No failed events\")\n",
    "            results_updated[key] = results[key]\n",
    "        else:\n",
    "            results_updated[key] = [results[key][i] for i in range(len(results[key])) if i not in failed]"
   ]
  },
  {
   "cell_type": "code",
   "execution_count": 31,
   "id": "721a5801-b1cd-474e-b21c-5e316e83a2a2",
   "metadata": {},
   "outputs": [
    {
     "name": "stdout",
     "output_type": "stream",
     "text": [
      "10\n"
     ]
    }
   ],
   "source": [
    "print(len(results_updated['inj_params']))"
   ]
  },
  {
   "cell_type": "markdown",
   "id": "6173978e-06a9-49fc-88a7-4cc0d5014d65",
   "metadata": {},
   "source": [
    "### Check for positive-definite again"
   ]
  },
  {
   "cell_type": "code",
   "execution_count": 32,
   "id": "00839b40-c8c0-45b7-93d8-2d2d0d54e76c",
   "metadata": {},
   "outputs": [],
   "source": [
    "failed2 = []\n",
    "for event in range(len(results_updated['all_inj_params_original'])):\n",
    "    cov = results_updated['cov'][event]  # the covariance matrix\n",
    "    try:\n",
    "        np.linalg.cholesky(cov)\n",
    "    except np.linalg.LinAlgError:\n",
    "        failed2.append(event)"
   ]
  },
  {
   "cell_type": "code",
   "execution_count": 33,
   "id": "4b849726-5f08-4820-9fd1-1fb7be180346",
   "metadata": {},
   "outputs": [
    {
     "data": {
      "text/plain": [
       "[]"
      ]
     },
     "execution_count": 33,
     "metadata": {},
     "output_type": "execute_result"
    }
   ],
   "source": [
    "failed2"
   ]
  },
  {
   "cell_type": "markdown",
   "id": "e881fb60-213c-4f5a-a65c-f896a0143d64",
   "metadata": {},
   "source": [
    "### Add redshift to results file"
   ]
  },
  {
   "cell_type": "code",
   "execution_count": 34,
   "id": "82528ef4-4d6d-41d3-9975-691050f1f334",
   "metadata": {},
   "outputs": [
    {
     "name": "stdout",
     "output_type": "stream",
     "text": [
      "10\n",
      "10\n",
      "10\n",
      "9\n",
      "10\n"
     ]
    }
   ],
   "source": [
    "for key in results.keys():\n",
    "    print(len(results_updated[key]))"
   ]
  },
  {
   "cell_type": "code",
   "execution_count": 35,
   "id": "f0098404-0712-4666-8918-719b8b510175",
   "metadata": {},
   "outputs": [],
   "source": [
    "for i, z in enumerate(pd.DataFrame(results['all_inj_params_original'])['redshift']):\n",
    "    results['inj_params'][i]['z'] = z"
   ]
  },
  {
   "cell_type": "code",
   "execution_count": 36,
   "id": "365b6009-1825-437f-bfdd-bbe04106dcec",
   "metadata": {},
   "outputs": [],
   "source": [
    "for i, z in enumerate(pd.DataFrame(results_updated['all_inj_params_original'])['redshift']):\n",
    "    results_updated['inj_params'][i]['z'] = z"
   ]
  },
  {
   "cell_type": "markdown",
   "id": "507765ae-9294-4669-b6bd-ba61dd08c0de",
   "metadata": {},
   "source": [
    "#### Check the values are fine"
   ]
  },
  {
   "cell_type": "code",
   "execution_count": 37,
   "id": "f2e13981-9ba0-434a-848b-279e56488498",
   "metadata": {},
   "outputs": [
    {
     "data": {
      "text/plain": [
       "[<matplotlib.lines.Line2D at 0x7d68f137c8e0>]"
      ]
     },
     "execution_count": 37,
     "metadata": {},
     "output_type": "execute_result"
    },
    {
     "data": {
      "image/png": "[encoded data removed]",
      "text/plain": [
       "<Figure size 640x480 with 1 Axes>"
      ]
     },
     "metadata": {},
     "output_type": "display_data"
    }
   ],
   "source": [
    "import pycbc.cosmology as cosmo\n",
    "temp_z = cosmo.redshift(np.array(pd.DataFrame(results_updated['inj_params'])['DL']))\n",
    "plt.plot(np.around(temp_z/pd.DataFrame(results_updated['inj_params'])['z'], 6))"
   ]
  },
  {
   "cell_type": "code",
   "execution_count": 38,
   "id": "76c6ec91-d44e-4bb0-a80f-0576f7ccf2ab",
   "metadata": {},
   "outputs": [
    {
     "data": {
      "text/plain": [
       "Text(0.5, 0, '$\\\\Delta D_L / D_L$')"
      ]
     },
     "execution_count": 38,
     "metadata": {},
     "output_type": "execute_result"
    },
    {
     "data": {
      "image/png": "[encoded data removed]",
      "text/plain": [
       "<Figure size 640x480 with 1 Axes>"
      ]
     },
     "metadata": {},
     "output_type": "display_data"
    }
   ],
   "source": [
    "plt.hist([results_updated['errs'][i]['log_DL'] for i in range(len(results_updated['errs']))], bins=50);\n",
    "plt.xlabel('$\\Delta D_L / D_L$')"
   ]
  },
  {
   "cell_type": "markdown",
   "id": "6b83bc45-1fb8-4029-9d0f-fe9c8b8ae59f",
   "metadata": {
    "jp-MarkdownHeadingCollapsed": true
   },
   "source": [
    "### Load results from file for plotting (if needed)"
   ]
  },
  {
   "cell_type": "code",
   "execution_count": 19,
   "id": "d3e119fb-e5ed-4356-b743-cd8ff4a56bc2",
   "metadata": {},
   "outputs": [],
   "source": [
    "def load_results_from_h5(filename):\n",
    "    results = {}\n",
    "\n",
    "    with h5py.File(filename, 'r') as f:\n",
    "        # Load inj_params\n",
    "        inj_params = []\n",
    "        inj_params_group = f['inj_params']\n",
    "        for i in sorted(inj_params_group.keys(), key=lambda x: int(x)):\n",
    "            param_group = inj_params_group[i]\n",
    "            param_dict = {key: param_group[key][()] for key in param_group.keys()}\n",
    "            inj_params.append(param_dict)\n",
    "        results['inj_params'] = pd.DataFrame(inj_params)\n",
    "\n",
    "        # Load cov\n",
    "        cov = []\n",
    "        cov_group = f['cov']\n",
    "        for i in sorted(cov_group.keys(), key=lambda x: int(x)):\n",
    "            matrix = cov_group[i][()]\n",
    "            cov.append(matrix)\n",
    "        results['cov'] = cov\n",
    "\n",
    "        # Load errs\n",
    "        errs = []\n",
    "        errs_group = f['errs']\n",
    "        for i in sorted(errs_group.keys(), key=lambda x: int(x)):\n",
    "            err_group = errs_group[i]\n",
    "            err_dict = {key: err_group[key][()] for key in err_group.keys()}\n",
    "            errs.append(err_dict)\n",
    "        results['errs'] = pd.DataFrame(errs)\n",
    "\n",
    "        # Load deriv_variables_in_order\n",
    "        deriv_vars = f['deriv_variables_in_order'][()]\n",
    "        # Convert bytes to str if needed (depends on h5py version)\n",
    "        if isinstance(deriv_vars[0], bytes):\n",
    "            deriv_vars = [s.decode('utf-8') for s in deriv_vars]\n",
    "        results['deriv_variables_in_order'] = list(deriv_vars)\n",
    "\n",
    "    return results"
   ]
  },
  {
   "cell_type": "code",
   "execution_count": null,
   "id": "048107c1-7c81-42bf-80d2-6ccb3031024b",
   "metadata": {},
   "outputs": [],
   "source": [
    "try:\n",
    "    inj_records\n",
    "    print('inj_records found')\n",
    "except NameError:\n",
    "    inj_records = inj_data['selected_n_events'].to_records()\n",
    "try:\n",
    "    results\n",
    "    print('results found')\n",
    "except NameError:\n",
    "    base_dir = '/home/divyajyoti/ACADEMIC/Projects/Cardiff_University/Next_gen_detectability/A-sharp-study/'\n",
    "    fm_err_file = os.path.join(base_dir, 'GWBench_analysis', 'BBH', \n",
    "                               'CE4020ET123_CoBA10_2_PLP_z_MD_zmax_10_lmrd_22_no_spins.h5')\n",
    "    results = load_results_from_h5(fm_err_file)\n",
    "try:\n",
    "    failed_events\n",
    "except NameError:\n",
    "    failed_events = {'inj_params':[]}"
   ]
  },
  {
   "cell_type": "markdown",
   "id": "5204bd78-cdbc-4f6a-a24e-b2777ef2c8e9",
   "metadata": {},
   "source": [
    "### Don't load results from file"
   ]
  },
  {
   "cell_type": "code",
   "execution_count": 39,
   "id": "29a6cad1-5b10-4559-9082-aa9d0d48f368",
   "metadata": {},
   "outputs": [
    {
     "data": {
      "text/plain": [
       "<matplotlib.legend.Legend at 0x7d693aba26e0>"
      ]
     },
     "execution_count": 39,
     "metadata": {},
     "output_type": "execute_result"
    },
    {
     "data": {
      "image/png": "[encoded data removed]",
      "text/plain": [
       "<Figure size 640x480 with 1 Axes>"
      ]
     },
     "metadata": {},
     "output_type": "display_data"
    },
    {
     "data": {
      "image/png": "[encoded data removed]",
      "text/plain": [
       "<Figure size 640x480 with 1 Axes>"
      ]
     },
     "metadata": {},
     "output_type": "display_data"
    }
   ],
   "source": [
    "inj_snrs = pd.DataFrame(results_updated['all_inj_params_original'])['SNR_network']\n",
    "inj_mf_snrs = pd.DataFrame(results_updated['all_inj_params_original'])['SNR_mf_from_opt_network']\n",
    "gwbench_snrs = pd.DataFrame(results_updated['errs'])['snr']\n",
    "\n",
    "plt.figure()\n",
    "plt.plot(inj_snrs, inj_snrs/gwbench_snrs, '.')\n",
    "plt.xlabel('Injected SNR (Netw)')\n",
    "plt.ylabel('inj_SNR / gwbench_SNR')\n",
    "plt.axhline(1, c='k')\n",
    "\n",
    "plt.figure()\n",
    "plt.hist(inj_mf_snrs, bins=np.linspace(0,15,50), histtype=u'step', label='SNR_mf_from_opt');\n",
    "plt.hist(inj_snrs, bins=np.linspace(0,15,50), histtype=u'step', label='SNR');\n",
    "plt.hist(gwbench_snrs, bins=np.linspace(0,15,50), histtype=u'step', label='GWB SNR');\n",
    "plt.legend()"
   ]
  },
  {
   "cell_type": "code",
   "execution_count": 42,
   "id": "2ba03de1-2543-469d-bede-83514ee6f7d8",
   "metadata": {},
   "outputs": [
    {
     "data": {
      "text/plain": [
       "{'log_Mc': 1.2429055e-05,\n",
       " 'eta': 0.0005113993,\n",
       " 'log_DL': 0.23413341,\n",
       " 'iota': 0.078672566,\n",
       " 'tc': 0.00049439975,\n",
       " 'phic': 0.4542146,\n",
       " 'ra': 0.012819725,\n",
       " 'dec': 0.046838857,\n",
       " 'psi': 0.38281217,\n",
       " 'sky_area_90': 25.175125581935156,\n",
       " 'snr': 9.847338472691028,\n",
       " 'inv_err': 3.0354042e-16,\n",
       " 'snr_A-Sharp_L': 7.077851491659517,\n",
       " 'snr_A-Sharp_H': 4.174761204415938,\n",
       " 'snr_A-Sharp_I': 5.426367306389938}"
      ]
     },
     "execution_count": 42,
     "metadata": {},
     "output_type": "execute_result"
    }
   ],
   "source": [
    "results_updated['errs']"
   ]
  },
  {
   "cell_type": "code",
   "execution_count": 173,
   "id": "62a9cbc1-2d1d-496b-a749-fc437a11665d",
   "metadata": {},
   "outputs": [
    {
     "ename": "KeyError",
     "evalue": "'SNR_C1'",
     "output_type": "error",
     "traceback": [
      "\u001b[0;31m---------------------------------------------------------------------------\u001b[0m",
      "\u001b[0;31mKeyError\u001b[0m                                  Traceback (most recent call last)",
      "File \u001b[0;32m~/miniconda3/envs/gwbench/lib/python3.10/site-packages/pandas/core/indexes/base.py:3805\u001b[0m, in \u001b[0;36mIndex.get_loc\u001b[0;34m(self, key)\u001b[0m\n\u001b[1;32m   3804\u001b[0m \u001b[38;5;28;01mtry\u001b[39;00m:\n\u001b[0;32m-> 3805\u001b[0m     \u001b[38;5;28;01mreturn\u001b[39;00m \u001b[38;5;28;43mself\u001b[39;49m\u001b[38;5;241;43m.\u001b[39;49m\u001b[43m_engine\u001b[49m\u001b[38;5;241;43m.\u001b[39;49m\u001b[43mget_loc\u001b[49m\u001b[43m(\u001b[49m\u001b[43mcasted_key\u001b[49m\u001b[43m)\u001b[49m\n\u001b[1;32m   3806\u001b[0m \u001b[38;5;28;01mexcept\u001b[39;00m \u001b[38;5;167;01mKeyError\u001b[39;00m \u001b[38;5;28;01mas\u001b[39;00m err:\n",
      "File \u001b[0;32mindex.pyx:167\u001b[0m, in \u001b[0;36mpandas._libs.index.IndexEngine.get_loc\u001b[0;34m()\u001b[0m\n",
      "File \u001b[0;32mindex.pyx:196\u001b[0m, in \u001b[0;36mpandas._libs.index.IndexEngine.get_loc\u001b[0;34m()\u001b[0m\n",
      "File \u001b[0;32mpandas/_libs/hashtable_class_helper.pxi:7081\u001b[0m, in \u001b[0;36mpandas._libs.hashtable.PyObjectHashTable.get_item\u001b[0;34m()\u001b[0m\n",
      "File \u001b[0;32mpandas/_libs/hashtable_class_helper.pxi:7089\u001b[0m, in \u001b[0;36mpandas._libs.hashtable.PyObjectHashTable.get_item\u001b[0;34m()\u001b[0m\n",
      "\u001b[0;31mKeyError\u001b[0m: 'SNR_C1'",
      "\nThe above exception was the direct cause of the following exception:\n",
      "\u001b[0;31mKeyError\u001b[0m                                  Traceback (most recent call last)",
      "Cell \u001b[0;32mIn[173], line 7\u001b[0m\n\u001b[1;32m      1\u001b[0m gwb_det_dict \u001b[38;5;241m=\u001b[39m {\u001b[38;5;124m'\u001b[39m\u001b[38;5;124mC1\u001b[39m\u001b[38;5;124m'\u001b[39m:\u001b[38;5;124m'\u001b[39m\u001b[38;5;124mCE40_C1\u001b[39m\u001b[38;5;124m'\u001b[39m, \n\u001b[1;32m      2\u001b[0m                 \u001b[38;5;124m'\u001b[39m\u001b[38;5;124mCE20\u001b[39m\u001b[38;5;124m'\u001b[39m:\u001b[38;5;124m'\u001b[39m\u001b[38;5;124mCE20_CEB\u001b[39m\u001b[38;5;124m'\u001b[39m,\n\u001b[1;32m      3\u001b[0m                 \u001b[38;5;124m'\u001b[39m\u001b[38;5;124mE1\u001b[39m\u001b[38;5;124m'\u001b[39m:\u001b[38;5;124m'\u001b[39m\u001b[38;5;124mET10-CoBA_ET1\u001b[39m\u001b[38;5;124m'\u001b[39m,\n\u001b[1;32m      4\u001b[0m                 \u001b[38;5;124m'\u001b[39m\u001b[38;5;124mE2\u001b[39m\u001b[38;5;124m'\u001b[39m:\u001b[38;5;124m'\u001b[39m\u001b[38;5;124mET10-CoBA_ET2\u001b[39m\u001b[38;5;124m'\u001b[39m,\n\u001b[1;32m      5\u001b[0m                 \u001b[38;5;124m'\u001b[39m\u001b[38;5;124mE3\u001b[39m\u001b[38;5;124m'\u001b[39m:\u001b[38;5;124m'\u001b[39m\u001b[38;5;124mET10-CoBA_ET3\u001b[39m\u001b[38;5;124m'\u001b[39m}\n\u001b[1;32m      6\u001b[0m \u001b[38;5;28;01mfor\u001b[39;00m det, gwb_det \u001b[38;5;129;01min\u001b[39;00m gwb_det_dict\u001b[38;5;241m.\u001b[39mitems():\n\u001b[0;32m----> 7\u001b[0m     my_snr \u001b[38;5;241m=\u001b[39m \u001b[43mpd\u001b[49m\u001b[38;5;241;43m.\u001b[39;49m\u001b[43mDataFrame\u001b[49m\u001b[43m(\u001b[49m\u001b[43mresults\u001b[49m\u001b[43m[\u001b[49m\u001b[38;5;124;43m'\u001b[39;49m\u001b[38;5;124;43mall_inj_params_original\u001b[39;49m\u001b[38;5;124;43m'\u001b[39;49m\u001b[43m]\u001b[49m\u001b[43m)\u001b[49m\u001b[43m[\u001b[49m\u001b[38;5;124;43mf\u001b[39;49m\u001b[38;5;124;43m'\u001b[39;49m\u001b[38;5;124;43mSNR_\u001b[39;49m\u001b[38;5;132;43;01m{\u001b[39;49;00m\u001b[43mdet\u001b[49m\u001b[38;5;132;43;01m}\u001b[39;49;00m\u001b[38;5;124;43m'\u001b[39;49m\u001b[43m]\u001b[49m\n\u001b[1;32m      8\u001b[0m     gwb_snr \u001b[38;5;241m=\u001b[39m pd\u001b[38;5;241m.\u001b[39mDataFrame(results[\u001b[38;5;124m'\u001b[39m\u001b[38;5;124merrs\u001b[39m\u001b[38;5;124m'\u001b[39m])[\u001b[38;5;124mf\u001b[39m\u001b[38;5;124m'\u001b[39m\u001b[38;5;124msnr_\u001b[39m\u001b[38;5;132;01m{\u001b[39;00mgwb_det\u001b[38;5;132;01m}\u001b[39;00m\u001b[38;5;124m'\u001b[39m]\n\u001b[1;32m      9\u001b[0m     plt\u001b[38;5;241m.\u001b[39mplot(my_snr, my_snr\u001b[38;5;241m/\u001b[39mgwb_snr, \u001b[38;5;124m'\u001b[39m\u001b[38;5;124mo\u001b[39m\u001b[38;5;124m'\u001b[39m, label\u001b[38;5;241m=\u001b[39mdet)\n",
      "File \u001b[0;32m~/miniconda3/envs/gwbench/lib/python3.10/site-packages/pandas/core/frame.py:4102\u001b[0m, in \u001b[0;36mDataFrame.__getitem__\u001b[0;34m(self, key)\u001b[0m\n\u001b[1;32m   4100\u001b[0m \u001b[38;5;28;01mif\u001b[39;00m \u001b[38;5;28mself\u001b[39m\u001b[38;5;241m.\u001b[39mcolumns\u001b[38;5;241m.\u001b[39mnlevels \u001b[38;5;241m>\u001b[39m \u001b[38;5;241m1\u001b[39m:\n\u001b[1;32m   4101\u001b[0m     \u001b[38;5;28;01mreturn\u001b[39;00m \u001b[38;5;28mself\u001b[39m\u001b[38;5;241m.\u001b[39m_getitem_multilevel(key)\n\u001b[0;32m-> 4102\u001b[0m indexer \u001b[38;5;241m=\u001b[39m \u001b[38;5;28;43mself\u001b[39;49m\u001b[38;5;241;43m.\u001b[39;49m\u001b[43mcolumns\u001b[49m\u001b[38;5;241;43m.\u001b[39;49m\u001b[43mget_loc\u001b[49m\u001b[43m(\u001b[49m\u001b[43mkey\u001b[49m\u001b[43m)\u001b[49m\n\u001b[1;32m   4103\u001b[0m \u001b[38;5;28;01mif\u001b[39;00m is_integer(indexer):\n\u001b[1;32m   4104\u001b[0m     indexer \u001b[38;5;241m=\u001b[39m [indexer]\n",
      "File \u001b[0;32m~/miniconda3/envs/gwbench/lib/python3.10/site-packages/pandas/core/indexes/base.py:3812\u001b[0m, in \u001b[0;36mIndex.get_loc\u001b[0;34m(self, key)\u001b[0m\n\u001b[1;32m   3807\u001b[0m     \u001b[38;5;28;01mif\u001b[39;00m \u001b[38;5;28misinstance\u001b[39m(casted_key, \u001b[38;5;28mslice\u001b[39m) \u001b[38;5;129;01mor\u001b[39;00m (\n\u001b[1;32m   3808\u001b[0m         \u001b[38;5;28misinstance\u001b[39m(casted_key, abc\u001b[38;5;241m.\u001b[39mIterable)\n\u001b[1;32m   3809\u001b[0m         \u001b[38;5;129;01mand\u001b[39;00m \u001b[38;5;28many\u001b[39m(\u001b[38;5;28misinstance\u001b[39m(x, \u001b[38;5;28mslice\u001b[39m) \u001b[38;5;28;01mfor\u001b[39;00m x \u001b[38;5;129;01min\u001b[39;00m casted_key)\n\u001b[1;32m   3810\u001b[0m     ):\n\u001b[1;32m   3811\u001b[0m         \u001b[38;5;28;01mraise\u001b[39;00m InvalidIndexError(key)\n\u001b[0;32m-> 3812\u001b[0m     \u001b[38;5;28;01mraise\u001b[39;00m \u001b[38;5;167;01mKeyError\u001b[39;00m(key) \u001b[38;5;28;01mfrom\u001b[39;00m\u001b[38;5;250m \u001b[39m\u001b[38;5;21;01merr\u001b[39;00m\n\u001b[1;32m   3813\u001b[0m \u001b[38;5;28;01mexcept\u001b[39;00m \u001b[38;5;167;01mTypeError\u001b[39;00m:\n\u001b[1;32m   3814\u001b[0m     \u001b[38;5;66;03m# If we have a listlike key, _check_indexing_error will raise\u001b[39;00m\n\u001b[1;32m   3815\u001b[0m     \u001b[38;5;66;03m#  InvalidIndexError. Otherwise we fall through and re-raise\u001b[39;00m\n\u001b[1;32m   3816\u001b[0m     \u001b[38;5;66;03m#  the TypeError.\u001b[39;00m\n\u001b[1;32m   3817\u001b[0m     \u001b[38;5;28mself\u001b[39m\u001b[38;5;241m.\u001b[39m_check_indexing_error(key)\n",
      "\u001b[0;31mKeyError\u001b[0m: 'SNR_C1'"
     ]
    }
   ],
   "source": [
    "gwb_det_dict = {'C1':'CE40_C1', \n",
    "                'CE20':'CE20_CEB',\n",
    "                'E1':'ET10-CoBA_ET1',\n",
    "                'E2':'ET10-CoBA_ET2',\n",
    "                'E3':'ET10-CoBA_ET3'}\n",
    "for det, gwb_det in gwb_det_dict.items():\n",
    "    my_snr = pd.DataFrame(results['all_inj_params_original'])[f'SNR_{det}']\n",
    "    gwb_snr = pd.DataFrame(results['errs'])[f'snr_{gwb_det}']\n",
    "    plt.plot(my_snr, my_snr/gwb_snr, 'o', label=det)\n",
    "plt.legend()"
   ]
  },
  {
   "cell_type": "code",
   "execution_count": 40,
   "id": "da7d7ef0-6c37-49cc-b150-55d52a7a82a4",
   "metadata": {},
   "outputs": [
    {
     "data": {
      "text/plain": [
       "{'log_Mc': 1.2429055e-05,\n",
       " 'eta': 0.0005113993,\n",
       " 'log_DL': 0.23413341,\n",
       " 'iota': 0.078672566,\n",
       " 'tc': 0.00049439975,\n",
       " 'phic': 0.4542146,\n",
       " 'ra': 0.012819725,\n",
       " 'dec': 0.046838857,\n",
       " 'psi': 0.38281217,\n",
       " 'sky_area_90': 25.175125581935156,\n",
       " 'snr': 9.847338472691028,\n",
       " 'inv_err': 3.0354042e-16,\n",
       " 'snr_A-Sharp_L': 7.077851491659517,\n",
       " 'snr_A-Sharp_H': 4.174761204415938,\n",
       " 'snr_A-Sharp_I': 5.426367306389938}"
      ]
     },
     "execution_count": 40,
     "metadata": {},
     "output_type": "execute_result"
    }
   ],
   "source": [
    "results['errs'][0]"
   ]
  },
  {
   "cell_type": "code",
   "execution_count": 41,
   "id": "1add3749-0e31-40a2-b7ee-c9d206ff719b",
   "metadata": {},
   "outputs": [
    {
     "data": {
      "text/plain": [
       "<matplotlib.lines.Line2D at 0x7d693aa64280>"
      ]
     },
     "execution_count": 41,
     "metadata": {},
     "output_type": "execute_result"
    },
    {
     "data": {
      "image/png": "[encoded data removed]",
      "text/plain": [
       "<Figure size 640x480 with 1 Axes>"
      ]
     },
     "metadata": {},
     "output_type": "display_data"
    }
   ],
   "source": [
    "gwb_det_dict = {'L1':'L', 'H1':'H', 'I1':'I'}\n",
    "for det, gwb_det in gwb_det_dict.items():\n",
    "    my_snr = pd.DataFrame(results['all_inj_params_original'])[f'SNR_{det}']\n",
    "    gwb_snr = pd.DataFrame(results['errs'])[f'snr_A-Sharp_{gwb_det}']\n",
    "    plt.plot(my_snr, my_snr/gwb_snr, 'o', label=det)\n",
    "plt.legend()\n",
    "plt.axhline(1, c='k')"
   ]
  },
  {
   "cell_type": "code",
   "execution_count": 49,
   "id": "a23af8e1-e24c-4f70-93e0-a12a6b45afe3",
   "metadata": {},
   "outputs": [
    {
     "name": "stdout",
     "output_type": "stream",
     "text": [
      "1.826871284191931 1.826871284191931\n"
     ]
    }
   ],
   "source": [
    "from pycbc.detector import Detector\n",
    "d1 = Detector('C1')\n",
    "d2 = Detector('V1')\n",
    "print(d1.gmst_estimate(0), d2.gmst_estimate(0))"
   ]
  },
  {
   "cell_type": "code",
   "execution_count": 171,
   "id": "fdc4832e-bad6-4d21-8238-d865c3512829",
   "metadata": {},
   "outputs": [
    {
     "data": {
      "text/plain": [
       "<matplotlib.colorbar.Colorbar at 0x79e701eebe50>"
      ]
     },
     "execution_count": 171,
     "metadata": {},
     "output_type": "execute_result"
    },
    {
     "data": {
      "image/png": "[encoded data removed]",
      "text/plain": [
       "<Figure size 640x480 with 2 Axes>"
      ]
     },
     "metadata": {},
     "output_type": "display_data"
    }
   ],
   "source": [
    "plt.scatter(pd.DataFrame(results_updated['all_inj_params_original'])['ra'], \n",
    "            np.abs(np.cos(pd.DataFrame(results_updated['all_inj_params_original'])['dec'])), \n",
    "            c=inj_snrs/gwbench_snrs, cmap='viridis')\n",
    "plt.xlabel('$\\\\alpha$')\n",
    "plt.ylabel('$\\\\delta$')\n",
    "plt.axhline(1, c='k')\n",
    "plt.colorbar(label='inj_SNR / gwbench_SNR')\n",
    "#plt.xscale('log')"
   ]
  },
  {
   "cell_type": "code",
   "execution_count": 136,
   "id": "1629e3d2-aaf6-4a0a-a1ec-1f60a4f41468",
   "metadata": {},
   "outputs": [],
   "source": [
    "high_snr_ratio_select = (inj_snrs/gwbench_snrs > 2)"
   ]
  },
  {
   "cell_type": "code",
   "execution_count": 137,
   "id": "29d9a7c5-d697-4ce7-8b7c-7a2e64f7deaf",
   "metadata": {},
   "outputs": [
    {
     "data": {
      "text/html": [
       "<div>\n",
       "<style scoped>\n",
       "    .dataframe tbody tr th:only-of-type {\n",
       "        vertical-align: middle;\n",
       "    }\n",
       "\n",
       "    .dataframe tbody tr th {\n",
       "        vertical-align: top;\n",
       "    }\n",
       "\n",
       "    .dataframe thead th {\n",
       "        text-align: right;\n",
       "    }\n",
       "</style>\n",
       "<table border=\"1\" class=\"dataframe\">\n",
       "  <thead>\n",
       "    <tr style=\"text-align: right;\">\n",
       "      <th></th>\n",
       "      <th>chi1x</th>\n",
       "      <th>chi1y</th>\n",
       "      <th>chi2x</th>\n",
       "      <th>chi2y</th>\n",
       "      <th>chi1z</th>\n",
       "      <th>chi2z</th>\n",
       "      <th>gmst0</th>\n",
       "      <th>Mc</th>\n",
       "      <th>eta</th>\n",
       "      <th>DL</th>\n",
       "      <th>iota</th>\n",
       "      <th>tc</th>\n",
       "      <th>phic</th>\n",
       "      <th>ra</th>\n",
       "      <th>dec</th>\n",
       "      <th>psi</th>\n",
       "      <th>z</th>\n",
       "      <th>snr</th>\n",
       "    </tr>\n",
       "  </thead>\n",
       "  <tbody>\n",
       "    <tr>\n",
       "      <th>1202</th>\n",
       "      <td>-0.108559</td>\n",
       "      <td>-0.328091</td>\n",
       "      <td>-0.189696</td>\n",
       "      <td>0.153817</td>\n",
       "      <td>-0.224931</td>\n",
       "      <td>-0.518818</td>\n",
       "      <td>93468.860484</td>\n",
       "      <td>116.523496</td>\n",
       "      <td>0.246678</td>\n",
       "      <td>22921.889166</td>\n",
       "      <td>1.141693</td>\n",
       "      <td>1.912476e+09</td>\n",
       "      <td>3.419775</td>\n",
       "      <td>3.137863</td>\n",
       "      <td>1.140860</td>\n",
       "      <td>2.773064</td>\n",
       "      <td>2.698421</td>\n",
       "      <td>37.176467</td>\n",
       "    </tr>\n",
       "    <tr>\n",
       "      <th>1824</th>\n",
       "      <td>-0.551600</td>\n",
       "      <td>0.232771</td>\n",
       "      <td>0.042913</td>\n",
       "      <td>0.152369</td>\n",
       "      <td>-0.673949</td>\n",
       "      <td>0.035545</td>\n",
       "      <td>93984.629600</td>\n",
       "      <td>88.441791</td>\n",
       "      <td>0.196802</td>\n",
       "      <td>15100.637994</td>\n",
       "      <td>2.288945</td>\n",
       "      <td>1.919549e+09</td>\n",
       "      <td>2.625780</td>\n",
       "      <td>3.395161</td>\n",
       "      <td>0.501768</td>\n",
       "      <td>0.047037</td>\n",
       "      <td>1.913918</td>\n",
       "      <td>36.746784</td>\n",
       "    </tr>\n",
       "    <tr>\n",
       "      <th>2709</th>\n",
       "      <td>-0.074488</td>\n",
       "      <td>-0.375344</td>\n",
       "      <td>-0.794025</td>\n",
       "      <td>-0.565747</td>\n",
       "      <td>-0.376758</td>\n",
       "      <td>-0.013684</td>\n",
       "      <td>93311.982234</td>\n",
       "      <td>83.032332</td>\n",
       "      <td>0.248124</td>\n",
       "      <td>20809.395916</td>\n",
       "      <td>1.270452</td>\n",
       "      <td>1.910324e+09</td>\n",
       "      <td>3.763952</td>\n",
       "      <td>3.074574</td>\n",
       "      <td>0.782096</td>\n",
       "      <td>1.115220</td>\n",
       "      <td>2.490939</td>\n",
       "      <td>21.190687</td>\n",
       "    </tr>\n",
       "    <tr>\n",
       "      <th>3093</th>\n",
       "      <td>0.170188</td>\n",
       "      <td>-0.745823</td>\n",
       "      <td>0.130072</td>\n",
       "      <td>-0.473915</td>\n",
       "      <td>0.106779</td>\n",
       "      <td>0.124286</td>\n",
       "      <td>92343.260896</td>\n",
       "      <td>92.726844</td>\n",
       "      <td>0.249385</td>\n",
       "      <td>14672.459789</td>\n",
       "      <td>0.733502</td>\n",
       "      <td>1.897040e+09</td>\n",
       "      <td>3.708810</td>\n",
       "      <td>5.205000</td>\n",
       "      <td>-0.166288</td>\n",
       "      <td>1.318218</td>\n",
       "      <td>1.869438</td>\n",
       "      <td>67.805486</td>\n",
       "    </tr>\n",
       "    <tr>\n",
       "      <th>3347</th>\n",
       "      <td>-0.704753</td>\n",
       "      <td>-0.250931</td>\n",
       "      <td>-0.437581</td>\n",
       "      <td>-0.363900</td>\n",
       "      <td>-0.292463</td>\n",
       "      <td>0.284629</td>\n",
       "      <td>93717.037974</td>\n",
       "      <td>107.377189</td>\n",
       "      <td>0.214598</td>\n",
       "      <td>27477.749064</td>\n",
       "      <td>0.860313</td>\n",
       "      <td>1.915879e+09</td>\n",
       "      <td>4.322192</td>\n",
       "      <td>0.697135</td>\n",
       "      <td>-0.203906</td>\n",
       "      <td>0.585804</td>\n",
       "      <td>3.137561</td>\n",
       "      <td>33.983203</td>\n",
       "    </tr>\n",
       "    <tr>\n",
       "      <th>3419</th>\n",
       "      <td>0.374640</td>\n",
       "      <td>-0.156647</td>\n",
       "      <td>0.386102</td>\n",
       "      <td>-0.092728</td>\n",
       "      <td>-0.292323</td>\n",
       "      <td>-0.177880</td>\n",
       "      <td>93491.787009</td>\n",
       "      <td>166.726048</td>\n",
       "      <td>0.248946</td>\n",
       "      <td>40683.575494</td>\n",
       "      <td>1.535324</td>\n",
       "      <td>1.912790e+09</td>\n",
       "      <td>1.980827</td>\n",
       "      <td>3.526588</td>\n",
       "      <td>-0.383497</td>\n",
       "      <td>1.968635</td>\n",
       "      <td>4.364672</td>\n",
       "      <td>13.632521</td>\n",
       "    </tr>\n",
       "    <tr>\n",
       "      <th>3550</th>\n",
       "      <td>0.222523</td>\n",
       "      <td>-0.524688</td>\n",
       "      <td>0.220273</td>\n",
       "      <td>-0.358225</td>\n",
       "      <td>0.184109</td>\n",
       "      <td>0.312565</td>\n",
       "      <td>92775.612406</td>\n",
       "      <td>56.352393</td>\n",
       "      <td>0.234062</td>\n",
       "      <td>32354.666240</td>\n",
       "      <td>1.026911</td>\n",
       "      <td>1.902969e+09</td>\n",
       "      <td>3.475558</td>\n",
       "      <td>1.716628</td>\n",
       "      <td>-0.493254</td>\n",
       "      <td>1.146602</td>\n",
       "      <td>3.597507</td>\n",
       "      <td>19.983861</td>\n",
       "    </tr>\n",
       "    <tr>\n",
       "      <th>3698</th>\n",
       "      <td>-0.086249</td>\n",
       "      <td>-0.534269</td>\n",
       "      <td>-0.273410</td>\n",
       "      <td>-0.671911</td>\n",
       "      <td>-0.753637</td>\n",
       "      <td>-0.178885</td>\n",
       "      <td>93771.684117</td>\n",
       "      <td>80.405639</td>\n",
       "      <td>0.226960</td>\n",
       "      <td>16956.234674</td>\n",
       "      <td>1.080492</td>\n",
       "      <td>1.916629e+09</td>\n",
       "      <td>3.085365</td>\n",
       "      <td>0.855367</td>\n",
       "      <td>0.723096</td>\n",
       "      <td>0.843103</td>\n",
       "      <td>2.104523</td>\n",
       "      <td>40.204564</td>\n",
       "    </tr>\n",
       "    <tr>\n",
       "      <th>3825</th>\n",
       "      <td>0.022337</td>\n",
       "      <td>-0.074077</td>\n",
       "      <td>0.467484</td>\n",
       "      <td>0.062954</td>\n",
       "      <td>-0.033114</td>\n",
       "      <td>-0.564357</td>\n",
       "      <td>93474.615716</td>\n",
       "      <td>266.421764</td>\n",
       "      <td>0.241793</td>\n",
       "      <td>30084.416929</td>\n",
       "      <td>1.403366</td>\n",
       "      <td>1.912555e+09</td>\n",
       "      <td>2.058843</td>\n",
       "      <td>3.047091</td>\n",
       "      <td>-0.976543</td>\n",
       "      <td>0.338511</td>\n",
       "      <td>3.384546</td>\n",
       "      <td>23.771519</td>\n",
       "    </tr>\n",
       "    <tr>\n",
       "      <th>4096</th>\n",
       "      <td>0.757292</td>\n",
       "      <td>-0.475168</td>\n",
       "      <td>-0.273130</td>\n",
       "      <td>-0.152753</td>\n",
       "      <td>-0.373757</td>\n",
       "      <td>0.131095</td>\n",
       "      <td>93757.385274</td>\n",
       "      <td>70.958326</td>\n",
       "      <td>0.239990</td>\n",
       "      <td>25003.176250</td>\n",
       "      <td>1.044693</td>\n",
       "      <td>1.916432e+09</td>\n",
       "      <td>1.785835</td>\n",
       "      <td>0.187935</td>\n",
       "      <td>1.182698</td>\n",
       "      <td>2.202768</td>\n",
       "      <td>2.900328</td>\n",
       "      <td>24.465717</td>\n",
       "    </tr>\n",
       "  </tbody>\n",
       "</table>\n",
       "</div>"
      ],
      "text/plain": [
       "         chi1x     chi1y     chi2x     chi2y     chi1z     chi2z  \\\n",
       "1202 -0.108559 -0.328091 -0.189696  0.153817 -0.224931 -0.518818   \n",
       "1824 -0.551600  0.232771  0.042913  0.152369 -0.673949  0.035545   \n",
       "2709 -0.074488 -0.375344 -0.794025 -0.565747 -0.376758 -0.013684   \n",
       "3093  0.170188 -0.745823  0.130072 -0.473915  0.106779  0.124286   \n",
       "3347 -0.704753 -0.250931 -0.437581 -0.363900 -0.292463  0.284629   \n",
       "3419  0.374640 -0.156647  0.386102 -0.092728 -0.292323 -0.177880   \n",
       "3550  0.222523 -0.524688  0.220273 -0.358225  0.184109  0.312565   \n",
       "3698 -0.086249 -0.534269 -0.273410 -0.671911 -0.753637 -0.178885   \n",
       "3825  0.022337 -0.074077  0.467484  0.062954 -0.033114 -0.564357   \n",
       "4096  0.757292 -0.475168 -0.273130 -0.152753 -0.373757  0.131095   \n",
       "\n",
       "             gmst0          Mc       eta            DL      iota  \\\n",
       "1202  93468.860484  116.523496  0.246678  22921.889166  1.141693   \n",
       "1824  93984.629600   88.441791  0.196802  15100.637994  2.288945   \n",
       "2709  93311.982234   83.032332  0.248124  20809.395916  1.270452   \n",
       "3093  92343.260896   92.726844  0.249385  14672.459789  0.733502   \n",
       "3347  93717.037974  107.377189  0.214598  27477.749064  0.860313   \n",
       "3419  93491.787009  166.726048  0.248946  40683.575494  1.535324   \n",
       "3550  92775.612406   56.352393  0.234062  32354.666240  1.026911   \n",
       "3698  93771.684117   80.405639  0.226960  16956.234674  1.080492   \n",
       "3825  93474.615716  266.421764  0.241793  30084.416929  1.403366   \n",
       "4096  93757.385274   70.958326  0.239990  25003.176250  1.044693   \n",
       "\n",
       "                tc      phic        ra       dec       psi         z  \\\n",
       "1202  1.912476e+09  3.419775  3.137863  1.140860  2.773064  2.698421   \n",
       "1824  1.919549e+09  2.625780  3.395161  0.501768  0.047037  1.913918   \n",
       "2709  1.910324e+09  3.763952  3.074574  0.782096  1.115220  2.490939   \n",
       "3093  1.897040e+09  3.708810  5.205000 -0.166288  1.318218  1.869438   \n",
       "3347  1.915879e+09  4.322192  0.697135 -0.203906  0.585804  3.137561   \n",
       "3419  1.912790e+09  1.980827  3.526588 -0.383497  1.968635  4.364672   \n",
       "3550  1.902969e+09  3.475558  1.716628 -0.493254  1.146602  3.597507   \n",
       "3698  1.916629e+09  3.085365  0.855367  0.723096  0.843103  2.104523   \n",
       "3825  1.912555e+09  2.058843  3.047091 -0.976543  0.338511  3.384546   \n",
       "4096  1.916432e+09  1.785835  0.187935  1.182698  2.202768  2.900328   \n",
       "\n",
       "            snr  \n",
       "1202  37.176467  \n",
       "1824  36.746784  \n",
       "2709  21.190687  \n",
       "3093  67.805486  \n",
       "3347  33.983203  \n",
       "3419  13.632521  \n",
       "3550  19.983861  \n",
       "3698  40.204564  \n",
       "3825  23.771519  \n",
       "4096  24.465717  "
      ]
     },
     "execution_count": 137,
     "metadata": {},
     "output_type": "execute_result"
    }
   ],
   "source": [
    "pd.concat([pd.DataFrame(results_updated['inj_params']), pd.DataFrame(results_updated['errs'])[['snr']]], axis=1)[high_snr_ratio_select]"
   ]
  },
  {
   "cell_type": "code",
   "execution_count": 138,
   "id": "e986eb7c-0c60-4943-8cec-a461400102a3",
   "metadata": {},
   "outputs": [
    {
     "data": {
      "text/html": [
       "<div>\n",
       "<style scoped>\n",
       "    .dataframe tbody tr th:only-of-type {\n",
       "        vertical-align: middle;\n",
       "    }\n",
       "\n",
       "    .dataframe tbody tr th {\n",
       "        vertical-align: top;\n",
       "    }\n",
       "\n",
       "    .dataframe thead th {\n",
       "        text-align: right;\n",
       "    }\n",
       "</style>\n",
       "<table border=\"1\" class=\"dataframe\">\n",
       "  <thead>\n",
       "    <tr style=\"text-align: right;\">\n",
       "      <th></th>\n",
       "      <th>chi_eff</th>\n",
       "      <th>chi_p</th>\n",
       "      <th>mchirp</th>\n",
       "      <th>eta</th>\n",
       "      <th>distance</th>\n",
       "      <th>inclination</th>\n",
       "      <th>ra</th>\n",
       "      <th>dec</th>\n",
       "      <th>polarization</th>\n",
       "      <th>redshift</th>\n",
       "      <th>SNR_network</th>\n",
       "      <th>trigger_time</th>\n",
       "    </tr>\n",
       "  </thead>\n",
       "  <tbody>\n",
       "    <tr>\n",
       "      <th>1202</th>\n",
       "      <td>-0.354937</td>\n",
       "      <td>0.345585</td>\n",
       "      <td>116.523496</td>\n",
       "      <td>0.246678</td>\n",
       "      <td>22921.889166</td>\n",
       "      <td>1.141693</td>\n",
       "      <td>3.137863</td>\n",
       "      <td>1.140860</td>\n",
       "      <td>2.773064</td>\n",
       "      <td>2.698421</td>\n",
       "      <td>75.012817</td>\n",
       "      <td>1.912476e+09</td>\n",
       "    </tr>\n",
       "    <tr>\n",
       "      <th>1824</th>\n",
       "      <td>-0.482845</td>\n",
       "      <td>0.598703</td>\n",
       "      <td>88.441791</td>\n",
       "      <td>0.196802</td>\n",
       "      <td>15100.637994</td>\n",
       "      <td>2.288945</td>\n",
       "      <td>3.395161</td>\n",
       "      <td>0.501768</td>\n",
       "      <td>0.047037</td>\n",
       "      <td>1.913918</td>\n",
       "      <td>77.230755</td>\n",
       "      <td>1.919549e+09</td>\n",
       "    </tr>\n",
       "    <tr>\n",
       "      <th>2709</th>\n",
       "      <td>-0.210945</td>\n",
       "      <td>0.799497</td>\n",
       "      <td>83.032332</td>\n",
       "      <td>0.248124</td>\n",
       "      <td>20809.395916</td>\n",
       "      <td>1.270452</td>\n",
       "      <td>3.074574</td>\n",
       "      <td>0.782096</td>\n",
       "      <td>1.115220</td>\n",
       "      <td>2.490939</td>\n",
       "      <td>50.157628</td>\n",
       "      <td>1.910324e+09</td>\n",
       "    </tr>\n",
       "    <tr>\n",
       "      <th>3093</th>\n",
       "      <td>0.115098</td>\n",
       "      <td>0.764995</td>\n",
       "      <td>92.726844</td>\n",
       "      <td>0.249385</td>\n",
       "      <td>14672.459789</td>\n",
       "      <td>0.733502</td>\n",
       "      <td>5.205000</td>\n",
       "      <td>-0.166288</td>\n",
       "      <td>1.318218</td>\n",
       "      <td>1.869438</td>\n",
       "      <td>142.507976</td>\n",
       "      <td>1.897040e+09</td>\n",
       "    </tr>\n",
       "    <tr>\n",
       "      <th>3347</th>\n",
       "      <td>-0.112500</td>\n",
       "      <td>0.748093</td>\n",
       "      <td>107.377189</td>\n",
       "      <td>0.214598</td>\n",
       "      <td>27477.749064</td>\n",
       "      <td>0.860313</td>\n",
       "      <td>0.697135</td>\n",
       "      <td>-0.203906</td>\n",
       "      <td>0.585804</td>\n",
       "      <td>3.137561</td>\n",
       "      <td>88.028134</td>\n",
       "      <td>1.915879e+09</td>\n",
       "    </tr>\n",
       "    <tr>\n",
       "      <th>3419</th>\n",
       "      <td>-0.238816</td>\n",
       "      <td>0.406071</td>\n",
       "      <td>166.726048</td>\n",
       "      <td>0.248946</td>\n",
       "      <td>40683.575494</td>\n",
       "      <td>1.535324</td>\n",
       "      <td>3.526588</td>\n",
       "      <td>-0.383497</td>\n",
       "      <td>1.968635</td>\n",
       "      <td>4.364672</td>\n",
       "      <td>34.809165</td>\n",
       "      <td>1.912790e+09</td>\n",
       "    </tr>\n",
       "    <tr>\n",
       "      <th>3550</th>\n",
       "      <td>0.232120</td>\n",
       "      <td>0.569924</td>\n",
       "      <td>56.352393</td>\n",
       "      <td>0.234062</td>\n",
       "      <td>32354.666240</td>\n",
       "      <td>1.026911</td>\n",
       "      <td>1.716628</td>\n",
       "      <td>-0.493254</td>\n",
       "      <td>1.146602</td>\n",
       "      <td>3.597507</td>\n",
       "      <td>40.183266</td>\n",
       "      <td>1.902969e+09</td>\n",
       "    </tr>\n",
       "    <tr>\n",
       "      <th>3698</th>\n",
       "      <td>-0.553502</td>\n",
       "      <td>0.541186</td>\n",
       "      <td>80.405639</td>\n",
       "      <td>0.226960</td>\n",
       "      <td>16956.234674</td>\n",
       "      <td>1.080492</td>\n",
       "      <td>0.855367</td>\n",
       "      <td>0.723096</td>\n",
       "      <td>0.843103</td>\n",
       "      <td>2.104523</td>\n",
       "      <td>101.264834</td>\n",
       "      <td>1.916629e+09</td>\n",
       "    </tr>\n",
       "    <tr>\n",
       "      <th>3825</th>\n",
       "      <td>-0.250609</td>\n",
       "      <td>0.310493</td>\n",
       "      <td>266.421764</td>\n",
       "      <td>0.241793</td>\n",
       "      <td>30084.416929</td>\n",
       "      <td>1.403366</td>\n",
       "      <td>3.047091</td>\n",
       "      <td>-0.976543</td>\n",
       "      <td>0.338511</td>\n",
       "      <td>3.384546</td>\n",
       "      <td>70.572473</td>\n",
       "      <td>1.912555e+09</td>\n",
       "    </tr>\n",
       "    <tr>\n",
       "      <th>4096</th>\n",
       "      <td>-0.171841</td>\n",
       "      <td>0.894022</td>\n",
       "      <td>70.958326</td>\n",
       "      <td>0.239990</td>\n",
       "      <td>25003.176250</td>\n",
       "      <td>1.044693</td>\n",
       "      <td>0.187935</td>\n",
       "      <td>1.182698</td>\n",
       "      <td>2.202768</td>\n",
       "      <td>2.900328</td>\n",
       "      <td>65.971299</td>\n",
       "      <td>1.916432e+09</td>\n",
       "    </tr>\n",
       "  </tbody>\n",
       "</table>\n",
       "</div>"
      ],
      "text/plain": [
       "       chi_eff     chi_p      mchirp       eta      distance  inclination  \\\n",
       "1202 -0.354937  0.345585  116.523496  0.246678  22921.889166     1.141693   \n",
       "1824 -0.482845  0.598703   88.441791  0.196802  15100.637994     2.288945   \n",
       "2709 -0.210945  0.799497   83.032332  0.248124  20809.395916     1.270452   \n",
       "3093  0.115098  0.764995   92.726844  0.249385  14672.459789     0.733502   \n",
       "3347 -0.112500  0.748093  107.377189  0.214598  27477.749064     0.860313   \n",
       "3419 -0.238816  0.406071  166.726048  0.248946  40683.575494     1.535324   \n",
       "3550  0.232120  0.569924   56.352393  0.234062  32354.666240     1.026911   \n",
       "3698 -0.553502  0.541186   80.405639  0.226960  16956.234674     1.080492   \n",
       "3825 -0.250609  0.310493  266.421764  0.241793  30084.416929     1.403366   \n",
       "4096 -0.171841  0.894022   70.958326  0.239990  25003.176250     1.044693   \n",
       "\n",
       "            ra       dec  polarization  redshift  SNR_network  trigger_time  \n",
       "1202  3.137863  1.140860      2.773064  2.698421    75.012817  1.912476e+09  \n",
       "1824  3.395161  0.501768      0.047037  1.913918    77.230755  1.919549e+09  \n",
       "2709  3.074574  0.782096      1.115220  2.490939    50.157628  1.910324e+09  \n",
       "3093  5.205000 -0.166288      1.318218  1.869438   142.507976  1.897040e+09  \n",
       "3347  0.697135 -0.203906      0.585804  3.137561    88.028134  1.915879e+09  \n",
       "3419  3.526588 -0.383497      1.968635  4.364672    34.809165  1.912790e+09  \n",
       "3550  1.716628 -0.493254      1.146602  3.597507    40.183266  1.902969e+09  \n",
       "3698  0.855367  0.723096      0.843103  2.104523   101.264834  1.916629e+09  \n",
       "3825  3.047091 -0.976543      0.338511  3.384546    70.572473  1.912555e+09  \n",
       "4096  0.187935  1.182698      2.202768  2.900328    65.971299  1.916432e+09  "
      ]
     },
     "execution_count": 138,
     "metadata": {},
     "output_type": "execute_result"
    }
   ],
   "source": [
    "pd.DataFrame(results_updated['all_inj_params_original'])[high_snr_ratio_select][['chi_eff', 'chi_p', 'mchirp', 'eta', 'distance', 'inclination', 'ra', 'dec', 'polarization', 'redshift', 'SNR_network', 'trigger_time']]"
   ]
  },
  {
   "cell_type": "markdown",
   "id": "022bccc9-f430-4b20-bd9f-d0fe6e4cd1ef",
   "metadata": {},
   "source": [
    "## Save to h5 file"
   ]
  },
  {
   "cell_type": "code",
   "execution_count": 139,
   "id": "181a2b41-4502-47fc-acea-7e66fb1ef558",
   "metadata": {},
   "outputs": [],
   "source": [
    "def save_to_h5_group(group, data, string_dtype):\n",
    "    \"\"\"\n",
    "    Recursively saves Python data structures (dicts, lists, arrays, scalars) to an HDF5 group.\n",
    "    \"\"\"\n",
    "    if isinstance(data, dict):\n",
    "        for key, value in data.items():\n",
    "            sub_key = str(key)\n",
    "            if isinstance(value, (dict, list, tuple)):\n",
    "                subgroup = group.create_group(sub_key)\n",
    "                save_to_h5_group(subgroup, value, string_dtype)\n",
    "            elif isinstance(value, str):\n",
    "                group.create_dataset(sub_key, data=value, dtype=string_dtype)\n",
    "            else:\n",
    "                group.create_dataset(sub_key, data=np.array(value))\n",
    "    elif isinstance(data, (list, tuple)):\n",
    "        for i, item in enumerate(data):\n",
    "            item_key = str(i)\n",
    "            if isinstance(item, (dict, list, tuple)):\n",
    "                subgroup = group.create_group(item_key)\n",
    "                save_to_h5_group(subgroup, item, string_dtype)\n",
    "            elif isinstance(item, str):\n",
    "                group.create_dataset(item_key, data=item, dtype=string_dtype)\n",
    "            else:\n",
    "                group.create_dataset(item_key, data=np.array(item))\n",
    "    elif isinstance(data, str):\n",
    "        group.create_dataset(\"value\", data=data, dtype=string_dtype)\n",
    "    else:\n",
    "        group.create_dataset(\"value\", data=np.array(data))\n",
    "\n",
    "\n",
    "def save_results_to_h5(results, filename):\n",
    "    \"\"\"\n",
    "    Saves arbitrary nested results dictionary to an HDF5 file.\n",
    "    \"\"\"\n",
    "    dt = h5py.string_dtype(encoding='utf-8')\n",
    "    with h5py.File(filename, 'w') as f:\n",
    "        save_to_h5_group(f, results, dt)"
   ]
  },
  {
   "cell_type": "markdown",
   "id": "d98e20f7-3c48-4b48-a33e-51510e794392",
   "metadata": {
    "jp-MarkdownHeadingCollapsed": true
   },
   "source": [
    "### With debug"
   ]
  },
  {
   "cell_type": "code",
   "execution_count": 129,
   "id": "2dbbda81-8f17-4385-b255-7e894de8d93d",
   "metadata": {},
   "outputs": [],
   "source": [
    "def save_results_to_h5_with_debug(results, filename):\n",
    "    with h5py.File(filename, 'w') as f:\n",
    "        # Save inj_params\n",
    "        inj_params_group = f.create_group('inj_params')\n",
    "        for i, param_dict in enumerate(results['inj_params']):\n",
    "            param_group = inj_params_group.create_group(str(i))\n",
    "            for key, value in param_dict.items():\n",
    "                if value is not None:\n",
    "                    try:\n",
    "                        param_group.create_dataset(key, data=value)\n",
    "                    except Exception as e:\n",
    "                        print(f\"[inj_params][{i}][{key}] - Error creating dataset: {e}\")\n",
    "                else:\n",
    "                    print(f\"[inj_params][{i}][{key}] is None\")\n",
    "\n",
    "        # Save cov\n",
    "        cov_group = f.create_group('cov')\n",
    "        for i, matrix in enumerate(results['cov']):\n",
    "            if matrix is not None:\n",
    "                try:\n",
    "                    cov_group.create_dataset(str(i), data=matrix)\n",
    "                except Exception as e:\n",
    "                    print(f\"[cov][{i}] - Error creating dataset: {e}\")\n",
    "            else:\n",
    "                print(f\"[cov][{i}] is None\")\n",
    "\n",
    "        # Save errs\n",
    "        errs_group = f.create_group('errs')\n",
    "        for i, err_dict in enumerate(results['errs']):\n",
    "            err_group = errs_group.create_group(str(i))\n",
    "            for key, value in err_dict.items():\n",
    "                if value is not None:\n",
    "                    try:\n",
    "                        err_group.create_dataset(key, data=value)\n",
    "                    except Exception as e:\n",
    "                        print(f\"[errs][{i}][{key}] - Error creating dataset: {e}\")\n",
    "                else:\n",
    "                    print(f\"[errs][{i}][{key}] is None\")\n",
    "\n",
    "        # Save all_inj_params_original\n",
    "        all_inj_original_group = f.create_group('all_inj_params_original')\n",
    "        for i, param_dict in enumerate(results['all_inj_params_original']):\n",
    "            param_group = all_inj_original_group.create_group(str(i))\n",
    "            for key, value in param_dict.items():\n",
    "                if value is not None:\n",
    "                    try:\n",
    "                        param_group.create_dataset(key, data=value)\n",
    "                    except Exception as e:\n",
    "                        print(f\"[all_inj_params_original][{i}][{key}] - Error creating dataset: {e}\")\n",
    "                else:\n",
    "                    print(f\"[all_inj_params_original][{i}][{key}] is None\")\n",
    "\n",
    "        # Save deriv_variables_in_order\n",
    "        try:\n",
    "            dt = h5py.string_dtype(encoding='utf-8')\n",
    "            f.create_dataset('deriv_variables_in_order', \n",
    "                             data=np.array(results['deriv_variables_in_order'], dtype=dt))\n",
    "        except Exception as e:\n",
    "            print(f\"[deriv_variables_in_order] - Error creating dataset: {e}\")"
   ]
  },
  {
   "cell_type": "markdown",
   "id": "237fcc7d-cc32-40c2-9c81-20d032693e68",
   "metadata": {},
   "source": [
    "### Write to file"
   ]
  },
  {
   "cell_type": "code",
   "execution_count": 142,
   "id": "8801dd3d-a1f3-4588-86d2-2d0b11346160",
   "metadata": {},
   "outputs": [
    {
     "data": {
      "text/plain": [
       "4343"
      ]
     },
     "execution_count": 142,
     "metadata": {},
     "output_type": "execute_result"
    }
   ],
   "source": [
    "len(results_updated['inj_params'])"
   ]
  },
  {
   "cell_type": "code",
   "execution_count": 82,
   "id": "bd4ba43d-2301-466f-a228-52cd57501fa0",
   "metadata": {
    "scrolled": true
   },
   "outputs": [],
   "source": [
    "results_file = os.path.join(base_dir, 'GWBench_analysis', 'BBH',\n",
    "                            f'CE4020ET123_CoBA10_2_PLP_z_MD_zmax_10_lmrd_22_spins_in_FM_inj_set4_{len(results_updated[\"inj_params\"])}_events_pop_from_XPHM.h5')\n",
    "#results_file = os.path.join(base_dir, 'GWBench_analysis', 'BBH',\n",
    "#                            'LHI_Asharp_1_PLP_z_MD_zmax_6_lmrd_22_no_spins_all_events_365_days_pop_from_XPHM.h5')\n",
    "save_results_to_h5(results_updated, results_file)"
   ]
  },
  {
   "cell_type": "markdown",
   "id": "0515023f-c026-4c10-9d7e-cfdc48dd9d75",
   "metadata": {
    "jp-MarkdownHeadingCollapsed": true
   },
   "source": [
    "## Spot checks with MPSAC study"
   ]
  },
  {
   "cell_type": "code",
   "execution_count": 95,
   "id": "dc09027a-05d4-4afa-96e6-c5800bb584d0",
   "metadata": {},
   "outputs": [
    {
     "name": "stdout",
     "output_type": "stream",
     "text": [
      "{'DL': np.float64(613.0532129566052), 'Mc': np.float64(29.52608930472442), 'chi1x': np.float64(0.0), 'chi1y': np.float64(0.0), 'chi1z': np.float64(0.09757743535542235), 'chi2x': np.float64(0.0), 'chi2y': np.float64(0.0), 'chi2z': np.float64(0.13015506724064474), 'dec': np.float64(0.6005676332161993), 'eta': np.float64(0.2480576947053691), 'gmst0': np.float64(44958.217426017385), 'iota': np.float64(0.9661358753614275), 'log_DL': np.float64(6.418451739601951), 'log_Mc': np.float64(3.266043329076431), 'phic': np.float64(0.0), 'psi': np.float64(1.9138262503804069), 'ra': np.float64(1.0558372118915251), 'tc': np.float64(0.0), 'z': np.float64(0.12663005714874154)}\n",
      "\n",
      " Error: Matrix is not positive definite\n"
     ]
    }
   ],
   "source": [
    "mpsac_dir = '/home/divyajyoti/ACADEMIC/Projects/Cardiff_University/Next_gen_detectability/Relevant_papers/Ish Gupta_et_al_data/'\n",
    "mpsac_data_bbh = {}\n",
    "with h5py.File(glob(os.path.join(mpsac_dir, '*', '*', '*bbh*hdf5'))[0], 'r') as file:\n",
    "    i=9\n",
    "    inj_params = {key:file['inj_params'][key][i] for key in file['inj_params'].keys()}\n",
    "    Mc = (1+inj_params['z'])*inj_params['Mc']\n",
    "    inj_params['Mc'] = Mc\n",
    "    print(inj_params)\n",
    "    fm, cov, errs, snr, dvars, inv_errs = run_analysis(inj_params)\n",
    "    err_dict = {key:[file['networks']['HLI'][key][i], errs[key]] for key in errs.keys()}\n",
    "    try:\n",
    "        np.linalg.cholesky(cov)\n",
    "    except Exception as e:\n",
    "        print('\\n', 'Error:', e)\n",
    "    err_dict['source'] = ['MPSAC', 'Current analysis']\n",
    "    err_df = pd.DataFrame(err_dict).set_index('source').T"
   ]
  },
  {
   "cell_type": "code",
   "execution_count": 96,
   "id": "85e8f878-62eb-4d21-a795-ae170b50777c",
   "metadata": {},
   "outputs": [
    {
     "data": {
      "text/html": [
       "<div>\n",
       "<style scoped>\n",
       "    .dataframe tbody tr th:only-of-type {\n",
       "        vertical-align: middle;\n",
       "    }\n",
       "\n",
       "    .dataframe tbody tr th {\n",
       "        vertical-align: top;\n",
       "    }\n",
       "\n",
       "    .dataframe thead th {\n",
       "        text-align: right;\n",
       "    }\n",
       "</style>\n",
       "<table border=\"1\" class=\"dataframe\">\n",
       "  <thead>\n",
       "    <tr style=\"text-align: right;\">\n",
       "      <th>source</th>\n",
       "      <th>MPSAC</th>\n",
       "      <th>Current analysis</th>\n",
       "    </tr>\n",
       "  </thead>\n",
       "  <tbody>\n",
       "    <tr>\n",
       "      <th>log_Mc</th>\n",
       "      <td>0.000149</td>\n",
       "      <td>0.000226</td>\n",
       "    </tr>\n",
       "    <tr>\n",
       "      <th>eta</th>\n",
       "      <td>0.000487</td>\n",
       "      <td>0.000449</td>\n",
       "    </tr>\n",
       "    <tr>\n",
       "      <th>log_DL</th>\n",
       "      <td>0.030009</td>\n",
       "      <td>0.040938</td>\n",
       "    </tr>\n",
       "    <tr>\n",
       "      <th>iota</th>\n",
       "      <td>0.029717</td>\n",
       "      <td>0.046089</td>\n",
       "    </tr>\n",
       "    <tr>\n",
       "      <th>tc</th>\n",
       "      <td>0.000031</td>\n",
       "      <td>0.000043</td>\n",
       "    </tr>\n",
       "    <tr>\n",
       "      <th>phic</th>\n",
       "      <td>0.108621</td>\n",
       "      <td>0.108604</td>\n",
       "    </tr>\n",
       "    <tr>\n",
       "      <th>ra</th>\n",
       "      <td>0.001964</td>\n",
       "      <td>0.001815</td>\n",
       "    </tr>\n",
       "    <tr>\n",
       "      <th>dec</th>\n",
       "      <td>0.001257</td>\n",
       "      <td>0.002764</td>\n",
       "    </tr>\n",
       "    <tr>\n",
       "      <th>psi</th>\n",
       "      <td>0.031062</td>\n",
       "      <td>0.045767</td>\n",
       "    </tr>\n",
       "    <tr>\n",
       "      <th>chi1z</th>\n",
       "      <td>0.006382</td>\n",
       "      <td>0.002605</td>\n",
       "    </tr>\n",
       "    <tr>\n",
       "      <th>chi2z</th>\n",
       "      <td>0.003734</td>\n",
       "      <td>0.002396</td>\n",
       "    </tr>\n",
       "    <tr>\n",
       "      <th>sky_area_90</th>\n",
       "      <td>0.085251</td>\n",
       "      <td>0.168226</td>\n",
       "    </tr>\n",
       "  </tbody>\n",
       "</table>\n",
       "</div>"
      ],
      "text/plain": [
       "source          MPSAC  Current analysis\n",
       "log_Mc       0.000149          0.000226\n",
       "eta          0.000487          0.000449\n",
       "log_DL       0.030009          0.040938\n",
       "iota         0.029717          0.046089\n",
       "tc           0.000031          0.000043\n",
       "phic         0.108621          0.108604\n",
       "ra           0.001964          0.001815\n",
       "dec          0.001257          0.002764\n",
       "psi          0.031062          0.045767\n",
       "chi1z        0.006382          0.002605\n",
       "chi2z        0.003734          0.002396\n",
       "sky_area_90  0.085251          0.168226"
      ]
     },
     "execution_count": 96,
     "metadata": {},
     "output_type": "execute_result"
    }
   ],
   "source": [
    "err_df"
   ]
  },
  {
   "cell_type": "code",
   "execution_count": null,
   "id": "1bdaffce-5f1a-4b24-9436-65cc3a77eeca",
   "metadata": {},
   "outputs": [],
   "source": []
  }
 ],
 "metadata": {
  "kernelspec": {
   "display_name": "gwbench",
   "language": "python",
   "name": "gwbench"
  },
  "language_info": {
   "codemirror_mode": {
    "name": "ipython",
    "version": 3
   },
   "file_extension": ".py",
   "mimetype": "text/x-python",
   "name": "python",
   "nbconvert_exporter": "python",
   "pygments_lexer": "ipython3",
   "version": "3.10.13"
  }
 },
 "nbformat": 4,
 "nbformat_minor": 5
}
