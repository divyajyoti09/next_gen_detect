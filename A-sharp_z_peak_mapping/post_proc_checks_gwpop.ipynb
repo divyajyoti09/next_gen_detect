{
 "cells": [
  {
   "cell_type": "code",
   "execution_count": 1,
   "id": "796025aa-857c-46eb-bd87-5a20f24b0b85",
   "metadata": {},
   "outputs": [],
   "source": [
    "import bilby as bb\n",
    "import gwpopulation as gwpop\n",
    "import jax\n",
    "import matplotlib.pyplot as plt\n",
    "import pandas as pd\n",
    "from bilby.core.prior import PriorDict, Uniform\n",
    "from gwpopulation.experimental.jax import JittedLikelihood, NonCachingModel\n",
    "import os\n",
    "import bilby"
   ]
  },
  {
   "cell_type": "code",
   "execution_count": 2,
   "id": "41ad281b-524b-40f2-854e-cfc9b61687e6",
   "metadata": {},
   "outputs": [],
   "source": [
    "gwpop.set_backend(\"jax\")\n",
    "\n",
    "xp = gwpop.utils.xp\n",
    "\n",
    "\n",
    "# In[2]:\n",
    "\n",
    "\n",
    "project_dir = '/home/divyajyoti/ACADEMIC/Projects/Cardiff_University/Next_gen_detectability/A-sharp-study/'\n",
    "#project_dir = '/home/divyajyoti.nln/Cardiff_University/Next_gen_detectability/A-sharp-study/'\n",
    "\n",
    "\n",
    "# ## Load posteriors\n",
    "\n",
    "# In[3]:\n",
    "\n",
    "\n",
    "posteriors = pd.read_pickle(os.path.join(project_dir, 'gwpopulation', 'BBH', 'redshift_posteriors_499_events.pkl'))\n",
    "\n",
    "\n",
    "# ## Load injections\n",
    "\n",
    "# In[4]:\n",
    "\n",
    "\n",
    "import dill\n",
    "\n",
    "with open(os.path.join(project_dir, 'gwpopulation', 'BBH', 'detected_injections.pkl'), \"rb\") as ff:\n",
    "    injections = dill.load(ff)\n",
    "\n",
    "\n",
    "# ## Define models and likelihood\n",
    "\n",
    "# In[5]:\n",
    "\n",
    "\n",
    "model = NonCachingModel(\n",
    "    model_functions=[gwpop.models.redshift.MadauDickinsonRedshift(cosmo_model=\"Planck18\", z_max=8)],\n",
    "    #model_functions=[gwpop.models.redshift.PowerLawRedshift(z_max=8)],\n",
    ")\n",
    "\n",
    "vt = gwpop.vt.ResamplingVT(model=model, data=injections, n_events=len(posteriors))\n",
    "\n",
    "likelihood = gwpop.hyperpe.HyperparameterLikelihood(\n",
    "    posteriors=posteriors,\n",
    "    hyper_prior=model,\n",
    "    selection_function=vt,\n",
    ")"
   ]
  },
  {
   "cell_type": "code",
   "execution_count": 3,
   "id": "7106caf6-0ff1-4108-b988-8f80c045d817",
   "metadata": {},
   "outputs": [],
   "source": [
    "result = bilby.result.read_in_result(filename=os.path.join(project_dir, \n",
    "                                                                 'gwpopulation', \n",
    "                                                                 'BBH', \n",
    "                                                                 'gwpop_analysis_results',\n",
    "                                                                 'run01_opt_SNR_injections',\n",
    "                                                                 'Asharp-study-gwpop_result.hdf5'))"
   ]
  },
  {
   "cell_type": "code",
   "execution_count": 10,
   "id": "3f1a70a0-bc29-4417-8bb4-aa27a3169180",
   "metadata": {},
   "outputs": [
    {
     "ename": "KeyError",
     "evalue": "'gamma'",
     "output_type": "error",
     "traceback": [
      "\u001b[31m---------------------------------------------------------------------------\u001b[39m",
      "\u001b[31mKeyError\u001b[39m                                  Traceback (most recent call last)",
      "\u001b[36mCell\u001b[39m\u001b[36m \u001b[39m\u001b[32mIn[10]\u001b[39m\u001b[32m, line 1\u001b[39m\n\u001b[32m----> \u001b[39m\u001b[32m1\u001b[39m \u001b[43mlikelihood\u001b[49m\u001b[43m.\u001b[49m\u001b[43mln_likelihood_and_variance\u001b[49m\u001b[43m(\u001b[49m\u001b[43m)\u001b[49m\n",
      "\u001b[36mFile \u001b[39m\u001b[32m~/miniconda3/envs/gwpopulation/lib/python3.11/site-packages/gwpopulation/hyperpe.py:178\u001b[39m, in \u001b[36mHyperparameterLikelihood.ln_likelihood_and_variance\u001b[39m\u001b[34m(self)\u001b[39m\n\u001b[32m    176\u001b[39m \u001b[38;5;28mself\u001b[39m.parameters, added_keys = \u001b[38;5;28mself\u001b[39m.conversion_function(\u001b[38;5;28mself\u001b[39m.parameters)\n\u001b[32m    177\u001b[39m \u001b[38;5;28mself\u001b[39m.hyper_prior.parameters.update(\u001b[38;5;28mself\u001b[39m.parameters)\n\u001b[32m--> \u001b[39m\u001b[32m178\u001b[39m ln_bayes_factors, variances = \u001b[38;5;28;43mself\u001b[39;49m\u001b[43m.\u001b[49m\u001b[43m_compute_per_event_ln_bayes_factors\u001b[49m\u001b[43m(\u001b[49m\u001b[43m)\u001b[49m\n\u001b[32m    179\u001b[39m ln_l = xp.sum(ln_bayes_factors)\n\u001b[32m    180\u001b[39m variance = xp.sum(variances)\n",
      "\u001b[36mFile \u001b[39m\u001b[32m~/miniconda3/envs/gwpopulation/lib/python3.11/site-packages/gwpopulation/hyperpe.py:205\u001b[39m, in \u001b[36mHyperparameterLikelihood._compute_per_event_ln_bayes_factors\u001b[39m\u001b[34m(self, return_uncertainty)\u001b[39m\n\u001b[32m    204\u001b[39m \u001b[38;5;28;01mdef\u001b[39;00m\u001b[38;5;250m \u001b[39m\u001b[34m_compute_per_event_ln_bayes_factors\u001b[39m(\u001b[38;5;28mself\u001b[39m, return_uncertainty=\u001b[38;5;28;01mTrue\u001b[39;00m):\n\u001b[32m--> \u001b[39m\u001b[32m205\u001b[39m     weights = \u001b[38;5;28;43mself\u001b[39;49m\u001b[43m.\u001b[49m\u001b[43mhyper_prior\u001b[49m\u001b[43m.\u001b[49m\u001b[43mprob\u001b[49m\u001b[43m(\u001b[49m\u001b[38;5;28;43mself\u001b[39;49m\u001b[43m.\u001b[49m\u001b[43mdata\u001b[49m\u001b[43m)\u001b[49m / \u001b[38;5;28mself\u001b[39m.sampling_prior\n\u001b[32m    206\u001b[39m     expectation = xp.mean(weights, axis=-\u001b[32m1\u001b[39m)\n\u001b[32m    207\u001b[39m     \u001b[38;5;28;01mif\u001b[39;00m return_uncertainty:\n",
      "\u001b[36mFile \u001b[39m\u001b[32m~/miniconda3/envs/gwpopulation/lib/python3.11/site-packages/gwpopulation/experimental/jax.py:52\u001b[39m, in \u001b[36mNonCachingModel.prob\u001b[39m\u001b[34m(self, data, **kwargs)\u001b[39m\n\u001b[32m     50\u001b[39m probability = \u001b[32m1.0\u001b[39m\n\u001b[32m     51\u001b[39m \u001b[38;5;28;01mfor\u001b[39;00m function \u001b[38;5;129;01min\u001b[39;00m \u001b[38;5;28mself\u001b[39m.models:\n\u001b[32m---> \u001b[39m\u001b[32m52\u001b[39m     new_probability = function(data, **\u001b[38;5;28;43mself\u001b[39;49m\u001b[43m.\u001b[49m\u001b[43m_get_function_parameters\u001b[49m\u001b[43m(\u001b[49m\u001b[43mfunction\u001b[49m\u001b[43m)\u001b[49m)\n\u001b[32m     53\u001b[39m     probability *= new_probability\n\u001b[32m     54\u001b[39m \u001b[38;5;28;01mreturn\u001b[39;00m probability\n",
      "\u001b[36mFile \u001b[39m\u001b[32m~/miniconda3/envs/gwpopulation/lib/python3.11/site-packages/bilby/hyper/model.py:85\u001b[39m, in \u001b[36mModel._get_function_parameters\u001b[39m\u001b[34m(self, func)\u001b[39m\n\u001b[32m     83\u001b[39m         \u001b[38;5;28;01mif\u001b[39;00m key \u001b[38;5;129;01min\u001b[39;00m param_keys:\n\u001b[32m     84\u001b[39m             \u001b[38;5;28;01mdel\u001b[39;00m param_keys[param_keys.index(key)]\n\u001b[32m---> \u001b[39m\u001b[32m85\u001b[39m parameters = \u001b[43m{\u001b[49m\u001b[43mkey\u001b[49m\u001b[43m:\u001b[49m\u001b[43m \u001b[49m\u001b[38;5;28;43mself\u001b[39;49m\u001b[43m.\u001b[49m\u001b[43mparameters\u001b[49m\u001b[43m[\u001b[49m\u001b[43mkey\u001b[49m\u001b[43m]\u001b[49m\u001b[43m \u001b[49m\u001b[38;5;28;43;01mfor\u001b[39;49;00m\u001b[43m \u001b[49m\u001b[43mkey\u001b[49m\u001b[43m \u001b[49m\u001b[38;5;129;43;01min\u001b[39;49;00m\u001b[43m \u001b[49m\u001b[43mparam_keys\u001b[49m\u001b[43m}\u001b[49m\n\u001b[32m     86\u001b[39m \u001b[38;5;28;01mreturn\u001b[39;00m parameters\n",
      "\u001b[36mFile \u001b[39m\u001b[32m~/miniconda3/envs/gwpopulation/lib/python3.11/site-packages/bilby/hyper/model.py:85\u001b[39m, in \u001b[36m<dictcomp>\u001b[39m\u001b[34m(.0)\u001b[39m\n\u001b[32m     83\u001b[39m         \u001b[38;5;28;01mif\u001b[39;00m key \u001b[38;5;129;01min\u001b[39;00m param_keys:\n\u001b[32m     84\u001b[39m             \u001b[38;5;28;01mdel\u001b[39;00m param_keys[param_keys.index(key)]\n\u001b[32m---> \u001b[39m\u001b[32m85\u001b[39m parameters = {key: \u001b[38;5;28;43mself\u001b[39;49m\u001b[43m.\u001b[49m\u001b[43mparameters\u001b[49m\u001b[43m[\u001b[49m\u001b[43mkey\u001b[49m\u001b[43m]\u001b[49m \u001b[38;5;28;01mfor\u001b[39;00m key \u001b[38;5;129;01min\u001b[39;00m param_keys}\n\u001b[32m     86\u001b[39m \u001b[38;5;28;01mreturn\u001b[39;00m parameters\n",
      "\u001b[31mKeyError\u001b[39m: 'gamma'"
     ]
    }
   ],
   "source": [
    "likelihood.ln_likelihood_and_variance()"
   ]
  },
  {
   "cell_type": "code",
   "execution_count": 15,
   "id": "4b65d76f-d5d4-40da-ae89-c454bb7799a4",
   "metadata": {},
   "outputs": [],
   "source": [
    "#func = jax.jit(likelihood.generate_extra_statistics)\n",
    "func = jax.jit(likelihood.ln_likelihood_and_variance)"
   ]
  },
  {
   "cell_type": "code",
   "execution_count": 11,
   "id": "5603c6b7-d6a6-492e-9513-25383bec4928",
   "metadata": {},
   "outputs": [
    {
     "data": {
      "text/plain": [
       "{'gamma': 0.5660044650342461,\n",
       " 'kappa': 13.770593778003917,\n",
       " 'log_likelihood': 4517.6299984969955,\n",
       " 'log_prior': -5.857933154483459,\n",
       " 'z_peak': 1.9944077462933847}"
      ]
     },
     "execution_count": 11,
     "metadata": {},
     "output_type": "execute_result"
    }
   ],
   "source": [
    "result.posterior.to_dict(orient='records')[0]"
   ]
  },
  {
   "cell_type": "code",
   "execution_count": 18,
   "id": "832cf486-019e-4817-85d0-72dd65c411d6",
   "metadata": {},
   "outputs": [
    {
     "data": {
      "text/plain": [
       "\u001b[31mSignature:\u001b[39m likelihood.ln_likelihood_and_variance()\n",
       "\u001b[31mDocstring:\u001b[39m Compute the ln likelihood estimator and its variance.\n",
       "\u001b[31mFile:\u001b[39m      ~/miniconda3/envs/gwpopulation/lib/python3.11/site-packages/gwpopulation/hyperpe.py\n",
       "\u001b[31mType:\u001b[39m      method"
      ]
     },
     "metadata": {},
     "output_type": "display_data"
    }
   ],
   "source": [
    "likelihood.ln_likelihood_and_variance?"
   ]
  },
  {
   "cell_type": "code",
   "execution_count": 16,
   "id": "b36eb9bd-786b-4b31-a0da-31baab380118",
   "metadata": {
    "scrolled": true
   },
   "outputs": [
    {
     "ename": "TypeError",
     "evalue": "HyperparameterLikelihood.ln_likelihood_and_variance() takes 1 positional argument but 2 were given",
     "output_type": "error",
     "traceback": [
      "\u001b[31m---------------------------------------------------------------------------\u001b[39m",
      "\u001b[31mTypeError\u001b[39m                                 Traceback (most recent call last)",
      "\u001b[36mCell\u001b[39m\u001b[36m \u001b[39m\u001b[32mIn[16]\u001b[39m\u001b[32m, line 1\u001b[39m\n\u001b[32m----> \u001b[39m\u001b[32m1\u001b[39m \u001b[43mfunc\u001b[49m\u001b[43m(\u001b[49m\u001b[43mresult\u001b[49m\u001b[43m.\u001b[49m\u001b[43mposterior\u001b[49m\u001b[43m.\u001b[49m\u001b[43mto_dict\u001b[49m\u001b[43m(\u001b[49m\u001b[43morient\u001b[49m\u001b[43m=\u001b[49m\u001b[33;43m'\u001b[39;49m\u001b[33;43mrecords\u001b[39;49m\u001b[33;43m'\u001b[39;49m\u001b[43m)\u001b[49m\u001b[43m[\u001b[49m\u001b[32;43m0\u001b[39;49m\u001b[43m]\u001b[49m\u001b[43m)\u001b[49m\n",
      "    \u001b[31m[... skipping hidden 13 frame]\u001b[39m\n",
      "\u001b[36mFile \u001b[39m\u001b[32m~/miniconda3/envs/gwpopulation/lib/python3.11/site-packages/jax/_src/linear_util.py:402\u001b[39m, in \u001b[36m_get_result_paths_thunk\u001b[39m\u001b[34m(_fun, _store, *args, **kwargs)\u001b[39m\n\u001b[32m    400\u001b[39m \u001b[38;5;129m@transformation_with_aux2\u001b[39m\n\u001b[32m    401\u001b[39m \u001b[38;5;28;01mdef\u001b[39;00m\u001b[38;5;250m \u001b[39m\u001b[34m_get_result_paths_thunk\u001b[39m(_fun: Callable, _store: Store, *args, **kwargs):\n\u001b[32m--> \u001b[39m\u001b[32m402\u001b[39m   ans = \u001b[43m_fun\u001b[49m\u001b[43m(\u001b[49m\u001b[43m*\u001b[49m\u001b[43margs\u001b[49m\u001b[43m,\u001b[49m\u001b[43m \u001b[49m\u001b[43m*\u001b[49m\u001b[43m*\u001b[49m\u001b[43mkwargs\u001b[49m\u001b[43m)\u001b[49m\n\u001b[32m    403\u001b[39m   result_paths = \u001b[38;5;28mtuple\u001b[39m(\u001b[33mf\u001b[39m\u001b[33m\"\u001b[39m\u001b[33mresult\u001b[39m\u001b[38;5;132;01m{\u001b[39;00m_clean_keystr_arg_names(path)\u001b[38;5;132;01m}\u001b[39;00m\u001b[33m\"\u001b[39m \u001b[38;5;28;01mfor\u001b[39;00m path, _ \u001b[38;5;129;01min\u001b[39;00m generate_key_paths(ans))\n\u001b[32m    404\u001b[39m   \u001b[38;5;28;01mif\u001b[39;00m _store:\n\u001b[32m    405\u001b[39m     \u001b[38;5;66;03m# In some instances a lu.WrappedFun is called multiple times, e.g.,\u001b[39;00m\n\u001b[32m    406\u001b[39m     \u001b[38;5;66;03m# the bwd function in a custom_vjp\u001b[39;00m\n",
      "\u001b[31mTypeError\u001b[39m: HyperparameterLikelihood.ln_likelihood_and_variance() takes 1 positional argument but 2 were given"
     ]
    }
   ],
   "source": [
    "func(result.posterior.to_dict(orient='records')[0])"
   ]
  },
  {
   "cell_type": "code",
   "execution_count": null,
   "id": "810cbf33-f0e5-44ae-a097-3494c3f4f420",
   "metadata": {},
   "outputs": [
    {
     "name": "stderr",
     "output_type": "stream",
     "text": [
      "Exception ignored in: <bound method IPythonKernel._clean_thread_parent_frames of <ipykernel.ipkernel.IPythonKernel object at 0x7c41fe62d190>>\n",
      "Traceback (most recent call last):\n",
      "  File \"/home/divyajyoti/miniconda3/envs/gwpopulation/lib/python3.11/site-packages/ipykernel/ipkernel.py\", line 775, in _clean_thread_parent_frames\n",
      "    def _clean_thread_parent_frames(\n",
      "\n",
      "KeyboardInterrupt: \n",
      "Exception ignored in: <bound method IPythonKernel._clean_thread_parent_frames of <ipykernel.ipkernel.IPythonKernel object at 0x7c41fe62d190>>\n",
      "Traceback (most recent call last):\n",
      "  File \"/home/divyajyoti/miniconda3/envs/gwpopulation/lib/python3.11/site-packages/ipykernel/ipkernel.py\", line 775, in _clean_thread_parent_frames\n",
      "    def _clean_thread_parent_frames(\n",
      "\n",
      "KeyboardInterrupt: \n",
      "Exception ignored in: <bound method IPythonKernel._clean_thread_parent_frames of <ipykernel.ipkernel.IPythonKernel object at 0x7c41fe62d190>>\n",
      "Traceback (most recent call last):\n",
      "  File \"/home/divyajyoti/miniconda3/envs/gwpopulation/lib/python3.11/site-packages/ipykernel/ipkernel.py\", line 775, in _clean_thread_parent_frames\n",
      "    def _clean_thread_parent_frames(\n",
      "\n",
      "KeyboardInterrupt: \n",
      "Exception ignored in: <bound method IPythonKernel._clean_thread_parent_frames of <ipykernel.ipkernel.IPythonKernel object at 0x7c41fe62d190>>\n",
      "Traceback (most recent call last):\n",
      "  File \"/home/divyajyoti/miniconda3/envs/gwpopulation/lib/python3.11/site-packages/ipykernel/ipkernel.py\", line 775, in _clean_thread_parent_frames\n",
      "    def _clean_thread_parent_frames(\n",
      "\n",
      "KeyboardInterrupt: \n",
      "Exception ignored in: <bound method IPythonKernel._clean_thread_parent_frames of <ipykernel.ipkernel.IPythonKernel object at 0x7c41fe62d190>>\n",
      "Traceback (most recent call last):\n",
      "  File \"/home/divyajyoti/miniconda3/envs/gwpopulation/lib/python3.11/site-packages/ipykernel/ipkernel.py\", line 775, in _clean_thread_parent_frames\n",
      "    def _clean_thread_parent_frames(\n",
      "\n",
      "KeyboardInterrupt: \n",
      "Exception ignored in: <bound method IPythonKernel._clean_thread_parent_frames of <ipykernel.ipkernel.IPythonKernel object at 0x7c41fe62d190>>\n",
      "Traceback (most recent call last):\n",
      "  File \"/home/divyajyoti/miniconda3/envs/gwpopulation/lib/python3.11/site-packages/ipykernel/ipkernel.py\", line 775, in _clean_thread_parent_frames\n",
      "    def _clean_thread_parent_frames(\n",
      "\n",
      "KeyboardInterrupt: \n",
      "Exception ignored in: <bound method IPythonKernel._clean_thread_parent_frames of <ipykernel.ipkernel.IPythonKernel object at 0x7c41fe62d190>>\n",
      "Traceback (most recent call last):\n",
      "  File \"/home/divyajyoti/miniconda3/envs/gwpopulation/lib/python3.11/site-packages/ipykernel/ipkernel.py\", line 775, in _clean_thread_parent_frames\n",
      "    def _clean_thread_parent_frames(\n",
      "\n",
      "KeyboardInterrupt: \n",
      "Exception ignored in: <bound method IPythonKernel._clean_thread_parent_frames of <ipykernel.ipkernel.IPythonKernel object at 0x7c41fe62d190>>\n",
      "Traceback (most recent call last):\n",
      "  File \"/home/divyajyoti/miniconda3/envs/gwpopulation/lib/python3.11/site-packages/ipykernel/ipkernel.py\", line 775, in _clean_thread_parent_frames\n",
      "    def _clean_thread_parent_frames(\n",
      "\n",
      "KeyboardInterrupt: \n",
      "Exception ignored in: <bound method IPythonKernel._clean_thread_parent_frames of <ipykernel.ipkernel.IPythonKernel object at 0x7c41fe62d190>>\n",
      "Traceback (most recent call last):\n",
      "  File \"/home/divyajyoti/miniconda3/envs/gwpopulation/lib/python3.11/site-packages/ipykernel/ipkernel.py\", line 775, in _clean_thread_parent_frames\n",
      "    def _clean_thread_parent_frames(\n",
      "\n",
      "KeyboardInterrupt: \n",
      "Exception ignored in: <bound method IPythonKernel._clean_thread_parent_frames of <ipykernel.ipkernel.IPythonKernel object at 0x7c41fe62d190>>\n",
      "Traceback (most recent call last):\n",
      "  File \"/home/divyajyoti/miniconda3/envs/gwpopulation/lib/python3.11/site-packages/ipykernel/ipkernel.py\", line 775, in _clean_thread_parent_frames\n",
      "    def _clean_thread_parent_frames(\n",
      "\n",
      "KeyboardInterrupt: \n",
      "Exception ignored in: <bound method IPythonKernel._clean_thread_parent_frames of <ipykernel.ipkernel.IPythonKernel object at 0x7c41fe62d190>>\n",
      "Traceback (most recent call last):\n",
      "  File \"/home/divyajyoti/miniconda3/envs/gwpopulation/lib/python3.11/site-packages/ipykernel/ipkernel.py\", line 775, in _clean_thread_parent_frames\n",
      "    def _clean_thread_parent_frames(\n",
      "\n",
      "KeyboardInterrupt: \n",
      "Exception ignored in: <bound method IPythonKernel._clean_thread_parent_frames of <ipykernel.ipkernel.IPythonKernel object at 0x7c41fe62d190>>\n",
      "Traceback (most recent call last):\n",
      "  File \"/home/divyajyoti/miniconda3/envs/gwpopulation/lib/python3.11/site-packages/ipykernel/ipkernel.py\", line 775, in _clean_thread_parent_frames\n",
      "    def _clean_thread_parent_frames(\n",
      "\n",
      "KeyboardInterrupt: \n",
      "Exception ignored in: <bound method IPythonKernel._clean_thread_parent_frames of <ipykernel.ipkernel.IPythonKernel object at 0x7c41fe62d190>>\n",
      "Traceback (most recent call last):\n",
      "  File \"/home/divyajyoti/miniconda3/envs/gwpopulation/lib/python3.11/site-packages/ipykernel/ipkernel.py\", line 775, in _clean_thread_parent_frames\n",
      "    def _clean_thread_parent_frames(\n",
      "\n",
      "KeyboardInterrupt: \n",
      "Exception ignored in: <bound method IPythonKernel._clean_thread_parent_frames of <ipykernel.ipkernel.IPythonKernel object at 0x7c41fe62d190>>\n",
      "Traceback (most recent call last):\n",
      "  File \"/home/divyajyoti/miniconda3/envs/gwpopulation/lib/python3.11/site-packages/ipykernel/ipkernel.py\", line 775, in _clean_thread_parent_frames\n",
      "    def _clean_thread_parent_frames(\n",
      "\n",
      "KeyboardInterrupt: \n",
      "Exception ignored in: <bound method IPythonKernel._clean_thread_parent_frames of <ipykernel.ipkernel.IPythonKernel object at 0x7c41fe62d190>>\n",
      "Traceback (most recent call last):\n",
      "  File \"/home/divyajyoti/miniconda3/envs/gwpopulation/lib/python3.11/site-packages/ipykernel/ipkernel.py\", line 775, in _clean_thread_parent_frames\n",
      "    def _clean_thread_parent_frames(\n",
      "\n",
      "KeyboardInterrupt: \n",
      "Exception ignored in: <bound method IPythonKernel._clean_thread_parent_frames of <ipykernel.ipkernel.IPythonKernel object at 0x7c41fe62d190>>\n",
      "Traceback (most recent call last):\n",
      "  File \"/home/divyajyoti/miniconda3/envs/gwpopulation/lib/python3.11/site-packages/ipykernel/ipkernel.py\", line 775, in _clean_thread_parent_frames\n",
      "    def _clean_thread_parent_frames(\n",
      "\n",
      "KeyboardInterrupt: \n",
      "Exception ignored in: <bound method IPythonKernel._clean_thread_parent_frames of <ipykernel.ipkernel.IPythonKernel object at 0x7c41fe62d190>>\n",
      "Traceback (most recent call last):\n",
      "  File \"/home/divyajyoti/miniconda3/envs/gwpopulation/lib/python3.11/site-packages/ipykernel/ipkernel.py\", line 775, in _clean_thread_parent_frames\n",
      "    def _clean_thread_parent_frames(\n",
      "\n",
      "KeyboardInterrupt: \n",
      "Exception ignored in: <bound method IPythonKernel._clean_thread_parent_frames of <ipykernel.ipkernel.IPythonKernel object at 0x7c41fe62d190>>\n",
      "Traceback (most recent call last):\n",
      "  File \"/home/divyajyoti/miniconda3/envs/gwpopulation/lib/python3.11/site-packages/ipykernel/ipkernel.py\", line 775, in _clean_thread_parent_frames\n",
      "    def _clean_thread_parent_frames(\n",
      "\n",
      "KeyboardInterrupt: \n",
      "Exception ignored in: <bound method IPythonKernel._clean_thread_parent_frames of <ipykernel.ipkernel.IPythonKernel object at 0x7c41fe62d190>>\n",
      "Traceback (most recent call last):\n",
      "  File \"/home/divyajyoti/miniconda3/envs/gwpopulation/lib/python3.11/site-packages/ipykernel/ipkernel.py\", line 775, in _clean_thread_parent_frames\n",
      "    def _clean_thread_parent_frames(\n",
      "\n",
      "KeyboardInterrupt: \n",
      "Exception ignored in: <bound method IPythonKernel._clean_thread_parent_frames of <ipykernel.ipkernel.IPythonKernel object at 0x7c41fe62d190>>\n",
      "Traceback (most recent call last):\n",
      "  File \"/home/divyajyoti/miniconda3/envs/gwpopulation/lib/python3.11/site-packages/ipykernel/ipkernel.py\", line 775, in _clean_thread_parent_frames\n",
      "    def _clean_thread_parent_frames(\n",
      "\n",
      "KeyboardInterrupt: \n",
      "Exception ignored in: <bound method IPythonKernel._clean_thread_parent_frames of <ipykernel.ipkernel.IPythonKernel object at 0x7c41fe62d190>>\n",
      "Traceback (most recent call last):\n",
      "  File \"/home/divyajyoti/miniconda3/envs/gwpopulation/lib/python3.11/site-packages/ipykernel/ipkernel.py\", line 775, in _clean_thread_parent_frames\n",
      "    def _clean_thread_parent_frames(\n",
      "\n",
      "KeyboardInterrupt: \n",
      "Exception ignored in: <bound method IPythonKernel._clean_thread_parent_frames of <ipykernel.ipkernel.IPythonKernel object at 0x7c41fe62d190>>\n",
      "Traceback (most recent call last):\n",
      "  File \"/home/divyajyoti/miniconda3/envs/gwpopulation/lib/python3.11/site-packages/ipykernel/ipkernel.py\", line 775, in _clean_thread_parent_frames\n",
      "    def _clean_thread_parent_frames(\n",
      "\n",
      "KeyboardInterrupt: \n",
      "Exception ignored in: <bound method IPythonKernel._clean_thread_parent_frames of <ipykernel.ipkernel.IPythonKernel object at 0x7c41fe62d190>>\n",
      "Traceback (most recent call last):\n",
      "  File \"/home/divyajyoti/miniconda3/envs/gwpopulation/lib/python3.11/site-packages/ipykernel/ipkernel.py\", line 775, in _clean_thread_parent_frames\n",
      "    def _clean_thread_parent_frames(\n",
      "\n",
      "KeyboardInterrupt: \n",
      "Exception ignored in: <bound method IPythonKernel._clean_thread_parent_frames of <ipykernel.ipkernel.IPythonKernel object at 0x7c41fe62d190>>\n",
      "Traceback (most recent call last):\n",
      "  File \"/home/divyajyoti/miniconda3/envs/gwpopulation/lib/python3.11/site-packages/ipykernel/ipkernel.py\", line 775, in _clean_thread_parent_frames\n",
      "    def _clean_thread_parent_frames(\n",
      "\n",
      "KeyboardInterrupt: \n",
      "Exception ignored in: <bound method IPythonKernel._clean_thread_parent_frames of <ipykernel.ipkernel.IPythonKernel object at 0x7c41fe62d190>>\n",
      "Traceback (most recent call last):\n",
      "  File \"/home/divyajyoti/miniconda3/envs/gwpopulation/lib/python3.11/site-packages/ipykernel/ipkernel.py\", line 775, in _clean_thread_parent_frames\n",
      "    def _clean_thread_parent_frames(\n",
      "\n",
      "KeyboardInterrupt: \n",
      "Exception ignored in: <bound method IPythonKernel._clean_thread_parent_frames of <ipykernel.ipkernel.IPythonKernel object at 0x7c41fe62d190>>\n",
      "Traceback (most recent call last):\n",
      "  File \"/home/divyajyoti/miniconda3/envs/gwpopulation/lib/python3.11/site-packages/ipykernel/ipkernel.py\", line 775, in _clean_thread_parent_frames\n",
      "    def _clean_thread_parent_frames(\n",
      "\n",
      "KeyboardInterrupt: \n"
     ]
    }
   ],
   "source": [
    "full_posterior = pd.DataFrame(\n",
    "    [func(parameters) for parameters in result.posterior.to_dict(orient=\"records\")]\n",
    ").astype(float)\n",
    "full_posterior.describe()"
   ]
  },
  {
   "cell_type": "code",
   "execution_count": null,
   "id": "c87dcde8-e22e-4869-a3ff-1f974fea27ed",
   "metadata": {},
   "outputs": [],
   "source": []
  }
 ],
 "metadata": {
  "kernelspec": {
   "display_name": "gwpopulation",
   "language": "python",
   "name": "gwpopulation"
  },
  "language_info": {
   "codemirror_mode": {
    "name": "ipython",
    "version": 3
   },
   "file_extension": ".py",
   "mimetype": "text/x-python",
   "name": "python",
   "nbconvert_exporter": "python",
   "pygments_lexer": "ipython3",
   "version": "3.11.11"
  }
 },
 "nbformat": 4,
 "nbformat_minor": 5
}
