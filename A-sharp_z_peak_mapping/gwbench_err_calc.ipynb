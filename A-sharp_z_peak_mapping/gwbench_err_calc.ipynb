{
 "cells": [
  {
   "cell_type": "code",
   "execution_count": 1,
   "id": "e5ff518f-6618-4cfe-ac1e-b36779febf6b",
   "metadata": {},
   "outputs": [],
   "source": [
    "import warnings\n",
    "warnings.filterwarnings(\"ignore\", \"Wswiglal-redir-stdio\")\n",
    "import h5py\n",
    "from gwbench import Network, injections_CBC_params_redshift\n",
    "import pandas as pd\n",
    "import deepdish as dd\n",
    "import os\n",
    "import numpy as np\n",
    "import pylab as plt\n",
    "from glob import glob\n",
    "from tqdm import tqdm\n",
    "import seaborn as sns"
   ]
  },
  {
   "cell_type": "markdown",
   "id": "67d25f69-3492-4284-bb23-4591aa00d003",
   "metadata": {},
   "source": [
    "## Get injection data SNRs"
   ]
  },
  {
   "cell_type": "code",
   "execution_count": 2,
   "id": "a7c9779b-0deb-473a-a773-0527f99e7618",
   "metadata": {},
   "outputs": [],
   "source": [
    "base_dir = '/home/divyajyoti/ACADEMIC/Projects/Cardiff_University/Next_gen_detectability/A-sharp-study/'\n",
    "inj_data_file = os.path.join(base_dir, 'SNR_output_files', 'BBH', \n",
    "                             'CE4020ET123_CoBA10_SNR_2_pop_PLP_spin_prec_z_MD_zmax_10_lmrd_22_365_days_corrected_td_SNR_data.h5')"
   ]
  },
  {
   "cell_type": "code",
   "execution_count": 98,
   "id": "2ab1c4ed-308b-4547-b761-23e39c610a4c",
   "metadata": {
    "scrolled": true
   },
   "outputs": [],
   "source": [
    "def decode_bytes_recursive(val):\n",
    "    if isinstance(val, bytes):\n",
    "        return val.decode('utf-8')\n",
    "    elif isinstance(val, np.ndarray):\n",
    "        if val.dtype.kind == 'S':  # Byte string array\n",
    "            return np.vectorize(lambda x: x.decode('utf-8'))(val)\n",
    "        elif val.dtype.kind in {'O'}:\n",
    "            return np.vectorize(decode_bytes_recursive)(val)\n",
    "        else:\n",
    "            return val\n",
    "    elif isinstance(val, list):\n",
    "        return [decode_bytes_recursive(v) for v in val]\n",
    "    elif isinstance(val, dict):\n",
    "        return {k: decode_bytes_recursive(v) for k, v in val.items()}\n",
    "    return val\n",
    "\n",
    "def load_h5_group(group):\n",
    "    data = {}\n",
    "    for key in group.keys():\n",
    "        item = group[key]\n",
    "        if isinstance(item, h5py.Dataset):\n",
    "            val = item[()]\n",
    "            data[key] = decode_bytes_recursive(val)\n",
    "        elif isinstance(item, h5py.Group):\n",
    "            data[key] = load_h5_group(item)\n",
    "    return data"
   ]
  },
  {
   "cell_type": "code",
   "execution_count": 99,
   "id": "6e475de3-f9b5-455e-9c28-3f824b739877",
   "metadata": {
    "scrolled": true
   },
   "outputs": [],
   "source": [
    "# Main loader\n",
    "inj_data = {}\n",
    "with h5py.File(inj_data_file, 'r') as f:\n",
    "    for key in f.keys():\n",
    "        item = f[key]\n",
    "        if isinstance(item, h5py.Dataset):\n",
    "            val = item[()]\n",
    "            inj_data[key] = decode_bytes_recursive(val)\n",
    "        elif isinstance(item, h5py.Group):\n",
    "            inj_data[key] = load_h5_group(item)"
   ]
  },
  {
   "cell_type": "code",
   "execution_count": 96,
   "id": "62baf7b3-8e9e-4be7-b360-756ea3bbf77e",
   "metadata": {
    "scrolled": true
   },
   "outputs": [
    {
     "data": {
      "text/html": [
       "<div>\n",
       "<style scoped>\n",
       "    .dataframe tbody tr th:only-of-type {\n",
       "        vertical-align: middle;\n",
       "    }\n",
       "\n",
       "    .dataframe tbody tr th {\n",
       "        vertical-align: top;\n",
       "    }\n",
       "\n",
       "    .dataframe thead th {\n",
       "        text-align: right;\n",
       "    }\n",
       "</style>\n",
       "<table border=\"1\" class=\"dataframe\">\n",
       "  <thead>\n",
       "    <tr style=\"text-align: right;\">\n",
       "      <th></th>\n",
       "      <th>PSD_C1</th>\n",
       "      <th>PSD_CE20</th>\n",
       "      <th>PSD_E1</th>\n",
       "      <th>PSD_E2</th>\n",
       "      <th>PSD_E3</th>\n",
       "      <th>SNR_C1</th>\n",
       "      <th>SNR_CE20</th>\n",
       "      <th>SNR_E1</th>\n",
       "      <th>SNR_E2</th>\n",
       "      <th>SNR_E3</th>\n",
       "      <th>...</th>\n",
       "      <th>spin2x</th>\n",
       "      <th>spin2y</th>\n",
       "      <th>spin2z</th>\n",
       "      <th>srcmass1</th>\n",
       "      <th>srcmass2</th>\n",
       "      <th>srcmchirp</th>\n",
       "      <th>srcmtotal</th>\n",
       "      <th>theta_jn</th>\n",
       "      <th>time_interval</th>\n",
       "      <th>trigger_time</th>\n",
       "    </tr>\n",
       "  </thead>\n",
       "  <tbody>\n",
       "    <tr>\n",
       "      <th>0</th>\n",
       "      <td>CE40</td>\n",
       "      <td>CE20</td>\n",
       "      <td>ET10_CoBA</td>\n",
       "      <td>ET10_CoBA</td>\n",
       "      <td>ET10_CoBA</td>\n",
       "      <td>31.584064</td>\n",
       "      <td>13.091829</td>\n",
       "      <td>4.419143</td>\n",
       "      <td>6.820991</td>\n",
       "      <td>5.231748</td>\n",
       "      <td>...</td>\n",
       "      <td>0.239489</td>\n",
       "      <td>-0.854048</td>\n",
       "      <td>0.397808</td>\n",
       "      <td>6.675367</td>\n",
       "      <td>6.487496</td>\n",
       "      <td>5.728769</td>\n",
       "      <td>13.162863</td>\n",
       "      <td>1.405201</td>\n",
       "      <td>415.946042</td>\n",
       "      <td>1.893024e+09</td>\n",
       "    </tr>\n",
       "    <tr>\n",
       "      <th>1</th>\n",
       "      <td>CE40</td>\n",
       "      <td>CE20</td>\n",
       "      <td>ET10_CoBA</td>\n",
       "      <td>ET10_CoBA</td>\n",
       "      <td>ET10_CoBA</td>\n",
       "      <td>37.795599</td>\n",
       "      <td>18.504843</td>\n",
       "      <td>18.208891</td>\n",
       "      <td>17.463271</td>\n",
       "      <td>16.897894</td>\n",
       "      <td>...</td>\n",
       "      <td>-0.110467</td>\n",
       "      <td>0.069273</td>\n",
       "      <td>0.018477</td>\n",
       "      <td>8.189928</td>\n",
       "      <td>4.554110</td>\n",
       "      <td>5.271677</td>\n",
       "      <td>12.744038</td>\n",
       "      <td>2.733539</td>\n",
       "      <td>216.014409</td>\n",
       "      <td>1.893025e+09</td>\n",
       "    </tr>\n",
       "    <tr>\n",
       "      <th>2</th>\n",
       "      <td>CE40</td>\n",
       "      <td>CE20</td>\n",
       "      <td>ET10_CoBA</td>\n",
       "      <td>ET10_CoBA</td>\n",
       "      <td>ET10_CoBA</td>\n",
       "      <td>20.699223</td>\n",
       "      <td>11.282040</td>\n",
       "      <td>13.231854</td>\n",
       "      <td>13.445186</td>\n",
       "      <td>12.602386</td>\n",
       "      <td>...</td>\n",
       "      <td>-0.003122</td>\n",
       "      <td>-0.017818</td>\n",
       "      <td>-0.005669</td>\n",
       "      <td>10.569285</td>\n",
       "      <td>9.315992</td>\n",
       "      <td>8.634924</td>\n",
       "      <td>19.885277</td>\n",
       "      <td>2.276711</td>\n",
       "      <td>138.279527</td>\n",
       "      <td>1.893025e+09</td>\n",
       "    </tr>\n",
       "    <tr>\n",
       "      <th>3</th>\n",
       "      <td>CE40</td>\n",
       "      <td>CE20</td>\n",
       "      <td>ET10_CoBA</td>\n",
       "      <td>ET10_CoBA</td>\n",
       "      <td>ET10_CoBA</td>\n",
       "      <td>15.500984</td>\n",
       "      <td>5.679441</td>\n",
       "      <td>3.507964</td>\n",
       "      <td>4.587902</td>\n",
       "      <td>2.511443</td>\n",
       "      <td>...</td>\n",
       "      <td>-0.017713</td>\n",
       "      <td>0.024490</td>\n",
       "      <td>-0.093127</td>\n",
       "      <td>7.643692</td>\n",
       "      <td>3.954608</td>\n",
       "      <td>4.735492</td>\n",
       "      <td>11.598300</td>\n",
       "      <td>0.715030</td>\n",
       "      <td>255.327947</td>\n",
       "      <td>1.893025e+09</td>\n",
       "    </tr>\n",
       "    <tr>\n",
       "      <th>4</th>\n",
       "      <td>CE40</td>\n",
       "      <td>CE20</td>\n",
       "      <td>ET10_CoBA</td>\n",
       "      <td>ET10_CoBA</td>\n",
       "      <td>ET10_CoBA</td>\n",
       "      <td>18.376212</td>\n",
       "      <td>6.866110</td>\n",
       "      <td>26.595651</td>\n",
       "      <td>22.634847</td>\n",
       "      <td>38.253786</td>\n",
       "      <td>...</td>\n",
       "      <td>0.224326</td>\n",
       "      <td>0.076467</td>\n",
       "      <td>-0.586815</td>\n",
       "      <td>32.661259</td>\n",
       "      <td>31.489093</td>\n",
       "      <td>27.917469</td>\n",
       "      <td>64.150352</td>\n",
       "      <td>1.629448</td>\n",
       "      <td>1861.574855</td>\n",
       "      <td>1.893027e+09</td>\n",
       "    </tr>\n",
       "    <tr>\n",
       "      <th>...</th>\n",
       "      <td>...</td>\n",
       "      <td>...</td>\n",
       "      <td>...</td>\n",
       "      <td>...</td>\n",
       "      <td>...</td>\n",
       "      <td>...</td>\n",
       "      <td>...</td>\n",
       "      <td>...</td>\n",
       "      <td>...</td>\n",
       "      <td>...</td>\n",
       "      <td>...</td>\n",
       "      <td>...</td>\n",
       "      <td>...</td>\n",
       "      <td>...</td>\n",
       "      <td>...</td>\n",
       "      <td>...</td>\n",
       "      <td>...</td>\n",
       "      <td>...</td>\n",
       "      <td>...</td>\n",
       "      <td>...</td>\n",
       "      <td>...</td>\n",
       "    </tr>\n",
       "    <tr>\n",
       "      <th>31723</th>\n",
       "      <td>CE40</td>\n",
       "      <td>CE20</td>\n",
       "      <td>ET10_CoBA</td>\n",
       "      <td>ET10_CoBA</td>\n",
       "      <td>ET10_CoBA</td>\n",
       "      <td>14.259784</td>\n",
       "      <td>8.429902</td>\n",
       "      <td>1.888199</td>\n",
       "      <td>0.129732</td>\n",
       "      <td>1.875037</td>\n",
       "      <td>...</td>\n",
       "      <td>0.031301</td>\n",
       "      <td>-0.007168</td>\n",
       "      <td>0.126385</td>\n",
       "      <td>8.118676</td>\n",
       "      <td>7.077545</td>\n",
       "      <td>6.595893</td>\n",
       "      <td>15.196221</td>\n",
       "      <td>1.406815</td>\n",
       "      <td>456.839222</td>\n",
       "      <td>1.924702e+09</td>\n",
       "    </tr>\n",
       "    <tr>\n",
       "      <th>31724</th>\n",
       "      <td>CE40</td>\n",
       "      <td>CE20</td>\n",
       "      <td>ET10_CoBA</td>\n",
       "      <td>ET10_CoBA</td>\n",
       "      <td>ET10_CoBA</td>\n",
       "      <td>51.578699</td>\n",
       "      <td>10.994028</td>\n",
       "      <td>22.573875</td>\n",
       "      <td>20.080226</td>\n",
       "      <td>14.581740</td>\n",
       "      <td>...</td>\n",
       "      <td>0.003559</td>\n",
       "      <td>0.057013</td>\n",
       "      <td>-0.031519</td>\n",
       "      <td>9.865644</td>\n",
       "      <td>6.252576</td>\n",
       "      <td>6.802166</td>\n",
       "      <td>16.118219</td>\n",
       "      <td>0.357377</td>\n",
       "      <td>2398.698252</td>\n",
       "      <td>1.924704e+09</td>\n",
       "    </tr>\n",
       "    <tr>\n",
       "      <th>31725</th>\n",
       "      <td>CE40</td>\n",
       "      <td>CE20</td>\n",
       "      <td>ET10_CoBA</td>\n",
       "      <td>ET10_CoBA</td>\n",
       "      <td>ET10_CoBA</td>\n",
       "      <td>95.256417</td>\n",
       "      <td>75.949057</td>\n",
       "      <td>14.860047</td>\n",
       "      <td>31.949545</td>\n",
       "      <td>24.777753</td>\n",
       "      <td>...</td>\n",
       "      <td>-0.321144</td>\n",
       "      <td>0.208551</td>\n",
       "      <td>-0.037655</td>\n",
       "      <td>27.424645</td>\n",
       "      <td>21.917513</td>\n",
       "      <td>21.316492</td>\n",
       "      <td>49.342158</td>\n",
       "      <td>2.231795</td>\n",
       "      <td>1968.124680</td>\n",
       "      <td>1.924706e+09</td>\n",
       "    </tr>\n",
       "    <tr>\n",
       "      <th>31726</th>\n",
       "      <td>CE40</td>\n",
       "      <td>CE20</td>\n",
       "      <td>ET10_CoBA</td>\n",
       "      <td>ET10_CoBA</td>\n",
       "      <td>ET10_CoBA</td>\n",
       "      <td>43.363494</td>\n",
       "      <td>31.844956</td>\n",
       "      <td>18.688884</td>\n",
       "      <td>19.455662</td>\n",
       "      <td>19.824611</td>\n",
       "      <td>...</td>\n",
       "      <td>0.015982</td>\n",
       "      <td>0.289463</td>\n",
       "      <td>-0.924451</td>\n",
       "      <td>11.347814</td>\n",
       "      <td>9.822560</td>\n",
       "      <td>9.186211</td>\n",
       "      <td>21.170374</td>\n",
       "      <td>2.466810</td>\n",
       "      <td>2113.399173</td>\n",
       "      <td>1.924708e+09</td>\n",
       "    </tr>\n",
       "    <tr>\n",
       "      <th>31727</th>\n",
       "      <td>CE40</td>\n",
       "      <td>CE20</td>\n",
       "      <td>ET10_CoBA</td>\n",
       "      <td>ET10_CoBA</td>\n",
       "      <td>ET10_CoBA</td>\n",
       "      <td>58.525056</td>\n",
       "      <td>35.262792</td>\n",
       "      <td>17.956560</td>\n",
       "      <td>17.295922</td>\n",
       "      <td>18.787487</td>\n",
       "      <td>...</td>\n",
       "      <td>-0.527061</td>\n",
       "      <td>-0.217366</td>\n",
       "      <td>-0.029817</td>\n",
       "      <td>9.212460</td>\n",
       "      <td>8.604628</td>\n",
       "      <td>7.749921</td>\n",
       "      <td>17.817088</td>\n",
       "      <td>0.276702</td>\n",
       "      <td>299.022545</td>\n",
       "      <td>1.924709e+09</td>\n",
       "    </tr>\n",
       "  </tbody>\n",
       "</table>\n",
       "<p>31728 rows × 62 columns</p>\n",
       "</div>"
      ],
      "text/plain": [
       "      PSD_C1 PSD_CE20     PSD_E1     PSD_E2     PSD_E3     SNR_C1   SNR_CE20  \\\n",
       "0       CE40     CE20  ET10_CoBA  ET10_CoBA  ET10_CoBA  31.584064  13.091829   \n",
       "1       CE40     CE20  ET10_CoBA  ET10_CoBA  ET10_CoBA  37.795599  18.504843   \n",
       "2       CE40     CE20  ET10_CoBA  ET10_CoBA  ET10_CoBA  20.699223  11.282040   \n",
       "3       CE40     CE20  ET10_CoBA  ET10_CoBA  ET10_CoBA  15.500984   5.679441   \n",
       "4       CE40     CE20  ET10_CoBA  ET10_CoBA  ET10_CoBA  18.376212   6.866110   \n",
       "...      ...      ...        ...        ...        ...        ...        ...   \n",
       "31723   CE40     CE20  ET10_CoBA  ET10_CoBA  ET10_CoBA  14.259784   8.429902   \n",
       "31724   CE40     CE20  ET10_CoBA  ET10_CoBA  ET10_CoBA  51.578699  10.994028   \n",
       "31725   CE40     CE20  ET10_CoBA  ET10_CoBA  ET10_CoBA  95.256417  75.949057   \n",
       "31726   CE40     CE20  ET10_CoBA  ET10_CoBA  ET10_CoBA  43.363494  31.844956   \n",
       "31727   CE40     CE20  ET10_CoBA  ET10_CoBA  ET10_CoBA  58.525056  35.262792   \n",
       "\n",
       "          SNR_E1     SNR_E2     SNR_E3  ...    spin2x    spin2y    spin2z  \\\n",
       "0       4.419143   6.820991   5.231748  ...  0.239489 -0.854048  0.397808   \n",
       "1      18.208891  17.463271  16.897894  ... -0.110467  0.069273  0.018477   \n",
       "2      13.231854  13.445186  12.602386  ... -0.003122 -0.017818 -0.005669   \n",
       "3       3.507964   4.587902   2.511443  ... -0.017713  0.024490 -0.093127   \n",
       "4      26.595651  22.634847  38.253786  ...  0.224326  0.076467 -0.586815   \n",
       "...          ...        ...        ...  ...       ...       ...       ...   \n",
       "31723   1.888199   0.129732   1.875037  ...  0.031301 -0.007168  0.126385   \n",
       "31724  22.573875  20.080226  14.581740  ...  0.003559  0.057013 -0.031519   \n",
       "31725  14.860047  31.949545  24.777753  ... -0.321144  0.208551 -0.037655   \n",
       "31726  18.688884  19.455662  19.824611  ...  0.015982  0.289463 -0.924451   \n",
       "31727  17.956560  17.295922  18.787487  ... -0.527061 -0.217366 -0.029817   \n",
       "\n",
       "        srcmass1   srcmass2  srcmchirp  srcmtotal  theta_jn  time_interval  \\\n",
       "0       6.675367   6.487496   5.728769  13.162863  1.405201     415.946042   \n",
       "1       8.189928   4.554110   5.271677  12.744038  2.733539     216.014409   \n",
       "2      10.569285   9.315992   8.634924  19.885277  2.276711     138.279527   \n",
       "3       7.643692   3.954608   4.735492  11.598300  0.715030     255.327947   \n",
       "4      32.661259  31.489093  27.917469  64.150352  1.629448    1861.574855   \n",
       "...          ...        ...        ...        ...       ...            ...   \n",
       "31723   8.118676   7.077545   6.595893  15.196221  1.406815     456.839222   \n",
       "31724   9.865644   6.252576   6.802166  16.118219  0.357377    2398.698252   \n",
       "31725  27.424645  21.917513  21.316492  49.342158  2.231795    1968.124680   \n",
       "31726  11.347814   9.822560   9.186211  21.170374  2.466810    2113.399173   \n",
       "31727   9.212460   8.604628   7.749921  17.817088  0.276702     299.022545   \n",
       "\n",
       "       trigger_time  \n",
       "0      1.893024e+09  \n",
       "1      1.893025e+09  \n",
       "2      1.893025e+09  \n",
       "3      1.893025e+09  \n",
       "4      1.893027e+09  \n",
       "...             ...  \n",
       "31723  1.924702e+09  \n",
       "31724  1.924704e+09  \n",
       "31725  1.924706e+09  \n",
       "31726  1.924708e+09  \n",
       "31727  1.924709e+09  \n",
       "\n",
       "[31728 rows x 62 columns]"
      ]
     },
     "execution_count": 96,
     "metadata": {},
     "output_type": "execute_result"
    }
   ],
   "source": [
    "pd.DataFrame(inj_data['results'])"
   ]
  },
  {
   "cell_type": "code",
   "execution_count": 105,
   "id": "ef128310-c5c8-4650-ab3a-73a0e0ac9755",
   "metadata": {},
   "outputs": [],
   "source": [
    "def get_detected_SNRs(data_dict, ifo_threshold=5, network_threshold=12, \n",
    "                      method='network', return_detected_dict=False, \n",
    "                      snr_type='opt'):\n",
    "    if type(data_dict) == pd.core.frame.DataFrame:\n",
    "        pass\n",
    "    else:\n",
    "        data_dict = pd.DataFrame(data_dict)\n",
    "    if snr_type == 'opt':\n",
    "        SNR_keys = [key for key in data_dict.keys() if 'SNR' in key and 'mf' not in key]\n",
    "        print(SNR_keys)\n",
    "    elif snr_type == 'mf':\n",
    "        SNR_keys = [key for key in data_dict.keys() if 'SNR_mf' in key]\n",
    "        print(SNR_keys)\n",
    "    else:\n",
    "        raise KeyError('Please choose snr_type from \"opt\" or \"mf\"')\n",
    "    detected_bool_dict = {}\n",
    "    detected_dict = {}\n",
    "    \n",
    "    for key in SNR_keys:\n",
    "        if snr_type == 'opt':\n",
    "            dict_key = key.split('SNR_')[-1]\n",
    "        elif snr_type == 'mf':\n",
    "            dict_key = key.split('SNR_mf_')[-1]\n",
    "        \n",
    "        if \"network\" in key:\n",
    "            threshold = network_threshold\n",
    "        else:\n",
    "            threshold = ifo_threshold\n",
    "\n",
    "        detected_bool_dict[dict_key] = data_dict[key] >= threshold\n",
    "        detected_dict[dict_key] = data_dict[detected_bool_dict[dict_key]]\n",
    "\n",
    "    if method=='all':\n",
    "        detected_events_df = data_dict[np.all(tuple(detected_bool_dict.values()), axis=0) & detected_bool_dict['network']]\n",
    "    elif method == 'two-detector':\n",
    "        detector_keys = [key for key in detected_bool_dict.keys() if key != 'network']\n",
    "        detection_sum = np.sum([detected_bool_dict[key] for key in detector_keys], axis=0)\n",
    "        detected_events_df = data_dict[(detection_sum >= 2) & (detected_bool_dict['network'])]\n",
    "    elif method=='network':\n",
    "        detected_events_df = detected_dict['network']\n",
    "\n",
    "    if return_detected_dict:\n",
    "        return(detected_events_df, detected_dict)\n",
    "    else:\n",
    "        return(detected_events_df)"
   ]
  },
  {
   "cell_type": "code",
   "execution_count": 106,
   "id": "76e3decd-03f2-49c6-a05a-0d687ac85332",
   "metadata": {},
   "outputs": [
    {
     "data": {
      "text/plain": [
       "<matplotlib.legend.Legend at 0x77c608c8ffa0>"
      ]
     },
     "execution_count": 106,
     "metadata": {},
     "output_type": "execute_result"
    },
    {
     "data": {
      "image/png": "[encoded data removed]",
      "text/plain": [
       "<Figure size 640x480 with 1 Axes>"
      ]
     },
     "metadata": {},
     "output_type": "display_data"
    }
   ],
   "source": [
    "plt.hist(inj_data['results']['SNR_mf_network'], bins=50, histtype=u'step', label='MF');\n",
    "plt.hist(inj_data['results']['SNR_network'], bins=50, histtype=u'step', label='Optimal');\n",
    "plt.xlabel('SNR')\n",
    "plt.legend()"
   ]
  },
  {
   "cell_type": "code",
   "execution_count": 107,
   "id": "3134163a-b594-427b-87c8-b273181e340d",
   "metadata": {},
   "outputs": [
    {
     "name": "stdout",
     "output_type": "stream",
     "text": [
      "['SNR_C1', 'SNR_CE20', 'SNR_E1', 'SNR_E2', 'SNR_E3', 'SNR_network']\n"
     ]
    }
   ],
   "source": [
    "inj_data['detected_mf'] = get_detected_SNRs(inj_data['results'], method='two-detector')"
   ]
  },
  {
   "cell_type": "markdown",
   "id": "a176ec62-1d66-43f7-a5d0-15e2ecc5d341",
   "metadata": {},
   "source": [
    "### Choose n_events from detected as injection parameters"
   ]
  },
  {
   "cell_type": "code",
   "execution_count": 108,
   "id": "a912430c-7bc6-4101-a2aa-50cd2c7af3ee",
   "metadata": {},
   "outputs": [
    {
     "data": {
      "text/plain": [
       "(31728, 30404)"
      ]
     },
     "execution_count": 108,
     "metadata": {},
     "output_type": "execute_result"
    }
   ],
   "source": [
    "len(inj_data['results']['redshift']), len(inj_data['detected_mf']['redshift'])"
   ]
  },
  {
   "cell_type": "code",
   "execution_count": 109,
   "id": "68f6f9ca-0cf1-409b-9685-fb879909586f",
   "metadata": {},
   "outputs": [],
   "source": [
    "n_events = 1500\n",
    "inj_data['selected_n_events'] = inj_data['detected_mf'].sample(n_events, random_state=123).sort_index()"
   ]
  },
  {
   "cell_type": "code",
   "execution_count": 110,
   "id": "2013bda2-5745-4e75-a143-191f2dcdc1e8",
   "metadata": {},
   "outputs": [
    {
     "data": {
      "text/plain": [
       "<matplotlib.legend.Legend at 0x77c608b5ded0>"
      ]
     },
     "execution_count": 110,
     "metadata": {},
     "output_type": "execute_result"
    },
    {
     "data": {
      "image/png": "[encoded data removed]",
      "text/plain": [
       "<Figure size 640x480 with 1 Axes>"
      ]
     },
     "metadata": {},
     "output_type": "display_data"
    }
   ],
   "source": [
    "plt.hist(inj_data['detected_mf']['redshift'], density=True, histtype=u'step', bins=50, label='Detected')\n",
    "plt.hist(inj_data['selected_n_events']['redshift'], density=True, histtype=u'step', bins=30, label='Selected');\n",
    "plt.legend()"
   ]
  },
  {
   "cell_type": "markdown",
   "id": "e5332943-7fee-41c2-965b-b7f0e929846f",
   "metadata": {},
   "source": [
    "## FM analysis with GWBench"
   ]
  },
  {
   "cell_type": "markdown",
   "id": "64890cf4-ef5d-41b1-9911-e2a99529791d",
   "metadata": {},
   "source": [
    "### Setup"
   ]
  },
  {
   "cell_type": "code",
   "execution_count": 59,
   "id": "6fb726cf-4bb4-4061-892e-0c87cd7654a8",
   "metadata": {},
   "outputs": [],
   "source": [
    "fm_params_str = 'Mc eta DL iota tc phic ra dec psi'\n",
    "def run_analysis(inj_params, logging_level='WARNING', num_cores=2):\n",
    "    f\"\"\"\n",
    "    Parameters:\n",
    "    -------------------------------------------------------------\n",
    "    inj_params: dict\n",
    "        dict with keys: Mc, eta, tc, phic, \n",
    "                        DL, iota, ra, dec, psi, \n",
    "                        chi1x, chi1y, chi1z, chi2x, chi2y, chi2z\n",
    "    Returns:\n",
    "    -----------------------\n",
    "    FM: matrix\n",
    "        Fisher matrix with parameter order as: {fm_params_str}\n",
    "    cov: matrix\n",
    "        Covariance matrix corresponding to the FM\n",
    "    errors: dict\n",
    "        Parameter errors\n",
    "    \"\"\"\n",
    "    wf_model_name = 'lal_bbh'\n",
    "    wf_other_var_dic = {'approximant':'IMRPhenomXHM'}\n",
    "    user_psds = {'A-Sharp':{'psd_file': '/home/divyajyoti/ACADEMIC/Projects/Cardiff_University/Next_gen_detectability/scripts/next_gen_detect/noise_curves/Asharp-asd.txt', \n",
    "                            'is_asd': True},\n",
    "                 'CE40':{'psd_file': '/home/divyajyoti/ACADEMIC/Projects/Cardiff_University/Next_gen_detectability/scripts/next_gen_detect/noise_curves/CE40-asd.txt', \n",
    "                         'is_asd': True}, \n",
    "                 'CE20':{'psd_file': '/home/divyajyoti/ACADEMIC/Projects/Cardiff_University/Next_gen_detectability/scripts/next_gen_detect/noise_curves/CE20-asd.txt', \n",
    "                         'is_asd': True}, \n",
    "                 'ET10-CoBA':{'psd_file': '/home/divyajyoti/ACADEMIC/Projects/Cardiff_University/Next_gen_detectability/scripts/next_gen_detect/noise_curves/18213_ET10kmcolumns.txt', \n",
    "                              'is_asd': False}}\n",
    "    user_locs = {'C1':{'longitude': -2.06175744538, 'latitude': 0.59637900541, 'arm_azimuth':0, 'which_arm':'y', 'shape':'L'}}\n",
    "    conv_log = ('Mc', 'DL')\n",
    "    ana_deriv_symbs_string = 'DL tc phic ra dec psi'\n",
    "    network_spec = ['CE40_C1', 'CE20_CEB', 'ET10-CoBA_ET1', 'ET10-CoBA_ET2', 'ET10-CoBA_ET3']\n",
    "    f_low = 5\n",
    "    f_high = 1024\n",
    "    df = 1/16\n",
    "    f_arr = np.arange(f_low, f_high+df, df)\n",
    "    net = Network(network_spec, logger_level=logging_level)\n",
    "    net.set_net_vars(wf_model_name=wf_model_name, \n",
    "                     wf_other_var_dic=wf_other_var_dic,\n",
    "                     f=f_arr, \n",
    "                     inj_params=inj_params,\n",
    "                     deriv_symbs_string=fm_params_str,\n",
    "                     ana_deriv_symbs_string=ana_deriv_symbs_string,\n",
    "                     conv_log=conv_log, \n",
    "                     user_psds=user_psds,\n",
    "                     user_locs=user_locs)\n",
    "    net.calc_errors(derivs='num', f_lo=f_low, f_hi=f_high, num_cores=num_cores)\n",
    "    return(net.fisher, net.cov, net.errs, net.snr, net.deriv_variables, net.inv_err['inv_err'])"
   ]
  },
  {
   "cell_type": "markdown",
   "id": "ba1567a8-5bcd-431d-8ad5-ff73c59ecab3",
   "metadata": {},
   "source": [
    "### Calculate Errors"
   ]
  },
  {
   "cell_type": "code",
   "execution_count": 60,
   "id": "fbaf1432-64ee-490c-bfda-a792644b567b",
   "metadata": {},
   "outputs": [],
   "source": [
    "gwbench_to_pycbc_map = {\n",
    "    'Mc': 'mchirp',\n",
    "    'eta': 'eta',\n",
    "    'DL': 'distance',\n",
    "    'iota': 'inclination',\n",
    "    'ra': 'ra',\n",
    "    'dec': 'dec',\n",
    "    'psi': 'polarization',\n",
    "    'chi1z': 'spin1z',\n",
    "    'chi2z': 'spin2z'\n",
    "}"
   ]
  },
  {
   "cell_type": "code",
   "execution_count": 61,
   "id": "9b6c1647-2dc0-48ce-b408-a01d3557666b",
   "metadata": {},
   "outputs": [
    {
     "name": "stderr",
     "output_type": "stream",
     "text": [
      "100%|████████████████████████████████████████████████████████████████████████████████████████████████████████████████████████████████████████████████████████████████████████████████████████████████████████████████████████████████████████████████████████████████████████████████| 1500/1500 [37:18<00:00,  1.49s/it]\n"
     ]
    }
   ],
   "source": [
    "inj_records = inj_data['selected_n_events'].to_records()\n",
    "results = {'inj_params':[], 'cov':[], 'errs':[]}\n",
    "failed_events = {'inj_params':[]}\n",
    "#for event_num in tqdm(range(3)):\n",
    "for event_num in tqdm(range(len(inj_records))):\n",
    "    params_i = inj_records[event_num]\n",
    "    inj_params = {'chi1x': 0, \n",
    "                  'chi1y': 0,\n",
    "                  'chi2x': 0,\n",
    "                  'chi2y': 0,\n",
    "                  'chi1z': 0,\n",
    "                  'chi2z': 0}\n",
    "    for param in fm_params_str.split():\n",
    "        if param == 'tc' or param == 'phic':\n",
    "            inj_params[param] = 0\n",
    "        else:\n",
    "            inj_params[param] = params_i[gwbench_to_pycbc_map[param]]\n",
    "    try:\n",
    "        fm, cov, errs, snr, deriv_vars, inv_err = run_analysis(inj_params, num_cores=4)\n",
    "        results['inj_params'].append(inj_params)\n",
    "        errs['snr'] = snr\n",
    "        errs['inv_err'] = inv_err\n",
    "        results['cov'].append(cov)\n",
    "        results['errs'].append(errs)\n",
    "        results['deriv_variables_in_order'] = deriv_vars\n",
    "    except:\n",
    "        failed_events['inj_params'].append(inj_params)"
   ]
  },
  {
   "cell_type": "code",
   "execution_count": 126,
   "id": "36777c18-56b7-477f-b4ec-7eaf957255de",
   "metadata": {},
   "outputs": [],
   "source": [
    "results['all_inj_params_original'] = []\n",
    "for event_num in range(len(inj_records)):\n",
    "    params_i = inj_records[event_num]\n",
    "    results['all_inj_params_original'].append({key:params_i[key] for key in params_i.dtype.names})"
   ]
  },
  {
   "cell_type": "markdown",
   "id": "76f20a95-3d62-45c5-bb72-dfc1b0c1df1c",
   "metadata": {},
   "source": [
    "### Check if cov matrices are positive-definite"
   ]
  },
  {
   "cell_type": "code",
   "execution_count": 112,
   "id": "369a0fec-f1b7-4aa9-a0d3-c55e12d55fab",
   "metadata": {},
   "outputs": [],
   "source": [
    "failed = []\n",
    "for event in range(len(inj_records)):\n",
    "    cov = results['cov'][event]  # the covariance matrix\n",
    "    try:\n",
    "        np.linalg.cholesky(cov)\n",
    "    except np.linalg.LinAlgError:\n",
    "        failed.append(event)"
   ]
  },
  {
   "cell_type": "code",
   "execution_count": 113,
   "id": "502e7226-3430-44bd-9b1a-0b28fded12d4",
   "metadata": {},
   "outputs": [
    {
     "data": {
      "text/plain": [
       "[]"
      ]
     },
     "execution_count": 113,
     "metadata": {},
     "output_type": "execute_result"
    }
   ],
   "source": [
    "failed"
   ]
  },
  {
   "cell_type": "markdown",
   "id": "e881fb60-213c-4f5a-a65c-f896a0143d64",
   "metadata": {},
   "source": [
    "### Add redshift to results file"
   ]
  },
  {
   "cell_type": "code",
   "execution_count": 114,
   "id": "d96ec0a3-1dd1-4e44-93b6-d9bfab2c9167",
   "metadata": {},
   "outputs": [],
   "source": [
    "i=0\n",
    "for DL, z in zip(inj_data['selected_n_events']['distance'], inj_data['selected_n_events']['redshift']):\n",
    "    if len(failed_events['inj_params']) == 0:\n",
    "        results['inj_params'][i]['z'] = z\n",
    "        i += 1\n",
    "    else:\n",
    "        if DL == failed_events['inj_params'][0]['DL']:\n",
    "            print(f'Skipping event number {i}')\n",
    "        else:\n",
    "            results['inj_params'][i]['z'] = z\n",
    "            i += 1"
   ]
  },
  {
   "cell_type": "code",
   "execution_count": 115,
   "id": "76c6ec91-d44e-4bb0-a80f-0576f7ccf2ab",
   "metadata": {},
   "outputs": [
    {
     "data": {
      "text/plain": [
       "Text(0.5, 0, '$\\\\Delta D_L / D_L$')"
      ]
     },
     "execution_count": 115,
     "metadata": {},
     "output_type": "execute_result"
    },
    {
     "data": {
      "image/png": "[encoded data removed]",
      "text/plain": [
       "<Figure size 640x480 with 1 Axes>"
      ]
     },
     "metadata": {},
     "output_type": "display_data"
    }
   ],
   "source": [
    "plt.hist([results['errs'][i]['log_DL'] for i in range(len(results['errs']))], bins=50);\n",
    "plt.xlabel('$\\Delta D_L / D_L$')"
   ]
  },
  {
   "cell_type": "code",
   "execution_count": 116,
   "id": "ea013840-526f-4f11-b44c-dd9ebc2497f3",
   "metadata": {},
   "outputs": [
    {
     "data": {
      "text/plain": [
       "{'inj_params': []}"
      ]
     },
     "execution_count": 116,
     "metadata": {},
     "output_type": "execute_result"
    }
   ],
   "source": [
    "failed_events"
   ]
  },
  {
   "cell_type": "code",
   "execution_count": 117,
   "id": "105bdbdb-0069-4c0f-bfbe-6d9754a942bc",
   "metadata": {},
   "outputs": [
    {
     "data": {
      "image/png": "[encoded data removed]",
      "text/plain": [
       "<Figure size 640x480 with 1 Axes>"
      ]
     },
     "metadata": {},
     "output_type": "display_data"
    },
    {
     "data": {
      "image/png": "[encoded data removed]",
      "text/plain": [
       "<Figure size 640x480 with 1 Axes>"
      ]
     },
     "metadata": {},
     "output_type": "display_data"
    }
   ],
   "source": [
    "x = []\n",
    "for i, dist, snr in zip(range(len(inj_records)), \n",
    "                        inj_data['selected_n_events']['distance'], \n",
    "                        inj_data['selected_n_events']['SNR_mf_network']):\n",
    "    if len(failed_events['inj_params']) == 0:\n",
    "        x.append(snr)\n",
    "    else:\n",
    "        if dist != (failed_events['inj_params'][0]['DL']):\n",
    "            x.append(snr)\n",
    "gwbench_snrs = pd.DataFrame(results['errs'])['snr']\n",
    "y = x/gwbench_snrs\n",
    "plt.plot(x, y, '.')\n",
    "plt.xlabel('Injected SNR (Netw)')\n",
    "plt.ylabel('inj_SNR / gwbench_SNR')\n",
    "plt.axhline(1, c='k')\n",
    "\n",
    "plt.figure()\n",
    "plt.hist(gwbench_snrs, bins=30);"
   ]
  },
  {
   "cell_type": "markdown",
   "id": "022bccc9-f430-4b20-bd9f-d0fe6e4cd1ef",
   "metadata": {},
   "source": [
    "## Save to h5 file"
   ]
  },
  {
   "cell_type": "code",
   "execution_count": 130,
   "id": "98e1ef62-eb7d-48b6-9fd6-49966e2f9574",
   "metadata": {},
   "outputs": [],
   "source": [
    "def save_results_to_h5(results, filename):\n",
    "    with h5py.File(filename, 'w') as f:\n",
    "        # Save inj_params\n",
    "        inj_params_group = f.create_group('inj_params')\n",
    "        for i, param_dict in enumerate(results['inj_params']):\n",
    "            param_group = inj_params_group.create_group(str(i))\n",
    "            for key, value in param_dict.items():\n",
    "                param_group.create_dataset(key, data=value)\n",
    "\n",
    "        # Save cov (numpy matrices)\n",
    "        cov_group = f.create_group('cov')\n",
    "        for i, matrix in enumerate(results['cov']):\n",
    "            cov_group.create_dataset(str(i), data=matrix)\n",
    "\n",
    "        # Save errs\n",
    "        errs_group = f.create_group('errs')\n",
    "        for i, err_dict in enumerate(results['errs']):\n",
    "            err_group = errs_group.create_group(str(i))\n",
    "            for key, value in err_dict.items():\n",
    "                err_group.create_dataset(key, data=value)\n",
    "\n",
    "        all_inj_original_group = f.create_group('all_inj_params_original')\n",
    "        for i, param_dict in enumerate(results['all_inj_params_original']):\n",
    "            param_group = all_inj_original_group.create_group(str(i))\n",
    "            for key, value in param_dict.items():\n",
    "                param_group.create_dataset(key, data=value)\n",
    "\n",
    "        # Save deriv_variables_in_order (list of strings)\n",
    "        dt = h5py.string_dtype(encoding='utf-8')\n",
    "        f.create_dataset('deriv_variables_in_order', \n",
    "                         data=np.array(results['deriv_variables_in_order'], \n",
    "                                       dtype=dt))"
   ]
  },
  {
   "cell_type": "code",
   "execution_count": 129,
   "id": "2dbbda81-8f17-4385-b255-7e894de8d93d",
   "metadata": {},
   "outputs": [],
   "source": [
    "def save_results_to_h5_with_debug(results, filename):\n",
    "    with h5py.File(filename, 'w') as f:\n",
    "        # Save inj_params\n",
    "        inj_params_group = f.create_group('inj_params')\n",
    "        for i, param_dict in enumerate(results['inj_params']):\n",
    "            param_group = inj_params_group.create_group(str(i))\n",
    "            for key, value in param_dict.items():\n",
    "                if value is not None:\n",
    "                    try:\n",
    "                        param_group.create_dataset(key, data=value)\n",
    "                    except Exception as e:\n",
    "                        print(f\"[inj_params][{i}][{key}] - Error creating dataset: {e}\")\n",
    "                else:\n",
    "                    print(f\"[inj_params][{i}][{key}] is None\")\n",
    "\n",
    "        # Save cov\n",
    "        cov_group = f.create_group('cov')\n",
    "        for i, matrix in enumerate(results['cov']):\n",
    "            if matrix is not None:\n",
    "                try:\n",
    "                    cov_group.create_dataset(str(i), data=matrix)\n",
    "                except Exception as e:\n",
    "                    print(f\"[cov][{i}] - Error creating dataset: {e}\")\n",
    "            else:\n",
    "                print(f\"[cov][{i}] is None\")\n",
    "\n",
    "        # Save errs\n",
    "        errs_group = f.create_group('errs')\n",
    "        for i, err_dict in enumerate(results['errs']):\n",
    "            err_group = errs_group.create_group(str(i))\n",
    "            for key, value in err_dict.items():\n",
    "                if value is not None:\n",
    "                    try:\n",
    "                        err_group.create_dataset(key, data=value)\n",
    "                    except Exception as e:\n",
    "                        print(f\"[errs][{i}][{key}] - Error creating dataset: {e}\")\n",
    "                else:\n",
    "                    print(f\"[errs][{i}][{key}] is None\")\n",
    "\n",
    "        # Save all_inj_params_original\n",
    "        all_inj_original_group = f.create_group('all_inj_params_original')\n",
    "        for i, param_dict in enumerate(results['all_inj_params_original']):\n",
    "            param_group = all_inj_original_group.create_group(str(i))\n",
    "            for key, value in param_dict.items():\n",
    "                if value is not None:\n",
    "                    try:\n",
    "                        param_group.create_dataset(key, data=value)\n",
    "                    except Exception as e:\n",
    "                        print(f\"[all_inj_params_original][{i}][{key}] - Error creating dataset: {e}\")\n",
    "                else:\n",
    "                    print(f\"[all_inj_params_original][{i}][{key}] is None\")\n",
    "\n",
    "        # Save deriv_variables_in_order\n",
    "        try:\n",
    "            dt = h5py.string_dtype(encoding='utf-8')\n",
    "            f.create_dataset('deriv_variables_in_order', \n",
    "                             data=np.array(results['deriv_variables_in_order'], dtype=dt))\n",
    "        except Exception as e:\n",
    "            print(f\"[deriv_variables_in_order] - Error creating dataset: {e}\")"
   ]
  },
  {
   "cell_type": "code",
   "execution_count": 131,
   "id": "bd4ba43d-2301-466f-a228-52cd57501fa0",
   "metadata": {
    "scrolled": true
   },
   "outputs": [],
   "source": [
    "results_file = os.path.join(base_dir, 'GWBench_analysis', 'BBH',\n",
    "                            'CE4020ET123_CoBA10_2_PLP_z_MD_zmax_10_lmrd_22_no_spins.h5')\n",
    "save_results_to_h5(results, results_file)"
   ]
  },
  {
   "cell_type": "markdown",
   "id": "0515023f-c026-4c10-9d7e-cfdc48dd9d75",
   "metadata": {},
   "source": [
    "## Spot checks with MPSAC study"
   ]
  },
  {
   "cell_type": "code",
   "execution_count": 95,
   "id": "dc09027a-05d4-4afa-96e6-c5800bb584d0",
   "metadata": {},
   "outputs": [
    {
     "name": "stdout",
     "output_type": "stream",
     "text": [
      "{'DL': np.float64(613.0532129566052), 'Mc': np.float64(29.52608930472442), 'chi1x': np.float64(0.0), 'chi1y': np.float64(0.0), 'chi1z': np.float64(0.09757743535542235), 'chi2x': np.float64(0.0), 'chi2y': np.float64(0.0), 'chi2z': np.float64(0.13015506724064474), 'dec': np.float64(0.6005676332161993), 'eta': np.float64(0.2480576947053691), 'gmst0': np.float64(44958.217426017385), 'iota': np.float64(0.9661358753614275), 'log_DL': np.float64(6.418451739601951), 'log_Mc': np.float64(3.266043329076431), 'phic': np.float64(0.0), 'psi': np.float64(1.9138262503804069), 'ra': np.float64(1.0558372118915251), 'tc': np.float64(0.0), 'z': np.float64(0.12663005714874154)}\n",
      "\n",
      " Error: Matrix is not positive definite\n"
     ]
    }
   ],
   "source": [
    "mpsac_dir = '/home/divyajyoti/ACADEMIC/Projects/Cardiff_University/Next_gen_detectability/Relevant_papers/Ish Gupta_et_al_data/'\n",
    "mpsac_data_bbh = {}\n",
    "with h5py.File(glob(os.path.join(mpsac_dir, '*', '*', '*bbh*hdf5'))[0], 'r') as file:\n",
    "    i=9\n",
    "    inj_params = {key:file['inj_params'][key][i] for key in file['inj_params'].keys()}\n",
    "    Mc = (1+inj_params['z'])*inj_params['Mc']\n",
    "    inj_params['Mc'] = Mc\n",
    "    print(inj_params)\n",
    "    fm, cov, errs, snr, dvars, inv_errs = run_analysis(inj_params)\n",
    "    err_dict = {key:[file['networks']['HLI'][key][i], errs[key]] for key in errs.keys()}\n",
    "    try:\n",
    "        np.linalg.cholesky(cov)\n",
    "    except Exception as e:\n",
    "        print('\\n', 'Error:', e)\n",
    "    err_dict['source'] = ['MPSAC', 'Current analysis']\n",
    "    err_df = pd.DataFrame(err_dict).set_index('source').T"
   ]
  },
  {
   "cell_type": "code",
   "execution_count": 96,
   "id": "85e8f878-62eb-4d21-a795-ae170b50777c",
   "metadata": {},
   "outputs": [
    {
     "data": {
      "text/html": [
       "<div>\n",
       "<style scoped>\n",
       "    .dataframe tbody tr th:only-of-type {\n",
       "        vertical-align: middle;\n",
       "    }\n",
       "\n",
       "    .dataframe tbody tr th {\n",
       "        vertical-align: top;\n",
       "    }\n",
       "\n",
       "    .dataframe thead th {\n",
       "        text-align: right;\n",
       "    }\n",
       "</style>\n",
       "<table border=\"1\" class=\"dataframe\">\n",
       "  <thead>\n",
       "    <tr style=\"text-align: right;\">\n",
       "      <th>source</th>\n",
       "      <th>MPSAC</th>\n",
       "      <th>Current analysis</th>\n",
       "    </tr>\n",
       "  </thead>\n",
       "  <tbody>\n",
       "    <tr>\n",
       "      <th>log_Mc</th>\n",
       "      <td>0.000149</td>\n",
       "      <td>0.000226</td>\n",
       "    </tr>\n",
       "    <tr>\n",
       "      <th>eta</th>\n",
       "      <td>0.000487</td>\n",
       "      <td>0.000449</td>\n",
       "    </tr>\n",
       "    <tr>\n",
       "      <th>log_DL</th>\n",
       "      <td>0.030009</td>\n",
       "      <td>0.040938</td>\n",
       "    </tr>\n",
       "    <tr>\n",
       "      <th>iota</th>\n",
       "      <td>0.029717</td>\n",
       "      <td>0.046089</td>\n",
       "    </tr>\n",
       "    <tr>\n",
       "      <th>tc</th>\n",
       "      <td>0.000031</td>\n",
       "      <td>0.000043</td>\n",
       "    </tr>\n",
       "    <tr>\n",
       "      <th>phic</th>\n",
       "      <td>0.108621</td>\n",
       "      <td>0.108604</td>\n",
       "    </tr>\n",
       "    <tr>\n",
       "      <th>ra</th>\n",
       "      <td>0.001964</td>\n",
       "      <td>0.001815</td>\n",
       "    </tr>\n",
       "    <tr>\n",
       "      <th>dec</th>\n",
       "      <td>0.001257</td>\n",
       "      <td>0.002764</td>\n",
       "    </tr>\n",
       "    <tr>\n",
       "      <th>psi</th>\n",
       "      <td>0.031062</td>\n",
       "      <td>0.045767</td>\n",
       "    </tr>\n",
       "    <tr>\n",
       "      <th>chi1z</th>\n",
       "      <td>0.006382</td>\n",
       "      <td>0.002605</td>\n",
       "    </tr>\n",
       "    <tr>\n",
       "      <th>chi2z</th>\n",
       "      <td>0.003734</td>\n",
       "      <td>0.002396</td>\n",
       "    </tr>\n",
       "    <tr>\n",
       "      <th>sky_area_90</th>\n",
       "      <td>0.085251</td>\n",
       "      <td>0.168226</td>\n",
       "    </tr>\n",
       "  </tbody>\n",
       "</table>\n",
       "</div>"
      ],
      "text/plain": [
       "source          MPSAC  Current analysis\n",
       "log_Mc       0.000149          0.000226\n",
       "eta          0.000487          0.000449\n",
       "log_DL       0.030009          0.040938\n",
       "iota         0.029717          0.046089\n",
       "tc           0.000031          0.000043\n",
       "phic         0.108621          0.108604\n",
       "ra           0.001964          0.001815\n",
       "dec          0.001257          0.002764\n",
       "psi          0.031062          0.045767\n",
       "chi1z        0.006382          0.002605\n",
       "chi2z        0.003734          0.002396\n",
       "sky_area_90  0.085251          0.168226"
      ]
     },
     "execution_count": 96,
     "metadata": {},
     "output_type": "execute_result"
    }
   ],
   "source": [
    "err_df"
   ]
  },
  {
   "cell_type": "code",
   "execution_count": null,
   "id": "1bdaffce-5f1a-4b24-9436-65cc3a77eeca",
   "metadata": {},
   "outputs": [],
   "source": []
  }
 ],
 "metadata": {
  "kernelspec": {
   "display_name": "gwbench",
   "language": "python",
   "name": "gwbench"
  },
  "language_info": {
   "codemirror_mode": {
    "name": "ipython",
    "version": 3
   },
   "file_extension": ".py",
   "mimetype": "text/x-python",
   "name": "python",
   "nbconvert_exporter": "python",
   "pygments_lexer": "ipython3",
   "version": "3.10.13"
  }
 },
 "nbformat": 4,
 "nbformat_minor": 5
}
