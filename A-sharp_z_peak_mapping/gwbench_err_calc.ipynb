{
 "cells": [
  {
   "cell_type": "code",
   "execution_count": 157,
   "id": "e5ff518f-6618-4cfe-ac1e-b36779febf6b",
   "metadata": {},
   "outputs": [],
   "source": [
    "import warnings\n",
    "warnings.filterwarnings(\"ignore\", \"Wswiglal-redir-stdio\")\n",
    "import h5py\n",
    "from gwbench import Network, injections_CBC_params_redshift\n",
    "import pandas as pd\n",
    "import deepdish as dd\n",
    "import os\n",
    "import numpy as np\n",
    "import pylab as plt\n",
    "from glob import glob\n",
    "from tqdm import tqdm\n",
    "import seaborn as sns"
   ]
  },
  {
   "cell_type": "markdown",
   "id": "67d25f69-3492-4284-bb23-4591aa00d003",
   "metadata": {},
   "source": [
    "## Get injection data"
   ]
  },
  {
   "cell_type": "code",
   "execution_count": 154,
   "id": "a7c9779b-0deb-473a-a773-0527f99e7618",
   "metadata": {},
   "outputs": [],
   "source": [
    "base_dir = '/home/divyajyoti/ACADEMIC/Projects/Cardiff_University/Next_gen_detectability/A-sharp-study/'\n",
    "inj_data_file = os.path.join(base_dir, 'SNR_output_files', 'BBH', \n",
    "                             'LHI_SNR_1_pop_PLP_spin_prec_z_MD_zmax_6_lmrd_22_365_days_corrected_td_SNR_data.h5')"
   ]
  },
  {
   "cell_type": "code",
   "execution_count": 155,
   "id": "24ead83d-8f67-4554-a384-9dbbffa5579a",
   "metadata": {},
   "outputs": [],
   "source": [
    "inj_data = dd.io.load(inj_data_file)"
   ]
  },
  {
   "cell_type": "code",
   "execution_count": 112,
   "id": "62baf7b3-8e9e-4be7-b360-756ea3bbf77e",
   "metadata": {},
   "outputs": [
    {
     "data": {
      "text/plain": [
       "Index(['PSD_L1', 'PSD_H1', 'PSD_I1', 'spin1_a', 'spin2_a', 'chi_eff', 'chi_p',\n",
       "       'mchirp', 'srcmchirp', 'cos_spin1_polar', 'cos_spin2_polar', 'srcmass1',\n",
       "       'srcmass2', 'q', 'spin1_azimuthal', 'spin2_azimuthal', 'redshift',\n",
       "       'eta', 'spin1_polar', 'spin2_polar', 'mtotal', 'srcmtotal',\n",
       "       'chi_1_in_plane', 'chi_2_in_plane', 'phi_12', 'phi_jl', 'theta_jn',\n",
       "       'time_interval', 'inclination', 'distance', 'mass1', 'mass2',\n",
       "       'coa_phase', 'f_ref', 'spin1x', 'spin1y', 'spin1z', 'spin2x', 'spin2y',\n",
       "       'spin2z', 'approximant', 'f_lower', 'delta_f', 'f_final', 'dec',\n",
       "       'trigger_time', 'polarization', 'ra', 'SNR_L1', 'SNR_H1', 'SNR_I1',\n",
       "       'SNR_network'],\n",
       "      dtype='object')"
      ]
     },
     "execution_count": 112,
     "metadata": {},
     "output_type": "execute_result"
    }
   ],
   "source": [
    "inj_data['Optimal_SNR'].keys()"
   ]
  },
  {
   "cell_type": "code",
   "execution_count": 113,
   "id": "ef128310-c5c8-4650-ab3a-73a0e0ac9755",
   "metadata": {},
   "outputs": [],
   "source": [
    "def get_detected_SNRs(data_dict, ifo_threshold=5, network_threshold=12, method='network', return_detected_dict=False):\n",
    "    SNR_keys = [key for key in data_dict.keys() if 'SNR' in key]\n",
    "    detected_bool_dict = {}\n",
    "    detected_dict = {}\n",
    "    \n",
    "    for key in SNR_keys:\n",
    "        dict_key = key.split('SNR_')[-1]\n",
    "        \n",
    "        if \"network\" in key:\n",
    "            threshold = network_threshold\n",
    "        else:\n",
    "            threshold = ifo_threshold\n",
    "\n",
    "        detected_bool_dict[dict_key] = data_dict[key] >= threshold\n",
    "        detected_dict[dict_key] = data_dict[detected_bool_dict[dict_key]]\n",
    "\n",
    "    if method=='all':\n",
    "        detected_events_df = data_dict[np.all(tuple(detected_bool_dict.values()), axis=0) & detected_bool_dict['network']]\n",
    "    elif method == 'two-detector':\n",
    "        detector_keys = [key for key in detected_bool_dict.keys() if key != 'network']\n",
    "        detection_sum = np.sum([detected_bool_dict[key] for key in detector_keys], axis=0)\n",
    "        detected_events_df = data_dict[(detection_sum >= 2) & (detected_bool_dict['network'])]\n",
    "    elif method=='network':\n",
    "        detected_events_df = detected_dict['network']\n",
    "\n",
    "    if return_detected_dict:\n",
    "        return(detected_events_df, detected_dict)\n",
    "    else:\n",
    "        return(detected_events_df)"
   ]
  },
  {
   "cell_type": "code",
   "execution_count": 114,
   "id": "3134163a-b594-427b-87c8-b273181e340d",
   "metadata": {},
   "outputs": [],
   "source": [
    "inj_data['detected'] = get_detected_SNRs(inj_data['Optimal_SNR'], method='two-detector')"
   ]
  },
  {
   "cell_type": "markdown",
   "id": "a176ec62-1d66-43f7-a5d0-15e2ecc5d341",
   "metadata": {},
   "source": [
    "#### Choose n_events from detected as injection parameters"
   ]
  },
  {
   "cell_type": "code",
   "execution_count": 115,
   "id": "68f6f9ca-0cf1-409b-9685-fb879909586f",
   "metadata": {},
   "outputs": [],
   "source": [
    "n_events = 500\n",
    "inj_data['selected_n_events'] = inj_data['detected'].sample(n_events, random_state=123).sort_index()"
   ]
  },
  {
   "cell_type": "code",
   "execution_count": 116,
   "id": "2013bda2-5745-4e75-a143-191f2dcdc1e8",
   "metadata": {},
   "outputs": [
    {
     "data": {
      "text/plain": [
       "<matplotlib.legend.Legend at 0x7c21f761f670>"
      ]
     },
     "execution_count": 116,
     "metadata": {},
     "output_type": "execute_result"
    },
    {
     "data": {
      "image/png": "[encoded data removed]",
      "text/plain": [
       "<Figure size 640x480 with 1 Axes>"
      ]
     },
     "metadata": {},
     "output_type": "display_data"
    }
   ],
   "source": [
    "plt.hist(inj_data['detected']['redshift'], density=True, histtype=u'step', bins=50, label='Detected')\n",
    "plt.hist(inj_data['selected_n_events']['redshift'], density=True, histtype=u'step', bins=20, label='Selected');\n",
    "plt.legend()"
   ]
  },
  {
   "cell_type": "markdown",
   "id": "e5332943-7fee-41c2-965b-b7f0e929846f",
   "metadata": {},
   "source": [
    "## FM analysis with GWBench"
   ]
  },
  {
   "cell_type": "markdown",
   "id": "64890cf4-ef5d-41b1-9911-e2a99529791d",
   "metadata": {},
   "source": [
    "### Setup"
   ]
  },
  {
   "cell_type": "code",
   "execution_count": 117,
   "id": "6fb726cf-4bb4-4061-892e-0c87cd7654a8",
   "metadata": {},
   "outputs": [],
   "source": [
    "fm_params_str = 'Mc eta DL iota tc phic ra dec psi'\n",
    "def run_analysis(inj_params, logging_level='WARNING', num_cores=2):\n",
    "    f\"\"\"\n",
    "    Parameters:\n",
    "    -------------------------------------------------------------\n",
    "    inj_params: dict\n",
    "        dict with keys: Mc, eta, tc, phic, \n",
    "                        DL, iota, ra, dec, psi, \n",
    "                        chi1x, chi1y, chi1z, chi2x, chi2y, chi2z\n",
    "    Returns:\n",
    "    -----------------------\n",
    "    FM: matrix\n",
    "        Fisher matrix with parameter order as: {fm_params_str}\n",
    "    cov: matrix\n",
    "        Covariance matrix corresponding to the FM\n",
    "    errors: dict\n",
    "        Parameter errors\n",
    "    \"\"\"\n",
    "    wf_model_name = 'lal_bbh'\n",
    "    wf_other_var_dic = {'approximant':'IMRPhenomXHM'}\n",
    "    user_psds = {'A-Sharp':{'psd_file':'/home/divyajyoti/ACADEMIC/Projects/Cardiff_University/Next_gen_detectability/scripts/next_gen_detect/noise_curves/Asharp-asd.txt', \n",
    "                            'is_asd': True}}\n",
    "    conv_log = ('Mc', 'DL')\n",
    "    ana_deriv_symbs_string = 'DL tc phic ra dec psi'\n",
    "    network_spec = ['A-Sharp_L', 'A-Sharp_H', 'A-Sharp_I']\n",
    "    f_low = 5\n",
    "    f_high = 1024\n",
    "    df = 1/16\n",
    "    f_arr = np.arange(f_low, f_high+df, df)\n",
    "    net = Network(network_spec, logger_level=logging_level)\n",
    "    net.set_net_vars(wf_model_name=wf_model_name, \n",
    "                     wf_other_var_dic=wf_other_var_dic,\n",
    "                     f=f_arr, \n",
    "                     inj_params=inj_params,\n",
    "                     deriv_symbs_string=fm_params_str,\n",
    "                     ana_deriv_symbs_string=ana_deriv_symbs_string,\n",
    "                     conv_log=conv_log, \n",
    "                     user_psds=user_psds)\n",
    "    net.calc_errors(derivs='num', f_lo=f_low, f_hi=f_high, num_cores=num_cores)\n",
    "    return(net.fisher, net.cov, net.errs, net.snr, net.deriv_variables, net.inv_err['inv_err'])"
   ]
  },
  {
   "cell_type": "markdown",
   "id": "ba1567a8-5bcd-431d-8ad5-ff73c59ecab3",
   "metadata": {},
   "source": [
    "### Calculate Errors"
   ]
  },
  {
   "cell_type": "code",
   "execution_count": 118,
   "id": "fbaf1432-64ee-490c-bfda-a792644b567b",
   "metadata": {},
   "outputs": [],
   "source": [
    "gwbench_to_pycbc_map = {\n",
    "    'Mc': 'mchirp',\n",
    "    'eta': 'eta',\n",
    "    'DL': 'distance',\n",
    "    'iota': 'inclination',\n",
    "    'ra': 'ra',\n",
    "    'dec': 'dec',\n",
    "    'psi': 'polarization',\n",
    "    'chi1z': 'spin1z',\n",
    "    'chi2z': 'spin2z'\n",
    "}"
   ]
  },
  {
   "cell_type": "code",
   "execution_count": 138,
   "id": "9b6c1647-2dc0-48ce-b408-a01d3557666b",
   "metadata": {},
   "outputs": [
    {
     "name": "stderr",
     "output_type": "stream",
     "text": [
      "XLAL Error - XLALSimIMRPhenomXHMFrequencySequence (/home/conda/feedstock_root/build_artifacts/lalsimulation-split_1734695399192/work/lib/LALSimIMRPhenomXHM.c:1656): Error: m1 must be positive and greater than 0.                                                                    | 331/500 [04:35<02:05,  1.34it/s]\n",
      "\n",
      "XLAL Error - XLALSimIMRPhenomXHMFrequencySequence (/home/conda/feedstock_root/build_artifacts/lalsimulation-split_1734695399192/work/lib/LALSimIMRPhenomXHM.c:1656): Internal function call failed\n",
      "XLAL Error - XLALSimInspiralChooseFDWaveformSequence (/home/conda/feedstock_root/build_artifacts/lalsimulation-split_1734695399192/work/lib/LALSimInspiralWaveformCache.c:1532): Internal function call failed\n",
      "XLAL Error - XLALSimIMRPhenomXHMFrequencySequence (/home/conda/feedstock_root/build_artifacts/lalsimulation-split_1734695399192/work/lib/LALSimIMRPhenomXHM.c:1656): Error: m1 must be positive and greater than 0.         \n",
      "\n",
      "XLAL Error - XLALSimIMRPhenomXHMFrequencySequence (/home/conda/feedstock_root/build_artifacts/lalsimulation-split_1734695399192/work/lib/LALSimIMRPhenomXHM.c:1656): Internal function call failed\n",
      "XLAL Error - XLALSimInspiralChooseFDWaveformSequence (/home/conda/feedstock_root/build_artifacts/lalsimulation-split_1734695399192/work/lib/LALSimInspiralWaveformCache.c:1532): Internal function call failed\n",
      "XLAL Error - XLALSimIMRPhenomXHMFrequencySequence (/home/conda/feedstock_root/build_artifacts/lalsimulation-split_1734695399192/work/lib/LALSimIMRPhenomXHM.c:1656): Error: m1 must be positive and greater than 0.         \n",
      "\n",
      "XLAL Error - XLALSimIMRPhenomXHMFrequencySequence (/home/conda/feedstock_root/build_artifacts/lalsimulation-split_1734695399192/work/lib/LALSimIMRPhenomXHM.c:1656): Internal function call failed\n",
      "XLAL Error - XLALSimInspiralChooseFDWaveformSequence (/home/conda/feedstock_root/build_artifacts/lalsimulation-split_1734695399192/work/lib/LALSimInspiralWaveformCache.c:1532): Internal function call failed\n",
      "100%|██████████████████████████████████████████████████████████████████████████████████████████████████████████████████████████████████████████████████████████████████████████████████████████████████████████████████████████████████████████████████████████████████████████████████| 500/500 [06:51<00:00,  1.21it/s]\n"
     ]
    }
   ],
   "source": [
    "inj_records = inj_data['selected_n_events'].to_records()\n",
    "results = {'inj_params':[], 'cov':[], 'errs':[], 'all_inj_params_original':[]}\n",
    "failed_events = {'inj_params':[]}\n",
    "#for event_num in tqdm(range(3)):\n",
    "for event_num in tqdm(range(len(inj_records))):\n",
    "    params_i = inj_records[event_num]\n",
    "    inj_params = {'chi1x': 0, \n",
    "                  'chi1y': 0,\n",
    "                  'chi2x': 0,\n",
    "                  'chi2y': 0,\n",
    "                  'chi1z': 0,\n",
    "                  'chi2z': 0}\n",
    "    for param in fm_params_str.split():\n",
    "        if param == 'tc' or param == 'phic':\n",
    "            inj_params[param] = 0\n",
    "        else:\n",
    "            inj_params[param] = params_i[gwbench_to_pycbc_map[param]]\n",
    "    try:\n",
    "        fm, cov, errs, snr, deriv_vars, inv_err = run_analysis(inj_params, num_cores=4)\n",
    "        results['inj_params'].append(inj_params)\n",
    "        results['all_inj_params_original'].append({key:params_i[key] for key in params_i.dtype.names})\n",
    "        errs['snr'] = snr\n",
    "        errs['inv_err'] = inv_err\n",
    "        results['cov'].append(cov)\n",
    "        results['errs'].append(errs)\n",
    "        results['deriv_variables_in_order'] = deriv_vars\n",
    "    except:\n",
    "        failed_events['inj_params'].append(inj_params)"
   ]
  },
  {
   "cell_type": "markdown",
   "id": "76f20a95-3d62-45c5-bb72-dfc1b0c1df1c",
   "metadata": {},
   "source": [
    "### Check if cov matrices are positive-definite"
   ]
  },
  {
   "cell_type": "code",
   "execution_count": 145,
   "id": "369a0fec-f1b7-4aa9-a0d3-c55e12d55fab",
   "metadata": {},
   "outputs": [],
   "source": [
    "failed = []\n",
    "for event in range(499):\n",
    "    cov = results['cov'][event]  # the covariance matrix\n",
    "    try:\n",
    "        np.linalg.cholesky(cov)\n",
    "    except np.linalg.LinAlgError:\n",
    "        failed.append(event)"
   ]
  },
  {
   "cell_type": "code",
   "execution_count": 146,
   "id": "502e7226-3430-44bd-9b1a-0b28fded12d4",
   "metadata": {},
   "outputs": [
    {
     "data": {
      "text/plain": [
       "[]"
      ]
     },
     "execution_count": 146,
     "metadata": {},
     "output_type": "execute_result"
    }
   ],
   "source": [
    "failed"
   ]
  },
  {
   "cell_type": "markdown",
   "id": "e881fb60-213c-4f5a-a65c-f896a0143d64",
   "metadata": {},
   "source": [
    "### Add redshift to results file"
   ]
  },
  {
   "cell_type": "code",
   "execution_count": 147,
   "id": "d96ec0a3-1dd1-4e44-93b6-d9bfab2c9167",
   "metadata": {},
   "outputs": [
    {
     "name": "stdout",
     "output_type": "stream",
     "text": [
      "Skipping event number 331\n"
     ]
    }
   ],
   "source": [
    "i=0\n",
    "for DL, z in zip(inj_data['selected_n_events']['distance'], inj_data['selected_n_events']['redshift']):\n",
    "    if DL == failed_events['inj_params'][0]['DL']:\n",
    "        print(f'Skipping event number {i}')\n",
    "    else:\n",
    "        results['inj_params'][i]['z'] = z\n",
    "        i += 1"
   ]
  },
  {
   "cell_type": "code",
   "execution_count": 148,
   "id": "76c6ec91-d44e-4bb0-a80f-0576f7ccf2ab",
   "metadata": {},
   "outputs": [
    {
     "data": {
      "text/plain": [
       "Text(0.5, 0, '$\\\\Delta D_L / D_L$')"
      ]
     },
     "execution_count": 148,
     "metadata": {},
     "output_type": "execute_result"
    },
    {
     "data": {
      "image/png": "[encoded data removed]",
      "text/plain": [
       "<Figure size 640x480 with 1 Axes>"
      ]
     },
     "metadata": {},
     "output_type": "display_data"
    }
   ],
   "source": [
    "plt.hist([results['errs'][i]['log_DL'] for i in range(len(results['errs']))], bins=50);\n",
    "plt.xlabel('$\\Delta D_L / D_L$')"
   ]
  },
  {
   "cell_type": "code",
   "execution_count": 149,
   "id": "ea013840-526f-4f11-b44c-dd9ebc2497f3",
   "metadata": {},
   "outputs": [
    {
     "data": {
      "text/plain": [
       "{'inj_params': [{'chi1x': 0,\n",
       "   'chi1y': 0,\n",
       "   'chi2x': 0,\n",
       "   'chi2y': 0,\n",
       "   'chi1z': 0,\n",
       "   'chi2z': 0,\n",
       "   'Mc': np.float64(70.66247739577898),\n",
       "   'eta': np.float64(0.24999999983424404),\n",
       "   'DL': np.float64(17254.62022785116),\n",
       "   'iota': np.float64(0.9433453461672721),\n",
       "   'tc': 0,\n",
       "   'phic': 0,\n",
       "   'ra': np.float64(4.817171078649492),\n",
       "   'dec': np.float64(0.7518123115904721),\n",
       "   'psi': np.float64(2.761454209862496)}]}"
      ]
     },
     "execution_count": 149,
     "metadata": {},
     "output_type": "execute_result"
    }
   ],
   "source": [
    "failed_events"
   ]
  },
  {
   "cell_type": "code",
   "execution_count": 150,
   "id": "105bdbdb-0069-4c0f-bfbe-6d9754a942bc",
   "metadata": {},
   "outputs": [
    {
     "data": {
      "text/plain": [
       "<matplotlib.lines.Line2D at 0x7c21f7741840>"
      ]
     },
     "execution_count": 150,
     "metadata": {},
     "output_type": "execute_result"
    },
    {
     "data": {
      "image/png": "[encoded data removed]",
      "text/plain": [
       "<Figure size 640x480 with 1 Axes>"
      ]
     },
     "metadata": {},
     "output_type": "display_data"
    }
   ],
   "source": [
    "x = []\n",
    "for i, dist, snr in zip(range(500), inj_data['selected_n_events']['distance'], inj_data['selected_n_events']['SNR_network']):\n",
    "    if dist != (failed_events['inj_params'][0]['DL']):\n",
    "        x.append(snr)\n",
    "y = x/pd.DataFrame(results['errs'])['snr']\n",
    "plt.plot(x, y, '.')\n",
    "plt.xlabel('Injected SNR (Netw)')\n",
    "plt.ylabel('inj_SNR / gwbench_SNR')\n",
    "plt.axhline(1, c='k')"
   ]
  },
  {
   "cell_type": "markdown",
   "id": "022bccc9-f430-4b20-bd9f-d0fe6e4cd1ef",
   "metadata": {},
   "source": [
    "## Save to h5 file"
   ]
  },
  {
   "cell_type": "code",
   "execution_count": 151,
   "id": "98e1ef62-eb7d-48b6-9fd6-49966e2f9574",
   "metadata": {},
   "outputs": [],
   "source": [
    "def save_results_to_h5(results, filename):\n",
    "    with h5py.File(filename, 'w') as f:\n",
    "        # Save inj_params\n",
    "        inj_params_group = f.create_group('inj_params')\n",
    "        for i, param_dict in enumerate(results['inj_params']):\n",
    "            param_group = inj_params_group.create_group(str(i))\n",
    "            for key, value in param_dict.items():\n",
    "                param_group.create_dataset(key, data=value)\n",
    "\n",
    "        # Save cov (numpy matrices)\n",
    "        cov_group = f.create_group('cov')\n",
    "        for i, matrix in enumerate(results['cov']):\n",
    "            cov_group.create_dataset(str(i), data=matrix)\n",
    "\n",
    "        # Save errs\n",
    "        errs_group = f.create_group('errs')\n",
    "        for i, err_dict in enumerate(results['errs']):\n",
    "            err_group = errs_group.create_group(str(i))\n",
    "            for key, value in err_dict.items():\n",
    "                err_group.create_dataset(key, data=value)\n",
    "\n",
    "        all_inj_original_group = f.create_group('all_inj_params_original')\n",
    "        for i, param_dict in enumerate(results['all_inj_params_original']):\n",
    "            param_group = all_inj_original_group.create_group(str(i))\n",
    "            for key, value in param_dict.items():\n",
    "                param_group.create_dataset(key, data=value)\n",
    "\n",
    "        # Save deriv_variables_in_order (list of strings)\n",
    "        dt = h5py.string_dtype(encoding='utf-8')\n",
    "        f.create_dataset('deriv_variables_in_order', \n",
    "                         data=np.array(results['deriv_variables_in_order'], \n",
    "                                       dtype=dt))"
   ]
  },
  {
   "cell_type": "code",
   "execution_count": 152,
   "id": "bd4ba43d-2301-466f-a228-52cd57501fa0",
   "metadata": {},
   "outputs": [],
   "source": [
    "results_file = os.path.join(base_dir, 'GWBench_analysis', 'BBH',\n",
    "                            'LHI_Asharp_PLP_z_MD_zmax_6_lmrd_22_no_spins.h5')\n",
    "save_results_to_h5(results, results_file)"
   ]
  },
  {
   "cell_type": "markdown",
   "id": "0515023f-c026-4c10-9d7e-cfdc48dd9d75",
   "metadata": {},
   "source": [
    "## Spot checks with MPSAC study"
   ]
  },
  {
   "cell_type": "code",
   "execution_count": 95,
   "id": "dc09027a-05d4-4afa-96e6-c5800bb584d0",
   "metadata": {},
   "outputs": [
    {
     "name": "stdout",
     "output_type": "stream",
     "text": [
      "{'DL': np.float64(613.0532129566052), 'Mc': np.float64(29.52608930472442), 'chi1x': np.float64(0.0), 'chi1y': np.float64(0.0), 'chi1z': np.float64(0.09757743535542235), 'chi2x': np.float64(0.0), 'chi2y': np.float64(0.0), 'chi2z': np.float64(0.13015506724064474), 'dec': np.float64(0.6005676332161993), 'eta': np.float64(0.2480576947053691), 'gmst0': np.float64(44958.217426017385), 'iota': np.float64(0.9661358753614275), 'log_DL': np.float64(6.418451739601951), 'log_Mc': np.float64(3.266043329076431), 'phic': np.float64(0.0), 'psi': np.float64(1.9138262503804069), 'ra': np.float64(1.0558372118915251), 'tc': np.float64(0.0), 'z': np.float64(0.12663005714874154)}\n",
      "\n",
      " Error: Matrix is not positive definite\n"
     ]
    }
   ],
   "source": [
    "mpsac_dir = '/home/divyajyoti/ACADEMIC/Projects/Cardiff_University/Next_gen_detectability/Relevant_papers/Ish Gupta_et_al_data/'\n",
    "mpsac_data_bbh = {}\n",
    "with h5py.File(glob(os.path.join(mpsac_dir, '*', '*', '*bbh*hdf5'))[0], 'r') as file:\n",
    "    i=9\n",
    "    inj_params = {key:file['inj_params'][key][i] for key in file['inj_params'].keys()}\n",
    "    Mc = (1+inj_params['z'])*inj_params['Mc']\n",
    "    inj_params['Mc'] = Mc\n",
    "    print(inj_params)\n",
    "    fm, cov, errs, snr, dvars, inv_errs = run_analysis(inj_params)\n",
    "    err_dict = {key:[file['networks']['HLI'][key][i], errs[key]] for key in errs.keys()}\n",
    "    try:\n",
    "        np.linalg.cholesky(cov)\n",
    "    except Exception as e:\n",
    "        print('\\n', 'Error:', e)\n",
    "    err_dict['source'] = ['MPSAC', 'Current analysis']\n",
    "    err_df = pd.DataFrame(err_dict).set_index('source').T"
   ]
  },
  {
   "cell_type": "code",
   "execution_count": 96,
   "id": "85e8f878-62eb-4d21-a795-ae170b50777c",
   "metadata": {},
   "outputs": [
    {
     "data": {
      "text/html": [
       "<div>\n",
       "<style scoped>\n",
       "    .dataframe tbody tr th:only-of-type {\n",
       "        vertical-align: middle;\n",
       "    }\n",
       "\n",
       "    .dataframe tbody tr th {\n",
       "        vertical-align: top;\n",
       "    }\n",
       "\n",
       "    .dataframe thead th {\n",
       "        text-align: right;\n",
       "    }\n",
       "</style>\n",
       "<table border=\"1\" class=\"dataframe\">\n",
       "  <thead>\n",
       "    <tr style=\"text-align: right;\">\n",
       "      <th>source</th>\n",
       "      <th>MPSAC</th>\n",
       "      <th>Current analysis</th>\n",
       "    </tr>\n",
       "  </thead>\n",
       "  <tbody>\n",
       "    <tr>\n",
       "      <th>log_Mc</th>\n",
       "      <td>0.000149</td>\n",
       "      <td>0.000226</td>\n",
       "    </tr>\n",
       "    <tr>\n",
       "      <th>eta</th>\n",
       "      <td>0.000487</td>\n",
       "      <td>0.000449</td>\n",
       "    </tr>\n",
       "    <tr>\n",
       "      <th>log_DL</th>\n",
       "      <td>0.030009</td>\n",
       "      <td>0.040938</td>\n",
       "    </tr>\n",
       "    <tr>\n",
       "      <th>iota</th>\n",
       "      <td>0.029717</td>\n",
       "      <td>0.046089</td>\n",
       "    </tr>\n",
       "    <tr>\n",
       "      <th>tc</th>\n",
       "      <td>0.000031</td>\n",
       "      <td>0.000043</td>\n",
       "    </tr>\n",
       "    <tr>\n",
       "      <th>phic</th>\n",
       "      <td>0.108621</td>\n",
       "      <td>0.108604</td>\n",
       "    </tr>\n",
       "    <tr>\n",
       "      <th>ra</th>\n",
       "      <td>0.001964</td>\n",
       "      <td>0.001815</td>\n",
       "    </tr>\n",
       "    <tr>\n",
       "      <th>dec</th>\n",
       "      <td>0.001257</td>\n",
       "      <td>0.002764</td>\n",
       "    </tr>\n",
       "    <tr>\n",
       "      <th>psi</th>\n",
       "      <td>0.031062</td>\n",
       "      <td>0.045767</td>\n",
       "    </tr>\n",
       "    <tr>\n",
       "      <th>chi1z</th>\n",
       "      <td>0.006382</td>\n",
       "      <td>0.002605</td>\n",
       "    </tr>\n",
       "    <tr>\n",
       "      <th>chi2z</th>\n",
       "      <td>0.003734</td>\n",
       "      <td>0.002396</td>\n",
       "    </tr>\n",
       "    <tr>\n",
       "      <th>sky_area_90</th>\n",
       "      <td>0.085251</td>\n",
       "      <td>0.168226</td>\n",
       "    </tr>\n",
       "  </tbody>\n",
       "</table>\n",
       "</div>"
      ],
      "text/plain": [
       "source          MPSAC  Current analysis\n",
       "log_Mc       0.000149          0.000226\n",
       "eta          0.000487          0.000449\n",
       "log_DL       0.030009          0.040938\n",
       "iota         0.029717          0.046089\n",
       "tc           0.000031          0.000043\n",
       "phic         0.108621          0.108604\n",
       "ra           0.001964          0.001815\n",
       "dec          0.001257          0.002764\n",
       "psi          0.031062          0.045767\n",
       "chi1z        0.006382          0.002605\n",
       "chi2z        0.003734          0.002396\n",
       "sky_area_90  0.085251          0.168226"
      ]
     },
     "execution_count": 96,
     "metadata": {},
     "output_type": "execute_result"
    }
   ],
   "source": [
    "err_df"
   ]
  },
  {
   "cell_type": "code",
   "execution_count": null,
   "id": "1bdaffce-5f1a-4b24-9436-65cc3a77eeca",
   "metadata": {},
   "outputs": [],
   "source": []
  }
 ],
 "metadata": {
  "kernelspec": {
   "display_name": "gwbench",
   "language": "python",
   "name": "gwbench"
  },
  "language_info": {
   "codemirror_mode": {
    "name": "ipython",
    "version": 3
   },
   "file_extension": ".py",
   "mimetype": "text/x-python",
   "name": "python",
   "nbconvert_exporter": "python",
   "pygments_lexer": "ipython3",
   "version": "3.10.13"
  }
 },
 "nbformat": 4,
 "nbformat_minor": 5
}
