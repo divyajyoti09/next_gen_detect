{
 "cells": [
  {
   "cell_type": "code",
   "execution_count": 1,
   "id": "e5ff518f-6618-4cfe-ac1e-b36779febf6b",
   "metadata": {},
   "outputs": [],
   "source": [
    "import warnings\n",
    "warnings.filterwarnings(\"ignore\", \"Wswiglal-redir-stdio\")\n",
    "import h5py\n",
    "from gwbench import Network, injections_CBC_params_redshift\n",
    "import pandas as pd\n",
    "import deepdish as dd\n",
    "import os\n",
    "import numpy as np\n",
    "import pylab as plt\n",
    "from glob import glob\n",
    "from tqdm import tqdm\n",
    "import seaborn as sns\n",
    "from scipy.stats import ncx2\n",
    "from pesummary.gw.conversions.spins import spin_angles"
   ]
  },
  {
   "cell_type": "markdown",
   "id": "67d25f69-3492-4284-bb23-4591aa00d003",
   "metadata": {},
   "source": [
    "## Get injection data SNRs"
   ]
  },
  {
   "cell_type": "code",
   "execution_count": 2,
   "id": "a7c9779b-0deb-473a-a773-0527f99e7618",
   "metadata": {},
   "outputs": [],
   "source": [
    "base_dir = '/home/divyajyoti/ACADEMIC/Projects/Cardiff_University/Next_gen_detectability/A-sharp-study/'\n",
    "inj_data_file = os.path.join(base_dir, 'SNR_output_files_XPHM', 'BBH', \n",
    "                             'CE4020ET123_CoBA10_SNR_3_pop_PLP_spin_aligned_fref_5_z_MD_zmax_10_lmrd_22_365_days_corrected_td_SNR_data.h5')\n",
    "#inj_data_file = os.path.join(base_dir, 'SNR_output_files_XPHM', 'BBH', \n",
    "#                             'LHI_SNR_3_pop_PLP_spin_aligned_fref_10_z_MD_zmax_10_lmrd_22_365_days_corrected_td_SNR_data.h5')"
   ]
  },
  {
   "cell_type": "code",
   "execution_count": 3,
   "id": "2ab1c4ed-308b-4547-b761-23e39c610a4c",
   "metadata": {
    "scrolled": true
   },
   "outputs": [],
   "source": [
    "def decode_bytes_recursive(val):\n",
    "    if isinstance(val, bytes):\n",
    "        return val.decode('utf-8')\n",
    "    elif isinstance(val, np.ndarray):\n",
    "        if val.dtype.kind == 'S':  # Byte string array\n",
    "            return np.vectorize(lambda x: x.decode('utf-8'))(val)\n",
    "        elif val.dtype.kind in {'O'}:\n",
    "            return np.vectorize(decode_bytes_recursive)(val)\n",
    "        else:\n",
    "            return val\n",
    "    elif isinstance(val, list):\n",
    "        return [decode_bytes_recursive(v) for v in val]\n",
    "    elif isinstance(val, dict):\n",
    "        return {k: decode_bytes_recursive(v) for k, v in val.items()}\n",
    "    return val\n",
    "\n",
    "def load_h5_group(group):\n",
    "    data = {}\n",
    "    for key in group.keys():\n",
    "        item = group[key]\n",
    "        if isinstance(item, h5py.Dataset):\n",
    "            val = item[()]\n",
    "            data[key] = decode_bytes_recursive(val)\n",
    "        elif isinstance(item, h5py.Group):\n",
    "            data[key] = load_h5_group(item)\n",
    "    return data"
   ]
  },
  {
   "cell_type": "code",
   "execution_count": 4,
   "id": "6e475de3-f9b5-455e-9c28-3f824b739877",
   "metadata": {
    "scrolled": true
   },
   "outputs": [],
   "source": [
    "# Main loader\n",
    "inj_data = {}\n",
    "with h5py.File(inj_data_file, 'r') as f:\n",
    "    for key in f.keys():\n",
    "        item = f[key]\n",
    "        if isinstance(item, h5py.Dataset):\n",
    "            val = item[()]\n",
    "            inj_data[key] = decode_bytes_recursive(val)\n",
    "        elif isinstance(item, h5py.Group):\n",
    "            inj_data[key] = load_h5_group(item)"
   ]
  },
  {
   "cell_type": "code",
   "execution_count": 5,
   "id": "62baf7b3-8e9e-4be7-b360-756ea3bbf77e",
   "metadata": {},
   "outputs": [
    {
     "data": {
      "text/html": [
       "<div>\n",
       "<style scoped>\n",
       "    .dataframe tbody tr th:only-of-type {\n",
       "        vertical-align: middle;\n",
       "    }\n",
       "\n",
       "    .dataframe tbody tr th {\n",
       "        vertical-align: top;\n",
       "    }\n",
       "\n",
       "    .dataframe thead th {\n",
       "        text-align: right;\n",
       "    }\n",
       "</style>\n",
       "<table border=\"1\" class=\"dataframe\">\n",
       "  <thead>\n",
       "    <tr style=\"text-align: right;\">\n",
       "      <th></th>\n",
       "      <th>PSD_C1</th>\n",
       "      <th>PSD_CE20</th>\n",
       "      <th>PSD_E1</th>\n",
       "      <th>PSD_E2</th>\n",
       "      <th>PSD_E3</th>\n",
       "      <th>SNR_C1</th>\n",
       "      <th>SNR_CE20</th>\n",
       "      <th>SNR_E1</th>\n",
       "      <th>SNR_E2</th>\n",
       "      <th>SNR_E3</th>\n",
       "      <th>...</th>\n",
       "      <th>spin1z</th>\n",
       "      <th>spin2x</th>\n",
       "      <th>spin2y</th>\n",
       "      <th>spin2z</th>\n",
       "      <th>srcmass1</th>\n",
       "      <th>srcmass2</th>\n",
       "      <th>srcmchirp</th>\n",
       "      <th>srcmtotal</th>\n",
       "      <th>time_interval</th>\n",
       "      <th>trigger_time</th>\n",
       "    </tr>\n",
       "  </thead>\n",
       "  <tbody>\n",
       "    <tr>\n",
       "      <th>0</th>\n",
       "      <td>CE40</td>\n",
       "      <td>CE20</td>\n",
       "      <td>ET10_CoBA</td>\n",
       "      <td>ET10_CoBA</td>\n",
       "      <td>ET10_CoBA</td>\n",
       "      <td>89.081424</td>\n",
       "      <td>57.270932</td>\n",
       "      <td>18.387193</td>\n",
       "      <td>14.800440</td>\n",
       "      <td>10.186230</td>\n",
       "      <td>...</td>\n",
       "      <td>-0.061128</td>\n",
       "      <td>0.0</td>\n",
       "      <td>0.0</td>\n",
       "      <td>0.126310</td>\n",
       "      <td>7.140745</td>\n",
       "      <td>6.850547</td>\n",
       "      <td>6.088491</td>\n",
       "      <td>13.991292</td>\n",
       "      <td>1401.516982</td>\n",
       "      <td>1.893025e+09</td>\n",
       "    </tr>\n",
       "    <tr>\n",
       "      <th>1</th>\n",
       "      <td>CE40</td>\n",
       "      <td>CE20</td>\n",
       "      <td>ET10_CoBA</td>\n",
       "      <td>ET10_CoBA</td>\n",
       "      <td>ET10_CoBA</td>\n",
       "      <td>5.955440</td>\n",
       "      <td>4.285237</td>\n",
       "      <td>11.389722</td>\n",
       "      <td>8.947595</td>\n",
       "      <td>10.628861</td>\n",
       "      <td>...</td>\n",
       "      <td>0.406850</td>\n",
       "      <td>0.0</td>\n",
       "      <td>0.0</td>\n",
       "      <td>0.114056</td>\n",
       "      <td>7.725840</td>\n",
       "      <td>5.403342</td>\n",
       "      <td>5.606829</td>\n",
       "      <td>13.129181</td>\n",
       "      <td>1051.424937</td>\n",
       "      <td>1.893026e+09</td>\n",
       "    </tr>\n",
       "    <tr>\n",
       "      <th>2</th>\n",
       "      <td>CE40</td>\n",
       "      <td>CE20</td>\n",
       "      <td>ET10_CoBA</td>\n",
       "      <td>ET10_CoBA</td>\n",
       "      <td>ET10_CoBA</td>\n",
       "      <td>26.147823</td>\n",
       "      <td>19.659339</td>\n",
       "      <td>9.576124</td>\n",
       "      <td>11.215747</td>\n",
       "      <td>9.800301</td>\n",
       "      <td>...</td>\n",
       "      <td>0.190466</td>\n",
       "      <td>0.0</td>\n",
       "      <td>0.0</td>\n",
       "      <td>0.135335</td>\n",
       "      <td>9.001862</td>\n",
       "      <td>6.051958</td>\n",
       "      <td>6.400407</td>\n",
       "      <td>15.053820</td>\n",
       "      <td>1476.593981</td>\n",
       "      <td>1.893028e+09</td>\n",
       "    </tr>\n",
       "    <tr>\n",
       "      <th>3</th>\n",
       "      <td>CE40</td>\n",
       "      <td>CE20</td>\n",
       "      <td>ET10_CoBA</td>\n",
       "      <td>ET10_CoBA</td>\n",
       "      <td>ET10_CoBA</td>\n",
       "      <td>18.312133</td>\n",
       "      <td>8.410959</td>\n",
       "      <td>11.706618</td>\n",
       "      <td>11.557690</td>\n",
       "      <td>11.564004</td>\n",
       "      <td>...</td>\n",
       "      <td>0.078424</td>\n",
       "      <td>0.0</td>\n",
       "      <td>0.0</td>\n",
       "      <td>0.051417</td>\n",
       "      <td>7.757496</td>\n",
       "      <td>3.677842</td>\n",
       "      <td>4.587108</td>\n",
       "      <td>11.435338</td>\n",
       "      <td>255.032633</td>\n",
       "      <td>1.893028e+09</td>\n",
       "    </tr>\n",
       "    <tr>\n",
       "      <th>4</th>\n",
       "      <td>CE40</td>\n",
       "      <td>CE20</td>\n",
       "      <td>ET10_CoBA</td>\n",
       "      <td>ET10_CoBA</td>\n",
       "      <td>ET10_CoBA</td>\n",
       "      <td>118.750050</td>\n",
       "      <td>48.394232</td>\n",
       "      <td>48.624391</td>\n",
       "      <td>52.568369</td>\n",
       "      <td>59.959634</td>\n",
       "      <td>...</td>\n",
       "      <td>-0.002809</td>\n",
       "      <td>0.0</td>\n",
       "      <td>0.0</td>\n",
       "      <td>0.016454</td>\n",
       "      <td>9.604591</td>\n",
       "      <td>9.163552</td>\n",
       "      <td>8.166602</td>\n",
       "      <td>18.768143</td>\n",
       "      <td>726.809460</td>\n",
       "      <td>1.893029e+09</td>\n",
       "    </tr>\n",
       "    <tr>\n",
       "      <th>...</th>\n",
       "      <td>...</td>\n",
       "      <td>...</td>\n",
       "      <td>...</td>\n",
       "      <td>...</td>\n",
       "      <td>...</td>\n",
       "      <td>...</td>\n",
       "      <td>...</td>\n",
       "      <td>...</td>\n",
       "      <td>...</td>\n",
       "      <td>...</td>\n",
       "      <td>...</td>\n",
       "      <td>...</td>\n",
       "      <td>...</td>\n",
       "      <td>...</td>\n",
       "      <td>...</td>\n",
       "      <td>...</td>\n",
       "      <td>...</td>\n",
       "      <td>...</td>\n",
       "      <td>...</td>\n",
       "      <td>...</td>\n",
       "      <td>...</td>\n",
       "    </tr>\n",
       "    <tr>\n",
       "      <th>31723</th>\n",
       "      <td>CE40</td>\n",
       "      <td>CE20</td>\n",
       "      <td>ET10_CoBA</td>\n",
       "      <td>ET10_CoBA</td>\n",
       "      <td>ET10_CoBA</td>\n",
       "      <td>143.715625</td>\n",
       "      <td>85.026031</td>\n",
       "      <td>27.309742</td>\n",
       "      <td>17.701951</td>\n",
       "      <td>22.978051</td>\n",
       "      <td>...</td>\n",
       "      <td>-0.106414</td>\n",
       "      <td>0.0</td>\n",
       "      <td>0.0</td>\n",
       "      <td>-0.383791</td>\n",
       "      <td>11.843026</td>\n",
       "      <td>11.747124</td>\n",
       "      <td>10.268108</td>\n",
       "      <td>23.590151</td>\n",
       "      <td>740.015986</td>\n",
       "      <td>1.924564e+09</td>\n",
       "    </tr>\n",
       "    <tr>\n",
       "      <th>31724</th>\n",
       "      <td>CE40</td>\n",
       "      <td>CE20</td>\n",
       "      <td>ET10_CoBA</td>\n",
       "      <td>ET10_CoBA</td>\n",
       "      <td>ET10_CoBA</td>\n",
       "      <td>27.652694</td>\n",
       "      <td>27.344690</td>\n",
       "      <td>33.924644</td>\n",
       "      <td>35.764627</td>\n",
       "      <td>22.748134</td>\n",
       "      <td>...</td>\n",
       "      <td>-0.011413</td>\n",
       "      <td>0.0</td>\n",
       "      <td>0.0</td>\n",
       "      <td>0.065236</td>\n",
       "      <td>24.015931</td>\n",
       "      <td>15.653630</td>\n",
       "      <td>16.802628</td>\n",
       "      <td>39.669561</td>\n",
       "      <td>2680.661719</td>\n",
       "      <td>1.924566e+09</td>\n",
       "    </tr>\n",
       "    <tr>\n",
       "      <th>31725</th>\n",
       "      <td>CE40</td>\n",
       "      <td>CE20</td>\n",
       "      <td>ET10_CoBA</td>\n",
       "      <td>ET10_CoBA</td>\n",
       "      <td>ET10_CoBA</td>\n",
       "      <td>44.165223</td>\n",
       "      <td>30.338099</td>\n",
       "      <td>15.876198</td>\n",
       "      <td>13.373911</td>\n",
       "      <td>8.137935</td>\n",
       "      <td>...</td>\n",
       "      <td>-0.174605</td>\n",
       "      <td>0.0</td>\n",
       "      <td>0.0</td>\n",
       "      <td>-0.286785</td>\n",
       "      <td>24.025652</td>\n",
       "      <td>21.389956</td>\n",
       "      <td>19.728316</td>\n",
       "      <td>45.415608</td>\n",
       "      <td>1494.141073</td>\n",
       "      <td>1.924568e+09</td>\n",
       "    </tr>\n",
       "    <tr>\n",
       "      <th>31726</th>\n",
       "      <td>CE40</td>\n",
       "      <td>CE20</td>\n",
       "      <td>ET10_CoBA</td>\n",
       "      <td>ET10_CoBA</td>\n",
       "      <td>ET10_CoBA</td>\n",
       "      <td>25.082589</td>\n",
       "      <td>11.767914</td>\n",
       "      <td>2.780939</td>\n",
       "      <td>4.864452</td>\n",
       "      <td>4.881824</td>\n",
       "      <td>...</td>\n",
       "      <td>0.002227</td>\n",
       "      <td>0.0</td>\n",
       "      <td>0.0</td>\n",
       "      <td>0.365035</td>\n",
       "      <td>11.909734</td>\n",
       "      <td>3.737950</td>\n",
       "      <td>5.626409</td>\n",
       "      <td>15.647684</td>\n",
       "      <td>1654.495984</td>\n",
       "      <td>1.924570e+09</td>\n",
       "    </tr>\n",
       "    <tr>\n",
       "      <th>31727</th>\n",
       "      <td>CE40</td>\n",
       "      <td>CE20</td>\n",
       "      <td>ET10_CoBA</td>\n",
       "      <td>ET10_CoBA</td>\n",
       "      <td>ET10_CoBA</td>\n",
       "      <td>56.585398</td>\n",
       "      <td>29.631875</td>\n",
       "      <td>9.627340</td>\n",
       "      <td>4.494296</td>\n",
       "      <td>9.860866</td>\n",
       "      <td>...</td>\n",
       "      <td>-0.071348</td>\n",
       "      <td>0.0</td>\n",
       "      <td>0.0</td>\n",
       "      <td>0.246536</td>\n",
       "      <td>8.825834</td>\n",
       "      <td>8.240588</td>\n",
       "      <td>7.423349</td>\n",
       "      <td>17.066422</td>\n",
       "      <td>1646.747799</td>\n",
       "      <td>1.924571e+09</td>\n",
       "    </tr>\n",
       "  </tbody>\n",
       "</table>\n",
       "<p>31728 rows × 59 columns</p>\n",
       "</div>"
      ],
      "text/plain": [
       "      PSD_C1 PSD_CE20     PSD_E1     PSD_E2     PSD_E3      SNR_C1   SNR_CE20  \\\n",
       "0       CE40     CE20  ET10_CoBA  ET10_CoBA  ET10_CoBA   89.081424  57.270932   \n",
       "1       CE40     CE20  ET10_CoBA  ET10_CoBA  ET10_CoBA    5.955440   4.285237   \n",
       "2       CE40     CE20  ET10_CoBA  ET10_CoBA  ET10_CoBA   26.147823  19.659339   \n",
       "3       CE40     CE20  ET10_CoBA  ET10_CoBA  ET10_CoBA   18.312133   8.410959   \n",
       "4       CE40     CE20  ET10_CoBA  ET10_CoBA  ET10_CoBA  118.750050  48.394232   \n",
       "...      ...      ...        ...        ...        ...         ...        ...   \n",
       "31723   CE40     CE20  ET10_CoBA  ET10_CoBA  ET10_CoBA  143.715625  85.026031   \n",
       "31724   CE40     CE20  ET10_CoBA  ET10_CoBA  ET10_CoBA   27.652694  27.344690   \n",
       "31725   CE40     CE20  ET10_CoBA  ET10_CoBA  ET10_CoBA   44.165223  30.338099   \n",
       "31726   CE40     CE20  ET10_CoBA  ET10_CoBA  ET10_CoBA   25.082589  11.767914   \n",
       "31727   CE40     CE20  ET10_CoBA  ET10_CoBA  ET10_CoBA   56.585398  29.631875   \n",
       "\n",
       "          SNR_E1     SNR_E2     SNR_E3  ...    spin1z  spin2x  spin2y  \\\n",
       "0      18.387193  14.800440  10.186230  ... -0.061128     0.0     0.0   \n",
       "1      11.389722   8.947595  10.628861  ...  0.406850     0.0     0.0   \n",
       "2       9.576124  11.215747   9.800301  ...  0.190466     0.0     0.0   \n",
       "3      11.706618  11.557690  11.564004  ...  0.078424     0.0     0.0   \n",
       "4      48.624391  52.568369  59.959634  ... -0.002809     0.0     0.0   \n",
       "...          ...        ...        ...  ...       ...     ...     ...   \n",
       "31723  27.309742  17.701951  22.978051  ... -0.106414     0.0     0.0   \n",
       "31724  33.924644  35.764627  22.748134  ... -0.011413     0.0     0.0   \n",
       "31725  15.876198  13.373911   8.137935  ... -0.174605     0.0     0.0   \n",
       "31726   2.780939   4.864452   4.881824  ...  0.002227     0.0     0.0   \n",
       "31727   9.627340   4.494296   9.860866  ... -0.071348     0.0     0.0   \n",
       "\n",
       "         spin2z   srcmass1   srcmass2  srcmchirp  srcmtotal  time_interval  \\\n",
       "0      0.126310   7.140745   6.850547   6.088491  13.991292    1401.516982   \n",
       "1      0.114056   7.725840   5.403342   5.606829  13.129181    1051.424937   \n",
       "2      0.135335   9.001862   6.051958   6.400407  15.053820    1476.593981   \n",
       "3      0.051417   7.757496   3.677842   4.587108  11.435338     255.032633   \n",
       "4      0.016454   9.604591   9.163552   8.166602  18.768143     726.809460   \n",
       "...         ...        ...        ...        ...        ...            ...   \n",
       "31723 -0.383791  11.843026  11.747124  10.268108  23.590151     740.015986   \n",
       "31724  0.065236  24.015931  15.653630  16.802628  39.669561    2680.661719   \n",
       "31725 -0.286785  24.025652  21.389956  19.728316  45.415608    1494.141073   \n",
       "31726  0.365035  11.909734   3.737950   5.626409  15.647684    1654.495984   \n",
       "31727  0.246536   8.825834   8.240588   7.423349  17.066422    1646.747799   \n",
       "\n",
       "       trigger_time  \n",
       "0      1.893025e+09  \n",
       "1      1.893026e+09  \n",
       "2      1.893028e+09  \n",
       "3      1.893028e+09  \n",
       "4      1.893029e+09  \n",
       "...             ...  \n",
       "31723  1.924564e+09  \n",
       "31724  1.924566e+09  \n",
       "31725  1.924568e+09  \n",
       "31726  1.924570e+09  \n",
       "31727  1.924571e+09  \n",
       "\n",
       "[31728 rows x 59 columns]"
      ]
     },
     "execution_count": 5,
     "metadata": {},
     "output_type": "execute_result"
    }
   ],
   "source": [
    "pd.DataFrame(inj_data['results'])"
   ]
  },
  {
   "cell_type": "markdown",
   "id": "f45ead5a-67b6-4fa9-b985-a6ce0cbd29f0",
   "metadata": {
    "jp-MarkdownHeadingCollapsed": true
   },
   "source": [
    "### Calculate MF SNRs from Optimal SNRs"
   ]
  },
  {
   "cell_type": "code",
   "execution_count": 24,
   "id": "fd96f7e4-46b0-4774-ab5f-c10831095dae",
   "metadata": {},
   "outputs": [],
   "source": [
    "def mf_snr_from_opt_snr(opt_snr, method='chisq'):\n",
    "    \"\"\"\n",
    "    Choose method from ['chisq', 'normal']\n",
    "    \"\"\"\n",
    "    if method == 'normal':\n",
    "        mf_snr = np.random.normal(loc=opt_snr, scale=1.0)\n",
    "    elif method == 'chisq':\n",
    "        mf_snr_sq = ncx2.rvs(2, opt_snr**2)\n",
    "        mf_snr = np.sqrt(mf_snr_sq)\n",
    "    return(mf_snr)"
   ]
  },
  {
   "cell_type": "code",
   "execution_count": 7,
   "id": "0bc0106a-a6bf-4c89-9295-92d80569c185",
   "metadata": {},
   "outputs": [
    {
     "name": "stderr",
     "output_type": "stream",
     "text": [
      "100%|████████████████████████████████████████████████████████████████████████████████████████████████████████████████████████████████████████████████████████████████████████████████████████████████████████████████████████████████████████████████████████████████████████████| 31728/31728 [00:05<00:00, 6296.83it/s]\n"
     ]
    }
   ],
   "source": [
    "#dets = ['L1', 'H1', 'I1']\n",
    "dets = ['C1', 'CE20', 'E1', 'E2', 'E3']\n",
    "for det in dets:\n",
    "    inj_data['results'][f'SNR_mf_from_opt_{det}'] = []\n",
    "inj_data['results']['SNR_mf_from_opt_network'] = []\n",
    "\n",
    "for event in tqdm(range(len(inj_data['results']['SNR_network']))):\n",
    "    snr_netw_sq = 0\n",
    "    for det in dets:\n",
    "        snr_det = mf_snr_from_opt_snr(inj_data['results'][f'SNR_{det}'][event])\n",
    "        inj_data['results'][f'SNR_mf_from_opt_{det}'].append(snr_det)\n",
    "        snr_netw_sq += snr_det**2\n",
    "    inj_data['results']['SNR_mf_from_opt_network'].append(np.sqrt(snr_netw_sq))\n",
    "\n",
    "for key in inj_data['results'].keys():\n",
    "    if 'mf_from_opt' in key:\n",
    "        inj_data['results'][key] = np.array(inj_data['results'][key])"
   ]
  },
  {
   "cell_type": "markdown",
   "id": "21b84fb4-8e39-4fd4-b69c-98782c047e56",
   "metadata": {},
   "source": [
    "### Get detected"
   ]
  },
  {
   "cell_type": "code",
   "execution_count": 6,
   "id": "a477e1ca-99de-4456-adf9-aab0f724611c",
   "metadata": {},
   "outputs": [],
   "source": [
    "def get_detected_SNRs(data_dict, ifo_threshold=5, network_threshold=12, \n",
    "                      method='network', return_detected_dict=False, \n",
    "                      snr_type='mf_from_opt'):\n",
    "    if type(data_dict) == pd.core.frame.DataFrame:\n",
    "        pass\n",
    "    else:\n",
    "        data_dict = pd.DataFrame(data_dict)\n",
    "        \n",
    "    if snr_type == 'opt':\n",
    "        SNR_keys = [key for key in data_dict.keys() if 'SNR' in key and 'mf' not in key]\n",
    "    elif snr_type == 'mf_from_opt':\n",
    "        SNR_keys = [key for key in data_dict.keys() if 'SNR_mf_from_opt' in key]\n",
    "    elif snr_type == 'mf':\n",
    "        SNR_keys = [key for key in data_dict.keys() if 'SNR_mf' in key and 'from_opt' not in key]\n",
    "    else:\n",
    "        raise KeyError('Please choose snr_type from \"opt\" or \"mf\"')\n",
    "    print(SNR_keys)\n",
    "    detected_bool_dict = {}\n",
    "    detected_dict = {}\n",
    "    \n",
    "    for key in SNR_keys:\n",
    "        if snr_type == 'opt':\n",
    "            dict_key = key.split('SNR_')[-1]\n",
    "        elif snr_type == 'mf_from_opt':\n",
    "            dict_key = key.split('SNR_mf_from_opt_')[-1]\n",
    "        elif snr_type == 'mf':\n",
    "            dict_key = key.split('SNR_mf_')[-1]\n",
    "        \n",
    "        if \"network\" in key:\n",
    "            threshold = network_threshold\n",
    "        else:\n",
    "            threshold = ifo_threshold\n",
    "\n",
    "        detected_bool_dict[dict_key] = data_dict[key] >= threshold\n",
    "        detected_dict[dict_key] = data_dict[detected_bool_dict[dict_key]]\n",
    "\n",
    "    if method=='all':\n",
    "        detected_events_df = data_dict[np.all(tuple(detected_bool_dict.values()), axis=0) & detected_bool_dict['network']]\n",
    "    elif method == 'two-detector':\n",
    "        detector_keys = [key for key in detected_bool_dict.keys() if key != 'network']\n",
    "        detection_sum = np.sum([detected_bool_dict[key] for key in detector_keys], axis=0)\n",
    "        detected_events_df = data_dict[(detection_sum >= 2) & (detected_bool_dict['network'])]\n",
    "    elif method=='network':\n",
    "        detected_events_df = detected_dict['network']\n",
    "\n",
    "    if return_detected_dict:\n",
    "        return(detected_events_df, detected_dict)\n",
    "    else:\n",
    "        return(detected_events_df)"
   ]
  },
  {
   "cell_type": "code",
   "execution_count": 7,
   "id": "76e3decd-03f2-49c6-a05a-0d687ac85332",
   "metadata": {},
   "outputs": [
    {
     "data": {
      "image/png": "[encoded data removed]",
      "text/plain": [
       "<Figure size 640x480 with 1 Axes>"
      ]
     },
     "metadata": {},
     "output_type": "display_data"
    }
   ],
   "source": [
    "plt.hist(inj_data['results']['SNR_mf_from_opt_network'], bins=np.logspace(0,3.3,50), histtype=u'step', label='MF from opt');\n",
    "plt.hist(inj_data['results']['SNR_mf_network'], bins=np.logspace(0,3.3,50), histtype=u'step', label='MF');\n",
    "plt.hist(inj_data['results']['SNR_network'], bins=np.logspace(0,3.3,50), histtype=u'step', label='Optimal');\n",
    "plt.xlabel('SNR')\n",
    "plt.legend()\n",
    "plt.xscale('log')"
   ]
  },
  {
   "cell_type": "code",
   "execution_count": 8,
   "id": "3134163a-b594-427b-87c8-b273181e340d",
   "metadata": {},
   "outputs": [
    {
     "name": "stdout",
     "output_type": "stream",
     "text": [
      "['SNR_mf_from_opt_C1', 'SNR_mf_from_opt_CE20', 'SNR_mf_from_opt_E1', 'SNR_mf_from_opt_E2', 'SNR_mf_from_opt_E3', 'SNR_mf_from_opt_network']\n"
     ]
    }
   ],
   "source": [
    "inj_data['detected_mf_from_opt'] = get_detected_SNRs(inj_data['results'], method='two-detector', \n",
    "                                                     snr_type='mf_from_opt', network_threshold=10)"
   ]
  },
  {
   "cell_type": "markdown",
   "id": "57f1e6f1-ed23-4ff4-aa06-6fa4431c14b4",
   "metadata": {},
   "source": [
    "### Detected percentage"
   ]
  },
  {
   "cell_type": "code",
   "execution_count": 9,
   "id": "a35218e6-f54a-447a-9874-987415b95cda",
   "metadata": {},
   "outputs": [
    {
     "name": "stdout",
     "output_type": "stream",
     "text": [
      "Total = 31728\n",
      "detected = 30590 = 96.4 %\n"
     ]
    }
   ],
   "source": [
    "n_total = len(inj_data['results']['redshift'])\n",
    "n_detected = len(inj_data['detected_mf_from_opt']['redshift'])\n",
    "\n",
    "print('Total =', n_total)\n",
    "print('detected =', n_detected, '=', round(n_detected*100/n_total, 1), '%')"
   ]
  },
  {
   "cell_type": "markdown",
   "id": "a176ec62-1d66-43f7-a5d0-15e2ecc5d341",
   "metadata": {},
   "source": [
    "### Choose n_events from detected as injection parameters"
   ]
  },
  {
   "cell_type": "code",
   "execution_count": 10,
   "id": "68f6f9ca-0cf1-409b-9685-fb879909586f",
   "metadata": {},
   "outputs": [],
   "source": [
    "n_events = 5767\n",
    "#n_events = len(inj_data['detected_mf_from_opt']['redshift'])\n",
    "inj_data['selected_n_events'] = inj_data['detected_mf_from_opt'].sample(n_events, \n",
    "                                                                        random_state=123).reset_index().rename(columns={'index': 'old_index'})\n",
    "#inj_data['selected_n_events'] = inj_data['detected_mf'].iloc[:n_events]"
   ]
  },
  {
   "cell_type": "code",
   "execution_count": 11,
   "id": "2013bda2-5745-4e75-a143-191f2dcdc1e8",
   "metadata": {},
   "outputs": [
    {
     "data": {
      "text/plain": [
       "Text(0.5, 0, 'z')"
      ]
     },
     "execution_count": 11,
     "metadata": {},
     "output_type": "execute_result"
    },
    {
     "data": {
      "image/png": "[encoded data removed]",
      "text/plain": [
       "<Figure size 640x480 with 1 Axes>"
      ]
     },
     "metadata": {},
     "output_type": "display_data"
    }
   ],
   "source": [
    "plt.hist(inj_data['detected_mf_from_opt']['redshift'], density=True, histtype=u'step', bins=np.linspace(0,10,50), \n",
    "         label='Detected')\n",
    "plt.hist(inj_data['selected_n_events']['redshift'], density=True, histtype=u'step', \n",
    "         bins=np.linspace(0,10,50), label='Selected');\n",
    "plt.legend()\n",
    "plt.xlabel('z')"
   ]
  },
  {
   "cell_type": "code",
   "execution_count": 12,
   "id": "7045e3f1-9948-4b11-83c2-0fa5133f6965",
   "metadata": {},
   "outputs": [
    {
     "data": {
      "text/plain": [
       "5767"
      ]
     },
     "execution_count": 12,
     "metadata": {},
     "output_type": "execute_result"
    }
   ],
   "source": [
    "len(inj_data['selected_n_events']['redshift'])"
   ]
  },
  {
   "cell_type": "markdown",
   "id": "e5332943-7fee-41c2-965b-b7f0e929846f",
   "metadata": {},
   "source": [
    "## FM analysis with GWBench"
   ]
  },
  {
   "cell_type": "markdown",
   "id": "64890cf4-ef5d-41b1-9911-e2a99529791d",
   "metadata": {
    "jp-MarkdownHeadingCollapsed": true
   },
   "source": [
    "### Setup - A#"
   ]
  },
  {
   "cell_type": "code",
   "execution_count": 49,
   "id": "6fb726cf-4bb4-4061-892e-0c87cd7654a8",
   "metadata": {},
   "outputs": [],
   "source": [
    "fm_params_str = 'Mc eta DL iota tc phic ra dec psi'\n",
    "def run_analysis(inj_params, f_low, f_ref, f_high, df, logging_level='WARNING', num_cores=4):\n",
    "    f\"\"\"\n",
    "    Parameters:\n",
    "    -------------------------------------------------------------\n",
    "    inj_params: dict\n",
    "        dict with keys: Mc, eta, tc, phic, \n",
    "                        DL, iota, ra, dec, psi, \n",
    "                        chi1x, chi1y, chi1z, chi2x, chi2y, chi2z\n",
    "    Returns:\n",
    "    -----------------------\n",
    "    FM: matrix\n",
    "        Fisher matrix with parameter order as: {fm_params_str}\n",
    "    cov: matrix\n",
    "        Covariance matrix corresponding to the FM\n",
    "    errors: dict\n",
    "        Parameter errors\n",
    "    \"\"\"\n",
    "    wf_model_name = 'lal_bbh'\n",
    "    wf_other_var_dic = {'approximant':'IMRPhenomXPHM', 'fRef':f_ref}\n",
    "    user_psds = {'A-Sharp':{'psd_file': '/home/divyajyoti/ACADEMIC/Projects/Cardiff_University/Next_gen_detectability/scripts/next_gen_detect/noise_curves/Asharp-asd.txt', \n",
    "                            'is_asd': True}}\n",
    "    user_locs = {'I1':{'longitude': 1.34444215058, 'latitude':0.34231676739, 'arm_azimuth':2.0527812170378947, \n",
    "                       'which_arm':'x', 'shape':'L'}}\n",
    "    conv_log = ('Mc', 'DL')\n",
    "    ana_deriv_symbs_string = 'DL tc phic ra dec psi'\n",
    "    network_spec = ['A-Sharp_L', 'A-Sharp_H', 'A-Sharp_I1']\n",
    "    f_arr = np.arange(f_low, f_high+df, df)\n",
    "    net = Network(network_spec, logger_level=logging_level)\n",
    "    net.set_net_vars(wf_model_name=wf_model_name, \n",
    "                     wf_other_var_dic=wf_other_var_dic,\n",
    "                     f=f_arr, \n",
    "                     inj_params=inj_params,\n",
    "                     deriv_symbs_string=fm_params_str,\n",
    "                     ana_deriv_symbs_string=ana_deriv_symbs_string,\n",
    "                     conv_log=conv_log, \n",
    "                     user_psds=user_psds, \n",
    "                     user_locs=user_locs)\n",
    "    net.calc_errors(derivs='num', f_lo=f_low, f_hi=f_high, num_cores=num_cores)\n",
    "    return(net.fisher, net.cov, net.errs, net.snr, net.deriv_variables, net.inv_err['inv_err'])"
   ]
  },
  {
   "cell_type": "markdown",
   "id": "4aaacd2f-ead4-4f50-82f9-76f0aaa1e057",
   "metadata": {},
   "source": [
    "### Setup - CE4020ET123"
   ]
  },
  {
   "cell_type": "code",
   "execution_count": 13,
   "id": "491e8791-bf4f-463c-92e5-6895cfcffe6c",
   "metadata": {},
   "outputs": [],
   "source": [
    "fm_params_str = 'Mc eta DL iota tc phic ra dec psi'\n",
    "def run_analysis(inj_params, f_low, f_ref, f_high, df, logging_level='WARNING', num_cores=4):\n",
    "    f\"\"\"\n",
    "    Parameters:\n",
    "    -------------------------------------------------------------\n",
    "    inj_params: dict\n",
    "        dict with keys: Mc, eta, tc, phic, \n",
    "                        DL, iota, ra, dec, psi, \n",
    "                        chi1x, chi1y, chi1z, chi2x, chi2y, chi2z\n",
    "    Returns:\n",
    "    -----------------------\n",
    "    FM: matrix\n",
    "        Fisher matrix with parameter order as: {fm_params_str}\n",
    "    cov: matrix\n",
    "        Covariance matrix corresponding to the FM\n",
    "    errors: dict\n",
    "        Parameter errors\n",
    "    \"\"\"\n",
    "    wf_model_name = 'lal_bbh'\n",
    "    wf_other_var_dic = {'approximant':'IMRPhenomXPHM', 'fRef':f_ref}\n",
    "    user_psds = {'CE40':{'psd_file': '/home/divyajyoti/ACADEMIC/Projects/Cardiff_University/Next_gen_detectability/scripts/next_gen_detect/noise_curves/CE40-asd.txt', \n",
    "                         'is_asd': True}, \n",
    "                 'CE20':{'psd_file': '/home/divyajyoti/ACADEMIC/Projects/Cardiff_University/Next_gen_detectability/scripts/next_gen_detect/noise_curves/CE20-asd.txt', \n",
    "                         'is_asd': True}, \n",
    "                 'ET10-CoBA':{'psd_file': '/home/divyajyoti/ACADEMIC/Projects/Cardiff_University/Next_gen_detectability/scripts/next_gen_detect/noise_curves/ET10_CoBA-psd.txt', \n",
    "                              'is_asd': False}}\n",
    "    user_locs = {'C1':{'longitude': -2.06175744538, 'latitude': 0.59637900541, 'arm_azimuth':0, 'which_arm':'y', 'shape':'L'},\n",
    "                 'CE20':{'longitude': -1.6406094969, 'latitude': 0.5061454831, 'arm_azimuth':2*np.pi-5.0614548308, 'which_arm':'y', \n",
    "                         'shape':'L'}}\n",
    "    conv_log = ('Mc', 'DL')\n",
    "    ana_deriv_symbs_string = 'DL tc phic ra dec psi'\n",
    "    network_spec = ['CE40_C1', 'CE20_CE20', 'ET10-CoBA_ET1', 'ET10-CoBA_ET2', 'ET10-CoBA_ET3']\n",
    "    f_arr = np.arange(f_low, f_high+df, df)\n",
    "    net = Network(network_spec, logger_level=logging_level)\n",
    "    net.set_net_vars(wf_model_name=wf_model_name, \n",
    "                     wf_other_var_dic=wf_other_var_dic,\n",
    "                     f=f_arr, \n",
    "                     inj_params=inj_params,\n",
    "                     deriv_symbs_string=fm_params_str,\n",
    "                     ana_deriv_symbs_string=ana_deriv_symbs_string,\n",
    "                     conv_log=conv_log, \n",
    "                     user_psds=user_psds,\n",
    "                     user_locs=user_locs)\n",
    "    net.calc_errors(derivs='num', f_lo=f_low, f_hi=f_high, num_cores=num_cores)\n",
    "    return(net.fisher, net.cov, net.errs, net.snr, net.deriv_variables, net.inv_err['inv_err'])"
   ]
  },
  {
   "cell_type": "markdown",
   "id": "ba1567a8-5bcd-431d-8ad5-ff73c59ecab3",
   "metadata": {},
   "source": [
    "### Calculate Errors"
   ]
  },
  {
   "cell_type": "code",
   "execution_count": 14,
   "id": "fbaf1432-64ee-490c-bfda-a792644b567b",
   "metadata": {},
   "outputs": [],
   "source": [
    "gwbench_to_pycbc_map = {\n",
    "    'Mc': 'mchirp',\n",
    "    'eta': 'eta',\n",
    "    'DL': 'distance',\n",
    "    'ra': 'ra',\n",
    "    'dec': 'dec',\n",
    "    'psi': 'polarization',\n",
    "    'chi1z': 'spin1z',\n",
    "    'chi2z': 'spin2z',\n",
    "    'tc': 'trigger_time',\n",
    "    'phic': 'coa_phase'\n",
    "}"
   ]
  },
  {
   "cell_type": "code",
   "execution_count": 15,
   "id": "2c648992-059a-4453-a711-f3a42dafb98f",
   "metadata": {},
   "outputs": [
    {
     "data": {
      "text/html": [
       "<div>\n",
       "<style scoped>\n",
       "    .dataframe tbody tr th:only-of-type {\n",
       "        vertical-align: middle;\n",
       "    }\n",
       "\n",
       "    .dataframe tbody tr th {\n",
       "        vertical-align: top;\n",
       "    }\n",
       "\n",
       "    .dataframe thead th {\n",
       "        text-align: right;\n",
       "    }\n",
       "</style>\n",
       "<table border=\"1\" class=\"dataframe\">\n",
       "  <thead>\n",
       "    <tr style=\"text-align: right;\">\n",
       "      <th></th>\n",
       "      <th>old_index</th>\n",
       "      <th>PSD_C1</th>\n",
       "      <th>PSD_CE20</th>\n",
       "      <th>PSD_E1</th>\n",
       "      <th>PSD_E2</th>\n",
       "      <th>PSD_E3</th>\n",
       "      <th>SNR_C1</th>\n",
       "      <th>SNR_CE20</th>\n",
       "      <th>SNR_E1</th>\n",
       "      <th>SNR_E2</th>\n",
       "      <th>...</th>\n",
       "      <th>spin1z</th>\n",
       "      <th>spin2x</th>\n",
       "      <th>spin2y</th>\n",
       "      <th>spin2z</th>\n",
       "      <th>srcmass1</th>\n",
       "      <th>srcmass2</th>\n",
       "      <th>srcmchirp</th>\n",
       "      <th>srcmtotal</th>\n",
       "      <th>time_interval</th>\n",
       "      <th>trigger_time</th>\n",
       "    </tr>\n",
       "  </thead>\n",
       "  <tbody>\n",
       "    <tr>\n",
       "      <th>0</th>\n",
       "      <td>18747</td>\n",
       "      <td>CE40</td>\n",
       "      <td>CE20</td>\n",
       "      <td>ET10_CoBA</td>\n",
       "      <td>ET10_CoBA</td>\n",
       "      <td>ET10_CoBA</td>\n",
       "      <td>55.536776</td>\n",
       "      <td>26.677202</td>\n",
       "      <td>15.647321</td>\n",
       "      <td>16.002680</td>\n",
       "      <td>...</td>\n",
       "      <td>0.076150</td>\n",
       "      <td>0.0</td>\n",
       "      <td>0.0</td>\n",
       "      <td>0.176487</td>\n",
       "      <td>11.092899</td>\n",
       "      <td>7.050880</td>\n",
       "      <td>7.659977</td>\n",
       "      <td>18.143779</td>\n",
       "      <td>302.563764</td>\n",
       "      <td>1.911635e+09</td>\n",
       "    </tr>\n",
       "    <tr>\n",
       "      <th>1</th>\n",
       "      <td>14008</td>\n",
       "      <td>CE40</td>\n",
       "      <td>CE20</td>\n",
       "      <td>ET10_CoBA</td>\n",
       "      <td>ET10_CoBA</td>\n",
       "      <td>ET10_CoBA</td>\n",
       "      <td>54.159732</td>\n",
       "      <td>36.144803</td>\n",
       "      <td>14.760381</td>\n",
       "      <td>14.351107</td>\n",
       "      <td>...</td>\n",
       "      <td>0.041180</td>\n",
       "      <td>0.0</td>\n",
       "      <td>0.0</td>\n",
       "      <td>-0.124308</td>\n",
       "      <td>7.027979</td>\n",
       "      <td>2.923010</td>\n",
       "      <td>3.872784</td>\n",
       "      <td>9.950989</td>\n",
       "      <td>368.525422</td>\n",
       "      <td>1.906809e+09</td>\n",
       "    </tr>\n",
       "    <tr>\n",
       "      <th>2</th>\n",
       "      <td>5367</td>\n",
       "      <td>CE40</td>\n",
       "      <td>CE20</td>\n",
       "      <td>ET10_CoBA</td>\n",
       "      <td>ET10_CoBA</td>\n",
       "      <td>ET10_CoBA</td>\n",
       "      <td>50.810638</td>\n",
       "      <td>34.005549</td>\n",
       "      <td>26.424110</td>\n",
       "      <td>25.734856</td>\n",
       "      <td>...</td>\n",
       "      <td>-0.112430</td>\n",
       "      <td>0.0</td>\n",
       "      <td>0.0</td>\n",
       "      <td>-0.027157</td>\n",
       "      <td>18.598281</td>\n",
       "      <td>8.674058</td>\n",
       "      <td>10.901157</td>\n",
       "      <td>27.272338</td>\n",
       "      <td>610.009607</td>\n",
       "      <td>1.898345e+09</td>\n",
       "    </tr>\n",
       "    <tr>\n",
       "      <th>3</th>\n",
       "      <td>23820</td>\n",
       "      <td>CE40</td>\n",
       "      <td>CE20</td>\n",
       "      <td>ET10_CoBA</td>\n",
       "      <td>ET10_CoBA</td>\n",
       "      <td>ET10_CoBA</td>\n",
       "      <td>27.618614</td>\n",
       "      <td>13.773625</td>\n",
       "      <td>2.115510</td>\n",
       "      <td>2.105184</td>\n",
       "      <td>...</td>\n",
       "      <td>-0.030078</td>\n",
       "      <td>0.0</td>\n",
       "      <td>0.0</td>\n",
       "      <td>-0.162919</td>\n",
       "      <td>8.670643</td>\n",
       "      <td>8.316515</td>\n",
       "      <td>7.392162</td>\n",
       "      <td>16.987158</td>\n",
       "      <td>581.171725</td>\n",
       "      <td>1.916626e+09</td>\n",
       "    </tr>\n",
       "    <tr>\n",
       "      <th>4</th>\n",
       "      <td>27103</td>\n",
       "      <td>CE40</td>\n",
       "      <td>CE20</td>\n",
       "      <td>ET10_CoBA</td>\n",
       "      <td>ET10_CoBA</td>\n",
       "      <td>ET10_CoBA</td>\n",
       "      <td>68.416139</td>\n",
       "      <td>41.223552</td>\n",
       "      <td>14.798247</td>\n",
       "      <td>10.495220</td>\n",
       "      <td>...</td>\n",
       "      <td>0.062304</td>\n",
       "      <td>0.0</td>\n",
       "      <td>0.0</td>\n",
       "      <td>0.027510</td>\n",
       "      <td>37.684345</td>\n",
       "      <td>22.969585</td>\n",
       "      <td>25.457555</td>\n",
       "      <td>60.653930</td>\n",
       "      <td>440.834127</td>\n",
       "      <td>1.919923e+09</td>\n",
       "    </tr>\n",
       "    <tr>\n",
       "      <th>...</th>\n",
       "      <td>...</td>\n",
       "      <td>...</td>\n",
       "      <td>...</td>\n",
       "      <td>...</td>\n",
       "      <td>...</td>\n",
       "      <td>...</td>\n",
       "      <td>...</td>\n",
       "      <td>...</td>\n",
       "      <td>...</td>\n",
       "      <td>...</td>\n",
       "      <td>...</td>\n",
       "      <td>...</td>\n",
       "      <td>...</td>\n",
       "      <td>...</td>\n",
       "      <td>...</td>\n",
       "      <td>...</td>\n",
       "      <td>...</td>\n",
       "      <td>...</td>\n",
       "      <td>...</td>\n",
       "      <td>...</td>\n",
       "      <td>...</td>\n",
       "    </tr>\n",
       "    <tr>\n",
       "      <th>5762</th>\n",
       "      <td>21401</td>\n",
       "      <td>CE40</td>\n",
       "      <td>CE20</td>\n",
       "      <td>ET10_CoBA</td>\n",
       "      <td>ET10_CoBA</td>\n",
       "      <td>ET10_CoBA</td>\n",
       "      <td>15.405418</td>\n",
       "      <td>11.952305</td>\n",
       "      <td>8.899733</td>\n",
       "      <td>9.718894</td>\n",
       "      <td>...</td>\n",
       "      <td>-0.202505</td>\n",
       "      <td>0.0</td>\n",
       "      <td>0.0</td>\n",
       "      <td>0.035886</td>\n",
       "      <td>10.789628</td>\n",
       "      <td>8.542745</td>\n",
       "      <td>8.346517</td>\n",
       "      <td>19.332372</td>\n",
       "      <td>297.672398</td>\n",
       "      <td>1.914283e+09</td>\n",
       "    </tr>\n",
       "    <tr>\n",
       "      <th>5763</th>\n",
       "      <td>28613</td>\n",
       "      <td>CE40</td>\n",
       "      <td>CE20</td>\n",
       "      <td>ET10_CoBA</td>\n",
       "      <td>ET10_CoBA</td>\n",
       "      <td>ET10_CoBA</td>\n",
       "      <td>168.126078</td>\n",
       "      <td>100.121266</td>\n",
       "      <td>32.767760</td>\n",
       "      <td>21.057347</td>\n",
       "      <td>...</td>\n",
       "      <td>-0.197487</td>\n",
       "      <td>0.0</td>\n",
       "      <td>0.0</td>\n",
       "      <td>0.241799</td>\n",
       "      <td>26.718398</td>\n",
       "      <td>22.355951</td>\n",
       "      <td>21.259411</td>\n",
       "      <td>49.074348</td>\n",
       "      <td>1339.356209</td>\n",
       "      <td>1.921463e+09</td>\n",
       "    </tr>\n",
       "    <tr>\n",
       "      <th>5764</th>\n",
       "      <td>9187</td>\n",
       "      <td>CE40</td>\n",
       "      <td>CE20</td>\n",
       "      <td>ET10_CoBA</td>\n",
       "      <td>ET10_CoBA</td>\n",
       "      <td>ET10_CoBA</td>\n",
       "      <td>12.747861</td>\n",
       "      <td>7.515708</td>\n",
       "      <td>5.151507</td>\n",
       "      <td>3.869604</td>\n",
       "      <td>...</td>\n",
       "      <td>-0.003616</td>\n",
       "      <td>0.0</td>\n",
       "      <td>0.0</td>\n",
       "      <td>-0.005440</td>\n",
       "      <td>8.743461</td>\n",
       "      <td>5.364918</td>\n",
       "      <td>5.927239</td>\n",
       "      <td>14.108379</td>\n",
       "      <td>1082.951400</td>\n",
       "      <td>1.902111e+09</td>\n",
       "    </tr>\n",
       "    <tr>\n",
       "      <th>5765</th>\n",
       "      <td>12201</td>\n",
       "      <td>CE40</td>\n",
       "      <td>CE20</td>\n",
       "      <td>ET10_CoBA</td>\n",
       "      <td>ET10_CoBA</td>\n",
       "      <td>ET10_CoBA</td>\n",
       "      <td>22.308514</td>\n",
       "      <td>26.885689</td>\n",
       "      <td>9.822204</td>\n",
       "      <td>8.219548</td>\n",
       "      <td>...</td>\n",
       "      <td>0.217484</td>\n",
       "      <td>0.0</td>\n",
       "      <td>0.0</td>\n",
       "      <td>0.154004</td>\n",
       "      <td>34.740952</td>\n",
       "      <td>24.486457</td>\n",
       "      <td>25.313724</td>\n",
       "      <td>59.227408</td>\n",
       "      <td>1011.536184</td>\n",
       "      <td>1.904952e+09</td>\n",
       "    </tr>\n",
       "    <tr>\n",
       "      <th>5766</th>\n",
       "      <td>17714</td>\n",
       "      <td>CE40</td>\n",
       "      <td>CE20</td>\n",
       "      <td>ET10_CoBA</td>\n",
       "      <td>ET10_CoBA</td>\n",
       "      <td>ET10_CoBA</td>\n",
       "      <td>41.974145</td>\n",
       "      <td>30.366066</td>\n",
       "      <td>6.302631</td>\n",
       "      <td>8.431439</td>\n",
       "      <td>...</td>\n",
       "      <td>0.140115</td>\n",
       "      <td>0.0</td>\n",
       "      <td>0.0</td>\n",
       "      <td>-0.029227</td>\n",
       "      <td>9.098703</td>\n",
       "      <td>5.021161</td>\n",
       "      <td>5.833163</td>\n",
       "      <td>14.119864</td>\n",
       "      <td>264.549227</td>\n",
       "      <td>1.910570e+09</td>\n",
       "    </tr>\n",
       "  </tbody>\n",
       "</table>\n",
       "<p>5767 rows × 60 columns</p>\n",
       "</div>"
      ],
      "text/plain": [
       "      old_index PSD_C1 PSD_CE20     PSD_E1     PSD_E2     PSD_E3      SNR_C1  \\\n",
       "0         18747   CE40     CE20  ET10_CoBA  ET10_CoBA  ET10_CoBA   55.536776   \n",
       "1         14008   CE40     CE20  ET10_CoBA  ET10_CoBA  ET10_CoBA   54.159732   \n",
       "2          5367   CE40     CE20  ET10_CoBA  ET10_CoBA  ET10_CoBA   50.810638   \n",
       "3         23820   CE40     CE20  ET10_CoBA  ET10_CoBA  ET10_CoBA   27.618614   \n",
       "4         27103   CE40     CE20  ET10_CoBA  ET10_CoBA  ET10_CoBA   68.416139   \n",
       "...         ...    ...      ...        ...        ...        ...         ...   \n",
       "5762      21401   CE40     CE20  ET10_CoBA  ET10_CoBA  ET10_CoBA   15.405418   \n",
       "5763      28613   CE40     CE20  ET10_CoBA  ET10_CoBA  ET10_CoBA  168.126078   \n",
       "5764       9187   CE40     CE20  ET10_CoBA  ET10_CoBA  ET10_CoBA   12.747861   \n",
       "5765      12201   CE40     CE20  ET10_CoBA  ET10_CoBA  ET10_CoBA   22.308514   \n",
       "5766      17714   CE40     CE20  ET10_CoBA  ET10_CoBA  ET10_CoBA   41.974145   \n",
       "\n",
       "        SNR_CE20     SNR_E1     SNR_E2  ...    spin1z  spin2x  spin2y  \\\n",
       "0      26.677202  15.647321  16.002680  ...  0.076150     0.0     0.0   \n",
       "1      36.144803  14.760381  14.351107  ...  0.041180     0.0     0.0   \n",
       "2      34.005549  26.424110  25.734856  ... -0.112430     0.0     0.0   \n",
       "3      13.773625   2.115510   2.105184  ... -0.030078     0.0     0.0   \n",
       "4      41.223552  14.798247  10.495220  ...  0.062304     0.0     0.0   \n",
       "...          ...        ...        ...  ...       ...     ...     ...   \n",
       "5762   11.952305   8.899733   9.718894  ... -0.202505     0.0     0.0   \n",
       "5763  100.121266  32.767760  21.057347  ... -0.197487     0.0     0.0   \n",
       "5764    7.515708   5.151507   3.869604  ... -0.003616     0.0     0.0   \n",
       "5765   26.885689   9.822204   8.219548  ...  0.217484     0.0     0.0   \n",
       "5766   30.366066   6.302631   8.431439  ...  0.140115     0.0     0.0   \n",
       "\n",
       "        spin2z   srcmass1   srcmass2  srcmchirp  srcmtotal  time_interval  \\\n",
       "0     0.176487  11.092899   7.050880   7.659977  18.143779     302.563764   \n",
       "1    -0.124308   7.027979   2.923010   3.872784   9.950989     368.525422   \n",
       "2    -0.027157  18.598281   8.674058  10.901157  27.272338     610.009607   \n",
       "3    -0.162919   8.670643   8.316515   7.392162  16.987158     581.171725   \n",
       "4     0.027510  37.684345  22.969585  25.457555  60.653930     440.834127   \n",
       "...        ...        ...        ...        ...        ...            ...   \n",
       "5762  0.035886  10.789628   8.542745   8.346517  19.332372     297.672398   \n",
       "5763  0.241799  26.718398  22.355951  21.259411  49.074348    1339.356209   \n",
       "5764 -0.005440   8.743461   5.364918   5.927239  14.108379    1082.951400   \n",
       "5765  0.154004  34.740952  24.486457  25.313724  59.227408    1011.536184   \n",
       "5766 -0.029227   9.098703   5.021161   5.833163  14.119864     264.549227   \n",
       "\n",
       "      trigger_time  \n",
       "0     1.911635e+09  \n",
       "1     1.906809e+09  \n",
       "2     1.898345e+09  \n",
       "3     1.916626e+09  \n",
       "4     1.919923e+09  \n",
       "...            ...  \n",
       "5762  1.914283e+09  \n",
       "5763  1.921463e+09  \n",
       "5764  1.902111e+09  \n",
       "5765  1.904952e+09  \n",
       "5766  1.910570e+09  \n",
       "\n",
       "[5767 rows x 60 columns]"
      ]
     },
     "execution_count": 15,
     "metadata": {},
     "output_type": "execute_result"
    }
   ],
   "source": [
    "inj_data['selected_n_events']"
   ]
  },
  {
   "cell_type": "code",
   "execution_count": 16,
   "id": "27525602-652c-49a5-8f85-4438d59eca67",
   "metadata": {},
   "outputs": [
    {
     "data": {
      "text/plain": [
       "Index(['old_index', 'PSD_C1', 'PSD_CE20', 'PSD_E1', 'PSD_E2', 'PSD_E3',\n",
       "       'SNR_C1', 'SNR_CE20', 'SNR_E1', 'SNR_E2', 'SNR_E3', 'SNR_mf_C1',\n",
       "       'SNR_mf_CE20', 'SNR_mf_E1', 'SNR_mf_E2', 'SNR_mf_E3',\n",
       "       'SNR_mf_from_opt_C1', 'SNR_mf_from_opt_CE20', 'SNR_mf_from_opt_E1',\n",
       "       'SNR_mf_from_opt_E2', 'SNR_mf_from_opt_E3', 'SNR_mf_from_opt_network',\n",
       "       'SNR_mf_network', 'SNR_network', 'approximant', 'chi_1',\n",
       "       'chi_1_in_plane', 'chi_2', 'chi_2_in_plane', 'chi_eff', 'chi_p',\n",
       "       'coa_phase', 'dec', 'delta_f', 'distance', 'eta', 'f_final', 'f_lower',\n",
       "       'f_ref', 'inclination', 'mass1', 'mass2', 'mchirp', 'mtotal',\n",
       "       'polarization', 'q', 'ra', 'redshift', 'spin1x', 'spin1y', 'spin1z',\n",
       "       'spin2x', 'spin2y', 'spin2z', 'srcmass1', 'srcmass2', 'srcmchirp',\n",
       "       'srcmtotal', 'time_interval', 'trigger_time'],\n",
       "      dtype='object')"
      ]
     },
     "execution_count": 16,
     "metadata": {},
     "output_type": "execute_result"
    }
   ],
   "source": [
    "inj_data['selected_n_events'].keys()"
   ]
  },
  {
   "cell_type": "code",
   "execution_count": 17,
   "id": "9b6c1647-2dc0-48ce-b408-a01d3557666b",
   "metadata": {},
   "outputs": [
    {
     "name": "stderr",
     "output_type": "stream",
     "text": [
      "2025-09-16 21:42:31,870 - Network - WARNING : calc_cov_inv_err: tag = ET10-CoBA_ET2 - There was an exception in the inversion of the Fisher matrix! 4487/5767 [2:31:14<35:11,  1.65s/it]\n",
      "2025-09-16 21:42:31,910 - Network - WARNING : calc_sky_area_90_network: tag = ET10-CoBA_ET2 - 90%-credible sky area not calculated due to None-valued cov or errs.\n",
      "100%|█████████████████████████████████████████████████████████████████████████████████████████████████████████████████████████████████████████████| 5767/5767 [3:09:19<00:00,  1.97s/it]\n"
     ]
    }
   ],
   "source": [
    "inj_records = inj_data['selected_n_events'].to_records()\n",
    "results = {'inj_params':[], 'cov':[], 'errs':[]}\n",
    "failed_events = {'inj_params':[], 'event_num':[]}\n",
    "#for event_num in tqdm(range(3)):\n",
    "for event_num in tqdm(range(len(inj_records))):\n",
    "    params_i = inj_records[event_num]\n",
    "    inj_params = {'chi1x': params_i['spin1x'], \n",
    "                  'chi1y': params_i['spin1y'],\n",
    "                  'chi2x': params_i['spin2x'],\n",
    "                  'chi2y': params_i['spin2y'],\n",
    "                  'chi1z': params_i['spin1z'],\n",
    "                  'chi2z': params_i['spin2z']}\n",
    "    for param in fm_params_str.split():\n",
    "        if param == 'iota':\n",
    "            theta_jn, phi_jl, tilt_1, tilt_2, phi_12, a_1, a_2 =  spin_angles(params_i['mass1'], params_i['mass2'], \n",
    "                                                                              params_i['inclination'], \n",
    "                                                                              params_i['spin1x'], params_i['spin1y'], params_i['spin1z'], \n",
    "                                                                              params_i['spin2x'], params_i['spin2y'], params_i['spin2z'], \n",
    "                                                                              params_i['f_ref'], params_i['coa_phase'])\n",
    "            inj_params[param] = theta_jn\n",
    "        else:\n",
    "            inj_params[param] = params_i[gwbench_to_pycbc_map[param]]\n",
    "    try:\n",
    "        fm, cov, errs, snr, deriv_vars, inv_err = run_analysis(inj_params, \n",
    "                                                               params_i['f_lower'], \n",
    "                                                               params_i['f_ref'],\n",
    "                                                               params_i['f_final'],\n",
    "                                                               1/16,\n",
    "                                                               num_cores=8)\n",
    "        results['inj_params'].append(inj_params)\n",
    "        errs['snr'] = snr\n",
    "        errs['inv_err'] = inv_err\n",
    "        results['cov'].append(cov)\n",
    "        results['errs'].append(errs)\n",
    "        results['deriv_variables_in_order'] = deriv_vars\n",
    "    except:\n",
    "        failed_events['event_num'].append(event_num)\n",
    "        failed_events['inj_params'].append(inj_params)"
   ]
  },
  {
   "cell_type": "code",
   "execution_count": 19,
   "id": "9cc8052a-1fc8-4def-a0a9-6b6e98d42ceb",
   "metadata": {
    "scrolled": true
   },
   "outputs": [
    {
     "data": {
      "text/plain": [
       "{'inj_params': [], 'event_num': []}"
      ]
     },
     "execution_count": 19,
     "metadata": {},
     "output_type": "execute_result"
    }
   ],
   "source": [
    "failed_events"
   ]
  },
  {
   "cell_type": "code",
   "execution_count": 20,
   "id": "b238b178-759a-43b9-a39d-e3c8cde6c550",
   "metadata": {},
   "outputs": [
    {
     "data": {
      "text/plain": [
       "5767"
      ]
     },
     "execution_count": 20,
     "metadata": {},
     "output_type": "execute_result"
    }
   ],
   "source": [
    "len(inj_records)"
   ]
  },
  {
   "cell_type": "code",
   "execution_count": 21,
   "id": "36777c18-56b7-477f-b4ec-7eaf957255de",
   "metadata": {},
   "outputs": [],
   "source": [
    "results['all_inj_params_original'] = []\n",
    "for event_num in range(len(inj_records)):\n",
    "    if event_num in failed_events['event_num']:\n",
    "        print(f'Skipped event_num = {event_num}')\n",
    "        continue\n",
    "    params_i = inj_records[event_num]\n",
    "    results['all_inj_params_original'].append({key:params_i[key] for key in params_i.dtype.names})"
   ]
  },
  {
   "cell_type": "code",
   "execution_count": 22,
   "id": "6c3e2b8f-67f7-4478-87ff-39845954e6ab",
   "metadata": {},
   "outputs": [
    {
     "data": {
      "text/plain": [
       "[<matplotlib.lines.Line2D at 0x711f8bac44f0>]"
      ]
     },
     "execution_count": 22,
     "metadata": {},
     "output_type": "execute_result"
    },
    {
     "data": {
      "image/png": "[encoded data removed]",
      "text/plain": [
       "<Figure size 640x480 with 1 Axes>"
      ]
     },
     "metadata": {},
     "output_type": "display_data"
    }
   ],
   "source": [
    "plt.plot(pd.DataFrame(results['inj_params'])['DL']/pd.DataFrame(results['all_inj_params_original'])['distance'])"
   ]
  },
  {
   "cell_type": "markdown",
   "id": "76f20a95-3d62-45c5-bb72-dfc1b0c1df1c",
   "metadata": {},
   "source": [
    "### Check if cov matrices are positive-definite"
   ]
  },
  {
   "cell_type": "code",
   "execution_count": 23,
   "id": "369a0fec-f1b7-4aa9-a0d3-c55e12d55fab",
   "metadata": {},
   "outputs": [],
   "source": [
    "failed = []\n",
    "for event in range(len(results['all_inj_params_original'])):\n",
    "    cov = results['cov'][event]  # the covariance matrix\n",
    "    try:\n",
    "        np.linalg.cholesky(cov)\n",
    "    except np.linalg.LinAlgError:\n",
    "        failed.append(event)"
   ]
  },
  {
   "cell_type": "code",
   "execution_count": 24,
   "id": "502e7226-3430-44bd-9b1a-0b28fded12d4",
   "metadata": {},
   "outputs": [
    {
     "data": {
      "text/plain": [
       "[]"
      ]
     },
     "execution_count": 24,
     "metadata": {},
     "output_type": "execute_result"
    }
   ],
   "source": [
    "failed"
   ]
  },
  {
   "cell_type": "code",
   "execution_count": 25,
   "id": "e520a9bf-ebfb-4076-8884-39859e3d1a2e",
   "metadata": {},
   "outputs": [],
   "source": [
    "failed_dict = {}\n",
    "if len(failed) !=0:\n",
    "    failed_dict['inj_params'] = pd.DataFrame([results['inj_params'][i] for i in failed])\n",
    "    failed_dict['all_inj_params_original'] = pd.DataFrame([results['all_inj_params_original'][i] for i in failed])"
   ]
  },
  {
   "cell_type": "code",
   "execution_count": 26,
   "id": "b01c2537-75d2-4bda-b77b-0f450e3cc3f9",
   "metadata": {},
   "outputs": [
    {
     "ename": "KeyError",
     "evalue": "'inj_params'",
     "output_type": "error",
     "traceback": [
      "\u001b[0;31m---------------------------------------------------------------------------\u001b[0m",
      "\u001b[0;31mKeyError\u001b[0m                                  Traceback (most recent call last)",
      "Cell \u001b[0;32mIn[26], line 1\u001b[0m\n\u001b[0;32m----> 1\u001b[0m \u001b[43mfailed_dict\u001b[49m\u001b[43m[\u001b[49m\u001b[38;5;124;43m'\u001b[39;49m\u001b[38;5;124;43minj_params\u001b[39;49m\u001b[38;5;124;43m'\u001b[39;49m\u001b[43m]\u001b[49m\n",
      "\u001b[0;31mKeyError\u001b[0m: 'inj_params'"
     ]
    }
   ],
   "source": [
    "failed_dict['inj_params']"
   ]
  },
  {
   "cell_type": "code",
   "execution_count": 27,
   "id": "0c60de1b-b162-4490-a503-d94f658953ea",
   "metadata": {},
   "outputs": [
    {
     "name": "stdout",
     "output_type": "stream",
     "text": [
      "5767\n"
     ]
    }
   ],
   "source": [
    "print(len(results['inj_params']))"
   ]
  },
  {
   "cell_type": "code",
   "execution_count": 28,
   "id": "d899dbfc-ec42-4f73-bf16-38a67aeb71b0",
   "metadata": {},
   "outputs": [
    {
     "data": {
      "text/plain": [
       "dict_keys(['inj_params', 'cov', 'errs', 'deriv_variables_in_order', 'all_inj_params_original'])"
      ]
     },
     "execution_count": 28,
     "metadata": {},
     "output_type": "execute_result"
    }
   ],
   "source": [
    "results.keys()"
   ]
  },
  {
   "cell_type": "code",
   "execution_count": 29,
   "id": "8beaae39-51e2-4ae9-bd29-e9545dbfa074",
   "metadata": {},
   "outputs": [
    {
     "name": "stdout",
     "output_type": "stream",
     "text": [
      "No failed events\n",
      "No failed events\n",
      "No failed events\n",
      "No failed events\n"
     ]
    }
   ],
   "source": [
    "results_updated = {}\n",
    "for key in results.keys():\n",
    "    if key == 'deriv_variables_in_order':\n",
    "        results_updated[key] = results[key]\n",
    "    else:\n",
    "        if len(failed) == 0:\n",
    "            print(\"No failed events\")\n",
    "            results_updated[key] = results[key]\n",
    "        else:\n",
    "            results_updated[key] = [results[key][i] for i in range(len(results[key])) if i not in failed]"
   ]
  },
  {
   "cell_type": "code",
   "execution_count": 30,
   "id": "721a5801-b1cd-474e-b21c-5e316e83a2a2",
   "metadata": {},
   "outputs": [
    {
     "name": "stdout",
     "output_type": "stream",
     "text": [
      "5767\n"
     ]
    }
   ],
   "source": [
    "print(len(results_updated['inj_params']))"
   ]
  },
  {
   "cell_type": "markdown",
   "id": "6173978e-06a9-49fc-88a7-4cc0d5014d65",
   "metadata": {},
   "source": [
    "### Check for positive-definite again"
   ]
  },
  {
   "cell_type": "code",
   "execution_count": 31,
   "id": "00839b40-c8c0-45b7-93d8-2d2d0d54e76c",
   "metadata": {},
   "outputs": [],
   "source": [
    "failed2 = []\n",
    "for event in range(len(results_updated['all_inj_params_original'])):\n",
    "    cov = results_updated['cov'][event]  # the covariance matrix\n",
    "    try:\n",
    "        np.linalg.cholesky(cov)\n",
    "    except np.linalg.LinAlgError:\n",
    "        failed2.append(event)"
   ]
  },
  {
   "cell_type": "code",
   "execution_count": 32,
   "id": "4b849726-5f08-4820-9fd1-1fb7be180346",
   "metadata": {},
   "outputs": [
    {
     "data": {
      "text/plain": [
       "[]"
      ]
     },
     "execution_count": 32,
     "metadata": {},
     "output_type": "execute_result"
    }
   ],
   "source": [
    "failed2"
   ]
  },
  {
   "cell_type": "markdown",
   "id": "e881fb60-213c-4f5a-a65c-f896a0143d64",
   "metadata": {},
   "source": [
    "### Add redshift to results file"
   ]
  },
  {
   "cell_type": "code",
   "execution_count": 33,
   "id": "f0098404-0712-4666-8918-719b8b510175",
   "metadata": {},
   "outputs": [],
   "source": [
    "for i, z in enumerate(pd.DataFrame(results['all_inj_params_original'])['redshift']):\n",
    "    results['inj_params'][i]['z'] = z"
   ]
  },
  {
   "cell_type": "code",
   "execution_count": 34,
   "id": "365b6009-1825-437f-bfdd-bbe04106dcec",
   "metadata": {},
   "outputs": [],
   "source": [
    "for i, z in enumerate(pd.DataFrame(results_updated['all_inj_params_original'])['redshift']):\n",
    "    results_updated['inj_params'][i]['z'] = z"
   ]
  },
  {
   "cell_type": "markdown",
   "id": "507765ae-9294-4669-b6bd-ba61dd08c0de",
   "metadata": {},
   "source": [
    "#### Check the values are fine"
   ]
  },
  {
   "cell_type": "code",
   "execution_count": 35,
   "id": "f2e13981-9ba0-434a-848b-279e56488498",
   "metadata": {},
   "outputs": [
    {
     "data": {
      "text/plain": [
       "[<matplotlib.lines.Line2D at 0x711f894e7010>]"
      ]
     },
     "execution_count": 35,
     "metadata": {},
     "output_type": "execute_result"
    },
    {
     "data": {
      "image/png": "[encoded data removed]",
      "text/plain": [
       "<Figure size 640x480 with 1 Axes>"
      ]
     },
     "metadata": {},
     "output_type": "display_data"
    }
   ],
   "source": [
    "import pycbc.cosmology as cosmo\n",
    "temp_z = cosmo.redshift(np.array(pd.DataFrame(results_updated['inj_params'])['DL']))\n",
    "plt.plot(np.around(temp_z/pd.DataFrame(results_updated['inj_params'])['z'], 6))"
   ]
  },
  {
   "cell_type": "code",
   "execution_count": 36,
   "id": "76c6ec91-d44e-4bb0-a80f-0576f7ccf2ab",
   "metadata": {},
   "outputs": [
    {
     "data": {
      "text/plain": [
       "Text(0.5, 0, '$\\\\Delta D_L / D_L$')"
      ]
     },
     "execution_count": 36,
     "metadata": {},
     "output_type": "execute_result"
    },
    {
     "data": {
      "image/png": "[encoded data removed]",
      "text/plain": [
       "<Figure size 640x480 with 1 Axes>"
      ]
     },
     "metadata": {},
     "output_type": "display_data"
    }
   ],
   "source": [
    "plt.hist([results_updated['errs'][i]['log_DL'] for i in range(len(results_updated['errs']))], bins=50);\n",
    "plt.xlabel('$\\Delta D_L / D_L$')"
   ]
  },
  {
   "cell_type": "markdown",
   "id": "6b83bc45-1fb8-4029-9d0f-fe9c8b8ae59f",
   "metadata": {
    "jp-MarkdownHeadingCollapsed": true
   },
   "source": [
    "### Load results from file for plotting (if needed)"
   ]
  },
  {
   "cell_type": "code",
   "execution_count": 19,
   "id": "d3e119fb-e5ed-4356-b743-cd8ff4a56bc2",
   "metadata": {},
   "outputs": [],
   "source": [
    "def load_results_from_h5(filename):\n",
    "    results = {}\n",
    "\n",
    "    with h5py.File(filename, 'r') as f:\n",
    "        # Load inj_params\n",
    "        inj_params = []\n",
    "        inj_params_group = f['inj_params']\n",
    "        for i in sorted(inj_params_group.keys(), key=lambda x: int(x)):\n",
    "            param_group = inj_params_group[i]\n",
    "            param_dict = {key: param_group[key][()] for key in param_group.keys()}\n",
    "            inj_params.append(param_dict)\n",
    "        results['inj_params'] = pd.DataFrame(inj_params)\n",
    "\n",
    "        # Load cov\n",
    "        cov = []\n",
    "        cov_group = f['cov']\n",
    "        for i in sorted(cov_group.keys(), key=lambda x: int(x)):\n",
    "            matrix = cov_group[i][()]\n",
    "            cov.append(matrix)\n",
    "        results['cov'] = cov\n",
    "\n",
    "        # Load errs\n",
    "        errs = []\n",
    "        errs_group = f['errs']\n",
    "        for i in sorted(errs_group.keys(), key=lambda x: int(x)):\n",
    "            err_group = errs_group[i]\n",
    "            err_dict = {key: err_group[key][()] for key in err_group.keys()}\n",
    "            errs.append(err_dict)\n",
    "        results['errs'] = pd.DataFrame(errs)\n",
    "\n",
    "        # Load deriv_variables_in_order\n",
    "        deriv_vars = f['deriv_variables_in_order'][()]\n",
    "        # Convert bytes to str if needed (depends on h5py version)\n",
    "        if isinstance(deriv_vars[0], bytes):\n",
    "            deriv_vars = [s.decode('utf-8') for s in deriv_vars]\n",
    "        results['deriv_variables_in_order'] = list(deriv_vars)\n",
    "\n",
    "    return results"
   ]
  },
  {
   "cell_type": "code",
   "execution_count": null,
   "id": "048107c1-7c81-42bf-80d2-6ccb3031024b",
   "metadata": {},
   "outputs": [],
   "source": [
    "try:\n",
    "    inj_records\n",
    "    print('inj_records found')\n",
    "except NameError:\n",
    "    inj_records = inj_data['selected_n_events'].to_records()\n",
    "try:\n",
    "    results\n",
    "    print('results found')\n",
    "except NameError:\n",
    "    base_dir = '/home/divyajyoti/ACADEMIC/Projects/Cardiff_University/Next_gen_detectability/A-sharp-study/'\n",
    "    fm_err_file = os.path.join(base_dir, 'GWBench_analysis', 'BBH', \n",
    "                               'CE4020ET123_CoBA10_2_PLP_z_MD_zmax_10_lmrd_22_no_spins.h5')\n",
    "    results = load_results_from_h5(fm_err_file)\n",
    "try:\n",
    "    failed_events\n",
    "except NameError:\n",
    "    failed_events = {'inj_params':[]}"
   ]
  },
  {
   "cell_type": "markdown",
   "id": "5204bd78-cdbc-4f6a-a24e-b2777ef2c8e9",
   "metadata": {},
   "source": [
    "### Don't load results from file"
   ]
  },
  {
   "cell_type": "code",
   "execution_count": 37,
   "id": "29a6cad1-5b10-4559-9082-aa9d0d48f368",
   "metadata": {},
   "outputs": [
    {
     "data": {
      "image/png": "[encoded data removed]",
      "text/plain": [
       "<Figure size 640x480 with 1 Axes>"
      ]
     },
     "metadata": {},
     "output_type": "display_data"
    },
    {
     "data": {
      "image/png": "[encoded data removed]",
      "text/plain": [
       "<Figure size 640x480 with 1 Axes>"
      ]
     },
     "metadata": {},
     "output_type": "display_data"
    }
   ],
   "source": [
    "inj_snrs = pd.DataFrame(results_updated['all_inj_params_original'])['SNR_network']\n",
    "gwbench_snrs = pd.DataFrame(results_updated['errs'])['snr']\n",
    "\n",
    "plt.figure()\n",
    "plt.plot(inj_snrs, inj_snrs/gwbench_snrs, '.')\n",
    "plt.xlabel('Injected SNR (Netw)')\n",
    "plt.ylabel('inj_SNR / gwbench_SNR')\n",
    "plt.axhline(1, c='k')\n",
    "plt.xscale('log')\n",
    "\n",
    "plt.figure()\n",
    "plt.hist(inj_snrs, bins=np.logspace(0,3.3,50), histtype=u'step', label='SNR');\n",
    "plt.hist(gwbench_snrs, bins=np.logspace(0,3.3,50), histtype=u'step', label='GWB SNR');\n",
    "plt.legend()\n",
    "plt.xscale('log')"
   ]
  },
  {
   "cell_type": "markdown",
   "id": "03475093-b063-41e6-9d0b-576672a60853",
   "metadata": {
    "jp-MarkdownHeadingCollapsed": true
   },
   "source": [
    "### Plots for SNR comparison diagnostic"
   ]
  },
  {
   "cell_type": "code",
   "execution_count": 73,
   "id": "af439fd5-a75f-41d8-9f19-9e8453d906d8",
   "metadata": {},
   "outputs": [
    {
     "data": {
      "text/plain": [
       "<matplotlib.colorbar.Colorbar at 0x77186a7d2650>"
      ]
     },
     "execution_count": 73,
     "metadata": {},
     "output_type": "execute_result"
    },
    {
     "data": {
      "image/png": "[encoded data removed]",
      "text/plain": [
       "<Figure size 640x480 with 2 Axes>"
      ]
     },
     "metadata": {},
     "output_type": "display_data"
    }
   ],
   "source": [
    "plt.scatter(pd.DataFrame(results_updated['all_inj_params_original'])['chi_p'], \n",
    "         inj_snrs/gwbench_snrs, \n",
    "         c=pd.DataFrame(results_updated['all_inj_params_original'])['chi_eff'], cmap='seismic')\n",
    "plt.xlabel('chi_p')\n",
    "plt.ylabel('inj_SNR / gwbench_SNR')\n",
    "plt.axhline(1, c='k')\n",
    "plt.colorbar(label='chi_eff')\n",
    "#plt.xscale('log')"
   ]
  },
  {
   "cell_type": "code",
   "execution_count": 74,
   "id": "fdc4832e-bad6-4d21-8238-d865c3512829",
   "metadata": {},
   "outputs": [
    {
     "data": {
      "text/plain": [
       "<matplotlib.colorbar.Colorbar at 0x77186aa03d30>"
      ]
     },
     "execution_count": 74,
     "metadata": {},
     "output_type": "execute_result"
    },
    {
     "data": {
      "image/png": "[encoded data removed]",
      "text/plain": [
       "<Figure size 640x480 with 2 Axes>"
      ]
     },
     "metadata": {},
     "output_type": "display_data"
    }
   ],
   "source": [
    "plt.scatter(pd.DataFrame(results_updated['all_inj_params_original'])['chi_p'], \n",
    "         inj_snrs/gwbench_snrs, \n",
    "         c=np.abs(np.cos(pd.DataFrame(results_updated['all_inj_params_original'])['inclination'])), cmap='viridis')\n",
    "plt.xlabel('chi_p')\n",
    "plt.ylabel('inj_SNR / gwbench_SNR')\n",
    "plt.axhline(1, c='k')\n",
    "plt.colorbar(label='| cos(incl.) |')\n",
    "#plt.xscale('log')"
   ]
  },
  {
   "cell_type": "code",
   "execution_count": 75,
   "id": "1629e3d2-aaf6-4a0a-a1ec-1f60a4f41468",
   "metadata": {},
   "outputs": [],
   "source": [
    "high_snr_ratio_select = (inj_snrs/gwbench_snrs > 2)"
   ]
  },
  {
   "cell_type": "code",
   "execution_count": 77,
   "id": "29d9a7c5-d697-4ce7-8b7c-7a2e64f7deaf",
   "metadata": {},
   "outputs": [
    {
     "data": {
      "text/html": [
       "<div>\n",
       "<style scoped>\n",
       "    .dataframe tbody tr th:only-of-type {\n",
       "        vertical-align: middle;\n",
       "    }\n",
       "\n",
       "    .dataframe tbody tr th {\n",
       "        vertical-align: top;\n",
       "    }\n",
       "\n",
       "    .dataframe thead th {\n",
       "        text-align: right;\n",
       "    }\n",
       "</style>\n",
       "<table border=\"1\" class=\"dataframe\">\n",
       "  <thead>\n",
       "    <tr style=\"text-align: right;\">\n",
       "      <th></th>\n",
       "      <th>chi1x</th>\n",
       "      <th>chi1y</th>\n",
       "      <th>chi2x</th>\n",
       "      <th>chi2y</th>\n",
       "      <th>chi1z</th>\n",
       "      <th>chi2z</th>\n",
       "      <th>Mc</th>\n",
       "      <th>eta</th>\n",
       "      <th>DL</th>\n",
       "      <th>iota</th>\n",
       "      <th>tc</th>\n",
       "      <th>phic</th>\n",
       "      <th>ra</th>\n",
       "      <th>dec</th>\n",
       "      <th>psi</th>\n",
       "      <th>z</th>\n",
       "      <th>snr</th>\n",
       "    </tr>\n",
       "  </thead>\n",
       "  <tbody>\n",
       "    <tr>\n",
       "      <th>1823</th>\n",
       "      <td>-0.551600</td>\n",
       "      <td>0.232771</td>\n",
       "      <td>0.042913</td>\n",
       "      <td>0.152369</td>\n",
       "      <td>-0.673949</td>\n",
       "      <td>0.035545</td>\n",
       "      <td>88.441791</td>\n",
       "      <td>0.196802</td>\n",
       "      <td>15100.637994</td>\n",
       "      <td>2.665700</td>\n",
       "      <td>1.919549e+09</td>\n",
       "      <td>2.625780</td>\n",
       "      <td>3.395161</td>\n",
       "      <td>0.501768</td>\n",
       "      <td>0.047037</td>\n",
       "      <td>1.913918</td>\n",
       "      <td>36.056339</td>\n",
       "    </tr>\n",
       "    <tr>\n",
       "      <th>3418</th>\n",
       "      <td>0.374640</td>\n",
       "      <td>-0.156647</td>\n",
       "      <td>0.386102</td>\n",
       "      <td>-0.092728</td>\n",
       "      <td>-0.292323</td>\n",
       "      <td>-0.177880</td>\n",
       "      <td>166.726048</td>\n",
       "      <td>0.248946</td>\n",
       "      <td>40683.575494</td>\n",
       "      <td>1.289955</td>\n",
       "      <td>1.912790e+09</td>\n",
       "      <td>1.980827</td>\n",
       "      <td>3.526588</td>\n",
       "      <td>-0.383497</td>\n",
       "      <td>1.968635</td>\n",
       "      <td>4.364672</td>\n",
       "      <td>11.378489</td>\n",
       "    </tr>\n",
       "    <tr>\n",
       "      <th>3697</th>\n",
       "      <td>-0.086249</td>\n",
       "      <td>-0.534269</td>\n",
       "      <td>-0.273410</td>\n",
       "      <td>-0.671911</td>\n",
       "      <td>-0.753637</td>\n",
       "      <td>-0.178885</td>\n",
       "      <td>80.405639</td>\n",
       "      <td>0.226960</td>\n",
       "      <td>16956.234674</td>\n",
       "      <td>0.659091</td>\n",
       "      <td>1.916629e+09</td>\n",
       "      <td>3.085365</td>\n",
       "      <td>0.855367</td>\n",
       "      <td>0.723096</td>\n",
       "      <td>0.843103</td>\n",
       "      <td>2.104523</td>\n",
       "      <td>50.568618</td>\n",
       "    </tr>\n",
       "    <tr>\n",
       "      <th>3824</th>\n",
       "      <td>0.022337</td>\n",
       "      <td>-0.074077</td>\n",
       "      <td>0.467484</td>\n",
       "      <td>0.062954</td>\n",
       "      <td>-0.033114</td>\n",
       "      <td>-0.564357</td>\n",
       "      <td>266.421764</td>\n",
       "      <td>0.241793</td>\n",
       "      <td>30084.416929</td>\n",
       "      <td>1.284080</td>\n",
       "      <td>1.912555e+09</td>\n",
       "      <td>2.058843</td>\n",
       "      <td>3.047091</td>\n",
       "      <td>-0.976543</td>\n",
       "      <td>0.338511</td>\n",
       "      <td>3.384546</td>\n",
       "      <td>27.259973</td>\n",
       "    </tr>\n",
       "    <tr>\n",
       "      <th>4095</th>\n",
       "      <td>0.757292</td>\n",
       "      <td>-0.475168</td>\n",
       "      <td>-0.273130</td>\n",
       "      <td>-0.152753</td>\n",
       "      <td>-0.373757</td>\n",
       "      <td>0.131095</td>\n",
       "      <td>70.958326</td>\n",
       "      <td>0.239990</td>\n",
       "      <td>25003.176250</td>\n",
       "      <td>0.793548</td>\n",
       "      <td>1.916432e+09</td>\n",
       "      <td>1.785835</td>\n",
       "      <td>0.187935</td>\n",
       "      <td>1.182698</td>\n",
       "      <td>2.202768</td>\n",
       "      <td>2.900328</td>\n",
       "      <td>29.587607</td>\n",
       "    </tr>\n",
       "  </tbody>\n",
       "</table>\n",
       "</div>"
      ],
      "text/plain": [
       "         chi1x     chi1y     chi2x     chi2y     chi1z     chi2z          Mc  \\\n",
       "1823 -0.551600  0.232771  0.042913  0.152369 -0.673949  0.035545   88.441791   \n",
       "3418  0.374640 -0.156647  0.386102 -0.092728 -0.292323 -0.177880  166.726048   \n",
       "3697 -0.086249 -0.534269 -0.273410 -0.671911 -0.753637 -0.178885   80.405639   \n",
       "3824  0.022337 -0.074077  0.467484  0.062954 -0.033114 -0.564357  266.421764   \n",
       "4095  0.757292 -0.475168 -0.273130 -0.152753 -0.373757  0.131095   70.958326   \n",
       "\n",
       "           eta            DL      iota            tc      phic        ra  \\\n",
       "1823  0.196802  15100.637994  2.665700  1.919549e+09  2.625780  3.395161   \n",
       "3418  0.248946  40683.575494  1.289955  1.912790e+09  1.980827  3.526588   \n",
       "3697  0.226960  16956.234674  0.659091  1.916629e+09  3.085365  0.855367   \n",
       "3824  0.241793  30084.416929  1.284080  1.912555e+09  2.058843  3.047091   \n",
       "4095  0.239990  25003.176250  0.793548  1.916432e+09  1.785835  0.187935   \n",
       "\n",
       "           dec       psi         z        snr  \n",
       "1823  0.501768  0.047037  1.913918  36.056339  \n",
       "3418 -0.383497  1.968635  4.364672  11.378489  \n",
       "3697  0.723096  0.843103  2.104523  50.568618  \n",
       "3824 -0.976543  0.338511  3.384546  27.259973  \n",
       "4095  1.182698  2.202768  2.900328  29.587607  "
      ]
     },
     "execution_count": 77,
     "metadata": {},
     "output_type": "execute_result"
    }
   ],
   "source": [
    "pd.concat([pd.DataFrame(results_updated['inj_params']), pd.DataFrame(results_updated['errs'])[['snr']]], axis=1)[high_snr_ratio_select]"
   ]
  },
  {
   "cell_type": "code",
   "execution_count": 78,
   "id": "e986eb7c-0c60-4943-8cec-a461400102a3",
   "metadata": {},
   "outputs": [
    {
     "data": {
      "text/html": [
       "<div>\n",
       "<style scoped>\n",
       "    .dataframe tbody tr th:only-of-type {\n",
       "        vertical-align: middle;\n",
       "    }\n",
       "\n",
       "    .dataframe tbody tr th {\n",
       "        vertical-align: top;\n",
       "    }\n",
       "\n",
       "    .dataframe thead th {\n",
       "        text-align: right;\n",
       "    }\n",
       "</style>\n",
       "<table border=\"1\" class=\"dataframe\">\n",
       "  <thead>\n",
       "    <tr style=\"text-align: right;\">\n",
       "      <th></th>\n",
       "      <th>chi_eff</th>\n",
       "      <th>chi_p</th>\n",
       "      <th>mchirp</th>\n",
       "      <th>eta</th>\n",
       "      <th>distance</th>\n",
       "      <th>inclination</th>\n",
       "      <th>ra</th>\n",
       "      <th>dec</th>\n",
       "      <th>polarization</th>\n",
       "      <th>redshift</th>\n",
       "      <th>SNR_network</th>\n",
       "      <th>trigger_time</th>\n",
       "    </tr>\n",
       "  </thead>\n",
       "  <tbody>\n",
       "    <tr>\n",
       "      <th>1823</th>\n",
       "      <td>-0.482845</td>\n",
       "      <td>0.598703</td>\n",
       "      <td>88.441791</td>\n",
       "      <td>0.196802</td>\n",
       "      <td>15100.637994</td>\n",
       "      <td>2.288945</td>\n",
       "      <td>3.395161</td>\n",
       "      <td>0.501768</td>\n",
       "      <td>0.047037</td>\n",
       "      <td>1.913918</td>\n",
       "      <td>77.230755</td>\n",
       "      <td>1.919549e+09</td>\n",
       "    </tr>\n",
       "    <tr>\n",
       "      <th>3418</th>\n",
       "      <td>-0.238816</td>\n",
       "      <td>0.406071</td>\n",
       "      <td>166.726048</td>\n",
       "      <td>0.248946</td>\n",
       "      <td>40683.575494</td>\n",
       "      <td>1.535324</td>\n",
       "      <td>3.526588</td>\n",
       "      <td>-0.383497</td>\n",
       "      <td>1.968635</td>\n",
       "      <td>4.364672</td>\n",
       "      <td>34.809165</td>\n",
       "      <td>1.912790e+09</td>\n",
       "    </tr>\n",
       "    <tr>\n",
       "      <th>3697</th>\n",
       "      <td>-0.553502</td>\n",
       "      <td>0.541186</td>\n",
       "      <td>80.405639</td>\n",
       "      <td>0.226960</td>\n",
       "      <td>16956.234674</td>\n",
       "      <td>1.080492</td>\n",
       "      <td>0.855367</td>\n",
       "      <td>0.723096</td>\n",
       "      <td>0.843103</td>\n",
       "      <td>2.104523</td>\n",
       "      <td>101.264834</td>\n",
       "      <td>1.916629e+09</td>\n",
       "    </tr>\n",
       "    <tr>\n",
       "      <th>3824</th>\n",
       "      <td>-0.250609</td>\n",
       "      <td>0.310493</td>\n",
       "      <td>266.421764</td>\n",
       "      <td>0.241793</td>\n",
       "      <td>30084.416929</td>\n",
       "      <td>1.403366</td>\n",
       "      <td>3.047091</td>\n",
       "      <td>-0.976543</td>\n",
       "      <td>0.338511</td>\n",
       "      <td>3.384546</td>\n",
       "      <td>70.572473</td>\n",
       "      <td>1.912555e+09</td>\n",
       "    </tr>\n",
       "    <tr>\n",
       "      <th>4095</th>\n",
       "      <td>-0.171841</td>\n",
       "      <td>0.894022</td>\n",
       "      <td>70.958326</td>\n",
       "      <td>0.239990</td>\n",
       "      <td>25003.176250</td>\n",
       "      <td>1.044693</td>\n",
       "      <td>0.187935</td>\n",
       "      <td>1.182698</td>\n",
       "      <td>2.202768</td>\n",
       "      <td>2.900328</td>\n",
       "      <td>65.971299</td>\n",
       "      <td>1.916432e+09</td>\n",
       "    </tr>\n",
       "  </tbody>\n",
       "</table>\n",
       "</div>"
      ],
      "text/plain": [
       "       chi_eff     chi_p      mchirp       eta      distance  inclination  \\\n",
       "1823 -0.482845  0.598703   88.441791  0.196802  15100.637994     2.288945   \n",
       "3418 -0.238816  0.406071  166.726048  0.248946  40683.575494     1.535324   \n",
       "3697 -0.553502  0.541186   80.405639  0.226960  16956.234674     1.080492   \n",
       "3824 -0.250609  0.310493  266.421764  0.241793  30084.416929     1.403366   \n",
       "4095 -0.171841  0.894022   70.958326  0.239990  25003.176250     1.044693   \n",
       "\n",
       "            ra       dec  polarization  redshift  SNR_network  trigger_time  \n",
       "1823  3.395161  0.501768      0.047037  1.913918    77.230755  1.919549e+09  \n",
       "3418  3.526588 -0.383497      1.968635  4.364672    34.809165  1.912790e+09  \n",
       "3697  0.855367  0.723096      0.843103  2.104523   101.264834  1.916629e+09  \n",
       "3824  3.047091 -0.976543      0.338511  3.384546    70.572473  1.912555e+09  \n",
       "4095  0.187935  1.182698      2.202768  2.900328    65.971299  1.916432e+09  "
      ]
     },
     "execution_count": 78,
     "metadata": {},
     "output_type": "execute_result"
    }
   ],
   "source": [
    "pd.DataFrame(results_updated['all_inj_params_original'])[high_snr_ratio_select][['chi_eff', 'chi_p', 'mchirp', 'eta', 'distance', 'inclination', 'ra', 'dec', 'polarization', 'redshift', 'SNR_network', 'trigger_time']]"
   ]
  },
  {
   "cell_type": "markdown",
   "id": "022bccc9-f430-4b20-bd9f-d0fe6e4cd1ef",
   "metadata": {},
   "source": [
    "## Save to h5 file"
   ]
  },
  {
   "cell_type": "code",
   "execution_count": 38,
   "id": "181a2b41-4502-47fc-acea-7e66fb1ef558",
   "metadata": {},
   "outputs": [],
   "source": [
    "def save_to_h5_group(group, data, string_dtype):\n",
    "    \"\"\"\n",
    "    Recursively saves Python data structures (dicts, lists, arrays, scalars) to an HDF5 group.\n",
    "    \"\"\"\n",
    "    if isinstance(data, dict):\n",
    "        for key, value in data.items():\n",
    "            sub_key = str(key)\n",
    "            if isinstance(value, (dict, list, tuple)):\n",
    "                subgroup = group.create_group(sub_key)\n",
    "                save_to_h5_group(subgroup, value, string_dtype)\n",
    "            elif isinstance(value, str):\n",
    "                group.create_dataset(sub_key, data=value, dtype=string_dtype)\n",
    "            else:\n",
    "                group.create_dataset(sub_key, data=np.array(value))\n",
    "    elif isinstance(data, (list, tuple)):\n",
    "        for i, item in enumerate(data):\n",
    "            item_key = str(i)\n",
    "            if isinstance(item, (dict, list, tuple)):\n",
    "                subgroup = group.create_group(item_key)\n",
    "                save_to_h5_group(subgroup, item, string_dtype)\n",
    "            elif isinstance(item, str):\n",
    "                group.create_dataset(item_key, data=item, dtype=string_dtype)\n",
    "            else:\n",
    "                group.create_dataset(item_key, data=np.array(item))\n",
    "    elif isinstance(data, str):\n",
    "        group.create_dataset(\"value\", data=data, dtype=string_dtype)\n",
    "    else:\n",
    "        group.create_dataset(\"value\", data=np.array(data))\n",
    "\n",
    "\n",
    "def save_results_to_h5(results, filename):\n",
    "    \"\"\"\n",
    "    Saves arbitrary nested results dictionary to an HDF5 file.\n",
    "    \"\"\"\n",
    "    dt = h5py.string_dtype(encoding='utf-8')\n",
    "    with h5py.File(filename, 'w') as f:\n",
    "        save_to_h5_group(f, results, dt)"
   ]
  },
  {
   "cell_type": "code",
   "execution_count": 39,
   "id": "98e1ef62-eb7d-48b6-9fd6-49966e2f9574",
   "metadata": {},
   "outputs": [],
   "source": [
    "def save_results_to_h5(results, filename):\n",
    "    with h5py.File(filename, 'w') as f:\n",
    "        # Save inj_params\n",
    "        inj_params_group = f.create_group('inj_params')\n",
    "        for i, param_dict in enumerate(results['inj_params']):\n",
    "            param_group = inj_params_group.create_group(str(i))\n",
    "            for key, value in param_dict.items():\n",
    "                param_group.create_dataset(key, data=value)\n",
    "\n",
    "        # Save cov (numpy matrices)\n",
    "        cov_group = f.create_group('cov')\n",
    "        for i, matrix in enumerate(results['cov']):\n",
    "            cov_group.create_dataset(str(i), data=matrix)\n",
    "\n",
    "        # Save errs\n",
    "        errs_group = f.create_group('errs')\n",
    "        for i, err_dict in enumerate(results['errs']):\n",
    "            err_group = errs_group.create_group(str(i))\n",
    "            for key, value in err_dict.items():\n",
    "                err_group.create_dataset(key, data=value)\n",
    "\n",
    "        all_inj_original_group = f.create_group('all_inj_params_original')\n",
    "        for i, param_dict in enumerate(results['all_inj_params_original']):\n",
    "            param_group = all_inj_original_group.create_group(str(i))\n",
    "            for key, value in param_dict.items():\n",
    "                if 'PSD' in key or key == 'approximant':\n",
    "                    continue\n",
    "                param_group.create_dataset(key, data=value)\n",
    "\n",
    "        # Save deriv_variables_in_order (list of strings)\n",
    "        dt = h5py.string_dtype(encoding='utf-8')\n",
    "        f.create_dataset('deriv_variables_in_order', \n",
    "                         data=np.array(results['deriv_variables_in_order'], \n",
    "                                       dtype=dt))"
   ]
  },
  {
   "cell_type": "markdown",
   "id": "d98e20f7-3c48-4b48-a33e-51510e794392",
   "metadata": {
    "jp-MarkdownHeadingCollapsed": true
   },
   "source": [
    "### With debug"
   ]
  },
  {
   "cell_type": "code",
   "execution_count": 129,
   "id": "2dbbda81-8f17-4385-b255-7e894de8d93d",
   "metadata": {},
   "outputs": [],
   "source": [
    "def save_results_to_h5_with_debug(results, filename):\n",
    "    with h5py.File(filename, 'w') as f:\n",
    "        # Save inj_params\n",
    "        inj_params_group = f.create_group('inj_params')\n",
    "        for i, param_dict in enumerate(results['inj_params']):\n",
    "            param_group = inj_params_group.create_group(str(i))\n",
    "            for key, value in param_dict.items():\n",
    "                if value is not None:\n",
    "                    try:\n",
    "                        param_group.create_dataset(key, data=value)\n",
    "                    except Exception as e:\n",
    "                        print(f\"[inj_params][{i}][{key}] - Error creating dataset: {e}\")\n",
    "                else:\n",
    "                    print(f\"[inj_params][{i}][{key}] is None\")\n",
    "\n",
    "        # Save cov\n",
    "        cov_group = f.create_group('cov')\n",
    "        for i, matrix in enumerate(results['cov']):\n",
    "            if matrix is not None:\n",
    "                try:\n",
    "                    cov_group.create_dataset(str(i), data=matrix)\n",
    "                except Exception as e:\n",
    "                    print(f\"[cov][{i}] - Error creating dataset: {e}\")\n",
    "            else:\n",
    "                print(f\"[cov][{i}] is None\")\n",
    "\n",
    "        # Save errs\n",
    "        errs_group = f.create_group('errs')\n",
    "        for i, err_dict in enumerate(results['errs']):\n",
    "            err_group = errs_group.create_group(str(i))\n",
    "            for key, value in err_dict.items():\n",
    "                if value is not None:\n",
    "                    try:\n",
    "                        err_group.create_dataset(key, data=value)\n",
    "                    except Exception as e:\n",
    "                        print(f\"[errs][{i}][{key}] - Error creating dataset: {e}\")\n",
    "                else:\n",
    "                    print(f\"[errs][{i}][{key}] is None\")\n",
    "\n",
    "        # Save all_inj_params_original\n",
    "        all_inj_original_group = f.create_group('all_inj_params_original')\n",
    "        for i, param_dict in enumerate(results['all_inj_params_original']):\n",
    "            param_group = all_inj_original_group.create_group(str(i))\n",
    "            for key, value in param_dict.items():\n",
    "                if value is not None:\n",
    "                    try:\n",
    "                        param_group.create_dataset(key, data=value)\n",
    "                    except Exception as e:\n",
    "                        print(f\"[all_inj_params_original][{i}][{key}] - Error creating dataset: {e}\")\n",
    "                else:\n",
    "                    print(f\"[all_inj_params_original][{i}][{key}] is None\")\n",
    "\n",
    "        # Save deriv_variables_in_order\n",
    "        try:\n",
    "            dt = h5py.string_dtype(encoding='utf-8')\n",
    "            f.create_dataset('deriv_variables_in_order', \n",
    "                             data=np.array(results['deriv_variables_in_order'], dtype=dt))\n",
    "        except Exception as e:\n",
    "            print(f\"[deriv_variables_in_order] - Error creating dataset: {e}\")"
   ]
  },
  {
   "cell_type": "markdown",
   "id": "237fcc7d-cc32-40c2-9c81-20d032693e68",
   "metadata": {},
   "source": [
    "### Write to file"
   ]
  },
  {
   "cell_type": "code",
   "execution_count": 40,
   "id": "c54d8090-0247-4e64-9571-301329277523",
   "metadata": {},
   "outputs": [
    {
     "data": {
      "text/plain": [
       "5767"
      ]
     },
     "execution_count": 40,
     "metadata": {},
     "output_type": "execute_result"
    }
   ],
   "source": [
    "len(results_updated['inj_params'])"
   ]
  },
  {
   "cell_type": "code",
   "execution_count": 41,
   "id": "bd4ba43d-2301-466f-a228-52cd57501fa0",
   "metadata": {
    "scrolled": true
   },
   "outputs": [],
   "source": [
    "results_file = os.path.join(base_dir, 'GWBench_analysis', 'BBH',\n",
    "                            f'CE4020ET123_CoBA10_3_PLP_z_MD_zmax_10_lmrd_22_spins_in_FM_inj_{len(results_updated[\"inj_params\"])}_events_pop_from_XPHM_det10.h5')\n",
    "#results_file = os.path.join(base_dir, 'GWBench_analysis', 'BBH',\n",
    "#                            'LHI_Asharp_3_PLP_z_MD_zmax_10_lmrd_22_spins_in_FM_inj_all_events_365_days_pop_from_XPHM_det10.h5')\n",
    "save_results_to_h5(results_updated, results_file)"
   ]
  },
  {
   "cell_type": "markdown",
   "id": "0515023f-c026-4c10-9d7e-cfdc48dd9d75",
   "metadata": {
    "jp-MarkdownHeadingCollapsed": true
   },
   "source": [
    "## Spot checks with MPSAC study"
   ]
  },
  {
   "cell_type": "code",
   "execution_count": 95,
   "id": "dc09027a-05d4-4afa-96e6-c5800bb584d0",
   "metadata": {},
   "outputs": [
    {
     "name": "stdout",
     "output_type": "stream",
     "text": [
      "{'DL': np.float64(613.0532129566052), 'Mc': np.float64(29.52608930472442), 'chi1x': np.float64(0.0), 'chi1y': np.float64(0.0), 'chi1z': np.float64(0.09757743535542235), 'chi2x': np.float64(0.0), 'chi2y': np.float64(0.0), 'chi2z': np.float64(0.13015506724064474), 'dec': np.float64(0.6005676332161993), 'eta': np.float64(0.2480576947053691), 'gmst0': np.float64(44958.217426017385), 'iota': np.float64(0.9661358753614275), 'log_DL': np.float64(6.418451739601951), 'log_Mc': np.float64(3.266043329076431), 'phic': np.float64(0.0), 'psi': np.float64(1.9138262503804069), 'ra': np.float64(1.0558372118915251), 'tc': np.float64(0.0), 'z': np.float64(0.12663005714874154)}\n",
      "\n",
      " Error: Matrix is not positive definite\n"
     ]
    }
   ],
   "source": [
    "mpsac_dir = '/home/divyajyoti/ACADEMIC/Projects/Cardiff_University/Next_gen_detectability/Relevant_papers/Ish Gupta_et_al_data/'\n",
    "mpsac_data_bbh = {}\n",
    "with h5py.File(glob(os.path.join(mpsac_dir, '*', '*', '*bbh*hdf5'))[0], 'r') as file:\n",
    "    i=9\n",
    "    inj_params = {key:file['inj_params'][key][i] for key in file['inj_params'].keys()}\n",
    "    Mc = (1+inj_params['z'])*inj_params['Mc']\n",
    "    inj_params['Mc'] = Mc\n",
    "    print(inj_params)\n",
    "    fm, cov, errs, snr, dvars, inv_errs = run_analysis(inj_params)\n",
    "    err_dict = {key:[file['networks']['HLI'][key][i], errs[key]] for key in errs.keys()}\n",
    "    try:\n",
    "        np.linalg.cholesky(cov)\n",
    "    except Exception as e:\n",
    "        print('\\n', 'Error:', e)\n",
    "    err_dict['source'] = ['MPSAC', 'Current analysis']\n",
    "    err_df = pd.DataFrame(err_dict).set_index('source').T"
   ]
  },
  {
   "cell_type": "code",
   "execution_count": 96,
   "id": "85e8f878-62eb-4d21-a795-ae170b50777c",
   "metadata": {},
   "outputs": [
    {
     "data": {
      "text/html": [
       "<div>\n",
       "<style scoped>\n",
       "    .dataframe tbody tr th:only-of-type {\n",
       "        vertical-align: middle;\n",
       "    }\n",
       "\n",
       "    .dataframe tbody tr th {\n",
       "        vertical-align: top;\n",
       "    }\n",
       "\n",
       "    .dataframe thead th {\n",
       "        text-align: right;\n",
       "    }\n",
       "</style>\n",
       "<table border=\"1\" class=\"dataframe\">\n",
       "  <thead>\n",
       "    <tr style=\"text-align: right;\">\n",
       "      <th>source</th>\n",
       "      <th>MPSAC</th>\n",
       "      <th>Current analysis</th>\n",
       "    </tr>\n",
       "  </thead>\n",
       "  <tbody>\n",
       "    <tr>\n",
       "      <th>log_Mc</th>\n",
       "      <td>0.000149</td>\n",
       "      <td>0.000226</td>\n",
       "    </tr>\n",
       "    <tr>\n",
       "      <th>eta</th>\n",
       "      <td>0.000487</td>\n",
       "      <td>0.000449</td>\n",
       "    </tr>\n",
       "    <tr>\n",
       "      <th>log_DL</th>\n",
       "      <td>0.030009</td>\n",
       "      <td>0.040938</td>\n",
       "    </tr>\n",
       "    <tr>\n",
       "      <th>iota</th>\n",
       "      <td>0.029717</td>\n",
       "      <td>0.046089</td>\n",
       "    </tr>\n",
       "    <tr>\n",
       "      <th>tc</th>\n",
       "      <td>0.000031</td>\n",
       "      <td>0.000043</td>\n",
       "    </tr>\n",
       "    <tr>\n",
       "      <th>phic</th>\n",
       "      <td>0.108621</td>\n",
       "      <td>0.108604</td>\n",
       "    </tr>\n",
       "    <tr>\n",
       "      <th>ra</th>\n",
       "      <td>0.001964</td>\n",
       "      <td>0.001815</td>\n",
       "    </tr>\n",
       "    <tr>\n",
       "      <th>dec</th>\n",
       "      <td>0.001257</td>\n",
       "      <td>0.002764</td>\n",
       "    </tr>\n",
       "    <tr>\n",
       "      <th>psi</th>\n",
       "      <td>0.031062</td>\n",
       "      <td>0.045767</td>\n",
       "    </tr>\n",
       "    <tr>\n",
       "      <th>chi1z</th>\n",
       "      <td>0.006382</td>\n",
       "      <td>0.002605</td>\n",
       "    </tr>\n",
       "    <tr>\n",
       "      <th>chi2z</th>\n",
       "      <td>0.003734</td>\n",
       "      <td>0.002396</td>\n",
       "    </tr>\n",
       "    <tr>\n",
       "      <th>sky_area_90</th>\n",
       "      <td>0.085251</td>\n",
       "      <td>0.168226</td>\n",
       "    </tr>\n",
       "  </tbody>\n",
       "</table>\n",
       "</div>"
      ],
      "text/plain": [
       "source          MPSAC  Current analysis\n",
       "log_Mc       0.000149          0.000226\n",
       "eta          0.000487          0.000449\n",
       "log_DL       0.030009          0.040938\n",
       "iota         0.029717          0.046089\n",
       "tc           0.000031          0.000043\n",
       "phic         0.108621          0.108604\n",
       "ra           0.001964          0.001815\n",
       "dec          0.001257          0.002764\n",
       "psi          0.031062          0.045767\n",
       "chi1z        0.006382          0.002605\n",
       "chi2z        0.003734          0.002396\n",
       "sky_area_90  0.085251          0.168226"
      ]
     },
     "execution_count": 96,
     "metadata": {},
     "output_type": "execute_result"
    }
   ],
   "source": [
    "err_df"
   ]
  },
  {
   "cell_type": "code",
   "execution_count": null,
   "id": "1bdaffce-5f1a-4b24-9436-65cc3a77eeca",
   "metadata": {},
   "outputs": [],
   "source": []
  }
 ],
 "metadata": {
  "kernelspec": {
   "display_name": "gwbench",
   "language": "python",
   "name": "gwbench"
  },
  "language_info": {
   "codemirror_mode": {
    "name": "ipython",
    "version": 3
   },
   "file_extension": ".py",
   "mimetype": "text/x-python",
   "name": "python",
   "nbconvert_exporter": "python",
   "pygments_lexer": "ipython3",
   "version": "3.10.13"
  }
 },
 "nbformat": 4,
 "nbformat_minor": 5
}
