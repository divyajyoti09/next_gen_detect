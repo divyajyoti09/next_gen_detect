{
 "cells": [
  {
   "cell_type": "code",
   "execution_count": 1,
   "id": "5a8d2d3c-36f1-40dc-9b34-304877a6e790",
   "metadata": {},
   "outputs": [],
   "source": [
    "import warnings\n",
    "warnings.filterwarnings(\"ignore\", \"Wswiglal-redir-stdio\")\n",
    "import lal\n",
    "import os\n",
    "import h5py\n",
    "import numpy\n",
    "import pandas as pd\n",
    "import pylab as plt\n",
    "from bilby.core.prior import MultivariateGaussian, MultivariateGaussianDist, PriorDict\n",
    "import numpy as np\n",
    "from scipy.interpolate import UnivariateSpline\n",
    "from tqdm import tqdm\n",
    "import pycbc.conversions as convert\n",
    "import bilby\n",
    "import pycbc\n",
    "import seaborn as sns"
   ]
  },
  {
   "cell_type": "markdown",
   "id": "15193af1-429a-40ac-968f-01e179af0370",
   "metadata": {},
   "source": [
    "## Load FM errors and covariance matrices"
   ]
  },
  {
   "cell_type": "code",
   "execution_count": 2,
   "id": "642ab046-b797-4bde-b899-300828f27cba",
   "metadata": {},
   "outputs": [],
   "source": [
    "def decode_data(data):\n",
    "    \"\"\"\n",
    "    Decodes byte strings or arrays of byte strings from HDF5.\n",
    "    \"\"\"\n",
    "    if isinstance(data, bytes):\n",
    "        return data.decode('utf-8')\n",
    "    elif isinstance(data, np.ndarray) and data.dtype.kind in {'S', 'O'}:\n",
    "        return [d.decode('utf-8') if isinstance(d, bytes) else d for d in data]\n",
    "    else:\n",
    "        return data\n",
    "\n",
    "def load_from_h5_group(group):\n",
    "    \"\"\"\n",
    "    Recursively loads data from an HDF5 group and reconstructs Python objects.\n",
    "    \"\"\"\n",
    "    result = {}\n",
    "\n",
    "    # Check if this group is an array-style list (all keys are numeric)\n",
    "    keys = list(group.keys())\n",
    "    if all(k.isdigit() for k in keys):\n",
    "        # Treat it as a list, sorted by numeric key\n",
    "        items = []\n",
    "        for key in sorted(keys, key=lambda x: int(x)):\n",
    "            val = group[key]\n",
    "            if isinstance(val, h5py.Group):\n",
    "                items.append(load_from_h5_group(val))\n",
    "            else:\n",
    "                items.append(decode_data(val[()]))\n",
    "        return items\n",
    "\n",
    "    # Otherwise treat as dict\n",
    "    for key in group:\n",
    "        item = group[key]\n",
    "        if isinstance(item, h5py.Group):\n",
    "            result[key] = load_from_h5_group(item)\n",
    "        else:\n",
    "            result[key] = decode_data(item[()])\n",
    "\n",
    "    return result\n",
    "\n",
    "def load_results_from_h5(filename):\n",
    "    \"\"\"\n",
    "    Loads structured data from a universally saved HDF5 file.\n",
    "    \"\"\"\n",
    "    with h5py.File(filename, 'r') as f:\n",
    "        return load_from_h5_group(f)"
   ]
  },
  {
   "cell_type": "code",
   "execution_count": 3,
   "id": "7e770c39-01e3-4e0d-a95d-a626ace194a2",
   "metadata": {},
   "outputs": [],
   "source": [
    "base_dir = '/home/divyajyoti/ACADEMIC/Projects/Cardiff_University/Next_gen_detectability/A-sharp-study/'\n",
    "file_str = 'CE4020ET123_CoBA10_5_PLP_z_MDlow_zp_1.54_zmax_10_lmrd_22_no_spins_5200_events_pop_from_XPHM_det10'\n",
    "#file_str = 'LHI_Asharp_5_PLP_z_MDlow_zp_1.54_zmax_10_lmrd_22_no_spins_5233_events_365_days_pop_from_XPHM_det10'\n",
    "fm_err_file = os.path.join(base_dir, 'GWFish_analysis', 'BBH', 'Errors',\n",
    "                           f'{file_str}.h5')\n",
    "#fm_err_file = os.path.join(base_dir, 'GWBench_analysis', 'BBH', \n",
    "#                           'LHI_Asharp_1_PLP_z_MD_zmax_6_lmrd_22_no_spins_all_events_365_days_pop_from_XPHM.h5')"
   ]
  },
  {
   "cell_type": "code",
   "execution_count": 4,
   "id": "c6dd2fcf-4714-4186-9770-6f64d3ad4931",
   "metadata": {},
   "outputs": [
    {
     "name": "stdout",
     "output_type": "stream",
     "text": [
      "<KeysViewHDF5 ['PSD_C1', 'PSD_CE20', 'PSD_E1', 'PSD_E2', 'PSD_E3', 'SNR_C1', 'SNR_CE20', 'SNR_E1', 'SNR_E2', 'SNR_E3', 'SNR_mf_C1', 'SNR_mf_CE20', 'SNR_mf_E1', 'SNR_mf_E2', 'SNR_mf_E3', 'SNR_mf_from_opt_C1', 'SNR_mf_from_opt_CE20', 'SNR_mf_from_opt_E1', 'SNR_mf_from_opt_E2', 'SNR_mf_from_opt_E3', 'SNR_mf_from_opt_network', 'SNR_mf_network', 'SNR_network', 'approximant', 'chi_1_in_plane', 'chi_2_in_plane', 'chi_eff', 'chi_p', 'coa_phase', 'cos_spin1_polar', 'cos_spin2_polar', 'dec', 'delta_f', 'distance', 'eta', 'f_final', 'f_lower', 'f_ref', 'inclination', 'inv_q', 'log_distance', 'mass1', 'mass2', 'mchirp', 'mtotal', 'old_index', 'phi_12', 'phi_jl', 'polarization', 'q', 'ra', 'redshift', 'spin1_a', 'spin1_azimuthal', 'spin1_polar', 'spin1x', 'spin1y', 'spin1z', 'spin2_a', 'spin2_azimuthal', 'spin2_polar', 'spin2x', 'spin2y', 'spin2z', 'srcmass1', 'srcmass2', 'srcmchirp', 'srcmtotal', 'theta_jn', 'time_interval', 'trigger_time']>\n"
     ]
    }
   ],
   "source": [
    "with h5py.File(fm_err_file, 'r') as f:\n",
    "    print(f['all_inj_params_original'].keys())\n",
    "    #print(f['all_inj_params_original']['0']['q'][()])"
   ]
  },
  {
   "cell_type": "code",
   "execution_count": 5,
   "id": "b5ea7445-2cf9-483b-8663-756ef221d28e",
   "metadata": {},
   "outputs": [],
   "source": [
    "fm_results = load_results_from_h5(fm_err_file)"
   ]
  },
  {
   "cell_type": "code",
   "execution_count": 6,
   "id": "ffad8abb-a4d0-4f27-a447-2546fd14cc44",
   "metadata": {},
   "outputs": [
    {
     "data": {
      "text/plain": [
       "5200"
      ]
     },
     "execution_count": 6,
     "metadata": {},
     "output_type": "execute_result"
    }
   ],
   "source": [
    "num_events = len(fm_results['errors']['chirp_mass'])\n",
    "num_events"
   ]
  },
  {
   "cell_type": "code",
   "execution_count": 7,
   "id": "12be6603-662d-458a-b803-fbc12f2b1b99",
   "metadata": {
    "scrolled": true
   },
   "outputs": [],
   "source": [
    "for key,val in fm_results.items():\n",
    "    if type(val) == dict:\n",
    "        fm_results[key] = pd.DataFrame(fm_results[key])"
   ]
  },
  {
   "cell_type": "code",
   "execution_count": 8,
   "id": "edee7d32-b729-4905-94ce-1d450653c7a9",
   "metadata": {},
   "outputs": [],
   "source": [
    "for key in fm_results['all_inj_params_original'].keys():\n",
    "    if 'PSD' in key or 'approximant' in key:\n",
    "        del fm_results['all_inj_params_original'][key]"
   ]
  },
  {
   "cell_type": "markdown",
   "id": "73b6866d-7720-47a1-88cb-29240656391b",
   "metadata": {},
   "source": [
    "## Convert DL to logDL cov matrix"
   ]
  },
  {
   "cell_type": "code",
   "execution_count": 9,
   "id": "98f7da7d-b0c6-4e9f-a805-b5f112893d63",
   "metadata": {},
   "outputs": [],
   "source": [
    "def transform_cov_DL_Mc_to_logDL_logMc(cov, DL, DL_index, Mc, Mc_index):\n",
    "    \"\"\"\n",
    "    Transforms a covariance matrix where:\n",
    "    - DL is replaced with log_DL using dlogDL/dDL = 1/DL\n",
    "    - Mc is replaced with log_Mc using dlogMc/dMc = 1/Mc\n",
    "    - Other parameters remain unchanged\n",
    "\n",
    "    Parameters:\n",
    "    -----------\n",
    "    cov : np.ndarray\n",
    "        Original NxN covariance matrix including DL and Mc.\n",
    "    DL : float\n",
    "        Mean value of DL (Mpc).\n",
    "    DL_index : int\n",
    "        Index of DL in the covariance matrix.\n",
    "    Mc : float\n",
    "        Mean value of chirp mass (solar masses).\n",
    "    Mc_index : int\n",
    "        Index of Mc in the covariance matrix.\n",
    "\n",
    "    Returns:\n",
    "    --------\n",
    "    cov_new : np.ndarray\n",
    "        Transformed covariance matrix with log_DL and log_Mc replacing DL and Mc.\n",
    "    \"\"\"\n",
    "\n",
    "    # Derivatives for Jacobian\n",
    "    dlogDL_dDL = 1.0 / DL\n",
    "    dlogMc_dMc = 1.0 / Mc\n",
    "\n",
    "    # Build Jacobian matrix\n",
    "    N = cov.shape[0]\n",
    "    J = np.eye(N)\n",
    "    J[DL_index, DL_index] = dlogDL_dDL\n",
    "    J[Mc_index, Mc_index] = dlogMc_dMc\n",
    "\n",
    "    # Transform covariance matrix\n",
    "    cov_new = J @ cov @ J.T\n",
    "\n",
    "    return cov_new"
   ]
  },
  {
   "cell_type": "markdown",
   "id": "473227a2-4a2c-4c4f-8a3e-3f392098d5cc",
   "metadata": {},
   "source": [
    "### Convert cov matrices to new cov matrices"
   ]
  },
  {
   "cell_type": "code",
   "execution_count": 10,
   "id": "461c691a-7478-41e0-a945-626bb32a6463",
   "metadata": {},
   "outputs": [],
   "source": [
    "DL_idx = fm_results['deriv_variables_in_order'].index('luminosity_distance')\n",
    "Mc_idx = fm_results['deriv_variables_in_order'].index('chirp_mass')\n",
    "fm_results['new_cov'] = []\n",
    "for i in range(len(fm_results['cov'])):\n",
    "    new_cov = transform_cov_DL_Mc_to_logDL_logMc(fm_results['cov'][i],\n",
    "                                                 fm_results['inj_params']['luminosity_distance'][i], DL_idx, \n",
    "                                                 fm_results['inj_params']['chirp_mass'][i], Mc_idx)\n",
    "    fm_results['new_cov'].append(new_cov)\n",
    "fm_results['new_cov'] = np.array(fm_results['new_cov'])\n",
    "fm_results['new_deriv_variables_in_order'] = []\n",
    "\n",
    "for var in fm_results['deriv_variables_in_order']:\n",
    "    if var == 'luminosity_distance' or var == 'chirp_mass':\n",
    "        fm_results['new_deriv_variables_in_order'].append(f'log_{var}')\n",
    "    else:\n",
    "        fm_results['new_deriv_variables_in_order'].append(var)"
   ]
  },
  {
   "cell_type": "code",
   "execution_count": 11,
   "id": "23ec1a03-3a17-4284-bc39-b59df296eb8a",
   "metadata": {},
   "outputs": [
    {
     "data": {
      "text/plain": [
       "['log_chirp_mass',\n",
       " 'mass_ratio',\n",
       " 'log_luminosity_distance',\n",
       " 'theta_jn',\n",
       " 'phase',\n",
       " 'geocent_time',\n",
       " 'ra',\n",
       " 'dec',\n",
       " 'psi']"
      ]
     },
     "execution_count": 11,
     "metadata": {},
     "output_type": "execute_result"
    }
   ],
   "source": [
    "fm_results['new_deriv_variables_in_order']"
   ]
  },
  {
   "cell_type": "markdown",
   "id": "6defface-61c6-4255-b398-39f0ea285f1a",
   "metadata": {},
   "source": [
    "### Sanity check the errors are consistent"
   ]
  },
  {
   "cell_type": "code",
   "execution_count": 12,
   "id": "74b1595b-1e48-4526-9e04-963f64adc54d",
   "metadata": {},
   "outputs": [],
   "source": [
    "fm_results['errors']['log_luminosity_distance'] = fm_results['errors']['luminosity_distance']/fm_results['all_inj_params_original']['distance']\n",
    "log_DL_idx = list(fm_results['new_deriv_variables_in_order']).index('log_luminosity_distance')"
   ]
  },
  {
   "cell_type": "code",
   "execution_count": 13,
   "id": "f92170f0-192a-433f-bbc5-755302bab97f",
   "metadata": {},
   "outputs": [
    {
     "data": {
      "text/plain": [
       "[<matplotlib.lines.Line2D at 0x7a90317ac750>]"
      ]
     },
     "execution_count": 13,
     "metadata": {},
     "output_type": "execute_result"
    },
    {
     "data": {
      "image/png": "[encoded data removed]",
      "text/plain": [
       "<Figure size 640x480 with 1 Axes>"
      ]
     },
     "metadata": {},
     "output_type": "display_data"
    }
   ],
   "source": [
    "plt.plot([np.sqrt(cov[log_DL_idx, log_DL_idx]) for cov in fm_results['new_cov']]/fm_results['errors']['log_luminosity_distance'])"
   ]
  },
  {
   "cell_type": "markdown",
   "id": "8e9a0716-58cf-4d42-bf7b-5c07dc47ac93",
   "metadata": {},
   "source": [
    "## Create new means"
   ]
  },
  {
   "cell_type": "code",
   "execution_count": 14,
   "id": "09e6f6de-32ee-40b6-b28c-8ac7ea80bd02",
   "metadata": {},
   "outputs": [
    {
     "data": {
      "text/plain": [
       "['chirp_mass',\n",
       " 'mass_ratio',\n",
       " 'luminosity_distance',\n",
       " 'theta_jn',\n",
       " 'phase',\n",
       " 'geocent_time',\n",
       " 'ra',\n",
       " 'dec',\n",
       " 'psi']"
      ]
     },
     "execution_count": 14,
     "metadata": {},
     "output_type": "execute_result"
    }
   ],
   "source": [
    "fm_results['deriv_variables_in_order']"
   ]
  },
  {
   "cell_type": "code",
   "execution_count": 15,
   "id": "c2035d55-58af-4ebc-9efc-1a2ef7fe6041",
   "metadata": {},
   "outputs": [],
   "source": [
    "param_bounds = {\n",
    "    'chirp_mass':[1, np.inf],\n",
    "    'log_chirp_mass':[0, np.inf],\n",
    "    'mass_ratio':[1/20, 1],\n",
    "    'luminosity_distance':[1, np.inf],\n",
    "    'log_luminosity_distance':[0, np.inf],\n",
    "    'theta_jn':[0, np.pi],\n",
    "    'geocent_time':[-np.inf, np.inf],\n",
    "    'ra':[0, 2*np.pi],\n",
    "    'dec':[-np.pi/2, np.pi/2],\n",
    "    'psi':[0, 2*np.pi]\n",
    "}\n",
    "\n",
    "if max(fm_results['all_inj_params_original']['coa_phase']) > np.pi:\n",
    "    param_bounds['phase'] = [0, 2*np.pi]\n",
    "else:    \n",
    "    param_bounds['phase'] = [-np.pi, np.pi]"
   ]
  },
  {
   "cell_type": "code",
   "execution_count": 16,
   "id": "ae64f471-1e90-4bbd-81c3-90a868102c52",
   "metadata": {},
   "outputs": [
    {
     "data": {
      "text/plain": [
       "{'chirp_mass': [1, inf],\n",
       " 'log_chirp_mass': [0, inf],\n",
       " 'mass_ratio': [0.05, 1],\n",
       " 'luminosity_distance': [1, inf],\n",
       " 'log_luminosity_distance': [0, inf],\n",
       " 'theta_jn': [0, 3.141592653589793],\n",
       " 'geocent_time': [-inf, inf],\n",
       " 'ra': [0, 6.283185307179586],\n",
       " 'dec': [-1.5707963267948966, 1.5707963267948966],\n",
       " 'psi': [0, 6.283185307179586],\n",
       " 'phase': [0, 6.283185307179586]}"
      ]
     },
     "execution_count": 16,
     "metadata": {},
     "output_type": "execute_result"
    }
   ],
   "source": [
    "param_bounds"
   ]
  },
  {
   "cell_type": "markdown",
   "id": "d83e24c4-e7aa-4682-86af-1ca5bcf1e142",
   "metadata": {},
   "source": [
    "### Create posterior using jittered mean values for each parameter"
   ]
  },
  {
   "cell_type": "markdown",
   "id": "8817265b-ba9d-4f75-889b-c4f1461d1ab5",
   "metadata": {},
   "source": [
    "In order to induce noise in the posterior, the following steps are followed:\n",
    "1. Multivariate gaussian (MVG) is created taking true value as mean\n",
    "2. One random sample is drawn for each parameter from the MVG. This sample becomes the new mean mimicking the effect of gaussian noise.\n",
    "3. New gaussian is created taking the above value as the new mean"
   ]
  },
  {
   "cell_type": "markdown",
   "id": "cdfb85b6-d3d6-4688-9021-d67a7da250a8",
   "metadata": {},
   "source": [
    "#### Using transformed cov matrices"
   ]
  },
  {
   "cell_type": "code",
   "execution_count": 17,
   "id": "9d239423-7bec-4e9e-8e66-9df879054872",
   "metadata": {},
   "outputs": [
    {
     "data": {
      "text/plain": [
       "['log_chirp_mass',\n",
       " 'mass_ratio',\n",
       " 'log_luminosity_distance',\n",
       " 'theta_jn',\n",
       " 'phase',\n",
       " 'geocent_time',\n",
       " 'ra',\n",
       " 'dec',\n",
       " 'psi']"
      ]
     },
     "execution_count": 17,
     "metadata": {},
     "output_type": "execute_result"
    }
   ],
   "source": [
    "fm_results['new_deriv_variables_in_order']"
   ]
  },
  {
   "cell_type": "code",
   "execution_count": 18,
   "id": "2e13078d-bc7c-4d64-996a-a9aa11c8dcd9",
   "metadata": {},
   "outputs": [],
   "source": [
    "fm_results['inj_params'].loc[:, 'log_luminosity_distance'] = np.log(fm_results['inj_params']['luminosity_distance'])\n",
    "fm_results['inj_params'].loc[:, 'log_chirp_mass'] = np.log(fm_results['inj_params']['chirp_mass'])"
   ]
  },
  {
   "cell_type": "markdown",
   "id": "d9692046-c8ca-4988-9df6-510e1165dccd",
   "metadata": {},
   "source": [
    "### Check if cov matrices are positive-definite"
   ]
  },
  {
   "cell_type": "code",
   "execution_count": 19,
   "id": "5cfc7d87-17b1-41fc-9c13-b3878ee0f176",
   "metadata": {},
   "outputs": [],
   "source": [
    "failed = []\n",
    "for event in range(len(fm_results['all_inj_params_original'])):\n",
    "    cov = fm_results['new_cov'][event]  # the covariance matrix\n",
    "    try:\n",
    "        np.linalg.cholesky(cov)\n",
    "    except np.linalg.LinAlgError:\n",
    "        failed.append(event)"
   ]
  },
  {
   "cell_type": "code",
   "execution_count": 20,
   "id": "b30596c5-6936-4158-a196-6c6d02d97eb1",
   "metadata": {},
   "outputs": [
    {
     "data": {
      "text/plain": [
       "[]"
      ]
     },
     "execution_count": 20,
     "metadata": {},
     "output_type": "execute_result"
    }
   ],
   "source": [
    "failed"
   ]
  },
  {
   "cell_type": "markdown",
   "id": "159b540d-a3d9-4fa4-a86d-279d7b997bc7",
   "metadata": {},
   "source": [
    "### Get new means"
   ]
  },
  {
   "cell_type": "code",
   "execution_count": 21,
   "id": "19865f73-f60f-4c72-a09b-1a536f65de96",
   "metadata": {},
   "outputs": [],
   "source": [
    "n_events = len(fm_results['new_cov'])\n",
    "fm_results_updated = {'new_mean_vals': []}\n",
    "for key, val in fm_results.items():\n",
    "    if 'variables' in key or 'new_mean' in key:\n",
    "        continue\n",
    "    elif isinstance(val, np.ndarray):\n",
    "        fm_results_updated[key] = []\n",
    "    elif isinstance(val, pd.DataFrame):\n",
    "        fm_results_updated[key] = pd.DataFrame(columns=val.columns)"
   ]
  },
  {
   "cell_type": "code",
   "execution_count": 22,
   "id": "8a569ae8-269c-42fc-ad93-7623653bf20a",
   "metadata": {},
   "outputs": [
    {
     "data": {
      "text/plain": [
       "[('new_mean_vals', list),\n",
       " ('all_inj_params_original', pandas.core.frame.DataFrame),\n",
       " ('cov', list),\n",
       " ('errors', pandas.core.frame.DataFrame),\n",
       " ('inj_params', pandas.core.frame.DataFrame),\n",
       " ('netw_snrs', list),\n",
       " ('sky_locs', list),\n",
       " ('new_cov', list)]"
      ]
     },
     "execution_count": 22,
     "metadata": {},
     "output_type": "execute_result"
    }
   ],
   "source": [
    "[(key, type(fm_results_updated[key])) for key in fm_results_updated.keys()]"
   ]
  },
  {
   "cell_type": "code",
   "execution_count": 23,
   "id": "e78907e1-2d74-4fba-b6d4-b44d32bd62a1",
   "metadata": {},
   "outputs": [
    {
     "name": "stderr",
     "output_type": "stream",
     "text": [
      "100%|██████████████████████████████████████████████████████████████████████████████████████████████████████████████████████████████████████████████| 5200/5200 [00:32<00:00, 162.49it/s]"
     ]
    },
    {
     "name": "stdout",
     "output_type": "stream",
     "text": [
      "Failed to convert events: [2251]\n"
     ]
    },
    {
     "name": "stderr",
     "output_type": "stream",
     "text": [
      "\n"
     ]
    }
   ],
   "source": [
    "from numpy.linalg import LinAlgError\n",
    "import logging\n",
    "\n",
    "logging.getLogger('bilby').setLevel(logging.ERROR)\n",
    "failed_convert_posteriors = []\n",
    "\n",
    "for event in tqdm(range(n_events)):\n",
    "    mu = [fm_results['inj_params'][param][event] for param in fm_results['new_deriv_variables_in_order']]\n",
    "    cov = fm_results['new_cov'][event]\n",
    "\n",
    "    # Symmetrize covariance\n",
    "    cov = (cov + cov.T) / 2\n",
    "\n",
    "    # Try constructing the posterior, adding jitter if needed\n",
    "    for attempt in range(5):\n",
    "        try:\n",
    "            mvg = MultivariateGaussianDist(\n",
    "                fm_results['new_deriv_variables_in_order'],\n",
    "                mus=mu,\n",
    "                covs=cov,\n",
    "                bounds=[param_bounds[param] for param in fm_results['new_deriv_variables_in_order']]\n",
    "            )\n",
    "            break\n",
    "        except LinAlgError:\n",
    "            # Add increasing jitter\n",
    "            eps = 1e-12 * (10 ** attempt)\n",
    "            cov += eps * np.eye(cov.shape[0])\n",
    "        except ValueError:\n",
    "            # Add increasing jitter\n",
    "            eps = 1e-12 * (10 ** attempt)\n",
    "            cov += eps * np.eye(cov.shape[0])\n",
    "    else:\n",
    "        failed_convert_posteriors.append(event)\n",
    "        continue  # skip this event\n",
    "\n",
    "    # Sample new mean values\n",
    "    new_mean_vals = {param: MultivariateGaussian(mvg, param).sample() \n",
    "                     for param in fm_results['new_deriv_variables_in_order']}\n",
    "    fm_results_updated['new_mean_vals'].append(new_mean_vals)\n",
    "    for key in fm_results_updated.keys():\n",
    "        if key == 'new_mean_vals':\n",
    "            continue\n",
    "        else:\n",
    "            if isinstance(fm_results_updated[key], pd.DataFrame):\n",
    "                fm_results_updated[key].loc[event] = fm_results[key].loc[event]\n",
    "            elif isinstance(fm_results_updated[key], list):\n",
    "                fm_results_updated[key].append(fm_results[key][event])\n",
    "\n",
    "if failed_convert_posteriors:\n",
    "    print(f\"Failed to convert events: {failed_convert_posteriors}\")"
   ]
  },
  {
   "cell_type": "code",
   "execution_count": 24,
   "id": "88c6f37d-ac8c-4f96-9b39-e5c19a21114a",
   "metadata": {},
   "outputs": [],
   "source": [
    "fm_results_updated['all_inj_params_original'].reset_index(inplace=True, drop=True)\n",
    "fm_results_updated['inj_params'].reset_index(inplace=True, drop=True)\n",
    "fm_results_updated['errors'].reset_index(inplace=True, drop=True)\n",
    "fm_results_updated['new_mean_vals'] = pd.DataFrame(fm_results_updated['new_mean_vals'])"
   ]
  },
  {
   "cell_type": "code",
   "execution_count": 25,
   "id": "d4dc07b5-60c7-4df5-aaa7-a53bc5497624",
   "metadata": {},
   "outputs": [
    {
     "data": {
      "text/plain": [
       "[5199, 5199, 5199, 5199, 5199, 5199, 5199, 5199]"
      ]
     },
     "execution_count": 25,
     "metadata": {},
     "output_type": "execute_result"
    }
   ],
   "source": [
    "[len(fm_results_updated[key]) for key in fm_results_updated.keys()]"
   ]
  },
  {
   "cell_type": "code",
   "execution_count": 26,
   "id": "6bebb564-2737-4423-9084-5237aecb7955",
   "metadata": {},
   "outputs": [
    {
     "data": {
      "image/png": "[encoded data removed]",
      "text/plain": [
       "<Figure size 640x480 with 1 Axes>"
      ]
     },
     "metadata": {},
     "output_type": "display_data"
    }
   ],
   "source": [
    "plt.plot(fm_results_updated['inj_params']['log_luminosity_distance'], \n",
    "         fm_results_updated['inj_params']['log_luminosity_distance']/fm_results_updated['new_mean_vals']['log_luminosity_distance'], \n",
    "         '.');"
   ]
  },
  {
   "cell_type": "code",
   "execution_count": 27,
   "id": "19df4081-3461-4a72-973c-02212312955c",
   "metadata": {},
   "outputs": [
    {
     "data": {
      "image/png": "[encoded data removed]",
      "text/plain": [
       "<Figure size 640x480 with 1 Axes>"
      ]
     },
     "metadata": {},
     "output_type": "display_data"
    }
   ],
   "source": [
    "plt.plot(np.exp(fm_results_updated['inj_params']['log_luminosity_distance']), \n",
    "         np.exp(fm_results_updated['inj_params']['log_luminosity_distance'])/np.exp(fm_results_updated['new_mean_vals']['log_luminosity_distance']), \n",
    "         '.');"
   ]
  },
  {
   "cell_type": "markdown",
   "id": "09d90084-cb19-4f39-9022-72451f429659",
   "metadata": {},
   "source": [
    "#### Save new means to h5"
   ]
  },
  {
   "cell_type": "code",
   "execution_count": 28,
   "id": "a3ce2e44-e0d5-4065-a2ea-4fe8c12bbb36",
   "metadata": {},
   "outputs": [],
   "source": [
    "def save_to_h5_group(group, data, string_dtype, key=None):\n",
    "    # if key is given, create dataset/group under that name\n",
    "    if isinstance(data, dict):\n",
    "        subgroup = group if key is None else group.create_group(str(key))\n",
    "        for k, v in data.items():\n",
    "            save_to_h5_group(subgroup, v, string_dtype, k)\n",
    "\n",
    "    elif isinstance(data, (list, tuple)):\n",
    "        subgroup = group if key is None else group.create_group(str(key))\n",
    "        for i, item in enumerate(data):\n",
    "            save_to_h5_group(subgroup, item, string_dtype, str(i))\n",
    "\n",
    "    elif isinstance(data, pd.DataFrame):\n",
    "        subgroup = group if key is None else group.create_group(str(key))\n",
    "        for col in data.columns:\n",
    "            subgroup.create_dataset(str(col), data=data[col].to_numpy())\n",
    "\n",
    "    elif isinstance(data, str):\n",
    "        if key is None:\n",
    "            raise ValueError(\"Strings must be stored with a key\")\n",
    "        group.create_dataset(str(key), data=data, dtype=string_dtype)\n",
    "\n",
    "    else:\n",
    "        if key is None:\n",
    "            raise ValueError(\"Scalars/arrays must be stored with a key\")\n",
    "        group.create_dataset(str(key), data=np.array(data))\n",
    "\n",
    "\n",
    "def save_results_to_h5(results, filename):\n",
    "    dt = h5py.string_dtype(encoding='utf-8')\n",
    "    with h5py.File(filename, 'w') as f:\n",
    "        save_to_h5_group(f, results, dt)"
   ]
  },
  {
   "cell_type": "code",
   "execution_count": 29,
   "id": "5f6d29bd-4298-4bf2-8cfc-577bf22e4848",
   "metadata": {
    "scrolled": true
   },
   "outputs": [
    {
     "data": {
      "text/plain": [
       "'/home/divyajyoti/ACADEMIC/Projects/Cardiff_University/Next_gen_detectability/A-sharp-study/GWFish_analysis/BBH/Errors/CE4020ET123_CoBA10_5_PLP_z_MDlow_zp_1.54_zmax_10_lmrd_22_no_spins_5200_events_pop_from_XPHM_det10.h5'"
      ]
     },
     "execution_count": 29,
     "metadata": {},
     "output_type": "execute_result"
    }
   ],
   "source": [
    "fm_err_file"
   ]
  },
  {
   "cell_type": "code",
   "execution_count": 30,
   "id": "2a563dd8-c7ea-4254-bef4-bdc08fb2c1fd",
   "metadata": {},
   "outputs": [
    {
     "data": {
      "text/plain": [
       "'/home/divyajyoti/ACADEMIC/Projects/Cardiff_University/Next_gen_detectability/A-sharp-study/GWFish_analysis/BBH/Errors/CE4020ET123_CoBA10_5_PLP_z_MDlow_zp_1.54_zmax_10_lmrd_22_no_spins_5199_events_pop_from_XPHM_det10_with_new_means.h5'"
      ]
     },
     "execution_count": 30,
     "metadata": {},
     "output_type": "execute_result"
    }
   ],
   "source": [
    "new_fm_file = fm_err_file.replace('.h5', '_with_new_means.h5').replace(str(n_events), str(len(fm_results_updated['new_mean_vals'])))\n",
    "new_fm_file"
   ]
  },
  {
   "cell_type": "code",
   "execution_count": 31,
   "id": "ee4013c7-3e70-4f62-8e87-951215604ae4",
   "metadata": {},
   "outputs": [],
   "source": [
    "save_results_to_h5(fm_results, new_fm_file)"
   ]
  },
  {
   "cell_type": "markdown",
   "id": "358986b2-1539-4bcf-bfb9-07e0acb4477f",
   "metadata": {},
   "source": [
    "## Calculate SNRs with new means for samples with SNR <=15"
   ]
  },
  {
   "cell_type": "code",
   "execution_count": 32,
   "id": "0b356375-81ac-4a37-bd2a-6e9b7dc46e32",
   "metadata": {},
   "outputs": [],
   "source": [
    "fm_results_updated['netw_snrs'] = np.array(fm_results_updated['netw_snrs'])"
   ]
  },
  {
   "cell_type": "code",
   "execution_count": 33,
   "id": "570f488c-35d2-4a42-907d-6c629650587b",
   "metadata": {},
   "outputs": [],
   "source": [
    "snr_mask_below_15 = (fm_results_updated['netw_snrs']<=15)\n",
    "snr_mask_above_15 = (fm_results_updated['netw_snrs']>15)"
   ]
  },
  {
   "cell_type": "code",
   "execution_count": 34,
   "id": "53e70495-b4d9-467a-bdc1-59e600f8620d",
   "metadata": {},
   "outputs": [
    {
     "data": {
      "text/plain": [
       "234"
      ]
     },
     "execution_count": 34,
     "metadata": {},
     "output_type": "execute_result"
    }
   ],
   "source": [
    "len(fm_results_updated['netw_snrs'][snr_mask_below_15])"
   ]
  },
  {
   "cell_type": "code",
   "execution_count": 35,
   "id": "85db32cd-0c98-4974-95ea-3a4042e631ca",
   "metadata": {},
   "outputs": [
    {
     "data": {
      "text/plain": [
       "4965"
      ]
     },
     "execution_count": 35,
     "metadata": {},
     "output_type": "execute_result"
    }
   ],
   "source": [
    "len(fm_results_updated['netw_snrs'][snr_mask_above_15])"
   ]
  },
  {
   "cell_type": "code",
   "execution_count": 36,
   "id": "29a7c5b5-1c0a-47fe-ba28-dea87b059207",
   "metadata": {},
   "outputs": [],
   "source": [
    "fm_results_snr_below_15 = {}\n",
    "fm_results_snr_above_15 = {}\n",
    "for key, val in fm_results_updated.items():\n",
    "    if type(val) == list:\n",
    "        fm_results_snr_below_15[key] = np.array(val)[snr_mask_below_15]\n",
    "        fm_results_snr_above_15[key] = np.array(val)[snr_mask_above_15]\n",
    "    else:\n",
    "        fm_results_snr_below_15[key] = val[snr_mask_below_15]\n",
    "        fm_results_snr_above_15[key] = val[snr_mask_above_15]\n",
    "    if isinstance(val, pd.DataFrame):\n",
    "        fm_results_snr_below_15[key].reset_index(inplace=True)\n",
    "        fm_results_snr_above_15[key].reset_index(inplace=True)"
   ]
  },
  {
   "cell_type": "code",
   "execution_count": 37,
   "id": "fc85bd41-81c0-40b5-ba85-d7f9eef898e6",
   "metadata": {},
   "outputs": [
    {
     "data": {
      "text/html": [
       "<div>\n",
       "<style scoped>\n",
       "    .dataframe tbody tr th:only-of-type {\n",
       "        vertical-align: middle;\n",
       "    }\n",
       "\n",
       "    .dataframe tbody tr th {\n",
       "        vertical-align: top;\n",
       "    }\n",
       "\n",
       "    .dataframe thead th {\n",
       "        text-align: right;\n",
       "    }\n",
       "</style>\n",
       "<table border=\"1\" class=\"dataframe\">\n",
       "  <thead>\n",
       "    <tr style=\"text-align: right;\">\n",
       "      <th></th>\n",
       "      <th>index</th>\n",
       "      <th>SNR_C1</th>\n",
       "      <th>SNR_CE20</th>\n",
       "      <th>SNR_E1</th>\n",
       "      <th>SNR_E2</th>\n",
       "      <th>SNR_E3</th>\n",
       "      <th>SNR_mf_C1</th>\n",
       "      <th>SNR_mf_CE20</th>\n",
       "      <th>SNR_mf_E1</th>\n",
       "      <th>SNR_mf_E2</th>\n",
       "      <th>...</th>\n",
       "      <th>spin2x</th>\n",
       "      <th>spin2y</th>\n",
       "      <th>spin2z</th>\n",
       "      <th>srcmass1</th>\n",
       "      <th>srcmass2</th>\n",
       "      <th>srcmchirp</th>\n",
       "      <th>srcmtotal</th>\n",
       "      <th>theta_jn</th>\n",
       "      <th>time_interval</th>\n",
       "      <th>trigger_time</th>\n",
       "    </tr>\n",
       "  </thead>\n",
       "  <tbody>\n",
       "    <tr>\n",
       "      <th>0</th>\n",
       "      <td>1</td>\n",
       "      <td>10.970486</td>\n",
       "      <td>8.076727</td>\n",
       "      <td>2.749087</td>\n",
       "      <td>2.051240</td>\n",
       "      <td>4.600263</td>\n",
       "      <td>10.661381</td>\n",
       "      <td>8.470382</td>\n",
       "      <td>5.113217</td>\n",
       "      <td>5.813628</td>\n",
       "      <td>...</td>\n",
       "      <td>-0.144932</td>\n",
       "      <td>0.140716</td>\n",
       "      <td>0.136367</td>\n",
       "      <td>6.743838</td>\n",
       "      <td>2.899727</td>\n",
       "      <td>3.783651</td>\n",
       "      <td>9.643565</td>\n",
       "      <td>1.479538</td>\n",
       "      <td>457.754071</td>\n",
       "      <td>1.904448e+09</td>\n",
       "    </tr>\n",
       "    <tr>\n",
       "      <th>1</th>\n",
       "      <td>24</td>\n",
       "      <td>10.834435</td>\n",
       "      <td>6.236916</td>\n",
       "      <td>2.507938</td>\n",
       "      <td>2.806835</td>\n",
       "      <td>0.995716</td>\n",
       "      <td>9.646200</td>\n",
       "      <td>6.669573</td>\n",
       "      <td>4.943023</td>\n",
       "      <td>4.647004</td>\n",
       "      <td>...</td>\n",
       "      <td>-0.702471</td>\n",
       "      <td>0.448945</td>\n",
       "      <td>-0.265062</td>\n",
       "      <td>16.339115</td>\n",
       "      <td>4.830764</td>\n",
       "      <td>7.467976</td>\n",
       "      <td>21.169879</td>\n",
       "      <td>1.336748</td>\n",
       "      <td>3621.110233</td>\n",
       "      <td>1.920703e+09</td>\n",
       "    </tr>\n",
       "    <tr>\n",
       "      <th>2</th>\n",
       "      <td>27</td>\n",
       "      <td>10.582940</td>\n",
       "      <td>1.834151</td>\n",
       "      <td>5.772221</td>\n",
       "      <td>4.384038</td>\n",
       "      <td>3.336039</td>\n",
       "      <td>10.531668</td>\n",
       "      <td>4.836503</td>\n",
       "      <td>7.094310</td>\n",
       "      <td>4.443514</td>\n",
       "      <td>...</td>\n",
       "      <td>-0.521006</td>\n",
       "      <td>-0.056433</td>\n",
       "      <td>0.643350</td>\n",
       "      <td>7.837876</td>\n",
       "      <td>4.648188</td>\n",
       "      <td>5.219202</td>\n",
       "      <td>12.486064</td>\n",
       "      <td>2.373700</td>\n",
       "      <td>888.412311</td>\n",
       "      <td>1.908174e+09</td>\n",
       "    </tr>\n",
       "    <tr>\n",
       "      <th>3</th>\n",
       "      <td>46</td>\n",
       "      <td>9.462340</td>\n",
       "      <td>5.838866</td>\n",
       "      <td>4.850402</td>\n",
       "      <td>3.955984</td>\n",
       "      <td>1.714542</td>\n",
       "      <td>9.308314</td>\n",
       "      <td>5.495751</td>\n",
       "      <td>5.111271</td>\n",
       "      <td>4.809145</td>\n",
       "      <td>...</td>\n",
       "      <td>-0.056937</td>\n",
       "      <td>-0.088839</td>\n",
       "      <td>0.144575</td>\n",
       "      <td>11.819984</td>\n",
       "      <td>7.155390</td>\n",
       "      <td>7.956317</td>\n",
       "      <td>18.975374</td>\n",
       "      <td>1.408936</td>\n",
       "      <td>242.722223</td>\n",
       "      <td>1.911600e+09</td>\n",
       "    </tr>\n",
       "    <tr>\n",
       "      <th>4</th>\n",
       "      <td>72</td>\n",
       "      <td>4.855596</td>\n",
       "      <td>8.098795</td>\n",
       "      <td>5.618525</td>\n",
       "      <td>0.572472</td>\n",
       "      <td>5.079923</td>\n",
       "      <td>5.294624</td>\n",
       "      <td>7.872675</td>\n",
       "      <td>5.164348</td>\n",
       "      <td>4.865250</td>\n",
       "      <td>...</td>\n",
       "      <td>0.325430</td>\n",
       "      <td>0.475841</td>\n",
       "      <td>0.387841</td>\n",
       "      <td>11.789159</td>\n",
       "      <td>4.572991</td>\n",
       "      <td>6.255209</td>\n",
       "      <td>16.362150</td>\n",
       "      <td>1.462501</td>\n",
       "      <td>901.964498</td>\n",
       "      <td>1.916004e+09</td>\n",
       "    </tr>\n",
       "    <tr>\n",
       "      <th>...</th>\n",
       "      <td>...</td>\n",
       "      <td>...</td>\n",
       "      <td>...</td>\n",
       "      <td>...</td>\n",
       "      <td>...</td>\n",
       "      <td>...</td>\n",
       "      <td>...</td>\n",
       "      <td>...</td>\n",
       "      <td>...</td>\n",
       "      <td>...</td>\n",
       "      <td>...</td>\n",
       "      <td>...</td>\n",
       "      <td>...</td>\n",
       "      <td>...</td>\n",
       "      <td>...</td>\n",
       "      <td>...</td>\n",
       "      <td>...</td>\n",
       "      <td>...</td>\n",
       "      <td>...</td>\n",
       "      <td>...</td>\n",
       "      <td>...</td>\n",
       "    </tr>\n",
       "    <tr>\n",
       "      <th>229</th>\n",
       "      <td>5133</td>\n",
       "      <td>7.945261</td>\n",
       "      <td>3.898667</td>\n",
       "      <td>4.671570</td>\n",
       "      <td>4.309798</td>\n",
       "      <td>4.348975</td>\n",
       "      <td>7.323126</td>\n",
       "      <td>4.621054</td>\n",
       "      <td>5.033957</td>\n",
       "      <td>5.620615</td>\n",
       "      <td>...</td>\n",
       "      <td>-0.096560</td>\n",
       "      <td>-0.129753</td>\n",
       "      <td>-0.206670</td>\n",
       "      <td>6.655122</td>\n",
       "      <td>3.639391</td>\n",
       "      <td>4.246095</td>\n",
       "      <td>10.294513</td>\n",
       "      <td>1.180404</td>\n",
       "      <td>214.981318</td>\n",
       "      <td>1.898657e+09</td>\n",
       "    </tr>\n",
       "    <tr>\n",
       "      <th>230</th>\n",
       "      <td>5143</td>\n",
       "      <td>7.395970</td>\n",
       "      <td>9.105438</td>\n",
       "      <td>6.024128</td>\n",
       "      <td>4.163830</td>\n",
       "      <td>2.056249</td>\n",
       "      <td>7.443814</td>\n",
       "      <td>7.987629</td>\n",
       "      <td>7.059601</td>\n",
       "      <td>5.145414</td>\n",
       "      <td>...</td>\n",
       "      <td>-0.149733</td>\n",
       "      <td>0.010097</td>\n",
       "      <td>0.889050</td>\n",
       "      <td>6.553185</td>\n",
       "      <td>5.163784</td>\n",
       "      <td>5.056957</td>\n",
       "      <td>11.716969</td>\n",
       "      <td>1.599600</td>\n",
       "      <td>786.572709</td>\n",
       "      <td>1.902669e+09</td>\n",
       "    </tr>\n",
       "    <tr>\n",
       "      <th>231</th>\n",
       "      <td>5147</td>\n",
       "      <td>6.055238</td>\n",
       "      <td>1.520944</td>\n",
       "      <td>7.509678</td>\n",
       "      <td>7.128631</td>\n",
       "      <td>1.408622</td>\n",
       "      <td>7.456679</td>\n",
       "      <td>4.750751</td>\n",
       "      <td>8.324438</td>\n",
       "      <td>7.722784</td>\n",
       "      <td>...</td>\n",
       "      <td>-0.579975</td>\n",
       "      <td>0.054516</td>\n",
       "      <td>-0.079794</td>\n",
       "      <td>13.526878</td>\n",
       "      <td>8.637118</td>\n",
       "      <td>9.362897</td>\n",
       "      <td>22.163996</td>\n",
       "      <td>1.476134</td>\n",
       "      <td>10.363708</td>\n",
       "      <td>1.923203e+09</td>\n",
       "    </tr>\n",
       "    <tr>\n",
       "      <th>232</th>\n",
       "      <td>5161</td>\n",
       "      <td>8.442571</td>\n",
       "      <td>6.944759</td>\n",
       "      <td>5.486260</td>\n",
       "      <td>5.665420</td>\n",
       "      <td>5.795508</td>\n",
       "      <td>9.037970</td>\n",
       "      <td>8.189757</td>\n",
       "      <td>5.572212</td>\n",
       "      <td>7.697977</td>\n",
       "      <td>...</td>\n",
       "      <td>-0.068350</td>\n",
       "      <td>0.010020</td>\n",
       "      <td>0.140322</td>\n",
       "      <td>8.391998</td>\n",
       "      <td>3.422691</td>\n",
       "      <td>4.575677</td>\n",
       "      <td>11.814689</td>\n",
       "      <td>2.270574</td>\n",
       "      <td>2418.058552</td>\n",
       "      <td>1.903099e+09</td>\n",
       "    </tr>\n",
       "    <tr>\n",
       "      <th>233</th>\n",
       "      <td>5195</td>\n",
       "      <td>9.783213</td>\n",
       "      <td>4.628306</td>\n",
       "      <td>6.991191</td>\n",
       "      <td>6.618494</td>\n",
       "      <td>1.088106</td>\n",
       "      <td>10.373312</td>\n",
       "      <td>5.642964</td>\n",
       "      <td>6.438702</td>\n",
       "      <td>7.827678</td>\n",
       "      <td>...</td>\n",
       "      <td>0.027997</td>\n",
       "      <td>0.160742</td>\n",
       "      <td>0.091815</td>\n",
       "      <td>10.988905</td>\n",
       "      <td>9.840795</td>\n",
       "      <td>9.050116</td>\n",
       "      <td>20.829700</td>\n",
       "      <td>1.701392</td>\n",
       "      <td>996.451437</td>\n",
       "      <td>1.907678e+09</td>\n",
       "    </tr>\n",
       "  </tbody>\n",
       "</table>\n",
       "<p>234 rows × 66 columns</p>\n",
       "</div>"
      ],
      "text/plain": [
       "     index     SNR_C1  SNR_CE20    SNR_E1    SNR_E2    SNR_E3  SNR_mf_C1  \\\n",
       "0        1  10.970486  8.076727  2.749087  2.051240  4.600263  10.661381   \n",
       "1       24  10.834435  6.236916  2.507938  2.806835  0.995716   9.646200   \n",
       "2       27  10.582940  1.834151  5.772221  4.384038  3.336039  10.531668   \n",
       "3       46   9.462340  5.838866  4.850402  3.955984  1.714542   9.308314   \n",
       "4       72   4.855596  8.098795  5.618525  0.572472  5.079923   5.294624   \n",
       "..     ...        ...       ...       ...       ...       ...        ...   \n",
       "229   5133   7.945261  3.898667  4.671570  4.309798  4.348975   7.323126   \n",
       "230   5143   7.395970  9.105438  6.024128  4.163830  2.056249   7.443814   \n",
       "231   5147   6.055238  1.520944  7.509678  7.128631  1.408622   7.456679   \n",
       "232   5161   8.442571  6.944759  5.486260  5.665420  5.795508   9.037970   \n",
       "233   5195   9.783213  4.628306  6.991191  6.618494  1.088106  10.373312   \n",
       "\n",
       "     SNR_mf_CE20  SNR_mf_E1  SNR_mf_E2  ...    spin2x    spin2y    spin2z  \\\n",
       "0       8.470382   5.113217   5.813628  ... -0.144932  0.140716  0.136367   \n",
       "1       6.669573   4.943023   4.647004  ... -0.702471  0.448945 -0.265062   \n",
       "2       4.836503   7.094310   4.443514  ... -0.521006 -0.056433  0.643350   \n",
       "3       5.495751   5.111271   4.809145  ... -0.056937 -0.088839  0.144575   \n",
       "4       7.872675   5.164348   4.865250  ...  0.325430  0.475841  0.387841   \n",
       "..           ...        ...        ...  ...       ...       ...       ...   \n",
       "229     4.621054   5.033957   5.620615  ... -0.096560 -0.129753 -0.206670   \n",
       "230     7.987629   7.059601   5.145414  ... -0.149733  0.010097  0.889050   \n",
       "231     4.750751   8.324438   7.722784  ... -0.579975  0.054516 -0.079794   \n",
       "232     8.189757   5.572212   7.697977  ... -0.068350  0.010020  0.140322   \n",
       "233     5.642964   6.438702   7.827678  ...  0.027997  0.160742  0.091815   \n",
       "\n",
       "      srcmass1  srcmass2  srcmchirp  srcmtotal  theta_jn  time_interval  \\\n",
       "0     6.743838  2.899727   3.783651   9.643565  1.479538     457.754071   \n",
       "1    16.339115  4.830764   7.467976  21.169879  1.336748    3621.110233   \n",
       "2     7.837876  4.648188   5.219202  12.486064  2.373700     888.412311   \n",
       "3    11.819984  7.155390   7.956317  18.975374  1.408936     242.722223   \n",
       "4    11.789159  4.572991   6.255209  16.362150  1.462501     901.964498   \n",
       "..         ...       ...        ...        ...       ...            ...   \n",
       "229   6.655122  3.639391   4.246095  10.294513  1.180404     214.981318   \n",
       "230   6.553185  5.163784   5.056957  11.716969  1.599600     786.572709   \n",
       "231  13.526878  8.637118   9.362897  22.163996  1.476134      10.363708   \n",
       "232   8.391998  3.422691   4.575677  11.814689  2.270574    2418.058552   \n",
       "233  10.988905  9.840795   9.050116  20.829700  1.701392     996.451437   \n",
       "\n",
       "     trigger_time  \n",
       "0    1.904448e+09  \n",
       "1    1.920703e+09  \n",
       "2    1.908174e+09  \n",
       "3    1.911600e+09  \n",
       "4    1.916004e+09  \n",
       "..            ...  \n",
       "229  1.898657e+09  \n",
       "230  1.902669e+09  \n",
       "231  1.923203e+09  \n",
       "232  1.903099e+09  \n",
       "233  1.907678e+09  \n",
       "\n",
       "[234 rows x 66 columns]"
      ]
     },
     "execution_count": 37,
     "metadata": {},
     "output_type": "execute_result"
    }
   ],
   "source": [
    "fm_results_snr_below_15['all_inj_params_original']"
   ]
  },
  {
   "cell_type": "code",
   "execution_count": 38,
   "id": "f7bdbf1d-e8a1-45ee-b609-7f128a9b08fa",
   "metadata": {},
   "outputs": [
    {
     "data": {
      "text/html": [
       "<div>\n",
       "<style scoped>\n",
       "    .dataframe tbody tr th:only-of-type {\n",
       "        vertical-align: middle;\n",
       "    }\n",
       "\n",
       "    .dataframe tbody tr th {\n",
       "        vertical-align: top;\n",
       "    }\n",
       "\n",
       "    .dataframe thead th {\n",
       "        text-align: right;\n",
       "    }\n",
       "</style>\n",
       "<table border=\"1\" class=\"dataframe\">\n",
       "  <thead>\n",
       "    <tr style=\"text-align: right;\">\n",
       "      <th></th>\n",
       "      <th>index</th>\n",
       "      <th>log_chirp_mass</th>\n",
       "      <th>mass_ratio</th>\n",
       "      <th>log_luminosity_distance</th>\n",
       "      <th>theta_jn</th>\n",
       "      <th>phase</th>\n",
       "      <th>geocent_time</th>\n",
       "      <th>ra</th>\n",
       "      <th>dec</th>\n",
       "      <th>psi</th>\n",
       "    </tr>\n",
       "  </thead>\n",
       "  <tbody>\n",
       "    <tr>\n",
       "      <th>0</th>\n",
       "      <td>1</td>\n",
       "      <td>2.475092</td>\n",
       "      <td>0.429096</td>\n",
       "      <td>9.584966</td>\n",
       "      <td>1.552491</td>\n",
       "      <td>3.153121</td>\n",
       "      <td>1.904448e+09</td>\n",
       "      <td>4.760523</td>\n",
       "      <td>-0.202928</td>\n",
       "      <td>0.846853</td>\n",
       "    </tr>\n",
       "    <tr>\n",
       "      <th>1</th>\n",
       "      <td>24</td>\n",
       "      <td>3.594395</td>\n",
       "      <td>0.293336</td>\n",
       "      <td>10.233420</td>\n",
       "      <td>1.432513</td>\n",
       "      <td>6.223534</td>\n",
       "      <td>1.920703e+09</td>\n",
       "      <td>4.951292</td>\n",
       "      <td>-0.232447</td>\n",
       "      <td>1.958398</td>\n",
       "    </tr>\n",
       "    <tr>\n",
       "      <th>2</th>\n",
       "      <td>27</td>\n",
       "      <td>3.147950</td>\n",
       "      <td>0.606304</td>\n",
       "      <td>10.463383</td>\n",
       "      <td>2.477532</td>\n",
       "      <td>2.048849</td>\n",
       "      <td>1.908174e+09</td>\n",
       "      <td>6.250356</td>\n",
       "      <td>-0.934054</td>\n",
       "      <td>1.143871</td>\n",
       "    </tr>\n",
       "    <tr>\n",
       "      <th>3</th>\n",
       "      <td>46</td>\n",
       "      <td>3.630559</td>\n",
       "      <td>0.595386</td>\n",
       "      <td>10.324690</td>\n",
       "      <td>1.450266</td>\n",
       "      <td>5.454446</td>\n",
       "      <td>1.911600e+09</td>\n",
       "      <td>3.465000</td>\n",
       "      <td>0.038653</td>\n",
       "      <td>2.528870</td>\n",
       "    </tr>\n",
       "    <tr>\n",
       "      <th>4</th>\n",
       "      <td>72</td>\n",
       "      <td>2.708166</td>\n",
       "      <td>0.390081</td>\n",
       "      <td>9.198215</td>\n",
       "      <td>1.462467</td>\n",
       "      <td>2.824932</td>\n",
       "      <td>1.916004e+09</td>\n",
       "      <td>2.191992</td>\n",
       "      <td>0.538934</td>\n",
       "      <td>2.763528</td>\n",
       "    </tr>\n",
       "    <tr>\n",
       "      <th>...</th>\n",
       "      <td>...</td>\n",
       "      <td>...</td>\n",
       "      <td>...</td>\n",
       "      <td>...</td>\n",
       "      <td>...</td>\n",
       "      <td>...</td>\n",
       "      <td>...</td>\n",
       "      <td>...</td>\n",
       "      <td>...</td>\n",
       "      <td>...</td>\n",
       "    </tr>\n",
       "    <tr>\n",
       "      <th>229</th>\n",
       "      <td>5133</td>\n",
       "      <td>3.195302</td>\n",
       "      <td>0.561460</td>\n",
       "      <td>10.788515</td>\n",
       "      <td>1.206650</td>\n",
       "      <td>0.533156</td>\n",
       "      <td>1.898657e+09</td>\n",
       "      <td>5.507808</td>\n",
       "      <td>1.113415</td>\n",
       "      <td>0.353356</td>\n",
       "    </tr>\n",
       "    <tr>\n",
       "      <th>230</th>\n",
       "      <td>5143</td>\n",
       "      <td>2.819482</td>\n",
       "      <td>0.816683</td>\n",
       "      <td>9.770645</td>\n",
       "      <td>1.580938</td>\n",
       "      <td>1.923853</td>\n",
       "      <td>1.902669e+09</td>\n",
       "      <td>5.549313</td>\n",
       "      <td>-0.105726</td>\n",
       "      <td>0.551542</td>\n",
       "    </tr>\n",
       "    <tr>\n",
       "      <th>231</th>\n",
       "      <td>5147</td>\n",
       "      <td>3.344198</td>\n",
       "      <td>0.640913</td>\n",
       "      <td>9.658097</td>\n",
       "      <td>1.461060</td>\n",
       "      <td>0.239232</td>\n",
       "      <td>1.923203e+09</td>\n",
       "      <td>2.725978</td>\n",
       "      <td>-1.008508</td>\n",
       "      <td>2.237849</td>\n",
       "    </tr>\n",
       "    <tr>\n",
       "      <th>232</th>\n",
       "      <td>5161</td>\n",
       "      <td>3.444076</td>\n",
       "      <td>0.431030</td>\n",
       "      <td>10.814571</td>\n",
       "      <td>2.080228</td>\n",
       "      <td>2.457337</td>\n",
       "      <td>1.903099e+09</td>\n",
       "      <td>0.768482</td>\n",
       "      <td>0.886885</td>\n",
       "      <td>1.132935</td>\n",
       "    </tr>\n",
       "    <tr>\n",
       "      <th>233</th>\n",
       "      <td>5195</td>\n",
       "      <td>3.324298</td>\n",
       "      <td>0.895954</td>\n",
       "      <td>9.766993</td>\n",
       "      <td>1.679291</td>\n",
       "      <td>3.242605</td>\n",
       "      <td>1.907678e+09</td>\n",
       "      <td>1.874855</td>\n",
       "      <td>-0.928372</td>\n",
       "      <td>0.492018</td>\n",
       "    </tr>\n",
       "  </tbody>\n",
       "</table>\n",
       "<p>234 rows × 10 columns</p>\n",
       "</div>"
      ],
      "text/plain": [
       "     index  log_chirp_mass  mass_ratio  log_luminosity_distance  theta_jn  \\\n",
       "0        1        2.475092    0.429096                 9.584966  1.552491   \n",
       "1       24        3.594395    0.293336                10.233420  1.432513   \n",
       "2       27        3.147950    0.606304                10.463383  2.477532   \n",
       "3       46        3.630559    0.595386                10.324690  1.450266   \n",
       "4       72        2.708166    0.390081                 9.198215  1.462467   \n",
       "..     ...             ...         ...                      ...       ...   \n",
       "229   5133        3.195302    0.561460                10.788515  1.206650   \n",
       "230   5143        2.819482    0.816683                 9.770645  1.580938   \n",
       "231   5147        3.344198    0.640913                 9.658097  1.461060   \n",
       "232   5161        3.444076    0.431030                10.814571  2.080228   \n",
       "233   5195        3.324298    0.895954                 9.766993  1.679291   \n",
       "\n",
       "        phase  geocent_time        ra       dec       psi  \n",
       "0    3.153121  1.904448e+09  4.760523 -0.202928  0.846853  \n",
       "1    6.223534  1.920703e+09  4.951292 -0.232447  1.958398  \n",
       "2    2.048849  1.908174e+09  6.250356 -0.934054  1.143871  \n",
       "3    5.454446  1.911600e+09  3.465000  0.038653  2.528870  \n",
       "4    2.824932  1.916004e+09  2.191992  0.538934  2.763528  \n",
       "..        ...           ...       ...       ...       ...  \n",
       "229  0.533156  1.898657e+09  5.507808  1.113415  0.353356  \n",
       "230  1.923853  1.902669e+09  5.549313 -0.105726  0.551542  \n",
       "231  0.239232  1.923203e+09  2.725978 -1.008508  2.237849  \n",
       "232  2.457337  1.903099e+09  0.768482  0.886885  1.132935  \n",
       "233  3.242605  1.907678e+09  1.874855 -0.928372  0.492018  \n",
       "\n",
       "[234 rows x 10 columns]"
      ]
     },
     "execution_count": 38,
     "metadata": {},
     "output_type": "execute_result"
    }
   ],
   "source": [
    "fm_results_snr_below_15['new_mean_vals']"
   ]
  },
  {
   "cell_type": "code",
   "execution_count": 39,
   "id": "893d96a7-889d-4934-98f9-e1cf08a20a99",
   "metadata": {},
   "outputs": [],
   "source": [
    "pycbc_to_pesummary_map_spins = {\n",
    "    'spin1_a': 'a_1',\n",
    "    'spin2_a': 'a_2',\n",
    "    'spin1_polar': 'tilt_1',\n",
    "    'spin2_polar':'tilt_2',\n",
    "    'phi_12': 'phi_12',\n",
    "    'phi_jl': 'phi_jl'\n",
    "}\n",
    "gwfish_det_dict = {'L1':'L', 'H1':'H', 'I1':'IN'}"
   ]
  },
  {
   "cell_type": "code",
   "execution_count": 40,
   "id": "fd6de166-8cdd-43c6-88f9-08dae837e27e",
   "metadata": {},
   "outputs": [
    {
     "data": {
      "text/plain": [
       "['chirp_mass',\n",
       " 'mass_ratio',\n",
       " 'luminosity_distance',\n",
       " 'theta_jn',\n",
       " 'phase',\n",
       " 'geocent_time',\n",
       " 'ra',\n",
       " 'dec',\n",
       " 'psi']"
      ]
     },
     "execution_count": 40,
     "metadata": {},
     "output_type": "execute_result"
    }
   ],
   "source": [
    "fm_results['deriv_variables_in_order']"
   ]
  },
  {
   "cell_type": "code",
   "execution_count": 41,
   "id": "0697d8cc-8c53-455e-aa47-be0f8586771a",
   "metadata": {},
   "outputs": [
    {
     "name": "stderr",
     "output_type": "stream",
     "text": [
      "/tmp/ipykernel_15760/896725840.py:1: SettingWithCopyWarning: \n",
      "A value is trying to be set on a copy of a slice from a DataFrame.\n",
      "Try using .loc[row_indexer,col_indexer] = value instead\n",
      "\n",
      "See the caveats in the documentation: https://pandas.pydata.org/pandas-docs/stable/user_guide/indexing.html#returning-a-view-versus-a-copy\n",
      "  fm_results_snr_below_15['new_mean_vals'].loc[:,'chirp_mass'] = np.exp(fm_results_snr_below_15['new_mean_vals']['log_chirp_mass'])\n",
      "/tmp/ipykernel_15760/896725840.py:2: SettingWithCopyWarning: \n",
      "A value is trying to be set on a copy of a slice from a DataFrame.\n",
      "Try using .loc[row_indexer,col_indexer] = value instead\n",
      "\n",
      "See the caveats in the documentation: https://pandas.pydata.org/pandas-docs/stable/user_guide/indexing.html#returning-a-view-versus-a-copy\n",
      "  fm_results_snr_below_15['new_mean_vals'].loc[:,'luminosity_distance'] = np.exp(fm_results_snr_below_15['new_mean_vals']['log_luminosity_distance'])\n"
     ]
    }
   ],
   "source": [
    "fm_results_snr_below_15['new_mean_vals'].loc[:,'chirp_mass'] = np.exp(fm_results_snr_below_15['new_mean_vals']['log_chirp_mass'])\n",
    "fm_results_snr_below_15['new_mean_vals'].loc[:,'luminosity_distance'] = np.exp(fm_results_snr_below_15['new_mean_vals']['log_luminosity_distance'])"
   ]
  },
  {
   "cell_type": "code",
   "execution_count": 42,
   "id": "e91041fc-7799-4e41-ba21-df3648813bb0",
   "metadata": {},
   "outputs": [
    {
     "data": {
      "text/html": [
       "<div>\n",
       "<style scoped>\n",
       "    .dataframe tbody tr th:only-of-type {\n",
       "        vertical-align: middle;\n",
       "    }\n",
       "\n",
       "    .dataframe tbody tr th {\n",
       "        vertical-align: top;\n",
       "    }\n",
       "\n",
       "    .dataframe thead th {\n",
       "        text-align: right;\n",
       "    }\n",
       "</style>\n",
       "<table border=\"1\" class=\"dataframe\">\n",
       "  <thead>\n",
       "    <tr style=\"text-align: right;\">\n",
       "      <th></th>\n",
       "      <th>index</th>\n",
       "      <th>log_chirp_mass</th>\n",
       "      <th>mass_ratio</th>\n",
       "      <th>log_luminosity_distance</th>\n",
       "      <th>theta_jn</th>\n",
       "      <th>phase</th>\n",
       "      <th>geocent_time</th>\n",
       "      <th>ra</th>\n",
       "      <th>dec</th>\n",
       "      <th>psi</th>\n",
       "      <th>chirp_mass</th>\n",
       "      <th>luminosity_distance</th>\n",
       "    </tr>\n",
       "  </thead>\n",
       "  <tbody>\n",
       "    <tr>\n",
       "      <th>0</th>\n",
       "      <td>1</td>\n",
       "      <td>2.475092</td>\n",
       "      <td>0.429096</td>\n",
       "      <td>9.584966</td>\n",
       "      <td>1.552491</td>\n",
       "      <td>3.153121</td>\n",
       "      <td>1.904448e+09</td>\n",
       "      <td>4.760523</td>\n",
       "      <td>-0.202928</td>\n",
       "      <td>0.846853</td>\n",
       "      <td>11.882795</td>\n",
       "      <td>14544.463113</td>\n",
       "    </tr>\n",
       "    <tr>\n",
       "      <th>1</th>\n",
       "      <td>24</td>\n",
       "      <td>3.594395</td>\n",
       "      <td>0.293336</td>\n",
       "      <td>10.233420</td>\n",
       "      <td>1.432513</td>\n",
       "      <td>6.223534</td>\n",
       "      <td>1.920703e+09</td>\n",
       "      <td>4.951292</td>\n",
       "      <td>-0.232447</td>\n",
       "      <td>1.958398</td>\n",
       "      <td>36.393684</td>\n",
       "      <td>27817.482555</td>\n",
       "    </tr>\n",
       "    <tr>\n",
       "      <th>2</th>\n",
       "      <td>27</td>\n",
       "      <td>3.147950</td>\n",
       "      <td>0.606304</td>\n",
       "      <td>10.463383</td>\n",
       "      <td>2.477532</td>\n",
       "      <td>2.048849</td>\n",
       "      <td>1.908174e+09</td>\n",
       "      <td>6.250356</td>\n",
       "      <td>-0.934054</td>\n",
       "      <td>1.143871</td>\n",
       "      <td>23.288277</td>\n",
       "      <td>35009.775303</td>\n",
       "    </tr>\n",
       "    <tr>\n",
       "      <th>3</th>\n",
       "      <td>46</td>\n",
       "      <td>3.630559</td>\n",
       "      <td>0.595386</td>\n",
       "      <td>10.324690</td>\n",
       "      <td>1.450266</td>\n",
       "      <td>5.454446</td>\n",
       "      <td>1.911600e+09</td>\n",
       "      <td>3.465000</td>\n",
       "      <td>0.038653</td>\n",
       "      <td>2.528870</td>\n",
       "      <td>37.733907</td>\n",
       "      <td>30475.846222</td>\n",
       "    </tr>\n",
       "    <tr>\n",
       "      <th>4</th>\n",
       "      <td>72</td>\n",
       "      <td>2.708166</td>\n",
       "      <td>0.390081</td>\n",
       "      <td>9.198215</td>\n",
       "      <td>1.462467</td>\n",
       "      <td>2.824932</td>\n",
       "      <td>1.916004e+09</td>\n",
       "      <td>2.191992</td>\n",
       "      <td>0.538934</td>\n",
       "      <td>2.763528</td>\n",
       "      <td>15.001740</td>\n",
       "      <td>9879.477238</td>\n",
       "    </tr>\n",
       "    <tr>\n",
       "      <th>...</th>\n",
       "      <td>...</td>\n",
       "      <td>...</td>\n",
       "      <td>...</td>\n",
       "      <td>...</td>\n",
       "      <td>...</td>\n",
       "      <td>...</td>\n",
       "      <td>...</td>\n",
       "      <td>...</td>\n",
       "      <td>...</td>\n",
       "      <td>...</td>\n",
       "      <td>...</td>\n",
       "      <td>...</td>\n",
       "    </tr>\n",
       "    <tr>\n",
       "      <th>229</th>\n",
       "      <td>5133</td>\n",
       "      <td>3.195302</td>\n",
       "      <td>0.561460</td>\n",
       "      <td>10.788515</td>\n",
       "      <td>1.206650</td>\n",
       "      <td>0.533156</td>\n",
       "      <td>1.898657e+09</td>\n",
       "      <td>5.507808</td>\n",
       "      <td>1.113415</td>\n",
       "      <td>0.353356</td>\n",
       "      <td>24.417551</td>\n",
       "      <td>48461.006237</td>\n",
       "    </tr>\n",
       "    <tr>\n",
       "      <th>230</th>\n",
       "      <td>5143</td>\n",
       "      <td>2.819482</td>\n",
       "      <td>0.816683</td>\n",
       "      <td>9.770645</td>\n",
       "      <td>1.580938</td>\n",
       "      <td>1.923853</td>\n",
       "      <td>1.902669e+09</td>\n",
       "      <td>5.549313</td>\n",
       "      <td>-0.105726</td>\n",
       "      <td>0.551542</td>\n",
       "      <td>16.768170</td>\n",
       "      <td>17512.060543</td>\n",
       "    </tr>\n",
       "    <tr>\n",
       "      <th>231</th>\n",
       "      <td>5147</td>\n",
       "      <td>3.344198</td>\n",
       "      <td>0.640913</td>\n",
       "      <td>9.658097</td>\n",
       "      <td>1.461060</td>\n",
       "      <td>0.239232</td>\n",
       "      <td>1.923203e+09</td>\n",
       "      <td>2.725978</td>\n",
       "      <td>-1.008508</td>\n",
       "      <td>2.237849</td>\n",
       "      <td>28.337835</td>\n",
       "      <td>15647.979415</td>\n",
       "    </tr>\n",
       "    <tr>\n",
       "      <th>232</th>\n",
       "      <td>5161</td>\n",
       "      <td>3.444076</td>\n",
       "      <td>0.431030</td>\n",
       "      <td>10.814571</td>\n",
       "      <td>2.080228</td>\n",
       "      <td>2.457337</td>\n",
       "      <td>1.903099e+09</td>\n",
       "      <td>0.768482</td>\n",
       "      <td>0.886885</td>\n",
       "      <td>1.132935</td>\n",
       "      <td>31.314345</td>\n",
       "      <td>49740.330206</td>\n",
       "    </tr>\n",
       "    <tr>\n",
       "      <th>233</th>\n",
       "      <td>5195</td>\n",
       "      <td>3.324298</td>\n",
       "      <td>0.895954</td>\n",
       "      <td>9.766993</td>\n",
       "      <td>1.679291</td>\n",
       "      <td>3.242605</td>\n",
       "      <td>1.907678e+09</td>\n",
       "      <td>1.874855</td>\n",
       "      <td>-0.928372</td>\n",
       "      <td>0.492018</td>\n",
       "      <td>27.779503</td>\n",
       "      <td>17448.219994</td>\n",
       "    </tr>\n",
       "  </tbody>\n",
       "</table>\n",
       "<p>234 rows × 12 columns</p>\n",
       "</div>"
      ],
      "text/plain": [
       "     index  log_chirp_mass  mass_ratio  log_luminosity_distance  theta_jn  \\\n",
       "0        1        2.475092    0.429096                 9.584966  1.552491   \n",
       "1       24        3.594395    0.293336                10.233420  1.432513   \n",
       "2       27        3.147950    0.606304                10.463383  2.477532   \n",
       "3       46        3.630559    0.595386                10.324690  1.450266   \n",
       "4       72        2.708166    0.390081                 9.198215  1.462467   \n",
       "..     ...             ...         ...                      ...       ...   \n",
       "229   5133        3.195302    0.561460                10.788515  1.206650   \n",
       "230   5143        2.819482    0.816683                 9.770645  1.580938   \n",
       "231   5147        3.344198    0.640913                 9.658097  1.461060   \n",
       "232   5161        3.444076    0.431030                10.814571  2.080228   \n",
       "233   5195        3.324298    0.895954                 9.766993  1.679291   \n",
       "\n",
       "        phase  geocent_time        ra       dec       psi  chirp_mass  \\\n",
       "0    3.153121  1.904448e+09  4.760523 -0.202928  0.846853   11.882795   \n",
       "1    6.223534  1.920703e+09  4.951292 -0.232447  1.958398   36.393684   \n",
       "2    2.048849  1.908174e+09  6.250356 -0.934054  1.143871   23.288277   \n",
       "3    5.454446  1.911600e+09  3.465000  0.038653  2.528870   37.733907   \n",
       "4    2.824932  1.916004e+09  2.191992  0.538934  2.763528   15.001740   \n",
       "..        ...           ...       ...       ...       ...         ...   \n",
       "229  0.533156  1.898657e+09  5.507808  1.113415  0.353356   24.417551   \n",
       "230  1.923853  1.902669e+09  5.549313 -0.105726  0.551542   16.768170   \n",
       "231  0.239232  1.923203e+09  2.725978 -1.008508  2.237849   28.337835   \n",
       "232  2.457337  1.903099e+09  0.768482  0.886885  1.132935   31.314345   \n",
       "233  3.242605  1.907678e+09  1.874855 -0.928372  0.492018   27.779503   \n",
       "\n",
       "     luminosity_distance  \n",
       "0           14544.463113  \n",
       "1           27817.482555  \n",
       "2           35009.775303  \n",
       "3           30475.846222  \n",
       "4            9879.477238  \n",
       "..                   ...  \n",
       "229         48461.006237  \n",
       "230         17512.060543  \n",
       "231         15647.979415  \n",
       "232         49740.330206  \n",
       "233         17448.219994  \n",
       "\n",
       "[234 rows x 12 columns]"
      ]
     },
     "execution_count": 42,
     "metadata": {},
     "output_type": "execute_result"
    }
   ],
   "source": [
    "fm_results_snr_below_15['new_mean_vals']"
   ]
  },
  {
   "cell_type": "code",
   "execution_count": 43,
   "id": "db5eb638-0790-4384-b50f-92ed91daafea",
   "metadata": {},
   "outputs": [],
   "source": [
    "gwfish_input_data = {pycbc_to_pesummary_map_spins[key]:fm_results_snr_below_15['all_inj_params_original'][key] for key in pycbc_to_pesummary_map_spins.keys()}\n",
    "for key in fm_results['deriv_variables_in_order']:\n",
    "    gwfish_input_data[key] = fm_results_snr_below_15['new_mean_vals'][key]\n",
    "gwfish_input_data = pd.DataFrame(gwfish_input_data)"
   ]
  },
  {
   "cell_type": "code",
   "execution_count": 44,
   "id": "1b52c907-6087-4d9a-9dcd-bd18cdc3ab2b",
   "metadata": {
    "scrolled": true
   },
   "outputs": [
    {
     "data": {
      "text/html": [
       "<div>\n",
       "<style scoped>\n",
       "    .dataframe tbody tr th:only-of-type {\n",
       "        vertical-align: middle;\n",
       "    }\n",
       "\n",
       "    .dataframe tbody tr th {\n",
       "        vertical-align: top;\n",
       "    }\n",
       "\n",
       "    .dataframe thead th {\n",
       "        text-align: right;\n",
       "    }\n",
       "</style>\n",
       "<table border=\"1\" class=\"dataframe\">\n",
       "  <thead>\n",
       "    <tr style=\"text-align: right;\">\n",
       "      <th></th>\n",
       "      <th>a_1</th>\n",
       "      <th>a_2</th>\n",
       "      <th>tilt_1</th>\n",
       "      <th>tilt_2</th>\n",
       "      <th>phi_12</th>\n",
       "      <th>phi_jl</th>\n",
       "      <th>chirp_mass</th>\n",
       "      <th>mass_ratio</th>\n",
       "      <th>luminosity_distance</th>\n",
       "      <th>theta_jn</th>\n",
       "      <th>phase</th>\n",
       "      <th>geocent_time</th>\n",
       "      <th>ra</th>\n",
       "      <th>dec</th>\n",
       "      <th>psi</th>\n",
       "    </tr>\n",
       "  </thead>\n",
       "  <tbody>\n",
       "    <tr>\n",
       "      <th>0</th>\n",
       "      <td>0.124384</td>\n",
       "      <td>0.243726</td>\n",
       "      <td>2.148778</td>\n",
       "      <td>0.977003</td>\n",
       "      <td>3.020788</td>\n",
       "      <td>5.852060</td>\n",
       "      <td>11.882795</td>\n",
       "      <td>0.429096</td>\n",
       "      <td>14544.463113</td>\n",
       "      <td>1.552491</td>\n",
       "      <td>3.153121</td>\n",
       "      <td>1.904448e+09</td>\n",
       "      <td>4.760523</td>\n",
       "      <td>-0.202928</td>\n",
       "      <td>0.846853</td>\n",
       "    </tr>\n",
       "    <tr>\n",
       "      <th>1</th>\n",
       "      <td>0.018666</td>\n",
       "      <td>0.874800</td>\n",
       "      <td>1.027159</td>\n",
       "      <td>1.878632</td>\n",
       "      <td>1.246332</td>\n",
       "      <td>5.418044</td>\n",
       "      <td>36.393684</td>\n",
       "      <td>0.293336</td>\n",
       "      <td>27817.482555</td>\n",
       "      <td>1.432513</td>\n",
       "      <td>6.223534</td>\n",
       "      <td>1.920703e+09</td>\n",
       "      <td>4.951292</td>\n",
       "      <td>-0.232447</td>\n",
       "      <td>1.958398</td>\n",
       "    </tr>\n",
       "    <tr>\n",
       "      <th>2</th>\n",
       "      <td>0.016889</td>\n",
       "      <td>0.829778</td>\n",
       "      <td>0.993200</td>\n",
       "      <td>0.683562</td>\n",
       "      <td>1.859595</td>\n",
       "      <td>3.862585</td>\n",
       "      <td>23.288277</td>\n",
       "      <td>0.606304</td>\n",
       "      <td>35009.775303</td>\n",
       "      <td>2.477532</td>\n",
       "      <td>2.048849</td>\n",
       "      <td>1.908174e+09</td>\n",
       "      <td>6.250356</td>\n",
       "      <td>-0.934054</td>\n",
       "      <td>1.143871</td>\n",
       "    </tr>\n",
       "    <tr>\n",
       "      <th>3</th>\n",
       "      <td>0.178640</td>\n",
       "      <td>0.178986</td>\n",
       "      <td>1.618219</td>\n",
       "      <td>0.630481</td>\n",
       "      <td>5.529535</td>\n",
       "      <td>0.420084</td>\n",
       "      <td>37.733907</td>\n",
       "      <td>0.595386</td>\n",
       "      <td>30475.846222</td>\n",
       "      <td>1.450266</td>\n",
       "      <td>5.454446</td>\n",
       "      <td>1.911600e+09</td>\n",
       "      <td>3.465000</td>\n",
       "      <td>0.038653</td>\n",
       "      <td>2.528870</td>\n",
       "    </tr>\n",
       "    <tr>\n",
       "      <th>4</th>\n",
       "      <td>0.655237</td>\n",
       "      <td>0.694802</td>\n",
       "      <td>1.084215</td>\n",
       "      <td>0.978578</td>\n",
       "      <td>4.203980</td>\n",
       "      <td>3.161229</td>\n",
       "      <td>15.001740</td>\n",
       "      <td>0.390081</td>\n",
       "      <td>9879.477238</td>\n",
       "      <td>1.462467</td>\n",
       "      <td>2.824932</td>\n",
       "      <td>1.916004e+09</td>\n",
       "      <td>2.191992</td>\n",
       "      <td>0.538934</td>\n",
       "      <td>2.763528</td>\n",
       "    </tr>\n",
       "    <tr>\n",
       "      <th>...</th>\n",
       "      <td>...</td>\n",
       "      <td>...</td>\n",
       "      <td>...</td>\n",
       "      <td>...</td>\n",
       "      <td>...</td>\n",
       "      <td>...</td>\n",
       "      <td>...</td>\n",
       "      <td>...</td>\n",
       "      <td>...</td>\n",
       "      <td>...</td>\n",
       "      <td>...</td>\n",
       "      <td>...</td>\n",
       "      <td>...</td>\n",
       "      <td>...</td>\n",
       "      <td>...</td>\n",
       "    </tr>\n",
       "    <tr>\n",
       "      <th>229</th>\n",
       "      <td>0.978115</td>\n",
       "      <td>0.262435</td>\n",
       "      <td>1.647332</td>\n",
       "      <td>2.477553</td>\n",
       "      <td>1.108217</td>\n",
       "      <td>1.027795</td>\n",
       "      <td>24.417551</td>\n",
       "      <td>0.561460</td>\n",
       "      <td>48461.006237</td>\n",
       "      <td>1.206650</td>\n",
       "      <td>0.533156</td>\n",
       "      <td>1.898657e+09</td>\n",
       "      <td>5.507808</td>\n",
       "      <td>1.113415</td>\n",
       "      <td>0.353356</td>\n",
       "    </tr>\n",
       "    <tr>\n",
       "      <th>230</th>\n",
       "      <td>0.953671</td>\n",
       "      <td>0.901627</td>\n",
       "      <td>0.520119</td>\n",
       "      <td>0.167226</td>\n",
       "      <td>4.260629</td>\n",
       "      <td>3.883960</td>\n",
       "      <td>16.768170</td>\n",
       "      <td>0.816683</td>\n",
       "      <td>17512.060543</td>\n",
       "      <td>1.580938</td>\n",
       "      <td>1.923853</td>\n",
       "      <td>1.902669e+09</td>\n",
       "      <td>5.549313</td>\n",
       "      <td>-0.105726</td>\n",
       "      <td>0.551542</td>\n",
       "    </tr>\n",
       "    <tr>\n",
       "      <th>231</th>\n",
       "      <td>0.016924</td>\n",
       "      <td>0.587972</td>\n",
       "      <td>2.190784</td>\n",
       "      <td>1.706926</td>\n",
       "      <td>3.296214</td>\n",
       "      <td>0.092466</td>\n",
       "      <td>28.337835</td>\n",
       "      <td>0.640913</td>\n",
       "      <td>15647.979415</td>\n",
       "      <td>1.461060</td>\n",
       "      <td>0.239232</td>\n",
       "      <td>1.923203e+09</td>\n",
       "      <td>2.725978</td>\n",
       "      <td>-1.008508</td>\n",
       "      <td>2.237849</td>\n",
       "    </tr>\n",
       "    <tr>\n",
       "      <th>232</th>\n",
       "      <td>0.538801</td>\n",
       "      <td>0.156404</td>\n",
       "      <td>0.916175</td>\n",
       "      <td>0.457468</td>\n",
       "      <td>3.798116</td>\n",
       "      <td>3.959761</td>\n",
       "      <td>31.314345</td>\n",
       "      <td>0.431030</td>\n",
       "      <td>49740.330206</td>\n",
       "      <td>2.080228</td>\n",
       "      <td>2.457337</td>\n",
       "      <td>1.903099e+09</td>\n",
       "      <td>0.768482</td>\n",
       "      <td>0.886885</td>\n",
       "      <td>1.132935</td>\n",
       "    </tr>\n",
       "    <tr>\n",
       "      <th>233</th>\n",
       "      <td>0.799429</td>\n",
       "      <td>0.187221</td>\n",
       "      <td>1.226696</td>\n",
       "      <td>1.058240</td>\n",
       "      <td>1.604673</td>\n",
       "      <td>6.120929</td>\n",
       "      <td>27.779503</td>\n",
       "      <td>0.895954</td>\n",
       "      <td>17448.219994</td>\n",
       "      <td>1.679291</td>\n",
       "      <td>3.242605</td>\n",
       "      <td>1.907678e+09</td>\n",
       "      <td>1.874855</td>\n",
       "      <td>-0.928372</td>\n",
       "      <td>0.492018</td>\n",
       "    </tr>\n",
       "  </tbody>\n",
       "</table>\n",
       "<p>234 rows × 15 columns</p>\n",
       "</div>"
      ],
      "text/plain": [
       "          a_1       a_2    tilt_1    tilt_2    phi_12    phi_jl  chirp_mass  \\\n",
       "0    0.124384  0.243726  2.148778  0.977003  3.020788  5.852060   11.882795   \n",
       "1    0.018666  0.874800  1.027159  1.878632  1.246332  5.418044   36.393684   \n",
       "2    0.016889  0.829778  0.993200  0.683562  1.859595  3.862585   23.288277   \n",
       "3    0.178640  0.178986  1.618219  0.630481  5.529535  0.420084   37.733907   \n",
       "4    0.655237  0.694802  1.084215  0.978578  4.203980  3.161229   15.001740   \n",
       "..        ...       ...       ...       ...       ...       ...         ...   \n",
       "229  0.978115  0.262435  1.647332  2.477553  1.108217  1.027795   24.417551   \n",
       "230  0.953671  0.901627  0.520119  0.167226  4.260629  3.883960   16.768170   \n",
       "231  0.016924  0.587972  2.190784  1.706926  3.296214  0.092466   28.337835   \n",
       "232  0.538801  0.156404  0.916175  0.457468  3.798116  3.959761   31.314345   \n",
       "233  0.799429  0.187221  1.226696  1.058240  1.604673  6.120929   27.779503   \n",
       "\n",
       "     mass_ratio  luminosity_distance  theta_jn     phase  geocent_time  \\\n",
       "0      0.429096         14544.463113  1.552491  3.153121  1.904448e+09   \n",
       "1      0.293336         27817.482555  1.432513  6.223534  1.920703e+09   \n",
       "2      0.606304         35009.775303  2.477532  2.048849  1.908174e+09   \n",
       "3      0.595386         30475.846222  1.450266  5.454446  1.911600e+09   \n",
       "4      0.390081          9879.477238  1.462467  2.824932  1.916004e+09   \n",
       "..          ...                  ...       ...       ...           ...   \n",
       "229    0.561460         48461.006237  1.206650  0.533156  1.898657e+09   \n",
       "230    0.816683         17512.060543  1.580938  1.923853  1.902669e+09   \n",
       "231    0.640913         15647.979415  1.461060  0.239232  1.923203e+09   \n",
       "232    0.431030         49740.330206  2.080228  2.457337  1.903099e+09   \n",
       "233    0.895954         17448.219994  1.679291  3.242605  1.907678e+09   \n",
       "\n",
       "           ra       dec       psi  \n",
       "0    4.760523 -0.202928  0.846853  \n",
       "1    4.951292 -0.232447  1.958398  \n",
       "2    6.250356 -0.934054  1.143871  \n",
       "3    3.465000  0.038653  2.528870  \n",
       "4    2.191992  0.538934  2.763528  \n",
       "..        ...       ...       ...  \n",
       "229  5.507808  1.113415  0.353356  \n",
       "230  5.549313 -0.105726  0.551542  \n",
       "231  2.725978 -1.008508  2.237849  \n",
       "232  0.768482  0.886885  1.132935  \n",
       "233  1.874855 -0.928372  0.492018  \n",
       "\n",
       "[234 rows x 15 columns]"
      ]
     },
     "execution_count": 44,
     "metadata": {},
     "output_type": "execute_result"
    }
   ],
   "source": [
    "gwfish_input_data"
   ]
  },
  {
   "cell_type": "code",
   "execution_count": 45,
   "id": "301a174a-d20b-4633-8596-023a9932b9ad",
   "metadata": {},
   "outputs": [
    {
     "name": "stderr",
     "output_type": "stream",
     "text": [
      "100%|█████████████████████████████████████████████████████████████████████████████████████████████████████████████████████████████████████████████████| 234/234 [00:20<00:00, 11.17it/s]\n"
     ]
    }
   ],
   "source": [
    "import GWFish.modules as gwf_mods\n",
    "import pathlib\n",
    "#detectors = ['A_sharp_L', 'A_sharp_H', 'A_sharp_IN']\n",
    "detectors = ['CE1', 'CE2', 'ET']\n",
    "network = gwf_mods.detection.Network(detector_ids = detectors, detection_SNR = (0., 1.), config=pathlib.Path('detectors.yaml'))\n",
    "fm_results_snr_below_15['new_snrs'] = pd.DataFrame()\n",
    "for event in tqdm(range(len(gwfish_input_data))):\n",
    "    gwfish_snr = gwf_mods.utilities.get_snr(gwfish_input_data[event:event+1], network, \n",
    "                                            'IMRPhenomXPHM', \n",
    "                                            f_ref=fm_results_snr_below_15['all_inj_params_original']['f_ref'][0])\n",
    "    fm_results_snr_below_15['new_snrs'] = pd.concat([fm_results_snr_below_15['new_snrs'], gwfish_snr], ignore_index=True)"
   ]
  },
  {
   "cell_type": "code",
   "execution_count": 46,
   "id": "8cc1275c-c1c4-4738-a660-e54753d32693",
   "metadata": {
    "scrolled": true
   },
   "outputs": [],
   "source": [
    "fm_results_snr_below_15['new_snrs'].rename(columns={f'A_sharp_{val}':f'SNR_{key}' for key, val in gwfish_det_dict.items()}, inplace=True)\n",
    "fm_results_snr_below_15['new_snrs'].rename(columns={'CE1':'SNR_C1', 'CE2':'SNR_CE20', 'ET':'SNR_ET'}, inplace=True)\n",
    "fm_results_snr_below_15['new_snrs'].rename(columns={'network':'SNR_network'}, inplace=True)"
   ]
  },
  {
   "cell_type": "code",
   "execution_count": 47,
   "id": "b3f09746-efd9-4649-a5b2-ca5731330d85",
   "metadata": {},
   "outputs": [
    {
     "data": {
      "text/plain": [
       "Text(0, 0.5, 'New/Old SNR')"
      ]
     },
     "execution_count": 47,
     "metadata": {},
     "output_type": "execute_result"
    },
    {
     "data": {
      "image/png": "[encoded data removed]",
      "text/plain": [
       "<Figure size 640x480 with 1 Axes>"
      ]
     },
     "metadata": {},
     "output_type": "display_data"
    }
   ],
   "source": [
    "plt.plot(fm_results_snr_below_15['all_inj_params_original']['SNR_network'], \n",
    "         fm_results_snr_below_15['new_snrs']['SNR_network']/fm_results_snr_below_15['all_inj_params_original']['SNR_network'], \n",
    "         '.')\n",
    "plt.xlabel('Old SNR')\n",
    "plt.ylabel('New/Old SNR')"
   ]
  },
  {
   "cell_type": "code",
   "execution_count": 48,
   "id": "4c073743-bf02-4f70-b28a-9639676dabd6",
   "metadata": {},
   "outputs": [
    {
     "data": {
      "text/plain": [
       "Text(0, 0.5, 'New/Old SNR')"
      ]
     },
     "execution_count": 48,
     "metadata": {},
     "output_type": "execute_result"
    },
    {
     "data": {
      "image/png": "[encoded data removed]",
      "text/plain": [
       "<Figure size 640x480 with 1 Axes>"
      ]
     },
     "metadata": {},
     "output_type": "display_data"
    }
   ],
   "source": [
    "plt.plot(fm_results_snr_below_15['new_snrs']['SNR_network'], \n",
    "         fm_results_snr_below_15['new_snrs']['SNR_network']/fm_results_snr_below_15['all_inj_params_original']['SNR_network'], \n",
    "         '.')\n",
    "plt.xlabel('New SNR')\n",
    "plt.ylabel('New/Old SNR')"
   ]
  },
  {
   "cell_type": "markdown",
   "id": "5ecf93d8-2af8-4bed-8bfa-8d11d127a5f3",
   "metadata": {
    "jp-MarkdownHeadingCollapsed": true
   },
   "source": [
    "### Check the SNR code sanity"
   ]
  },
  {
   "cell_type": "code",
   "execution_count": 50,
   "id": "db700df3-c84a-455f-a89c-d21cd0db238e",
   "metadata": {},
   "outputs": [],
   "source": [
    "test_gwfish_input_data = {pycbc_to_pesummary_map_spins[key]:fm_results_snr_below_15['all_inj_params_original'][key] for key in pycbc_to_pesummary_map_spins.keys()}\n",
    "for key in fm_results['deriv_variables_in_order']:\n",
    "    test_gwfish_input_data[key] = fm_results_snr_below_15['inj_params'][key]\n",
    "test_gwfish_input_data = pd.DataFrame(test_gwfish_input_data)"
   ]
  },
  {
   "cell_type": "code",
   "execution_count": 51,
   "id": "8cc7e4d0-20ba-4b8e-b4f2-38715367ffe7",
   "metadata": {
    "scrolled": true
   },
   "outputs": [
    {
     "data": {
      "text/html": [
       "<div>\n",
       "<style scoped>\n",
       "    .dataframe tbody tr th:only-of-type {\n",
       "        vertical-align: middle;\n",
       "    }\n",
       "\n",
       "    .dataframe tbody tr th {\n",
       "        vertical-align: top;\n",
       "    }\n",
       "\n",
       "    .dataframe thead th {\n",
       "        text-align: right;\n",
       "    }\n",
       "</style>\n",
       "<table border=\"1\" class=\"dataframe\">\n",
       "  <thead>\n",
       "    <tr style=\"text-align: right;\">\n",
       "      <th></th>\n",
       "      <th>a_1</th>\n",
       "      <th>a_2</th>\n",
       "      <th>tilt_1</th>\n",
       "      <th>tilt_2</th>\n",
       "      <th>phi_12</th>\n",
       "      <th>phi_jl</th>\n",
       "      <th>chirp_mass</th>\n",
       "      <th>mass_ratio</th>\n",
       "      <th>luminosity_distance</th>\n",
       "      <th>theta_jn</th>\n",
       "      <th>phase</th>\n",
       "      <th>geocent_time</th>\n",
       "      <th>ra</th>\n",
       "      <th>dec</th>\n",
       "      <th>psi</th>\n",
       "    </tr>\n",
       "  </thead>\n",
       "  <tbody>\n",
       "    <tr>\n",
       "      <th>0</th>\n",
       "      <td>0.733744</td>\n",
       "      <td>0.162607</td>\n",
       "      <td>0.806790</td>\n",
       "      <td>1.989009</td>\n",
       "      <td>1.199278</td>\n",
       "      <td>1.028160</td>\n",
       "      <td>14.903814</td>\n",
       "      <td>0.651355</td>\n",
       "      <td>7102.476949</td>\n",
       "      <td>2.565574</td>\n",
       "      <td>5.043973</td>\n",
       "      <td>1.918683e+09</td>\n",
       "      <td>5.979558</td>\n",
       "      <td>-0.782326</td>\n",
       "      <td>1.868698</td>\n",
       "    </tr>\n",
       "    <tr>\n",
       "      <th>1</th>\n",
       "      <td>0.776113</td>\n",
       "      <td>0.224019</td>\n",
       "      <td>2.614474</td>\n",
       "      <td>1.641900</td>\n",
       "      <td>4.989302</td>\n",
       "      <td>3.021350</td>\n",
       "      <td>11.075118</td>\n",
       "      <td>0.759179</td>\n",
       "      <td>4714.683541</td>\n",
       "      <td>2.348911</td>\n",
       "      <td>1.723476</td>\n",
       "      <td>1.912483e+09</td>\n",
       "      <td>1.100764</td>\n",
       "      <td>-0.053062</td>\n",
       "      <td>2.967122</td>\n",
       "    </tr>\n",
       "    <tr>\n",
       "      <th>2</th>\n",
       "      <td>0.635659</td>\n",
       "      <td>0.693381</td>\n",
       "      <td>2.332391</td>\n",
       "      <td>2.005115</td>\n",
       "      <td>3.669152</td>\n",
       "      <td>3.298349</td>\n",
       "      <td>24.037935</td>\n",
       "      <td>0.954062</td>\n",
       "      <td>9546.153230</td>\n",
       "      <td>0.604727</td>\n",
       "      <td>0.769342</td>\n",
       "      <td>1.921417e+09</td>\n",
       "      <td>0.228548</td>\n",
       "      <td>-0.682888</td>\n",
       "      <td>3.084111</td>\n",
       "    </tr>\n",
       "    <tr>\n",
       "      <th>3</th>\n",
       "      <td>0.892743</td>\n",
       "      <td>0.753377</td>\n",
       "      <td>1.257484</td>\n",
       "      <td>2.286180</td>\n",
       "      <td>5.520224</td>\n",
       "      <td>1.935453</td>\n",
       "      <td>32.588701</td>\n",
       "      <td>0.757372</td>\n",
       "      <td>11071.732285</td>\n",
       "      <td>2.096383</td>\n",
       "      <td>4.580874</td>\n",
       "      <td>1.923731e+09</td>\n",
       "      <td>2.496851</td>\n",
       "      <td>-0.076270</td>\n",
       "      <td>1.317720</td>\n",
       "    </tr>\n",
       "    <tr>\n",
       "      <th>4</th>\n",
       "      <td>0.581470</td>\n",
       "      <td>0.989622</td>\n",
       "      <td>2.310148</td>\n",
       "      <td>2.410267</td>\n",
       "      <td>5.093597</td>\n",
       "      <td>4.612198</td>\n",
       "      <td>29.491745</td>\n",
       "      <td>0.623912</td>\n",
       "      <td>15088.750214</td>\n",
       "      <td>1.067849</td>\n",
       "      <td>2.404491</td>\n",
       "      <td>1.897278e+09</td>\n",
       "      <td>2.476892</td>\n",
       "      <td>0.504245</td>\n",
       "      <td>2.813551</td>\n",
       "    </tr>\n",
       "    <tr>\n",
       "      <th>...</th>\n",
       "      <td>...</td>\n",
       "      <td>...</td>\n",
       "      <td>...</td>\n",
       "      <td>...</td>\n",
       "      <td>...</td>\n",
       "      <td>...</td>\n",
       "      <td>...</td>\n",
       "      <td>...</td>\n",
       "      <td>...</td>\n",
       "      <td>...</td>\n",
       "      <td>...</td>\n",
       "      <td>...</td>\n",
       "      <td>...</td>\n",
       "      <td>...</td>\n",
       "      <td>...</td>\n",
       "    </tr>\n",
       "    <tr>\n",
       "      <th>3125</th>\n",
       "      <td>0.370342</td>\n",
       "      <td>0.084585</td>\n",
       "      <td>1.370707</td>\n",
       "      <td>1.595627</td>\n",
       "      <td>3.741948</td>\n",
       "      <td>1.287067</td>\n",
       "      <td>13.791372</td>\n",
       "      <td>0.908422</td>\n",
       "      <td>2028.723340</td>\n",
       "      <td>1.574023</td>\n",
       "      <td>4.461540</td>\n",
       "      <td>1.924090e+09</td>\n",
       "      <td>4.031284</td>\n",
       "      <td>-0.165029</td>\n",
       "      <td>2.507842</td>\n",
       "    </tr>\n",
       "    <tr>\n",
       "      <th>3126</th>\n",
       "      <td>0.511464</td>\n",
       "      <td>0.725745</td>\n",
       "      <td>1.441895</td>\n",
       "      <td>0.592352</td>\n",
       "      <td>1.849265</td>\n",
       "      <td>2.344761</td>\n",
       "      <td>6.604061</td>\n",
       "      <td>0.411785</td>\n",
       "      <td>2544.204711</td>\n",
       "      <td>2.002046</td>\n",
       "      <td>3.218352</td>\n",
       "      <td>1.920927e+09</td>\n",
       "      <td>5.392731</td>\n",
       "      <td>0.091157</td>\n",
       "      <td>2.714773</td>\n",
       "    </tr>\n",
       "    <tr>\n",
       "      <th>3127</th>\n",
       "      <td>0.412009</td>\n",
       "      <td>0.041444</td>\n",
       "      <td>0.695822</td>\n",
       "      <td>1.971876</td>\n",
       "      <td>5.091837</td>\n",
       "      <td>2.091738</td>\n",
       "      <td>46.042479</td>\n",
       "      <td>0.329769</td>\n",
       "      <td>14639.100011</td>\n",
       "      <td>0.383436</td>\n",
       "      <td>4.275595</td>\n",
       "      <td>1.914497e+09</td>\n",
       "      <td>3.507077</td>\n",
       "      <td>-1.225504</td>\n",
       "      <td>2.230044</td>\n",
       "    </tr>\n",
       "    <tr>\n",
       "      <th>3128</th>\n",
       "      <td>0.833196</td>\n",
       "      <td>0.494291</td>\n",
       "      <td>1.024653</td>\n",
       "      <td>1.495011</td>\n",
       "      <td>2.811786</td>\n",
       "      <td>0.423095</td>\n",
       "      <td>105.312169</td>\n",
       "      <td>0.984295</td>\n",
       "      <td>19258.192686</td>\n",
       "      <td>0.748454</td>\n",
       "      <td>1.483530</td>\n",
       "      <td>1.911353e+09</td>\n",
       "      <td>6.033205</td>\n",
       "      <td>-0.837067</td>\n",
       "      <td>2.824060</td>\n",
       "    </tr>\n",
       "    <tr>\n",
       "      <th>3129</th>\n",
       "      <td>0.836044</td>\n",
       "      <td>0.788598</td>\n",
       "      <td>1.420778</td>\n",
       "      <td>2.364019</td>\n",
       "      <td>4.901770</td>\n",
       "      <td>3.098544</td>\n",
       "      <td>15.034956</td>\n",
       "      <td>0.672563</td>\n",
       "      <td>5058.236820</td>\n",
       "      <td>2.304982</td>\n",
       "      <td>1.413865</td>\n",
       "      <td>1.911990e+09</td>\n",
       "      <td>1.265989</td>\n",
       "      <td>-0.081724</td>\n",
       "      <td>2.725028</td>\n",
       "    </tr>\n",
       "  </tbody>\n",
       "</table>\n",
       "<p>3130 rows × 15 columns</p>\n",
       "</div>"
      ],
      "text/plain": [
       "           a_1       a_2    tilt_1    tilt_2    phi_12    phi_jl  chirp_mass  \\\n",
       "0     0.733744  0.162607  0.806790  1.989009  1.199278  1.028160   14.903814   \n",
       "1     0.776113  0.224019  2.614474  1.641900  4.989302  3.021350   11.075118   \n",
       "2     0.635659  0.693381  2.332391  2.005115  3.669152  3.298349   24.037935   \n",
       "3     0.892743  0.753377  1.257484  2.286180  5.520224  1.935453   32.588701   \n",
       "4     0.581470  0.989622  2.310148  2.410267  5.093597  4.612198   29.491745   \n",
       "...        ...       ...       ...       ...       ...       ...         ...   \n",
       "3125  0.370342  0.084585  1.370707  1.595627  3.741948  1.287067   13.791372   \n",
       "3126  0.511464  0.725745  1.441895  0.592352  1.849265  2.344761    6.604061   \n",
       "3127  0.412009  0.041444  0.695822  1.971876  5.091837  2.091738   46.042479   \n",
       "3128  0.833196  0.494291  1.024653  1.495011  2.811786  0.423095  105.312169   \n",
       "3129  0.836044  0.788598  1.420778  2.364019  4.901770  3.098544   15.034956   \n",
       "\n",
       "      mass_ratio  luminosity_distance  theta_jn     phase  geocent_time  \\\n",
       "0       0.651355          7102.476949  2.565574  5.043973  1.918683e+09   \n",
       "1       0.759179          4714.683541  2.348911  1.723476  1.912483e+09   \n",
       "2       0.954062          9546.153230  0.604727  0.769342  1.921417e+09   \n",
       "3       0.757372         11071.732285  2.096383  4.580874  1.923731e+09   \n",
       "4       0.623912         15088.750214  1.067849  2.404491  1.897278e+09   \n",
       "...          ...                  ...       ...       ...           ...   \n",
       "3125    0.908422          2028.723340  1.574023  4.461540  1.924090e+09   \n",
       "3126    0.411785          2544.204711  2.002046  3.218352  1.920927e+09   \n",
       "3127    0.329769         14639.100011  0.383436  4.275595  1.914497e+09   \n",
       "3128    0.984295         19258.192686  0.748454  1.483530  1.911353e+09   \n",
       "3129    0.672563          5058.236820  2.304982  1.413865  1.911990e+09   \n",
       "\n",
       "            ra       dec       psi  \n",
       "0     5.979558 -0.782326  1.868698  \n",
       "1     1.100764 -0.053062  2.967122  \n",
       "2     0.228548 -0.682888  3.084111  \n",
       "3     2.496851 -0.076270  1.317720  \n",
       "4     2.476892  0.504245  2.813551  \n",
       "...        ...       ...       ...  \n",
       "3125  4.031284 -0.165029  2.507842  \n",
       "3126  5.392731  0.091157  2.714773  \n",
       "3127  3.507077 -1.225504  2.230044  \n",
       "3128  6.033205 -0.837067  2.824060  \n",
       "3129  1.265989 -0.081724  2.725028  \n",
       "\n",
       "[3130 rows x 15 columns]"
      ]
     },
     "execution_count": 51,
     "metadata": {},
     "output_type": "execute_result"
    }
   ],
   "source": [
    "test_gwfish_input_data"
   ]
  },
  {
   "cell_type": "code",
   "execution_count": 54,
   "id": "503bd6c5-698f-4c72-acc2-598fe63ce636",
   "metadata": {},
   "outputs": [
    {
     "name": "stderr",
     "output_type": "stream",
     "text": [
      "100%|████████████████████████████████████████████████████████████████████████████████████████████████████████████████████████████████████████████████████████████████████████████████████████████████████████████████████████████████████████████████████████████████████████████████| 3130/3130 [06:11<00:00,  8.42it/s]\n"
     ]
    }
   ],
   "source": [
    "import GWFish.modules as gwf_mods\n",
    "import pathlib\n",
    "detectors = ['A_sharp_L', 'A_sharp_H', 'A_sharp_IN']\n",
    "#detectors = ['CE1', 'CE2', 'ET']\n",
    "network = gwf_mods.detection.Network(detector_ids = detectors, detection_SNR = (0., 1.), config=pathlib.Path('detectors.yaml'))\n",
    "test_snrs = pd.DataFrame()\n",
    "for event in tqdm(range(len(test_gwfish_input_data))):\n",
    "    test_gwfish_snr = gwf_mods.utilities.get_snr(test_gwfish_input_data[event:event+1], network, \n",
    "                                                 'IMRPhenomXPHM', \n",
    "                                                 f_ref=fm_results_snr_below_15['all_inj_params_original']['f_ref'][0])\n",
    "    test_snrs = pd.concat([test_snrs, test_gwfish_snr], ignore_index=True)"
   ]
  },
  {
   "cell_type": "code",
   "execution_count": 55,
   "id": "4f2704bc-703f-4770-8e5e-22787f4f3311",
   "metadata": {
    "scrolled": true
   },
   "outputs": [],
   "source": [
    "test_snrs.rename(columns={f'A_sharp_{val}':f'SNR_{key}' for key, val in gwfish_det_dict.items()}, inplace=True)\n",
    "test_snrs.rename(columns={'CE1':'SNR_C1', 'CE2':'SNR_CE20', 'ET':'SNR_ET'}, inplace=True)\n",
    "test_snrs.rename(columns={'network':'SNR_network'}, inplace=True)"
   ]
  },
  {
   "cell_type": "code",
   "execution_count": 56,
   "id": "540c87b9-b48d-413b-8263-0ab8adbf4ba6",
   "metadata": {},
   "outputs": [
    {
     "data": {
      "text/plain": [
       "Text(0, 0.5, 'New/Old SNR')"
      ]
     },
     "execution_count": 56,
     "metadata": {},
     "output_type": "execute_result"
    },
    {
     "data": {
      "image/png": "[encoded data removed]",
      "text/plain": [
       "<Figure size 640x480 with 1 Axes>"
      ]
     },
     "metadata": {},
     "output_type": "display_data"
    }
   ],
   "source": [
    "plt.plot(fm_results_snr_below_15['all_inj_params_original']['SNR_network'], \n",
    "         test_snrs['SNR_network']/fm_results_snr_below_15['all_inj_params_original']['SNR_network'], \n",
    "         '.')\n",
    "plt.xlabel('Old SNR')\n",
    "plt.ylabel('New/Old SNR')"
   ]
  },
  {
   "cell_type": "code",
   "execution_count": 57,
   "id": "2654ecc4-cefe-49dd-970c-1f7ab98e4a2d",
   "metadata": {},
   "outputs": [
    {
     "data": {
      "text/plain": [
       "Text(0, 0.5, 'New/Old SNR')"
      ]
     },
     "execution_count": 57,
     "metadata": {},
     "output_type": "execute_result"
    },
    {
     "data": {
      "image/png": "[encoded data removed]",
      "text/plain": [
       "<Figure size 640x480 with 1 Axes>"
      ]
     },
     "metadata": {},
     "output_type": "display_data"
    }
   ],
   "source": [
    "plt.plot(test_snrs['SNR_network'], \n",
    "         test_snrs['SNR_network']/fm_results_snr_below_15['all_inj_params_original']['SNR_network'], \n",
    "         '.')\n",
    "plt.xlabel('New SNR')\n",
    "plt.ylabel('New/Old SNR')"
   ]
  },
  {
   "cell_type": "markdown",
   "id": "2bf1a5d7-9dfc-484f-8fba-5b68da1a0843",
   "metadata": {},
   "source": [
    "### Take points with SNR >= 12"
   ]
  },
  {
   "cell_type": "code",
   "execution_count": 49,
   "id": "50b88b26-d6fa-44f6-a209-b98af53fd553",
   "metadata": {},
   "outputs": [],
   "source": [
    "snr_mask_above_12_new = (fm_results_snr_below_15['new_snrs']['SNR_network'] >=12)\n",
    "fm_results_snr_12_15 = {}\n",
    "for key in fm_results_updated.keys():\n",
    "    val = fm_results_snr_below_15[key]\n",
    "    if type(val) == list:\n",
    "        fm_results_snr_12_15[key] = np.array(val)[snr_mask_above_12_new]\n",
    "    else:\n",
    "        fm_results_snr_12_15[key] = val[snr_mask_above_12_new]\n",
    "    if isinstance(val, pd.DataFrame):\n",
    "        fm_results_snr_12_15[key].reset_index(inplace=True, drop=True)"
   ]
  },
  {
   "cell_type": "code",
   "execution_count": 50,
   "id": "fa66baff-a1c1-4bf5-903d-552acaa7ec68",
   "metadata": {},
   "outputs": [
    {
     "data": {
      "text/plain": [
       "[('new_mean_vals', pandas.core.frame.DataFrame),\n",
       " ('all_inj_params_original', pandas.core.frame.DataFrame),\n",
       " ('cov', numpy.ndarray),\n",
       " ('errors', pandas.core.frame.DataFrame),\n",
       " ('inj_params', pandas.core.frame.DataFrame),\n",
       " ('netw_snrs', numpy.ndarray),\n",
       " ('sky_locs', numpy.ndarray),\n",
       " ('new_cov', numpy.ndarray)]"
      ]
     },
     "execution_count": 50,
     "metadata": {},
     "output_type": "execute_result"
    }
   ],
   "source": [
    "[(key, type(fm_results_snr_12_15[key])) for key in fm_results_snr_12_15.keys()]"
   ]
  },
  {
   "cell_type": "code",
   "execution_count": 51,
   "id": "859b444d-3dd1-4cea-8ae7-d45f49449bb8",
   "metadata": {},
   "outputs": [
    {
     "data": {
      "text/plain": [
       "[('new_mean_vals', pandas.core.frame.DataFrame),\n",
       " ('all_inj_params_original', pandas.core.frame.DataFrame),\n",
       " ('cov', numpy.ndarray),\n",
       " ('errors', pandas.core.frame.DataFrame),\n",
       " ('inj_params', pandas.core.frame.DataFrame),\n",
       " ('netw_snrs', numpy.ndarray),\n",
       " ('sky_locs', numpy.ndarray),\n",
       " ('new_cov', numpy.ndarray)]"
      ]
     },
     "execution_count": 51,
     "metadata": {},
     "output_type": "execute_result"
    }
   ],
   "source": [
    "[(key, type(fm_results_snr_above_15[key])) for key in fm_results_snr_above_15.keys()]"
   ]
  },
  {
   "cell_type": "markdown",
   "id": "55aac873-418a-4dba-b07a-549cda08f30c",
   "metadata": {},
   "source": [
    "### Combine the samples SNR = (12-15) and SNR >=15"
   ]
  },
  {
   "cell_type": "code",
   "execution_count": 52,
   "id": "691e645f-f908-43ba-b05c-52fad9333d89",
   "metadata": {},
   "outputs": [],
   "source": [
    "fm_results_snr_above_12_combined_new = {}\n",
    "for key, val in fm_results_snr_12_15.items():\n",
    "    if isinstance(val, np.ndarray):\n",
    "        fm_results_snr_above_12_combined_new[key] = np.concatenate((fm_results_snr_12_15[key], fm_results_snr_above_15[key]), axis=0)\n",
    "    elif isinstance(val, pd.DataFrame):\n",
    "        fm_results_snr_above_12_combined_new[key] = pd.concat([fm_results_snr_12_15[key], fm_results_snr_above_15[key]], axis=0, \n",
    "                                                              ignore_index=True)"
   ]
  },
  {
   "cell_type": "code",
   "execution_count": 53,
   "id": "627a796a-be48-406f-a548-2147a6161d57",
   "metadata": {},
   "outputs": [
    {
     "data": {
      "text/html": [
       "<div>\n",
       "<style scoped>\n",
       "    .dataframe tbody tr th:only-of-type {\n",
       "        vertical-align: middle;\n",
       "    }\n",
       "\n",
       "    .dataframe tbody tr th {\n",
       "        vertical-align: top;\n",
       "    }\n",
       "\n",
       "    .dataframe thead th {\n",
       "        text-align: right;\n",
       "    }\n",
       "</style>\n",
       "<table border=\"1\" class=\"dataframe\">\n",
       "  <thead>\n",
       "    <tr style=\"text-align: right;\">\n",
       "      <th></th>\n",
       "      <th>index</th>\n",
       "      <th>SNR_C1</th>\n",
       "      <th>SNR_CE20</th>\n",
       "      <th>SNR_E1</th>\n",
       "      <th>SNR_E2</th>\n",
       "      <th>SNR_E3</th>\n",
       "      <th>SNR_mf_C1</th>\n",
       "      <th>SNR_mf_CE20</th>\n",
       "      <th>SNR_mf_E1</th>\n",
       "      <th>SNR_mf_E2</th>\n",
       "      <th>...</th>\n",
       "      <th>spin2x</th>\n",
       "      <th>spin2y</th>\n",
       "      <th>spin2z</th>\n",
       "      <th>srcmass1</th>\n",
       "      <th>srcmass2</th>\n",
       "      <th>srcmchirp</th>\n",
       "      <th>srcmtotal</th>\n",
       "      <th>theta_jn</th>\n",
       "      <th>time_interval</th>\n",
       "      <th>trigger_time</th>\n",
       "    </tr>\n",
       "  </thead>\n",
       "  <tbody>\n",
       "    <tr>\n",
       "      <th>0</th>\n",
       "      <td>1</td>\n",
       "      <td>10.970486</td>\n",
       "      <td>8.076727</td>\n",
       "      <td>2.749087</td>\n",
       "      <td>2.051240</td>\n",
       "      <td>4.600263</td>\n",
       "      <td>10.661381</td>\n",
       "      <td>8.470382</td>\n",
       "      <td>5.113217</td>\n",
       "      <td>5.813628</td>\n",
       "      <td>...</td>\n",
       "      <td>-0.144932</td>\n",
       "      <td>0.140716</td>\n",
       "      <td>0.136367</td>\n",
       "      <td>6.743838</td>\n",
       "      <td>2.899727</td>\n",
       "      <td>3.783651</td>\n",
       "      <td>9.643565</td>\n",
       "      <td>1.479538</td>\n",
       "      <td>457.754071</td>\n",
       "      <td>1.904448e+09</td>\n",
       "    </tr>\n",
       "    <tr>\n",
       "      <th>1</th>\n",
       "      <td>27</td>\n",
       "      <td>10.582940</td>\n",
       "      <td>1.834151</td>\n",
       "      <td>5.772221</td>\n",
       "      <td>4.384038</td>\n",
       "      <td>3.336039</td>\n",
       "      <td>10.531668</td>\n",
       "      <td>4.836503</td>\n",
       "      <td>7.094310</td>\n",
       "      <td>4.443514</td>\n",
       "      <td>...</td>\n",
       "      <td>-0.521006</td>\n",
       "      <td>-0.056433</td>\n",
       "      <td>0.643350</td>\n",
       "      <td>7.837876</td>\n",
       "      <td>4.648188</td>\n",
       "      <td>5.219202</td>\n",
       "      <td>12.486064</td>\n",
       "      <td>2.373700</td>\n",
       "      <td>888.412311</td>\n",
       "      <td>1.908174e+09</td>\n",
       "    </tr>\n",
       "    <tr>\n",
       "      <th>2</th>\n",
       "      <td>46</td>\n",
       "      <td>9.462340</td>\n",
       "      <td>5.838866</td>\n",
       "      <td>4.850402</td>\n",
       "      <td>3.955984</td>\n",
       "      <td>1.714542</td>\n",
       "      <td>9.308314</td>\n",
       "      <td>5.495751</td>\n",
       "      <td>5.111271</td>\n",
       "      <td>4.809145</td>\n",
       "      <td>...</td>\n",
       "      <td>-0.056937</td>\n",
       "      <td>-0.088839</td>\n",
       "      <td>0.144575</td>\n",
       "      <td>11.819984</td>\n",
       "      <td>7.155390</td>\n",
       "      <td>7.956317</td>\n",
       "      <td>18.975374</td>\n",
       "      <td>1.408936</td>\n",
       "      <td>242.722223</td>\n",
       "      <td>1.911600e+09</td>\n",
       "    </tr>\n",
       "    <tr>\n",
       "      <th>3</th>\n",
       "      <td>72</td>\n",
       "      <td>4.855596</td>\n",
       "      <td>8.098795</td>\n",
       "      <td>5.618525</td>\n",
       "      <td>0.572472</td>\n",
       "      <td>5.079923</td>\n",
       "      <td>5.294624</td>\n",
       "      <td>7.872675</td>\n",
       "      <td>5.164348</td>\n",
       "      <td>4.865250</td>\n",
       "      <td>...</td>\n",
       "      <td>0.325430</td>\n",
       "      <td>0.475841</td>\n",
       "      <td>0.387841</td>\n",
       "      <td>11.789159</td>\n",
       "      <td>4.572991</td>\n",
       "      <td>6.255209</td>\n",
       "      <td>16.362150</td>\n",
       "      <td>1.462501</td>\n",
       "      <td>901.964498</td>\n",
       "      <td>1.916004e+09</td>\n",
       "    </tr>\n",
       "    <tr>\n",
       "      <th>4</th>\n",
       "      <td>151</td>\n",
       "      <td>6.161707</td>\n",
       "      <td>5.598715</td>\n",
       "      <td>4.802240</td>\n",
       "      <td>7.013238</td>\n",
       "      <td>7.541459</td>\n",
       "      <td>6.297712</td>\n",
       "      <td>5.890739</td>\n",
       "      <td>4.469130</td>\n",
       "      <td>8.476458</td>\n",
       "      <td>...</td>\n",
       "      <td>-0.211144</td>\n",
       "      <td>0.047216</td>\n",
       "      <td>0.542479</td>\n",
       "      <td>8.699301</td>\n",
       "      <td>4.861834</td>\n",
       "      <td>5.614505</td>\n",
       "      <td>13.561135</td>\n",
       "      <td>1.841236</td>\n",
       "      <td>620.178494</td>\n",
       "      <td>1.904381e+09</td>\n",
       "    </tr>\n",
       "    <tr>\n",
       "      <th>...</th>\n",
       "      <td>...</td>\n",
       "      <td>...</td>\n",
       "      <td>...</td>\n",
       "      <td>...</td>\n",
       "      <td>...</td>\n",
       "      <td>...</td>\n",
       "      <td>...</td>\n",
       "      <td>...</td>\n",
       "      <td>...</td>\n",
       "      <td>...</td>\n",
       "      <td>...</td>\n",
       "      <td>...</td>\n",
       "      <td>...</td>\n",
       "      <td>...</td>\n",
       "      <td>...</td>\n",
       "      <td>...</td>\n",
       "      <td>...</td>\n",
       "      <td>...</td>\n",
       "      <td>...</td>\n",
       "      <td>...</td>\n",
       "      <td>...</td>\n",
       "    </tr>\n",
       "    <tr>\n",
       "      <th>5101</th>\n",
       "      <td>5193</td>\n",
       "      <td>55.674858</td>\n",
       "      <td>26.280459</td>\n",
       "      <td>7.954446</td>\n",
       "      <td>3.089223</td>\n",
       "      <td>7.094055</td>\n",
       "      <td>54.685116</td>\n",
       "      <td>25.369479</td>\n",
       "      <td>5.731086</td>\n",
       "      <td>4.662309</td>\n",
       "      <td>...</td>\n",
       "      <td>-0.229211</td>\n",
       "      <td>-0.050762</td>\n",
       "      <td>0.505719</td>\n",
       "      <td>6.901298</td>\n",
       "      <td>6.475536</td>\n",
       "      <td>5.819065</td>\n",
       "      <td>13.376833</td>\n",
       "      <td>1.949451</td>\n",
       "      <td>3393.289590</td>\n",
       "      <td>1.899202e+09</td>\n",
       "    </tr>\n",
       "    <tr>\n",
       "      <th>5102</th>\n",
       "      <td>5194</td>\n",
       "      <td>99.573104</td>\n",
       "      <td>37.908853</td>\n",
       "      <td>43.272541</td>\n",
       "      <td>47.584426</td>\n",
       "      <td>43.472679</td>\n",
       "      <td>101.160073</td>\n",
       "      <td>37.719597</td>\n",
       "      <td>42.695378</td>\n",
       "      <td>48.516435</td>\n",
       "      <td>...</td>\n",
       "      <td>0.498884</td>\n",
       "      <td>-0.545140</td>\n",
       "      <td>-0.076118</td>\n",
       "      <td>11.403829</td>\n",
       "      <td>10.088107</td>\n",
       "      <td>9.333856</td>\n",
       "      <td>21.491936</td>\n",
       "      <td>0.865634</td>\n",
       "      <td>162.341780</td>\n",
       "      <td>1.901109e+09</td>\n",
       "    </tr>\n",
       "    <tr>\n",
       "      <th>5103</th>\n",
       "      <td>5196</td>\n",
       "      <td>47.762260</td>\n",
       "      <td>34.918702</td>\n",
       "      <td>6.433210</td>\n",
       "      <td>13.033596</td>\n",
       "      <td>7.969234</td>\n",
       "      <td>47.105777</td>\n",
       "      <td>35.351465</td>\n",
       "      <td>5.732786</td>\n",
       "      <td>14.345213</td>\n",
       "      <td>...</td>\n",
       "      <td>0.232972</td>\n",
       "      <td>0.420717</td>\n",
       "      <td>-0.055251</td>\n",
       "      <td>10.397959</td>\n",
       "      <td>10.216290</td>\n",
       "      <td>8.972455</td>\n",
       "      <td>20.614249</td>\n",
       "      <td>0.396028</td>\n",
       "      <td>817.473235</td>\n",
       "      <td>1.917494e+09</td>\n",
       "    </tr>\n",
       "    <tr>\n",
       "      <th>5104</th>\n",
       "      <td>5197</td>\n",
       "      <td>33.286223</td>\n",
       "      <td>25.607681</td>\n",
       "      <td>3.860503</td>\n",
       "      <td>8.679942</td>\n",
       "      <td>6.277605</td>\n",
       "      <td>34.888066</td>\n",
       "      <td>27.352429</td>\n",
       "      <td>5.000823</td>\n",
       "      <td>8.613181</td>\n",
       "      <td>...</td>\n",
       "      <td>0.067425</td>\n",
       "      <td>0.523846</td>\n",
       "      <td>-0.034145</td>\n",
       "      <td>8.634347</td>\n",
       "      <td>5.240179</td>\n",
       "      <td>5.819716</td>\n",
       "      <td>13.874526</td>\n",
       "      <td>1.118596</td>\n",
       "      <td>4308.905749</td>\n",
       "      <td>1.900084e+09</td>\n",
       "    </tr>\n",
       "    <tr>\n",
       "      <th>5105</th>\n",
       "      <td>5198</td>\n",
       "      <td>63.594273</td>\n",
       "      <td>28.454915</td>\n",
       "      <td>16.074956</td>\n",
       "      <td>19.040148</td>\n",
       "      <td>15.912211</td>\n",
       "      <td>64.017023</td>\n",
       "      <td>27.952121</td>\n",
       "      <td>15.098909</td>\n",
       "      <td>19.605891</td>\n",
       "      <td>...</td>\n",
       "      <td>-0.008372</td>\n",
       "      <td>-0.143196</td>\n",
       "      <td>0.689021</td>\n",
       "      <td>10.273443</td>\n",
       "      <td>10.033493</td>\n",
       "      <td>8.838367</td>\n",
       "      <td>20.306936</td>\n",
       "      <td>2.377791</td>\n",
       "      <td>243.083901</td>\n",
       "      <td>1.919193e+09</td>\n",
       "    </tr>\n",
       "  </tbody>\n",
       "</table>\n",
       "<p>5106 rows × 66 columns</p>\n",
       "</div>"
      ],
      "text/plain": [
       "      index     SNR_C1   SNR_CE20     SNR_E1     SNR_E2     SNR_E3  \\\n",
       "0         1  10.970486   8.076727   2.749087   2.051240   4.600263   \n",
       "1        27  10.582940   1.834151   5.772221   4.384038   3.336039   \n",
       "2        46   9.462340   5.838866   4.850402   3.955984   1.714542   \n",
       "3        72   4.855596   8.098795   5.618525   0.572472   5.079923   \n",
       "4       151   6.161707   5.598715   4.802240   7.013238   7.541459   \n",
       "...     ...        ...        ...        ...        ...        ...   \n",
       "5101   5193  55.674858  26.280459   7.954446   3.089223   7.094055   \n",
       "5102   5194  99.573104  37.908853  43.272541  47.584426  43.472679   \n",
       "5103   5196  47.762260  34.918702   6.433210  13.033596   7.969234   \n",
       "5104   5197  33.286223  25.607681   3.860503   8.679942   6.277605   \n",
       "5105   5198  63.594273  28.454915  16.074956  19.040148  15.912211   \n",
       "\n",
       "       SNR_mf_C1  SNR_mf_CE20  SNR_mf_E1  SNR_mf_E2  ...    spin2x    spin2y  \\\n",
       "0      10.661381     8.470382   5.113217   5.813628  ... -0.144932  0.140716   \n",
       "1      10.531668     4.836503   7.094310   4.443514  ... -0.521006 -0.056433   \n",
       "2       9.308314     5.495751   5.111271   4.809145  ... -0.056937 -0.088839   \n",
       "3       5.294624     7.872675   5.164348   4.865250  ...  0.325430  0.475841   \n",
       "4       6.297712     5.890739   4.469130   8.476458  ... -0.211144  0.047216   \n",
       "...          ...          ...        ...        ...  ...       ...       ...   \n",
       "5101   54.685116    25.369479   5.731086   4.662309  ... -0.229211 -0.050762   \n",
       "5102  101.160073    37.719597  42.695378  48.516435  ...  0.498884 -0.545140   \n",
       "5103   47.105777    35.351465   5.732786  14.345213  ...  0.232972  0.420717   \n",
       "5104   34.888066    27.352429   5.000823   8.613181  ...  0.067425  0.523846   \n",
       "5105   64.017023    27.952121  15.098909  19.605891  ... -0.008372 -0.143196   \n",
       "\n",
       "        spin2z   srcmass1   srcmass2  srcmchirp  srcmtotal  theta_jn  \\\n",
       "0     0.136367   6.743838   2.899727   3.783651   9.643565  1.479538   \n",
       "1     0.643350   7.837876   4.648188   5.219202  12.486064  2.373700   \n",
       "2     0.144575  11.819984   7.155390   7.956317  18.975374  1.408936   \n",
       "3     0.387841  11.789159   4.572991   6.255209  16.362150  1.462501   \n",
       "4     0.542479   8.699301   4.861834   5.614505  13.561135  1.841236   \n",
       "...        ...        ...        ...        ...        ...       ...   \n",
       "5101  0.505719   6.901298   6.475536   5.819065  13.376833  1.949451   \n",
       "5102 -0.076118  11.403829  10.088107   9.333856  21.491936  0.865634   \n",
       "5103 -0.055251  10.397959  10.216290   8.972455  20.614249  0.396028   \n",
       "5104 -0.034145   8.634347   5.240179   5.819716  13.874526  1.118596   \n",
       "5105  0.689021  10.273443  10.033493   8.838367  20.306936  2.377791   \n",
       "\n",
       "      time_interval  trigger_time  \n",
       "0        457.754071  1.904448e+09  \n",
       "1        888.412311  1.908174e+09  \n",
       "2        242.722223  1.911600e+09  \n",
       "3        901.964498  1.916004e+09  \n",
       "4        620.178494  1.904381e+09  \n",
       "...             ...           ...  \n",
       "5101    3393.289590  1.899202e+09  \n",
       "5102     162.341780  1.901109e+09  \n",
       "5103     817.473235  1.917494e+09  \n",
       "5104    4308.905749  1.900084e+09  \n",
       "5105     243.083901  1.919193e+09  \n",
       "\n",
       "[5106 rows x 66 columns]"
      ]
     },
     "execution_count": 53,
     "metadata": {},
     "output_type": "execute_result"
    }
   ],
   "source": [
    "fm_results_snr_above_12_combined_new['all_inj_params_original']"
   ]
  },
  {
   "cell_type": "code",
   "execution_count": 54,
   "id": "879539b8-84f7-4192-8a1c-ff36f9ca0c63",
   "metadata": {},
   "outputs": [
    {
     "data": {
      "text/plain": [
       "[5106, 5106, 5106, 5106, 5106, 5106, 5106, 5106]"
      ]
     },
     "execution_count": 54,
     "metadata": {},
     "output_type": "execute_result"
    }
   ],
   "source": [
    "[len(fm_results_snr_above_12_combined_new[key]) for key in fm_results_snr_above_12_combined_new.keys()]"
   ]
  },
  {
   "cell_type": "code",
   "execution_count": 55,
   "id": "475fac84-c69b-4328-aca7-ca3deac2a742",
   "metadata": {},
   "outputs": [
    {
     "data": {
      "text/plain": [
       "[4965, 4965, 4965, 4965, 4965, 4965, 4965, 4965]"
      ]
     },
     "execution_count": 55,
     "metadata": {},
     "output_type": "execute_result"
    }
   ],
   "source": [
    "[len(fm_results_snr_above_15[key]) for key in fm_results_snr_above_15.keys()]"
   ]
  },
  {
   "cell_type": "code",
   "execution_count": 56,
   "id": "de4b9d21-15fa-4e15-8528-60e8649df610",
   "metadata": {},
   "outputs": [
    {
     "data": {
      "text/plain": [
       "[141, 141, 141, 141, 141, 141, 141, 141]"
      ]
     },
     "execution_count": 56,
     "metadata": {},
     "output_type": "execute_result"
    }
   ],
   "source": [
    "[len(fm_results_snr_12_15[key]) for key in fm_results_snr_12_15.keys()]"
   ]
  },
  {
   "cell_type": "markdown",
   "id": "28dccf3e-810a-476f-8952-bb24100eae7a",
   "metadata": {
    "jp-MarkdownHeadingCollapsed": true
   },
   "source": [
    "### Create posteriors without parallelization"
   ]
  },
  {
   "cell_type": "code",
   "execution_count": 142,
   "id": "05e0f785-fb99-4ea3-a748-859392f27d13",
   "metadata": {},
   "outputs": [
    {
     "name": "stderr",
     "output_type": "stream",
     "text": [
      "  7%|█████████▉                                                                                                                                      | 407/5882 [03:06<41:50,  2.18it/s]\n"
     ]
    },
    {
     "ename": "KeyboardInterrupt",
     "evalue": "",
     "output_type": "error",
     "traceback": [
      "\u001b[31m---------------------------------------------------------------------------\u001b[39m",
      "\u001b[31mKeyboardInterrupt\u001b[39m                         Traceback (most recent call last)",
      "\u001b[36mCell\u001b[39m\u001b[36m \u001b[39m\u001b[32mIn[142]\u001b[39m\u001b[32m, line 15\u001b[39m\n\u001b[32m     13\u001b[39m \u001b[38;5;28;01mfor\u001b[39;00m param \u001b[38;5;129;01min\u001b[39;00m [\u001b[33m'\u001b[39m\u001b[33mlog_chirp_mass\u001b[39m\u001b[33m'\u001b[39m, \u001b[33m'\u001b[39m\u001b[33mmass_ratio\u001b[39m\u001b[33m'\u001b[39m, \u001b[33m'\u001b[39m\u001b[33mlog_luminosity_distance\u001b[39m\u001b[33m'\u001b[39m]:\n\u001b[32m     14\u001b[39m     posterior_dists_i[param] = MultivariateGaussian(mvg, param)\n\u001b[32m---> \u001b[39m\u001b[32m15\u001b[39m     posterior_samples_i[param] = \u001b[43mposterior_dists_i\u001b[49m\u001b[43m[\u001b[49m\u001b[43mparam\u001b[49m\u001b[43m]\u001b[49m\u001b[43m.\u001b[49m\u001b[43msample\u001b[49m\u001b[43m(\u001b[49m\u001b[43mn_samples\u001b[49m\u001b[43m)\u001b[49m\n\u001b[32m     16\u001b[39m posterior_samples_all_events[\u001b[33mf\u001b[39m\u001b[33m'\u001b[39m\u001b[33mevent_\u001b[39m\u001b[38;5;132;01m{\u001b[39;00mevent\u001b[38;5;132;01m}\u001b[39;00m\u001b[33m'\u001b[39m] = posterior_samples_i\n",
      "\u001b[36mFile \u001b[39m\u001b[32m~/miniconda3/envs/gwfish/lib/python3.11/site-packages/bilby/core/prior/joint.py:832\u001b[39m, in \u001b[36mJointPrior.sample\u001b[39m\u001b[34m(self, size, **kwargs)\u001b[39m\n\u001b[32m    824\u001b[39m     logger.warning(\n\u001b[32m    825\u001b[39m         \u001b[33m\"\u001b[39m\u001b[33mYou have already drawn a sample from parameter \u001b[39m\u001b[33m\"\u001b[39m\n\u001b[32m    826\u001b[39m         \u001b[33m\"\u001b[39m\u001b[33m'\u001b[39m\u001b[38;5;132;01m{}\u001b[39;00m\u001b[33m'\u001b[39m\u001b[33m. The same sample will be \u001b[39m\u001b[33m\"\u001b[39m\n\u001b[32m    827\u001b[39m         \u001b[33m\"\u001b[39m\u001b[33mreturned\u001b[39m\u001b[33m\"\u001b[39m.format(\u001b[38;5;28mself\u001b[39m.name)\n\u001b[32m    828\u001b[39m     )\n\u001b[32m    830\u001b[39m \u001b[38;5;28;01mif\u001b[39;00m \u001b[38;5;28mlen\u001b[39m(\u001b[38;5;28mself\u001b[39m.dist.current_sample) == \u001b[32m0\u001b[39m:\n\u001b[32m    831\u001b[39m     \u001b[38;5;66;03m# generate a sample\u001b[39;00m\n\u001b[32m--> \u001b[39m\u001b[32m832\u001b[39m     \u001b[38;5;28;43mself\u001b[39;49m\u001b[43m.\u001b[49m\u001b[43mdist\u001b[49m\u001b[43m.\u001b[49m\u001b[43msample\u001b[49m\u001b[43m(\u001b[49m\u001b[43msize\u001b[49m\u001b[43m=\u001b[49m\u001b[43msize\u001b[49m\u001b[43m,\u001b[49m\u001b[43m \u001b[49m\u001b[43m*\u001b[49m\u001b[43m*\u001b[49m\u001b[43mkwargs\u001b[49m\u001b[43m)\u001b[49m\n\u001b[32m    834\u001b[39m sample = \u001b[38;5;28mself\u001b[39m.dist.current_sample[\u001b[38;5;28mself\u001b[39m.name]\n\u001b[32m    836\u001b[39m \u001b[38;5;28;01mif\u001b[39;00m \u001b[38;5;28mself\u001b[39m.name \u001b[38;5;129;01mnot\u001b[39;00m \u001b[38;5;129;01min\u001b[39;00m \u001b[38;5;28mself\u001b[39m.dist.sampled_parameters:\n",
      "\u001b[36mFile \u001b[39m\u001b[32m~/miniconda3/envs/gwfish/lib/python3.11/site-packages/bilby/core/prior/joint.py:276\u001b[39m, in \u001b[36mBaseJointPriorDist.sample\u001b[39m\u001b[34m(self, size, **kwargs)\u001b[39m\n\u001b[32m    274\u001b[39m \u001b[38;5;28;01mif\u001b[39;00m size \u001b[38;5;129;01mis\u001b[39;00m \u001b[38;5;28;01mNone\u001b[39;00m:\n\u001b[32m    275\u001b[39m     size = \u001b[32m1\u001b[39m\n\u001b[32m--> \u001b[39m\u001b[32m276\u001b[39m samps = \u001b[38;5;28;43mself\u001b[39;49m\u001b[43m.\u001b[49m\u001b[43m_sample\u001b[49m\u001b[43m(\u001b[49m\u001b[43msize\u001b[49m\u001b[43m=\u001b[49m\u001b[43msize\u001b[49m\u001b[43m,\u001b[49m\u001b[43m \u001b[49m\u001b[43m*\u001b[49m\u001b[43m*\u001b[49m\u001b[43mkwargs\u001b[49m\u001b[43m)\u001b[49m\n\u001b[32m    277\u001b[39m \u001b[38;5;28;01mfor\u001b[39;00m i, name \u001b[38;5;129;01min\u001b[39;00m \u001b[38;5;28menumerate\u001b[39m(\u001b[38;5;28mself\u001b[39m.names):\n\u001b[32m    278\u001b[39m     \u001b[38;5;28;01mif\u001b[39;00m size == \u001b[32m1\u001b[39m:\n",
      "\u001b[36mFile \u001b[39m\u001b[32m~/miniconda3/envs/gwfish/lib/python3.11/site-packages/bilby/core/prior/joint.py:663\u001b[39m, in \u001b[36mMultivariateGaussianDist._sample\u001b[39m\u001b[34m(self, size, **kwargs)\u001b[39m\n\u001b[32m    661\u001b[39m     samp = np.atleast_1d(\u001b[38;5;28mself\u001b[39m.rescale(vals, mode=mode[i]))\n\u001b[32m    662\u001b[39m \u001b[38;5;28;01melse\u001b[39;00m:\n\u001b[32m--> \u001b[39m\u001b[32m663\u001b[39m     samp = np.atleast_1d(\u001b[38;5;28;43mself\u001b[39;49m\u001b[43m.\u001b[49m\u001b[43mrescale\u001b[49m\u001b[43m(\u001b[49m\u001b[43mvals\u001b[49m\u001b[43m,\u001b[49m\u001b[43m \u001b[49m\u001b[43mmode\u001b[49m\u001b[43m=\u001b[49m\u001b[43mmode\u001b[49m\u001b[43m)\u001b[49m)\n\u001b[32m    664\u001b[39m samps[i, :] = samp\n\u001b[32m    666\u001b[39m \u001b[38;5;66;03m# check sample is in bounds (otherwise perform another draw)\u001b[39;00m\n",
      "\u001b[36mFile \u001b[39m\u001b[32m~/miniconda3/envs/gwfish/lib/python3.11/site-packages/bilby/core/prior/joint.py:329\u001b[39m, in \u001b[36mBaseJointPriorDist.rescale\u001b[39m\u001b[34m(self, value, **kwargs)\u001b[39m\n\u001b[32m    326\u001b[39m \u001b[38;5;28;01melif\u001b[39;00m samp.shape[\u001b[32m1\u001b[39m] != \u001b[38;5;28mself\u001b[39m.num_vars:\n\u001b[32m    327\u001b[39m     \u001b[38;5;28;01mraise\u001b[39;00m \u001b[38;5;167;01mValueError\u001b[39;00m(\u001b[33m\"\u001b[39m\u001b[33mArray is the wrong shape\u001b[39m\u001b[33m\"\u001b[39m)\n\u001b[32m--> \u001b[39m\u001b[32m329\u001b[39m samp = \u001b[38;5;28;43mself\u001b[39;49m\u001b[43m.\u001b[49m\u001b[43m_rescale\u001b[49m\u001b[43m(\u001b[49m\u001b[43msamp\u001b[49m\u001b[43m,\u001b[49m\u001b[43m \u001b[49m\u001b[43m*\u001b[49m\u001b[43m*\u001b[49m\u001b[43mkwargs\u001b[49m\u001b[43m)\u001b[49m\n\u001b[32m    330\u001b[39m \u001b[38;5;28;01mreturn\u001b[39;00m np.squeeze(samp)\n",
      "\u001b[31mKeyboardInterrupt\u001b[39m: "
     ]
    }
   ],
   "source": [
    "n_samples = 10000\n",
    "n_events = len(fm_results_snr_above_12_combined_new['cov'])\n",
    "params = fm_results['new_deriv_variables_in_order']\n",
    "posterior_samples_all_events = {}\n",
    "\n",
    "for event in tqdm(range(n_events)):\n",
    "    mu = [fm_results_snr_above_12_combined_new['new_mean_vals'][param][event] for param in params]\n",
    "    cov = fm_results_snr_above_12_combined_new['new_cov'][event]  # the covariance matrix\n",
    "    mvg = MultivariateGaussianDist(params, mus=mu, covs=cov, \n",
    "                                   bounds=[param_bounds[param] for param in params])\n",
    "    posterior_dists_i = dict()\n",
    "    posterior_samples_i = {}\n",
    "    for param in ['log_chirp_mass', 'mass_ratio', 'log_luminosity_distance']:\n",
    "        posterior_dists_i[param] = MultivariateGaussian(mvg, param)\n",
    "        posterior_samples_i[param] = posterior_dists_i[param].sample(n_samples)\n",
    "    posterior_samples_all_events[f'event_{event}'] = posterior_samples_i"
   ]
  },
  {
   "cell_type": "markdown",
   "id": "08054a36-0f0f-4020-ae5d-a0eb73b7f74a",
   "metadata": {},
   "source": [
    "### Create posteriors with parallelization"
   ]
  },
  {
   "cell_type": "code",
   "execution_count": 57,
   "id": "05db6514-d1d9-4b2e-9f85-79ccf01a5b32",
   "metadata": {},
   "outputs": [],
   "source": [
    "from concurrent.futures import ProcessPoolExecutor, as_completed\n",
    "from tqdm import tqdm\n",
    "import numpy as np\n",
    "from numpy.linalg import LinAlgError\n",
    "\n",
    "\n",
    "def process_event(event, data, params, param_bounds, n_samples):\n",
    "    \"\"\"\n",
    "    Process a single event: build Gaussian dist and sample.\n",
    "    Returns (event_key, samples, failed_info).\n",
    "    \"\"\"\n",
    "    mu = [data['new_mean_vals'][param][event] for param in params]\n",
    "    cov = data['new_cov'][event]  # covariance matrix\n",
    "\n",
    "    # Symmetrize covariance\n",
    "    cov = (cov + cov.T) / 2\n",
    "\n",
    "    mvg = None\n",
    "    for attempt in range(5):\n",
    "        try:\n",
    "            mvg = MultivariateGaussianDist(\n",
    "                params, mus=mu, covs=cov,\n",
    "                bounds=[param_bounds[param] for param in params]\n",
    "            )\n",
    "            break  # success\n",
    "        except LinAlgError:\n",
    "            # Add increasing jitter\n",
    "            eps = 1e-12 * (10 ** attempt)\n",
    "            cov += eps * np.eye(cov.shape[0])\n",
    "        except ValueError:\n",
    "            # Add increasing jitter\n",
    "            eps = 1e-12 * (10 ** attempt)\n",
    "            cov += eps * np.eye(cov.shape[0])\n",
    "\n",
    "    if mvg is None:  # all attempts failed\n",
    "        failed_info = {\n",
    "            \"event\": event,\n",
    "            \"params\": {p: data['new_mean_vals'][p][event] for p in params},\n",
    "            \"error\": \"LinAlgError after jitter attempts\",\n",
    "        }\n",
    "        return f'event_{event}', None, failed_info\n",
    "\n",
    "    # If we succeed, sample posteriors\n",
    "    posterior_samples_i = {}\n",
    "    for param in ['log_chirp_mass', 'mass_ratio', 'log_luminosity_distance']:\n",
    "        posterior_d = MultivariateGaussian(mvg, param)\n",
    "        posterior_samples_i[param] = posterior_d.sample(n_samples)\n",
    "\n",
    "    return f'event_{event}', posterior_samples_i, None\n",
    "\n",
    "\n",
    "def parallel_sampling(data, params, param_bounds, n_samples, nproc=4):\n",
    "    \"\"\"\n",
    "    Parallel sampling across events with failure logging.\n",
    "    \"\"\"\n",
    "    n_events = len(data['new_cov'])\n",
    "    results_list = [None] * n_events\n",
    "    failed_events = []\n",
    "\n",
    "    with ProcessPoolExecutor(max_workers=nproc) as executor:\n",
    "        futures = {\n",
    "            executor.submit(process_event, event, data, params, param_bounds, n_samples): event\n",
    "            for event in range(n_events)\n",
    "        }\n",
    "\n",
    "        for future in tqdm(as_completed(futures), total=n_events):\n",
    "            event_key, samples, failed_info = future.result()\n",
    "            idx = int(event_key.split(\"_\")[1])\n",
    "            results_list[idx] = (event_key, samples)\n",
    "\n",
    "            if failed_info is not None:\n",
    "                failed_events.append(failed_info)\n",
    "\n",
    "    # Filter out None entries before unpacking\n",
    "    posterior_samples_all_events = {\n",
    "        k: v for kv in results_list if kv is not None for k, v in [kv]\n",
    "    }\n",
    "\n",
    "    return posterior_samples_all_events, failed_events"
   ]
  },
  {
   "cell_type": "code",
   "execution_count": 58,
   "id": "88e19db1-8cbd-4246-8c88-2035a309b175",
   "metadata": {
    "scrolled": true
   },
   "outputs": [
    {
     "name": "stderr",
     "output_type": "stream",
     "text": [
      "100%|███████████████████████████████████████████████████████████████████████████████████████████████████████████████████████████████████████████████| 5106/5106 [22:41<00:00,  3.75it/s]\n"
     ]
    }
   ],
   "source": [
    "posterior_samples_all_events, failed_events = parallel_sampling(\n",
    "    data=fm_results_snr_above_12_combined_new,\n",
    "    params=fm_results['new_deriv_variables_in_order'],\n",
    "    param_bounds=param_bounds,\n",
    "    n_samples=10000,\n",
    "    nproc=8  # adjust to number of CPU cores\n",
    ")"
   ]
  },
  {
   "cell_type": "code",
   "execution_count": 59,
   "id": "47144fb6-b01b-4454-a9bd-716ef4b90d54",
   "metadata": {
    "scrolled": true
   },
   "outputs": [
    {
     "data": {
      "text/plain": [
       "[]"
      ]
     },
     "execution_count": 59,
     "metadata": {},
     "output_type": "execute_result"
    }
   ],
   "source": [
    "failed_events"
   ]
  },
  {
   "cell_type": "code",
   "execution_count": 60,
   "id": "94f7cc98-180c-467f-8162-44222486a18c",
   "metadata": {},
   "outputs": [
    {
     "data": {
      "text/plain": [
       "5106"
      ]
     },
     "execution_count": 60,
     "metadata": {},
     "output_type": "execute_result"
    }
   ],
   "source": [
    "len(posterior_samples_all_events)"
   ]
  },
  {
   "cell_type": "markdown",
   "id": "ca7297c7-c202-44cb-a7af-3c8ecc45ff18",
   "metadata": {},
   "source": [
    "##### Add Mc and DL from log_Mc and log_DL"
   ]
  },
  {
   "cell_type": "code",
   "execution_count": 61,
   "id": "4542e3e8-56e2-46a3-947d-aa85db59423a",
   "metadata": {},
   "outputs": [
    {
     "data": {
      "text/plain": [
       "dict_keys(['log_chirp_mass', 'mass_ratio', 'log_luminosity_distance'])"
      ]
     },
     "execution_count": 61,
     "metadata": {},
     "output_type": "execute_result"
    }
   ],
   "source": [
    "posterior_samples_all_events['event_0'].keys()"
   ]
  },
  {
   "cell_type": "code",
   "execution_count": 62,
   "id": "9c5e23d7-3a66-432a-ac29-1004cfae42a4",
   "metadata": {},
   "outputs": [],
   "source": [
    "for event in posterior_samples_all_events.keys():\n",
    "    posterior_samples_all_events[event]['chirp_mass'] = np.exp(posterior_samples_all_events[event]['log_chirp_mass'])\n",
    "    posterior_samples_all_events[event]['luminosity_distance'] = np.exp(posterior_samples_all_events[event]['log_luminosity_distance'])"
   ]
  },
  {
   "cell_type": "markdown",
   "id": "ce844de8-e1cb-46d5-98a5-85c8b4c9703d",
   "metadata": {},
   "source": [
    "### Add m1, m2, q, z"
   ]
  },
  {
   "cell_type": "code",
   "execution_count": 63,
   "id": "34309849-d395-45f5-a94d-5da93a3d39c2",
   "metadata": {},
   "outputs": [
    {
     "name": "stderr",
     "output_type": "stream",
     "text": [
      "100%|██████████████████████████████████████████████████████████████████████████████████████████████████████████████████████████████████████████████| 5106/5106 [00:10<00:00, 467.52it/s]\n"
     ]
    }
   ],
   "source": [
    "for event in tqdm(posterior_samples_all_events.keys()):\n",
    "    Mc = posterior_samples_all_events[event]['chirp_mass']\n",
    "    q = posterior_samples_all_events[event]['mass_ratio']\n",
    "    DL = posterior_samples_all_events[event]['luminosity_distance']\n",
    "    posterior_samples_all_events[event]['mass_1'] = convert.mass1_from_mchirp_q(Mc, 1/q)\n",
    "    posterior_samples_all_events[event]['mass_2'] = convert.mass2_from_mchirp_q(Mc, 1/q)\n",
    "    posterior_samples_all_events[event]['redshift'] = pycbc.cosmology.redshift(DL, cosmology='Planck18')"
   ]
  },
  {
   "cell_type": "markdown",
   "id": "ce5bca86-568d-4a97-ad12-8a97b1b770b2",
   "metadata": {},
   "source": [
    "#### Add source frame parameters"
   ]
  },
  {
   "cell_type": "code",
   "execution_count": 64,
   "id": "568e17b2-dbbf-4398-9e9a-cb2cce09acc2",
   "metadata": {},
   "outputs": [],
   "source": [
    "for event in posterior_samples_all_events.keys():\n",
    "    for param in ['mass_1', 'mass_2', 'chirp_mass']:\n",
    "        posterior_samples_all_events[event][param+'_source'] = posterior_samples_all_events[event][param]/(1 + posterior_samples_all_events[event]['redshift'])"
   ]
  },
  {
   "cell_type": "code",
   "execution_count": 65,
   "id": "2dfa7923-e870-4d2e-b031-1bff7d3f2233",
   "metadata": {},
   "outputs": [
    {
     "data": {
      "text/plain": [
       "dict_keys(['log_chirp_mass', 'mass_ratio', 'log_luminosity_distance', 'chirp_mass', 'luminosity_distance', 'mass_1', 'mass_2', 'redshift', 'mass_1_source', 'mass_2_source', 'chirp_mass_source'])"
      ]
     },
     "execution_count": 65,
     "metadata": {},
     "output_type": "execute_result"
    }
   ],
   "source": [
    "posterior_samples_all_events['event_0'].keys()"
   ]
  },
  {
   "cell_type": "markdown",
   "id": "c88b88a7-76ac-4a9c-92df-00fb44db1196",
   "metadata": {},
   "source": [
    "### Save all posteriors to h5 file"
   ]
  },
  {
   "cell_type": "code",
   "execution_count": 66,
   "id": "d5330e49-1b41-4e90-ba5e-3a935b5d1912",
   "metadata": {},
   "outputs": [
    {
     "data": {
      "text/plain": [
       "5106"
      ]
     },
     "execution_count": 66,
     "metadata": {},
     "output_type": "execute_result"
    }
   ],
   "source": [
    "len(posterior_samples_all_events)"
   ]
  },
  {
   "cell_type": "code",
   "execution_count": 67,
   "id": "1a49404b-b5ef-484a-b9a5-31b4f3a189c2",
   "metadata": {},
   "outputs": [
    {
     "data": {
      "text/plain": [
       "'/home/divyajyoti/ACADEMIC/Projects/Cardiff_University/Next_gen_detectability/A-sharp-study/event_posterior_files/BBH/CE4020ET123/GWFish/CE4020ET123_CoBA10_5_PLP_z_MDlow_zp_1.54_zmax_10_lmrd_22_no_spins_posteriors_10K_5106_events_pop_from_XPHM.h5'"
      ]
     },
     "execution_count": 67,
     "metadata": {},
     "output_type": "execute_result"
    }
   ],
   "source": [
    "events_posterior_file = os.path.join(base_dir, 'event_posterior_files', 'BBH', 'CE4020ET123', 'GWFish',\n",
    "                        f'CE4020ET123_CoBA10_5_PLP_z_MDlow_zp_1.54_zmax_10_lmrd_22_no_spins_posteriors_10K_{len(posterior_samples_all_events)}_events_pop_from_XPHM.h5')\n",
    "#events_posterior_file = os.path.join(base_dir, 'event_posterior_files', 'BBH', 'Asharp', 'GWFish',\n",
    "#                        f'LHI_Asharp_5_PLP_z_fref_10_MDlow_zp_1.54_zmax_10_lmrd_22_no_spins_posteriors_10K_{len(posterior_samples_all_events)}_events_pop_from_XPHM.h5')\n",
    "events_posterior_file"
   ]
  },
  {
   "cell_type": "code",
   "execution_count": 68,
   "id": "97b67293-e850-4720-8f60-fb0cbe1f7648",
   "metadata": {},
   "outputs": [],
   "source": [
    "save_results_to_h5(posterior_samples_all_events, events_posterior_file)"
   ]
  },
  {
   "cell_type": "markdown",
   "id": "1a4b5d9a-f0f9-49c7-92b0-abacc3854007",
   "metadata": {},
   "source": [
    "## Considering only redshift posterior for gwpop analysis"
   ]
  },
  {
   "cell_type": "markdown",
   "id": "ffe42ad9-f0d2-4010-aabb-1ef7f2bbae1c",
   "metadata": {},
   "source": [
    "### Create prior on redshift"
   ]
  },
  {
   "cell_type": "markdown",
   "id": "0d2ff56b-f000-4e82-bb5a-71803f738ecd",
   "metadata": {},
   "source": [
    "$p(z)dz = p(\\log D_L) d(\\log D_L)$\n",
    "\n",
    "Since the posteriors were drawn from a Multivariate Gaussian created on $\\log\\mathcal{M}_c$, $q$, and $\\log D_L$, the priors are uniform on these parameters.\n",
    "\n",
    "Hence,\n",
    "\n",
    "$p(z) = p(\\log D_L) \\frac{1}{D_L} \\left| \\frac{dD_L(z)}{dz} \\right| \\propto \\frac{1}{D_L} \\left| \\frac{dD_L(z)}{dz} \\right|$\n",
    "\n",
    "since $p(log(D_L)) = const$"
   ]
  },
  {
   "cell_type": "code",
   "execution_count": 69,
   "id": "941b4e8d-2eb0-4984-bbb1-28391f62f193",
   "metadata": {},
   "outputs": [],
   "source": [
    "def calc_dDL_dz(DL_arr, z_arr):\n",
    "    \"\"\"\n",
    "    Parameters: \n",
    "    ----------------------\n",
    "    z_arr: numpy array\n",
    "        redshift value\n",
    "    DL_arr: numpy array\n",
    "        Luminosity distance (Mpc)\n",
    "\n",
    "    Returns:\n",
    "    --------------------------\n",
    "    dDL_dz : scipy.interpolate.UnivariateSpline\n",
    "        Derivative spline giving dDL/dz\n",
    "    \"\"\"\n",
    "    \n",
    "    sort_idx = np.argsort(DL_arr)\n",
    "    DL_sorted = DL_arr[sort_idx]\n",
    "    z_sorted = z_arr[sort_idx]\n",
    "    \n",
    "    fDL = UnivariateSpline(z_sorted, DL_sorted, s=0)\n",
    "    dfDL_dz = fDL.derivative()\n",
    "    return(dfDL_dz)"
   ]
  },
  {
   "cell_type": "code",
   "execution_count": 70,
   "id": "dd9a9172-5600-43d1-b1c0-80e45bcf3bd2",
   "metadata": {},
   "outputs": [
    {
     "name": "stdout",
     "output_type": "stream",
     "text": [
      "z_max = 11.979426122089338\n"
     ]
    }
   ],
   "source": [
    "DL_grid = np.linspace(1, 13e4, 10000)\n",
    "z_grid = pycbc.cosmology.redshift(DL_grid, cosmology='Planck18')\n",
    "print('z_max =', z_grid.max())\n",
    "dDL_dz_interp = calc_dDL_dz(DL_grid, z_grid)"
   ]
  },
  {
   "cell_type": "code",
   "execution_count": 71,
   "id": "0da06ffd-898f-4bef-b1b4-41fcd02bfff3",
   "metadata": {},
   "outputs": [
    {
     "name": "stderr",
     "output_type": "stream",
     "text": [
      "100%|██████████████████████████████████████████████████████████████████████████████████████████████████████████████████████████████████████████████| 5106/5106 [00:09<00:00, 534.40it/s]\n"
     ]
    }
   ],
   "source": [
    "posteriors_z_list = []\n",
    "for event in tqdm(posterior_samples_all_events):\n",
    "    zi = posterior_samples_all_events[event]['redshift']\n",
    "    DLi = posterior_samples_all_events[event]['luminosity_distance']\n",
    "    prior_zi = dDL_dz_interp(zi)/DLi\n",
    "    #prior_zi_normalized = prior_zi/np.trapz(prior_zi, zi)\n",
    "    prior_zi_normalized = prior_zi/np.sum(prior_zi)\n",
    "    event_i = {'redshift': zi,\n",
    "               'prior': prior_zi_normalized}\n",
    "    posteriors_z_list.append(pd.DataFrame(event_i))"
   ]
  },
  {
   "cell_type": "markdown",
   "id": "ed381e31-543f-4a22-9ee9-f68fc9d08be8",
   "metadata": {},
   "source": [
    "### Plot the priors"
   ]
  },
  {
   "cell_type": "code",
   "execution_count": 72,
   "id": "48a64a46-61e5-474a-85a1-ac2f13e8b26f",
   "metadata": {},
   "outputs": [
    {
     "data": {
      "text/plain": [
       "<matplotlib.legend.Legend at 0x7a9084bb8490>"
      ]
     },
     "execution_count": 72,
     "metadata": {},
     "output_type": "execute_result"
    },
    {
     "data": {
      "image/png": "[encoded data removed]",
      "text/plain": [
       "<Figure size 640x480 with 1 Axes>"
      ]
     },
     "metadata": {},
     "output_type": "display_data"
    }
   ],
   "source": [
    "plt.plot(zi, prior_zi_normalized, '.', label='corrected')\n",
    "plt.legend(loc=1)"
   ]
  },
  {
   "cell_type": "markdown",
   "id": "c915fafc-f7d9-4e0b-a531-b05e014f868d",
   "metadata": {},
   "source": [
    "### Save to pickle file"
   ]
  },
  {
   "cell_type": "code",
   "execution_count": 73,
   "id": "2242ea02-775f-4fe7-8cc0-e06bf6d4eced",
   "metadata": {},
   "outputs": [
    {
     "data": {
      "text/plain": [
       "5200"
      ]
     },
     "execution_count": 73,
     "metadata": {},
     "output_type": "execute_result"
    }
   ],
   "source": [
    "num_events"
   ]
  },
  {
   "cell_type": "code",
   "execution_count": 74,
   "id": "f125d8bf-043c-4a33-995a-5a46f03d5c7e",
   "metadata": {},
   "outputs": [
    {
     "data": {
      "text/plain": [
       "5106"
      ]
     },
     "execution_count": 74,
     "metadata": {},
     "output_type": "execute_result"
    }
   ],
   "source": [
    "len(posterior_samples_all_events)"
   ]
  },
  {
   "cell_type": "code",
   "execution_count": 75,
   "id": "c47d3a82-f312-44ae-8dff-8c81f861e113",
   "metadata": {},
   "outputs": [],
   "source": [
    "# commented out to avoid accidental overwriting\n",
    "pd.to_pickle(posteriors_z_list, os.path.join(base_dir, 'gwpopulation', 'BBH', 'posteriors_from_GWFish',\n",
    "                        f'CE4020ET123_CoBA10_4_PLP_z_MDlow_zp_1.54_zmax_10_lmrd_22_no_spins_z_posteriors_10K_{len(posterior_samples_all_events)}_events_pop_from_XPHM.pkl'))\n",
    "#pd.to_pickle(posteriors_z_list, os.path.join(base_dir, 'gwpopulation', 'BBH', 'posteriors_from_GWFish',\n",
    "#                        f'LHI_Asharp_5_PLP_z_fref_10_MDlow_zp_1.54_zmax_10_lmrd_22_no_spins_z_posteriors_10K_{len(posterior_samples_all_events)}_events_365_days_pop_from_XPHM.pkl'))"
   ]
  },
  {
   "cell_type": "code",
   "execution_count": null,
   "id": "1240f5bb-be89-45d0-a812-b474efd4e3d5",
   "metadata": {},
   "outputs": [],
   "source": []
  }
 ],
 "metadata": {
  "kernelspec": {
   "display_name": "gwfish",
   "language": "python",
   "name": "gwfish"
  },
  "language_info": {
   "codemirror_mode": {
    "name": "ipython",
    "version": 3
   },
   "file_extension": ".py",
   "mimetype": "text/x-python",
   "name": "python",
   "nbconvert_exporter": "python",
   "pygments_lexer": "ipython3",
   "version": "3.11.11"
  }
 },
 "nbformat": 4,
 "nbformat_minor": 5
}
