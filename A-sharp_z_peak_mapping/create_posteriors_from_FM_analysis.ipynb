{
 "cells": [
  {
   "cell_type": "code",
   "execution_count": 62,
   "id": "5a8d2d3c-36f1-40dc-9b34-304877a6e790",
   "metadata": {},
   "outputs": [],
   "source": [
    "import warnings\n",
    "warnings.filterwarnings(\"ignore\", \"Wswiglal-redir-stdio\")\n",
    "import lal\n",
    "import os\n",
    "import h5py\n",
    "import numpy\n",
    "import pandas as pd\n",
    "import pylab as plt\n",
    "from bilby.core.prior import MultivariateGaussian, MultivariateGaussianDist, PriorDict\n",
    "import numpy as np\n",
    "from scipy.interpolate import UnivariateSpline\n",
    "from tqdm import tqdm\n",
    "import pycbc.conversions as convert\n",
    "import bilby\n",
    "import pycbc\n",
    "import seaborn as sns"
   ]
  },
  {
   "cell_type": "markdown",
   "id": "15193af1-429a-40ac-968f-01e179af0370",
   "metadata": {},
   "source": [
    "## Load FM errors"
   ]
  },
  {
   "cell_type": "code",
   "execution_count": 63,
   "id": "653a970e-1e37-43e7-8315-e34120ca4875",
   "metadata": {},
   "outputs": [],
   "source": [
    "def load_results_from_h5(filename):\n",
    "    results = {}\n",
    "\n",
    "    with h5py.File(filename, 'r') as f:\n",
    "        # Load inj_params\n",
    "        inj_params = []\n",
    "        inj_params_group = f['inj_params']\n",
    "        for i in sorted(inj_params_group.keys(), key=lambda x: int(x)):\n",
    "            param_group = inj_params_group[i]\n",
    "            param_dict = {key: param_group[key][()] for key in param_group.keys()}\n",
    "            inj_params.append(param_dict)\n",
    "        results['inj_params'] = pd.DataFrame(inj_params)\n",
    "\n",
    "        # Load original inj_params\n",
    "        all_inj_params_original = []\n",
    "        all_inj_original_group = f['all_inj_params_original']\n",
    "        for i in sorted(all_inj_original_group.keys(), key=lambda x: int(x)):\n",
    "            param_group = all_inj_original_group[i]\n",
    "            param_dict = {key: all_inj_original_group[key][()] for key in param_group.keys() if 'PSD' not in key}\n",
    "            all_inj_params_original.append(param_dict)\n",
    "        results['all_inj_params_original'] = pd.DataFrame(all_inj_params_original)\n",
    "\n",
    "        # Load cov\n",
    "        cov = []\n",
    "        cov_group = f['cov']\n",
    "        for i in sorted(cov_group.keys(), key=lambda x: int(x)):\n",
    "            matrix = cov_group[i][()]\n",
    "            cov.append(matrix)\n",
    "        results['cov'] = cov\n",
    "\n",
    "        # Load errs\n",
    "        errs = []\n",
    "        errs_group = f['errs']\n",
    "        for i in sorted(errs_group.keys(), key=lambda x: int(x)):\n",
    "            err_group = errs_group[i]\n",
    "            err_dict = {key: err_group[key][()] for key in err_group.keys()}\n",
    "            errs.append(err_dict)\n",
    "        results['errs'] = pd.DataFrame(errs)\n",
    "\n",
    "        # Load deriv_variables_in_order\n",
    "        deriv_vars = f['deriv_variables_in_order'][()]\n",
    "        # Convert bytes to str if needed (depends on h5py version)\n",
    "        if isinstance(deriv_vars[0], bytes):\n",
    "            deriv_vars = [s.decode('utf-8') for s in deriv_vars]\n",
    "        results['deriv_variables_in_order'] = list(deriv_vars)\n",
    "\n",
    "    return results"
   ]
  },
  {
   "cell_type": "code",
   "execution_count": 64,
   "id": "642ab046-b797-4bde-b899-300828f27cba",
   "metadata": {},
   "outputs": [],
   "source": [
    "def decode_data(data):\n",
    "    \"\"\"\n",
    "    Decodes byte strings or arrays of byte strings from HDF5.\n",
    "    \"\"\"\n",
    "    if isinstance(data, bytes):\n",
    "        return data.decode('utf-8')\n",
    "    elif isinstance(data, np.ndarray) and data.dtype.kind in {'S', 'O'}:\n",
    "        return [d.decode('utf-8') if isinstance(d, bytes) else d for d in data]\n",
    "    else:\n",
    "        return data\n",
    "\n",
    "def load_from_h5_group(group):\n",
    "    \"\"\"\n",
    "    Recursively loads data from an HDF5 group and reconstructs Python objects.\n",
    "    \"\"\"\n",
    "    result = {}\n",
    "\n",
    "    # Check if this group is an array-style list (all keys are numeric)\n",
    "    keys = list(group.keys())\n",
    "    if all(k.isdigit() for k in keys):\n",
    "        # Treat it as a list, sorted by numeric key\n",
    "        items = []\n",
    "        for key in sorted(keys, key=lambda x: int(x)):\n",
    "            val = group[key]\n",
    "            if isinstance(val, h5py.Group):\n",
    "                items.append(load_from_h5_group(val))\n",
    "            else:\n",
    "                items.append(decode_data(val[()]))\n",
    "        return items\n",
    "\n",
    "    # Otherwise treat as dict\n",
    "    for key in group:\n",
    "        item = group[key]\n",
    "        if isinstance(item, h5py.Group):\n",
    "            result[key] = load_from_h5_group(item)\n",
    "        else:\n",
    "            result[key] = decode_data(item[()])\n",
    "\n",
    "    return result\n",
    "\n",
    "def load_results_from_h5(filename):\n",
    "    \"\"\"\n",
    "    Loads structured data from a universally saved HDF5 file.\n",
    "    \"\"\"\n",
    "    with h5py.File(filename, 'r') as f:\n",
    "        return load_from_h5_group(f)"
   ]
  },
  {
   "cell_type": "code",
   "execution_count": 65,
   "id": "7e770c39-01e3-4e0d-a95d-a626ace194a2",
   "metadata": {},
   "outputs": [],
   "source": [
    "base_dir = '/home/divyajyoti/ACADEMIC/Projects/Cardiff_University/Next_gen_detectability/A-sharp-study/'\n",
    "fm_err_file = os.path.join(base_dir, 'GWBench_analysis', 'BBH', \n",
    "                           'CE4020ET123_CoBA10_2_PLP_z_MD_zmax_10_lmrd_22_no_spins_set2.h5')"
   ]
  },
  {
   "cell_type": "code",
   "execution_count": 66,
   "id": "c6dd2fcf-4714-4186-9770-6f64d3ad4931",
   "metadata": {},
   "outputs": [
    {
     "name": "stdout",
     "output_type": "stream",
     "text": [
      "<KeysViewHDF5 ['PSD_C1', 'PSD_CE20', 'PSD_E1', 'PSD_E2', 'PSD_E3', 'SNR_C1', 'SNR_CE20', 'SNR_E1', 'SNR_E2', 'SNR_E3', 'SNR_mf_C1', 'SNR_mf_CE20', 'SNR_mf_E1', 'SNR_mf_E2', 'SNR_mf_E3', 'SNR_mf_network', 'SNR_network', 'approximant', 'chi_1_in_plane', 'chi_2_in_plane', 'chi_eff', 'chi_p', 'coa_phase', 'cos_spin1_polar', 'cos_spin2_polar', 'dec', 'delta_f', 'distance', 'eta', 'f_final', 'f_lower', 'f_ref', 'inclination', 'index', 'mass1', 'mass2', 'mchirp', 'mtotal', 'phi_12', 'phi_jl', 'polarization', 'q', 'ra', 'redshift', 'spin1_a', 'spin1_azimuthal', 'spin1_polar', 'spin1x', 'spin1y', 'spin1z', 'spin2_a', 'spin2_azimuthal', 'spin2_polar', 'spin2x', 'spin2y', 'spin2z', 'srcmass1', 'srcmass2', 'srcmchirp', 'srcmtotal', 'theta_jn', 'time_interval', 'trigger_time']>\n",
      "3.658895972879911\n"
     ]
    }
   ],
   "source": [
    "with h5py.File(fm_err_file, 'r') as f:\n",
    "    print(f['all_inj_params_original']['0'].keys())\n",
    "    print(f['all_inj_params_original']['0']['q'][()])"
   ]
  },
  {
   "cell_type": "code",
   "execution_count": 67,
   "id": "a71f2189-c3c1-40d9-81dc-7c56c58719b0",
   "metadata": {},
   "outputs": [],
   "source": [
    "fm_results = load_results_from_h5(fm_err_file)"
   ]
  },
  {
   "cell_type": "code",
   "execution_count": 68,
   "id": "12be6603-662d-458a-b803-fbc12f2b1b99",
   "metadata": {
    "scrolled": true
   },
   "outputs": [],
   "source": [
    "for key,val in fm_results.items():\n",
    "    if type(val[0]) == dict:\n",
    "        fm_results[key] = pd.DataFrame(fm_results[key])"
   ]
  },
  {
   "cell_type": "code",
   "execution_count": 69,
   "id": "dd5c51c4-1efd-43fa-9705-546242f144e2",
   "metadata": {},
   "outputs": [],
   "source": [
    "fm_results['errs']['DL'] = fm_results['errs']['log_DL']*fm_results['inj_params']['DL']"
   ]
  },
  {
   "cell_type": "code",
   "execution_count": 114,
   "id": "61ce28a8-6fdb-4eaf-8375-9b25b68a2f69",
   "metadata": {},
   "outputs": [
    {
     "data": {
      "text/plain": [
       "[<matplotlib.lines.Line2D at 0x7fd6e5701f10>]"
      ]
     },
     "execution_count": 114,
     "metadata": {},
     "output_type": "execute_result"
    },
    {
     "data": {
      "image/png": "[encoded data removed]",
      "text/plain": [
       "<Figure size 640x480 with 1 Axes>"
      ]
     },
     "metadata": {},
     "output_type": "display_data"
    }
   ],
   "source": [
    "mask = (fm_results['all_inj_params_original']['SNR_network'] > 50) & (fm_results['all_inj_params_original']['SNR_network']/fm_results['errs']['snr'] > 1.5)\n",
    "plt.plot(fm_results['all_inj_params_original']['SNR_network'][mask], fm_results['all_inj_params_original']['SNR_network'][mask]/fm_results['errs']['snr'][mask], '.')\n",
    "#plt.axvline(12, color='k')\n",
    "#plt.axhline(1, color='k')"
   ]
  },
  {
   "cell_type": "code",
   "execution_count": 115,
   "id": "5bea0f04-2333-4767-b3ee-45a59fa710c7",
   "metadata": {},
   "outputs": [
    {
     "data": {
      "text/plain": [
       "<matplotlib.colorbar.Colorbar at 0x7fd6e58f0990>"
      ]
     },
     "execution_count": 115,
     "metadata": {},
     "output_type": "execute_result"
    },
    {
     "data": {
      "image/png": "[encoded data removed]",
      "text/plain": [
       "<Figure size 640x480 with 2 Axes>"
      ]
     },
     "metadata": {},
     "output_type": "display_data"
    }
   ],
   "source": [
    "plt.scatter(fm_results['all_inj_params_original']['chi_eff'][mask], \n",
    "            fm_results['all_inj_params_original']['chi_p'][mask],\n",
    "            c=fm_results['all_inj_params_original']['SNR_network'][mask]/fm_results['errs']['snr'][mask]\n",
    "            )\n",
    "#plt.axvline(12, color='k')\n",
    "#plt.axhline(1, color='k')\n",
    "plt.colorbar()"
   ]
  },
  {
   "cell_type": "code",
   "execution_count": 104,
   "id": "38a62efc-9973-4e27-9108-069e8cd266a8",
   "metadata": {},
   "outputs": [
    {
     "data": {
      "text/html": [
       "<div>\n",
       "<style scoped>\n",
       "    .dataframe tbody tr th:only-of-type {\n",
       "        vertical-align: middle;\n",
       "    }\n",
       "\n",
       "    .dataframe tbody tr th {\n",
       "        vertical-align: top;\n",
       "    }\n",
       "\n",
       "    .dataframe thead th {\n",
       "        text-align: right;\n",
       "    }\n",
       "</style>\n",
       "<table border=\"1\" class=\"dataframe\">\n",
       "  <thead>\n",
       "    <tr style=\"text-align: right;\">\n",
       "      <th></th>\n",
       "      <th>distance</th>\n",
       "      <th>srcmchirp</th>\n",
       "      <th>mchirp</th>\n",
       "      <th>chi_eff</th>\n",
       "      <th>chi_p</th>\n",
       "      <th>dec</th>\n",
       "      <th>eta</th>\n",
       "      <th>inclination</th>\n",
       "      <th>polarization</th>\n",
       "      <th>ra</th>\n",
       "      <th>redshift</th>\n",
       "      <th>SNR_network</th>\n",
       "    </tr>\n",
       "  </thead>\n",
       "  <tbody>\n",
       "    <tr>\n",
       "      <th>304</th>\n",
       "      <td>2716.453360</td>\n",
       "      <td>22.502429</td>\n",
       "      <td>33.098327</td>\n",
       "      <td>0.458361</td>\n",
       "      <td>0.301943</td>\n",
       "      <td>-0.861907</td>\n",
       "      <td>0.239744</td>\n",
       "      <td>0.136422</td>\n",
       "      <td>2.935759</td>\n",
       "      <td>5.134113</td>\n",
       "      <td>0.470878</td>\n",
       "      <td>491.075604</td>\n",
       "    </tr>\n",
       "    <tr>\n",
       "      <th>489</th>\n",
       "      <td>1027.226476</td>\n",
       "      <td>19.421903</td>\n",
       "      <td>23.360632</td>\n",
       "      <td>-0.609018</td>\n",
       "      <td>0.237708</td>\n",
       "      <td>-0.626610</td>\n",
       "      <td>0.206950</td>\n",
       "      <td>2.469500</td>\n",
       "      <td>2.551166</td>\n",
       "      <td>0.044530</td>\n",
       "      <td>0.202798</td>\n",
       "      <td>546.093732</td>\n",
       "    </tr>\n",
       "    <tr>\n",
       "      <th>548</th>\n",
       "      <td>5946.486516</td>\n",
       "      <td>49.071398</td>\n",
       "      <td>93.122732</td>\n",
       "      <td>0.137705</td>\n",
       "      <td>0.683950</td>\n",
       "      <td>1.074713</td>\n",
       "      <td>0.219838</td>\n",
       "      <td>2.567447</td>\n",
       "      <td>0.722141</td>\n",
       "      <td>4.323583</td>\n",
       "      <td>0.897699</td>\n",
       "      <td>494.064687</td>\n",
       "    </tr>\n",
       "    <tr>\n",
       "      <th>1265</th>\n",
       "      <td>1719.235917</td>\n",
       "      <td>34.929695</td>\n",
       "      <td>46.073438</td>\n",
       "      <td>0.184927</td>\n",
       "      <td>0.464261</td>\n",
       "      <td>-0.116366</td>\n",
       "      <td>0.233137</td>\n",
       "      <td>2.133329</td>\n",
       "      <td>0.977426</td>\n",
       "      <td>2.328782</td>\n",
       "      <td>0.319034</td>\n",
       "      <td>593.669279</td>\n",
       "    </tr>\n",
       "    <tr>\n",
       "      <th>1327</th>\n",
       "      <td>5252.974916</td>\n",
       "      <td>36.325944</td>\n",
       "      <td>65.805220</td>\n",
       "      <td>0.327939</td>\n",
       "      <td>0.436779</td>\n",
       "      <td>-0.882289</td>\n",
       "      <td>0.242223</td>\n",
       "      <td>0.474834</td>\n",
       "      <td>2.013554</td>\n",
       "      <td>1.783339</td>\n",
       "      <td>0.811521</td>\n",
       "      <td>452.470616</td>\n",
       "    </tr>\n",
       "  </tbody>\n",
       "</table>\n",
       "</div>"
      ],
      "text/plain": [
       "         distance  srcmchirp     mchirp   chi_eff     chi_p       dec  \\\n",
       "304   2716.453360  22.502429  33.098327  0.458361  0.301943 -0.861907   \n",
       "489   1027.226476  19.421903  23.360632 -0.609018  0.237708 -0.626610   \n",
       "548   5946.486516  49.071398  93.122732  0.137705  0.683950  1.074713   \n",
       "1265  1719.235917  34.929695  46.073438  0.184927  0.464261 -0.116366   \n",
       "1327  5252.974916  36.325944  65.805220  0.327939  0.436779 -0.882289   \n",
       "\n",
       "           eta  inclination  polarization        ra  redshift  SNR_network  \n",
       "304   0.239744     0.136422      2.935759  5.134113  0.470878   491.075604  \n",
       "489   0.206950     2.469500      2.551166  0.044530  0.202798   546.093732  \n",
       "548   0.219838     2.567447      0.722141  4.323583  0.897699   494.064687  \n",
       "1265  0.233137     2.133329      0.977426  2.328782  0.319034   593.669279  \n",
       "1327  0.242223     0.474834      2.013554  1.783339  0.811521   452.470616  "
      ]
     },
     "execution_count": 104,
     "metadata": {},
     "output_type": "execute_result"
    }
   ],
   "source": [
    "fm_results['all_inj_params_original'][fm_results['all_inj_params_original']['SNR_network'] > 400][['distance', 'srcmchirp', 'mchirp', 'chi_eff', 'chi_p', \n",
    "                                                                                                   'dec', 'eta', 'inclination', 'polarization', 'ra', 'redshift', 'SNR_network']]"
   ]
  },
  {
   "cell_type": "code",
   "execution_count": 105,
   "id": "b5aa4e1f-113a-455a-919f-7eb60adfdd68",
   "metadata": {},
   "outputs": [
    {
     "data": {
      "text/html": [
       "<div>\n",
       "<style scoped>\n",
       "    .dataframe tbody tr th:only-of-type {\n",
       "        vertical-align: middle;\n",
       "    }\n",
       "\n",
       "    .dataframe tbody tr th {\n",
       "        vertical-align: top;\n",
       "    }\n",
       "\n",
       "    .dataframe thead th {\n",
       "        text-align: right;\n",
       "    }\n",
       "</style>\n",
       "<table border=\"1\" class=\"dataframe\">\n",
       "  <thead>\n",
       "    <tr style=\"text-align: right;\">\n",
       "      <th></th>\n",
       "      <th>DL</th>\n",
       "      <th>Mc</th>\n",
       "      <th>chi1x</th>\n",
       "      <th>chi1y</th>\n",
       "      <th>chi1z</th>\n",
       "      <th>chi2x</th>\n",
       "      <th>chi2y</th>\n",
       "      <th>chi2z</th>\n",
       "      <th>dec</th>\n",
       "      <th>eta</th>\n",
       "      <th>iota</th>\n",
       "      <th>phic</th>\n",
       "      <th>psi</th>\n",
       "      <th>ra</th>\n",
       "      <th>tc</th>\n",
       "      <th>z</th>\n",
       "    </tr>\n",
       "  </thead>\n",
       "  <tbody>\n",
       "    <tr>\n",
       "      <th>304</th>\n",
       "      <td>2716.453360</td>\n",
       "      <td>33.098327</td>\n",
       "      <td>0</td>\n",
       "      <td>0</td>\n",
       "      <td>0</td>\n",
       "      <td>0</td>\n",
       "      <td>0</td>\n",
       "      <td>0</td>\n",
       "      <td>-0.861907</td>\n",
       "      <td>0.239744</td>\n",
       "      <td>0.136422</td>\n",
       "      <td>0</td>\n",
       "      <td>2.935759</td>\n",
       "      <td>5.134113</td>\n",
       "      <td>0</td>\n",
       "      <td>0.470878</td>\n",
       "    </tr>\n",
       "    <tr>\n",
       "      <th>489</th>\n",
       "      <td>1027.226476</td>\n",
       "      <td>23.360632</td>\n",
       "      <td>0</td>\n",
       "      <td>0</td>\n",
       "      <td>0</td>\n",
       "      <td>0</td>\n",
       "      <td>0</td>\n",
       "      <td>0</td>\n",
       "      <td>-0.626610</td>\n",
       "      <td>0.206950</td>\n",
       "      <td>2.469500</td>\n",
       "      <td>0</td>\n",
       "      <td>2.551166</td>\n",
       "      <td>0.044530</td>\n",
       "      <td>0</td>\n",
       "      <td>0.202798</td>\n",
       "    </tr>\n",
       "    <tr>\n",
       "      <th>548</th>\n",
       "      <td>5946.486516</td>\n",
       "      <td>93.122732</td>\n",
       "      <td>0</td>\n",
       "      <td>0</td>\n",
       "      <td>0</td>\n",
       "      <td>0</td>\n",
       "      <td>0</td>\n",
       "      <td>0</td>\n",
       "      <td>1.074713</td>\n",
       "      <td>0.219838</td>\n",
       "      <td>2.567447</td>\n",
       "      <td>0</td>\n",
       "      <td>0.722141</td>\n",
       "      <td>4.323583</td>\n",
       "      <td>0</td>\n",
       "      <td>0.897699</td>\n",
       "    </tr>\n",
       "    <tr>\n",
       "      <th>1265</th>\n",
       "      <td>1719.235917</td>\n",
       "      <td>46.073438</td>\n",
       "      <td>0</td>\n",
       "      <td>0</td>\n",
       "      <td>0</td>\n",
       "      <td>0</td>\n",
       "      <td>0</td>\n",
       "      <td>0</td>\n",
       "      <td>-0.116366</td>\n",
       "      <td>0.233137</td>\n",
       "      <td>2.133329</td>\n",
       "      <td>0</td>\n",
       "      <td>0.977426</td>\n",
       "      <td>2.328782</td>\n",
       "      <td>0</td>\n",
       "      <td>0.319034</td>\n",
       "    </tr>\n",
       "    <tr>\n",
       "      <th>1327</th>\n",
       "      <td>5252.974916</td>\n",
       "      <td>65.805220</td>\n",
       "      <td>0</td>\n",
       "      <td>0</td>\n",
       "      <td>0</td>\n",
       "      <td>0</td>\n",
       "      <td>0</td>\n",
       "      <td>0</td>\n",
       "      <td>-0.882289</td>\n",
       "      <td>0.242223</td>\n",
       "      <td>0.474834</td>\n",
       "      <td>0</td>\n",
       "      <td>2.013554</td>\n",
       "      <td>1.783339</td>\n",
       "      <td>0</td>\n",
       "      <td>0.811521</td>\n",
       "    </tr>\n",
       "  </tbody>\n",
       "</table>\n",
       "</div>"
      ],
      "text/plain": [
       "               DL         Mc  chi1x  chi1y  chi1z  chi2x  chi2y  chi2z  \\\n",
       "304   2716.453360  33.098327      0      0      0      0      0      0   \n",
       "489   1027.226476  23.360632      0      0      0      0      0      0   \n",
       "548   5946.486516  93.122732      0      0      0      0      0      0   \n",
       "1265  1719.235917  46.073438      0      0      0      0      0      0   \n",
       "1327  5252.974916  65.805220      0      0      0      0      0      0   \n",
       "\n",
       "           dec       eta      iota  phic       psi        ra  tc         z  \n",
       "304  -0.861907  0.239744  0.136422     0  2.935759  5.134113   0  0.470878  \n",
       "489  -0.626610  0.206950  2.469500     0  2.551166  0.044530   0  0.202798  \n",
       "548   1.074713  0.219838  2.567447     0  0.722141  4.323583   0  0.897699  \n",
       "1265 -0.116366  0.233137  2.133329     0  0.977426  2.328782   0  0.319034  \n",
       "1327 -0.882289  0.242223  0.474834     0  2.013554  1.783339   0  0.811521  "
      ]
     },
     "execution_count": 105,
     "metadata": {},
     "output_type": "execute_result"
    }
   ],
   "source": [
    "fm_results['inj_params'][fm_results['all_inj_params_original']['SNR_network'] > 400]"
   ]
  },
  {
   "cell_type": "code",
   "execution_count": 106,
   "id": "f73f843f-7da7-4cc2-9a33-f715dde52a2d",
   "metadata": {},
   "outputs": [
    {
     "data": {
      "text/html": [
       "<div>\n",
       "<style scoped>\n",
       "    .dataframe tbody tr th:only-of-type {\n",
       "        vertical-align: middle;\n",
       "    }\n",
       "\n",
       "    .dataframe tbody tr th {\n",
       "        vertical-align: top;\n",
       "    }\n",
       "\n",
       "    .dataframe thead th {\n",
       "        text-align: right;\n",
       "    }\n",
       "</style>\n",
       "<table border=\"1\" class=\"dataframe\">\n",
       "  <thead>\n",
       "    <tr style=\"text-align: right;\">\n",
       "      <th></th>\n",
       "      <th>dec</th>\n",
       "      <th>eta</th>\n",
       "      <th>inv_err</th>\n",
       "      <th>iota</th>\n",
       "      <th>log_DL</th>\n",
       "      <th>log_Mc</th>\n",
       "      <th>phic</th>\n",
       "      <th>psi</th>\n",
       "      <th>ra</th>\n",
       "      <th>sky_area_90</th>\n",
       "      <th>snr</th>\n",
       "      <th>tc</th>\n",
       "      <th>DL</th>\n",
       "    </tr>\n",
       "  </thead>\n",
       "  <tbody>\n",
       "    <tr>\n",
       "      <th>304</th>\n",
       "      <td>0.001737</td>\n",
       "      <td>0.000009</td>\n",
       "      <td>5.642051e-16</td>\n",
       "      <td>0.026861</td>\n",
       "      <td>0.005683</td>\n",
       "      <td>5.632154e-05</td>\n",
       "      <td>0.043744</td>\n",
       "      <td>0.004777</td>\n",
       "      <td>0.002339</td>\n",
       "      <td>0.070720</td>\n",
       "      <td>315.957948</td>\n",
       "      <td>0.000015</td>\n",
       "      <td>15.438173</td>\n",
       "    </tr>\n",
       "    <tr>\n",
       "      <th>489</th>\n",
       "      <td>0.001300</td>\n",
       "      <td>0.000010</td>\n",
       "      <td>1.313396e-17</td>\n",
       "      <td>0.009927</td>\n",
       "      <td>0.007419</td>\n",
       "      <td>1.045403e-05</td>\n",
       "      <td>0.013662</td>\n",
       "      <td>0.002555</td>\n",
       "      <td>0.001211</td>\n",
       "      <td>0.029278</td>\n",
       "      <td>601.328324</td>\n",
       "      <td>0.000024</td>\n",
       "      <td>7.620486</td>\n",
       "    </tr>\n",
       "    <tr>\n",
       "      <th>548</th>\n",
       "      <td>0.003401</td>\n",
       "      <td>0.000252</td>\n",
       "      <td>1.179321e-13</td>\n",
       "      <td>0.016311</td>\n",
       "      <td>0.011093</td>\n",
       "      <td>2.735094e-06</td>\n",
       "      <td>0.023972</td>\n",
       "      <td>0.003711</td>\n",
       "      <td>0.002802</td>\n",
       "      <td>0.176827</td>\n",
       "      <td>283.783100</td>\n",
       "      <td>0.000095</td>\n",
       "      <td>65.966595</td>\n",
       "    </tr>\n",
       "    <tr>\n",
       "      <th>1265</th>\n",
       "      <td>0.002627</td>\n",
       "      <td>0.000051</td>\n",
       "      <td>1.080709e-15</td>\n",
       "      <td>0.005917</td>\n",
       "      <td>0.008311</td>\n",
       "      <td>3.860777e-07</td>\n",
       "      <td>0.009090</td>\n",
       "      <td>0.005351</td>\n",
       "      <td>0.002604</td>\n",
       "      <td>0.236524</td>\n",
       "      <td>574.706127</td>\n",
       "      <td>0.000052</td>\n",
       "      <td>14.289418</td>\n",
       "    </tr>\n",
       "    <tr>\n",
       "      <th>1327</th>\n",
       "      <td>0.002351</td>\n",
       "      <td>0.000006</td>\n",
       "      <td>1.620554e-16</td>\n",
       "      <td>0.024362</td>\n",
       "      <td>0.013194</td>\n",
       "      <td>1.461472e-04</td>\n",
       "      <td>0.030047</td>\n",
       "      <td>0.010623</td>\n",
       "      <td>0.005115</td>\n",
       "      <td>0.283179</td>\n",
       "      <td>335.683154</td>\n",
       "      <td>0.000065</td>\n",
       "      <td>69.309543</td>\n",
       "    </tr>\n",
       "  </tbody>\n",
       "</table>\n",
       "</div>"
      ],
      "text/plain": [
       "           dec       eta       inv_err      iota    log_DL        log_Mc  \\\n",
       "304   0.001737  0.000009  5.642051e-16  0.026861  0.005683  5.632154e-05   \n",
       "489   0.001300  0.000010  1.313396e-17  0.009927  0.007419  1.045403e-05   \n",
       "548   0.003401  0.000252  1.179321e-13  0.016311  0.011093  2.735094e-06   \n",
       "1265  0.002627  0.000051  1.080709e-15  0.005917  0.008311  3.860777e-07   \n",
       "1327  0.002351  0.000006  1.620554e-16  0.024362  0.013194  1.461472e-04   \n",
       "\n",
       "          phic       psi        ra  sky_area_90         snr        tc  \\\n",
       "304   0.043744  0.004777  0.002339     0.070720  315.957948  0.000015   \n",
       "489   0.013662  0.002555  0.001211     0.029278  601.328324  0.000024   \n",
       "548   0.023972  0.003711  0.002802     0.176827  283.783100  0.000095   \n",
       "1265  0.009090  0.005351  0.002604     0.236524  574.706127  0.000052   \n",
       "1327  0.030047  0.010623  0.005115     0.283179  335.683154  0.000065   \n",
       "\n",
       "             DL  \n",
       "304   15.438173  \n",
       "489    7.620486  \n",
       "548   65.966595  \n",
       "1265  14.289418  \n",
       "1327  69.309543  "
      ]
     },
     "execution_count": 106,
     "metadata": {},
     "output_type": "execute_result"
    }
   ],
   "source": [
    "fm_results['errs'][fm_results['all_inj_params_original']['SNR_network'] > 400]"
   ]
  },
  {
   "cell_type": "markdown",
   "id": "73b6866d-7720-47a1-88cb-29240656391b",
   "metadata": {
    "jp-MarkdownHeadingCollapsed": true
   },
   "source": [
    "## Convert logDL and logMc to DL and Mc"
   ]
  },
  {
   "cell_type": "code",
   "execution_count": 9,
   "id": "98f7da7d-b0c6-4e9f-a805-b5f112893d63",
   "metadata": {},
   "outputs": [],
   "source": [
    "def transform_cov_logDL_logMc_to_DL_Mc(cov, DL, logDL_index, Mc, logMc_index):\n",
    "    \"\"\"\n",
    "    Transforms a covariance matrix where:\n",
    "    - log_DL is replaced with DL using dDL/dlogDL = DL\n",
    "    - log_Mc is replaced with M_c using dMc/dlogMc = Mc\n",
    "\n",
    "    Parameters:\n",
    "    -----------\n",
    "    cov : np.ndarray\n",
    "        Original NxN covariance matrix including log_DL and log_Mc.\n",
    "    DL : float\n",
    "        Mean value of DL (Mpc).\n",
    "    logDL_index : int\n",
    "        Index of log_DL in the covariance matrix.\n",
    "    Mc : float\n",
    "        Mean value of chirp mass (solar masses).\n",
    "    logMc_index : int\n",
    "        Index of log_Mc in the covariance matrix.\n",
    "\n",
    "    Returns:\n",
    "    --------\n",
    "    cov_new : np.ndarray\n",
    "        Transformed covariance matrix with DL and M_c replacing log_DL and log_Mc.\n",
    "    \"\"\"\n",
    "\n",
    "    # Derivatives for Jacobian (from chain rule)\n",
    "    dDL_dlogDL = DL\n",
    "    dMc_dlogMc = Mc\n",
    "\n",
    "    # Build Jacobian matrix\n",
    "    N = cov.shape[0]\n",
    "    J = np.eye(N)\n",
    "    J[logDL_index, logDL_index] = dDL_dlogDL\n",
    "    J[logMc_index, logMc_index] = dMc_dlogMc\n",
    "\n",
    "    # Transform covariance matrix\n",
    "    cov_new = J @ cov @ J.T\n",
    "\n",
    "    return cov_new"
   ]
  },
  {
   "cell_type": "markdown",
   "id": "473227a2-4a2c-4c4f-8a3e-3f392098d5cc",
   "metadata": {},
   "source": [
    "### Convert cov matrices to new cov matrices"
   ]
  },
  {
   "cell_type": "code",
   "execution_count": 10,
   "id": "fcd64cff-375b-4b50-8e67-345e9b3a3813",
   "metadata": {},
   "outputs": [
    {
     "data": {
      "text/plain": [
       "<function __main__.transform_cov_logDL_logMc_to_DL_Mc(cov, DL, logDL_index, Mc, logMc_index)>"
      ]
     },
     "execution_count": 10,
     "metadata": {},
     "output_type": "execute_result"
    }
   ],
   "source": [
    "transform_cov_logDL_logMc_to_DL_Mc"
   ]
  },
  {
   "cell_type": "code",
   "execution_count": 11,
   "id": "461c691a-7478-41e0-a945-626bb32a6463",
   "metadata": {},
   "outputs": [],
   "source": [
    "log_DL_idx = fm_results['deriv_variables_in_order'].index('log_DL')\n",
    "log_Mc_idx = fm_results['deriv_variables_in_order'].index('log_Mc')\n",
    "fm_results['new_cov'] = []\n",
    "for i in range(len(fm_results['cov'])):\n",
    "    new_cov = transform_cov_logDL_logMc_to_DL_Mc(fm_results['cov'][i], \n",
    "                                                 fm_results['inj_params']['DL'][i], \n",
    "                                                 log_DL_idx, \n",
    "                                                 fm_results['inj_params']['Mc'][i],\n",
    "                                                 log_Mc_idx)\n",
    "    fm_results['new_cov'].append(new_cov)\n",
    "fm_results['new_deriv_variables_in_order'] = []\n",
    "\n",
    "for var in fm_results['deriv_variables_in_order']:\n",
    "    if var == 'log_DL':\n",
    "        fm_results['new_deriv_variables_in_order'].append('DL')\n",
    "    elif var == 'log_Mc':\n",
    "        fm_results['new_deriv_variables_in_order'].append('Mc')\n",
    "    else:\n",
    "        fm_results['new_deriv_variables_in_order'].append(var)"
   ]
  },
  {
   "cell_type": "markdown",
   "id": "8e9a0716-58cf-4d42-bf7b-5c07dc47ac93",
   "metadata": {},
   "source": [
    "## Create posterior samples"
   ]
  },
  {
   "cell_type": "code",
   "execution_count": 38,
   "id": "09e6f6de-32ee-40b6-b28c-8ac7ea80bd02",
   "metadata": {},
   "outputs": [
    {
     "data": {
      "text/plain": [
       "['log_Mc', 'eta', 'log_DL', 'iota', 'tc', 'phic', 'ra', 'dec', 'psi']"
      ]
     },
     "execution_count": 38,
     "metadata": {},
     "output_type": "execute_result"
    }
   ],
   "source": [
    "fm_results['deriv_variables_in_order']"
   ]
  },
  {
   "cell_type": "code",
   "execution_count": 12,
   "id": "23ec1a03-3a17-4284-bc39-b59df296eb8a",
   "metadata": {},
   "outputs": [
    {
     "data": {
      "text/plain": [
       "['Mc', 'eta', 'DL', 'iota', 'tc', 'phic', 'ra', 'dec', 'psi']"
      ]
     },
     "execution_count": 12,
     "metadata": {},
     "output_type": "execute_result"
    }
   ],
   "source": [
    "fm_results['new_deriv_variables_in_order']"
   ]
  },
  {
   "cell_type": "code",
   "execution_count": 13,
   "id": "ded51361-e6e4-4d08-830b-342d737466ac",
   "metadata": {},
   "outputs": [
    {
     "data": {
      "text/plain": [
       "['Mc', 'eta', 'DL', 'iota', 'tc', 'phic', 'ra', 'dec', 'psi']"
      ]
     },
     "execution_count": 13,
     "metadata": {},
     "output_type": "execute_result"
    }
   ],
   "source": [
    "fm_results['new_deriv_variables_in_order']"
   ]
  },
  {
   "cell_type": "code",
   "execution_count": 14,
   "id": "402d2e24-245f-4953-a0f0-6547e10ff7f1",
   "metadata": {},
   "outputs": [
    {
     "data": {
      "text/plain": [
       "0.045351473922902494"
      ]
     },
     "execution_count": 14,
     "metadata": {},
     "output_type": "execute_result"
    }
   ],
   "source": [
    "convert.eta_from_q(20)"
   ]
  },
  {
   "cell_type": "code",
   "execution_count": 42,
   "id": "c2035d55-58af-4ebc-9efc-1a2ef7fe6041",
   "metadata": {},
   "outputs": [],
   "source": [
    "param_bounds = {\n",
    "    'Mc':[4.35, np.inf],\n",
    "    'log_Mc':[np.log(4.35), np.inf],\n",
    "    'eta':[0.0454, 0.25],\n",
    "    'DL':[1, np.inf],\n",
    "    'log_DL':[0, np.inf],\n",
    "    'iota':[0, np.pi],\n",
    "    'tc':[-np.inf, np.inf],\n",
    "    'phic':[-np.pi, np.pi],\n",
    "    'ra':[0, 2*np.pi],\n",
    "    'dec':[-np.pi/2, np.pi/2],\n",
    "    'psi':[0, 2*np.pi]\n",
    "}"
   ]
  },
  {
   "cell_type": "markdown",
   "id": "b78629ff-fbd1-4a24-8256-c178043e5f5f",
   "metadata": {
    "jp-MarkdownHeadingCollapsed": true
   },
   "source": [
    "### Create posteriors using injected values as mean"
   ]
  },
  {
   "cell_type": "code",
   "execution_count": 17,
   "id": "c0c4bcf1-8912-4cc1-be1e-be3eacc1769f",
   "metadata": {
    "scrolled": true
   },
   "outputs": [
    {
     "name": "stderr",
     "output_type": "stream",
     "text": [
      "100%|████████████████████████████████████████████████████████████████████████████████████████████████████████████████| 1500/1500 [05:36<00:00,  4.46it/s]\n"
     ]
    }
   ],
   "source": [
    "import logging\n",
    "logging.getLogger('bilby').setLevel(logging.ERROR)\n",
    "n_samples = 5000\n",
    "n_events = len(fm_results['new_cov'])\n",
    "\n",
    "posterior_samples_all_events = {}\n",
    "\n",
    "for event in tqdm(range(n_events)):\n",
    "    mu = [fm_results['inj_params'][param][event] for param in fm_results['new_deriv_variables_in_order']]\n",
    "    cov = fm_results['new_cov'][event]  # the covariance matrix\n",
    "    mvg = MultivariateGaussianDist(fm_results['new_deriv_variables_in_order'], mus=mu, covs=cov, \n",
    "                                   bounds=[param_bounds[param] for param in fm_results['new_deriv_variables_in_order']])\n",
    "    posterior_dists_i = dict()\n",
    "    posterior_samples_i = {}\n",
    "    for param in ['Mc', 'eta', 'DL']:\n",
    "        posterior_dists_i[param] = MultivariateGaussian(mvg, param)\n",
    "        posterior_samples_i[param] = posterior_dists_i[param].sample(n_samples)\n",
    "    posterior_samples_all_events[f'event_{event}'] = posterior_samples_i"
   ]
  },
  {
   "cell_type": "markdown",
   "id": "d83e24c4-e7aa-4682-86af-1ca5bcf1e142",
   "metadata": {},
   "source": [
    "### Create posterior using jittered mean values for each parameter"
   ]
  },
  {
   "cell_type": "markdown",
   "id": "8817265b-ba9d-4f75-889b-c4f1461d1ab5",
   "metadata": {},
   "source": [
    "In order to induce noise in the posterior, the following steps are followed:\n",
    "1. Multivariate gaussian (MVG) is created taking true value as mean\n",
    "2. One random sample is drawn for each parameter from the MVG. This sample becomes the new mean mimicking the effect of gaussian noise.\n",
    "3. New gaussian is created taking the above value as the new mean"
   ]
  },
  {
   "cell_type": "markdown",
   "id": "cdfb85b6-d3d6-4688-9021-d67a7da250a8",
   "metadata": {
    "jp-MarkdownHeadingCollapsed": true
   },
   "source": [
    "#### Using transformed cov matrices"
   ]
  },
  {
   "cell_type": "code",
   "execution_count": 36,
   "id": "efd733aa-4c77-4912-a85b-29559d1eba4e",
   "metadata": {
    "scrolled": true
   },
   "outputs": [
    {
     "name": "stderr",
     "output_type": "stream",
     "text": [
      "100%|███████████████████████████████████████████████████████████████████████████████████████████████████████████████| 1500/1500 [00:01<00:00, 751.84it/s]\n"
     ]
    }
   ],
   "source": [
    "import logging\n",
    "logging.getLogger('bilby').setLevel(logging.ERROR)\n",
    "n_events = len(fm_results['new_cov'])\n",
    "fm_results['new_mean_vals'] = {}\n",
    "for event in tqdm(range(n_events)):\n",
    "    mu = [fm_results['inj_params'][param][event] for param in fm_results['new_deriv_variables_in_order']]\n",
    "    cov = fm_results['new_cov'][event]  # the covariance matrix\n",
    "    mvg = MultivariateGaussianDist(fm_results['new_deriv_variables_in_order'], mus=mu, covs=cov, \n",
    "                                   bounds=[param_bounds[param] for param in fm_results['new_deriv_variables_in_order']])\n",
    "    new_mean_vals = dict()\n",
    "    for param in fm_results['new_deriv_variables_in_order']:\n",
    "        new_mean_vals[param] = MultivariateGaussian(mvg, param).sample()\n",
    "    fm_results['new_mean_vals'][f'event_{event}'] = new_mean_vals"
   ]
  },
  {
   "cell_type": "code",
   "execution_count": 37,
   "id": "449b62bf-6212-40dd-b685-b89a846cbb25",
   "metadata": {},
   "outputs": [
    {
     "name": "stderr",
     "output_type": "stream",
     "text": [
      "100%|████████████████████████████████████████████████████████████████████████████████████████████████████████████████| 1500/1500 [05:26<00:00,  4.60it/s]\n"
     ]
    }
   ],
   "source": [
    "n_samples = 5000\n",
    "n_events = len(fm_results['new_cov'])\n",
    "\n",
    "posterior_samples_all_events = {}\n",
    "\n",
    "for event in tqdm(range(n_events)):\n",
    "    mu = [fm_results['new_mean_vals'][f'event_{event}'][param] for param in fm_results['new_deriv_variables_in_order']]\n",
    "    cov = fm_results['new_cov'][event]  # the covariance matrix\n",
    "    mvg = MultivariateGaussianDist(fm_results['new_deriv_variables_in_order'], mus=mu, covs=cov, \n",
    "                                   bounds=[param_bounds[param] for param in fm_results['new_deriv_variables_in_order']])\n",
    "    posterior_dists_i = dict()\n",
    "    posterior_samples_i = {}\n",
    "    for param in ['Mc', 'eta', 'DL']:\n",
    "        posterior_dists_i[param] = MultivariateGaussian(mvg, param)\n",
    "        posterior_samples_i[param] = posterior_dists_i[param].sample(n_samples)\n",
    "    posterior_samples_all_events[f'event_{event}'] = posterior_samples_i"
   ]
  },
  {
   "cell_type": "markdown",
   "id": "f275ee31-8609-45b2-a6b9-4a2ccd2cf48a",
   "metadata": {},
   "source": [
    "#### Using un-transformed cov matrices"
   ]
  },
  {
   "cell_type": "code",
   "execution_count": 43,
   "id": "bd18c1ed-e077-45cc-9c6d-77026042451f",
   "metadata": {},
   "outputs": [
    {
     "data": {
      "text/plain": [
       "dict_keys(['all_inj_params_original', 'cov', 'deriv_variables_in_order', 'errs', 'inj_params'])"
      ]
     },
     "execution_count": 43,
     "metadata": {},
     "output_type": "execute_result"
    }
   ],
   "source": [
    "fm_results.keys()"
   ]
  },
  {
   "cell_type": "code",
   "execution_count": 44,
   "id": "ca5a8345-795a-4805-9338-1bcfe328b8c5",
   "metadata": {},
   "outputs": [
    {
     "data": {
      "text/plain": [
       "Index(['DL', 'Mc', 'chi1x', 'chi1y', 'chi1z', 'chi2x', 'chi2y', 'chi2z', 'dec',\n",
       "       'eta', 'iota', 'phic', 'psi', 'ra', 'tc', 'z'],\n",
       "      dtype='object')"
      ]
     },
     "execution_count": 44,
     "metadata": {},
     "output_type": "execute_result"
    }
   ],
   "source": [
    "fm_results['inj_params'].keys()"
   ]
  },
  {
   "cell_type": "code",
   "execution_count": 45,
   "id": "7a2267b5-9c71-406f-99b0-fafb392e91a5",
   "metadata": {},
   "outputs": [],
   "source": [
    "fm_results['inj_params']['log_Mc'] = np.log(fm_results['inj_params']['Mc'])\n",
    "fm_results['inj_params']['log_DL'] = np.log(fm_results['inj_params']['DL'])"
   ]
  },
  {
   "cell_type": "code",
   "execution_count": 46,
   "id": "af9ac847-4ded-45f5-ba11-15ae9208bdd9",
   "metadata": {
    "scrolled": true
   },
   "outputs": [
    {
     "name": "stderr",
     "output_type": "stream",
     "text": [
      "100%|██████████████████████████████████████████████████████████████████████████████████████████████████████████████████████████████████████████████████████████████████████████████████████████████████████████████████████████████████████████████████████████████████████████████| 1500/1500 [00:01<00:00, 1103.52it/s]\n"
     ]
    }
   ],
   "source": [
    "import logging\n",
    "logging.getLogger('bilby').setLevel(logging.ERROR)\n",
    "n_events = len(fm_results['cov'])\n",
    "fm_results['new_mean_vals'] = {}\n",
    "for event in tqdm(range(n_events)):\n",
    "    mu = [fm_results['inj_params'][param][event] for param in fm_results['deriv_variables_in_order']]\n",
    "    cov = fm_results['cov'][event]  # the covariance matrix\n",
    "    mvg = MultivariateGaussianDist(fm_results['deriv_variables_in_order'], mus=mu, covs=cov, \n",
    "                                   bounds=[param_bounds[param] for param in fm_results['deriv_variables_in_order']])\n",
    "    new_mean_vals = dict()\n",
    "    for param in fm_results['deriv_variables_in_order']:\n",
    "        new_mean_vals[param] = MultivariateGaussian(mvg, param).sample()\n",
    "    fm_results['new_mean_vals'][f'event_{event}'] = new_mean_vals"
   ]
  },
  {
   "cell_type": "code",
   "execution_count": 47,
   "id": "05e0f785-fb99-4ea3-a748-859392f27d13",
   "metadata": {},
   "outputs": [
    {
     "name": "stderr",
     "output_type": "stream",
     "text": [
      "100%|████████████████████████████████████████████████████████████████████████████████████████████████████████████████████████████████████████████████████████████████████████████████████████████████████████████████████████████████████████████████████████████████████████████████| 1500/1500 [05:00<00:00,  4.99it/s]\n"
     ]
    }
   ],
   "source": [
    "n_samples = 5000\n",
    "n_events = len(fm_results['cov'])\n",
    "\n",
    "posterior_samples_all_events = {}\n",
    "\n",
    "for event in tqdm(range(n_events)):\n",
    "    mu = [fm_results['new_mean_vals'][f'event_{event}'][param] for param in fm_results['deriv_variables_in_order']]\n",
    "    cov = fm_results['cov'][event]  # the covariance matrix\n",
    "    mvg = MultivariateGaussianDist(fm_results['deriv_variables_in_order'], mus=mu, covs=cov, \n",
    "                                   bounds=[param_bounds[param] for param in fm_results['deriv_variables_in_order']])\n",
    "    posterior_dists_i = dict()\n",
    "    posterior_samples_i = {}\n",
    "    for param in ['log_Mc', 'eta', 'log_DL']:\n",
    "        posterior_dists_i[param] = MultivariateGaussian(mvg, param)\n",
    "        posterior_samples_i[param] = posterior_dists_i[param].sample(n_samples)\n",
    "    posterior_samples_all_events[f'event_{event}'] = posterior_samples_i"
   ]
  },
  {
   "cell_type": "markdown",
   "id": "ca7297c7-c202-44cb-a7af-3c8ecc45ff18",
   "metadata": {},
   "source": [
    "##### Add Mc and DL from log_Mc and log_DL"
   ]
  },
  {
   "cell_type": "code",
   "execution_count": 49,
   "id": "9c5e23d7-3a66-432a-ac29-1004cfae42a4",
   "metadata": {},
   "outputs": [],
   "source": [
    "for event in posterior_samples_all_events.keys():\n",
    "    posterior_samples_all_events[event]['Mc'] = np.exp(posterior_samples_all_events[event]['log_Mc'])\n",
    "    posterior_samples_all_events[event]['DL'] = np.exp(posterior_samples_all_events[event]['log_DL'])"
   ]
  },
  {
   "cell_type": "markdown",
   "id": "ce844de8-e1cb-46d5-98a5-85c8b4c9703d",
   "metadata": {},
   "source": [
    "### Add m1, m2, q, z"
   ]
  },
  {
   "cell_type": "code",
   "execution_count": 50,
   "id": "34309849-d395-45f5-a94d-5da93a3d39c2",
   "metadata": {},
   "outputs": [],
   "source": [
    "for event in posterior_samples_all_events.keys():\n",
    "    Mc = posterior_samples_all_events[event]['Mc']\n",
    "    eta = posterior_samples_all_events[event]['eta']\n",
    "    DL = posterior_samples_all_events[event]['DL']\n",
    "    posterior_samples_all_events[event]['m1'] = convert.mass1_from_mchirp_eta(Mc, eta)\n",
    "    posterior_samples_all_events[event]['m2'] = convert.mass2_from_mchirp_eta(Mc, eta)\n",
    "    posterior_samples_all_events[event]['q_inv'] = convert.q_from_mass1_mass2(posterior_samples_all_events[event]['m1'],\n",
    "                                                                              posterior_samples_all_events[event]['m2'])\n",
    "    posterior_samples_all_events[event]['q'] = 1/posterior_samples_all_events[event]['q_inv']\n",
    "    posterior_samples_all_events[event]['z'] = pycbc.cosmology.redshift(DL, cosmology='Planck18')"
   ]
  },
  {
   "cell_type": "markdown",
   "id": "6a1f0797-3db6-48fd-99f3-74fe650bc63c",
   "metadata": {},
   "source": [
    "### Convert to bilby parameter names"
   ]
  },
  {
   "cell_type": "code",
   "execution_count": 51,
   "id": "f426b483-b8bb-491b-82f3-4320bb2395d6",
   "metadata": {},
   "outputs": [
    {
     "data": {
      "text/plain": [
       "dict_keys(['log_Mc', 'eta', 'log_DL', 'Mc', 'DL', 'm1', 'm2', 'q_inv', 'q', 'z'])"
      ]
     },
     "execution_count": 51,
     "metadata": {},
     "output_type": "execute_result"
    }
   ],
   "source": [
    "posterior_samples_all_events['event_0'].keys()"
   ]
  },
  {
   "cell_type": "code",
   "execution_count": 54,
   "id": "6a230013-118e-4c86-85d1-4d09bcde6eca",
   "metadata": {},
   "outputs": [],
   "source": [
    "gwbench_to_bilby_name_map = {\n",
    "    'Mc':'chirp_mass',\n",
    "    'log_Mc':'log_chirp_mass',\n",
    "    'eta':'symmetric_mass_ratio',\n",
    "    'DL':'luminosity_distance',\n",
    "    'log_DL':'log_luminosity_distance',\n",
    "    'm1':'mass_1',\n",
    "    'm2':'mass_2',\n",
    "    'q_inv': 'inverted_mass_ratio',\n",
    "    'z': 'redshift',\n",
    "    'q': 'mass_ratio'\n",
    "}"
   ]
  },
  {
   "cell_type": "code",
   "execution_count": 55,
   "id": "4c33bc4d-c174-42ac-a9ba-ca6184155835",
   "metadata": {},
   "outputs": [],
   "source": [
    "pos_samples_bilby_names = {}\n",
    "for event in posterior_samples_all_events.keys():\n",
    "    pos_samples_bilby_names[event] = {}\n",
    "    for param in posterior_samples_all_events[event].keys():\n",
    "        pos_samples_bilby_names[event][gwbench_to_bilby_name_map[param]] = posterior_samples_all_events[event][param]"
   ]
  },
  {
   "cell_type": "markdown",
   "id": "ce5bca86-568d-4a97-ad12-8a97b1b770b2",
   "metadata": {},
   "source": [
    "#### Add source frame parameters"
   ]
  },
  {
   "cell_type": "code",
   "execution_count": 56,
   "id": "568e17b2-dbbf-4398-9e9a-cb2cce09acc2",
   "metadata": {},
   "outputs": [],
   "source": [
    "for event in pos_samples_bilby_names.keys():\n",
    "    for param in ['mass_1', 'mass_2', 'chirp_mass']:\n",
    "        pos_samples_bilby_names[event][param+'_source'] = pos_samples_bilby_names[event][param]/(1 + pos_samples_bilby_names[event]['redshift'])"
   ]
  },
  {
   "cell_type": "code",
   "execution_count": 57,
   "id": "2dfa7923-e870-4d2e-b031-1bff7d3f2233",
   "metadata": {},
   "outputs": [
    {
     "data": {
      "text/plain": [
       "dict_keys(['log_chirp_mass', 'symmetric_mass_ratio', 'log_luminosity_distance', 'chirp_mass', 'luminosity_distance', 'mass_1', 'mass_2', 'inverted_mass_ratio', 'mass_ratio', 'redshift', 'mass_1_source', 'mass_2_source', 'chirp_mass_source'])"
      ]
     },
     "execution_count": 57,
     "metadata": {},
     "output_type": "execute_result"
    }
   ],
   "source": [
    "pos_samples_bilby_names['event_0'].keys()"
   ]
  },
  {
   "cell_type": "markdown",
   "id": "1a4b5d9a-f0f9-49c7-92b0-abacc3854007",
   "metadata": {},
   "source": [
    "## Considering only redshift posterior for gwpop analysis"
   ]
  },
  {
   "cell_type": "markdown",
   "id": "ffe42ad9-f0d2-4010-aabb-1ef7f2bbae1c",
   "metadata": {},
   "source": [
    "### Create prior on redshift"
   ]
  },
  {
   "cell_type": "markdown",
   "id": "0d2ff56b-f000-4e82-bb5a-71803f738ecd",
   "metadata": {},
   "source": [
    "Since the posteriors were drawn from a Multivariate Gaussian created on $\\mathcal{M}_c$, $eta$, and $D_L$, the priors are uniform on these parameters.\n",
    "\n",
    "Hence,\n",
    "\n",
    "$p(z) = p(D_L) \\left| \\frac{dD_L(z)}{dz} \\right| \\propto \\left| \\frac{dD_L(z)}{dz} \\right|$\n",
    "\n",
    "since $p(D_L) = const$"
   ]
  },
  {
   "cell_type": "code",
   "execution_count": 58,
   "id": "941b4e8d-2eb0-4984-bbb1-28391f62f193",
   "metadata": {},
   "outputs": [],
   "source": [
    "def calc_dDL_dz(DL_arr, z_arr):\n",
    "    \"\"\"\n",
    "    Parameters: \n",
    "    ----------------------\n",
    "    z_arr: numpy array\n",
    "        redshift value\n",
    "    DL_arr: numpy array\n",
    "        Luminosity distance (Mpc)\n",
    "\n",
    "    Returns:\n",
    "    --------------------------\n",
    "    dDL_dz : scipy.interpolate.UnivariateSpline\n",
    "        Derivative spline giving dDL/dz\n",
    "    \"\"\"\n",
    "    \n",
    "    sort_idx = np.argsort(DL_arr)\n",
    "    DL_sorted = DL_arr[sort_idx]\n",
    "    z_sorted = z_arr[sort_idx]\n",
    "    \n",
    "    fDL = UnivariateSpline(z_sorted, DL_sorted, s=0)\n",
    "    dfDL_dz = fDL.derivative()\n",
    "    return(dfDL_dz)"
   ]
  },
  {
   "cell_type": "code",
   "execution_count": 59,
   "id": "dd9a9172-5600-43d1-b1c0-80e45bcf3bd2",
   "metadata": {},
   "outputs": [
    {
     "name": "stdout",
     "output_type": "stream",
     "text": [
      "z_max = 11.979426122089338\n"
     ]
    }
   ],
   "source": [
    "DL_grid = np.linspace(1, 13e4, 10000)\n",
    "z_grid = pycbc.cosmology.redshift(DL_grid, cosmology='Planck18')\n",
    "print('z_max =', z_grid.max())\n",
    "dDL_dz_interp = calc_dDL_dz(DL_grid, z_grid)"
   ]
  },
  {
   "cell_type": "code",
   "execution_count": 60,
   "id": "0da06ffd-898f-4bef-b1b4-41fcd02bfff3",
   "metadata": {},
   "outputs": [],
   "source": [
    "posteriors_z_list = []\n",
    "for event in pos_samples_bilby_names:\n",
    "    zi = pos_samples_bilby_names[event]['redshift']\n",
    "    prior_zi = dDL_dz_interp(zi)\n",
    "    #prior_zi_normalized = prior_zi/np.trapz(prior_zi, zi)\n",
    "    prior_zi_normalized = prior_zi/np.sum(prior_zi)\n",
    "    event_i = {'redshift': zi,\n",
    "               'prior': prior_zi_normalized}\n",
    "    posteriors_z_list.append(pd.DataFrame(event_i))"
   ]
  },
  {
   "cell_type": "markdown",
   "id": "c915fafc-f7d9-4e0b-a531-b05e014f868d",
   "metadata": {},
   "source": [
    "### Save to pickle file"
   ]
  },
  {
   "cell_type": "code",
   "execution_count": 61,
   "id": "c47d3a82-f312-44ae-8dff-8c81f861e113",
   "metadata": {},
   "outputs": [],
   "source": [
    "# commented out to avoid accidental overwriting\n",
    "pd.to_pickle(posteriors_z_list, os.path.join(base_dir, 'gwpopulation', 'BBH', \n",
    "                        'CE4020ET123_CoBA10_2_PLP_z_MD_zmax_10_lmrd_22_no_spins_set2_z_posteriors_original_cov_1500_events.pkl'))"
   ]
  },
  {
   "cell_type": "markdown",
   "id": "9c9c91f1-a62a-48cf-ad21-91cc87012cfd",
   "metadata": {
    "jp-MarkdownHeadingCollapsed": true
   },
   "source": [
    "## Plot posteriors for redshift"
   ]
  },
  {
   "cell_type": "code",
   "execution_count": 41,
   "id": "3eb36f49-7551-4a02-a29a-6cf29fc18a43",
   "metadata": {},
   "outputs": [
    {
     "name": "stderr",
     "output_type": "stream",
     "text": [
      "100%|██████████████████████████████████████████████████████████████████████████████████████████████████████████████████████████████████████████████████████████████████████████████████████████████████████████████████████████████████████████████████████████████████████████████████| 499/499 [00:13<00:00, 37.18it/s]\n"
     ]
    },
    {
     "data": {
      "text/plain": [
       "(0.0, 7.840914998983969)"
      ]
     },
     "execution_count": 41,
     "metadata": {},
     "output_type": "execute_result"
    },
    {
     "data": {
      "image/png": "[encoded data removed]",
      "text/plain": [
       "<Figure size 640x480 with 1 Axes>"
      ]
     },
     "metadata": {},
     "output_type": "display_data"
    }
   ],
   "source": [
    "import seaborn as sns\n",
    "warnings.filterwarnings(\n",
    "    \"ignore\",\n",
    "    message=\".*use_inf_as_na option is deprecated.*\",\n",
    "    category=FutureWarning\n",
    ")\n",
    "\n",
    "for event in tqdm(list(posterior_samples_all_events.keys())):\n",
    "    sns.kdeplot(posterior_samples_all_events[event]['z'], color='grey')\n",
    "plt.xlim(0,)"
   ]
  },
  {
   "cell_type": "code",
   "execution_count": null,
   "id": "e8039158-fe87-4357-bbfe-84b736be9a14",
   "metadata": {},
   "outputs": [],
   "source": []
  },
  {
   "cell_type": "code",
   "execution_count": null,
   "id": "a398ed51-c682-4c56-b9fe-8297d4a48131",
   "metadata": {},
   "outputs": [],
   "source": []
  },
  {
   "cell_type": "code",
   "execution_count": null,
   "id": "ef778f41-bee5-471d-acd2-3a112fad1519",
   "metadata": {},
   "outputs": [],
   "source": []
  },
  {
   "cell_type": "markdown",
   "id": "2217c32c-3644-4233-b0d0-a95cb2aabc9a",
   "metadata": {
    "jp-MarkdownHeadingCollapsed": true
   },
   "source": [
    "## Convert DL errors to z"
   ]
  },
  {
   "cell_type": "code",
   "execution_count": 35,
   "id": "6ed2bd6e-f67e-47f9-b95e-a94e4d08ad96",
   "metadata": {},
   "outputs": [],
   "source": [
    "def calc_dz_dDL(z_arr, DL_arr):\n",
    "    \"\"\"\n",
    "    Parameters: \n",
    "    ----------------------\n",
    "    z_arr: numpy array\n",
    "        redshift value\n",
    "    DL_arr: numpy array\n",
    "        Luminosity distance (Mpc)\n",
    "\n",
    "    Returns:\n",
    "    --------------------------\n",
    "    delta_z_arr: dz_dDL : scipy.interpolate.UnivariateSpline\n",
    "        Derivative spline giving dz/dDL\n",
    "    \"\"\"\n",
    "    \n",
    "    sort_idx = np.argsort(DL_arr)\n",
    "    DL_sorted = DL_arr[sort_idx]\n",
    "    z_sorted = z_arr[sort_idx]\n",
    "    \n",
    "    fz = UnivariateSpline(DL_sorted, z_sorted)\n",
    "    dfz_dDL = fz.derivative()\n",
    "    return(dfz_dDL)"
   ]
  },
  {
   "cell_type": "code",
   "execution_count": 15,
   "id": "be6abc5e-d4d0-48e1-9fa0-8954a64e2f45",
   "metadata": {},
   "outputs": [],
   "source": [
    "def get_delta_z_from_delta_DL(z_arr, DL_arr, delta_DL_arr):\n",
    "    \"\"\"\n",
    "    Parameters: \n",
    "    ----------------------\n",
    "    z_arr: numpy array\n",
    "        redshift value\n",
    "    DL_arr: numpy array\n",
    "        Luminosity distance (Mpc)\n",
    "    delta_DL_arr: numpy array\n",
    "        error on DL\n",
    "\n",
    "    Returns:\n",
    "    --------------------------\n",
    "    delta_z_arr: numpy array\n",
    "        error on z\n",
    "    \"\"\"\n",
    "    \n",
    "    dfz_dDL = calc_dz_dDL(z_arr, DL_arr)\n",
    "    delta_z = dfz_dDL(DL_arr) * delta_DL_arr\n",
    "    return(delta_z)"
   ]
  },
  {
   "cell_type": "code",
   "execution_count": 16,
   "id": "d2ae025d-c905-4a75-b0c3-9544d80a92f9",
   "metadata": {},
   "outputs": [],
   "source": [
    "fm_results['errs']['z'] = get_delta_z_from_delta_DL(fm_results['inj_params']['z'], \n",
    "                                                    fm_results['inj_params']['DL'], \n",
    "                                                    fm_results['errs']['DL'])"
   ]
  },
  {
   "cell_type": "code",
   "execution_count": 17,
   "id": "94cc850c-7da3-494d-976b-0878e4a8f4db",
   "metadata": {},
   "outputs": [],
   "source": [
    "fm_results['errs']['log_z'] = fm_results['errs']['z']/fm_results['inj_params']['z']"
   ]
  },
  {
   "cell_type": "code",
   "execution_count": 18,
   "id": "96b2005a-379c-479d-aeb4-4e4d799ca54a",
   "metadata": {},
   "outputs": [],
   "source": [
    "def transform_cov_logDL_logMc_to_z_Mc(cov, DL, dz_dDL, logDL_index, Mc, logMc_index):\n",
    "    \"\"\"\n",
    "    Transforms a covariance matrix where:\n",
    "    - log_DL is replaced with redshift using dz/dDL spline\n",
    "    - log_Mc is replaced with M_c using exp transformation\n",
    "\n",
    "    Parameters:\n",
    "    -----------\n",
    "    cov : np.ndarray\n",
    "        Original NxN covariance matrix including log_DL and log_Mc.\n",
    "    DL : float\n",
    "        True or mean value of DL (Mpc).\n",
    "    dz_dDL : scipy.interpolate.UnivariateSpline\n",
    "        Derivative spline giving dz/dDL\n",
    "    logDL_index : int\n",
    "        Index of log_DL in the covariance matrix.\n",
    "    Mc : float\n",
    "        True or mean value of chirp mass.\n",
    "    logMc_index : int\n",
    "        Index of log_Mc in the covariance matrix.\n",
    "\n",
    "    Returns:\n",
    "    --------\n",
    "    cov_new : np.ndarray\n",
    "        Transformed covariance matrix with redshift and M_c replacing log_DL and log_Mc.\n",
    "    \"\"\"\n",
    "    \n",
    "    dz_dlogDL = dz_dDL(DL) * DL  # chain rule: dz/dlogDL = dz/dDL * DL\n",
    "    dMc_dlogMc = Mc              # derivative of exp(log_Mc) is Mc\n",
    "\n",
    "    # Build Jacobian matrix\n",
    "    N = cov.shape[0]\n",
    "    J = np.eye(N)\n",
    "    J[logDL_index, logDL_index] = dz_dlogDL\n",
    "    J[logMc_index, logMc_index] = dMc_dlogMc\n",
    "\n",
    "    # Transform covariance\n",
    "    cov_new = J @ cov @ J.T\n",
    "    return cov_new"
   ]
  },
  {
   "cell_type": "code",
   "execution_count": null,
   "id": "4f539090-0691-43f1-91e6-72bd7403f35f",
   "metadata": {},
   "outputs": [],
   "source": []
  },
  {
   "cell_type": "code",
   "execution_count": null,
   "id": "cc6e074f-b0f2-4ac1-822b-5753632dbe77",
   "metadata": {},
   "outputs": [],
   "source": []
  },
  {
   "cell_type": "code",
   "execution_count": null,
   "id": "396c0d44-ca4e-4d25-875f-7d8341d96397",
   "metadata": {},
   "outputs": [],
   "source": []
  },
  {
   "cell_type": "code",
   "execution_count": null,
   "id": "599914ca-3923-41fa-a8e2-c4fa5a4abbd0",
   "metadata": {},
   "outputs": [],
   "source": []
  },
  {
   "cell_type": "code",
   "execution_count": null,
   "id": "16198e63-f3c7-4053-978f-98309e7799be",
   "metadata": {},
   "outputs": [],
   "source": []
  },
  {
   "cell_type": "code",
   "execution_count": null,
   "id": "11cba92c-19df-4056-9ebc-728a5081d49b",
   "metadata": {},
   "outputs": [],
   "source": []
  },
  {
   "cell_type": "markdown",
   "id": "fb98cb7a-382e-4a62-8960-7a147fbc3159",
   "metadata": {
    "jp-MarkdownHeadingCollapsed": true
   },
   "source": [
    "## Others"
   ]
  },
  {
   "cell_type": "code",
   "execution_count": 31,
   "id": "06ec18ca-60ea-4612-bebe-423d24cf2e46",
   "metadata": {},
   "outputs": [],
   "source": [
    "def transform_cov_Mc_det_to_src(cov, Mc_index, z_index, Mc_det_val, z_val):\n",
    "    \"\"\"\n",
    "    Transforms the covariance matrix from detector-frame Mc to source-frame Mc.\n",
    "\n",
    "    Parameters:\n",
    "    -----------\n",
    "    cov : np.ndarray\n",
    "        NxN covariance matrix including Mc (det-frame) and z.\n",
    "    Mc_index : int\n",
    "        Index of detector-frame Mc in the covariance matrix.\n",
    "    z_index : int\n",
    "        Index of redshift in the covariance matrix.\n",
    "    Mc_det_val : float\n",
    "        Detector-frame chirp mass.\n",
    "    z_val : float\n",
    "        Redshift at which to evaluate the Jacobian.\n",
    "\n",
    "    Returns:\n",
    "    --------\n",
    "    cov_new : np.ndarray\n",
    "        Transformed covariance matrix with Mc_src instead of Mc_det.\n",
    "    \"\"\"\n",
    "\n",
    "    N = cov.shape[0]\n",
    "    J = np.eye(N)\n",
    "\n",
    "    # Partial derivatives\n",
    "    dMcsrc_dMcdet = 1 / (1 + z_val)\n",
    "    dMcsrc_dz = -Mc_det_val / (1 + z_val)**2\n",
    "\n",
    "    # Modify the Jacobian\n",
    "    J[Mc_index, Mc_index] = dMcsrc_dMcdet\n",
    "    J[Mc_index, z_index] = dMcsrc_dz\n",
    "\n",
    "    # Apply Jacobian transformation\n",
    "    cov_new = J @ cov @ J.T\n",
    "    return cov_new"
   ]
  },
  {
   "cell_type": "code",
   "execution_count": 32,
   "id": "c8c191c9-a518-4819-ac17-fc1e7657d9c6",
   "metadata": {},
   "outputs": [],
   "source": [
    "failed['new_cov_src_Mc'] = []\n",
    "for event in range(499):\n",
    "    new_cov = fm_results['new_cov'][event]\n",
    "    new_cov_src_mc = transform_cov_Mc_det_to_src(new_cov, \n",
    "                                                 fm_results['new_deriv_variables_in_order'].index('Mc'), \n",
    "                                                 fm_results['new_deriv_variables_in_order'].index('z'),\n",
    "                                                 fm_results['inj_params']['Mc'][event],\n",
    "                                                 fm_results['inj_params']['z'][event])\n",
    "    try:\n",
    "        np.linalg.cholesky(new_cov_src_mc)\n",
    "    except np.linalg.LinAlgError:\n",
    "        failed['new_cov_src_Mc'].append(event)"
   ]
  },
  {
   "cell_type": "code",
   "execution_count": 34,
   "id": "2da35192-9a0d-4c73-b501-f0c14a1e3065",
   "metadata": {},
   "outputs": [
    {
     "data": {
      "text/plain": [
       "67"
      ]
     },
     "execution_count": 34,
     "metadata": {},
     "output_type": "execute_result"
    }
   ],
   "source": [
    "len(list(failed['new_cov_src_Mc']))"
   ]
  },
  {
   "cell_type": "code",
   "execution_count": null,
   "id": "bc66946a-e09a-4841-9309-b5c380e23bb4",
   "metadata": {},
   "outputs": [],
   "source": []
  }
 ],
 "metadata": {
  "kernelspec": {
   "display_name": "spe_ngloc_mygwf_mypycbc",
   "language": "python",
   "name": "spe_ngloc_mygwf_mypycbc"
  },
  "language_info": {
   "codemirror_mode": {
    "name": "ipython",
    "version": 3
   },
   "file_extension": ".py",
   "mimetype": "text/x-python",
   "name": "python",
   "nbconvert_exporter": "python",
   "pygments_lexer": "ipython3",
   "version": "3.11.11"
  }
 },
 "nbformat": 4,
 "nbformat_minor": 5
}
