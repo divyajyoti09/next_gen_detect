{
 "cells": [
  {
   "cell_type": "code",
   "execution_count": 1,
   "id": "5a8d2d3c-36f1-40dc-9b34-304877a6e790",
   "metadata": {},
   "outputs": [
    {
     "name": "stderr",
     "output_type": "stream",
     "text": [
      "PyCBC.libutils: pkg-config call failed, setting NO_PKGCONFIG=1\n"
     ]
    }
   ],
   "source": [
    "import warnings\n",
    "warnings.filterwarnings(\"ignore\", \"Wswiglal-redir-stdio\")\n",
    "import lal\n",
    "import os\n",
    "import h5py\n",
    "import numpy\n",
    "import pandas as pd\n",
    "import pylab as plt\n",
    "from bilby.core.prior import MultivariateGaussian, MultivariateGaussianDist, PriorDict\n",
    "import numpy as np\n",
    "from scipy.interpolate import UnivariateSpline\n",
    "from tqdm import tqdm\n",
    "import pycbc.conversions as convert\n",
    "import bilby\n",
    "import pycbc\n",
    "import seaborn as sns"
   ]
  },
  {
   "cell_type": "markdown",
   "id": "15193af1-429a-40ac-968f-01e179af0370",
   "metadata": {},
   "source": [
    "## Load FM errors"
   ]
  },
  {
   "cell_type": "code",
   "execution_count": 2,
   "id": "642ab046-b797-4bde-b899-300828f27cba",
   "metadata": {},
   "outputs": [],
   "source": [
    "def decode_data(data):\n",
    "    \"\"\"\n",
    "    Decodes byte strings or arrays of byte strings from HDF5.\n",
    "    \"\"\"\n",
    "    if isinstance(data, bytes):\n",
    "        return data.decode('utf-8')\n",
    "    elif isinstance(data, np.ndarray) and data.dtype.kind in {'S', 'O'}:\n",
    "        return [d.decode('utf-8') if isinstance(d, bytes) else d for d in data]\n",
    "    else:\n",
    "        return data\n",
    "\n",
    "def load_from_h5_group(group):\n",
    "    \"\"\"\n",
    "    Recursively loads data from an HDF5 group and reconstructs Python objects.\n",
    "    \"\"\"\n",
    "    result = {}\n",
    "\n",
    "    # Check if this group is an array-style list (all keys are numeric)\n",
    "    keys = list(group.keys())\n",
    "    if all(k.isdigit() for k in keys):\n",
    "        # Treat it as a list, sorted by numeric key\n",
    "        items = []\n",
    "        for key in sorted(keys, key=lambda x: int(x)):\n",
    "            val = group[key]\n",
    "            if isinstance(val, h5py.Group):\n",
    "                items.append(load_from_h5_group(val))\n",
    "            else:\n",
    "                items.append(decode_data(val[()]))\n",
    "        return items\n",
    "\n",
    "    # Otherwise treat as dict\n",
    "    for key in group:\n",
    "        item = group[key]\n",
    "        if isinstance(item, h5py.Group):\n",
    "            result[key] = load_from_h5_group(item)\n",
    "        else:\n",
    "            result[key] = decode_data(item[()])\n",
    "\n",
    "    return result\n",
    "\n",
    "def load_results_from_h5(filename):\n",
    "    \"\"\"\n",
    "    Loads structured data from a universally saved HDF5 file.\n",
    "    \"\"\"\n",
    "    with h5py.File(filename, 'r') as f:\n",
    "        return load_from_h5_group(f)"
   ]
  },
  {
   "cell_type": "code",
   "execution_count": 3,
   "id": "7e770c39-01e3-4e0d-a95d-a626ace194a2",
   "metadata": {},
   "outputs": [],
   "source": [
    "base_dir = '/home/divyajyoti/ACADEMIC/Projects/Cardiff_University/Next_gen_detectability/A-sharp-study/'\n",
    "fm_err_file = os.path.join(base_dir, 'GWBench_analysis', 'BBH', \n",
    "                           'CE4020ET123_CoBA10_2_PLP_z_MD_zmax_10_lmrd_22_no_spins_set3_4344_events_pop_from_XPHM.h5')\n",
    "#fm_err_file = os.path.join(base_dir, 'GWBench_analysis', 'BBH', \n",
    "#                           'LHI_Asharp_1_PLP_z_MD_zmax_6_lmrd_22_no_spins_all_events_365_days_pop_from_XPHM.h5')"
   ]
  },
  {
   "cell_type": "code",
   "execution_count": 4,
   "id": "c6dd2fcf-4714-4186-9770-6f64d3ad4931",
   "metadata": {},
   "outputs": [
    {
     "name": "stdout",
     "output_type": "stream",
     "text": [
      "<KeysViewHDF5 ['SNR_C1', 'SNR_CE20', 'SNR_E1', 'SNR_E2', 'SNR_E3', 'SNR_mf_C1', 'SNR_mf_CE20', 'SNR_mf_E1', 'SNR_mf_E2', 'SNR_mf_E3', 'SNR_mf_from_opt_C1', 'SNR_mf_from_opt_CE20', 'SNR_mf_from_opt_E1', 'SNR_mf_from_opt_E2', 'SNR_mf_from_opt_E3', 'SNR_mf_from_opt_network', 'SNR_mf_network', 'SNR_network', 'chi_1_in_plane', 'chi_2_in_plane', 'chi_eff', 'chi_p', 'coa_phase', 'cos_spin1_polar', 'cos_spin2_polar', 'dec', 'delta_f', 'distance', 'eta', 'f_final', 'f_lower', 'f_ref', 'inclination', 'index', 'mass1', 'mass2', 'mchirp', 'mtotal', 'old_index', 'phi_12', 'phi_jl', 'polarization', 'q', 'ra', 'redshift', 'spin1_a', 'spin1_azimuthal', 'spin1_polar', 'spin1x', 'spin1y', 'spin1z', 'spin2_a', 'spin2_azimuthal', 'spin2_polar', 'spin2x', 'spin2y', 'spin2z', 'srcmass1', 'srcmass2', 'srcmchirp', 'srcmtotal', 'theta_jn', 'time_interval', 'trigger_time']>\n",
      "1.2696113567571978\n"
     ]
    }
   ],
   "source": [
    "with h5py.File(fm_err_file, 'r') as f:\n",
    "    print(f['all_inj_params_original']['0'].keys())\n",
    "    print(f['all_inj_params_original']['0']['q'][()])"
   ]
  },
  {
   "cell_type": "code",
   "execution_count": 5,
   "id": "b5ea7445-2cf9-483b-8663-756ef221d28e",
   "metadata": {},
   "outputs": [],
   "source": [
    "fm_results = load_results_from_h5(fm_err_file)"
   ]
  },
  {
   "cell_type": "code",
   "execution_count": 6,
   "id": "ffad8abb-a4d0-4f27-a447-2546fd14cc44",
   "metadata": {},
   "outputs": [
    {
     "data": {
      "text/plain": [
       "4344"
      ]
     },
     "execution_count": 6,
     "metadata": {},
     "output_type": "execute_result"
    }
   ],
   "source": [
    "num_events = len(fm_results['cov'])\n",
    "num_events"
   ]
  },
  {
   "cell_type": "code",
   "execution_count": 7,
   "id": "8ac435c4-df7e-4c94-8106-7dbc4bfa5487",
   "metadata": {},
   "outputs": [
    {
     "data": {
      "image/png": "[encoded data removed]",
      "text/plain": [
       "<Figure size 640x480 with 1 Axes>"
      ]
     },
     "metadata": {},
     "output_type": "display_data"
    }
   ],
   "source": [
    "plt.hist([i['inv_err'] for i in fm_results['errs']], bins=np.logspace(-18,-10))\n",
    "plt.xscale('log')"
   ]
  },
  {
   "cell_type": "code",
   "execution_count": 8,
   "id": "12be6603-662d-458a-b803-fbc12f2b1b99",
   "metadata": {
    "scrolled": true
   },
   "outputs": [],
   "source": [
    "for key,val in fm_results.items():\n",
    "    if type(val[0]) == dict:\n",
    "        fm_results[key] = pd.DataFrame(fm_results[key])"
   ]
  },
  {
   "cell_type": "code",
   "execution_count": 9,
   "id": "edee7d32-b729-4905-94ce-1d450653c7a9",
   "metadata": {},
   "outputs": [],
   "source": [
    "for key in fm_results['all_inj_params_original'].keys():\n",
    "    if 'PSD' in key or 'approximant' in key:\n",
    "        del fm_results['all_inj_params_original'][key]"
   ]
  },
  {
   "cell_type": "code",
   "execution_count": 10,
   "id": "dd5c51c4-1efd-43fa-9705-546242f144e2",
   "metadata": {},
   "outputs": [],
   "source": [
    "fm_results['errs']['DL'] = fm_results['errs']['log_DL']*fm_results['inj_params']['DL']"
   ]
  },
  {
   "cell_type": "code",
   "execution_count": 11,
   "id": "61ce28a8-6fdb-4eaf-8375-9b25b68a2f69",
   "metadata": {},
   "outputs": [
    {
     "data": {
      "text/plain": [
       "[<matplotlib.lines.Line2D at 0x7fd116c60090>]"
      ]
     },
     "execution_count": 11,
     "metadata": {},
     "output_type": "execute_result"
    },
    {
     "data": {
      "image/png": "[encoded data removed]",
      "text/plain": [
       "<Figure size 640x480 with 1 Axes>"
      ]
     },
     "metadata": {},
     "output_type": "display_data"
    }
   ],
   "source": [
    "mask = (fm_results['all_inj_params_original']['SNR_network'] > 20) & (fm_results['all_inj_params_original']['SNR_network']/fm_results['errs']['snr'] > 1.5)\n",
    "plt.plot(fm_results['all_inj_params_original']['SNR_network'][mask], fm_results['all_inj_params_original']['SNR_network'][mask]/fm_results['errs']['snr'][mask], '.')\n",
    "#plt.axvline(12, color='k')\n",
    "#plt.axhline(1, color='k')"
   ]
  },
  {
   "cell_type": "code",
   "execution_count": 12,
   "id": "5bea0f04-2333-4767-b3ee-45a59fa710c7",
   "metadata": {},
   "outputs": [
    {
     "data": {
      "text/plain": [
       "<matplotlib.colorbar.Colorbar at 0x7fd119995d50>"
      ]
     },
     "execution_count": 12,
     "metadata": {},
     "output_type": "execute_result"
    },
    {
     "data": {
      "image/png": "[encoded data removed]",
      "text/plain": [
       "<Figure size 640x480 with 2 Axes>"
      ]
     },
     "metadata": {},
     "output_type": "display_data"
    }
   ],
   "source": [
    "plt.scatter(fm_results['all_inj_params_original']['chi_eff'][mask], \n",
    "            fm_results['all_inj_params_original']['chi_p'][mask],\n",
    "            c=fm_results['all_inj_params_original']['SNR_network'][mask]/fm_results['errs']['snr'][mask]\n",
    "            )\n",
    "#plt.axvline(12, color='k')\n",
    "#plt.axhline(1, color='k')\n",
    "plt.colorbar()"
   ]
  },
  {
   "cell_type": "markdown",
   "id": "73b6866d-7720-47a1-88cb-29240656391b",
   "metadata": {
    "jp-MarkdownHeadingCollapsed": true
   },
   "source": [
    "## Convert logDL and logMc to DL and Mc"
   ]
  },
  {
   "cell_type": "code",
   "execution_count": 183,
   "id": "98f7da7d-b0c6-4e9f-a805-b5f112893d63",
   "metadata": {},
   "outputs": [],
   "source": [
    "def transform_cov_logDL_logMc_to_DL_Mc(cov, DL, logDL_index, Mc, logMc_index):\n",
    "    \"\"\"\n",
    "    Transforms a covariance matrix where:\n",
    "    - log_DL is replaced with DL using dDL/dlogDL = DL\n",
    "    - log_Mc is replaced with M_c using dMc/dlogMc = Mc\n",
    "\n",
    "    Parameters:\n",
    "    -----------\n",
    "    cov : np.ndarray\n",
    "        Original NxN covariance matrix including log_DL and log_Mc.\n",
    "    DL : float\n",
    "        Mean value of DL (Mpc).\n",
    "    logDL_index : int\n",
    "        Index of log_DL in the covariance matrix.\n",
    "    Mc : float\n",
    "        Mean value of chirp mass (solar masses).\n",
    "    logMc_index : int\n",
    "        Index of log_Mc in the covariance matrix.\n",
    "\n",
    "    Returns:\n",
    "    --------\n",
    "    cov_new : np.ndarray\n",
    "        Transformed covariance matrix with DL and M_c replacing log_DL and log_Mc.\n",
    "    \"\"\"\n",
    "\n",
    "    # Derivatives for Jacobian (from chain rule)\n",
    "    dDL_dlogDL = DL\n",
    "    dMc_dlogMc = Mc\n",
    "\n",
    "    # Build Jacobian matrix\n",
    "    N = cov.shape[0]\n",
    "    J = np.eye(N)\n",
    "    J[logDL_index, logDL_index] = dDL_dlogDL\n",
    "    J[logMc_index, logMc_index] = dMc_dlogMc\n",
    "\n",
    "    # Transform covariance matrix\n",
    "    cov_new = J @ cov @ J.T\n",
    "\n",
    "    return cov_new"
   ]
  },
  {
   "cell_type": "markdown",
   "id": "473227a2-4a2c-4c4f-8a3e-3f392098d5cc",
   "metadata": {
    "jp-MarkdownHeadingCollapsed": true
   },
   "source": [
    "### Convert cov matrices to new cov matrices"
   ]
  },
  {
   "cell_type": "code",
   "execution_count": 184,
   "id": "fcd64cff-375b-4b50-8e67-345e9b3a3813",
   "metadata": {},
   "outputs": [
    {
     "data": {
      "text/plain": [
       "<function __main__.transform_cov_logDL_logMc_to_DL_Mc(cov, DL, logDL_index, Mc, logMc_index)>"
      ]
     },
     "execution_count": 184,
     "metadata": {},
     "output_type": "execute_result"
    }
   ],
   "source": [
    "transform_cov_logDL_logMc_to_DL_Mc"
   ]
  },
  {
   "cell_type": "code",
   "execution_count": 185,
   "id": "461c691a-7478-41e0-a945-626bb32a6463",
   "metadata": {},
   "outputs": [],
   "source": [
    "log_DL_idx = fm_results['deriv_variables_in_order'].index('log_DL')\n",
    "log_Mc_idx = fm_results['deriv_variables_in_order'].index('log_Mc')\n",
    "fm_results['new_cov'] = []\n",
    "for i in range(len(fm_results['cov'])):\n",
    "    new_cov = transform_cov_logDL_logMc_to_DL_Mc(fm_results['cov'][i], \n",
    "                                                 fm_results['inj_params']['DL'][i], \n",
    "                                                 log_DL_idx, \n",
    "                                                 fm_results['inj_params']['Mc'][i],\n",
    "                                                 log_Mc_idx)\n",
    "    fm_results['new_cov'].append(new_cov)\n",
    "fm_results['new_deriv_variables_in_order'] = []\n",
    "\n",
    "for var in fm_results['deriv_variables_in_order']:\n",
    "    if var == 'log_DL':\n",
    "        fm_results['new_deriv_variables_in_order'].append('DL')\n",
    "    elif var == 'log_Mc':\n",
    "        fm_results['new_deriv_variables_in_order'].append('Mc')\n",
    "    else:\n",
    "        fm_results['new_deriv_variables_in_order'].append(var)"
   ]
  },
  {
   "cell_type": "code",
   "execution_count": 186,
   "id": "23ec1a03-3a17-4284-bc39-b59df296eb8a",
   "metadata": {},
   "outputs": [
    {
     "data": {
      "text/plain": [
       "['Mc', 'eta', 'DL', 'iota', 'tc', 'phic', 'ra', 'dec', 'psi']"
      ]
     },
     "execution_count": 186,
     "metadata": {},
     "output_type": "execute_result"
    }
   ],
   "source": [
    "fm_results['new_deriv_variables_in_order']"
   ]
  },
  {
   "cell_type": "markdown",
   "id": "8e9a0716-58cf-4d42-bf7b-5c07dc47ac93",
   "metadata": {},
   "source": [
    "## Create posterior samples"
   ]
  },
  {
   "cell_type": "code",
   "execution_count": 13,
   "id": "09e6f6de-32ee-40b6-b28c-8ac7ea80bd02",
   "metadata": {},
   "outputs": [
    {
     "data": {
      "text/plain": [
       "['log_Mc', 'eta', 'log_DL', 'iota', 'tc', 'phic', 'ra', 'dec', 'psi']"
      ]
     },
     "execution_count": 13,
     "metadata": {},
     "output_type": "execute_result"
    }
   ],
   "source": [
    "fm_results['deriv_variables_in_order']"
   ]
  },
  {
   "cell_type": "code",
   "execution_count": 14,
   "id": "402d2e24-245f-4953-a0f0-6547e10ff7f1",
   "metadata": {},
   "outputs": [
    {
     "data": {
      "text/plain": [
       "0.045351473922902494"
      ]
     },
     "execution_count": 14,
     "metadata": {},
     "output_type": "execute_result"
    }
   ],
   "source": [
    "convert.eta_from_q(20)"
   ]
  },
  {
   "cell_type": "code",
   "execution_count": 15,
   "id": "c2035d55-58af-4ebc-9efc-1a2ef7fe6041",
   "metadata": {},
   "outputs": [],
   "source": [
    "param_bounds = {\n",
    "    'Mc':[4.35, np.inf],\n",
    "    'log_Mc':[np.log(4.35), np.inf],\n",
    "    'eta':[0.0454, 0.25],\n",
    "    'DL':[1, np.inf],\n",
    "    'log_DL':[0, np.inf],\n",
    "    'iota':[0, np.pi],\n",
    "    'tc':[-np.inf, np.inf],\n",
    "    'ra':[0, 2*np.pi],\n",
    "    'dec':[-np.pi/2, np.pi/2],\n",
    "    'psi':[0, 2*np.pi]\n",
    "}\n",
    "\n",
    "if max(fm_results['inj_params']['phic']) > np.pi:\n",
    "    param_bounds['phic'] = [0, 2*np.pi]\n",
    "else:    \n",
    "    param_bounds['phic'] = [-np.pi, np.pi]"
   ]
  },
  {
   "cell_type": "code",
   "execution_count": 16,
   "id": "ae64f471-1e90-4bbd-81c3-90a868102c52",
   "metadata": {},
   "outputs": [
    {
     "data": {
      "text/plain": [
       "{'Mc': [4.35, inf],\n",
       " 'log_Mc': [1.4701758451005926, inf],\n",
       " 'eta': [0.0454, 0.25],\n",
       " 'DL': [1, inf],\n",
       " 'log_DL': [0, inf],\n",
       " 'iota': [0, 3.141592653589793],\n",
       " 'tc': [-inf, inf],\n",
       " 'ra': [0, 6.283185307179586],\n",
       " 'dec': [-1.5707963267948966, 1.5707963267948966],\n",
       " 'psi': [0, 6.283185307179586],\n",
       " 'phic': [0, 6.283185307179586]}"
      ]
     },
     "execution_count": 16,
     "metadata": {},
     "output_type": "execute_result"
    }
   ],
   "source": [
    "param_bounds"
   ]
  },
  {
   "cell_type": "markdown",
   "id": "b78629ff-fbd1-4a24-8256-c178043e5f5f",
   "metadata": {
    "jp-MarkdownHeadingCollapsed": true
   },
   "source": [
    "### Create posteriors using injected values as mean"
   ]
  },
  {
   "cell_type": "code",
   "execution_count": 17,
   "id": "c0c4bcf1-8912-4cc1-be1e-be3eacc1769f",
   "metadata": {
    "scrolled": true
   },
   "outputs": [
    {
     "name": "stderr",
     "output_type": "stream",
     "text": [
      "100%|████████████████████████████████████████████████████████████████████████████████████████████████████████████████| 1500/1500 [05:36<00:00,  4.46it/s]\n"
     ]
    }
   ],
   "source": [
    "import logging\n",
    "logging.getLogger('bilby').setLevel(logging.ERROR)\n",
    "n_samples = 5000\n",
    "n_events = len(fm_results['new_cov'])\n",
    "\n",
    "posterior_samples_all_events = {}\n",
    "\n",
    "for event in tqdm(range(n_events)):\n",
    "    mu = [fm_results['inj_params'][param][event] for param in fm_results['new_deriv_variables_in_order']]\n",
    "    cov = fm_results['new_cov'][event]  # the covariance matrix\n",
    "    mvg = MultivariateGaussianDist(fm_results['new_deriv_variables_in_order'], mus=mu, covs=cov, \n",
    "                                   bounds=[param_bounds[param] for param in fm_results['new_deriv_variables_in_order']])\n",
    "    posterior_dists_i = dict()\n",
    "    posterior_samples_i = {}\n",
    "    for param in ['Mc', 'eta', 'DL']:\n",
    "        posterior_dists_i[param] = MultivariateGaussian(mvg, param)\n",
    "        posterior_samples_i[param] = posterior_dists_i[param].sample(n_samples)\n",
    "    posterior_samples_all_events[f'event_{event}'] = posterior_samples_i"
   ]
  },
  {
   "cell_type": "markdown",
   "id": "d83e24c4-e7aa-4682-86af-1ca5bcf1e142",
   "metadata": {},
   "source": [
    "### Create posterior using jittered mean values for each parameter"
   ]
  },
  {
   "cell_type": "markdown",
   "id": "8817265b-ba9d-4f75-889b-c4f1461d1ab5",
   "metadata": {},
   "source": [
    "In order to induce noise in the posterior, the following steps are followed:\n",
    "1. Multivariate gaussian (MVG) is created taking true value as mean\n",
    "2. One random sample is drawn for each parameter from the MVG. This sample becomes the new mean mimicking the effect of gaussian noise.\n",
    "3. New gaussian is created taking the above value as the new mean"
   ]
  },
  {
   "cell_type": "markdown",
   "id": "cdfb85b6-d3d6-4688-9021-d67a7da250a8",
   "metadata": {
    "jp-MarkdownHeadingCollapsed": true
   },
   "source": [
    "#### Using transformed cov matrices"
   ]
  },
  {
   "cell_type": "code",
   "execution_count": 36,
   "id": "efd733aa-4c77-4912-a85b-29559d1eba4e",
   "metadata": {
    "scrolled": true
   },
   "outputs": [
    {
     "name": "stderr",
     "output_type": "stream",
     "text": [
      "100%|███████████████████████████████████████████████████████████████████████████████████████████████████████████████| 1500/1500 [00:01<00:00, 751.84it/s]\n"
     ]
    }
   ],
   "source": [
    "import logging\n",
    "logging.getLogger('bilby').setLevel(logging.ERROR)\n",
    "n_events = len(fm_results['new_cov'])\n",
    "fm_results['new_mean_vals'] = {}\n",
    "for event in tqdm(range(n_events)):\n",
    "    mu = [fm_results['inj_params'][param][event] for param in fm_results['new_deriv_variables_in_order']]\n",
    "    cov = fm_results['new_cov'][event]  # the covariance matrix\n",
    "    mvg = MultivariateGaussianDist(fm_results['new_deriv_variables_in_order'], mus=mu, covs=cov, \n",
    "                                   bounds=[param_bounds[param] for param in fm_results['new_deriv_variables_in_order']])\n",
    "    new_mean_vals = dict()\n",
    "    for param in fm_results['new_deriv_variables_in_order']:\n",
    "        new_mean_vals[param] = MultivariateGaussian(mvg, param).sample()\n",
    "    fm_results['new_mean_vals'][f'event_{event}'] = new_mean_vals"
   ]
  },
  {
   "cell_type": "code",
   "execution_count": 37,
   "id": "449b62bf-6212-40dd-b685-b89a846cbb25",
   "metadata": {},
   "outputs": [
    {
     "name": "stderr",
     "output_type": "stream",
     "text": [
      "100%|████████████████████████████████████████████████████████████████████████████████████████████████████████████████| 1500/1500 [05:26<00:00,  4.60it/s]\n"
     ]
    }
   ],
   "source": [
    "n_samples = 5000\n",
    "n_events = len(fm_results['new_cov'])\n",
    "\n",
    "posterior_samples_all_events = {}\n",
    "\n",
    "for event in tqdm(range(n_events)):\n",
    "    mu = [fm_results['new_mean_vals'][f'event_{event}'][param] for param in fm_results['new_deriv_variables_in_order']]\n",
    "    cov = fm_results['new_cov'][event]  # the covariance matrix\n",
    "    mvg = MultivariateGaussianDist(fm_results['new_deriv_variables_in_order'], mus=mu, covs=cov, \n",
    "                                   bounds=[param_bounds[param] for param in fm_results['new_deriv_variables_in_order']])\n",
    "    posterior_dists_i = dict()\n",
    "    posterior_samples_i = {}\n",
    "    for param in ['Mc', 'eta', 'DL']:\n",
    "        posterior_dists_i[param] = MultivariateGaussian(mvg, param)\n",
    "        posterior_samples_i[param] = posterior_dists_i[param].sample(n_samples)\n",
    "    posterior_samples_all_events[f'event_{event}'] = posterior_samples_i"
   ]
  },
  {
   "cell_type": "markdown",
   "id": "f275ee31-8609-45b2-a6b9-4a2ccd2cf48a",
   "metadata": {},
   "source": [
    "#### Using un-transformed cov matrices"
   ]
  },
  {
   "cell_type": "code",
   "execution_count": 17,
   "id": "bd18c1ed-e077-45cc-9c6d-77026042451f",
   "metadata": {},
   "outputs": [
    {
     "data": {
      "text/plain": [
       "dict_keys(['all_inj_params_original', 'cov', 'deriv_variables_in_order', 'errs', 'inj_params'])"
      ]
     },
     "execution_count": 17,
     "metadata": {},
     "output_type": "execute_result"
    }
   ],
   "source": [
    "fm_results.keys()"
   ]
  },
  {
   "cell_type": "code",
   "execution_count": 18,
   "id": "ca5a8345-795a-4805-9338-1bcfe328b8c5",
   "metadata": {},
   "outputs": [
    {
     "data": {
      "text/plain": [
       "Index(['DL', 'Mc', 'chi1x', 'chi1y', 'chi1z', 'chi2x', 'chi2y', 'chi2z', 'dec',\n",
       "       'eta', 'iota', 'phic', 'psi', 'ra', 'tc', 'z'],\n",
       "      dtype='object')"
      ]
     },
     "execution_count": 18,
     "metadata": {},
     "output_type": "execute_result"
    }
   ],
   "source": [
    "fm_results['inj_params'].keys()"
   ]
  },
  {
   "cell_type": "code",
   "execution_count": 19,
   "id": "0bbb6497-9201-486d-aca7-f908e578d05e",
   "metadata": {},
   "outputs": [
    {
     "data": {
      "text/plain": [
       "0.24999999842007206"
      ]
     },
     "execution_count": 19,
     "metadata": {},
     "output_type": "execute_result"
    }
   ],
   "source": [
    "max(fm_results['inj_params']['eta'])"
   ]
  },
  {
   "cell_type": "code",
   "execution_count": 20,
   "id": "7a2267b5-9c71-406f-99b0-fafb392e91a5",
   "metadata": {},
   "outputs": [],
   "source": [
    "fm_results['inj_params']['log_Mc'] = np.log(fm_results['inj_params']['Mc'])\n",
    "fm_results['inj_params']['log_DL'] = np.log(fm_results['inj_params']['DL'])"
   ]
  },
  {
   "cell_type": "markdown",
   "id": "fa8ba026-18dc-41b2-9a50-5025f0cd069a",
   "metadata": {
    "jp-MarkdownHeadingCollapsed": true
   },
   "source": [
    "#### Remove problematic events"
   ]
  },
  {
   "cell_type": "code",
   "execution_count": 99,
   "id": "13c4b420-5b3e-41ba-a0fd-ba08a635a8ab",
   "metadata": {},
   "outputs": [],
   "source": [
    "problematic_events = [2749]\n",
    "num_events = num_events - len(problematic_events)"
   ]
  },
  {
   "cell_type": "code",
   "execution_count": 100,
   "id": "dd585d30-8a94-479d-a723-b042a0efe769",
   "metadata": {},
   "outputs": [
    {
     "data": {
      "text/plain": [
       "dict_keys(['all_inj_params_original', 'cov', 'deriv_variables_in_order', 'errs', 'inj_params'])"
      ]
     },
     "execution_count": 100,
     "metadata": {},
     "output_type": "execute_result"
    }
   ],
   "source": [
    "fm_results.keys()"
   ]
  },
  {
   "cell_type": "code",
   "execution_count": 101,
   "id": "724c878f-7655-4f43-a274-6e0ee70f51bf",
   "metadata": {},
   "outputs": [
    {
     "data": {
      "text/plain": [
       "[pandas.core.frame.DataFrame,\n",
       " list,\n",
       " list,\n",
       " pandas.core.frame.DataFrame,\n",
       " pandas.core.frame.DataFrame]"
      ]
     },
     "execution_count": 101,
     "metadata": {},
     "output_type": "execute_result"
    }
   ],
   "source": [
    "[type(val) for val in fm_results.values()]"
   ]
  },
  {
   "cell_type": "code",
   "execution_count": 102,
   "id": "88e2f1d8-f083-4b2d-b0a1-58552559fc70",
   "metadata": {},
   "outputs": [],
   "source": [
    "for key, val in fm_results.items():\n",
    "    if 'variables' in key or 'new_mean' in key:\n",
    "        continue\n",
    "    elif key == 'cov':\n",
    "        for idx in sorted(problematic_events, reverse=True):\n",
    "            del fm_results[key][idx]\n",
    "    else:\n",
    "        fm_results[key] = val.drop(index=problematic_events).reset_index()"
   ]
  },
  {
   "cell_type": "code",
   "execution_count": 103,
   "id": "3b3120ec-86b8-4072-801a-a3adcc511a8b",
   "metadata": {},
   "outputs": [
    {
     "data": {
      "text/plain": [
       "[4339, 4339, 9, 4339, 4339]"
      ]
     },
     "execution_count": 103,
     "metadata": {},
     "output_type": "execute_result"
    }
   ],
   "source": [
    "[len(val) for val in fm_results.values()]"
   ]
  },
  {
   "cell_type": "code",
   "execution_count": 104,
   "id": "c3ec7341-0dcb-47c4-9b59-2a5a2f3f3887",
   "metadata": {},
   "outputs": [
    {
     "data": {
      "text/html": [
       "<div>\n",
       "<style scoped>\n",
       "    .dataframe tbody tr th:only-of-type {\n",
       "        vertical-align: middle;\n",
       "    }\n",
       "\n",
       "    .dataframe tbody tr th {\n",
       "        vertical-align: top;\n",
       "    }\n",
       "\n",
       "    .dataframe thead th {\n",
       "        text-align: right;\n",
       "    }\n",
       "</style>\n",
       "<table border=\"1\" class=\"dataframe\">\n",
       "  <thead>\n",
       "    <tr style=\"text-align: right;\">\n",
       "      <th></th>\n",
       "      <th>index</th>\n",
       "      <th>DL</th>\n",
       "      <th>Mc</th>\n",
       "      <th>chi1x</th>\n",
       "      <th>chi1y</th>\n",
       "      <th>chi1z</th>\n",
       "      <th>chi2x</th>\n",
       "      <th>chi2y</th>\n",
       "      <th>chi2z</th>\n",
       "      <th>dec</th>\n",
       "      <th>eta</th>\n",
       "      <th>iota</th>\n",
       "      <th>phic</th>\n",
       "      <th>psi</th>\n",
       "      <th>ra</th>\n",
       "      <th>tc</th>\n",
       "      <th>z</th>\n",
       "      <th>log_Mc</th>\n",
       "      <th>log_DL</th>\n",
       "    </tr>\n",
       "  </thead>\n",
       "  <tbody>\n",
       "    <tr>\n",
       "      <th>0</th>\n",
       "      <td>0</td>\n",
       "      <td>1859.619715</td>\n",
       "      <td>7.011746</td>\n",
       "      <td>0</td>\n",
       "      <td>0</td>\n",
       "      <td>0</td>\n",
       "      <td>0</td>\n",
       "      <td>0</td>\n",
       "      <td>0</td>\n",
       "      <td>0.442385</td>\n",
       "      <td>0.232515</td>\n",
       "      <td>0.894915</td>\n",
       "      <td>2.027851</td>\n",
       "      <td>0.974970</td>\n",
       "      <td>1.684082</td>\n",
       "      <td>1.914486e+09</td>\n",
       "      <td>0.341359</td>\n",
       "      <td>1.947587</td>\n",
       "      <td>7.528127</td>\n",
       "    </tr>\n",
       "    <tr>\n",
       "      <th>1</th>\n",
       "      <td>1</td>\n",
       "      <td>18687.148038</td>\n",
       "      <td>64.674829</td>\n",
       "      <td>0</td>\n",
       "      <td>0</td>\n",
       "      <td>0</td>\n",
       "      <td>0</td>\n",
       "      <td>0</td>\n",
       "      <td>0</td>\n",
       "      <td>-0.114015</td>\n",
       "      <td>0.246354</td>\n",
       "      <td>0.021322</td>\n",
       "      <td>4.546906</td>\n",
       "      <td>1.833504</td>\n",
       "      <td>1.521948</td>\n",
       "      <td>1.912124e+09</td>\n",
       "      <td>2.279521</td>\n",
       "      <td>4.169372</td>\n",
       "      <td>9.835591</td>\n",
       "    </tr>\n",
       "    <tr>\n",
       "      <th>2</th>\n",
       "      <td>2</td>\n",
       "      <td>7966.819299</td>\n",
       "      <td>44.873139</td>\n",
       "      <td>0</td>\n",
       "      <td>0</td>\n",
       "      <td>0</td>\n",
       "      <td>0</td>\n",
       "      <td>0</td>\n",
       "      <td>0</td>\n",
       "      <td>0.281538</td>\n",
       "      <td>0.249931</td>\n",
       "      <td>0.358276</td>\n",
       "      <td>1.769341</td>\n",
       "      <td>1.438029</td>\n",
       "      <td>4.189577</td>\n",
       "      <td>1.922850e+09</td>\n",
       "      <td>1.138107</td>\n",
       "      <td>3.803839</td>\n",
       "      <td>8.983041</td>\n",
       "    </tr>\n",
       "    <tr>\n",
       "      <th>3</th>\n",
       "      <td>3</td>\n",
       "      <td>2253.908498</td>\n",
       "      <td>44.892174</td>\n",
       "      <td>0</td>\n",
       "      <td>0</td>\n",
       "      <td>0</td>\n",
       "      <td>0</td>\n",
       "      <td>0</td>\n",
       "      <td>0</td>\n",
       "      <td>-0.874360</td>\n",
       "      <td>0.249496</td>\n",
       "      <td>0.998741</td>\n",
       "      <td>5.408493</td>\n",
       "      <td>2.290969</td>\n",
       "      <td>0.223194</td>\n",
       "      <td>1.903623e+09</td>\n",
       "      <td>0.402275</td>\n",
       "      <td>3.804263</td>\n",
       "      <td>7.720421</td>\n",
       "    </tr>\n",
       "    <tr>\n",
       "      <th>4</th>\n",
       "      <td>4</td>\n",
       "      <td>7586.055838</td>\n",
       "      <td>45.450005</td>\n",
       "      <td>0</td>\n",
       "      <td>0</td>\n",
       "      <td>0</td>\n",
       "      <td>0</td>\n",
       "      <td>0</td>\n",
       "      <td>0</td>\n",
       "      <td>-0.290775</td>\n",
       "      <td>0.239238</td>\n",
       "      <td>2.827922</td>\n",
       "      <td>0.767348</td>\n",
       "      <td>0.625052</td>\n",
       "      <td>4.235919</td>\n",
       "      <td>1.922618e+09</td>\n",
       "      <td>1.093818</td>\n",
       "      <td>3.816613</td>\n",
       "      <td>8.934067</td>\n",
       "    </tr>\n",
       "    <tr>\n",
       "      <th>...</th>\n",
       "      <td>...</td>\n",
       "      <td>...</td>\n",
       "      <td>...</td>\n",
       "      <td>...</td>\n",
       "      <td>...</td>\n",
       "      <td>...</td>\n",
       "      <td>...</td>\n",
       "      <td>...</td>\n",
       "      <td>...</td>\n",
       "      <td>...</td>\n",
       "      <td>...</td>\n",
       "      <td>...</td>\n",
       "      <td>...</td>\n",
       "      <td>...</td>\n",
       "      <td>...</td>\n",
       "      <td>...</td>\n",
       "      <td>...</td>\n",
       "      <td>...</td>\n",
       "      <td>...</td>\n",
       "    </tr>\n",
       "    <tr>\n",
       "      <th>4334</th>\n",
       "      <td>4335</td>\n",
       "      <td>13305.006280</td>\n",
       "      <td>35.213665</td>\n",
       "      <td>0</td>\n",
       "      <td>0</td>\n",
       "      <td>0</td>\n",
       "      <td>0</td>\n",
       "      <td>0</td>\n",
       "      <td>0</td>\n",
       "      <td>-0.007741</td>\n",
       "      <td>0.249872</td>\n",
       "      <td>0.354629</td>\n",
       "      <td>3.574553</td>\n",
       "      <td>1.919498</td>\n",
       "      <td>0.646073</td>\n",
       "      <td>1.902932e+09</td>\n",
       "      <td>1.725973</td>\n",
       "      <td>3.561434</td>\n",
       "      <td>9.495896</td>\n",
       "    </tr>\n",
       "    <tr>\n",
       "      <th>4335</th>\n",
       "      <td>4336</td>\n",
       "      <td>7879.651395</td>\n",
       "      <td>16.515898</td>\n",
       "      <td>0</td>\n",
       "      <td>0</td>\n",
       "      <td>0</td>\n",
       "      <td>0</td>\n",
       "      <td>0</td>\n",
       "      <td>0</td>\n",
       "      <td>0.318128</td>\n",
       "      <td>0.240936</td>\n",
       "      <td>0.502549</td>\n",
       "      <td>0.876684</td>\n",
       "      <td>2.491329</td>\n",
       "      <td>6.111008</td>\n",
       "      <td>1.897415e+09</td>\n",
       "      <td>1.128004</td>\n",
       "      <td>2.804323</td>\n",
       "      <td>8.972039</td>\n",
       "    </tr>\n",
       "    <tr>\n",
       "      <th>4336</th>\n",
       "      <td>4337</td>\n",
       "      <td>5124.238246</td>\n",
       "      <td>11.561995</td>\n",
       "      <td>0</td>\n",
       "      <td>0</td>\n",
       "      <td>0</td>\n",
       "      <td>0</td>\n",
       "      <td>0</td>\n",
       "      <td>0</td>\n",
       "      <td>0.497384</td>\n",
       "      <td>0.249673</td>\n",
       "      <td>0.198071</td>\n",
       "      <td>0.003686</td>\n",
       "      <td>0.240089</td>\n",
       "      <td>0.946629</td>\n",
       "      <td>1.907943e+09</td>\n",
       "      <td>0.795269</td>\n",
       "      <td>2.447723</td>\n",
       "      <td>8.541737</td>\n",
       "    </tr>\n",
       "    <tr>\n",
       "      <th>4337</th>\n",
       "      <td>4338</td>\n",
       "      <td>2541.087191</td>\n",
       "      <td>13.772870</td>\n",
       "      <td>0</td>\n",
       "      <td>0</td>\n",
       "      <td>0</td>\n",
       "      <td>0</td>\n",
       "      <td>0</td>\n",
       "      <td>0</td>\n",
       "      <td>0.330548</td>\n",
       "      <td>0.249994</td>\n",
       "      <td>0.597882</td>\n",
       "      <td>5.474942</td>\n",
       "      <td>2.610085</td>\n",
       "      <td>1.355249</td>\n",
       "      <td>1.910534e+09</td>\n",
       "      <td>0.445194</td>\n",
       "      <td>2.622701</td>\n",
       "      <td>7.840347</td>\n",
       "    </tr>\n",
       "    <tr>\n",
       "      <th>4338</th>\n",
       "      <td>4339</td>\n",
       "      <td>3836.365482</td>\n",
       "      <td>11.156586</td>\n",
       "      <td>0</td>\n",
       "      <td>0</td>\n",
       "      <td>0</td>\n",
       "      <td>0</td>\n",
       "      <td>0</td>\n",
       "      <td>0</td>\n",
       "      <td>0.408923</td>\n",
       "      <td>0.249439</td>\n",
       "      <td>2.618628</td>\n",
       "      <td>4.669139</td>\n",
       "      <td>1.650224</td>\n",
       "      <td>4.102802</td>\n",
       "      <td>1.917094e+09</td>\n",
       "      <td>0.627331</td>\n",
       "      <td>2.412030</td>\n",
       "      <td>8.252281</td>\n",
       "    </tr>\n",
       "  </tbody>\n",
       "</table>\n",
       "<p>4339 rows × 19 columns</p>\n",
       "</div>"
      ],
      "text/plain": [
       "      index            DL         Mc  chi1x  chi1y  chi1z  chi2x  chi2y  \\\n",
       "0         0   1859.619715   7.011746      0      0      0      0      0   \n",
       "1         1  18687.148038  64.674829      0      0      0      0      0   \n",
       "2         2   7966.819299  44.873139      0      0      0      0      0   \n",
       "3         3   2253.908498  44.892174      0      0      0      0      0   \n",
       "4         4   7586.055838  45.450005      0      0      0      0      0   \n",
       "...     ...           ...        ...    ...    ...    ...    ...    ...   \n",
       "4334   4335  13305.006280  35.213665      0      0      0      0      0   \n",
       "4335   4336   7879.651395  16.515898      0      0      0      0      0   \n",
       "4336   4337   5124.238246  11.561995      0      0      0      0      0   \n",
       "4337   4338   2541.087191  13.772870      0      0      0      0      0   \n",
       "4338   4339   3836.365482  11.156586      0      0      0      0      0   \n",
       "\n",
       "      chi2z       dec       eta      iota      phic       psi        ra  \\\n",
       "0         0  0.442385  0.232515  0.894915  2.027851  0.974970  1.684082   \n",
       "1         0 -0.114015  0.246354  0.021322  4.546906  1.833504  1.521948   \n",
       "2         0  0.281538  0.249931  0.358276  1.769341  1.438029  4.189577   \n",
       "3         0 -0.874360  0.249496  0.998741  5.408493  2.290969  0.223194   \n",
       "4         0 -0.290775  0.239238  2.827922  0.767348  0.625052  4.235919   \n",
       "...     ...       ...       ...       ...       ...       ...       ...   \n",
       "4334      0 -0.007741  0.249872  0.354629  3.574553  1.919498  0.646073   \n",
       "4335      0  0.318128  0.240936  0.502549  0.876684  2.491329  6.111008   \n",
       "4336      0  0.497384  0.249673  0.198071  0.003686  0.240089  0.946629   \n",
       "4337      0  0.330548  0.249994  0.597882  5.474942  2.610085  1.355249   \n",
       "4338      0  0.408923  0.249439  2.618628  4.669139  1.650224  4.102802   \n",
       "\n",
       "                tc         z    log_Mc    log_DL  \n",
       "0     1.914486e+09  0.341359  1.947587  7.528127  \n",
       "1     1.912124e+09  2.279521  4.169372  9.835591  \n",
       "2     1.922850e+09  1.138107  3.803839  8.983041  \n",
       "3     1.903623e+09  0.402275  3.804263  7.720421  \n",
       "4     1.922618e+09  1.093818  3.816613  8.934067  \n",
       "...            ...       ...       ...       ...  \n",
       "4334  1.902932e+09  1.725973  3.561434  9.495896  \n",
       "4335  1.897415e+09  1.128004  2.804323  8.972039  \n",
       "4336  1.907943e+09  0.795269  2.447723  8.541737  \n",
       "4337  1.910534e+09  0.445194  2.622701  7.840347  \n",
       "4338  1.917094e+09  0.627331  2.412030  8.252281  \n",
       "\n",
       "[4339 rows x 19 columns]"
      ]
     },
     "execution_count": 104,
     "metadata": {},
     "output_type": "execute_result"
    }
   ],
   "source": [
    "fm_results['inj_params']"
   ]
  },
  {
   "cell_type": "markdown",
   "id": "85f3988a-b581-4fe2-87a1-57ec60947da7",
   "metadata": {
    "jp-MarkdownHeadingCollapsed": true
   },
   "source": [
    "#### Run with timeout"
   ]
  },
  {
   "cell_type": "code",
   "execution_count": 22,
   "id": "0e8b7b93-032b-4871-991e-cf4e3e2a77ee",
   "metadata": {
    "scrolled": true
   },
   "outputs": [
    {
     "name": "stderr",
     "output_type": "stream",
     "text": [
      "Exception ignored in: <function _after_fork at 0x72fdbe8fbba0>                                                                                                                                                                                                                        | 273/4340 [00:39<09:47,  6.92it/s]\n",
      "\n",
      "Traceback (most recent call last):\n",
      "  File \"/home/divyajyoti/miniconda3/envs/spe_ngloc_mygwf_mypycbc/lib/python3.11/threading.py\", line 1639, in _after_fork\n",
      "    _shutdown_locks = set()\n",
      "        "
     ]
    },
    {
     "ename": "KeyboardInterrupt",
     "evalue": "",
     "output_type": "error",
     "traceback": [
      "\u001b[0;31m---------------------------------------------------------------------------\u001b[0m",
      "\u001b[0;31mKeyboardInterrupt\u001b[0m                         Traceback (most recent call last)",
      "Cell \u001b[0;32mIn[22], line 30\u001b[0m\n\u001b[1;32m     28\u001b[0m \u001b[38;5;28;01mfor\u001b[39;00m event \u001b[38;5;129;01min\u001b[39;00m tqdm(\u001b[38;5;28mrange\u001b[39m(n_events)):\n\u001b[1;32m     29\u001b[0m     ctx \u001b[38;5;241m=\u001b[39m mp\u001b[38;5;241m.\u001b[39mget_context(\u001b[38;5;124m\"\u001b[39m\u001b[38;5;124mfork\u001b[39m\u001b[38;5;124m\"\u001b[39m)  \u001b[38;5;66;03m# use 'fork' to copy variables in UNIX\u001b[39;00m\n\u001b[0;32m---> 30\u001b[0m     \u001b[38;5;28;01mwith\u001b[39;00m \u001b[43mctx\u001b[49m\u001b[38;5;241;43m.\u001b[39;49m\u001b[43mPool\u001b[49m\u001b[43m(\u001b[49m\u001b[38;5;241;43m1\u001b[39;49m\u001b[43m)\u001b[49m \u001b[38;5;28;01mas\u001b[39;00m pool:\n\u001b[1;32m     31\u001b[0m         result \u001b[38;5;241m=\u001b[39m pool\u001b[38;5;241m.\u001b[39mapply_async(safe_dist_worker, ((event, fm_results, param_bounds),))\n\u001b[1;32m     32\u001b[0m         \u001b[38;5;28;01mtry\u001b[39;00m:\n",
      "File \u001b[0;32m~/miniconda3/envs/spe_ngloc_mygwf_mypycbc/lib/python3.11/multiprocessing/context.py:119\u001b[0m, in \u001b[0;36mBaseContext.Pool\u001b[0;34m(self, processes, initializer, initargs, maxtasksperchild)\u001b[0m\n\u001b[1;32m    117\u001b[0m \u001b[38;5;250m\u001b[39m\u001b[38;5;124;03m'''Returns a process pool object'''\u001b[39;00m\n\u001b[1;32m    118\u001b[0m \u001b[38;5;28;01mfrom\u001b[39;00m\u001b[38;5;250m \u001b[39m\u001b[38;5;21;01m.\u001b[39;00m\u001b[38;5;21;01mpool\u001b[39;00m\u001b[38;5;250m \u001b[39m\u001b[38;5;28;01mimport\u001b[39;00m Pool\n\u001b[0;32m--> 119\u001b[0m \u001b[38;5;28;01mreturn\u001b[39;00m \u001b[43mPool\u001b[49m\u001b[43m(\u001b[49m\u001b[43mprocesses\u001b[49m\u001b[43m,\u001b[49m\u001b[43m \u001b[49m\u001b[43minitializer\u001b[49m\u001b[43m,\u001b[49m\u001b[43m \u001b[49m\u001b[43minitargs\u001b[49m\u001b[43m,\u001b[49m\u001b[43m \u001b[49m\u001b[43mmaxtasksperchild\u001b[49m\u001b[43m,\u001b[49m\n\u001b[1;32m    120\u001b[0m \u001b[43m            \u001b[49m\u001b[43mcontext\u001b[49m\u001b[38;5;241;43m=\u001b[39;49m\u001b[38;5;28;43mself\u001b[39;49m\u001b[38;5;241;43m.\u001b[39;49m\u001b[43mget_context\u001b[49m\u001b[43m(\u001b[49m\u001b[43m)\u001b[49m\u001b[43m)\u001b[49m\n",
      "File \u001b[0;32m~/miniconda3/envs/spe_ngloc_mygwf_mypycbc/lib/python3.11/multiprocessing/pool.py:235\u001b[0m, in \u001b[0;36mPool.__init__\u001b[0;34m(self, processes, initializer, initargs, maxtasksperchild, context)\u001b[0m\n\u001b[1;32m    233\u001b[0m \u001b[38;5;28mself\u001b[39m\u001b[38;5;241m.\u001b[39m_worker_handler\u001b[38;5;241m.\u001b[39mdaemon \u001b[38;5;241m=\u001b[39m \u001b[38;5;28;01mTrue\u001b[39;00m\n\u001b[1;32m    234\u001b[0m \u001b[38;5;28mself\u001b[39m\u001b[38;5;241m.\u001b[39m_worker_handler\u001b[38;5;241m.\u001b[39m_state \u001b[38;5;241m=\u001b[39m RUN\n\u001b[0;32m--> 235\u001b[0m \u001b[38;5;28;43mself\u001b[39;49m\u001b[38;5;241;43m.\u001b[39;49m\u001b[43m_worker_handler\u001b[49m\u001b[38;5;241;43m.\u001b[39;49m\u001b[43mstart\u001b[49m\u001b[43m(\u001b[49m\u001b[43m)\u001b[49m\n\u001b[1;32m    238\u001b[0m \u001b[38;5;28mself\u001b[39m\u001b[38;5;241m.\u001b[39m_task_handler \u001b[38;5;241m=\u001b[39m threading\u001b[38;5;241m.\u001b[39mThread(\n\u001b[1;32m    239\u001b[0m     target\u001b[38;5;241m=\u001b[39mPool\u001b[38;5;241m.\u001b[39m_handle_tasks,\n\u001b[1;32m    240\u001b[0m     args\u001b[38;5;241m=\u001b[39m(\u001b[38;5;28mself\u001b[39m\u001b[38;5;241m.\u001b[39m_taskqueue, \u001b[38;5;28mself\u001b[39m\u001b[38;5;241m.\u001b[39m_quick_put, \u001b[38;5;28mself\u001b[39m\u001b[38;5;241m.\u001b[39m_outqueue,\n\u001b[1;32m    241\u001b[0m           \u001b[38;5;28mself\u001b[39m\u001b[38;5;241m.\u001b[39m_pool, \u001b[38;5;28mself\u001b[39m\u001b[38;5;241m.\u001b[39m_cache)\n\u001b[1;32m    242\u001b[0m     )\n\u001b[1;32m    243\u001b[0m \u001b[38;5;28mself\u001b[39m\u001b[38;5;241m.\u001b[39m_task_handler\u001b[38;5;241m.\u001b[39mdaemon \u001b[38;5;241m=\u001b[39m \u001b[38;5;28;01mTrue\u001b[39;00m\n",
      "File \u001b[0;32m~/miniconda3/envs/spe_ngloc_mygwf_mypycbc/lib/python3.11/threading.py:969\u001b[0m, in \u001b[0;36mThread.start\u001b[0;34m(self)\u001b[0m\n\u001b[1;32m    967\u001b[0m         \u001b[38;5;28;01mdel\u001b[39;00m _limbo[\u001b[38;5;28mself\u001b[39m]\n\u001b[1;32m    968\u001b[0m     \u001b[38;5;28;01mraise\u001b[39;00m\n\u001b[0;32m--> 969\u001b[0m \u001b[38;5;28;43mself\u001b[39;49m\u001b[38;5;241;43m.\u001b[39;49m\u001b[43m_started\u001b[49m\u001b[38;5;241;43m.\u001b[39;49m\u001b[43mwait\u001b[49m\u001b[43m(\u001b[49m\u001b[43m)\u001b[49m\n",
      "File \u001b[0;32m~/miniconda3/envs/spe_ngloc_mygwf_mypycbc/lib/python3.11/threading.py:629\u001b[0m, in \u001b[0;36mEvent.wait\u001b[0;34m(self, timeout)\u001b[0m\n\u001b[1;32m    627\u001b[0m signaled \u001b[38;5;241m=\u001b[39m \u001b[38;5;28mself\u001b[39m\u001b[38;5;241m.\u001b[39m_flag\n\u001b[1;32m    628\u001b[0m \u001b[38;5;28;01mif\u001b[39;00m \u001b[38;5;129;01mnot\u001b[39;00m signaled:\n\u001b[0;32m--> 629\u001b[0m     signaled \u001b[38;5;241m=\u001b[39m \u001b[38;5;28;43mself\u001b[39;49m\u001b[38;5;241;43m.\u001b[39;49m\u001b[43m_cond\u001b[49m\u001b[38;5;241;43m.\u001b[39;49m\u001b[43mwait\u001b[49m\u001b[43m(\u001b[49m\u001b[43mtimeout\u001b[49m\u001b[43m)\u001b[49m\n\u001b[1;32m    630\u001b[0m \u001b[38;5;28;01mreturn\u001b[39;00m signaled\n",
      "File \u001b[0;32m~/miniconda3/envs/spe_ngloc_mygwf_mypycbc/lib/python3.11/threading.py:327\u001b[0m, in \u001b[0;36mCondition.wait\u001b[0;34m(self, timeout)\u001b[0m\n\u001b[1;32m    325\u001b[0m \u001b[38;5;28;01mtry\u001b[39;00m:    \u001b[38;5;66;03m# restore state no matter what (e.g., KeyboardInterrupt)\u001b[39;00m\n\u001b[1;32m    326\u001b[0m     \u001b[38;5;28;01mif\u001b[39;00m timeout \u001b[38;5;129;01mis\u001b[39;00m \u001b[38;5;28;01mNone\u001b[39;00m:\n\u001b[0;32m--> 327\u001b[0m         \u001b[43mwaiter\u001b[49m\u001b[38;5;241;43m.\u001b[39;49m\u001b[43macquire\u001b[49m\u001b[43m(\u001b[49m\u001b[43m)\u001b[49m\n\u001b[1;32m    328\u001b[0m         gotit \u001b[38;5;241m=\u001b[39m \u001b[38;5;28;01mTrue\u001b[39;00m\n\u001b[1;32m    329\u001b[0m     \u001b[38;5;28;01melse\u001b[39;00m:\n",
      "\u001b[0;31mKeyboardInterrupt\u001b[0m: "
     ]
    },
    {
     "name": "stderr",
     "output_type": "stream",
     "text": [
      "              ^^^^^\n",
      "KeyboardInterrupt: \n"
     ]
    }
   ],
   "source": [
    "import logging\n",
    "import multiprocessing as mp\n",
    "from tqdm import tqdm\n",
    "\n",
    "logging.getLogger('bilby').setLevel(logging.ERROR)\n",
    "\n",
    "def safe_dist_worker(args):\n",
    "    event, fm_results, param_bounds = args\n",
    "    try:\n",
    "        mu = [fm_results['inj_params'][param][event] for param in fm_results['deriv_variables_in_order']]\n",
    "        cov = fm_results['cov'][event]\n",
    "        mvg = MultivariateGaussianDist(\n",
    "            fm_results['deriv_variables_in_order'],\n",
    "            mus=mu,\n",
    "            covs=cov,\n",
    "            bounds=[param_bounds[param] for param in fm_results['deriv_variables_in_order']]\n",
    "        )\n",
    "        new_mean_vals = {}\n",
    "        for param in fm_results['deriv_variables_in_order']:\n",
    "            new_mean_vals[param] = MultivariateGaussian(mvg, param).sample()\n",
    "        return event, new_mean_vals\n",
    "    except Exception as e:\n",
    "        return event, None  # Failed\n",
    "\n",
    "fm_results['new_mean_vals'] = {}\n",
    "n_events = len(fm_results['cov'])\n",
    "\n",
    "for event in tqdm(range(n_events)):\n",
    "    ctx = mp.get_context(\"fork\")  # use 'fork' to copy variables in UNIX\n",
    "    with ctx.Pool(1) as pool:\n",
    "        result = pool.apply_async(safe_dist_worker, ((event, fm_results, param_bounds),))\n",
    "        try:\n",
    "            event_num, new_vals = result.get(timeout=5)\n",
    "            if new_vals is not None:\n",
    "                fm_results['new_mean_vals'][f'event_{event_num}'] = new_vals\n",
    "            else:\n",
    "                print(f\"Error inside worker for event {event_num}\")\n",
    "        except mp.TimeoutError:\n",
    "            print(f\"Timeout for event {event}, skipping\")\n",
    "            pool.terminate()"
   ]
  },
  {
   "cell_type": "markdown",
   "id": "0b9e7942-f70b-4da6-a670-5c74c8173587",
   "metadata": {},
   "source": [
    "#### Run normally"
   ]
  },
  {
   "cell_type": "code",
   "execution_count": 21,
   "id": "af9ac847-4ded-45f5-ba11-15ae9208bdd9",
   "metadata": {},
   "outputs": [
    {
     "name": "stderr",
     "output_type": "stream",
     "text": [
      "100%|█████████████████████████████████████████████████████████████████████████████████████████████████████████████████████████████████████████████| 4344/4344 [00:03<00:00, 1320.75it/s]\n"
     ]
    }
   ],
   "source": [
    "import logging\n",
    "\n",
    "logging.getLogger('bilby').setLevel(logging.ERROR)\n",
    "\n",
    "n_events = len(fm_results['cov'])\n",
    "fm_results['new_mean_vals'] = {}\n",
    "\n",
    "for event in tqdm(range(n_events)):\n",
    "    mu = [fm_results['inj_params'][param][event] for param in fm_results['deriv_variables_in_order']]\n",
    "    cov = fm_results['cov'][event]\n",
    "    mvg = MultivariateGaussianDist(\n",
    "        fm_results['deriv_variables_in_order'],\n",
    "        mus=mu,\n",
    "        covs=cov,\n",
    "        bounds=[param_bounds[param] for param in fm_results['deriv_variables_in_order']])\n",
    "\n",
    "    new_mean_vals = {}\n",
    "    for param in fm_results['deriv_variables_in_order']:\n",
    "        new_mean_vals[param] = MultivariateGaussian(mvg, param).sample()\n",
    "    fm_results['new_mean_vals'][f'event_{event}'] = new_mean_vals"
   ]
  },
  {
   "cell_type": "code",
   "execution_count": 22,
   "id": "6bebb564-2737-4423-9084-5237aecb7955",
   "metadata": {},
   "outputs": [
    {
     "data": {
      "image/png": "[encoded data removed]",
      "text/plain": [
       "<Figure size 640x480 with 1 Axes>"
      ]
     },
     "metadata": {},
     "output_type": "display_data"
    }
   ],
   "source": [
    "plt.plot(fm_results['inj_params']['log_DL'], \n",
    "         fm_results['inj_params']['log_DL']/[fm_results['new_mean_vals'][i]['log_DL'] for i in fm_results['new_mean_vals'].keys()], \n",
    "         '.');"
   ]
  },
  {
   "cell_type": "markdown",
   "id": "09d90084-cb19-4f39-9022-72451f429659",
   "metadata": {},
   "source": [
    "#### Save new means to h5"
   ]
  },
  {
   "cell_type": "code",
   "execution_count": 23,
   "id": "ba1679ed-8454-408e-9f5e-543a36143243",
   "metadata": {},
   "outputs": [],
   "source": [
    "def save_to_h5_group(group, data, string_dtype):\n",
    "    \"\"\"\n",
    "    Recursively saves Python data structures (dicts, lists, arrays, scalars) to an HDF5 group.\n",
    "    \"\"\"\n",
    "    if isinstance(data, dict):\n",
    "        for key, value in data.items():\n",
    "            sub_key = str(key)\n",
    "            if isinstance(value, (dict, list, tuple)):\n",
    "                subgroup = group.create_group(sub_key)\n",
    "                save_to_h5_group(subgroup, value, string_dtype)\n",
    "            elif isinstance(value, str):\n",
    "                group.create_dataset(sub_key, data=value, dtype=string_dtype)\n",
    "            else:\n",
    "                group.create_dataset(sub_key, data=np.array(value))\n",
    "    elif isinstance(data, (list, tuple)):\n",
    "        for i, item in enumerate(data):\n",
    "            item_key = str(i)\n",
    "            if isinstance(item, (dict, list, tuple)):\n",
    "                subgroup = group.create_group(item_key)\n",
    "                save_to_h5_group(subgroup, item, string_dtype)\n",
    "            elif isinstance(item, str):\n",
    "                group.create_dataset(item_key, data=item, dtype=string_dtype)\n",
    "            else:\n",
    "                group.create_dataset(item_key, data=np.array(item))\n",
    "    elif isinstance(data, str):\n",
    "        group.create_dataset(\"value\", data=data, dtype=string_dtype)\n",
    "    else:\n",
    "        group.create_dataset(\"value\", data=np.array(data))\n",
    "\n",
    "\n",
    "def save_results_to_h5(results, filename):\n",
    "    \"\"\"\n",
    "    Saves arbitrary nested results dictionary to an HDF5 file.\n",
    "    \"\"\"\n",
    "    dt = h5py.string_dtype(encoding='utf-8')\n",
    "    with h5py.File(filename, 'w') as f:\n",
    "        save_to_h5_group(f, results, dt)"
   ]
  },
  {
   "cell_type": "code",
   "execution_count": 24,
   "id": "5f6d29bd-4298-4bf2-8cfc-577bf22e4848",
   "metadata": {
    "scrolled": true
   },
   "outputs": [
    {
     "data": {
      "text/plain": [
       "'/home/divyajyoti/ACADEMIC/Projects/Cardiff_University/Next_gen_detectability/A-sharp-study/GWBench_analysis/BBH/CE4020ET123_CoBA10_2_PLP_z_MD_zmax_10_lmrd_22_no_spins_set3_4344_events_pop_from_XPHM.h5'"
      ]
     },
     "execution_count": 24,
     "metadata": {},
     "output_type": "execute_result"
    }
   ],
   "source": [
    "fm_err_file"
   ]
  },
  {
   "cell_type": "code",
   "execution_count": 25,
   "id": "2a563dd8-c7ea-4254-bef4-bdc08fb2c1fd",
   "metadata": {},
   "outputs": [
    {
     "data": {
      "text/plain": [
       "'/home/divyajyoti/ACADEMIC/Projects/Cardiff_University/Next_gen_detectability/A-sharp-study/GWBench_analysis/BBH/CE4020ET123_CoBA10_2_PLP_z_MD_zmax_10_lmrd_22_no_spins_set3_4344_events_pop_from_XPHM_with_new_means2.h5'"
      ]
     },
     "execution_count": 25,
     "metadata": {},
     "output_type": "execute_result"
    }
   ],
   "source": [
    "new_fm_file = fm_err_file.replace('.h5', '_with_new_means2.h5')\n",
    "new_fm_file"
   ]
  },
  {
   "cell_type": "code",
   "execution_count": 26,
   "id": "ee4013c7-3e70-4f62-8e87-951215604ae4",
   "metadata": {},
   "outputs": [],
   "source": [
    "save_results_to_h5(fm_results, new_fm_file)"
   ]
  },
  {
   "cell_type": "markdown",
   "id": "28dccf3e-810a-476f-8952-bb24100eae7a",
   "metadata": {},
   "source": [
    "#### Create posteriors"
   ]
  },
  {
   "cell_type": "code",
   "execution_count": 28,
   "id": "05e0f785-fb99-4ea3-a748-859392f27d13",
   "metadata": {},
   "outputs": [
    {
     "name": "stderr",
     "output_type": "stream",
     "text": [
      "100%|███████████████████████████████████████████████████████████████████████████████████████████████████████████████████████████████████████████████| 4344/4344 [21:57<00:00,  3.30it/s]\n"
     ]
    }
   ],
   "source": [
    "n_samples = 10000\n",
    "n_events = len(fm_results['cov'])\n",
    "\n",
    "posterior_samples_all_events = {}\n",
    "\n",
    "for event in tqdm(range(n_events)):\n",
    "    mu = [fm_results['new_mean_vals'][f'event_{event}'][param] for param in fm_results['deriv_variables_in_order']]\n",
    "    cov = fm_results['cov'][event]  # the covariance matrix\n",
    "    mvg = MultivariateGaussianDist(fm_results['deriv_variables_in_order'], mus=mu, covs=cov, \n",
    "                                   bounds=[param_bounds[param] for param in fm_results['deriv_variables_in_order']])\n",
    "    posterior_dists_i = dict()\n",
    "    posterior_samples_i = {}\n",
    "    for param in ['log_Mc', 'eta', 'log_DL']:\n",
    "        posterior_dists_i[param] = MultivariateGaussian(mvg, param)\n",
    "        posterior_samples_i[param] = posterior_dists_i[param].sample(n_samples)\n",
    "    posterior_samples_all_events[f'event_{event}'] = posterior_samples_i"
   ]
  },
  {
   "cell_type": "markdown",
   "id": "ca7297c7-c202-44cb-a7af-3c8ecc45ff18",
   "metadata": {},
   "source": [
    "##### Add Mc and DL from log_Mc and log_DL"
   ]
  },
  {
   "cell_type": "code",
   "execution_count": 29,
   "id": "9c5e23d7-3a66-432a-ac29-1004cfae42a4",
   "metadata": {},
   "outputs": [],
   "source": [
    "for event in posterior_samples_all_events.keys():\n",
    "    posterior_samples_all_events[event]['Mc'] = np.exp(posterior_samples_all_events[event]['log_Mc'])\n",
    "    posterior_samples_all_events[event]['DL'] = np.exp(posterior_samples_all_events[event]['log_DL'])"
   ]
  },
  {
   "cell_type": "markdown",
   "id": "ce844de8-e1cb-46d5-98a5-85c8b4c9703d",
   "metadata": {},
   "source": [
    "### Add m1, m2, q, z"
   ]
  },
  {
   "cell_type": "code",
   "execution_count": 30,
   "id": "34309849-d395-45f5-a94d-5da93a3d39c2",
   "metadata": {},
   "outputs": [],
   "source": [
    "for event in posterior_samples_all_events.keys():\n",
    "    Mc = posterior_samples_all_events[event]['Mc']\n",
    "    eta = posterior_samples_all_events[event]['eta']\n",
    "    DL = posterior_samples_all_events[event]['DL']\n",
    "    posterior_samples_all_events[event]['m1'] = convert.mass1_from_mchirp_eta(Mc, eta)\n",
    "    posterior_samples_all_events[event]['m2'] = convert.mass2_from_mchirp_eta(Mc, eta)\n",
    "    posterior_samples_all_events[event]['q_inv'] = convert.q_from_mass1_mass2(posterior_samples_all_events[event]['m1'],\n",
    "                                                                              posterior_samples_all_events[event]['m2'])\n",
    "    posterior_samples_all_events[event]['q'] = 1/posterior_samples_all_events[event]['q_inv']\n",
    "    posterior_samples_all_events[event]['z'] = pycbc.cosmology.redshift(DL, cosmology='Planck18')"
   ]
  },
  {
   "cell_type": "markdown",
   "id": "6a1f0797-3db6-48fd-99f3-74fe650bc63c",
   "metadata": {},
   "source": [
    "### Convert to bilby parameter names"
   ]
  },
  {
   "cell_type": "code",
   "execution_count": 31,
   "id": "f426b483-b8bb-491b-82f3-4320bb2395d6",
   "metadata": {},
   "outputs": [
    {
     "data": {
      "text/plain": [
       "dict_keys(['log_Mc', 'eta', 'log_DL', 'Mc', 'DL', 'm1', 'm2', 'q_inv', 'q', 'z'])"
      ]
     },
     "execution_count": 31,
     "metadata": {},
     "output_type": "execute_result"
    }
   ],
   "source": [
    "posterior_samples_all_events['event_0'].keys()"
   ]
  },
  {
   "cell_type": "code",
   "execution_count": 32,
   "id": "6a230013-118e-4c86-85d1-4d09bcde6eca",
   "metadata": {},
   "outputs": [],
   "source": [
    "gwbench_to_bilby_name_map = {\n",
    "    'Mc':'chirp_mass',\n",
    "    'log_Mc':'log_chirp_mass',\n",
    "    'eta':'symmetric_mass_ratio',\n",
    "    'DL':'luminosity_distance',\n",
    "    'log_DL':'log_luminosity_distance',\n",
    "    'm1':'mass_1',\n",
    "    'm2':'mass_2',\n",
    "    'q_inv': 'inverted_mass_ratio',\n",
    "    'z': 'redshift',\n",
    "    'q': 'mass_ratio'\n",
    "}"
   ]
  },
  {
   "cell_type": "code",
   "execution_count": 33,
   "id": "4c33bc4d-c174-42ac-a9ba-ca6184155835",
   "metadata": {},
   "outputs": [],
   "source": [
    "pos_samples_bilby_names = {}\n",
    "for event in posterior_samples_all_events.keys():\n",
    "    pos_samples_bilby_names[event] = {}\n",
    "    for param in posterior_samples_all_events[event].keys():\n",
    "        pos_samples_bilby_names[event][gwbench_to_bilby_name_map[param]] = posterior_samples_all_events[event][param]"
   ]
  },
  {
   "cell_type": "markdown",
   "id": "ce5bca86-568d-4a97-ad12-8a97b1b770b2",
   "metadata": {},
   "source": [
    "#### Add source frame parameters"
   ]
  },
  {
   "cell_type": "code",
   "execution_count": 34,
   "id": "568e17b2-dbbf-4398-9e9a-cb2cce09acc2",
   "metadata": {},
   "outputs": [],
   "source": [
    "for event in pos_samples_bilby_names.keys():\n",
    "    for param in ['mass_1', 'mass_2', 'chirp_mass']:\n",
    "        pos_samples_bilby_names[event][param+'_source'] = pos_samples_bilby_names[event][param]/(1 + pos_samples_bilby_names[event]['redshift'])"
   ]
  },
  {
   "cell_type": "code",
   "execution_count": 35,
   "id": "2dfa7923-e870-4d2e-b031-1bff7d3f2233",
   "metadata": {},
   "outputs": [
    {
     "data": {
      "text/plain": [
       "dict_keys(['log_chirp_mass', 'symmetric_mass_ratio', 'log_luminosity_distance', 'chirp_mass', 'luminosity_distance', 'mass_1', 'mass_2', 'inverted_mass_ratio', 'mass_ratio', 'redshift', 'mass_1_source', 'mass_2_source', 'chirp_mass_source'])"
      ]
     },
     "execution_count": 35,
     "metadata": {},
     "output_type": "execute_result"
    }
   ],
   "source": [
    "pos_samples_bilby_names['event_0'].keys()"
   ]
  },
  {
   "cell_type": "markdown",
   "id": "1a4b5d9a-f0f9-49c7-92b0-abacc3854007",
   "metadata": {},
   "source": [
    "## Considering only redshift posterior for gwpop analysis"
   ]
  },
  {
   "cell_type": "markdown",
   "id": "ffe42ad9-f0d2-4010-aabb-1ef7f2bbae1c",
   "metadata": {},
   "source": [
    "### Create prior on redshift"
   ]
  },
  {
   "cell_type": "markdown",
   "id": "0d2ff56b-f000-4e82-bb5a-71803f738ecd",
   "metadata": {},
   "source": [
    "Since the posteriors were drawn from a Multivariate Gaussian created on $\\mathcal{M}_c$, $eta$, and $D_L$, the priors are uniform on these parameters.\n",
    "\n",
    "Hence,\n",
    "\n",
    "$p(z) = p(D_L) \\left| \\frac{dD_L(z)}{dz} \\right| \\propto \\left| \\frac{dD_L(z)}{dz} \\right|$\n",
    "\n",
    "since $p(D_L) = const$"
   ]
  },
  {
   "cell_type": "code",
   "execution_count": 36,
   "id": "941b4e8d-2eb0-4984-bbb1-28391f62f193",
   "metadata": {},
   "outputs": [],
   "source": [
    "def calc_dDL_dz(DL_arr, z_arr):\n",
    "    \"\"\"\n",
    "    Parameters: \n",
    "    ----------------------\n",
    "    z_arr: numpy array\n",
    "        redshift value\n",
    "    DL_arr: numpy array\n",
    "        Luminosity distance (Mpc)\n",
    "\n",
    "    Returns:\n",
    "    --------------------------\n",
    "    dDL_dz : scipy.interpolate.UnivariateSpline\n",
    "        Derivative spline giving dDL/dz\n",
    "    \"\"\"\n",
    "    \n",
    "    sort_idx = np.argsort(DL_arr)\n",
    "    DL_sorted = DL_arr[sort_idx]\n",
    "    z_sorted = z_arr[sort_idx]\n",
    "    \n",
    "    fDL = UnivariateSpline(z_sorted, DL_sorted, s=0)\n",
    "    dfDL_dz = fDL.derivative()\n",
    "    return(dfDL_dz)"
   ]
  },
  {
   "cell_type": "code",
   "execution_count": 37,
   "id": "dd9a9172-5600-43d1-b1c0-80e45bcf3bd2",
   "metadata": {},
   "outputs": [
    {
     "name": "stdout",
     "output_type": "stream",
     "text": [
      "z_max = 11.979426122089338\n"
     ]
    }
   ],
   "source": [
    "DL_grid = np.linspace(1, 13e4, 10000)\n",
    "z_grid = pycbc.cosmology.redshift(DL_grid, cosmology='Planck18')\n",
    "print('z_max =', z_grid.max())\n",
    "dDL_dz_interp = calc_dDL_dz(DL_grid, z_grid)"
   ]
  },
  {
   "cell_type": "code",
   "execution_count": 38,
   "id": "0da06ffd-898f-4bef-b1b4-41fcd02bfff3",
   "metadata": {},
   "outputs": [],
   "source": [
    "posteriors_z_list = []\n",
    "for event in pos_samples_bilby_names:\n",
    "    zi = pos_samples_bilby_names[event]['redshift']\n",
    "    prior_zi = dDL_dz_interp(zi)\n",
    "    #prior_zi_normalized = prior_zi/np.trapz(prior_zi, zi)\n",
    "    prior_zi_normalized = prior_zi/np.sum(prior_zi)\n",
    "    event_i = {'redshift': zi,\n",
    "               'prior': prior_zi_normalized}\n",
    "    posteriors_z_list.append(pd.DataFrame(event_i))"
   ]
  },
  {
   "cell_type": "markdown",
   "id": "c915fafc-f7d9-4e0b-a531-b05e014f868d",
   "metadata": {},
   "source": [
    "### Save to pickle file"
   ]
  },
  {
   "cell_type": "code",
   "execution_count": 40,
   "id": "c47d3a82-f312-44ae-8dff-8c81f861e113",
   "metadata": {},
   "outputs": [],
   "source": [
    "# commented out to avoid accidental overwriting\n",
    "pd.to_pickle(posteriors_z_list, os.path.join(base_dir, 'gwpopulation', 'BBH', \n",
    "                        f'CE4020ET123_CoBA10_2_PLP_z_MD_zmax_10_lmrd_22_no_spins_set3_z_posteriors_10K_original_cov_{num_events}_events_pop_from_XPHM2.pkl'))\n",
    "#pd.to_pickle(posteriors_z_list, os.path.join(base_dir, 'gwpopulation', 'BBH', \n",
    "#                        f'LHI_Asharp_1_PLP_z_MD_zmax_6_lmrd_22_no_spins_all_events_365_days_z_posteriors_original_cov_{num_events}_events_pop_from_XPHM2.pkl'))"
   ]
  },
  {
   "cell_type": "markdown",
   "id": "9c9c91f1-a62a-48cf-ad21-91cc87012cfd",
   "metadata": {
    "jp-MarkdownHeadingCollapsed": true
   },
   "source": [
    "## Plot posteriors for redshift"
   ]
  },
  {
   "cell_type": "code",
   "execution_count": 41,
   "id": "3eb36f49-7551-4a02-a29a-6cf29fc18a43",
   "metadata": {},
   "outputs": [
    {
     "name": "stderr",
     "output_type": "stream",
     "text": [
      "100%|██████████████████████████████████████████████████████████████████████████████████████████████████████████████████████████████████████████████████████████████████████████████████████████████████████████████████████████████████████████████████████████████████████████████████| 499/499 [00:13<00:00, 37.18it/s]\n"
     ]
    },
    {
     "data": {
      "text/plain": [
       "(0.0, 7.840914998983969)"
      ]
     },
     "execution_count": 41,
     "metadata": {},
     "output_type": "execute_result"
    },
    {
     "data": {
      "image/png": "[encoded data removed]",
      "text/plain": [
       "<Figure size 640x480 with 1 Axes>"
      ]
     },
     "metadata": {},
     "output_type": "display_data"
    }
   ],
   "source": [
    "import seaborn as sns\n",
    "warnings.filterwarnings(\n",
    "    \"ignore\",\n",
    "    message=\".*use_inf_as_na option is deprecated.*\",\n",
    "    category=FutureWarning\n",
    ")\n",
    "\n",
    "for event in tqdm(list(posterior_samples_all_events.keys())):\n",
    "    sns.kdeplot(posterior_samples_all_events[event]['z'], color='grey')\n",
    "plt.xlim(0,)"
   ]
  },
  {
   "cell_type": "code",
   "execution_count": null,
   "id": "e8039158-fe87-4357-bbfe-84b736be9a14",
   "metadata": {},
   "outputs": [],
   "source": []
  },
  {
   "cell_type": "code",
   "execution_count": null,
   "id": "a398ed51-c682-4c56-b9fe-8297d4a48131",
   "metadata": {},
   "outputs": [],
   "source": []
  },
  {
   "cell_type": "code",
   "execution_count": null,
   "id": "ef778f41-bee5-471d-acd2-3a112fad1519",
   "metadata": {},
   "outputs": [],
   "source": []
  },
  {
   "cell_type": "markdown",
   "id": "2217c32c-3644-4233-b0d0-a95cb2aabc9a",
   "metadata": {
    "jp-MarkdownHeadingCollapsed": true
   },
   "source": [
    "## Convert DL errors to z"
   ]
  },
  {
   "cell_type": "code",
   "execution_count": 35,
   "id": "6ed2bd6e-f67e-47f9-b95e-a94e4d08ad96",
   "metadata": {},
   "outputs": [],
   "source": [
    "def calc_dz_dDL(z_arr, DL_arr):\n",
    "    \"\"\"\n",
    "    Parameters: \n",
    "    ----------------------\n",
    "    z_arr: numpy array\n",
    "        redshift value\n",
    "    DL_arr: numpy array\n",
    "        Luminosity distance (Mpc)\n",
    "\n",
    "    Returns:\n",
    "    --------------------------\n",
    "    delta_z_arr: dz_dDL : scipy.interpolate.UnivariateSpline\n",
    "        Derivative spline giving dz/dDL\n",
    "    \"\"\"\n",
    "    \n",
    "    sort_idx = np.argsort(DL_arr)\n",
    "    DL_sorted = DL_arr[sort_idx]\n",
    "    z_sorted = z_arr[sort_idx]\n",
    "    \n",
    "    fz = UnivariateSpline(DL_sorted, z_sorted)\n",
    "    dfz_dDL = fz.derivative()\n",
    "    return(dfz_dDL)"
   ]
  },
  {
   "cell_type": "code",
   "execution_count": 15,
   "id": "be6abc5e-d4d0-48e1-9fa0-8954a64e2f45",
   "metadata": {},
   "outputs": [],
   "source": [
    "def get_delta_z_from_delta_DL(z_arr, DL_arr, delta_DL_arr):\n",
    "    \"\"\"\n",
    "    Parameters: \n",
    "    ----------------------\n",
    "    z_arr: numpy array\n",
    "        redshift value\n",
    "    DL_arr: numpy array\n",
    "        Luminosity distance (Mpc)\n",
    "    delta_DL_arr: numpy array\n",
    "        error on DL\n",
    "\n",
    "    Returns:\n",
    "    --------------------------\n",
    "    delta_z_arr: numpy array\n",
    "        error on z\n",
    "    \"\"\"\n",
    "    \n",
    "    dfz_dDL = calc_dz_dDL(z_arr, DL_arr)\n",
    "    delta_z = dfz_dDL(DL_arr) * delta_DL_arr\n",
    "    return(delta_z)"
   ]
  },
  {
   "cell_type": "code",
   "execution_count": 16,
   "id": "d2ae025d-c905-4a75-b0c3-9544d80a92f9",
   "metadata": {},
   "outputs": [],
   "source": [
    "fm_results['errs']['z'] = get_delta_z_from_delta_DL(fm_results['inj_params']['z'], \n",
    "                                                    fm_results['inj_params']['DL'], \n",
    "                                                    fm_results['errs']['DL'])"
   ]
  },
  {
   "cell_type": "code",
   "execution_count": 17,
   "id": "94cc850c-7da3-494d-976b-0878e4a8f4db",
   "metadata": {},
   "outputs": [],
   "source": [
    "fm_results['errs']['log_z'] = fm_results['errs']['z']/fm_results['inj_params']['z']"
   ]
  },
  {
   "cell_type": "code",
   "execution_count": 18,
   "id": "96b2005a-379c-479d-aeb4-4e4d799ca54a",
   "metadata": {},
   "outputs": [],
   "source": [
    "def transform_cov_logDL_logMc_to_z_Mc(cov, DL, dz_dDL, logDL_index, Mc, logMc_index):\n",
    "    \"\"\"\n",
    "    Transforms a covariance matrix where:\n",
    "    - log_DL is replaced with redshift using dz/dDL spline\n",
    "    - log_Mc is replaced with M_c using exp transformation\n",
    "\n",
    "    Parameters:\n",
    "    -----------\n",
    "    cov : np.ndarray\n",
    "        Original NxN covariance matrix including log_DL and log_Mc.\n",
    "    DL : float\n",
    "        True or mean value of DL (Mpc).\n",
    "    dz_dDL : scipy.interpolate.UnivariateSpline\n",
    "        Derivative spline giving dz/dDL\n",
    "    logDL_index : int\n",
    "        Index of log_DL in the covariance matrix.\n",
    "    Mc : float\n",
    "        True or mean value of chirp mass.\n",
    "    logMc_index : int\n",
    "        Index of log_Mc in the covariance matrix.\n",
    "\n",
    "    Returns:\n",
    "    --------\n",
    "    cov_new : np.ndarray\n",
    "        Transformed covariance matrix with redshift and M_c replacing log_DL and log_Mc.\n",
    "    \"\"\"\n",
    "    \n",
    "    dz_dlogDL = dz_dDL(DL) * DL  # chain rule: dz/dlogDL = dz/dDL * DL\n",
    "    dMc_dlogMc = Mc              # derivative of exp(log_Mc) is Mc\n",
    "\n",
    "    # Build Jacobian matrix\n",
    "    N = cov.shape[0]\n",
    "    J = np.eye(N)\n",
    "    J[logDL_index, logDL_index] = dz_dlogDL\n",
    "    J[logMc_index, logMc_index] = dMc_dlogMc\n",
    "\n",
    "    # Transform covariance\n",
    "    cov_new = J @ cov @ J.T\n",
    "    return cov_new"
   ]
  },
  {
   "cell_type": "code",
   "execution_count": null,
   "id": "4f539090-0691-43f1-91e6-72bd7403f35f",
   "metadata": {},
   "outputs": [],
   "source": []
  },
  {
   "cell_type": "code",
   "execution_count": null,
   "id": "cc6e074f-b0f2-4ac1-822b-5753632dbe77",
   "metadata": {},
   "outputs": [],
   "source": []
  },
  {
   "cell_type": "code",
   "execution_count": null,
   "id": "396c0d44-ca4e-4d25-875f-7d8341d96397",
   "metadata": {},
   "outputs": [],
   "source": []
  },
  {
   "cell_type": "code",
   "execution_count": null,
   "id": "599914ca-3923-41fa-a8e2-c4fa5a4abbd0",
   "metadata": {},
   "outputs": [],
   "source": []
  },
  {
   "cell_type": "code",
   "execution_count": null,
   "id": "16198e63-f3c7-4053-978f-98309e7799be",
   "metadata": {},
   "outputs": [],
   "source": []
  },
  {
   "cell_type": "code",
   "execution_count": null,
   "id": "11cba92c-19df-4056-9ebc-728a5081d49b",
   "metadata": {},
   "outputs": [],
   "source": []
  },
  {
   "cell_type": "markdown",
   "id": "fb98cb7a-382e-4a62-8960-7a147fbc3159",
   "metadata": {
    "jp-MarkdownHeadingCollapsed": true
   },
   "source": [
    "## Others"
   ]
  },
  {
   "cell_type": "code",
   "execution_count": 31,
   "id": "06ec18ca-60ea-4612-bebe-423d24cf2e46",
   "metadata": {},
   "outputs": [],
   "source": [
    "def transform_cov_Mc_det_to_src(cov, Mc_index, z_index, Mc_det_val, z_val):\n",
    "    \"\"\"\n",
    "    Transforms the covariance matrix from detector-frame Mc to source-frame Mc.\n",
    "\n",
    "    Parameters:\n",
    "    -----------\n",
    "    cov : np.ndarray\n",
    "        NxN covariance matrix including Mc (det-frame) and z.\n",
    "    Mc_index : int\n",
    "        Index of detector-frame Mc in the covariance matrix.\n",
    "    z_index : int\n",
    "        Index of redshift in the covariance matrix.\n",
    "    Mc_det_val : float\n",
    "        Detector-frame chirp mass.\n",
    "    z_val : float\n",
    "        Redshift at which to evaluate the Jacobian.\n",
    "\n",
    "    Returns:\n",
    "    --------\n",
    "    cov_new : np.ndarray\n",
    "        Transformed covariance matrix with Mc_src instead of Mc_det.\n",
    "    \"\"\"\n",
    "\n",
    "    N = cov.shape[0]\n",
    "    J = np.eye(N)\n",
    "\n",
    "    # Partial derivatives\n",
    "    dMcsrc_dMcdet = 1 / (1 + z_val)\n",
    "    dMcsrc_dz = -Mc_det_val / (1 + z_val)**2\n",
    "\n",
    "    # Modify the Jacobian\n",
    "    J[Mc_index, Mc_index] = dMcsrc_dMcdet\n",
    "    J[Mc_index, z_index] = dMcsrc_dz\n",
    "\n",
    "    # Apply Jacobian transformation\n",
    "    cov_new = J @ cov @ J.T\n",
    "    return cov_new"
   ]
  },
  {
   "cell_type": "code",
   "execution_count": 32,
   "id": "c8c191c9-a518-4819-ac17-fc1e7657d9c6",
   "metadata": {},
   "outputs": [],
   "source": [
    "failed['new_cov_src_Mc'] = []\n",
    "for event in range(499):\n",
    "    new_cov = fm_results['new_cov'][event]\n",
    "    new_cov_src_mc = transform_cov_Mc_det_to_src(new_cov, \n",
    "                                                 fm_results['new_deriv_variables_in_order'].index('Mc'), \n",
    "                                                 fm_results['new_deriv_variables_in_order'].index('z'),\n",
    "                                                 fm_results['inj_params']['Mc'][event],\n",
    "                                                 fm_results['inj_params']['z'][event])\n",
    "    try:\n",
    "        np.linalg.cholesky(new_cov_src_mc)\n",
    "    except np.linalg.LinAlgError:\n",
    "        failed['new_cov_src_Mc'].append(event)"
   ]
  },
  {
   "cell_type": "code",
   "execution_count": 34,
   "id": "2da35192-9a0d-4c73-b501-f0c14a1e3065",
   "metadata": {},
   "outputs": [
    {
     "data": {
      "text/plain": [
       "67"
      ]
     },
     "execution_count": 34,
     "metadata": {},
     "output_type": "execute_result"
    }
   ],
   "source": [
    "len(list(failed['new_cov_src_Mc']))"
   ]
  },
  {
   "cell_type": "code",
   "execution_count": null,
   "id": "bc66946a-e09a-4841-9309-b5c380e23bb4",
   "metadata": {},
   "outputs": [],
   "source": []
  }
 ],
 "metadata": {
  "kernelspec": {
   "display_name": "spe_ngloc_mygwf_mypycbc",
   "language": "python",
   "name": "spe_ngloc_mygwf_mypycbc"
  },
  "language_info": {
   "codemirror_mode": {
    "name": "ipython",
    "version": 3
   },
   "file_extension": ".py",
   "mimetype": "text/x-python",
   "name": "python",
   "nbconvert_exporter": "python",
   "pygments_lexer": "ipython3",
   "version": "3.11.11"
  }
 },
 "nbformat": 4,
 "nbformat_minor": 5
}
