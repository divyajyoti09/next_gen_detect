{
 "cells": [
  {
   "cell_type": "code",
   "execution_count": 1,
   "id": "5a8d2d3c-36f1-40dc-9b34-304877a6e790",
   "metadata": {},
   "outputs": [
    {
     "name": "stderr",
     "output_type": "stream",
     "text": [
      "PyCBC.libutils: pkg-config call failed, setting NO_PKGCONFIG=1\n"
     ]
    }
   ],
   "source": [
    "import warnings\n",
    "warnings.filterwarnings(\"ignore\", \"Wswiglal-redir-stdio\")\n",
    "import lal\n",
    "import os\n",
    "import h5py\n",
    "import numpy\n",
    "import pandas as pd\n",
    "import pylab as plt\n",
    "from bilby.core.prior import MultivariateGaussian, MultivariateGaussianDist, PriorDict\n",
    "import numpy as np\n",
    "from scipy.interpolate import UnivariateSpline\n",
    "from tqdm import tqdm\n",
    "import pycbc.conversions as convert\n",
    "import bilby\n",
    "import pycbc\n",
    "import seaborn as sns"
   ]
  },
  {
   "cell_type": "markdown",
   "id": "15193af1-429a-40ac-968f-01e179af0370",
   "metadata": {},
   "source": [
    "## Load FM errors"
   ]
  },
  {
   "cell_type": "code",
   "execution_count": 2,
   "id": "653a970e-1e37-43e7-8315-e34120ca4875",
   "metadata": {},
   "outputs": [],
   "source": [
    "def load_results_from_h5(filename):\n",
    "    results = {}\n",
    "\n",
    "    with h5py.File(filename, 'r') as f:\n",
    "        # Load inj_params\n",
    "        inj_params = []\n",
    "        inj_params_group = f['inj_params']\n",
    "        for i in sorted(inj_params_group.keys(), key=lambda x: int(x)):\n",
    "            param_group = inj_params_group[i]\n",
    "            param_dict = {key: param_group[key][()] for key in param_group.keys()}\n",
    "            inj_params.append(param_dict)\n",
    "        results['inj_params'] = pd.DataFrame(inj_params)\n",
    "\n",
    "        # Load cov\n",
    "        cov = []\n",
    "        cov_group = f['cov']\n",
    "        for i in sorted(cov_group.keys(), key=lambda x: int(x)):\n",
    "            matrix = cov_group[i][()]\n",
    "            cov.append(matrix)\n",
    "        results['cov'] = cov\n",
    "\n",
    "        # Load errs\n",
    "        errs = []\n",
    "        errs_group = f['errs']\n",
    "        for i in sorted(errs_group.keys(), key=lambda x: int(x)):\n",
    "            err_group = errs_group[i]\n",
    "            err_dict = {key: err_group[key][()] for key in err_group.keys()}\n",
    "            errs.append(err_dict)\n",
    "        results['errs'] = pd.DataFrame(errs)\n",
    "\n",
    "        # Load deriv_variables_in_order\n",
    "        deriv_vars = f['deriv_variables_in_order'][()]\n",
    "        # Convert bytes to str if needed (depends on h5py version)\n",
    "        if isinstance(deriv_vars[0], bytes):\n",
    "            deriv_vars = [s.decode('utf-8') for s in deriv_vars]\n",
    "        results['deriv_variables_in_order'] = list(deriv_vars)\n",
    "\n",
    "    return results"
   ]
  },
  {
   "cell_type": "code",
   "execution_count": 3,
   "id": "7e770c39-01e3-4e0d-a95d-a626ace194a2",
   "metadata": {},
   "outputs": [],
   "source": [
    "base_dir = '/home/divyajyoti/ACADEMIC/Projects/Cardiff_University/Next_gen_detectability/A-sharp-study/'\n",
    "fm_err_file = os.path.join(base_dir, 'GWBench_analysis', 'BBH', \n",
    "                           'CE4020ET123_CoBA10_2_PLP_z_MD_zmax_10_lmrd_22_no_spins.h5')"
   ]
  },
  {
   "cell_type": "code",
   "execution_count": 4,
   "id": "a71f2189-c3c1-40d9-81dc-7c56c58719b0",
   "metadata": {},
   "outputs": [],
   "source": [
    "fm_results = load_results_from_h5(fm_err_file)\n",
    "fm_results['errs']['DL'] = fm_results['errs']['log_DL']*fm_results['inj_params']['DL']"
   ]
  },
  {
   "cell_type": "markdown",
   "id": "73b6866d-7720-47a1-88cb-29240656391b",
   "metadata": {},
   "source": [
    "## Convert logDL and logMc to DL and Mc"
   ]
  },
  {
   "cell_type": "code",
   "execution_count": 5,
   "id": "98f7da7d-b0c6-4e9f-a805-b5f112893d63",
   "metadata": {},
   "outputs": [],
   "source": [
    "def transform_cov_logDL_logMc_to_DL_Mc(cov, DL, logDL_index, Mc, logMc_index):\n",
    "    \"\"\"\n",
    "    Transforms a covariance matrix where:\n",
    "    - log_DL is replaced with DL using dDL/dlogDL = DL\n",
    "    - log_Mc is replaced with M_c using dMc/dlogMc = Mc\n",
    "\n",
    "    Parameters:\n",
    "    -----------\n",
    "    cov : np.ndarray\n",
    "        Original NxN covariance matrix including log_DL and log_Mc.\n",
    "    DL : float\n",
    "        Mean value of DL (Mpc).\n",
    "    logDL_index : int\n",
    "        Index of log_DL in the covariance matrix.\n",
    "    Mc : float\n",
    "        Mean value of chirp mass (solar masses).\n",
    "    logMc_index : int\n",
    "        Index of log_Mc in the covariance matrix.\n",
    "\n",
    "    Returns:\n",
    "    --------\n",
    "    cov_new : np.ndarray\n",
    "        Transformed covariance matrix with DL and M_c replacing log_DL and log_Mc.\n",
    "    \"\"\"\n",
    "\n",
    "    # Derivatives for Jacobian (from chain rule)\n",
    "    dDL_dlogDL = DL\n",
    "    dMc_dlogMc = Mc\n",
    "\n",
    "    # Build Jacobian matrix\n",
    "    N = cov.shape[0]\n",
    "    J = np.eye(N)\n",
    "    J[logDL_index, logDL_index] = dDL_dlogDL\n",
    "    J[logMc_index, logMc_index] = dMc_dlogMc\n",
    "\n",
    "    # Transform covariance matrix\n",
    "    cov_new = J @ cov @ J.T\n",
    "\n",
    "    return cov_new"
   ]
  },
  {
   "cell_type": "markdown",
   "id": "473227a2-4a2c-4c4f-8a3e-3f392098d5cc",
   "metadata": {},
   "source": [
    "### Convert cov matrices to new cov matrices"
   ]
  },
  {
   "cell_type": "code",
   "execution_count": 6,
   "id": "fcd64cff-375b-4b50-8e67-345e9b3a3813",
   "metadata": {},
   "outputs": [
    {
     "data": {
      "text/plain": [
       "<function __main__.transform_cov_logDL_logMc_to_DL_Mc(cov, DL, logDL_index, Mc, logMc_index)>"
      ]
     },
     "execution_count": 6,
     "metadata": {},
     "output_type": "execute_result"
    }
   ],
   "source": [
    "transform_cov_logDL_logMc_to_DL_Mc"
   ]
  },
  {
   "cell_type": "code",
   "execution_count": 7,
   "id": "461c691a-7478-41e0-a945-626bb32a6463",
   "metadata": {},
   "outputs": [],
   "source": [
    "log_DL_idx = fm_results['deriv_variables_in_order'].index('log_DL')\n",
    "log_Mc_idx = fm_results['deriv_variables_in_order'].index('log_Mc')\n",
    "fm_results['new_cov'] = []\n",
    "for i in range(len(fm_results['cov'])):\n",
    "    new_cov = transform_cov_logDL_logMc_to_DL_Mc(fm_results['cov'][i], \n",
    "                                                 fm_results['inj_params']['DL'][i], \n",
    "                                                 log_DL_idx, \n",
    "                                                 fm_results['inj_params']['Mc'][i],\n",
    "                                                 log_Mc_idx)\n",
    "    fm_results['new_cov'].append(new_cov)\n",
    "fm_results['new_deriv_variables_in_order'] = []\n",
    "\n",
    "for var in fm_results['deriv_variables_in_order']:\n",
    "    if var == 'log_DL':\n",
    "        fm_results['new_deriv_variables_in_order'].append('DL')\n",
    "    elif var == 'log_Mc':\n",
    "        fm_results['new_deriv_variables_in_order'].append('Mc')\n",
    "    else:\n",
    "        fm_results['new_deriv_variables_in_order'].append(var)"
   ]
  },
  {
   "cell_type": "markdown",
   "id": "8e9a0716-58cf-4d42-bf7b-5c07dc47ac93",
   "metadata": {},
   "source": [
    "## Create posterior samples"
   ]
  },
  {
   "cell_type": "code",
   "execution_count": 8,
   "id": "23ec1a03-3a17-4284-bc39-b59df296eb8a",
   "metadata": {},
   "outputs": [
    {
     "data": {
      "text/plain": [
       "['Mc', 'eta', 'DL', 'iota', 'tc', 'phic', 'ra', 'dec', 'psi']"
      ]
     },
     "execution_count": 8,
     "metadata": {},
     "output_type": "execute_result"
    }
   ],
   "source": [
    "fm_results['new_deriv_variables_in_order']"
   ]
  },
  {
   "cell_type": "markdown",
   "id": "a56448e9-4d0f-4179-8c8c-cfa713aa0f0c",
   "metadata": {},
   "source": [
    "### Create new mean values for each parameters"
   ]
  },
  {
   "cell_type": "markdown",
   "id": "b32aa220-2b64-4a0a-80f0-1e041f2f5675",
   "metadata": {},
   "source": [
    "In order to induce noise in the posterior, the following steps are followed:\n",
    "1. Multivariate gaussian (MVG) is created taking true value as mean\n",
    "2. One random sample is drawn for each parameter from the MVG. This sample becomes the new mean mimicking the effect of gaussian noise.\n",
    "3. New gaussian is created taking the above value as the new mean"
   ]
  },
  {
   "cell_type": "code",
   "execution_count": 9,
   "id": "ded51361-e6e4-4d08-830b-342d737466ac",
   "metadata": {},
   "outputs": [
    {
     "data": {
      "text/plain": [
       "['Mc', 'eta', 'DL', 'iota', 'tc', 'phic', 'ra', 'dec', 'psi']"
      ]
     },
     "execution_count": 9,
     "metadata": {},
     "output_type": "execute_result"
    }
   ],
   "source": [
    "fm_results['new_deriv_variables_in_order']"
   ]
  },
  {
   "cell_type": "code",
   "execution_count": 10,
   "id": "402d2e24-245f-4953-a0f0-6547e10ff7f1",
   "metadata": {},
   "outputs": [
    {
     "data": {
      "text/plain": [
       "0.045351473922902494"
      ]
     },
     "execution_count": 10,
     "metadata": {},
     "output_type": "execute_result"
    }
   ],
   "source": [
    "convert.eta_from_q(20)"
   ]
  },
  {
   "cell_type": "code",
   "execution_count": 11,
   "id": "c2035d55-58af-4ebc-9efc-1a2ef7fe6041",
   "metadata": {},
   "outputs": [],
   "source": [
    "param_bounds = {\n",
    "    'Mc':[4.35, np.inf],\n",
    "    'eta':[0.0454, 0.25],\n",
    "    'DL':[1, np.inf],\n",
    "    'iota':[0, np.pi],\n",
    "    'tc':[-np.inf, np.inf],\n",
    "    'phic':[-np.pi, np.pi],\n",
    "    'ra':[0, 2*np.pi],\n",
    "    'dec':[-np.pi/2, np.pi/2],\n",
    "    'psi':[0, 2*np.pi]\n",
    "}"
   ]
  },
  {
   "cell_type": "code",
   "execution_count": 12,
   "id": "efd733aa-4c77-4912-a85b-29559d1eba4e",
   "metadata": {
    "scrolled": true
   },
   "outputs": [
    {
     "name": "stderr",
     "output_type": "stream",
     "text": [
      "100%|███████████████████████████████████████████████████████████████████████████████████████████████████████████████████████████████████████████████████████████████████████████████████████████████████████████████████████████████████████████████████████████████████████████████| 1500/1500 [00:01<00:00, 813.32it/s]\n"
     ]
    }
   ],
   "source": [
    "import logging\n",
    "logging.getLogger('bilby').setLevel(logging.ERROR)\n",
    "n_events = len(fm_results['new_cov'])\n",
    "fm_results['new_mean_vals'] = {}\n",
    "for event in tqdm(range(n_events)):\n",
    "    mu = [fm_results['inj_params'][param][event] for param in fm_results['new_deriv_variables_in_order']]\n",
    "    cov = fm_results['new_cov'][event]  # the covariance matrix\n",
    "    mvg = MultivariateGaussianDist(fm_results['new_deriv_variables_in_order'], mus=mu, covs=cov, \n",
    "                                   bounds=[param_bounds[param] for param in fm_results['new_deriv_variables_in_order']])\n",
    "    new_mean_vals = dict()\n",
    "    for param in fm_results['new_deriv_variables_in_order']:\n",
    "        new_mean_vals[param] = MultivariateGaussian(mvg, param).sample()\n",
    "    fm_results['new_mean_vals'][f'event_{event}'] = new_mean_vals"
   ]
  },
  {
   "cell_type": "markdown",
   "id": "b78629ff-fbd1-4a24-8256-c178043e5f5f",
   "metadata": {},
   "source": [
    "### Create posteriors"
   ]
  },
  {
   "cell_type": "code",
   "execution_count": 13,
   "id": "449b62bf-6212-40dd-b685-b89a846cbb25",
   "metadata": {},
   "outputs": [
    {
     "name": "stderr",
     "output_type": "stream",
     "text": [
      "100%|████████████████████████████████████████████████████████████████████████████████████████████████████████████████████████████████████████████████████████████████████████████████████████████████████████████████████████████████████████████████████████████████████████████████| 1500/1500 [05:38<00:00,  4.44it/s]\n"
     ]
    }
   ],
   "source": [
    "n_samples = 5000\n",
    "n_events = len(fm_results['new_cov'])\n",
    "\n",
    "posterior_samples_all_events = {}\n",
    "\n",
    "for event in tqdm(range(n_events)):\n",
    "    mu = [fm_results['new_mean_vals'][f'event_{event}'][param] for param in fm_results['new_deriv_variables_in_order']]\n",
    "    cov = fm_results['new_cov'][event]  # the covariance matrix\n",
    "    mvg = MultivariateGaussianDist(fm_results['new_deriv_variables_in_order'], mus=mu, covs=cov, \n",
    "                                   bounds=[param_bounds[param] for param in fm_results['new_deriv_variables_in_order']])\n",
    "    posterior_dists_i = dict()\n",
    "    posterior_samples_i = {}\n",
    "    for param in ['Mc', 'eta', 'DL']:\n",
    "        posterior_dists_i[param] = MultivariateGaussian(mvg, param)\n",
    "        posterior_samples_i[param] = posterior_dists_i[param].sample(n_samples)\n",
    "    posterior_samples_all_events[f'event_{event}'] = posterior_samples_i"
   ]
  },
  {
   "cell_type": "markdown",
   "id": "ce844de8-e1cb-46d5-98a5-85c8b4c9703d",
   "metadata": {},
   "source": [
    "### Add m1, m2, q, z"
   ]
  },
  {
   "cell_type": "code",
   "execution_count": 14,
   "id": "34309849-d395-45f5-a94d-5da93a3d39c2",
   "metadata": {},
   "outputs": [],
   "source": [
    "for event in posterior_samples_all_events.keys():\n",
    "    Mc = posterior_samples_all_events[event]['Mc']\n",
    "    eta = posterior_samples_all_events[event]['eta']\n",
    "    DL = posterior_samples_all_events[event]['DL']\n",
    "    posterior_samples_all_events[event]['m1'] = convert.mass1_from_mchirp_eta(Mc, eta)\n",
    "    posterior_samples_all_events[event]['m2'] = convert.mass2_from_mchirp_eta(Mc, eta)\n",
    "    posterior_samples_all_events[event]['q_inv'] = convert.q_from_mass1_mass2(posterior_samples_all_events[event]['m1'],\n",
    "                                                                              posterior_samples_all_events[event]['m2'])\n",
    "    posterior_samples_all_events[event]['q'] = 1/posterior_samples_all_events[event]['q_inv']\n",
    "    posterior_samples_all_events[event]['z'] = pycbc.cosmology.redshift(DL, cosmology='Planck18')"
   ]
  },
  {
   "cell_type": "markdown",
   "id": "6a1f0797-3db6-48fd-99f3-74fe650bc63c",
   "metadata": {},
   "source": [
    "### Convert to bilby parameter names"
   ]
  },
  {
   "cell_type": "code",
   "execution_count": 15,
   "id": "f426b483-b8bb-491b-82f3-4320bb2395d6",
   "metadata": {},
   "outputs": [
    {
     "data": {
      "text/plain": [
       "dict_keys(['Mc', 'eta', 'DL', 'm1', 'm2', 'q_inv', 'q', 'z'])"
      ]
     },
     "execution_count": 15,
     "metadata": {},
     "output_type": "execute_result"
    }
   ],
   "source": [
    "posterior_samples_all_events['event_0'].keys()"
   ]
  },
  {
   "cell_type": "code",
   "execution_count": 16,
   "id": "6a230013-118e-4c86-85d1-4d09bcde6eca",
   "metadata": {},
   "outputs": [],
   "source": [
    "gwbench_to_bilby_name_map = {\n",
    "    'Mc':'chirp_mass',\n",
    "    'eta':'symmetric_mass_ratio',\n",
    "    'DL':'luminosity_distance',\n",
    "    'm1':'mass_1',\n",
    "    'm2':'mass_2',\n",
    "    'q_inv': 'inverted_mass_ratio',\n",
    "    'z': 'redshift',\n",
    "    'q': 'mass_ratio'\n",
    "}"
   ]
  },
  {
   "cell_type": "code",
   "execution_count": 17,
   "id": "4c33bc4d-c174-42ac-a9ba-ca6184155835",
   "metadata": {},
   "outputs": [],
   "source": [
    "pos_samples_bilby_names = {}\n",
    "for event in posterior_samples_all_events.keys():\n",
    "    pos_samples_bilby_names[event] = {}\n",
    "    for param in posterior_samples_all_events[event].keys():\n",
    "        pos_samples_bilby_names[event][gwbench_to_bilby_name_map[param]] = posterior_samples_all_events[event][param]"
   ]
  },
  {
   "cell_type": "markdown",
   "id": "ce5bca86-568d-4a97-ad12-8a97b1b770b2",
   "metadata": {},
   "source": [
    "#### Add source frame parameters"
   ]
  },
  {
   "cell_type": "code",
   "execution_count": 18,
   "id": "568e17b2-dbbf-4398-9e9a-cb2cce09acc2",
   "metadata": {},
   "outputs": [],
   "source": [
    "for event in pos_samples_bilby_names.keys():\n",
    "    for param in ['mass_1', 'mass_2', 'chirp_mass']:\n",
    "        pos_samples_bilby_names[event][param+'_source'] = pos_samples_bilby_names[event][param]/(1 + pos_samples_bilby_names[event]['redshift'])"
   ]
  },
  {
   "cell_type": "code",
   "execution_count": 19,
   "id": "2dfa7923-e870-4d2e-b031-1bff7d3f2233",
   "metadata": {},
   "outputs": [
    {
     "data": {
      "text/plain": [
       "dict_keys(['chirp_mass', 'symmetric_mass_ratio', 'luminosity_distance', 'mass_1', 'mass_2', 'inverted_mass_ratio', 'mass_ratio', 'redshift', 'mass_1_source', 'mass_2_source', 'chirp_mass_source'])"
      ]
     },
     "execution_count": 19,
     "metadata": {},
     "output_type": "execute_result"
    }
   ],
   "source": [
    "pos_samples_bilby_names['event_0'].keys()"
   ]
  },
  {
   "cell_type": "markdown",
   "id": "1a4b5d9a-f0f9-49c7-92b0-abacc3854007",
   "metadata": {},
   "source": [
    "## Considering only redshift posterior for gwpop analysis"
   ]
  },
  {
   "cell_type": "markdown",
   "id": "ffe42ad9-f0d2-4010-aabb-1ef7f2bbae1c",
   "metadata": {},
   "source": [
    "### Create prior on redshift"
   ]
  },
  {
   "cell_type": "markdown",
   "id": "0d2ff56b-f000-4e82-bb5a-71803f738ecd",
   "metadata": {},
   "source": [
    "Since the posteriors were drawn from a Multivariate Gaussian created on $\\mathcal{M}_c$, $eta$, and $D_L$, the priors are uniform on these parameters.\n",
    "\n",
    "Hence,\n",
    "\n",
    "$p(z) = p(D_L) \\left| \\frac{dD_L(z)}{dz} \\right| \\propto \\left| \\frac{dD_L(z)}{dz} \\right|$\n",
    "\n",
    "since $p(D_L) = const$"
   ]
  },
  {
   "cell_type": "code",
   "execution_count": 20,
   "id": "941b4e8d-2eb0-4984-bbb1-28391f62f193",
   "metadata": {},
   "outputs": [],
   "source": [
    "def calc_dDL_dz(DL_arr, z_arr):\n",
    "    \"\"\"\n",
    "    Parameters: \n",
    "    ----------------------\n",
    "    z_arr: numpy array\n",
    "        redshift value\n",
    "    DL_arr: numpy array\n",
    "        Luminosity distance (Mpc)\n",
    "\n",
    "    Returns:\n",
    "    --------------------------\n",
    "    dDL_dz : scipy.interpolate.UnivariateSpline\n",
    "        Derivative spline giving dDL/dz\n",
    "    \"\"\"\n",
    "    \n",
    "    sort_idx = np.argsort(DL_arr)\n",
    "    DL_sorted = DL_arr[sort_idx]\n",
    "    z_sorted = z_arr[sort_idx]\n",
    "    \n",
    "    fDL = UnivariateSpline(z_sorted, DL_sorted, s=0)\n",
    "    dfDL_dz = fDL.derivative()\n",
    "    return(dfDL_dz)"
   ]
  },
  {
   "cell_type": "code",
   "execution_count": 28,
   "id": "dd9a9172-5600-43d1-b1c0-80e45bcf3bd2",
   "metadata": {},
   "outputs": [
    {
     "name": "stdout",
     "output_type": "stream",
     "text": [
      "z_max = 11.979426122089338\n"
     ]
    }
   ],
   "source": [
    "DL_grid = np.linspace(1, 13e4, 10000)\n",
    "z_grid = pycbc.cosmology.redshift(DL_grid, cosmology='Planck18')\n",
    "print('z_max =', z_grid.max())\n",
    "dDL_dz_interp = calc_dDL_dz(DL_grid, z_grid)"
   ]
  },
  {
   "cell_type": "code",
   "execution_count": 29,
   "id": "0da06ffd-898f-4bef-b1b4-41fcd02bfff3",
   "metadata": {},
   "outputs": [],
   "source": [
    "posteriors_z_list = []\n",
    "for event in pos_samples_bilby_names:\n",
    "    zi = pos_samples_bilby_names[event]['redshift']\n",
    "    prior_zi = dDL_dz_interp(zi)\n",
    "    #prior_zi_normalized = prior_zi/np.trapz(prior_zi, zi)\n",
    "    prior_zi_normalized = prior_zi/np.sum(prior_zi)\n",
    "    event_i = {'redshift': zi,\n",
    "               'prior': prior_zi_normalized}\n",
    "    posteriors_z_list.append(pd.DataFrame(event_i))"
   ]
  },
  {
   "cell_type": "markdown",
   "id": "c915fafc-f7d9-4e0b-a531-b05e014f868d",
   "metadata": {},
   "source": [
    "### Save to pickle file"
   ]
  },
  {
   "cell_type": "code",
   "execution_count": 31,
   "id": "c47d3a82-f312-44ae-8dff-8c81f861e113",
   "metadata": {},
   "outputs": [],
   "source": [
    "# commented out to avoid accidental overwriting\n",
    "#pd.to_pickle(posteriors_z_list, os.path.join(base_dir, 'gwpopulation', 'BBH', \n",
    "#                        'CE4020ET123_CoBA10_2_PLP_z_MD_zmax_10_lmrd_22_no_spins_z_posteriors_1500_events.pkl'))"
   ]
  },
  {
   "cell_type": "markdown",
   "id": "9c9c91f1-a62a-48cf-ad21-91cc87012cfd",
   "metadata": {},
   "source": [
    "## Plot posteriors for redshift"
   ]
  },
  {
   "cell_type": "code",
   "execution_count": 41,
   "id": "3eb36f49-7551-4a02-a29a-6cf29fc18a43",
   "metadata": {},
   "outputs": [
    {
     "name": "stderr",
     "output_type": "stream",
     "text": [
      "100%|██████████████████████████████████████████████████████████████████████████████████████████████████████████████████████████████████████████████████████████████████████████████████████████████████████████████████████████████████████████████████████████████████████████████████| 499/499 [00:13<00:00, 37.18it/s]\n"
     ]
    },
    {
     "data": {
      "text/plain": [
       "(0.0, 7.840914998983969)"
      ]
     },
     "execution_count": 41,
     "metadata": {},
     "output_type": "execute_result"
    },
    {
     "data": {
      "image/png": "[encoded data removed]",
      "text/plain": [
       "<Figure size 640x480 with 1 Axes>"
      ]
     },
     "metadata": {},
     "output_type": "display_data"
    }
   ],
   "source": [
    "import seaborn as sns\n",
    "warnings.filterwarnings(\n",
    "    \"ignore\",\n",
    "    message=\".*use_inf_as_na option is deprecated.*\",\n",
    "    category=FutureWarning\n",
    ")\n",
    "\n",
    "for event in tqdm(list(posterior_samples_all_events.keys())):\n",
    "    sns.kdeplot(posterior_samples_all_events[event]['z'], color='grey')\n",
    "plt.xlim(0,)"
   ]
  },
  {
   "cell_type": "code",
   "execution_count": null,
   "id": "e8039158-fe87-4357-bbfe-84b736be9a14",
   "metadata": {},
   "outputs": [],
   "source": []
  },
  {
   "cell_type": "code",
   "execution_count": null,
   "id": "a398ed51-c682-4c56-b9fe-8297d4a48131",
   "metadata": {},
   "outputs": [],
   "source": []
  },
  {
   "cell_type": "code",
   "execution_count": null,
   "id": "ef778f41-bee5-471d-acd2-3a112fad1519",
   "metadata": {},
   "outputs": [],
   "source": []
  },
  {
   "cell_type": "markdown",
   "id": "2217c32c-3644-4233-b0d0-a95cb2aabc9a",
   "metadata": {
    "jp-MarkdownHeadingCollapsed": true
   },
   "source": [
    "## Convert DL errors to z"
   ]
  },
  {
   "cell_type": "code",
   "execution_count": 35,
   "id": "6ed2bd6e-f67e-47f9-b95e-a94e4d08ad96",
   "metadata": {},
   "outputs": [],
   "source": [
    "def calc_dz_dDL(z_arr, DL_arr):\n",
    "    \"\"\"\n",
    "    Parameters: \n",
    "    ----------------------\n",
    "    z_arr: numpy array\n",
    "        redshift value\n",
    "    DL_arr: numpy array\n",
    "        Luminosity distance (Mpc)\n",
    "\n",
    "    Returns:\n",
    "    --------------------------\n",
    "    delta_z_arr: dz_dDL : scipy.interpolate.UnivariateSpline\n",
    "        Derivative spline giving dz/dDL\n",
    "    \"\"\"\n",
    "    \n",
    "    sort_idx = np.argsort(DL_arr)\n",
    "    DL_sorted = DL_arr[sort_idx]\n",
    "    z_sorted = z_arr[sort_idx]\n",
    "    \n",
    "    fz = UnivariateSpline(DL_sorted, z_sorted)\n",
    "    dfz_dDL = fz.derivative()\n",
    "    return(dfz_dDL)"
   ]
  },
  {
   "cell_type": "code",
   "execution_count": 15,
   "id": "be6abc5e-d4d0-48e1-9fa0-8954a64e2f45",
   "metadata": {},
   "outputs": [],
   "source": [
    "def get_delta_z_from_delta_DL(z_arr, DL_arr, delta_DL_arr):\n",
    "    \"\"\"\n",
    "    Parameters: \n",
    "    ----------------------\n",
    "    z_arr: numpy array\n",
    "        redshift value\n",
    "    DL_arr: numpy array\n",
    "        Luminosity distance (Mpc)\n",
    "    delta_DL_arr: numpy array\n",
    "        error on DL\n",
    "\n",
    "    Returns:\n",
    "    --------------------------\n",
    "    delta_z_arr: numpy array\n",
    "        error on z\n",
    "    \"\"\"\n",
    "    \n",
    "    dfz_dDL = calc_dz_dDL(z_arr, DL_arr)\n",
    "    delta_z = dfz_dDL(DL_arr) * delta_DL_arr\n",
    "    return(delta_z)"
   ]
  },
  {
   "cell_type": "code",
   "execution_count": 16,
   "id": "d2ae025d-c905-4a75-b0c3-9544d80a92f9",
   "metadata": {},
   "outputs": [],
   "source": [
    "fm_results['errs']['z'] = get_delta_z_from_delta_DL(fm_results['inj_params']['z'], \n",
    "                                                    fm_results['inj_params']['DL'], \n",
    "                                                    fm_results['errs']['DL'])"
   ]
  },
  {
   "cell_type": "code",
   "execution_count": 17,
   "id": "94cc850c-7da3-494d-976b-0878e4a8f4db",
   "metadata": {},
   "outputs": [],
   "source": [
    "fm_results['errs']['log_z'] = fm_results['errs']['z']/fm_results['inj_params']['z']"
   ]
  },
  {
   "cell_type": "code",
   "execution_count": 18,
   "id": "96b2005a-379c-479d-aeb4-4e4d799ca54a",
   "metadata": {},
   "outputs": [],
   "source": [
    "def transform_cov_logDL_logMc_to_z_Mc(cov, DL, dz_dDL, logDL_index, Mc, logMc_index):\n",
    "    \"\"\"\n",
    "    Transforms a covariance matrix where:\n",
    "    - log_DL is replaced with redshift using dz/dDL spline\n",
    "    - log_Mc is replaced with M_c using exp transformation\n",
    "\n",
    "    Parameters:\n",
    "    -----------\n",
    "    cov : np.ndarray\n",
    "        Original NxN covariance matrix including log_DL and log_Mc.\n",
    "    DL : float\n",
    "        True or mean value of DL (Mpc).\n",
    "    dz_dDL : scipy.interpolate.UnivariateSpline\n",
    "        Derivative spline giving dz/dDL\n",
    "    logDL_index : int\n",
    "        Index of log_DL in the covariance matrix.\n",
    "    Mc : float\n",
    "        True or mean value of chirp mass.\n",
    "    logMc_index : int\n",
    "        Index of log_Mc in the covariance matrix.\n",
    "\n",
    "    Returns:\n",
    "    --------\n",
    "    cov_new : np.ndarray\n",
    "        Transformed covariance matrix with redshift and M_c replacing log_DL and log_Mc.\n",
    "    \"\"\"\n",
    "    \n",
    "    dz_dlogDL = dz_dDL(DL) * DL  # chain rule: dz/dlogDL = dz/dDL * DL\n",
    "    dMc_dlogMc = Mc              # derivative of exp(log_Mc) is Mc\n",
    "\n",
    "    # Build Jacobian matrix\n",
    "    N = cov.shape[0]\n",
    "    J = np.eye(N)\n",
    "    J[logDL_index, logDL_index] = dz_dlogDL\n",
    "    J[logMc_index, logMc_index] = dMc_dlogMc\n",
    "\n",
    "    # Transform covariance\n",
    "    cov_new = J @ cov @ J.T\n",
    "    return cov_new"
   ]
  },
  {
   "cell_type": "code",
   "execution_count": null,
   "id": "4f539090-0691-43f1-91e6-72bd7403f35f",
   "metadata": {},
   "outputs": [],
   "source": []
  },
  {
   "cell_type": "code",
   "execution_count": null,
   "id": "cc6e074f-b0f2-4ac1-822b-5753632dbe77",
   "metadata": {},
   "outputs": [],
   "source": []
  },
  {
   "cell_type": "code",
   "execution_count": null,
   "id": "396c0d44-ca4e-4d25-875f-7d8341d96397",
   "metadata": {},
   "outputs": [],
   "source": []
  },
  {
   "cell_type": "code",
   "execution_count": null,
   "id": "599914ca-3923-41fa-a8e2-c4fa5a4abbd0",
   "metadata": {},
   "outputs": [],
   "source": []
  },
  {
   "cell_type": "code",
   "execution_count": null,
   "id": "16198e63-f3c7-4053-978f-98309e7799be",
   "metadata": {},
   "outputs": [],
   "source": []
  },
  {
   "cell_type": "code",
   "execution_count": null,
   "id": "11cba92c-19df-4056-9ebc-728a5081d49b",
   "metadata": {},
   "outputs": [],
   "source": []
  },
  {
   "cell_type": "markdown",
   "id": "fb98cb7a-382e-4a62-8960-7a147fbc3159",
   "metadata": {
    "jp-MarkdownHeadingCollapsed": true
   },
   "source": [
    "## Others"
   ]
  },
  {
   "cell_type": "code",
   "execution_count": 31,
   "id": "06ec18ca-60ea-4612-bebe-423d24cf2e46",
   "metadata": {},
   "outputs": [],
   "source": [
    "def transform_cov_Mc_det_to_src(cov, Mc_index, z_index, Mc_det_val, z_val):\n",
    "    \"\"\"\n",
    "    Transforms the covariance matrix from detector-frame Mc to source-frame Mc.\n",
    "\n",
    "    Parameters:\n",
    "    -----------\n",
    "    cov : np.ndarray\n",
    "        NxN covariance matrix including Mc (det-frame) and z.\n",
    "    Mc_index : int\n",
    "        Index of detector-frame Mc in the covariance matrix.\n",
    "    z_index : int\n",
    "        Index of redshift in the covariance matrix.\n",
    "    Mc_det_val : float\n",
    "        Detector-frame chirp mass.\n",
    "    z_val : float\n",
    "        Redshift at which to evaluate the Jacobian.\n",
    "\n",
    "    Returns:\n",
    "    --------\n",
    "    cov_new : np.ndarray\n",
    "        Transformed covariance matrix with Mc_src instead of Mc_det.\n",
    "    \"\"\"\n",
    "\n",
    "    N = cov.shape[0]\n",
    "    J = np.eye(N)\n",
    "\n",
    "    # Partial derivatives\n",
    "    dMcsrc_dMcdet = 1 / (1 + z_val)\n",
    "    dMcsrc_dz = -Mc_det_val / (1 + z_val)**2\n",
    "\n",
    "    # Modify the Jacobian\n",
    "    J[Mc_index, Mc_index] = dMcsrc_dMcdet\n",
    "    J[Mc_index, z_index] = dMcsrc_dz\n",
    "\n",
    "    # Apply Jacobian transformation\n",
    "    cov_new = J @ cov @ J.T\n",
    "    return cov_new"
   ]
  },
  {
   "cell_type": "code",
   "execution_count": 32,
   "id": "c8c191c9-a518-4819-ac17-fc1e7657d9c6",
   "metadata": {},
   "outputs": [],
   "source": [
    "failed['new_cov_src_Mc'] = []\n",
    "for event in range(499):\n",
    "    new_cov = fm_results['new_cov'][event]\n",
    "    new_cov_src_mc = transform_cov_Mc_det_to_src(new_cov, \n",
    "                                                 fm_results['new_deriv_variables_in_order'].index('Mc'), \n",
    "                                                 fm_results['new_deriv_variables_in_order'].index('z'),\n",
    "                                                 fm_results['inj_params']['Mc'][event],\n",
    "                                                 fm_results['inj_params']['z'][event])\n",
    "    try:\n",
    "        np.linalg.cholesky(new_cov_src_mc)\n",
    "    except np.linalg.LinAlgError:\n",
    "        failed['new_cov_src_Mc'].append(event)"
   ]
  },
  {
   "cell_type": "code",
   "execution_count": 34,
   "id": "2da35192-9a0d-4c73-b501-f0c14a1e3065",
   "metadata": {},
   "outputs": [
    {
     "data": {
      "text/plain": [
       "67"
      ]
     },
     "execution_count": 34,
     "metadata": {},
     "output_type": "execute_result"
    }
   ],
   "source": [
    "len(list(failed['new_cov_src_Mc']))"
   ]
  },
  {
   "cell_type": "code",
   "execution_count": null,
   "id": "bc66946a-e09a-4841-9309-b5c380e23bb4",
   "metadata": {},
   "outputs": [],
   "source": []
  }
 ],
 "metadata": {
  "kernelspec": {
   "display_name": "spe_ngloc_mygwf_mypycbc",
   "language": "python",
   "name": "spe_ngloc_mygwf_mypycbc"
  },
  "language_info": {
   "codemirror_mode": {
    "name": "ipython",
    "version": 3
   },
   "file_extension": ".py",
   "mimetype": "text/x-python",
   "name": "python",
   "nbconvert_exporter": "python",
   "pygments_lexer": "ipython3",
   "version": "3.11.11"
  }
 },
 "nbformat": 4,
 "nbformat_minor": 5
}
