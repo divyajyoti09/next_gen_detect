{
 "cells": [
  {
   "cell_type": "code",
   "execution_count": 8,
   "id": "2af1b0aa-3541-43f8-bff0-7e19f5c77609",
   "metadata": {},
   "outputs": [],
   "source": [
    "import pickle\n",
    "import pandas as pd\n",
    "import numpy as np\n",
    "import pylab as plt\n",
    "from tqdm import tqdm\n",
    "import time"
   ]
  },
  {
   "cell_type": "code",
   "execution_count": 9,
   "id": "b652ad0e-c9cd-40dc-8f29-7ec002a8a5fb",
   "metadata": {},
   "outputs": [
    {
     "name": "stderr",
     "output_type": "stream",
     "text": [
      "  0%|                                                                                                                                                            | 0/10 [00:00<?, ?it/s]\n",
      "\u001b[A%|                                                                                                                                                            | 0/10 [00:00<?, ?it/s]\n",
      "\u001b[A%|███████████████████████████████████████████████████████████████████████████████████████████████████████████████████████████████████████████████████| 10/10 [00:00<00:00, 98.49it/s]\n",
      " 10%|██████████████▊                                                                                                                                     | 1/10 [00:00<00:01,  8.70it/s]\n",
      "\u001b[A%|                                                                                                                                                            | 0/10 [00:00<?, ?it/s]\n",
      "\u001b[A%|███████████████████████████████████████████████████████████████████████████████████████████████████████████████████████████████████████████████████| 10/10 [00:00<00:00, 97.98it/s]\n",
      " 20%|█████████████████████████████▌                                                                                                                      | 2/10 [00:00<00:00,  8.65it/s]\n",
      "\u001b[A%|                                                                                                                                                            | 0/10 [00:00<?, ?it/s]\n",
      "\u001b[A%|███████████████████████████████████████████████████████████████████████████████████████████████████████████████████████████████████████████████████| 10/10 [00:00<00:00, 97.61it/s]\n",
      " 30%|████████████████████████████████████████████▍                                                                                                       | 3/10 [00:00<00:00,  8.70it/s]\n",
      "\u001b[A%|                                                                                                                                                            | 0/10 [00:00<?, ?it/s]\n",
      "\u001b[A%|███████████████████████████████████████████████████████████████████████████████████████████████████████████████████████████████████████████████████| 10/10 [00:00<00:00, 97.97it/s]\n",
      " 40%|███████████████████████████████████████████████████████████▏                                                                                        | 4/10 [00:00<00:00,  8.85it/s]\n",
      "\u001b[A%|                                                                                                                                                            | 0/10 [00:00<?, ?it/s]\n",
      "\u001b[A%|███████████████████████████████████████████████████████████████████████████████████████████████████████████████████████████████████████████████████| 10/10 [00:00<00:00, 97.91it/s]\n",
      " 50%|██████████████████████████████████████████████████████████████████████████                                                                          | 5/10 [00:00<00:00,  8.88it/s]\n",
      "\u001b[A%|                                                                                                                                                            | 0/10 [00:00<?, ?it/s]\n",
      "\u001b[A%|███████████████████████████████████████████████████████████████████████████████████████████████████████████████████████████████████████████████████| 10/10 [00:00<00:00, 97.76it/s]\n",
      " 60%|████████████████████████████████████████████████████████████████████████████████████████▊                                                           | 6/10 [00:00<00:00,  8.89it/s]\n",
      "\u001b[A%|                                                                                                                                                            | 0/10 [00:00<?, ?it/s]\n",
      "\u001b[A%|███████████████████████████████████████████████████████████████████████████████████████████████████████████████████████████████████████████████████| 10/10 [00:00<00:00, 98.32it/s]\n",
      " 70%|███████████████████████████████████████████████████████████████████████████████████████████████████████▌                                            | 7/10 [00:00<00:00,  8.94it/s]\n",
      "\u001b[A%|                                                                                                                                                            | 0/10 [00:00<?, ?it/s]\n",
      "\u001b[A%|███████████████████████████████████████████████████████████████████████████████████████████████████████████████████████████████████████████████████| 10/10 [00:00<00:00, 97.85it/s]\n",
      " 80%|██████████████████████████████████████████████████████████████████████████████████████████████████████████████████████▍                             | 8/10 [00:00<00:00,  8.87it/s]\n",
      "\u001b[A%|                                                                                                                                                            | 0/10 [00:00<?, ?it/s]\n",
      "\u001b[A%|███████████████████████████████████████████████████████████████████████████████████████████████████████████████████████████████████████████████████| 10/10 [00:00<00:00, 97.56it/s]\n",
      " 90%|█████████████████████████████████████████████████████████████████████████████████████████████████████████████████████████████████████▏              | 9/10 [00:01<00:00,  8.80it/s]\n",
      "\u001b[A%|                                                                                                                                                            | 0/10 [00:00<?, ?it/s]\n",
      "\u001b[A%|███████████████████████████████████████████████████████████████████████████████████████████████████████████████████████████████████████████████████| 10/10 [00:00<00:00, 98.03it/s]\n",
      "100%|███████████████████████████████████████████████████████████████████████████████████████████████████████████████████████████████████████████████████| 10/10 [00:01<00:00,  8.79it/s]\n"
     ]
    }
   ],
   "source": [
    "arr = []\n",
    "for i in tqdm(np.arange(10)):\n",
    "    for j in tqdm(range(10), leave=False):\n",
    "        arr.append([i, i**2])\n",
    "        time.sleep(0.01)"
   ]
  },
  {
   "cell_type": "code",
   "execution_count": 8,
   "id": "86ad76f1-b514-4b21-9e76-597c92d79d9f",
   "metadata": {},
   "outputs": [],
   "source": [
    "below_40 = pd.read_pickle('/home/divyajyoti/ACADEMIC/Projects/Cardiff_University/Next_gen_detectability/A-sharp-study/gwpopulation/BBH/posteriors_from_GWFish/mass_bands/CE4020ET123_CoBA10_2_PLP_z_MD_zmax_10_lmrd_22_no_spins_z_posteriors_10K_4977_events_pop_from_XPHM_below_40.pkl')"
   ]
  },
  {
   "cell_type": "code",
   "execution_count": 18,
   "id": "d6abff66-4468-4f6f-ac06-f30a37abbe31",
   "metadata": {},
   "outputs": [
    {
     "data": {
      "image/png": "[encoded data removed]",
      "text/plain": [
       "<Figure size 640x480 with 1 Axes>"
      ]
     },
     "metadata": {},
     "output_type": "display_data"
    }
   ],
   "source": [
    "z_medians = np.array([np.median(i['redshift']) for i in below_40])\n",
    "plt.hist(z_medians, bins=50);"
   ]
  },
  {
   "cell_type": "code",
   "execution_count": 19,
   "id": "28e42ab3-93fa-45de-8b01-8e355aa2bd77",
   "metadata": {},
   "outputs": [
    {
     "data": {
      "text/plain": [
       "array([11.49771245, 11.31502517, 10.76426427])"
      ]
     },
     "execution_count": 19,
     "metadata": {},
     "output_type": "execute_result"
    }
   ],
   "source": [
    "mask = (z_medians > 10)\n",
    "z_medians[mask]"
   ]
  },
  {
   "cell_type": "code",
   "execution_count": null,
   "id": "d45032e8-b123-4b06-a1b2-88abf5192991",
   "metadata": {},
   "outputs": [],
   "source": []
  }
 ],
 "metadata": {
  "kernelspec": {
   "display_name": "igwn-py311",
   "language": "python",
   "name": "igwn-py311"
  },
  "language_info": {
   "codemirror_mode": {
    "name": "ipython",
    "version": 3
   },
   "file_extension": ".py",
   "mimetype": "text/x-python",
   "name": "python",
   "nbconvert_exporter": "python",
   "pygments_lexer": "ipython3",
   "version": "3.11.10"
  }
 },
 "nbformat": 4,
 "nbformat_minor": 5
}
