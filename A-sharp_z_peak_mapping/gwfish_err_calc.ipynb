{
 "cells": [
  {
   "cell_type": "code",
   "execution_count": 1,
   "id": "e5ff518f-6618-4cfe-ac1e-b36779febf6b",
   "metadata": {},
   "outputs": [],
   "source": [
    "import warnings\n",
    "warnings.filterwarnings(\"ignore\", \"Wswiglal-redir-stdio\")\n",
    "import h5py\n",
    "from gwbench import Network, injections_CBC_params_redshift\n",
    "import pandas as pd\n",
    "import deepdish as dd\n",
    "import os\n",
    "import numpy as np\n",
    "import pylab as plt\n",
    "from glob import glob\n",
    "from tqdm import tqdm"
   ]
  },
  {
   "cell_type": "markdown",
   "id": "67d25f69-3492-4284-bb23-4591aa00d003",
   "metadata": {},
   "source": [
    "## Get injection data"
   ]
  },
  {
   "cell_type": "code",
   "execution_count": 2,
   "id": "a7c9779b-0deb-473a-a773-0527f99e7618",
   "metadata": {},
   "outputs": [],
   "source": [
    "base_dir = '/home/divyajyoti/ACADEMIC/Projects/Cardiff_University/Next_gen_detectability/A-sharp-study/'\n",
    "inj_data_file = os.path.join(base_dir, 'SNR_output_files', 'BBH', \n",
    "                             'LHI_SNR_1_pop_PLP_spin_prec_z_MD_zmax_6_lmrd_22_365_days_corrected_td_SNR_data.h5')"
   ]
  },
  {
   "cell_type": "code",
   "execution_count": 3,
   "id": "24ead83d-8f67-4554-a384-9dbbffa5579a",
   "metadata": {},
   "outputs": [],
   "source": [
    "inj_data = dd.io.load(inj_data_file)"
   ]
  },
  {
   "cell_type": "code",
   "execution_count": 4,
   "id": "62baf7b3-8e9e-4be7-b360-756ea3bbf77e",
   "metadata": {},
   "outputs": [
    {
     "data": {
      "text/plain": [
       "Index(['PSD_L1', 'PSD_H1', 'PSD_I1', 'spin1_a', 'spin2_a', 'chi_eff', 'chi_p',\n",
       "       'mchirp', 'srcmchirp', 'cos_spin1_polar', 'cos_spin2_polar', 'srcmass1',\n",
       "       'srcmass2', 'q', 'spin1_azimuthal', 'spin2_azimuthal', 'redshift',\n",
       "       'eta', 'spin1_polar', 'spin2_polar', 'mtotal', 'srcmtotal',\n",
       "       'chi_1_in_plane', 'chi_2_in_plane', 'phi_12', 'phi_jl', 'theta_jn',\n",
       "       'time_interval', 'inclination', 'distance', 'mass1', 'mass2',\n",
       "       'coa_phase', 'f_ref', 'spin1x', 'spin1y', 'spin1z', 'spin2x', 'spin2y',\n",
       "       'spin2z', 'approximant', 'f_lower', 'delta_f', 'f_final', 'dec',\n",
       "       'trigger_time', 'polarization', 'ra', 'SNR_L1', 'SNR_H1', 'SNR_I1',\n",
       "       'SNR_network'],\n",
       "      dtype='object')"
      ]
     },
     "execution_count": 4,
     "metadata": {},
     "output_type": "execute_result"
    }
   ],
   "source": [
    "inj_data['Optimal_SNR'].keys()"
   ]
  },
  {
   "cell_type": "code",
   "execution_count": 5,
   "id": "ef128310-c5c8-4650-ab3a-73a0e0ac9755",
   "metadata": {},
   "outputs": [],
   "source": [
    "def get_detected_SNRs(data_dict, ifo_threshold=5, network_threshold=12, method='network', return_detected_dict=False):\n",
    "    SNR_keys = [key for key in data_dict.keys() if 'SNR' in key]\n",
    "    detected_bool_dict = {}\n",
    "    detected_dict = {}\n",
    "    \n",
    "    for key in SNR_keys:\n",
    "        dict_key = key.split('SNR_')[-1]\n",
    "        \n",
    "        if \"network\" in key:\n",
    "            threshold = network_threshold\n",
    "        else:\n",
    "            threshold = ifo_threshold\n",
    "\n",
    "        detected_bool_dict[dict_key] = data_dict[key] >= threshold\n",
    "        detected_dict[dict_key] = data_dict[detected_bool_dict[dict_key]]\n",
    "\n",
    "    if method=='all':\n",
    "        detected_events_df = data_dict[np.all(tuple(detected_bool_dict.values()), axis=0) & detected_bool_dict['network']]\n",
    "    elif method == 'two-detector':\n",
    "        detector_keys = [key for key in detected_bool_dict.keys() if key != 'network']\n",
    "        detection_sum = np.sum([detected_bool_dict[key] for key in detector_keys], axis=0)\n",
    "        detected_events_df = data_dict[(detection_sum >= 2) & (detected_bool_dict['network'])]\n",
    "    elif method=='network':\n",
    "        detected_events_df = detected_dict['network']\n",
    "\n",
    "    if return_detected_dict:\n",
    "        return(detected_events_df, detected_dict)\n",
    "    else:\n",
    "        return(detected_events_df)"
   ]
  },
  {
   "cell_type": "code",
   "execution_count": 6,
   "id": "3134163a-b594-427b-87c8-b273181e340d",
   "metadata": {},
   "outputs": [],
   "source": [
    "inj_data['detected'] = get_detected_SNRs(inj_data['Optimal_SNR'], method='two-detector')"
   ]
  },
  {
   "cell_type": "markdown",
   "id": "a176ec62-1d66-43f7-a5d0-15e2ecc5d341",
   "metadata": {},
   "source": [
    "#### Choose n_events from detected as injection parameters"
   ]
  },
  {
   "cell_type": "code",
   "execution_count": 7,
   "id": "68f6f9ca-0cf1-409b-9685-fb879909586f",
   "metadata": {},
   "outputs": [],
   "source": [
    "n_events = 500\n",
    "inj_data['selected_n_events'] = inj_data['detected'].sample(n_events, random_state=123).sort_index()"
   ]
  },
  {
   "cell_type": "code",
   "execution_count": 8,
   "id": "2013bda2-5745-4e75-a143-191f2dcdc1e8",
   "metadata": {},
   "outputs": [
    {
     "data": {
      "text/plain": [
       "<matplotlib.legend.Legend at 0x7c21f9d8a020>"
      ]
     },
     "execution_count": 8,
     "metadata": {},
     "output_type": "execute_result"
    },
    {
     "data": {
      "image/png": "[encoded data removed]",
      "text/plain": [
       "<Figure size 640x480 with 1 Axes>"
      ]
     },
     "metadata": {},
     "output_type": "display_data"
    }
   ],
   "source": [
    "plt.hist(inj_data['detected']['redshift'], density=True, histtype=u'step', bins=50, label='Detected')\n",
    "plt.hist(inj_data['selected_n_events']['redshift'], density=True, histtype=u'step', bins=20, label='Selected');\n",
    "plt.legend()"
   ]
  },
  {
   "cell_type": "markdown",
   "id": "e5332943-7fee-41c2-965b-b7f0e929846f",
   "metadata": {},
   "source": [
    "## FM analysis with GWFish"
   ]
  },
  {
   "cell_type": "markdown",
   "id": "64890cf4-ef5d-41b1-9911-e2a99529791d",
   "metadata": {},
   "source": [
    "### Setup"
   ]
  },
  {
   "cell_type": "code",
   "execution_count": null,
   "id": "3200b9a7-8bbb-44c8-974d-34183c0f6dce",
   "metadata": {},
   "outputs": [],
   "source": []
  },
  {
   "cell_type": "markdown",
   "id": "ba1567a8-5bcd-431d-8ad5-ff73c59ecab3",
   "metadata": {},
   "source": [
    "### Calculate Errors"
   ]
  },
  {
   "cell_type": "markdown",
   "id": "e881fb60-213c-4f5a-a65c-f896a0143d64",
   "metadata": {},
   "source": [
    "### Add redshift to results file"
   ]
  },
  {
   "cell_type": "code",
   "execution_count": 45,
   "id": "d96ec0a3-1dd1-4e44-93b6-d9bfab2c9167",
   "metadata": {},
   "outputs": [
    {
     "name": "stdout",
     "output_type": "stream",
     "text": [
      "Skipping event number 331\n"
     ]
    }
   ],
   "source": [
    "i=0\n",
    "for DL, z in zip(inj_data['selected_n_events']['distance'], inj_data['selected_n_events']['redshift']):\n",
    "    if DL == failed_events['inj_params'][0]['DL']:\n",
    "        print(f'Skipping event number {i}')\n",
    "    else:\n",
    "        results['inj_params'][i]['z'] = z\n",
    "        i += 1"
   ]
  },
  {
   "cell_type": "code",
   "execution_count": 46,
   "id": "76c6ec91-d44e-4bb0-a80f-0576f7ccf2ab",
   "metadata": {},
   "outputs": [
    {
     "data": {
      "text/plain": [
       "Text(0.5, 0, '$\\\\Delta D_L / D_L$')"
      ]
     },
     "execution_count": 46,
     "metadata": {},
     "output_type": "execute_result"
    },
    {
     "data": {
      "image/png": "[encoded data removed]",
      "text/plain": [
       "<Figure size 640x480 with 1 Axes>"
      ]
     },
     "metadata": {},
     "output_type": "display_data"
    }
   ],
   "source": [
    "plt.hist([results['errs'][i]['log_DL'] for i in range(len(results['errs']))], bins=50);\n",
    "plt.xlabel('$\\Delta D_L / D_L$')"
   ]
  },
  {
   "cell_type": "markdown",
   "id": "022bccc9-f430-4b20-bd9f-d0fe6e4cd1ef",
   "metadata": {},
   "source": [
    "## Save to h5 file"
   ]
  },
  {
   "cell_type": "code",
   "execution_count": 47,
   "id": "98e1ef62-eb7d-48b6-9fd6-49966e2f9574",
   "metadata": {},
   "outputs": [],
   "source": [
    "def save_results_to_h5(results, filename):\n",
    "    with h5py.File(filename, 'w') as f:\n",
    "        # Save inj_params\n",
    "        inj_params_group = f.create_group('inj_params')\n",
    "        for i, param_dict in enumerate(results['inj_params']):\n",
    "            param_group = inj_params_group.create_group(str(i))\n",
    "            for key, value in param_dict.items():\n",
    "                param_group.create_dataset(key, data=value)\n",
    "\n",
    "        # Save cov (numpy matrices)\n",
    "        cov_group = f.create_group('cov')\n",
    "        for i, matrix in enumerate(results['cov']):\n",
    "            cov_group.create_dataset(str(i), data=matrix)\n",
    "\n",
    "        # Save errs\n",
    "        errs_group = f.create_group('errs')\n",
    "        for i, err_dict in enumerate(results['errs']):\n",
    "            err_group = errs_group.create_group(str(i))\n",
    "            for key, value in err_dict.items():\n",
    "                err_group.create_dataset(key, data=value)\n",
    "\n",
    "        # Save deriv_variables_in_order (list of strings)\n",
    "        dt = h5py.string_dtype(encoding='utf-8')\n",
    "        f.create_dataset('deriv_variables_in_order', \n",
    "                         data=np.array(results['deriv_variables_in_order'], \n",
    "                                       dtype=dt))"
   ]
  },
  {
   "cell_type": "code",
   "execution_count": 48,
   "id": "bd4ba43d-2301-466f-a228-52cd57501fa0",
   "metadata": {},
   "outputs": [],
   "source": [
    "results_file = os.path.join(base_dir, 'GWBench_analysis', 'BBH',\n",
    "                            'LHI_Asharp_PLP_z_MD_zmax_6_lmrd_22.h5')\n",
    "save_results_to_h5(results, results_file)"
   ]
  },
  {
   "cell_type": "markdown",
   "id": "0515023f-c026-4c10-9d7e-cfdc48dd9d75",
   "metadata": {},
   "source": [
    "## Spot checks with MPSAC study"
   ]
  },
  {
   "cell_type": "code",
   "execution_count": 130,
   "id": "dc09027a-05d4-4afa-96e6-c5800bb584d0",
   "metadata": {},
   "outputs": [
    {
     "name": "stderr",
     "output_type": "stream",
     "text": [
      "2025-04-28 17:14:13,053 - Network - INFO : PSDs, antenna patterns, and LPFs loaded.\n",
      "2025-04-28 17:14:13,055 - Network - INFO : Calculate numeric derivatives of detector responses.\n",
      "2025-04-28 17:14:13,057 - Network - INFO :    A-Sharp_L\n"
     ]
    },
    {
     "name": "stdout",
     "output_type": "stream",
     "text": [
      "{'DL': np.float64(1201.7289284158655), 'Mc': np.float64(10.173076975377805), 'chi1x': np.float64(0.0), 'chi1y': np.float64(0.0), 'chi1z': np.float64(0.19211394154826045), 'chi2x': np.float64(0.0), 'chi2y': np.float64(0.0), 'chi2z': np.float64(0.6754359033651994), 'dec': np.float64(0.8868455246623403), 'eta': np.float64(0.24979572202585482), 'gmst0': np.float64(44958.217426017385), 'iota': np.float64(1.794815369700618), 'log_DL': np.float64(7.091516572537438), 'log_Mc': np.float64(2.110255321424193), 'phic': np.float64(0.0), 'psi': np.float64(6.015544099346893), 'ra': np.float64(4.986160332486727), 'tc': np.float64(0.0), 'z': np.float64(0.23304830102271445)}\n"
     ]
    },
    {
     "name": "stderr",
     "output_type": "stream",
     "text": [
      "2025-04-28 17:14:14,638 - Network - INFO :    A-Sharp_H\n",
      "2025-04-28 17:14:16,266 - Network - INFO :    A-Sharp_I\n",
      "2025-04-28 17:14:17,822 - Network - INFO : Numeric derivatives of detector responses calculated.\n",
      "2025-04-28 17:14:17,824 - Network - INFO : SNRs calculated.\n",
      "2025-04-28 17:14:17,825 - Network - INFO : Calculate errors (Fisher & cov matrices).\n",
      "2025-04-28 17:14:17,826 - Network - INFO :    A-Sharp_L\n",
      "2025-04-28 17:14:17,884 - Network - INFO :    A-Sharp_H\n",
      "2025-04-28 17:14:17,934 - Network - INFO :    A-Sharp_I\n",
      "2025-04-28 17:14:17,997 - Network - INFO : Sky areas calculated.\n",
      "2025-04-28 17:14:17,998 - Network - INFO : Errors calculated.\n"
     ]
    }
   ],
   "source": [
    "mpsac_dir = '/home/divyajyoti/ACADEMIC/Projects/Cardiff_University/Next_gen_detectability/Relevant_papers/Ish Gupta_et_al_data/'\n",
    "mpsac_data_bbh = {}\n",
    "with h5py.File(glob(os.path.join(mpsac_dir, '*', '*', '*bbh*hdf5'))[0], 'r') as file:\n",
    "    i=100\n",
    "    inj_params = {key:file['inj_params'][key][i] for key in file['inj_params'].keys()}\n",
    "    Mc = (1+inj_params['z'])*inj_params['Mc']\n",
    "    inj_params['Mc'] = Mc\n",
    "    print(inj_params)\n",
    "    fm, cov, errs = run_analysis(inj_params)\n",
    "    err_dict = {key:[file['networks']['HLI'][key][i], errs[key]] for key in errs.keys()}\n",
    "    err_dict['source'] = ['MPSAC', 'Current analysis']\n",
    "    err_df = pd.DataFrame(err_dict).set_index('source').T"
   ]
  },
  {
   "cell_type": "code",
   "execution_count": 131,
   "id": "85e8f878-62eb-4d21-a795-ae170b50777c",
   "metadata": {},
   "outputs": [
    {
     "data": {
      "text/html": [
       "<div>\n",
       "<style scoped>\n",
       "    .dataframe tbody tr th:only-of-type {\n",
       "        vertical-align: middle;\n",
       "    }\n",
       "\n",
       "    .dataframe tbody tr th {\n",
       "        vertical-align: top;\n",
       "    }\n",
       "\n",
       "    .dataframe thead th {\n",
       "        text-align: right;\n",
       "    }\n",
       "</style>\n",
       "<table border=\"1\" class=\"dataframe\">\n",
       "  <thead>\n",
       "    <tr style=\"text-align: right;\">\n",
       "      <th>source</th>\n",
       "      <th>MPSAC</th>\n",
       "      <th>Current analysis</th>\n",
       "    </tr>\n",
       "  </thead>\n",
       "  <tbody>\n",
       "    <tr>\n",
       "      <th>log_Mc</th>\n",
       "      <td>0.000212</td>\n",
       "      <td>0.000261</td>\n",
       "    </tr>\n",
       "    <tr>\n",
       "      <th>eta</th>\n",
       "      <td>0.000101</td>\n",
       "      <td>0.000238</td>\n",
       "    </tr>\n",
       "    <tr>\n",
       "      <th>log_DL</th>\n",
       "      <td>0.109427</td>\n",
       "      <td>0.347435</td>\n",
       "    </tr>\n",
       "    <tr>\n",
       "      <th>iota</th>\n",
       "      <td>0.067809</td>\n",
       "      <td>0.235479</td>\n",
       "    </tr>\n",
       "    <tr>\n",
       "      <th>tc</th>\n",
       "      <td>0.000230</td>\n",
       "      <td>0.000257</td>\n",
       "    </tr>\n",
       "    <tr>\n",
       "      <th>phic</th>\n",
       "      <td>1.234825</td>\n",
       "      <td>1.137982</td>\n",
       "    </tr>\n",
       "    <tr>\n",
       "      <th>ra</th>\n",
       "      <td>0.014507</td>\n",
       "      <td>0.018048</td>\n",
       "    </tr>\n",
       "    <tr>\n",
       "      <th>dec</th>\n",
       "      <td>0.036084</td>\n",
       "      <td>0.034405</td>\n",
       "    </tr>\n",
       "    <tr>\n",
       "      <th>psi</th>\n",
       "      <td>0.095636</td>\n",
       "      <td>0.229906</td>\n",
       "    </tr>\n",
       "    <tr>\n",
       "      <th>chi1z</th>\n",
       "      <td>0.003444</td>\n",
       "      <td>0.006480</td>\n",
       "    </tr>\n",
       "    <tr>\n",
       "      <th>chi2z</th>\n",
       "      <td>0.000163</td>\n",
       "      <td>0.000736</td>\n",
       "    </tr>\n",
       "    <tr>\n",
       "      <th>sky_area_90</th>\n",
       "      <td>13.014113</td>\n",
       "      <td>18.634325</td>\n",
       "    </tr>\n",
       "  </tbody>\n",
       "</table>\n",
       "</div>"
      ],
      "text/plain": [
       "source           MPSAC  Current analysis\n",
       "log_Mc        0.000212          0.000261\n",
       "eta           0.000101          0.000238\n",
       "log_DL        0.109427          0.347435\n",
       "iota          0.067809          0.235479\n",
       "tc            0.000230          0.000257\n",
       "phic          1.234825          1.137982\n",
       "ra            0.014507          0.018048\n",
       "dec           0.036084          0.034405\n",
       "psi           0.095636          0.229906\n",
       "chi1z         0.003444          0.006480\n",
       "chi2z         0.000163          0.000736\n",
       "sky_area_90  13.014113         18.634325"
      ]
     },
     "execution_count": 131,
     "metadata": {},
     "output_type": "execute_result"
    }
   ],
   "source": [
    "err_df"
   ]
  },
  {
   "cell_type": "code",
   "execution_count": null,
   "id": "b76b8036-3e04-4984-b6b2-5a6c55b56665",
   "metadata": {},
   "outputs": [],
   "source": []
  }
 ],
 "metadata": {
  "kernelspec": {
   "display_name": "gwbench",
   "language": "python",
   "name": "gwbench"
  },
  "language_info": {
   "codemirror_mode": {
    "name": "ipython",
    "version": 3
   },
   "file_extension": ".py",
   "mimetype": "text/x-python",
   "name": "python",
   "nbconvert_exporter": "python",
   "pygments_lexer": "ipython3",
   "version": "3.10.13"
  }
 },
 "nbformat": 4,
 "nbformat_minor": 5
}
