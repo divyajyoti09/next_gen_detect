{
 "cells": [
  {
   "cell_type": "code",
   "execution_count": 1,
   "id": "e5ff518f-6618-4cfe-ac1e-b36779febf6b",
   "metadata": {},
   "outputs": [],
   "source": [
    "import warnings\n",
    "warnings.filterwarnings(\"ignore\", \"Wswiglal-redir-stdio\")\n",
    "import h5py\n",
    "\n",
    "import pandas as pd\n",
    "import deepdish as dd\n",
    "import os\n",
    "import numpy as np\n",
    "import pylab as plt\n",
    "from glob import glob\n",
    "from tqdm import tqdm\n",
    "import seaborn as sns\n",
    "from scipy.stats import ncx2\n",
    "from pesummary.gw.conversions.spins import spin_angles\n",
    "from GWFish.modules.detection import Network\n",
    "from GWFish.modules.fishermatrix import compute_network_errors\n",
    "import GWFish.modules as gwf_mods\n",
    "import pathlib"
   ]
  },
  {
   "cell_type": "markdown",
   "id": "67d25f69-3492-4284-bb23-4591aa00d003",
   "metadata": {},
   "source": [
    "## Get injection data SNRs"
   ]
  },
  {
   "cell_type": "code",
   "execution_count": 2,
   "id": "a7c9779b-0deb-473a-a773-0527f99e7618",
   "metadata": {},
   "outputs": [],
   "source": [
    "base_dir = '/home/divyajyoti/ACADEMIC/Projects/Cardiff_University/Next_gen_detectability/A-sharp-study/'\n",
    "inj_data_file = os.path.join(base_dir, 'SNR_output_files_XPHM', 'BBH', \n",
    "                             'CE4020ET123_CoBA10_SNR_5_pop_PLP_spin_prec_fref_5_z_MDlow_zp_1.54_zmax_10_lmrd_22_365_days_corrected_td_SNR_data.h5')\n",
    "#inj_data_file = os.path.join(base_dir, 'SNR_output_files_XPHM', 'BBH', \n",
    "#                             'LHI_SNR_5_pop_PLP_spin_prec_fref_10_z_MDlow_zp_1.54_zmax_10_lmrd_22_365_days_corrected_td_SNR_data.h5')"
   ]
  },
  {
   "cell_type": "code",
   "execution_count": 3,
   "id": "2ab1c4ed-308b-4547-b761-23e39c610a4c",
   "metadata": {
    "scrolled": true
   },
   "outputs": [],
   "source": [
    "def decode_bytes_recursive(val):\n",
    "    if isinstance(val, bytes):\n",
    "        return val.decode('utf-8')\n",
    "    elif isinstance(val, np.ndarray):\n",
    "        if val.dtype.kind == 'S':  # Byte string array\n",
    "            return np.vectorize(lambda x: x.decode('utf-8'))(val)\n",
    "        elif val.dtype.kind in {'O'}:\n",
    "            return np.vectorize(decode_bytes_recursive)(val)\n",
    "        else:\n",
    "            return val\n",
    "    elif isinstance(val, list):\n",
    "        return [decode_bytes_recursive(v) for v in val]\n",
    "    elif isinstance(val, dict):\n",
    "        return {k: decode_bytes_recursive(v) for k, v in val.items()}\n",
    "    return val\n",
    "\n",
    "def load_h5_group(group):\n",
    "    data = {}\n",
    "    for key in group.keys():\n",
    "        item = group[key]\n",
    "        if isinstance(item, h5py.Dataset):\n",
    "            val = item[()]\n",
    "            data[key] = decode_bytes_recursive(val)\n",
    "        elif isinstance(item, h5py.Group):\n",
    "            data[key] = load_h5_group(item)\n",
    "    return data"
   ]
  },
  {
   "cell_type": "code",
   "execution_count": 4,
   "id": "6e475de3-f9b5-455e-9c28-3f824b739877",
   "metadata": {
    "scrolled": true
   },
   "outputs": [],
   "source": [
    "# Main loader\n",
    "inj_data = {}\n",
    "with h5py.File(inj_data_file, 'r') as f:\n",
    "    for key in f.keys():\n",
    "        item = f[key]\n",
    "        if isinstance(item, h5py.Dataset):\n",
    "            val = item[()]\n",
    "            inj_data[key] = decode_bytes_recursive(val)\n",
    "        elif isinstance(item, h5py.Group):\n",
    "            inj_data[key] = load_h5_group(item)"
   ]
  },
  {
   "cell_type": "code",
   "execution_count": 5,
   "id": "62baf7b3-8e9e-4be7-b360-756ea3bbf77e",
   "metadata": {},
   "outputs": [
    {
     "data": {
      "text/html": [
       "<div>\n",
       "<style scoped>\n",
       "    .dataframe tbody tr th:only-of-type {\n",
       "        vertical-align: middle;\n",
       "    }\n",
       "\n",
       "    .dataframe tbody tr th {\n",
       "        vertical-align: top;\n",
       "    }\n",
       "\n",
       "    .dataframe thead th {\n",
       "        text-align: right;\n",
       "    }\n",
       "</style>\n",
       "<table border=\"1\" class=\"dataframe\">\n",
       "  <thead>\n",
       "    <tr style=\"text-align: right;\">\n",
       "      <th></th>\n",
       "      <th>PSD_C1</th>\n",
       "      <th>PSD_CE20</th>\n",
       "      <th>PSD_E1</th>\n",
       "      <th>PSD_E2</th>\n",
       "      <th>PSD_E3</th>\n",
       "      <th>SNR_C1</th>\n",
       "      <th>SNR_CE20</th>\n",
       "      <th>SNR_E1</th>\n",
       "      <th>SNR_E2</th>\n",
       "      <th>SNR_E3</th>\n",
       "      <th>...</th>\n",
       "      <th>spin2x</th>\n",
       "      <th>spin2y</th>\n",
       "      <th>spin2z</th>\n",
       "      <th>srcmass1</th>\n",
       "      <th>srcmass2</th>\n",
       "      <th>srcmchirp</th>\n",
       "      <th>srcmtotal</th>\n",
       "      <th>theta_jn</th>\n",
       "      <th>time_interval</th>\n",
       "      <th>trigger_time</th>\n",
       "    </tr>\n",
       "  </thead>\n",
       "  <tbody>\n",
       "    <tr>\n",
       "      <th>0</th>\n",
       "      <td>CE40</td>\n",
       "      <td>CE20</td>\n",
       "      <td>ET10_CoBA</td>\n",
       "      <td>ET10_CoBA</td>\n",
       "      <td>ET10_CoBA</td>\n",
       "      <td>26.890906</td>\n",
       "      <td>6.082231</td>\n",
       "      <td>11.573002</td>\n",
       "      <td>8.443707</td>\n",
       "      <td>4.183591</td>\n",
       "      <td>...</td>\n",
       "      <td>-0.151343</td>\n",
       "      <td>0.368443</td>\n",
       "      <td>0.336128</td>\n",
       "      <td>8.354979</td>\n",
       "      <td>6.641341</td>\n",
       "      <td>6.476252</td>\n",
       "      <td>14.996320</td>\n",
       "      <td>1.387950</td>\n",
       "      <td>2397.357958</td>\n",
       "      <td>1.893026e+09</td>\n",
       "    </tr>\n",
       "    <tr>\n",
       "      <th>1</th>\n",
       "      <td>CE40</td>\n",
       "      <td>CE20</td>\n",
       "      <td>ET10_CoBA</td>\n",
       "      <td>ET10_CoBA</td>\n",
       "      <td>ET10_CoBA</td>\n",
       "      <td>30.923279</td>\n",
       "      <td>19.586402</td>\n",
       "      <td>8.216392</td>\n",
       "      <td>6.510056</td>\n",
       "      <td>6.628056</td>\n",
       "      <td>...</td>\n",
       "      <td>0.215131</td>\n",
       "      <td>-0.265249</td>\n",
       "      <td>0.083893</td>\n",
       "      <td>20.416446</td>\n",
       "      <td>8.293748</td>\n",
       "      <td>11.107885</td>\n",
       "      <td>28.710194</td>\n",
       "      <td>2.107388</td>\n",
       "      <td>40.357782</td>\n",
       "      <td>1.893026e+09</td>\n",
       "    </tr>\n",
       "    <tr>\n",
       "      <th>2</th>\n",
       "      <td>CE40</td>\n",
       "      <td>CE20</td>\n",
       "      <td>ET10_CoBA</td>\n",
       "      <td>ET10_CoBA</td>\n",
       "      <td>ET10_CoBA</td>\n",
       "      <td>134.790289</td>\n",
       "      <td>58.389802</td>\n",
       "      <td>56.626102</td>\n",
       "      <td>57.878911</td>\n",
       "      <td>53.428096</td>\n",
       "      <td>...</td>\n",
       "      <td>-0.147023</td>\n",
       "      <td>-0.734618</td>\n",
       "      <td>0.526370</td>\n",
       "      <td>12.559317</td>\n",
       "      <td>8.447756</td>\n",
       "      <td>8.932054</td>\n",
       "      <td>21.007074</td>\n",
       "      <td>2.764603</td>\n",
       "      <td>139.074145</td>\n",
       "      <td>1.893027e+09</td>\n",
       "    </tr>\n",
       "    <tr>\n",
       "      <th>3</th>\n",
       "      <td>CE40</td>\n",
       "      <td>CE20</td>\n",
       "      <td>ET10_CoBA</td>\n",
       "      <td>ET10_CoBA</td>\n",
       "      <td>ET10_CoBA</td>\n",
       "      <td>24.422831</td>\n",
       "      <td>10.987275</td>\n",
       "      <td>3.875804</td>\n",
       "      <td>5.155366</td>\n",
       "      <td>2.734553</td>\n",
       "      <td>...</td>\n",
       "      <td>0.428761</td>\n",
       "      <td>0.145118</td>\n",
       "      <td>-0.203761</td>\n",
       "      <td>10.836214</td>\n",
       "      <td>10.812505</td>\n",
       "      <td>9.423146</td>\n",
       "      <td>21.648719</td>\n",
       "      <td>1.366520</td>\n",
       "      <td>452.588451</td>\n",
       "      <td>1.893027e+09</td>\n",
       "    </tr>\n",
       "    <tr>\n",
       "      <th>4</th>\n",
       "      <td>CE40</td>\n",
       "      <td>CE20</td>\n",
       "      <td>ET10_CoBA</td>\n",
       "      <td>ET10_CoBA</td>\n",
       "      <td>ET10_CoBA</td>\n",
       "      <td>22.438899</td>\n",
       "      <td>13.035350</td>\n",
       "      <td>10.440927</td>\n",
       "      <td>5.772831</td>\n",
       "      <td>5.237144</td>\n",
       "      <td>...</td>\n",
       "      <td>0.270313</td>\n",
       "      <td>0.499474</td>\n",
       "      <td>0.021336</td>\n",
       "      <td>17.554939</td>\n",
       "      <td>8.807417</td>\n",
       "      <td>10.699214</td>\n",
       "      <td>26.362356</td>\n",
       "      <td>2.334330</td>\n",
       "      <td>1334.041940</td>\n",
       "      <td>1.893028e+09</td>\n",
       "    </tr>\n",
       "    <tr>\n",
       "      <th>...</th>\n",
       "      <td>...</td>\n",
       "      <td>...</td>\n",
       "      <td>...</td>\n",
       "      <td>...</td>\n",
       "      <td>...</td>\n",
       "      <td>...</td>\n",
       "      <td>...</td>\n",
       "      <td>...</td>\n",
       "      <td>...</td>\n",
       "      <td>...</td>\n",
       "      <td>...</td>\n",
       "      <td>...</td>\n",
       "      <td>...</td>\n",
       "      <td>...</td>\n",
       "      <td>...</td>\n",
       "      <td>...</td>\n",
       "      <td>...</td>\n",
       "      <td>...</td>\n",
       "      <td>...</td>\n",
       "      <td>...</td>\n",
       "      <td>...</td>\n",
       "    </tr>\n",
       "    <tr>\n",
       "      <th>22755</th>\n",
       "      <td>CE40</td>\n",
       "      <td>CE20</td>\n",
       "      <td>ET10_CoBA</td>\n",
       "      <td>ET10_CoBA</td>\n",
       "      <td>ET10_CoBA</td>\n",
       "      <td>60.338039</td>\n",
       "      <td>45.030861</td>\n",
       "      <td>20.728980</td>\n",
       "      <td>23.342237</td>\n",
       "      <td>24.073963</td>\n",
       "      <td>...</td>\n",
       "      <td>0.527377</td>\n",
       "      <td>-0.601355</td>\n",
       "      <td>-0.350036</td>\n",
       "      <td>7.922638</td>\n",
       "      <td>3.637087</td>\n",
       "      <td>4.604523</td>\n",
       "      <td>11.559725</td>\n",
       "      <td>2.523197</td>\n",
       "      <td>231.780097</td>\n",
       "      <td>1.924435e+09</td>\n",
       "    </tr>\n",
       "    <tr>\n",
       "      <th>22756</th>\n",
       "      <td>CE40</td>\n",
       "      <td>CE20</td>\n",
       "      <td>ET10_CoBA</td>\n",
       "      <td>ET10_CoBA</td>\n",
       "      <td>ET10_CoBA</td>\n",
       "      <td>29.317528</td>\n",
       "      <td>17.671699</td>\n",
       "      <td>24.934851</td>\n",
       "      <td>22.595010</td>\n",
       "      <td>25.361612</td>\n",
       "      <td>...</td>\n",
       "      <td>0.010737</td>\n",
       "      <td>0.205612</td>\n",
       "      <td>-0.075798</td>\n",
       "      <td>30.715894</td>\n",
       "      <td>30.538703</td>\n",
       "      <td>26.662478</td>\n",
       "      <td>61.254596</td>\n",
       "      <td>1.005110</td>\n",
       "      <td>136.159327</td>\n",
       "      <td>1.924435e+09</td>\n",
       "    </tr>\n",
       "    <tr>\n",
       "      <th>22757</th>\n",
       "      <td>CE40</td>\n",
       "      <td>CE20</td>\n",
       "      <td>ET10_CoBA</td>\n",
       "      <td>ET10_CoBA</td>\n",
       "      <td>ET10_CoBA</td>\n",
       "      <td>37.008786</td>\n",
       "      <td>17.526966</td>\n",
       "      <td>11.016267</td>\n",
       "      <td>14.723909</td>\n",
       "      <td>4.339288</td>\n",
       "      <td>...</td>\n",
       "      <td>0.029080</td>\n",
       "      <td>-0.001921</td>\n",
       "      <td>-0.040690</td>\n",
       "      <td>31.189314</td>\n",
       "      <td>24.274139</td>\n",
       "      <td>23.915993</td>\n",
       "      <td>55.463453</td>\n",
       "      <td>1.582021</td>\n",
       "      <td>2736.237313</td>\n",
       "      <td>1.924438e+09</td>\n",
       "    </tr>\n",
       "    <tr>\n",
       "      <th>22758</th>\n",
       "      <td>CE40</td>\n",
       "      <td>CE20</td>\n",
       "      <td>ET10_CoBA</td>\n",
       "      <td>ET10_CoBA</td>\n",
       "      <td>ET10_CoBA</td>\n",
       "      <td>19.560080</td>\n",
       "      <td>16.292502</td>\n",
       "      <td>2.972777</td>\n",
       "      <td>5.018630</td>\n",
       "      <td>2.061012</td>\n",
       "      <td>...</td>\n",
       "      <td>0.105120</td>\n",
       "      <td>0.728601</td>\n",
       "      <td>-0.158751</td>\n",
       "      <td>11.143133</td>\n",
       "      <td>8.132996</td>\n",
       "      <td>8.267054</td>\n",
       "      <td>19.276129</td>\n",
       "      <td>1.515721</td>\n",
       "      <td>439.822230</td>\n",
       "      <td>1.924438e+09</td>\n",
       "    </tr>\n",
       "    <tr>\n",
       "      <th>22759</th>\n",
       "      <td>CE40</td>\n",
       "      <td>CE20</td>\n",
       "      <td>ET10_CoBA</td>\n",
       "      <td>ET10_CoBA</td>\n",
       "      <td>ET10_CoBA</td>\n",
       "      <td>28.530632</td>\n",
       "      <td>6.539493</td>\n",
       "      <td>21.042912</td>\n",
       "      <td>22.346096</td>\n",
       "      <td>21.132541</td>\n",
       "      <td>...</td>\n",
       "      <td>-0.043482</td>\n",
       "      <td>0.004263</td>\n",
       "      <td>-0.022820</td>\n",
       "      <td>8.767944</td>\n",
       "      <td>4.323863</td>\n",
       "      <td>5.294950</td>\n",
       "      <td>13.091806</td>\n",
       "      <td>2.170450</td>\n",
       "      <td>3280.836015</td>\n",
       "      <td>1.924441e+09</td>\n",
       "    </tr>\n",
       "  </tbody>\n",
       "</table>\n",
       "<p>22760 rows × 68 columns</p>\n",
       "</div>"
      ],
      "text/plain": [
       "      PSD_C1 PSD_CE20     PSD_E1     PSD_E2     PSD_E3      SNR_C1   SNR_CE20  \\\n",
       "0       CE40     CE20  ET10_CoBA  ET10_CoBA  ET10_CoBA   26.890906   6.082231   \n",
       "1       CE40     CE20  ET10_CoBA  ET10_CoBA  ET10_CoBA   30.923279  19.586402   \n",
       "2       CE40     CE20  ET10_CoBA  ET10_CoBA  ET10_CoBA  134.790289  58.389802   \n",
       "3       CE40     CE20  ET10_CoBA  ET10_CoBA  ET10_CoBA   24.422831  10.987275   \n",
       "4       CE40     CE20  ET10_CoBA  ET10_CoBA  ET10_CoBA   22.438899  13.035350   \n",
       "...      ...      ...        ...        ...        ...         ...        ...   \n",
       "22755   CE40     CE20  ET10_CoBA  ET10_CoBA  ET10_CoBA   60.338039  45.030861   \n",
       "22756   CE40     CE20  ET10_CoBA  ET10_CoBA  ET10_CoBA   29.317528  17.671699   \n",
       "22757   CE40     CE20  ET10_CoBA  ET10_CoBA  ET10_CoBA   37.008786  17.526966   \n",
       "22758   CE40     CE20  ET10_CoBA  ET10_CoBA  ET10_CoBA   19.560080  16.292502   \n",
       "22759   CE40     CE20  ET10_CoBA  ET10_CoBA  ET10_CoBA   28.530632   6.539493   \n",
       "\n",
       "          SNR_E1     SNR_E2     SNR_E3  ...    spin2x    spin2y    spin2z  \\\n",
       "0      11.573002   8.443707   4.183591  ... -0.151343  0.368443  0.336128   \n",
       "1       8.216392   6.510056   6.628056  ...  0.215131 -0.265249  0.083893   \n",
       "2      56.626102  57.878911  53.428096  ... -0.147023 -0.734618  0.526370   \n",
       "3       3.875804   5.155366   2.734553  ...  0.428761  0.145118 -0.203761   \n",
       "4      10.440927   5.772831   5.237144  ...  0.270313  0.499474  0.021336   \n",
       "...          ...        ...        ...  ...       ...       ...       ...   \n",
       "22755  20.728980  23.342237  24.073963  ...  0.527377 -0.601355 -0.350036   \n",
       "22756  24.934851  22.595010  25.361612  ...  0.010737  0.205612 -0.075798   \n",
       "22757  11.016267  14.723909   4.339288  ...  0.029080 -0.001921 -0.040690   \n",
       "22758   2.972777   5.018630   2.061012  ...  0.105120  0.728601 -0.158751   \n",
       "22759  21.042912  22.346096  21.132541  ... -0.043482  0.004263 -0.022820   \n",
       "\n",
       "        srcmass1   srcmass2  srcmchirp  srcmtotal  theta_jn  time_interval  \\\n",
       "0       8.354979   6.641341   6.476252  14.996320  1.387950    2397.357958   \n",
       "1      20.416446   8.293748  11.107885  28.710194  2.107388      40.357782   \n",
       "2      12.559317   8.447756   8.932054  21.007074  2.764603     139.074145   \n",
       "3      10.836214  10.812505   9.423146  21.648719  1.366520     452.588451   \n",
       "4      17.554939   8.807417  10.699214  26.362356  2.334330    1334.041940   \n",
       "...          ...        ...        ...        ...       ...            ...   \n",
       "22755   7.922638   3.637087   4.604523  11.559725  2.523197     231.780097   \n",
       "22756  30.715894  30.538703  26.662478  61.254596  1.005110     136.159327   \n",
       "22757  31.189314  24.274139  23.915993  55.463453  1.582021    2736.237313   \n",
       "22758  11.143133   8.132996   8.267054  19.276129  1.515721     439.822230   \n",
       "22759   8.767944   4.323863   5.294950  13.091806  2.170450    3280.836015   \n",
       "\n",
       "       trigger_time  \n",
       "0      1.893026e+09  \n",
       "1      1.893026e+09  \n",
       "2      1.893027e+09  \n",
       "3      1.893027e+09  \n",
       "4      1.893028e+09  \n",
       "...             ...  \n",
       "22755  1.924435e+09  \n",
       "22756  1.924435e+09  \n",
       "22757  1.924438e+09  \n",
       "22758  1.924438e+09  \n",
       "22759  1.924441e+09  \n",
       "\n",
       "[22760 rows x 68 columns]"
      ]
     },
     "execution_count": 5,
     "metadata": {},
     "output_type": "execute_result"
    }
   ],
   "source": [
    "pd.DataFrame(inj_data['results'])"
   ]
  },
  {
   "cell_type": "markdown",
   "id": "21b84fb4-8e39-4fd4-b69c-98782c047e56",
   "metadata": {},
   "source": [
    "### Get detected"
   ]
  },
  {
   "cell_type": "code",
   "execution_count": 6,
   "id": "a477e1ca-99de-4456-adf9-aab0f724611c",
   "metadata": {},
   "outputs": [],
   "source": [
    "def get_detected_SNRs(data_dict, ifo_threshold=5, network_threshold=12, \n",
    "                      method='network', return_detected_dict=False, \n",
    "                      snr_type='mf_from_opt'):\n",
    "    if type(data_dict) == pd.core.frame.DataFrame:\n",
    "        pass\n",
    "    else:\n",
    "        data_dict = pd.DataFrame(data_dict)\n",
    "        \n",
    "    if snr_type == 'opt':\n",
    "        SNR_keys = [key for key in data_dict.keys() if 'SNR' in key and 'mf' not in key]\n",
    "    elif snr_type == 'mf_from_opt':\n",
    "        SNR_keys = [key for key in data_dict.keys() if 'SNR_mf_from_opt' in key]\n",
    "    elif snr_type == 'mf':\n",
    "        SNR_keys = [key for key in data_dict.keys() if 'SNR_mf' in key and 'from_opt' not in key]\n",
    "    else:\n",
    "        raise KeyError('Please choose snr_type from \"opt\" or \"mf\"')\n",
    "    print(SNR_keys)\n",
    "    detected_bool_dict = {}\n",
    "    detected_dict = {}\n",
    "    \n",
    "    for key in SNR_keys:\n",
    "        if snr_type == 'opt':\n",
    "            dict_key = key.split('SNR_')[-1]\n",
    "        elif snr_type == 'mf_from_opt':\n",
    "            dict_key = key.split('SNR_mf_from_opt_')[-1]\n",
    "        elif snr_type == 'mf':\n",
    "            dict_key = key.split('SNR_mf_')[-1]\n",
    "        \n",
    "        if \"network\" in key:\n",
    "            threshold = network_threshold\n",
    "        else:\n",
    "            threshold = ifo_threshold\n",
    "\n",
    "        detected_bool_dict[dict_key] = data_dict[key] >= threshold\n",
    "        detected_dict[dict_key] = data_dict[detected_bool_dict[dict_key]]\n",
    "\n",
    "    if method=='all':\n",
    "        detected_events_df = data_dict[np.all(tuple(detected_bool_dict.values()), axis=0) & detected_bool_dict['network']]\n",
    "    elif method == 'two-detector':\n",
    "        detector_keys = [key for key in detected_bool_dict.keys() if key != 'network']\n",
    "        detection_sum = np.sum([detected_bool_dict[key] for key in detector_keys], axis=0)\n",
    "        detected_events_df = data_dict[(detection_sum >= 2) & (detected_bool_dict['network'])]\n",
    "    elif method=='network':\n",
    "        detected_events_df = detected_dict['network']\n",
    "\n",
    "    if return_detected_dict:\n",
    "        return(detected_events_df, detected_dict)\n",
    "    else:\n",
    "        return(detected_events_df)"
   ]
  },
  {
   "cell_type": "code",
   "execution_count": 7,
   "id": "76e3decd-03f2-49c6-a05a-0d687ac85332",
   "metadata": {},
   "outputs": [
    {
     "data": {
      "image/png": "[encoded data removed]",
      "text/plain": [
       "<Figure size 640x480 with 1 Axes>"
      ]
     },
     "metadata": {},
     "output_type": "display_data"
    }
   ],
   "source": [
    "plt.hist(inj_data['results']['SNR_mf_from_opt_network'], bins=np.logspace(0,3.3,50), histtype=u'step', label='MF from opt');\n",
    "plt.hist(inj_data['results']['SNR_mf_network'], bins=np.logspace(0,3.3,50), histtype=u'step', label='MF');\n",
    "plt.hist(inj_data['results']['SNR_network'], bins=np.logspace(0,3.3,50), histtype=u'step', label='Optimal');\n",
    "plt.xlabel('SNR')\n",
    "plt.legend()\n",
    "plt.xscale('log')"
   ]
  },
  {
   "cell_type": "code",
   "execution_count": 8,
   "id": "3134163a-b594-427b-87c8-b273181e340d",
   "metadata": {},
   "outputs": [
    {
     "name": "stdout",
     "output_type": "stream",
     "text": [
      "['SNR_mf_from_opt_C1', 'SNR_mf_from_opt_CE20', 'SNR_mf_from_opt_E1', 'SNR_mf_from_opt_E2', 'SNR_mf_from_opt_E3', 'SNR_mf_from_opt_network']\n"
     ]
    }
   ],
   "source": [
    "inj_data['detected_mf_from_opt'] = get_detected_SNRs(inj_data['results'], method='two-detector', \n",
    "                                                     snr_type='mf_from_opt', network_threshold=10)"
   ]
  },
  {
   "cell_type": "markdown",
   "id": "57f1e6f1-ed23-4ff4-aa06-6fa4431c14b4",
   "metadata": {},
   "source": [
    "### Detected percentage"
   ]
  },
  {
   "cell_type": "code",
   "execution_count": 9,
   "id": "a35218e6-f54a-447a-9874-987415b95cda",
   "metadata": {},
   "outputs": [
    {
     "name": "stdout",
     "output_type": "stream",
     "text": [
      "Total = 22760\n",
      "detected = 22268 = 97.8 %\n"
     ]
    }
   ],
   "source": [
    "n_total = len(inj_data['results']['redshift'])\n",
    "n_detected = len(inj_data['detected_mf_from_opt']['redshift'])\n",
    "\n",
    "print('Total =', n_total)\n",
    "print('detected =', n_detected, '=', round(n_detected*100/n_total, 1), '%')"
   ]
  },
  {
   "cell_type": "markdown",
   "id": "a176ec62-1d66-43f7-a5d0-15e2ecc5d341",
   "metadata": {},
   "source": [
    "### Choose n_events from detected as injection parameters"
   ]
  },
  {
   "cell_type": "code",
   "execution_count": 10,
   "id": "68f6f9ca-0cf1-409b-9685-fb879909586f",
   "metadata": {},
   "outputs": [],
   "source": [
    "n_events = 5200\n",
    "#n_events = len(inj_data['detected_mf_from_opt']['redshift'])\n",
    "inj_data['selected_n_events'] = inj_data['detected_mf_from_opt'].sample(n_events, \n",
    "                                                                        random_state=123).reset_index().rename(columns={'index': 'old_index'})\n",
    "#inj_data['selected_n_events'].insert(5, 'SNR_ET', np.sqrt(inj_data['selected_n_events']['SNR_E1']**2 + inj_data['selected_n_events']['SNR_E2']**2 + inj_data['selected_n_events']['SNR_E3']**2))\n",
    "#inj_data['selected_n_events'] = inj_data['detected_mf'].iloc[:n_events]"
   ]
  },
  {
   "cell_type": "code",
   "execution_count": 11,
   "id": "2013bda2-5745-4e75-a143-191f2dcdc1e8",
   "metadata": {},
   "outputs": [
    {
     "data": {
      "text/plain": [
       "Text(0.5, 0, 'z')"
      ]
     },
     "execution_count": 11,
     "metadata": {},
     "output_type": "execute_result"
    },
    {
     "data": {
      "image/png": "[encoded data removed]",
      "text/plain": [
       "<Figure size 640x480 with 1 Axes>"
      ]
     },
     "metadata": {},
     "output_type": "display_data"
    }
   ],
   "source": [
    "plt.hist(inj_data['detected_mf_from_opt']['redshift'], density=True, histtype=u'step', bins=np.linspace(0,10,50), \n",
    "         label='Detected')\n",
    "plt.hist(inj_data['selected_n_events']['redshift'], density=True, histtype=u'step', \n",
    "         bins=np.linspace(0,10,50), label='Selected');\n",
    "plt.legend()\n",
    "plt.xlabel('z')"
   ]
  },
  {
   "cell_type": "code",
   "execution_count": 12,
   "id": "7045e3f1-9948-4b11-83c2-0fa5133f6965",
   "metadata": {},
   "outputs": [
    {
     "data": {
      "text/plain": [
       "5200"
      ]
     },
     "execution_count": 12,
     "metadata": {},
     "output_type": "execute_result"
    }
   ],
   "source": [
    "len(inj_data['selected_n_events']['redshift'])"
   ]
  },
  {
   "cell_type": "markdown",
   "id": "e5332943-7fee-41c2-965b-b7f0e929846f",
   "metadata": {},
   "source": [
    "## FM analysis with GWFish"
   ]
  },
  {
   "cell_type": "code",
   "execution_count": 13,
   "id": "2e2b3931-1677-405c-abdd-59c3be74ef96",
   "metadata": {},
   "outputs": [
    {
     "data": {
      "text/plain": [
       "Index(['old_index', 'PSD_C1', 'PSD_CE20', 'PSD_E1', 'PSD_E2', 'PSD_E3',\n",
       "       'SNR_C1', 'SNR_CE20', 'SNR_E1', 'SNR_E2', 'SNR_E3', 'SNR_mf_C1',\n",
       "       'SNR_mf_CE20', 'SNR_mf_E1', 'SNR_mf_E2', 'SNR_mf_E3',\n",
       "       'SNR_mf_from_opt_C1', 'SNR_mf_from_opt_CE20', 'SNR_mf_from_opt_E1',\n",
       "       'SNR_mf_from_opt_E2', 'SNR_mf_from_opt_E3', 'SNR_mf_from_opt_network',\n",
       "       'SNR_mf_network', 'SNR_network', 'approximant', 'chi_1_in_plane',\n",
       "       'chi_2_in_plane', 'chi_eff', 'chi_p', 'coa_phase', 'cos_spin1_polar',\n",
       "       'cos_spin2_polar', 'dec', 'delta_f', 'distance', 'eta', 'f_final',\n",
       "       'f_lower', 'f_ref', 'inclination', 'mass1', 'mass2', 'mchirp', 'mtotal',\n",
       "       'phi_12', 'phi_jl', 'polarization', 'q', 'ra', 'redshift', 'spin1_a',\n",
       "       'spin1_azimuthal', 'spin1_polar', 'spin1x', 'spin1y', 'spin1z',\n",
       "       'spin2_a', 'spin2_azimuthal', 'spin2_polar', 'spin2x', 'spin2y',\n",
       "       'spin2z', 'srcmass1', 'srcmass2', 'srcmchirp', 'srcmtotal', 'theta_jn',\n",
       "       'time_interval', 'trigger_time'],\n",
       "      dtype='object')"
      ]
     },
     "execution_count": 13,
     "metadata": {},
     "output_type": "execute_result"
    }
   ],
   "source": [
    "inj_data['selected_n_events'].keys()"
   ]
  },
  {
   "cell_type": "code",
   "execution_count": 14,
   "id": "893d96a7-889d-4934-98f9-e1cf08a20a99",
   "metadata": {},
   "outputs": [],
   "source": [
    "pycbc_to_pesummary_map = {\n",
    "    'mchirp': 'chirp_mass',\n",
    "    'q': 'mass_ratio',\n",
    "    'distance': 'luminosity_distance',\n",
    "    'theta_jn': 'theta_jn',\n",
    "    'ra': 'ra',\n",
    "    'dec': 'dec',\n",
    "    'polarization': 'psi',\n",
    "    'trigger_time': 'geocent_time',\n",
    "    'coa_phase': 'phase',\n",
    "    'spin1_a': 'a_1',\n",
    "    'spin2_a': 'a_2',\n",
    "    'spin1_polar': 'tilt_1',\n",
    "    'spin2_polar':'tilt_2',\n",
    "    'phi_12': 'phi_12',\n",
    "    'phi_jl': 'phi_jl',\n",
    "    'mass1': 'mass_1',\n",
    "    'mass2': 'mass_2'\n",
    "}\n",
    "#gwfish_det_dict = {'L1':'L', 'H1':'H', 'I1':'IN'}"
   ]
  },
  {
   "cell_type": "code",
   "execution_count": 15,
   "id": "db5eb638-0790-4384-b50f-92ed91daafea",
   "metadata": {},
   "outputs": [],
   "source": [
    "gwfish_input_data = {pycbc_to_pesummary_map[key]:inj_data['selected_n_events'][key] for key in pycbc_to_pesummary_map.keys() if key != 'q'}\n",
    "gwfish_input_data = pd.DataFrame(gwfish_input_data)\n",
    "gwfish_input_data['mass_ratio'] = 1/inj_data['selected_n_events']['q']"
   ]
  },
  {
   "cell_type": "code",
   "execution_count": 16,
   "id": "1b52c907-6087-4d9a-9dcd-bd18cdc3ab2b",
   "metadata": {
    "scrolled": true
   },
   "outputs": [
    {
     "data": {
      "text/html": [
       "<div>\n",
       "<style scoped>\n",
       "    .dataframe tbody tr th:only-of-type {\n",
       "        vertical-align: middle;\n",
       "    }\n",
       "\n",
       "    .dataframe tbody tr th {\n",
       "        vertical-align: top;\n",
       "    }\n",
       "\n",
       "    .dataframe thead th {\n",
       "        text-align: right;\n",
       "    }\n",
       "</style>\n",
       "<table border=\"1\" class=\"dataframe\">\n",
       "  <thead>\n",
       "    <tr style=\"text-align: right;\">\n",
       "      <th></th>\n",
       "      <th>chirp_mass</th>\n",
       "      <th>luminosity_distance</th>\n",
       "      <th>theta_jn</th>\n",
       "      <th>ra</th>\n",
       "      <th>dec</th>\n",
       "      <th>psi</th>\n",
       "      <th>geocent_time</th>\n",
       "      <th>phase</th>\n",
       "      <th>a_1</th>\n",
       "      <th>a_2</th>\n",
       "      <th>tilt_1</th>\n",
       "      <th>tilt_2</th>\n",
       "      <th>phi_12</th>\n",
       "      <th>phi_jl</th>\n",
       "      <th>mass_1</th>\n",
       "      <th>mass_2</th>\n",
       "      <th>mass_ratio</th>\n",
       "    </tr>\n",
       "  </thead>\n",
       "  <tbody>\n",
       "    <tr>\n",
       "      <th>0</th>\n",
       "      <td>25.046939</td>\n",
       "      <td>9166.725126</td>\n",
       "      <td>1.534143</td>\n",
       "      <td>3.138760</td>\n",
       "      <td>-0.845515</td>\n",
       "      <td>2.147303</td>\n",
       "      <td>1.911653e+09</td>\n",
       "      <td>1.102282</td>\n",
       "      <td>0.840703</td>\n",
       "      <td>0.979566</td>\n",
       "      <td>2.725209</td>\n",
       "      <td>2.051490</td>\n",
       "      <td>3.594697</td>\n",
       "      <td>3.642342</td>\n",
       "      <td>30.973154</td>\n",
       "      <td>26.754753</td>\n",
       "      <td>0.863805</td>\n",
       "    </tr>\n",
       "    <tr>\n",
       "      <th>1</th>\n",
       "      <td>11.883061</td>\n",
       "      <td>17311.366584</td>\n",
       "      <td>1.479538</td>\n",
       "      <td>4.723307</td>\n",
       "      <td>0.114258</td>\n",
       "      <td>0.645510</td>\n",
       "      <td>1.904448e+09</td>\n",
       "      <td>3.291709</td>\n",
       "      <td>0.124384</td>\n",
       "      <td>0.243726</td>\n",
       "      <td>2.148778</td>\n",
       "      <td>0.977003</td>\n",
       "      <td>3.020788</td>\n",
       "      <td>5.852060</td>\n",
       "      <td>21.179926</td>\n",
       "      <td>9.106981</td>\n",
       "      <td>0.429982</td>\n",
       "    </tr>\n",
       "    <tr>\n",
       "      <th>2</th>\n",
       "      <td>26.064813</td>\n",
       "      <td>16305.885620</td>\n",
       "      <td>2.173172</td>\n",
       "      <td>1.731818</td>\n",
       "      <td>-0.105157</td>\n",
       "      <td>0.766840</td>\n",
       "      <td>1.917591e+09</td>\n",
       "      <td>3.380692</td>\n",
       "      <td>0.983052</td>\n",
       "      <td>0.309748</td>\n",
       "      <td>0.987864</td>\n",
       "      <td>1.499000</td>\n",
       "      <td>2.047700</td>\n",
       "      <td>2.502986</td>\n",
       "      <td>38.263315</td>\n",
       "      <td>23.696141</td>\n",
       "      <td>0.619291</td>\n",
       "    </tr>\n",
       "    <tr>\n",
       "      <th>3</th>\n",
       "      <td>15.888994</td>\n",
       "      <td>10039.132841</td>\n",
       "      <td>2.048722</td>\n",
       "      <td>5.229659</td>\n",
       "      <td>-0.906319</td>\n",
       "      <td>2.593836</td>\n",
       "      <td>1.904023e+09</td>\n",
       "      <td>0.052499</td>\n",
       "      <td>0.540207</td>\n",
       "      <td>0.967556</td>\n",
       "      <td>1.369624</td>\n",
       "      <td>1.094461</td>\n",
       "      <td>3.821824</td>\n",
       "      <td>4.399860</td>\n",
       "      <td>20.175357</td>\n",
       "      <td>16.543879</td>\n",
       "      <td>0.820004</td>\n",
       "    </tr>\n",
       "    <tr>\n",
       "      <th>4</th>\n",
       "      <td>23.216875</td>\n",
       "      <td>24210.925912</td>\n",
       "      <td>2.805005</td>\n",
       "      <td>2.469360</td>\n",
       "      <td>0.071000</td>\n",
       "      <td>1.332727</td>\n",
       "      <td>1.905356e+09</td>\n",
       "      <td>2.612072</td>\n",
       "      <td>0.287847</td>\n",
       "      <td>0.342173</td>\n",
       "      <td>1.387429</td>\n",
       "      <td>1.565675</td>\n",
       "      <td>2.466039</td>\n",
       "      <td>1.416684</td>\n",
       "      <td>36.030240</td>\n",
       "      <td>20.075947</td>\n",
       "      <td>0.557197</td>\n",
       "    </tr>\n",
       "    <tr>\n",
       "      <th>...</th>\n",
       "      <td>...</td>\n",
       "      <td>...</td>\n",
       "      <td>...</td>\n",
       "      <td>...</td>\n",
       "      <td>...</td>\n",
       "      <td>...</td>\n",
       "      <td>...</td>\n",
       "      <td>...</td>\n",
       "      <td>...</td>\n",
       "      <td>...</td>\n",
       "      <td>...</td>\n",
       "      <td>...</td>\n",
       "      <td>...</td>\n",
       "      <td>...</td>\n",
       "      <td>...</td>\n",
       "      <td>...</td>\n",
       "      <td>...</td>\n",
       "    </tr>\n",
       "    <tr>\n",
       "      <th>5195</th>\n",
       "      <td>14.699844</td>\n",
       "      <td>3451.654509</td>\n",
       "      <td>0.865634</td>\n",
       "      <td>3.976166</td>\n",
       "      <td>0.027435</td>\n",
       "      <td>1.579564</td>\n",
       "      <td>1.901109e+09</td>\n",
       "      <td>2.815271</td>\n",
       "      <td>0.132478</td>\n",
       "      <td>0.742871</td>\n",
       "      <td>1.180068</td>\n",
       "      <td>1.673441</td>\n",
       "      <td>5.523689</td>\n",
       "      <td>5.295169</td>\n",
       "      <td>17.959833</td>\n",
       "      <td>15.887710</td>\n",
       "      <td>0.884625</td>\n",
       "    </tr>\n",
       "    <tr>\n",
       "      <th>5196</th>\n",
       "      <td>27.778154</td>\n",
       "      <td>16611.580196</td>\n",
       "      <td>1.701392</td>\n",
       "      <td>1.856913</td>\n",
       "      <td>-0.876371</td>\n",
       "      <td>0.462394</td>\n",
       "      <td>1.907678e+09</td>\n",
       "      <td>3.030719</td>\n",
       "      <td>0.799429</td>\n",
       "      <td>0.187221</td>\n",
       "      <td>1.226696</td>\n",
       "      <td>1.058240</td>\n",
       "      <td>1.604673</td>\n",
       "      <td>6.120929</td>\n",
       "      <td>33.729012</td>\n",
       "      <td>30.205040</td>\n",
       "      <td>0.895521</td>\n",
       "    </tr>\n",
       "    <tr>\n",
       "      <th>5197</th>\n",
       "      <td>30.257266</td>\n",
       "      <td>19613.879808</td>\n",
       "      <td>0.396028</td>\n",
       "      <td>3.366738</td>\n",
       "      <td>0.067322</td>\n",
       "      <td>1.374902</td>\n",
       "      <td>1.917494e+09</td>\n",
       "      <td>5.347785</td>\n",
       "      <td>0.349642</td>\n",
       "      <td>0.484078</td>\n",
       "      <td>0.941026</td>\n",
       "      <td>1.685182</td>\n",
       "      <td>3.692388</td>\n",
       "      <td>3.775931</td>\n",
       "      <td>35.064405</td>\n",
       "      <td>34.451777</td>\n",
       "      <td>0.982528</td>\n",
       "    </tr>\n",
       "    <tr>\n",
       "      <th>5198</th>\n",
       "      <td>13.656263</td>\n",
       "      <td>9803.660681</td>\n",
       "      <td>1.118596</td>\n",
       "      <td>0.079325</td>\n",
       "      <td>0.131497</td>\n",
       "      <td>0.561980</td>\n",
       "      <td>1.900084e+09</td>\n",
       "      <td>3.879665</td>\n",
       "      <td>0.757575</td>\n",
       "      <td>0.529270</td>\n",
       "      <td>0.970797</td>\n",
       "      <td>1.635355</td>\n",
       "      <td>3.097841</td>\n",
       "      <td>5.410196</td>\n",
       "      <td>20.260941</td>\n",
       "      <td>12.296352</td>\n",
       "      <td>0.606899</td>\n",
       "    </tr>\n",
       "    <tr>\n",
       "      <th>5199</th>\n",
       "      <td>20.513132</td>\n",
       "      <td>9574.070489</td>\n",
       "      <td>2.377791</td>\n",
       "      <td>3.201410</td>\n",
       "      <td>0.346699</td>\n",
       "      <td>0.783587</td>\n",
       "      <td>1.919193e+09</td>\n",
       "      <td>0.064392</td>\n",
       "      <td>0.656590</td>\n",
       "      <td>0.703793</td>\n",
       "      <td>0.904450</td>\n",
       "      <td>0.205248</td>\n",
       "      <td>0.356731</td>\n",
       "      <td>1.270963</td>\n",
       "      <td>23.843826</td>\n",
       "      <td>23.286923</td>\n",
       "      <td>0.976644</td>\n",
       "    </tr>\n",
       "  </tbody>\n",
       "</table>\n",
       "<p>5200 rows × 17 columns</p>\n",
       "</div>"
      ],
      "text/plain": [
       "      chirp_mass  luminosity_distance  theta_jn        ra       dec       psi  \\\n",
       "0      25.046939          9166.725126  1.534143  3.138760 -0.845515  2.147303   \n",
       "1      11.883061         17311.366584  1.479538  4.723307  0.114258  0.645510   \n",
       "2      26.064813         16305.885620  2.173172  1.731818 -0.105157  0.766840   \n",
       "3      15.888994         10039.132841  2.048722  5.229659 -0.906319  2.593836   \n",
       "4      23.216875         24210.925912  2.805005  2.469360  0.071000  1.332727   \n",
       "...          ...                  ...       ...       ...       ...       ...   \n",
       "5195   14.699844          3451.654509  0.865634  3.976166  0.027435  1.579564   \n",
       "5196   27.778154         16611.580196  1.701392  1.856913 -0.876371  0.462394   \n",
       "5197   30.257266         19613.879808  0.396028  3.366738  0.067322  1.374902   \n",
       "5198   13.656263          9803.660681  1.118596  0.079325  0.131497  0.561980   \n",
       "5199   20.513132          9574.070489  2.377791  3.201410  0.346699  0.783587   \n",
       "\n",
       "      geocent_time     phase       a_1       a_2    tilt_1    tilt_2  \\\n",
       "0     1.911653e+09  1.102282  0.840703  0.979566  2.725209  2.051490   \n",
       "1     1.904448e+09  3.291709  0.124384  0.243726  2.148778  0.977003   \n",
       "2     1.917591e+09  3.380692  0.983052  0.309748  0.987864  1.499000   \n",
       "3     1.904023e+09  0.052499  0.540207  0.967556  1.369624  1.094461   \n",
       "4     1.905356e+09  2.612072  0.287847  0.342173  1.387429  1.565675   \n",
       "...            ...       ...       ...       ...       ...       ...   \n",
       "5195  1.901109e+09  2.815271  0.132478  0.742871  1.180068  1.673441   \n",
       "5196  1.907678e+09  3.030719  0.799429  0.187221  1.226696  1.058240   \n",
       "5197  1.917494e+09  5.347785  0.349642  0.484078  0.941026  1.685182   \n",
       "5198  1.900084e+09  3.879665  0.757575  0.529270  0.970797  1.635355   \n",
       "5199  1.919193e+09  0.064392  0.656590  0.703793  0.904450  0.205248   \n",
       "\n",
       "        phi_12    phi_jl     mass_1     mass_2  mass_ratio  \n",
       "0     3.594697  3.642342  30.973154  26.754753    0.863805  \n",
       "1     3.020788  5.852060  21.179926   9.106981    0.429982  \n",
       "2     2.047700  2.502986  38.263315  23.696141    0.619291  \n",
       "3     3.821824  4.399860  20.175357  16.543879    0.820004  \n",
       "4     2.466039  1.416684  36.030240  20.075947    0.557197  \n",
       "...        ...       ...        ...        ...         ...  \n",
       "5195  5.523689  5.295169  17.959833  15.887710    0.884625  \n",
       "5196  1.604673  6.120929  33.729012  30.205040    0.895521  \n",
       "5197  3.692388  3.775931  35.064405  34.451777    0.982528  \n",
       "5198  3.097841  5.410196  20.260941  12.296352    0.606899  \n",
       "5199  0.356731  1.270963  23.843826  23.286923    0.976644  \n",
       "\n",
       "[5200 rows x 17 columns]"
      ]
     },
     "execution_count": 16,
     "metadata": {},
     "output_type": "execute_result"
    }
   ],
   "source": [
    "gwfish_input_data"
   ]
  },
  {
   "cell_type": "code",
   "execution_count": 17,
   "id": "e8c3388e-9a2d-47d0-99a4-75f0b154746a",
   "metadata": {},
   "outputs": [
    {
     "data": {
      "text/plain": [
       "'CE4020ET123_CoBA10_5_PLP_z_MDlow_zp_1.54_zmax_10_lmrd_22_no_spins_5200_events_pop_from_XPHM_det10'"
      ]
     },
     "execution_count": 17,
     "metadata": {},
     "output_type": "execute_result"
    }
   ],
   "source": [
    "#detectors = ['A_sharp_L', 'A_sharp_H', 'A_sharp_IN']\n",
    "detectors = ['CE1', 'CE2', 'ET']\n",
    "matrix_file_names = f'CE4020ET123_CoBA10_5_PLP_z_MDlow_zp_1.54_zmax_10_lmrd_22_no_spins_{n_events}_events_pop_from_XPHM_det10'\n",
    "#matrix_file_names = f'LHI_5_PLP_z_MDlow_zp_1.54_zmax_10_lmrd_22_no_spins_{n_events}_events_pop_from_XPHM_det10'\n",
    "matrix_file_names"
   ]
  },
  {
   "cell_type": "markdown",
   "id": "f3806b18-b45d-4f13-9a3a-f17f812bf2b8",
   "metadata": {
    "jp-MarkdownHeadingCollapsed": true
   },
   "source": [
    "### Without parallelization"
   ]
  },
  {
   "cell_type": "code",
   "execution_count": 43,
   "id": "df0d347b-1ae4-4c79-a4b3-c629a0369f8f",
   "metadata": {},
   "outputs": [
    {
     "name": "stderr",
     "output_type": "stream",
     "text": [
      "100%|█████████████████████████████████████████████████████████████████████████████████████████████████████████████████████████████████████████████| 5949/5949 [2:51:24<00:00,  1.73s/it]\n"
     ]
    }
   ],
   "source": [
    "results = {'detected_idxs':[], \n",
    "           'netw_snrs':[], \n",
    "           'errors':[],\n",
    "           'sky_locs':[]}\n",
    "fisher_params = ['chirp_mass', 'mass_ratio', 'luminosity_distance', 'theta_jn', 'phase', 'geocent_time', 'ra', 'dec', 'psi']\n",
    "network = gwf_mods.detection.Network(detector_ids = detectors, detection_SNR = (0., 5.), config=pathlib.Path('detectors.yaml'))\n",
    "#for event_num in tqdm(range(len(inj_data['selected_n_events']))):\n",
    "results['detected_idxs'], results['netw_snrs'], results['errors'], results['sky_locs'] = compute_network_errors(\n",
    "    network=network, \n",
    "    parameter_values=gwfish_input_data,\n",
    "    fisher_parameters=fisher_params, \n",
    "    f_ref=inj_data['selected_n_events']['f_ref'][0], \n",
    "    waveform_model='IMRPhenomXPHM',\n",
    "    save_matrices=True,\n",
    "    save_matrices_path=pathlib.Path(os.path.join(base_dir, \n",
    "                                                 'GWFish_analysis', \n",
    "                                                 'BBH',\n",
    "                                                 'Fisher_matrices')),\n",
    "    matrix_naming_postfix=matrix_file_names\n",
    ")"
   ]
  },
  {
   "cell_type": "markdown",
   "id": "aa8c3444-dcb9-4a01-aeb2-d1209b8dcb15",
   "metadata": {},
   "source": [
    "### With parallelization"
   ]
  },
  {
   "cell_type": "code",
   "execution_count": 18,
   "id": "51629b13-182a-48fa-8700-bedbe98aa7c8",
   "metadata": {},
   "outputs": [],
   "source": [
    "from multiprocessing import Pool, cpu_count\n",
    "\n",
    "def worker(args):\n",
    "    \"\"\"\n",
    "    Worker function to compute network errors for a chunk of injections.\n",
    "    Returns: (global_indices_chunk, detected_indices, snrs, parameter_errors, sky_locs)\n",
    "    \"\"\"\n",
    "    (network, indices, parameter_values, fisher_params, inj_data,\n",
    "     base_dir, postfix, chunk_idx, kwargs) = args\n",
    "\n",
    "    det_idx, snrs, errs, sky = compute_network_errors(\n",
    "        network=network,\n",
    "        parameter_values=parameter_values,\n",
    "        fisher_parameters=fisher_params,\n",
    "        f_ref=inj_data['selected_n_events']['f_ref'][0],\n",
    "        waveform_model='IMRPhenomXPHM',\n",
    "        save_matrices=True,\n",
    "        save_matrices_path=pathlib.Path(os.path.join(\n",
    "            base_dir,\n",
    "            'GWFish_analysis',\n",
    "            'BBH',\n",
    "            'Fisher_matrices'\n",
    "        )),\n",
    "        matrix_naming_postfix=f\"{postfix}_chunk{chunk_idx}\",\n",
    "        **kwargs\n",
    "    )\n",
    "\n",
    "    return indices, det_idx, snrs, errs, sky\n",
    "\n",
    "\n",
    "def parallel_compute_network_errors(\n",
    "    network,\n",
    "    gwfish_input_data,\n",
    "    fisher_params,\n",
    "    inj_data,\n",
    "    base_dir,\n",
    "    matrix_file_names,\n",
    "    nproc=None,\n",
    "    **kwargs\n",
    "):\n",
    "    \"\"\"\n",
    "    Parallel wrapper for compute_network_errors with multiprocessing.\n",
    "    Returns: detected_idxs, netw_snrs, errors (2D), sky_locs\n",
    "    \"\"\"\n",
    "    if nproc is None:\n",
    "        nproc = min(cpu_count(), 8)\n",
    "\n",
    "    N = len(gwfish_input_data)\n",
    "    n_params = len(fisher_params)\n",
    "    indices = np.arange(N)\n",
    "\n",
    "    # Split data and indices into chunks\n",
    "    chunks_idx = np.array_split(indices, nproc)\n",
    "    chunks_data = np.array_split(gwfish_input_data, nproc)\n",
    "\n",
    "    args = [\n",
    "        (network, idx_chunk, data_chunk, fisher_params,\n",
    "         inj_data, base_dir, matrix_file_names, i, kwargs)\n",
    "        for i, (idx_chunk, data_chunk) in enumerate(zip(chunks_idx, chunks_data))\n",
    "    ]\n",
    "\n",
    "    # Run in parallel\n",
    "    with Pool(processes=nproc) as pool:\n",
    "        results = pool.map(worker, args)\n",
    "\n",
    "    # Allocate arrays\n",
    "    detected_idxs = []\n",
    "    netw_snrs = np.zeros(N)\n",
    "    errors = np.zeros((N, n_params))      # 2D array\n",
    "    sky_locs = np.zeros(N)  # 1D array of areas\n",
    "\n",
    "    # Stitch results back in original order\n",
    "    for idx_chunk, det_idx, snrs, errs, sky in results:\n",
    "        detected_idxs.extend(idx_chunk[det_idx])\n",
    "        netw_snrs[idx_chunk] = snrs\n",
    "        errors[idx_chunk] = errs       # 2D assignment\n",
    "        sky_locs[idx_chunk] = sky      # 1D assignment\n",
    "\n",
    "\n",
    "    return np.array(detected_idxs), netw_snrs, errors, sky_locs"
   ]
  },
  {
   "cell_type": "code",
   "execution_count": 19,
   "id": "459d3b29-ce2e-4f56-b7c3-4f204efbc809",
   "metadata": {},
   "outputs": [],
   "source": [
    "nprocs = 8"
   ]
  },
  {
   "cell_type": "code",
   "execution_count": 20,
   "id": "1a4ae063-e0d0-4069-a5e0-2e340d8a46d9",
   "metadata": {},
   "outputs": [
    {
     "name": "stderr",
     "output_type": "stream",
     "text": [
      "100%|█████████████████████████████████████████████████████████████████████████████████████████████████████████████████████████████████████████████████| 650/650 [34:33<00:00,  3.19s/it]\n",
      "100%|█████████████████████████████████████████████████████████████████████████████████████████████████████████████████████████████████████████████████| 650/650 [34:33<00:00,  3.19s/it]\n",
      "100%|█████████████████████████████████████████████████████████████████████████████████████████████████████████████████████████████████████████████████| 650/650 [34:34<00:00,  3.19s/it]\n",
      "100%|█████████████████████████████████████████████████████████████████████████████████████████████████████████████████████████████████████████████████| 650/650 [34:35<00:00,  3.19s/it]\n",
      "100%|█████████████████████████████████████████████████████████████████████████████████████████████████████████████████████████████████████████████████| 650/650 [34:35<00:00,  3.19s/it]\n",
      "100%|█████████████████████████████████████████████████████████████████████████████████████████████████████████████████████████████████████████████████| 650/650 [34:36<00:00,  3.20s/it]\n",
      "100%|█████████████████████████████████████████████████████████████████████████████████████████████████████████████████████████████████████████████████| 650/650 [34:37<00:00,  3.20s/it]\n",
      "100%|█████████████████████████████████████████████████████████████████████████████████████████████████████████████████████████████████████████████████| 650/650 [34:38<00:00,  3.20s/it]\n"
     ]
    }
   ],
   "source": [
    "fisher_params = ['chirp_mass', 'mass_ratio', 'luminosity_distance', 'theta_jn', 'phase', 'geocent_time', 'ra', 'dec', 'psi']\n",
    "network = gwf_mods.detection.Network(detector_ids = detectors, detection_SNR = (0., 1.), config=pathlib.Path('detectors.yaml'))\n",
    "results = {}\n",
    "results['detected_idxs'], results['netw_snrs'], results['errors'], results['sky_locs'] = (\n",
    "    parallel_compute_network_errors(\n",
    "        network=network,\n",
    "        gwfish_input_data=gwfish_input_data,\n",
    "        fisher_params=fisher_params,\n",
    "        inj_data=inj_data,\n",
    "        base_dir=base_dir,\n",
    "        matrix_file_names=matrix_file_names,\n",
    "        nproc=nprocs\n",
    "    )\n",
    ")"
   ]
  },
  {
   "cell_type": "code",
   "execution_count": 21,
   "id": "7618a167-5a2d-444b-ba55-2f35d2e56620",
   "metadata": {},
   "outputs": [],
   "source": [
    "import shutil\n",
    "\n",
    "def combine_and_archive_fisher_matrices(base_dir, matrix_file_prefix, n_chunks, output_file):\n",
    "    \"\"\"\n",
    "    Combines chunked Fisher matrix npy files into a single npy file\n",
    "    and moves the individual chunk files to a 'chunks' subdirectory.\n",
    "\n",
    "    Parameters\n",
    "    ----------\n",
    "    base_dir : str or Path\n",
    "        Base folder where the chunked matrices are saved\n",
    "    matrix_file_prefix : str\n",
    "        Prefix used in matrix_naming_postfix (without _chunkX)\n",
    "    n_chunks : int\n",
    "        Number of chunks used in parallel processing\n",
    "    output_file : str or Path\n",
    "        Path to save the combined Fisher matrices\n",
    "    \"\"\"\n",
    "    base_dir = pathlib.Path(base_dir)\n",
    "    chunks_dir = base_dir / 'chunks'\n",
    "    chunks_dir.mkdir(exist_ok=True)\n",
    "\n",
    "    matrices = []\n",
    "\n",
    "    for i in range(n_chunks):\n",
    "        file_path = base_dir / f\"{matrix_file_prefix}_chunk{i}.npy\"\n",
    "        if not file_path.exists():\n",
    "            raise FileNotFoundError(f\"{file_path} not found\")\n",
    "        matrices.append(np.load(file_path))\n",
    "\n",
    "    # Combine along first axis (injection axis)\n",
    "    combined = np.vstack(matrices)\n",
    "    np.save(output_file, combined)\n",
    "    print(f\"Combined Fisher matrices saved to {output_file}\")\n",
    "\n",
    "    # Move chunked files to chunks directory\n",
    "    for i in range(n_chunks):\n",
    "        file_path = base_dir / f\"{matrix_file_prefix}_chunk{i}.npy\"\n",
    "        shutil.move(str(file_path), chunks_dir / file_path.name)\n",
    "    print(f\"Moved {n_chunks} chunked Fisher matrix files to {chunks_dir}\")"
   ]
  },
  {
   "cell_type": "code",
   "execution_count": 22,
   "id": "2ddf0ae1-ddbd-4a83-8cb5-bb6e9d3f684b",
   "metadata": {},
   "outputs": [
    {
     "name": "stdout",
     "output_type": "stream",
     "text": [
      "Combined Fisher matrices saved to /home/divyajyoti/ACADEMIC/Projects/Cardiff_University/Next_gen_detectability/A-sharp-study/GWFish_analysis/BBH/Fisher_matrices/fisher_matrices_CE4020ET123_CoBA10_5_PLP_z_MDlow_zp_1.54_zmax_10_lmrd_22_no_spins_5200_events_pop_from_XPHM_det10.npy\n",
      "Moved 8 chunked Fisher matrix files to /home/divyajyoti/ACADEMIC/Projects/Cardiff_University/Next_gen_detectability/A-sharp-study/GWFish_analysis/BBH/Fisher_matrices/chunks\n",
      "Combined Fisher matrices saved to /home/divyajyoti/ACADEMIC/Projects/Cardiff_University/Next_gen_detectability/A-sharp-study/GWFish_analysis/BBH/Fisher_matrices/inv_fisher_matrices_CE4020ET123_CoBA10_5_PLP_z_MDlow_zp_1.54_zmax_10_lmrd_22_no_spins_5200_events_pop_from_XPHM_det10.npy\n",
      "Moved 8 chunked Fisher matrix files to /home/divyajyoti/ACADEMIC/Projects/Cardiff_University/Next_gen_detectability/A-sharp-study/GWFish_analysis/BBH/Fisher_matrices/chunks\n"
     ]
    }
   ],
   "source": [
    "combine_and_archive_fisher_matrices(\n",
    "    base_dir=os.path.join(base_dir, 'GWFish_analysis', 'BBH', 'Fisher_matrices'),\n",
    "    matrix_file_prefix=f'fisher_matrices_{matrix_file_names}',\n",
    "    n_chunks=nprocs,\n",
    "    output_file=os.path.join(base_dir, 'GWFish_analysis', 'BBH', 'Fisher_matrices', f'fisher_matrices_{matrix_file_names}.npy')\n",
    ")\n",
    "\n",
    "combine_and_archive_fisher_matrices(\n",
    "    base_dir=os.path.join(base_dir, 'GWFish_analysis', 'BBH', 'Fisher_matrices'),\n",
    "    matrix_file_prefix=f'inv_fisher_matrices_{matrix_file_names}',\n",
    "    n_chunks=nprocs,\n",
    "    output_file=os.path.join(base_dir, 'GWFish_analysis', 'BBH', 'Fisher_matrices', f'inv_fisher_matrices_{matrix_file_names}.npy')\n",
    ")"
   ]
  },
  {
   "cell_type": "code",
   "execution_count": 23,
   "id": "b986484d-7c95-46aa-b410-6a6cb9767c5e",
   "metadata": {
    "scrolled": true
   },
   "outputs": [
    {
     "data": {
      "text/html": [
       "<div>\n",
       "<style scoped>\n",
       "    .dataframe tbody tr th:only-of-type {\n",
       "        vertical-align: middle;\n",
       "    }\n",
       "\n",
       "    .dataframe tbody tr th {\n",
       "        vertical-align: top;\n",
       "    }\n",
       "\n",
       "    .dataframe thead th {\n",
       "        text-align: right;\n",
       "    }\n",
       "</style>\n",
       "<table border=\"1\" class=\"dataframe\">\n",
       "  <thead>\n",
       "    <tr style=\"text-align: right;\">\n",
       "      <th></th>\n",
       "      <th>chirp_mass</th>\n",
       "      <th>mass_ratio</th>\n",
       "      <th>luminosity_distance</th>\n",
       "      <th>theta_jn</th>\n",
       "      <th>phase</th>\n",
       "      <th>geocent_time</th>\n",
       "      <th>ra</th>\n",
       "      <th>dec</th>\n",
       "      <th>psi</th>\n",
       "    </tr>\n",
       "  </thead>\n",
       "  <tbody>\n",
       "    <tr>\n",
       "      <th>0</th>\n",
       "      <td>0.001733</td>\n",
       "      <td>0.002620</td>\n",
       "      <td>279.515156</td>\n",
       "      <td>0.037808</td>\n",
       "      <td>0.104283</td>\n",
       "      <td>0.000395</td>\n",
       "      <td>0.038084</td>\n",
       "      <td>0.019669</td>\n",
       "      <td>0.038342</td>\n",
       "    </tr>\n",
       "    <tr>\n",
       "      <th>1</th>\n",
       "      <td>0.000202</td>\n",
       "      <td>0.002384</td>\n",
       "      <td>1555.706966</td>\n",
       "      <td>0.104406</td>\n",
       "      <td>0.261791</td>\n",
       "      <td>0.001479</td>\n",
       "      <td>0.016606</td>\n",
       "      <td>0.122524</td>\n",
       "      <td>0.116135</td>\n",
       "    </tr>\n",
       "    <tr>\n",
       "      <th>2</th>\n",
       "      <td>0.001793</td>\n",
       "      <td>0.006504</td>\n",
       "      <td>1172.964527</td>\n",
       "      <td>0.062058</td>\n",
       "      <td>0.238295</td>\n",
       "      <td>0.000614</td>\n",
       "      <td>0.009663</td>\n",
       "      <td>0.042511</td>\n",
       "      <td>0.082980</td>\n",
       "    </tr>\n",
       "    <tr>\n",
       "      <th>3</th>\n",
       "      <td>0.001985</td>\n",
       "      <td>0.005478</td>\n",
       "      <td>946.344307</td>\n",
       "      <td>0.080835</td>\n",
       "      <td>0.319935</td>\n",
       "      <td>0.000373</td>\n",
       "      <td>0.013102</td>\n",
       "      <td>0.025996</td>\n",
       "      <td>0.090718</td>\n",
       "    </tr>\n",
       "    <tr>\n",
       "      <th>4</th>\n",
       "      <td>0.007835</td>\n",
       "      <td>0.010190</td>\n",
       "      <td>1683.268927</td>\n",
       "      <td>0.170340</td>\n",
       "      <td>7.736683</td>\n",
       "      <td>0.000391</td>\n",
       "      <td>0.008673</td>\n",
       "      <td>0.025369</td>\n",
       "      <td>3.868110</td>\n",
       "    </tr>\n",
       "    <tr>\n",
       "      <th>...</th>\n",
       "      <td>...</td>\n",
       "      <td>...</td>\n",
       "      <td>...</td>\n",
       "      <td>...</td>\n",
       "      <td>...</td>\n",
       "      <td>...</td>\n",
       "      <td>...</td>\n",
       "      <td>...</td>\n",
       "      <td>...</td>\n",
       "    </tr>\n",
       "    <tr>\n",
       "      <th>5195</th>\n",
       "      <td>0.000239</td>\n",
       "      <td>0.001819</td>\n",
       "      <td>100.826682</td>\n",
       "      <td>0.033750</td>\n",
       "      <td>0.106947</td>\n",
       "      <td>0.000120</td>\n",
       "      <td>0.002394</td>\n",
       "      <td>0.008021</td>\n",
       "      <td>0.048174</td>\n",
       "    </tr>\n",
       "    <tr>\n",
       "      <th>5196</th>\n",
       "      <td>0.000795</td>\n",
       "      <td>0.009733</td>\n",
       "      <td>1370.956146</td>\n",
       "      <td>0.028421</td>\n",
       "      <td>0.138707</td>\n",
       "      <td>0.000585</td>\n",
       "      <td>0.028418</td>\n",
       "      <td>0.037824</td>\n",
       "      <td>0.030080</td>\n",
       "    </tr>\n",
       "    <tr>\n",
       "      <th>5197</th>\n",
       "      <td>0.004248</td>\n",
       "      <td>0.000414</td>\n",
       "      <td>1579.970400</td>\n",
       "      <td>0.187202</td>\n",
       "      <td>5.256036</td>\n",
       "      <td>0.000279</td>\n",
       "      <td>0.005860</td>\n",
       "      <td>0.020943</td>\n",
       "      <td>2.631482</td>\n",
       "    </tr>\n",
       "    <tr>\n",
       "      <th>5198</th>\n",
       "      <td>0.000066</td>\n",
       "      <td>0.002703</td>\n",
       "      <td>647.735167</td>\n",
       "      <td>0.077081</td>\n",
       "      <td>0.096271</td>\n",
       "      <td>0.000251</td>\n",
       "      <td>0.005262</td>\n",
       "      <td>0.022946</td>\n",
       "      <td>0.052897</td>\n",
       "    </tr>\n",
       "    <tr>\n",
       "      <th>5199</th>\n",
       "      <td>0.000655</td>\n",
       "      <td>0.001462</td>\n",
       "      <td>596.271308</td>\n",
       "      <td>0.080090</td>\n",
       "      <td>0.363867</td>\n",
       "      <td>0.000284</td>\n",
       "      <td>0.011631</td>\n",
       "      <td>0.015339</td>\n",
       "      <td>0.178406</td>\n",
       "    </tr>\n",
       "  </tbody>\n",
       "</table>\n",
       "<p>5200 rows × 9 columns</p>\n",
       "</div>"
      ],
      "text/plain": [
       "      chirp_mass  mass_ratio  luminosity_distance  theta_jn     phase  \\\n",
       "0       0.001733    0.002620           279.515156  0.037808  0.104283   \n",
       "1       0.000202    0.002384          1555.706966  0.104406  0.261791   \n",
       "2       0.001793    0.006504          1172.964527  0.062058  0.238295   \n",
       "3       0.001985    0.005478           946.344307  0.080835  0.319935   \n",
       "4       0.007835    0.010190          1683.268927  0.170340  7.736683   \n",
       "...          ...         ...                  ...       ...       ...   \n",
       "5195    0.000239    0.001819           100.826682  0.033750  0.106947   \n",
       "5196    0.000795    0.009733          1370.956146  0.028421  0.138707   \n",
       "5197    0.004248    0.000414          1579.970400  0.187202  5.256036   \n",
       "5198    0.000066    0.002703           647.735167  0.077081  0.096271   \n",
       "5199    0.000655    0.001462           596.271308  0.080090  0.363867   \n",
       "\n",
       "      geocent_time        ra       dec       psi  \n",
       "0         0.000395  0.038084  0.019669  0.038342  \n",
       "1         0.001479  0.016606  0.122524  0.116135  \n",
       "2         0.000614  0.009663  0.042511  0.082980  \n",
       "3         0.000373  0.013102  0.025996  0.090718  \n",
       "4         0.000391  0.008673  0.025369  3.868110  \n",
       "...            ...       ...       ...       ...  \n",
       "5195      0.000120  0.002394  0.008021  0.048174  \n",
       "5196      0.000585  0.028418  0.037824  0.030080  \n",
       "5197      0.000279  0.005860  0.020943  2.631482  \n",
       "5198      0.000251  0.005262  0.022946  0.052897  \n",
       "5199      0.000284  0.011631  0.015339  0.178406  \n",
       "\n",
       "[5200 rows x 9 columns]"
      ]
     },
     "execution_count": 23,
     "metadata": {},
     "output_type": "execute_result"
    }
   ],
   "source": [
    "results['errors'] = pd.DataFrame(results['errors'], columns=fisher_params)\n",
    "results['errors']"
   ]
  },
  {
   "cell_type": "markdown",
   "id": "0abb665a-4448-4b7d-81f0-5f86580c7a67",
   "metadata": {},
   "source": [
    "### Add original parameters to the results dict"
   ]
  },
  {
   "cell_type": "code",
   "execution_count": 24,
   "id": "9bbe94d7-02e1-43ea-a98f-a943d904dc30",
   "metadata": {},
   "outputs": [],
   "source": [
    "results['all_inj_params_original'] = inj_data['selected_n_events']\n",
    "results['all_inj_params_original'].loc[:,'log_distance'] = np.log(results['all_inj_params_original']['distance'])\n",
    "results['all_inj_params_original'].loc[:, 'inv_q'] = 1/results['all_inj_params_original']['q']"
   ]
  },
  {
   "cell_type": "code",
   "execution_count": 25,
   "id": "e8d5706b-3a6c-4e4d-8ef2-3ea22a1dc329",
   "metadata": {},
   "outputs": [
    {
     "data": {
      "text/plain": [
       "array(['chirp_mass', 'mass_ratio', 'luminosity_distance', 'theta_jn',\n",
       "       'phase', 'geocent_time', 'ra', 'dec', 'psi'], dtype=object)"
      ]
     },
     "execution_count": 25,
     "metadata": {},
     "output_type": "execute_result"
    }
   ],
   "source": [
    "results['deriv_variables_in_order'] = np.array(results['errors'].keys(), dtype=h5py.string_dtype(encoding='utf-8'))\n",
    "results['deriv_variables_in_order']"
   ]
  },
  {
   "cell_type": "code",
   "execution_count": 26,
   "id": "c504b51f-373f-41d1-9ba6-a0a69c1d486b",
   "metadata": {},
   "outputs": [],
   "source": [
    "pesummary_to_pycbc_map = {\n",
    "    'chirp_mass':'mchirp',\n",
    "    'mass_ratio':'inv_q',\n",
    "    'luminosity_distance':'distance',\n",
    "    'theta_jn':'theta_jn',\n",
    "    'phase':'coa_phase',\n",
    "    'geocent_time':'trigger_time',\n",
    "    'ra':'ra',\n",
    "    'dec':'dec',\n",
    "    'psi':'polarization'\n",
    "}"
   ]
  },
  {
   "cell_type": "code",
   "execution_count": 27,
   "id": "0b605f97-5090-4e2e-a47e-10126e763d22",
   "metadata": {},
   "outputs": [
    {
     "data": {
      "text/html": [
       "<div>\n",
       "<style scoped>\n",
       "    .dataframe tbody tr th:only-of-type {\n",
       "        vertical-align: middle;\n",
       "    }\n",
       "\n",
       "    .dataframe tbody tr th {\n",
       "        vertical-align: top;\n",
       "    }\n",
       "\n",
       "    .dataframe thead th {\n",
       "        text-align: right;\n",
       "    }\n",
       "</style>\n",
       "<table border=\"1\" class=\"dataframe\">\n",
       "  <thead>\n",
       "    <tr style=\"text-align: right;\">\n",
       "      <th></th>\n",
       "      <th>chirp_mass</th>\n",
       "      <th>mass_ratio</th>\n",
       "      <th>luminosity_distance</th>\n",
       "      <th>theta_jn</th>\n",
       "      <th>phase</th>\n",
       "      <th>geocent_time</th>\n",
       "      <th>ra</th>\n",
       "      <th>dec</th>\n",
       "      <th>psi</th>\n",
       "    </tr>\n",
       "  </thead>\n",
       "  <tbody>\n",
       "    <tr>\n",
       "      <th>0</th>\n",
       "      <td>25.046939</td>\n",
       "      <td>0.863805</td>\n",
       "      <td>9166.725126</td>\n",
       "      <td>1.534143</td>\n",
       "      <td>1.102282</td>\n",
       "      <td>1.911653e+09</td>\n",
       "      <td>3.138760</td>\n",
       "      <td>-0.845515</td>\n",
       "      <td>2.147303</td>\n",
       "    </tr>\n",
       "    <tr>\n",
       "      <th>1</th>\n",
       "      <td>11.883061</td>\n",
       "      <td>0.429982</td>\n",
       "      <td>17311.366584</td>\n",
       "      <td>1.479538</td>\n",
       "      <td>3.291709</td>\n",
       "      <td>1.904448e+09</td>\n",
       "      <td>4.723307</td>\n",
       "      <td>0.114258</td>\n",
       "      <td>0.645510</td>\n",
       "    </tr>\n",
       "    <tr>\n",
       "      <th>2</th>\n",
       "      <td>26.064813</td>\n",
       "      <td>0.619291</td>\n",
       "      <td>16305.885620</td>\n",
       "      <td>2.173172</td>\n",
       "      <td>3.380692</td>\n",
       "      <td>1.917591e+09</td>\n",
       "      <td>1.731818</td>\n",
       "      <td>-0.105157</td>\n",
       "      <td>0.766840</td>\n",
       "    </tr>\n",
       "    <tr>\n",
       "      <th>3</th>\n",
       "      <td>15.888994</td>\n",
       "      <td>0.820004</td>\n",
       "      <td>10039.132841</td>\n",
       "      <td>2.048722</td>\n",
       "      <td>0.052499</td>\n",
       "      <td>1.904023e+09</td>\n",
       "      <td>5.229659</td>\n",
       "      <td>-0.906319</td>\n",
       "      <td>2.593836</td>\n",
       "    </tr>\n",
       "    <tr>\n",
       "      <th>4</th>\n",
       "      <td>23.216875</td>\n",
       "      <td>0.557197</td>\n",
       "      <td>24210.925912</td>\n",
       "      <td>2.805005</td>\n",
       "      <td>2.612072</td>\n",
       "      <td>1.905356e+09</td>\n",
       "      <td>2.469360</td>\n",
       "      <td>0.071000</td>\n",
       "      <td>1.332727</td>\n",
       "    </tr>\n",
       "    <tr>\n",
       "      <th>...</th>\n",
       "      <td>...</td>\n",
       "      <td>...</td>\n",
       "      <td>...</td>\n",
       "      <td>...</td>\n",
       "      <td>...</td>\n",
       "      <td>...</td>\n",
       "      <td>...</td>\n",
       "      <td>...</td>\n",
       "      <td>...</td>\n",
       "    </tr>\n",
       "    <tr>\n",
       "      <th>5195</th>\n",
       "      <td>14.699844</td>\n",
       "      <td>0.884625</td>\n",
       "      <td>3451.654509</td>\n",
       "      <td>0.865634</td>\n",
       "      <td>2.815271</td>\n",
       "      <td>1.901109e+09</td>\n",
       "      <td>3.976166</td>\n",
       "      <td>0.027435</td>\n",
       "      <td>1.579564</td>\n",
       "    </tr>\n",
       "    <tr>\n",
       "      <th>5196</th>\n",
       "      <td>27.778154</td>\n",
       "      <td>0.895521</td>\n",
       "      <td>16611.580196</td>\n",
       "      <td>1.701392</td>\n",
       "      <td>3.030719</td>\n",
       "      <td>1.907678e+09</td>\n",
       "      <td>1.856913</td>\n",
       "      <td>-0.876371</td>\n",
       "      <td>0.462394</td>\n",
       "    </tr>\n",
       "    <tr>\n",
       "      <th>5197</th>\n",
       "      <td>30.257266</td>\n",
       "      <td>0.982528</td>\n",
       "      <td>19613.879808</td>\n",
       "      <td>0.396028</td>\n",
       "      <td>5.347785</td>\n",
       "      <td>1.917494e+09</td>\n",
       "      <td>3.366738</td>\n",
       "      <td>0.067322</td>\n",
       "      <td>1.374902</td>\n",
       "    </tr>\n",
       "    <tr>\n",
       "      <th>5198</th>\n",
       "      <td>13.656263</td>\n",
       "      <td>0.606899</td>\n",
       "      <td>9803.660681</td>\n",
       "      <td>1.118596</td>\n",
       "      <td>3.879665</td>\n",
       "      <td>1.900084e+09</td>\n",
       "      <td>0.079325</td>\n",
       "      <td>0.131497</td>\n",
       "      <td>0.561980</td>\n",
       "    </tr>\n",
       "    <tr>\n",
       "      <th>5199</th>\n",
       "      <td>20.513132</td>\n",
       "      <td>0.976644</td>\n",
       "      <td>9574.070489</td>\n",
       "      <td>2.377791</td>\n",
       "      <td>0.064392</td>\n",
       "      <td>1.919193e+09</td>\n",
       "      <td>3.201410</td>\n",
       "      <td>0.346699</td>\n",
       "      <td>0.783587</td>\n",
       "    </tr>\n",
       "  </tbody>\n",
       "</table>\n",
       "<p>5200 rows × 9 columns</p>\n",
       "</div>"
      ],
      "text/plain": [
       "      chirp_mass  mass_ratio  luminosity_distance  theta_jn     phase  \\\n",
       "0      25.046939    0.863805          9166.725126  1.534143  1.102282   \n",
       "1      11.883061    0.429982         17311.366584  1.479538  3.291709   \n",
       "2      26.064813    0.619291         16305.885620  2.173172  3.380692   \n",
       "3      15.888994    0.820004         10039.132841  2.048722  0.052499   \n",
       "4      23.216875    0.557197         24210.925912  2.805005  2.612072   \n",
       "...          ...         ...                  ...       ...       ...   \n",
       "5195   14.699844    0.884625          3451.654509  0.865634  2.815271   \n",
       "5196   27.778154    0.895521         16611.580196  1.701392  3.030719   \n",
       "5197   30.257266    0.982528         19613.879808  0.396028  5.347785   \n",
       "5198   13.656263    0.606899          9803.660681  1.118596  3.879665   \n",
       "5199   20.513132    0.976644          9574.070489  2.377791  0.064392   \n",
       "\n",
       "      geocent_time        ra       dec       psi  \n",
       "0     1.911653e+09  3.138760 -0.845515  2.147303  \n",
       "1     1.904448e+09  4.723307  0.114258  0.645510  \n",
       "2     1.917591e+09  1.731818 -0.105157  0.766840  \n",
       "3     1.904023e+09  5.229659 -0.906319  2.593836  \n",
       "4     1.905356e+09  2.469360  0.071000  1.332727  \n",
       "...            ...       ...       ...       ...  \n",
       "5195  1.901109e+09  3.976166  0.027435  1.579564  \n",
       "5196  1.907678e+09  1.856913 -0.876371  0.462394  \n",
       "5197  1.917494e+09  3.366738  0.067322  1.374902  \n",
       "5198  1.900084e+09  0.079325  0.131497  0.561980  \n",
       "5199  1.919193e+09  3.201410  0.346699  0.783587  \n",
       "\n",
       "[5200 rows x 9 columns]"
      ]
     },
     "execution_count": 27,
     "metadata": {},
     "output_type": "execute_result"
    }
   ],
   "source": [
    "results['inj_params'] = pd.DataFrame({key:results['all_inj_params_original'][pesummary_to_pycbc_map[key]] for key in results['deriv_variables_in_order']})\n",
    "results['inj_params']"
   ]
  },
  {
   "cell_type": "code",
   "execution_count": 28,
   "id": "abac1759-4ee3-4cbe-913b-2e1d5962716a",
   "metadata": {},
   "outputs": [],
   "source": [
    "load_inv_matrices = np.load(os.path.join(base_dir, 'GWFish_analysis', 'BBH', 'Fisher_matrices', \n",
    "                                         f'inv_fisher_matrices_{matrix_file_names}.npy'))"
   ]
  },
  {
   "cell_type": "code",
   "execution_count": 29,
   "id": "6917ab77-29c7-41f6-8dfd-2aa8d779f29b",
   "metadata": {},
   "outputs": [
    {
     "data": {
      "text/plain": [
       "5200"
      ]
     },
     "execution_count": 29,
     "metadata": {},
     "output_type": "execute_result"
    }
   ],
   "source": [
    "len(load_inv_matrices)"
   ]
  },
  {
   "cell_type": "code",
   "execution_count": 30,
   "id": "ad6fdf08-a3dc-4c49-a777-30a104e344ff",
   "metadata": {},
   "outputs": [],
   "source": [
    "results['cov'] = load_inv_matrices"
   ]
  },
  {
   "cell_type": "markdown",
   "id": "a29556d1-8b0f-40ee-b3c4-9e45d38eb3ea",
   "metadata": {},
   "source": [
    "## Sanity checks"
   ]
  },
  {
   "cell_type": "markdown",
   "id": "b3db7f55-11dd-46f2-aa8c-e7ab22ac4c33",
   "metadata": {},
   "source": [
    "### Check if cov matrices are positive-definite"
   ]
  },
  {
   "cell_type": "code",
   "execution_count": 31,
   "id": "369a0fec-f1b7-4aa9-a0d3-c55e12d55fab",
   "metadata": {},
   "outputs": [],
   "source": [
    "failed = []\n",
    "for event in range(len(results['all_inj_params_original'])):\n",
    "    cov = load_inv_matrices[event]  # the covariance matrix\n",
    "    try:\n",
    "        np.linalg.cholesky(cov)\n",
    "    except np.linalg.LinAlgError:\n",
    "        failed.append(event)"
   ]
  },
  {
   "cell_type": "code",
   "execution_count": 32,
   "id": "502e7226-3430-44bd-9b1a-0b28fded12d4",
   "metadata": {},
   "outputs": [
    {
     "data": {
      "text/plain": [
       "[]"
      ]
     },
     "execution_count": 32,
     "metadata": {},
     "output_type": "execute_result"
    }
   ],
   "source": [
    "failed"
   ]
  },
  {
   "cell_type": "code",
   "execution_count": 33,
   "id": "e520a9bf-ebfb-4076-8884-39859e3d1a2e",
   "metadata": {},
   "outputs": [],
   "source": [
    "failed_dict = {}\n",
    "if len(failed) !=0:\n",
    "    failed_dict['inj_params'] = results['inj_params'].loc[failed]\n",
    "    failed_dict['all_inj_params_original'] = results['all_inj_params_original'].loc[failed]"
   ]
  },
  {
   "cell_type": "code",
   "execution_count": 34,
   "id": "b01c2537-75d2-4bda-b77b-0f450e3cc3f9",
   "metadata": {},
   "outputs": [
    {
     "ename": "KeyError",
     "evalue": "'inj_params'",
     "output_type": "error",
     "traceback": [
      "\u001b[31m---------------------------------------------------------------------------\u001b[39m",
      "\u001b[31mKeyError\u001b[39m                                  Traceback (most recent call last)",
      "\u001b[36mCell\u001b[39m\u001b[36m \u001b[39m\u001b[32mIn[34]\u001b[39m\u001b[32m, line 1\u001b[39m\n\u001b[32m----> \u001b[39m\u001b[32m1\u001b[39m \u001b[43mfailed_dict\u001b[49m\u001b[43m[\u001b[49m\u001b[33;43m'\u001b[39;49m\u001b[33;43minj_params\u001b[39;49m\u001b[33;43m'\u001b[39;49m\u001b[43m]\u001b[49m\n",
      "\u001b[31mKeyError\u001b[39m: 'inj_params'"
     ]
    }
   ],
   "source": [
    "failed_dict['inj_params']"
   ]
  },
  {
   "cell_type": "code",
   "execution_count": 35,
   "id": "0c60de1b-b162-4490-a503-d94f658953ea",
   "metadata": {},
   "outputs": [
    {
     "name": "stdout",
     "output_type": "stream",
     "text": [
      "5200\n"
     ]
    }
   ],
   "source": [
    "print(len(results['inj_params']))"
   ]
  },
  {
   "cell_type": "code",
   "execution_count": 36,
   "id": "d899dbfc-ec42-4f73-bf16-38a67aeb71b0",
   "metadata": {},
   "outputs": [
    {
     "data": {
      "text/plain": [
       "dict_keys(['detected_idxs', 'netw_snrs', 'errors', 'sky_locs', 'all_inj_params_original', 'deriv_variables_in_order', 'inj_params', 'cov'])"
      ]
     },
     "execution_count": 36,
     "metadata": {},
     "output_type": "execute_result"
    }
   ],
   "source": [
    "results.keys()"
   ]
  },
  {
   "cell_type": "code",
   "execution_count": 37,
   "id": "2fb9fde6-e296-4b63-b168-bdf9913fda9f",
   "metadata": {},
   "outputs": [
    {
     "data": {
      "text/plain": [
       "[('detected_idxs', numpy.ndarray),\n",
       " ('netw_snrs', numpy.ndarray),\n",
       " ('errors', pandas.core.frame.DataFrame),\n",
       " ('sky_locs', numpy.ndarray),\n",
       " ('all_inj_params_original', pandas.core.frame.DataFrame),\n",
       " ('deriv_variables_in_order', numpy.ndarray),\n",
       " ('inj_params', pandas.core.frame.DataFrame),\n",
       " ('cov', numpy.ndarray)]"
      ]
     },
     "execution_count": 37,
     "metadata": {},
     "output_type": "execute_result"
    }
   ],
   "source": [
    "[(key, type(results[key])) for key in results.keys()]"
   ]
  },
  {
   "cell_type": "code",
   "execution_count": 38,
   "id": "8beaae39-51e2-4ae9-bd29-e9545dbfa074",
   "metadata": {},
   "outputs": [
    {
     "name": "stdout",
     "output_type": "stream",
     "text": [
      "No failed events\n",
      "No failed events\n",
      "No failed events\n",
      "No failed events\n",
      "No failed events\n",
      "No failed events\n"
     ]
    }
   ],
   "source": [
    "results_updated = {}\n",
    "for key in results.keys():\n",
    "    if key == 'detected_idxs':\n",
    "        continue\n",
    "    if key == 'deriv_variables_in_order':\n",
    "        results_updated[key] = results[key]\n",
    "    else:\n",
    "        if len(failed) == 0:\n",
    "            print(\"No failed events\")\n",
    "            results_updated[key] = results[key]\n",
    "        else:\n",
    "            if isinstance(results[key], pd.DataFrame):\n",
    "                results_updated[key] = results[key].drop(index=failed)\n",
    "            elif isinstance(results[key], np.ndarray):\n",
    "                results_updated[key] = np.array([results[key][i] for i in range(len(results[key])) if i not in failed])"
   ]
  },
  {
   "cell_type": "code",
   "execution_count": 39,
   "id": "721a5801-b1cd-474e-b21c-5e316e83a2a2",
   "metadata": {},
   "outputs": [
    {
     "name": "stdout",
     "output_type": "stream",
     "text": [
      "5200\n"
     ]
    }
   ],
   "source": [
    "print(len(results_updated['inj_params']))"
   ]
  },
  {
   "cell_type": "markdown",
   "id": "ed5d7e59-3edf-4e0f-ad07-f4eaa142619d",
   "metadata": {},
   "source": [
    "### Check for positive-definite again"
   ]
  },
  {
   "cell_type": "code",
   "execution_count": 40,
   "id": "00839b40-c8c0-45b7-93d8-2d2d0d54e76c",
   "metadata": {},
   "outputs": [],
   "source": [
    "failed2 = []\n",
    "for event in range(len(results_updated['all_inj_params_original'])):\n",
    "    cov = results_updated['cov'][event]  # the covariance matrix\n",
    "    try:\n",
    "        np.linalg.cholesky(cov)\n",
    "    except np.linalg.LinAlgError:\n",
    "        failed2.append(event)"
   ]
  },
  {
   "cell_type": "code",
   "execution_count": 41,
   "id": "4b849726-5f08-4820-9fd1-1fb7be180346",
   "metadata": {
    "scrolled": true
   },
   "outputs": [
    {
     "data": {
      "text/plain": [
       "[]"
      ]
     },
     "execution_count": 41,
     "metadata": {},
     "output_type": "execute_result"
    }
   ],
   "source": [
    "failed2"
   ]
  },
  {
   "cell_type": "code",
   "execution_count": 42,
   "id": "ab962d90-7488-46e9-86b3-ef58e181891e",
   "metadata": {},
   "outputs": [
    {
     "data": {
      "text/plain": [
       "dict_keys(['detected_idxs', 'netw_snrs', 'errors', 'sky_locs', 'all_inj_params_original', 'deriv_variables_in_order', 'inj_params', 'cov'])"
      ]
     },
     "execution_count": 42,
     "metadata": {},
     "output_type": "execute_result"
    }
   ],
   "source": [
    "results.keys()"
   ]
  },
  {
   "cell_type": "markdown",
   "id": "5f5092f2-883e-44df-b98f-495888566bcb",
   "metadata": {},
   "source": [
    "### DL errors are reasonable"
   ]
  },
  {
   "cell_type": "code",
   "execution_count": 43,
   "id": "76c6ec91-d44e-4bb0-a80f-0576f7ccf2ab",
   "metadata": {},
   "outputs": [
    {
     "data": {
      "text/plain": [
       "Text(0.5, 0, '$\\\\Delta D_L / D_L$')"
      ]
     },
     "execution_count": 43,
     "metadata": {},
     "output_type": "execute_result"
    },
    {
     "data": {
      "image/png": "[encoded data removed]",
      "text/plain": [
       "<Figure size 640x480 with 1 Axes>"
      ]
     },
     "metadata": {},
     "output_type": "display_data"
    }
   ],
   "source": [
    "plt.hist(results_updated['errors']['luminosity_distance']/results_updated['all_inj_params_original']['distance'], bins=50);\n",
    "plt.xlabel('$\\Delta D_L / D_L$')"
   ]
  },
  {
   "cell_type": "code",
   "execution_count": 44,
   "id": "8d126484-4727-4bc8-978d-c40fbdcef352",
   "metadata": {},
   "outputs": [
    {
     "data": {
      "text/plain": [
       "Text(0.5, 0, 'Network SNR')"
      ]
     },
     "execution_count": 44,
     "metadata": {},
     "output_type": "execute_result"
    },
    {
     "data": {
      "image/png": "[encoded data removed]",
      "text/plain": [
       "<Figure size 640x480 with 1 Axes>"
      ]
     },
     "metadata": {},
     "output_type": "display_data"
    }
   ],
   "source": [
    "plt.plot(results_updated['netw_snrs'], \n",
    "         results_updated['errors']['luminosity_distance']/results_updated['all_inj_params_original']['distance'], '.')\n",
    "plt.ylabel('$\\Delta D_L / D_L$')\n",
    "plt.xlabel('Network SNR')"
   ]
  },
  {
   "cell_type": "markdown",
   "id": "9cac5723-c206-4a7b-8697-a7bd8a28b7f6",
   "metadata": {},
   "source": [
    "### Check the recomibing has not messed up matrix orders"
   ]
  },
  {
   "cell_type": "code",
   "execution_count": 45,
   "id": "da5af4dd-4ac2-487c-b5a5-de5d8ea018f8",
   "metadata": {},
   "outputs": [
    {
     "data": {
      "text/plain": [
       "2"
      ]
     },
     "execution_count": 45,
     "metadata": {},
     "output_type": "execute_result"
    }
   ],
   "source": [
    "dl_idx = list(results_updated['errors'].keys()).index('luminosity_distance')\n",
    "dl_idx"
   ]
  },
  {
   "cell_type": "code",
   "execution_count": 46,
   "id": "594162b5-0524-44aa-a05f-f50a0d079d0c",
   "metadata": {},
   "outputs": [
    {
     "data": {
      "text/plain": [
       "[<matplotlib.lines.Line2D at 0x7bb0fca79690>]"
      ]
     },
     "execution_count": 46,
     "metadata": {},
     "output_type": "execute_result"
    },
    {
     "data": {
      "image/png": "[encoded data removed]",
      "text/plain": [
       "<Figure size 640x480 with 1 Axes>"
      ]
     },
     "metadata": {},
     "output_type": "display_data"
    }
   ],
   "source": [
    "dl_errs_from_covs = [np.sqrt(cov[dl_idx, dl_idx]) for cov in results_updated['cov']]\n",
    "plt.plot(results_updated['errors']['luminosity_distance']/dl_errs_from_covs)"
   ]
  },
  {
   "cell_type": "markdown",
   "id": "11e87c99-ed10-4a65-aaf7-e852b9dbefbb",
   "metadata": {},
   "source": [
    "### Check SNRs are matching with injected"
   ]
  },
  {
   "cell_type": "code",
   "execution_count": 47,
   "id": "29a6cad1-5b10-4559-9082-aa9d0d48f368",
   "metadata": {},
   "outputs": [
    {
     "data": {
      "image/png": "[encoded data removed]",
      "text/plain": [
       "<Figure size 640x480 with 1 Axes>"
      ]
     },
     "metadata": {},
     "output_type": "display_data"
    },
    {
     "data": {
      "image/png": "[encoded data removed]",
      "text/plain": [
       "<Figure size 640x480 with 1 Axes>"
      ]
     },
     "metadata": {},
     "output_type": "display_data"
    }
   ],
   "source": [
    "inj_snrs = results_updated['all_inj_params_original']['SNR_network']\n",
    "gwfish_snrs = results_updated['netw_snrs']\n",
    "\n",
    "plt.figure()\n",
    "plt.plot(inj_snrs, inj_snrs/gwfish_snrs, '.')\n",
    "plt.xlabel('Injected SNR (Netw)')\n",
    "plt.ylabel('inj_SNR / gwfish_SNR')\n",
    "plt.axhline(1, c='k')\n",
    "plt.xscale('log')\n",
    "\n",
    "plt.figure()\n",
    "plt.hist(inj_snrs, bins=np.logspace(0,3.3,50), histtype=u'step', label='SNR');\n",
    "plt.hist(gwfish_snrs, bins=np.logspace(0,3.3,50), histtype=u'step', label='GWB SNR');\n",
    "plt.legend()\n",
    "plt.xscale('log')"
   ]
  },
  {
   "cell_type": "markdown",
   "id": "022bccc9-f430-4b20-bd9f-d0fe6e4cd1ef",
   "metadata": {},
   "source": [
    "## Save to h5 file"
   ]
  },
  {
   "cell_type": "code",
   "execution_count": 48,
   "id": "a3ce2e44-e0d5-4065-a2ea-4fe8c12bbb36",
   "metadata": {},
   "outputs": [],
   "source": [
    "def save_to_h5_group(group, data, string_dtype, key=None):\n",
    "    # if key is given, create dataset/group under that name\n",
    "    if isinstance(data, dict):\n",
    "        subgroup = group if key is None else group.create_group(str(key))\n",
    "        for k, v in data.items():\n",
    "            save_to_h5_group(subgroup, v, string_dtype, k)\n",
    "\n",
    "    elif isinstance(data, (list, tuple)):\n",
    "        subgroup = group if key is None else group.create_group(str(key))\n",
    "        for i, item in enumerate(data):\n",
    "            save_to_h5_group(subgroup, item, string_dtype, str(i))\n",
    "\n",
    "    elif isinstance(data, pd.DataFrame):\n",
    "        subgroup = group if key is None else group.create_group(str(key))\n",
    "        for col in data.columns:\n",
    "            subgroup.create_dataset(str(col), data=data[col].to_numpy())\n",
    "\n",
    "    elif isinstance(data, str):\n",
    "        if key is None:\n",
    "            raise ValueError(\"Strings must be stored with a key\")\n",
    "        group.create_dataset(str(key), data=data, dtype=string_dtype)\n",
    "\n",
    "    else:\n",
    "        if key is None:\n",
    "            raise ValueError(\"Scalars/arrays must be stored with a key\")\n",
    "        group.create_dataset(str(key), data=np.array(data))\n",
    "\n",
    "\n",
    "def save_results_to_h5(results, filename):\n",
    "    dt = h5py.string_dtype(encoding='utf-8')\n",
    "    with h5py.File(filename, 'w') as f:\n",
    "        save_to_h5_group(f, results, dt)"
   ]
  },
  {
   "cell_type": "markdown",
   "id": "237fcc7d-cc32-40c2-9c81-20d032693e68",
   "metadata": {},
   "source": [
    "### Write to file"
   ]
  },
  {
   "cell_type": "code",
   "execution_count": 49,
   "id": "6b14ae11-6cda-40a8-b774-a361dc19a181",
   "metadata": {},
   "outputs": [
    {
     "name": "stdout",
     "output_type": "stream",
     "text": [
      "dict_keys(['netw_snrs', 'errors', 'sky_locs', 'all_inj_params_original', 'deriv_variables_in_order', 'inj_params', 'cov'])\n"
     ]
    },
    {
     "data": {
      "text/plain": [
       "[numpy.ndarray,\n",
       " pandas.core.frame.DataFrame,\n",
       " numpy.ndarray,\n",
       " pandas.core.frame.DataFrame,\n",
       " numpy.ndarray,\n",
       " pandas.core.frame.DataFrame,\n",
       " numpy.ndarray]"
      ]
     },
     "execution_count": 49,
     "metadata": {},
     "output_type": "execute_result"
    }
   ],
   "source": [
    "print(results_updated.keys())\n",
    "[type(results_updated[key]) for key in results_updated.keys()]"
   ]
  },
  {
   "cell_type": "code",
   "execution_count": 50,
   "id": "b9a58617-a708-40db-936e-f6e8511d69c7",
   "metadata": {
    "scrolled": true
   },
   "outputs": [
    {
     "data": {
      "text/plain": [
       "'/home/divyajyoti/ACADEMIC/Projects/Cardiff_University/Next_gen_detectability/A-sharp-study/GWFish_analysis/BBH/Errors/CE4020ET123_CoBA10_5_PLP_z_MDlow_zp_1.54_zmax_10_lmrd_22_no_spins_5200_events_pop_from_XPHM_det10.h5'"
      ]
     },
     "execution_count": 50,
     "metadata": {},
     "output_type": "execute_result"
    }
   ],
   "source": [
    "results_file = os.path.join(base_dir, 'GWFish_analysis', 'BBH', 'Errors',\n",
    "                            f'CE4020ET123_CoBA10_5_PLP_z_MDlow_zp_1.54_zmax_10_lmrd_22_no_spins_{len(results_updated[\"errors\"])}_events_pop_from_XPHM_det10.h5')\n",
    "#results_file = os.path.join(base_dir, 'GWFish_analysis', 'BBH', 'Errors',\n",
    "#                            f'LHI_Asharp_5_PLP_z_MDlow_zp_1.54_zmax_10_lmrd_22_no_spins_{len(results_updated[\"errors\"])}_events_365_days_pop_from_XPHM_det10.h5')\n",
    "results_file"
   ]
  },
  {
   "cell_type": "code",
   "execution_count": 51,
   "id": "838cba37-5e02-4aae-9264-7e44392cae30",
   "metadata": {
    "scrolled": true
   },
   "outputs": [],
   "source": [
    "save_results_to_h5(results_updated, results_file)"
   ]
  },
  {
   "cell_type": "markdown",
   "id": "9628838d-0b0c-4ed6-8a71-7c5eeaf84af4",
   "metadata": {},
   "source": [
    "## Check that the file was saved properly"
   ]
  },
  {
   "cell_type": "code",
   "execution_count": 52,
   "id": "c3d88834-2140-4bac-a79f-7689f6f82951",
   "metadata": {},
   "outputs": [
    {
     "name": "stdout",
     "output_type": "stream",
     "text": [
      "<KeysViewHDF5 ['all_inj_params_original', 'cov', 'deriv_variables_in_order', 'errors', 'inj_params', 'netw_snrs', 'sky_locs']>\n",
      "<KeysViewHDF5 ['chirp_mass', 'dec', 'geocent_time', 'luminosity_distance', 'mass_ratio', 'phase', 'psi', 'ra', 'theta_jn']>\n",
      "[b'chirp_mass' b'mass_ratio' b'luminosity_distance' b'theta_jn' b'phase'\n",
      " b'geocent_time' b'ra' b'dec' b'psi']\n",
      "[52.48623881 14.76845756 34.19609247 ... 61.43622562 43.50593561\n",
      " 75.69295526]\n",
      "<KeysViewHDF5 ['PSD_C1', 'PSD_CE20', 'PSD_E1', 'PSD_E2', 'PSD_E3', 'SNR_C1', 'SNR_CE20', 'SNR_E1', 'SNR_E2', 'SNR_E3', 'SNR_mf_C1', 'SNR_mf_CE20', 'SNR_mf_E1', 'SNR_mf_E2', 'SNR_mf_E3', 'SNR_mf_from_opt_C1', 'SNR_mf_from_opt_CE20', 'SNR_mf_from_opt_E1', 'SNR_mf_from_opt_E2', 'SNR_mf_from_opt_E3', 'SNR_mf_from_opt_network', 'SNR_mf_network', 'SNR_network', 'approximant', 'chi_1_in_plane', 'chi_2_in_plane', 'chi_eff', 'chi_p', 'coa_phase', 'cos_spin1_polar', 'cos_spin2_polar', 'dec', 'delta_f', 'distance', 'eta', 'f_final', 'f_lower', 'f_ref', 'inclination', 'inv_q', 'log_distance', 'mass1', 'mass2', 'mchirp', 'mtotal', 'old_index', 'phi_12', 'phi_jl', 'polarization', 'q', 'ra', 'redshift', 'spin1_a', 'spin1_azimuthal', 'spin1_polar', 'spin1x', 'spin1y', 'spin1z', 'spin2_a', 'spin2_azimuthal', 'spin2_polar', 'spin2x', 'spin2y', 'spin2z', 'srcmass1', 'srcmass2', 'srcmchirp', 'srcmtotal', 'theta_jn', 'time_interval', 'trigger_time']>\n"
     ]
    }
   ],
   "source": [
    "with h5py.File(results_file, 'r') as f:\n",
    "    print(f.keys())\n",
    "    print(f['errors'].keys())\n",
    "    print(f['deriv_variables_in_order'][()])\n",
    "    print(f['netw_snrs'][()])\n",
    "    print(f['all_inj_params_original'].keys())"
   ]
  },
  {
   "cell_type": "code",
   "execution_count": null,
   "id": "1bdaffce-5f1a-4b24-9436-65cc3a77eeca",
   "metadata": {},
   "outputs": [],
   "source": []
  },
  {
   "cell_type": "code",
   "execution_count": null,
   "id": "612a7970-0e16-4896-ab61-203b712a24cc",
   "metadata": {},
   "outputs": [],
   "source": []
  }
 ],
 "metadata": {
  "kernelspec": {
   "display_name": "gwfish",
   "language": "python",
   "name": "gwfish"
  },
  "language_info": {
   "codemirror_mode": {
    "name": "ipython",
    "version": 3
   },
   "file_extension": ".py",
   "mimetype": "text/x-python",
   "name": "python",
   "nbconvert_exporter": "python",
   "pygments_lexer": "ipython3",
   "version": "3.11.11"
  }
 },
 "nbformat": 4,
 "nbformat_minor": 5
}
