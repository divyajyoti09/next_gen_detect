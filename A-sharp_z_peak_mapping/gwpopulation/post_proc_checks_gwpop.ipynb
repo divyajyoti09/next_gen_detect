{
 "cells": [
  {
   "cell_type": "code",
   "execution_count": 1,
   "id": "796025aa-857c-46eb-bd87-5a20f24b0b85",
   "metadata": {},
   "outputs": [],
   "source": [
    "import bilby as bb\n",
    "import gwpopulation as gwpop\n",
    "import matplotlib.pyplot as plt\n",
    "import pandas as pd\n",
    "from bilby.core.prior import PriorDict, Uniform\n",
    "import os\n",
    "import bilby\n",
    "import numpy as np"
   ]
  },
  {
   "cell_type": "code",
   "execution_count": 2,
   "id": "32e5157a-8958-4833-ae6e-f3708c030f2e",
   "metadata": {},
   "outputs": [],
   "source": [
    "#gwpop.set_backend(\"jax\")\n",
    "\n",
    "#xp = gwpop.utils.xp\n",
    "\n",
    "project_dir = '/home/divyajyoti/ACADEMIC/Projects/Cardiff_University/Next_gen_detectability/A-sharp-study/'\n",
    "#project_dir = '/home/divyajyoti.nln/Cardiff_University/Next_gen_detectability/A-sharp-study/'"
   ]
  },
  {
   "cell_type": "code",
   "execution_count": 3,
   "id": "34c88f73-194a-428e-b13f-9b4087d56ed6",
   "metadata": {},
   "outputs": [],
   "source": [
    "netw = 'Asharp'\n",
    "#netw = 'CE4020ET123'\n",
    "#mass_band = 'below_40'\n",
    "#mass_band = '40-80'\n",
    "#mass_band = 'above_80'\n",
    "#outdir = os.path.join(project_dir, 'gwpopulation', 'BBH', 'gwpop_analysis_results', \n",
    "#                      netw, 'mass_bands', mass_band, 'run03_gwfish_mf_from_opt_SNR_injections_XPHM')\n",
    "outdir = os.path.join(project_dir, 'gwpopulation', 'BBH', 'gwpop_analysis_results', \n",
    "                      netw, 'run08_gwfish_mf_from_opt_SNR_injections_XPHM')"
   ]
  },
  {
   "cell_type": "code",
   "execution_count": 4,
   "id": "7106caf6-0ff1-4108-b988-8f80c045d817",
   "metadata": {},
   "outputs": [],
   "source": [
    "result = bilby.result.read_in_result(filename=os.path.join(outdir, f'{netw}_result.hdf5'))\n",
    "#result = bilby.result.read_in_result(filename=os.path.join(outdir, 'CE4020ET123_result.hdf5'))"
   ]
  },
  {
   "cell_type": "markdown",
   "id": "ff152ea9-e505-46fc-896e-e1fe92e9a3ca",
   "metadata": {},
   "source": [
    "## Add the new parameter which is peak of the curve"
   ]
  },
  {
   "cell_type": "code",
   "execution_count": 5,
   "id": "75e710d2-d39e-4f91-945c-259035d3340c",
   "metadata": {},
   "outputs": [],
   "source": [
    "def z_peak_new(gamma, kappa, z_peak):\n",
    "    new_peak = (gamma/(kappa-gamma))**(1/kappa) * (1+z_peak) - 1\n",
    "    return(new_peak)"
   ]
  },
  {
   "cell_type": "code",
   "execution_count": 6,
   "id": "398d5199-c15f-44a1-b41f-32fa026cfd51",
   "metadata": {},
   "outputs": [],
   "source": [
    "if \"MDhigh\" in outdir:\n",
    "    true_params = {'gamma':1.7982, 'kappa':5.3226, 'z_peak':2.4199}\n",
    "elif 'MDlow' in outdir:\n",
    "    true_params = {'gamma':1.8111, 'kappa':5.2753, 'z_peak':1.4917}\n",
    "else:\n",
    "    true_params = {'gamma':1.8032, 'kappa':5.3023, 'z_peak':1.8362}\n",
    "true_params['z_peak_new'] = z_peak_new(**true_params)"
   ]
  },
  {
   "cell_type": "code",
   "execution_count": 7,
   "id": "8dcfcd95-3cc2-4ecd-bafe-a94df3f193a2",
   "metadata": {},
   "outputs": [
    {
     "data": {
      "text/plain": [
       "{'gamma': 1.8032,\n",
       " 'kappa': 5.3023,\n",
       " 'z_peak': 1.8362,\n",
       " 'z_peak_new': 1.5028643466529545}"
      ]
     },
     "execution_count": 7,
     "metadata": {},
     "output_type": "execute_result"
    }
   ],
   "source": [
    "true_params"
   ]
  },
  {
   "cell_type": "code",
   "execution_count": 8,
   "id": "5a3cb829-bd0b-4b0d-b856-e01335b2e4fa",
   "metadata": {},
   "outputs": [
    {
     "data": {
      "text/html": [
       "<div>\n",
       "<style scoped>\n",
       "    .dataframe tbody tr th:only-of-type {\n",
       "        vertical-align: middle;\n",
       "    }\n",
       "\n",
       "    .dataframe tbody tr th {\n",
       "        vertical-align: top;\n",
       "    }\n",
       "\n",
       "    .dataframe thead th {\n",
       "        text-align: right;\n",
       "    }\n",
       "</style>\n",
       "<table border=\"1\" class=\"dataframe\">\n",
       "  <thead>\n",
       "    <tr style=\"text-align: right;\">\n",
       "      <th></th>\n",
       "      <th>gamma</th>\n",
       "      <th>kappa</th>\n",
       "      <th>log_likelihood</th>\n",
       "      <th>log_prior</th>\n",
       "      <th>z_peak</th>\n",
       "    </tr>\n",
       "  </thead>\n",
       "  <tbody>\n",
       "    <tr>\n",
       "      <th>0</th>\n",
       "      <td>0.926377</td>\n",
       "      <td>10.460331</td>\n",
       "      <td>39826.565062</td>\n",
       "      <td>-5.857933</td>\n",
       "      <td>2.429039</td>\n",
       "    </tr>\n",
       "    <tr>\n",
       "      <th>1</th>\n",
       "      <td>0.938890</td>\n",
       "      <td>7.700971</td>\n",
       "      <td>39826.818837</td>\n",
       "      <td>-5.857933</td>\n",
       "      <td>2.282913</td>\n",
       "    </tr>\n",
       "    <tr>\n",
       "      <th>2</th>\n",
       "      <td>1.170644</td>\n",
       "      <td>9.842855</td>\n",
       "      <td>39826.957346</td>\n",
       "      <td>-5.857933</td>\n",
       "      <td>2.318738</td>\n",
       "    </tr>\n",
       "    <tr>\n",
       "      <th>3</th>\n",
       "      <td>1.614138</td>\n",
       "      <td>7.259042</td>\n",
       "      <td>39827.322497</td>\n",
       "      <td>-5.857933</td>\n",
       "      <td>2.049357</td>\n",
       "    </tr>\n",
       "    <tr>\n",
       "      <th>4</th>\n",
       "      <td>0.889901</td>\n",
       "      <td>10.210271</td>\n",
       "      <td>39827.787872</td>\n",
       "      <td>-5.857933</td>\n",
       "      <td>2.481523</td>\n",
       "    </tr>\n",
       "    <tr>\n",
       "      <th>...</th>\n",
       "      <td>...</td>\n",
       "      <td>...</td>\n",
       "      <td>...</td>\n",
       "      <td>...</td>\n",
       "      <td>...</td>\n",
       "    </tr>\n",
       "    <tr>\n",
       "      <th>3201</th>\n",
       "      <td>1.330378</td>\n",
       "      <td>6.255265</td>\n",
       "      <td>39835.396910</td>\n",
       "      <td>-5.857933</td>\n",
       "      <td>2.102443</td>\n",
       "    </tr>\n",
       "    <tr>\n",
       "      <th>3202</th>\n",
       "      <td>1.324339</td>\n",
       "      <td>6.376691</td>\n",
       "      <td>39835.399098</td>\n",
       "      <td>-5.857933</td>\n",
       "      <td>2.115502</td>\n",
       "    </tr>\n",
       "    <tr>\n",
       "      <th>3203</th>\n",
       "      <td>1.334903</td>\n",
       "      <td>6.292667</td>\n",
       "      <td>39835.399183</td>\n",
       "      <td>-5.857933</td>\n",
       "      <td>2.098517</td>\n",
       "    </tr>\n",
       "    <tr>\n",
       "      <th>3204</th>\n",
       "      <td>1.328257</td>\n",
       "      <td>6.311996</td>\n",
       "      <td>39835.399702</td>\n",
       "      <td>-5.857933</td>\n",
       "      <td>2.112788</td>\n",
       "    </tr>\n",
       "    <tr>\n",
       "      <th>3205</th>\n",
       "      <td>1.320564</td>\n",
       "      <td>6.331981</td>\n",
       "      <td>39835.400459</td>\n",
       "      <td>-5.857933</td>\n",
       "      <td>2.114503</td>\n",
       "    </tr>\n",
       "  </tbody>\n",
       "</table>\n",
       "<p>3206 rows × 5 columns</p>\n",
       "</div>"
      ],
      "text/plain": [
       "         gamma      kappa  log_likelihood  log_prior    z_peak\n",
       "0     0.926377  10.460331    39826.565062  -5.857933  2.429039\n",
       "1     0.938890   7.700971    39826.818837  -5.857933  2.282913\n",
       "2     1.170644   9.842855    39826.957346  -5.857933  2.318738\n",
       "3     1.614138   7.259042    39827.322497  -5.857933  2.049357\n",
       "4     0.889901  10.210271    39827.787872  -5.857933  2.481523\n",
       "...        ...        ...             ...        ...       ...\n",
       "3201  1.330378   6.255265    39835.396910  -5.857933  2.102443\n",
       "3202  1.324339   6.376691    39835.399098  -5.857933  2.115502\n",
       "3203  1.334903   6.292667    39835.399183  -5.857933  2.098517\n",
       "3204  1.328257   6.311996    39835.399702  -5.857933  2.112788\n",
       "3205  1.320564   6.331981    39835.400459  -5.857933  2.114503\n",
       "\n",
       "[3206 rows x 5 columns]"
      ]
     },
     "execution_count": 8,
     "metadata": {},
     "output_type": "execute_result"
    }
   ],
   "source": [
    "result.posterior"
   ]
  },
  {
   "cell_type": "code",
   "execution_count": 9,
   "id": "d8167479-658b-4ade-ad0b-ff99e0855bf4",
   "metadata": {},
   "outputs": [
    {
     "data": {
      "text/plain": [
       "{'gamma': Uniform(minimum=0, maximum=5, name=None, latex_label='$\\\\gamma$', unit=None, boundary=None),\n",
       " 'kappa': Uniform(minimum=0, maximum=20, name=None, latex_label='$\\\\kappa$', unit=None, boundary=None),\n",
       " 'z_peak': Uniform(minimum=0.5, maximum=4, name=None, latex_label='$z_{peak}$', unit=None, boundary=None)}"
      ]
     },
     "execution_count": 9,
     "metadata": {},
     "output_type": "execute_result"
    }
   ],
   "source": [
    "result.priors"
   ]
  },
  {
   "cell_type": "code",
   "execution_count": 10,
   "id": "ca5b9367-827e-488b-9c9c-cdd7ddcfffee",
   "metadata": {},
   "outputs": [],
   "source": [
    "z_peak_new_posterior = z_peak_new(result.posterior['gamma'], \n",
    "                                  result.posterior['kappa'], \n",
    "                                  result.posterior['z_peak'])"
   ]
  },
  {
   "cell_type": "code",
   "execution_count": 11,
   "id": "ecf2772a-2b19-42ac-a042-8856c14a7017",
   "metadata": {},
   "outputs": [],
   "source": [
    "result.posterior.loc[:, 'z_peak_new'] = z_peak_new_posterior"
   ]
  },
  {
   "cell_type": "code",
   "execution_count": 12,
   "id": "4758ba16-16d2-4f5b-9d6f-3033e2534427",
   "metadata": {},
   "outputs": [
    {
     "data": {
      "text/html": [
       "<div>\n",
       "<style scoped>\n",
       "    .dataframe tbody tr th:only-of-type {\n",
       "        vertical-align: middle;\n",
       "    }\n",
       "\n",
       "    .dataframe tbody tr th {\n",
       "        vertical-align: top;\n",
       "    }\n",
       "\n",
       "    .dataframe thead th {\n",
       "        text-align: right;\n",
       "    }\n",
       "</style>\n",
       "<table border=\"1\" class=\"dataframe\">\n",
       "  <thead>\n",
       "    <tr style=\"text-align: right;\">\n",
       "      <th></th>\n",
       "      <th>gamma</th>\n",
       "      <th>kappa</th>\n",
       "      <th>log_likelihood</th>\n",
       "      <th>log_prior</th>\n",
       "      <th>z_peak</th>\n",
       "      <th>z_peak_new</th>\n",
       "    </tr>\n",
       "  </thead>\n",
       "  <tbody>\n",
       "    <tr>\n",
       "      <th>13</th>\n",
       "      <td>1.522310</td>\n",
       "      <td>5.085655</td>\n",
       "      <td>39828.675409</td>\n",
       "      <td>-5.857933</td>\n",
       "      <td>1.744956</td>\n",
       "      <td>1.322249</td>\n",
       "    </tr>\n",
       "    <tr>\n",
       "      <th>11</th>\n",
       "      <td>1.878743</td>\n",
       "      <td>4.458802</td>\n",
       "      <td>39828.565737</td>\n",
       "      <td>-5.857933</td>\n",
       "      <td>1.495297</td>\n",
       "      <td>1.323943</td>\n",
       "    </tr>\n",
       "    <tr>\n",
       "      <th>45</th>\n",
       "      <td>2.057221</td>\n",
       "      <td>4.982087</td>\n",
       "      <td>39830.130887</td>\n",
       "      <td>-5.857933</td>\n",
       "      <td>1.494110</td>\n",
       "      <td>1.324025</td>\n",
       "    </tr>\n",
       "    <tr>\n",
       "      <th>50</th>\n",
       "      <td>1.660178</td>\n",
       "      <td>4.889422</td>\n",
       "      <td>39830.255285</td>\n",
       "      <td>-5.857933</td>\n",
       "      <td>1.666686</td>\n",
       "      <td>1.327426</td>\n",
       "    </tr>\n",
       "    <tr>\n",
       "      <th>40</th>\n",
       "      <td>1.764996</td>\n",
       "      <td>5.590916</td>\n",
       "      <td>39829.934149</td>\n",
       "      <td>-5.857933</td>\n",
       "      <td>1.678573</td>\n",
       "      <td>1.332423</td>\n",
       "    </tr>\n",
       "    <tr>\n",
       "      <th>...</th>\n",
       "      <td>...</td>\n",
       "      <td>...</td>\n",
       "      <td>...</td>\n",
       "      <td>...</td>\n",
       "      <td>...</td>\n",
       "      <td>...</td>\n",
       "    </tr>\n",
       "    <tr>\n",
       "      <th>71</th>\n",
       "      <td>1.005320</td>\n",
       "      <td>8.685893</td>\n",
       "      <td>39830.593223</td>\n",
       "      <td>-5.857933</td>\n",
       "      <td>2.492448</td>\n",
       "      <td>1.763507</td>\n",
       "    </tr>\n",
       "    <tr>\n",
       "      <th>69</th>\n",
       "      <td>0.986017</td>\n",
       "      <td>8.768208</td>\n",
       "      <td>39830.541109</td>\n",
       "      <td>-5.857933</td>\n",
       "      <td>2.500158</td>\n",
       "      <td>1.765422</td>\n",
       "    </tr>\n",
       "    <tr>\n",
       "      <th>39</th>\n",
       "      <td>1.002234</td>\n",
       "      <td>8.061577</td>\n",
       "      <td>39829.827861</td>\n",
       "      <td>-5.857933</td>\n",
       "      <td>2.523793</td>\n",
       "      <td>1.765957</td>\n",
       "    </tr>\n",
       "    <tr>\n",
       "      <th>4</th>\n",
       "      <td>0.889901</td>\n",
       "      <td>10.210271</td>\n",
       "      <td>39827.787872</td>\n",
       "      <td>-5.857933</td>\n",
       "      <td>2.481523</td>\n",
       "      <td>1.766056</td>\n",
       "    </tr>\n",
       "    <tr>\n",
       "      <th>46</th>\n",
       "      <td>0.982964</td>\n",
       "      <td>9.124484</td>\n",
       "      <td>39830.133539</td>\n",
       "      <td>-5.857933</td>\n",
       "      <td>2.500373</td>\n",
       "      <td>1.776435</td>\n",
       "    </tr>\n",
       "  </tbody>\n",
       "</table>\n",
       "<p>3206 rows × 6 columns</p>\n",
       "</div>"
      ],
      "text/plain": [
       "       gamma      kappa  log_likelihood  log_prior    z_peak  z_peak_new\n",
       "13  1.522310   5.085655    39828.675409  -5.857933  1.744956    1.322249\n",
       "11  1.878743   4.458802    39828.565737  -5.857933  1.495297    1.323943\n",
       "45  2.057221   4.982087    39830.130887  -5.857933  1.494110    1.324025\n",
       "50  1.660178   4.889422    39830.255285  -5.857933  1.666686    1.327426\n",
       "40  1.764996   5.590916    39829.934149  -5.857933  1.678573    1.332423\n",
       "..       ...        ...             ...        ...       ...         ...\n",
       "71  1.005320   8.685893    39830.593223  -5.857933  2.492448    1.763507\n",
       "69  0.986017   8.768208    39830.541109  -5.857933  2.500158    1.765422\n",
       "39  1.002234   8.061577    39829.827861  -5.857933  2.523793    1.765957\n",
       "4   0.889901  10.210271    39827.787872  -5.857933  2.481523    1.766056\n",
       "46  0.982964   9.124484    39830.133539  -5.857933  2.500373    1.776435\n",
       "\n",
       "[3206 rows x 6 columns]"
      ]
     },
     "execution_count": 12,
     "metadata": {},
     "output_type": "execute_result"
    }
   ],
   "source": [
    "result.posterior.sort_values('z_peak_new')"
   ]
  },
  {
   "cell_type": "markdown",
   "id": "79e6fa70-0e86-4be3-be03-7e967a69f089",
   "metadata": {
    "jp-MarkdownHeadingCollapsed": true
   },
   "source": [
    "### Remove outlier points if need be"
   ]
  },
  {
   "cell_type": "code",
   "execution_count": 25,
   "id": "ddb82587-df30-4a46-b7ca-e44d02671d81",
   "metadata": {},
   "outputs": [
    {
     "data": {
      "text/html": [
       "<div>\n",
       "<style scoped>\n",
       "    .dataframe tbody tr th:only-of-type {\n",
       "        vertical-align: middle;\n",
       "    }\n",
       "\n",
       "    .dataframe tbody tr th {\n",
       "        vertical-align: top;\n",
       "    }\n",
       "\n",
       "    .dataframe thead th {\n",
       "        text-align: right;\n",
       "    }\n",
       "</style>\n",
       "<table border=\"1\" class=\"dataframe\">\n",
       "  <thead>\n",
       "    <tr style=\"text-align: right;\">\n",
       "      <th></th>\n",
       "      <th>gamma</th>\n",
       "      <th>kappa</th>\n",
       "      <th>log_likelihood</th>\n",
       "      <th>log_prior</th>\n",
       "      <th>z_peak</th>\n",
       "      <th>z_peak_new</th>\n",
       "    </tr>\n",
       "  </thead>\n",
       "  <tbody>\n",
       "    <tr>\n",
       "      <th>2</th>\n",
       "      <td>1.985098</td>\n",
       "      <td>4.480870</td>\n",
       "      <td>39825.124308</td>\n",
       "      <td>-5.857933</td>\n",
       "      <td>1.388033</td>\n",
       "      <td>1.269092</td>\n",
       "    </tr>\n",
       "    <tr>\n",
       "      <th>15</th>\n",
       "      <td>1.912057</td>\n",
       "      <td>4.797847</td>\n",
       "      <td>39827.115232</td>\n",
       "      <td>-5.857933</td>\n",
       "      <td>1.491485</td>\n",
       "      <td>1.286647</td>\n",
       "    </tr>\n",
       "    <tr>\n",
       "      <th>21</th>\n",
       "      <td>1.973283</td>\n",
       "      <td>5.104658</td>\n",
       "      <td>39827.490798</td>\n",
       "      <td>-5.857933</td>\n",
       "      <td>1.513771</td>\n",
       "      <td>1.296355</td>\n",
       "    </tr>\n",
       "    <tr>\n",
       "      <th>11</th>\n",
       "      <td>1.679244</td>\n",
       "      <td>4.636828</td>\n",
       "      <td>39826.920304</td>\n",
       "      <td>-5.857933</td>\n",
       "      <td>1.606665</td>\n",
       "      <td>1.307118</td>\n",
       "    </tr>\n",
       "    <tr>\n",
       "      <th>7</th>\n",
       "      <td>2.158264</td>\n",
       "      <td>5.303787</td>\n",
       "      <td>39826.289892</td>\n",
       "      <td>-5.857933</td>\n",
       "      <td>1.484085</td>\n",
       "      <td>1.313784</td>\n",
       "    </tr>\n",
       "    <tr>\n",
       "      <th>...</th>\n",
       "      <td>...</td>\n",
       "      <td>...</td>\n",
       "      <td>...</td>\n",
       "      <td>...</td>\n",
       "      <td>...</td>\n",
       "      <td>...</td>\n",
       "    </tr>\n",
       "    <tr>\n",
       "      <th>73</th>\n",
       "      <td>1.031221</td>\n",
       "      <td>8.745275</td>\n",
       "      <td>39828.943795</td>\n",
       "      <td>-5.857933</td>\n",
       "      <td>2.466221</td>\n",
       "      <td>1.753750</td>\n",
       "    </tr>\n",
       "    <tr>\n",
       "      <th>5</th>\n",
       "      <td>0.785566</td>\n",
       "      <td>8.620906</td>\n",
       "      <td>39826.096965</td>\n",
       "      <td>-5.857933</td>\n",
       "      <td>2.597766</td>\n",
       "      <td>1.755284</td>\n",
       "    </tr>\n",
       "    <tr>\n",
       "      <th>56</th>\n",
       "      <td>0.911582</td>\n",
       "      <td>8.794990</td>\n",
       "      <td>39828.640975</td>\n",
       "      <td>-5.857933</td>\n",
       "      <td>2.522386</td>\n",
       "      <td>1.756185</td>\n",
       "    </tr>\n",
       "    <tr>\n",
       "      <th>28</th>\n",
       "      <td>1.092469</td>\n",
       "      <td>7.939820</td>\n",
       "      <td>39827.680146</td>\n",
       "      <td>-5.857933</td>\n",
       "      <td>2.474921</td>\n",
       "      <td>1.757722</td>\n",
       "    </tr>\n",
       "    <tr>\n",
       "      <th>4</th>\n",
       "      <td>0.970496</td>\n",
       "      <td>9.276543</td>\n",
       "      <td>39825.733003</td>\n",
       "      <td>-5.857933</td>\n",
       "      <td>2.572266</td>\n",
       "      <td>1.834210</td>\n",
       "    </tr>\n",
       "  </tbody>\n",
       "</table>\n",
       "<p>3206 rows × 6 columns</p>\n",
       "</div>"
      ],
      "text/plain": [
       "       gamma     kappa  log_likelihood  log_prior    z_peak  z_peak_new\n",
       "2   1.985098  4.480870    39825.124308  -5.857933  1.388033    1.269092\n",
       "15  1.912057  4.797847    39827.115232  -5.857933  1.491485    1.286647\n",
       "21  1.973283  5.104658    39827.490798  -5.857933  1.513771    1.296355\n",
       "11  1.679244  4.636828    39826.920304  -5.857933  1.606665    1.307118\n",
       "7   2.158264  5.303787    39826.289892  -5.857933  1.484085    1.313784\n",
       "..       ...       ...             ...        ...       ...         ...\n",
       "73  1.031221  8.745275    39828.943795  -5.857933  2.466221    1.753750\n",
       "5   0.785566  8.620906    39826.096965  -5.857933  2.597766    1.755284\n",
       "56  0.911582  8.794990    39828.640975  -5.857933  2.522386    1.756185\n",
       "28  1.092469  7.939820    39827.680146  -5.857933  2.474921    1.757722\n",
       "4   0.970496  9.276543    39825.733003  -5.857933  2.572266    1.834210\n",
       "\n",
       "[3206 rows x 6 columns]"
      ]
     },
     "execution_count": 25,
     "metadata": {},
     "output_type": "execute_result"
    }
   ],
   "source": [
    "result.posterior = result.posterior.sort_values('z_peak_new').dropna()\n",
    "result.posterior"
   ]
  },
  {
   "cell_type": "code",
   "execution_count": 14,
   "id": "306843d6-6f29-407a-9295-0efcf1c8a268",
   "metadata": {},
   "outputs": [],
   "source": [
    "ci99 = (result.posterior['z_peak_new'] > np.quantile(result.posterior['z_peak_new'], 0.99))\n",
    "negative_vals = (result.posterior['z_peak_new'] < 0)\n",
    "#drop_index = result.posterior[ci99 | negative_vals].index\n",
    "drop_index = result.posterior[negative_vals].index"
   ]
  },
  {
   "cell_type": "code",
   "execution_count": 15,
   "id": "ec5bc8b5-a7b2-43aa-8f05-67c55f69548e",
   "metadata": {},
   "outputs": [
    {
     "data": {
      "text/plain": [
       "Index([140,  68,  71,  84, 184, 421,   6, 170, 100, 128,  40, 417, 114, 141,\n",
       "       182, 132, 301,   3, 359,  77, 134],\n",
       "      dtype='int64')"
      ]
     },
     "execution_count": 15,
     "metadata": {},
     "output_type": "execute_result"
    }
   ],
   "source": [
    "drop_index"
   ]
  },
  {
   "cell_type": "code",
   "execution_count": 16,
   "id": "cc4ca51e-9453-4ed8-a6d8-64ab6f7b0ea8",
   "metadata": {},
   "outputs": [
    {
     "data": {
      "text/html": [
       "<div>\n",
       "<style scoped>\n",
       "    .dataframe tbody tr th:only-of-type {\n",
       "        vertical-align: middle;\n",
       "    }\n",
       "\n",
       "    .dataframe tbody tr th {\n",
       "        vertical-align: top;\n",
       "    }\n",
       "\n",
       "    .dataframe thead th {\n",
       "        text-align: right;\n",
       "    }\n",
       "</style>\n",
       "<table border=\"1\" class=\"dataframe\">\n",
       "  <thead>\n",
       "    <tr style=\"text-align: right;\">\n",
       "      <th></th>\n",
       "      <th>gamma</th>\n",
       "      <th>kappa</th>\n",
       "      <th>log_likelihood</th>\n",
       "      <th>log_prior</th>\n",
       "      <th>z_peak</th>\n",
       "      <th>z_peak_new</th>\n",
       "    </tr>\n",
       "  </thead>\n",
       "  <tbody>\n",
       "    <tr>\n",
       "      <th>325</th>\n",
       "      <td>0.032124</td>\n",
       "      <td>3.166125</td>\n",
       "      <td>347.768010</td>\n",
       "      <td>-5.857933</td>\n",
       "      <td>3.477664</td>\n",
       "      <td>0.053790</td>\n",
       "    </tr>\n",
       "    <tr>\n",
       "      <th>924</th>\n",
       "      <td>0.021812</td>\n",
       "      <td>4.147276</td>\n",
       "      <td>348.789539</td>\n",
       "      <td>-5.857933</td>\n",
       "      <td>2.769021</td>\n",
       "      <td>0.064753</td>\n",
       "    </tr>\n",
       "    <tr>\n",
       "      <th>108</th>\n",
       "      <td>0.345900</td>\n",
       "      <td>2.126269</td>\n",
       "      <td>346.908391</td>\n",
       "      <td>-5.857933</td>\n",
       "      <td>1.314030</td>\n",
       "      <td>0.070822</td>\n",
       "    </tr>\n",
       "    <tr>\n",
       "      <th>1215</th>\n",
       "      <td>0.014327</td>\n",
       "      <td>4.419923</td>\n",
       "      <td>349.027382</td>\n",
       "      <td>-5.857933</td>\n",
       "      <td>3.131998</td>\n",
       "      <td>0.130553</td>\n",
       "    </tr>\n",
       "    <tr>\n",
       "      <th>429</th>\n",
       "      <td>0.120672</td>\n",
       "      <td>2.848198</td>\n",
       "      <td>348.063445</td>\n",
       "      <td>-5.857933</td>\n",
       "      <td>2.395053</td>\n",
       "      <td>0.136060</td>\n",
       "    </tr>\n",
       "    <tr>\n",
       "      <th>...</th>\n",
       "      <td>...</td>\n",
       "      <td>...</td>\n",
       "      <td>...</td>\n",
       "      <td>...</td>\n",
       "      <td>...</td>\n",
       "      <td>...</td>\n",
       "    </tr>\n",
       "    <tr>\n",
       "      <th>79</th>\n",
       "      <td>0.310895</td>\n",
       "      <td>17.243456</td>\n",
       "      <td>346.559013</td>\n",
       "      <td>-5.857933</td>\n",
       "      <td>3.939700</td>\n",
       "      <td>2.917585</td>\n",
       "    </tr>\n",
       "    <tr>\n",
       "      <th>44</th>\n",
       "      <td>0.792745</td>\n",
       "      <td>11.796425</td>\n",
       "      <td>346.164868</td>\n",
       "      <td>-5.857933</td>\n",
       "      <td>3.900866</td>\n",
       "      <td>2.921295</td>\n",
       "    </tr>\n",
       "    <tr>\n",
       "      <th>103</th>\n",
       "      <td>0.515387</td>\n",
       "      <td>13.720777</td>\n",
       "      <td>346.884636</td>\n",
       "      <td>-5.857933</td>\n",
       "      <td>3.979622</td>\n",
       "      <td>2.931274</td>\n",
       "    </tr>\n",
       "    <tr>\n",
       "      <th>14</th>\n",
       "      <td>0.834912</td>\n",
       "      <td>15.941676</td>\n",
       "      <td>344.912980</td>\n",
       "      <td>-5.857933</td>\n",
       "      <td>3.750887</td>\n",
       "      <td>2.961790</td>\n",
       "    </tr>\n",
       "    <tr>\n",
       "      <th>0</th>\n",
       "      <td>1.676095</td>\n",
       "      <td>11.120603</td>\n",
       "      <td>340.495744</td>\n",
       "      <td>-5.857933</td>\n",
       "      <td>3.782727</td>\n",
       "      <td>3.094058</td>\n",
       "    </tr>\n",
       "  </tbody>\n",
       "</table>\n",
       "<p>2705 rows × 6 columns</p>\n",
       "</div>"
      ],
      "text/plain": [
       "         gamma      kappa  log_likelihood  log_prior    z_peak  z_peak_new\n",
       "325   0.032124   3.166125      347.768010  -5.857933  3.477664    0.053790\n",
       "924   0.021812   4.147276      348.789539  -5.857933  2.769021    0.064753\n",
       "108   0.345900   2.126269      346.908391  -5.857933  1.314030    0.070822\n",
       "1215  0.014327   4.419923      349.027382  -5.857933  3.131998    0.130553\n",
       "429   0.120672   2.848198      348.063445  -5.857933  2.395053    0.136060\n",
       "...        ...        ...             ...        ...       ...         ...\n",
       "79    0.310895  17.243456      346.559013  -5.857933  3.939700    2.917585\n",
       "44    0.792745  11.796425      346.164868  -5.857933  3.900866    2.921295\n",
       "103   0.515387  13.720777      346.884636  -5.857933  3.979622    2.931274\n",
       "14    0.834912  15.941676      344.912980  -5.857933  3.750887    2.961790\n",
       "0     1.676095  11.120603      340.495744  -5.857933  3.782727    3.094058\n",
       "\n",
       "[2705 rows x 6 columns]"
      ]
     },
     "execution_count": 16,
     "metadata": {},
     "output_type": "execute_result"
    }
   ],
   "source": [
    "result.posterior = result.posterior.drop(index=drop_index)\n",
    "result.posterior"
   ]
  },
  {
   "cell_type": "markdown",
   "id": "49837979-e169-4041-a329-fe0549c5c93b",
   "metadata": {},
   "source": [
    "### Plot corner"
   ]
  },
  {
   "cell_type": "code",
   "execution_count": 13,
   "id": "9b0ae659-40b5-4702-851f-314be438cbff",
   "metadata": {},
   "outputs": [
    {
     "data": {
      "text/plain": [
       "{'gamma': 1.8032,\n",
       " 'kappa': 5.3023,\n",
       " 'z_peak': 1.8362,\n",
       " 'z_peak_new': 1.5028643466529545}"
      ]
     },
     "execution_count": 13,
     "metadata": {},
     "output_type": "execute_result"
    }
   ],
   "source": [
    "true_params"
   ]
  },
  {
   "cell_type": "code",
   "execution_count": 14,
   "id": "928dc606-b3e7-4434-bd1d-e5179df205e2",
   "metadata": {},
   "outputs": [
    {
     "data": {
      "image/png": "[encoded data removed]",
      "text/plain": [
       "<Figure size 970x970 with 16 Axes>"
      ]
     },
     "execution_count": 14,
     "metadata": {},
     "output_type": "execute_result"
    }
   ],
   "source": [
    "#result.plot_corner(parameters=list(true_params.keys()), outdir=outdir)\n",
    "filename = f'{netw}_corner_with_truths.png'\n",
    "#filename = 'CE4020ET123_corner_with_truths.png'\n",
    "result.plot_corner(parameters=true_params, outdir=outdir, \n",
    "                   quantiles=(0.05, 0.95), \n",
    "                   filename=os.path.join(outdir, filename), labels=['$\\\\gamma$', '$\\\\kappa$', '$z_{peak}$', '$z_{p}^{new}$'])"
   ]
  },
  {
   "cell_type": "markdown",
   "id": "542bfcde-7c48-4bc2-8b1e-6489eee3b3b2",
   "metadata": {},
   "source": [
    "## Check variance"
   ]
  },
  {
   "cell_type": "code",
   "execution_count": 74,
   "id": "330d108b-bf59-46f5-bbb3-0cd13a9d111b",
   "metadata": {},
   "outputs": [],
   "source": [
    "#gwpop.set_backend(\"jax\")\n",
    "\n",
    "#xp = gwpop.utils.xp\n",
    "\n",
    "project_dir = '/home/divyajyoti/ACADEMIC/Projects/Cardiff_University/Next_gen_detectability/A-sharp-study/'\n",
    "#project_dir = '/home/divyajyoti.nln/Cardiff_University/Next_gen_detectability/A-sharp-study/'"
   ]
  },
  {
   "cell_type": "code",
   "execution_count": 75,
   "id": "d4b25df1-5206-4790-95b8-307223f8bc4c",
   "metadata": {},
   "outputs": [],
   "source": [
    "netw = 'Asharp'\n",
    "#netw = 'CE4020ET123'\n",
    "#mass_band = 'below_40'\n",
    "#mass_band = '40-80'\n",
    "#mass_band = 'above_80'\n",
    "#outdir = os.path.join(project_dir, 'gwpopulation', 'BBH', 'gwpop_analysis_results', \n",
    "#                      netw, 'mass_bands', mass_band, 'run03_gwfish_mf_from_opt_SNR_injections_XPHM')\n",
    "rundir = os.path.join(project_dir, 'gwpopulation', 'BBH', 'gwpop_analysis_results', \n",
    "                      netw, 'run05_gwfish_mf_from_opt_SNR_injections_XPHM')"
   ]
  },
  {
   "cell_type": "code",
   "execution_count": 76,
   "id": "5273d8fe-ff1e-4626-980c-15a751eb37fc",
   "metadata": {},
   "outputs": [],
   "source": [
    "var_data = pd.read_csv(os.path.join(rundir, 'full_posterior_low_var_events.csv'))"
   ]
  },
  {
   "cell_type": "code",
   "execution_count": 77,
   "id": "bddda9c1-280f-4ac8-8735-481cf80b495e",
   "metadata": {},
   "outputs": [
    {
     "data": {
      "text/html": [
       "<div>\n",
       "<style scoped>\n",
       "    .dataframe tbody tr th:only-of-type {\n",
       "        vertical-align: middle;\n",
       "    }\n",
       "\n",
       "    .dataframe tbody tr th {\n",
       "        vertical-align: top;\n",
       "    }\n",
       "\n",
       "    .dataframe thead th {\n",
       "        text-align: right;\n",
       "    }\n",
       "</style>\n",
       "<table border=\"1\" class=\"dataframe\">\n",
       "  <thead>\n",
       "    <tr style=\"text-align: right;\">\n",
       "      <th></th>\n",
       "      <th>Unnamed: 0</th>\n",
       "      <th>key</th>\n",
       "      <th>sample_0</th>\n",
       "    </tr>\n",
       "  </thead>\n",
       "  <tbody>\n",
       "    <tr>\n",
       "      <th>0</th>\n",
       "      <td>0</td>\n",
       "      <td>var_0</td>\n",
       "      <td>1.369832e-05</td>\n",
       "    </tr>\n",
       "    <tr>\n",
       "      <th>1</th>\n",
       "      <td>1</td>\n",
       "      <td>var_1</td>\n",
       "      <td>6.418322e-06</td>\n",
       "    </tr>\n",
       "    <tr>\n",
       "      <th>2</th>\n",
       "      <td>2</td>\n",
       "      <td>var_10</td>\n",
       "      <td>9.650263e-06</td>\n",
       "    </tr>\n",
       "    <tr>\n",
       "      <th>3</th>\n",
       "      <td>3</td>\n",
       "      <td>var_100</td>\n",
       "      <td>3.412744e-06</td>\n",
       "    </tr>\n",
       "    <tr>\n",
       "      <th>4</th>\n",
       "      <td>4</td>\n",
       "      <td>var_1000</td>\n",
       "      <td>3.183374e-06</td>\n",
       "    </tr>\n",
       "    <tr>\n",
       "      <th>...</th>\n",
       "      <td>...</td>\n",
       "      <td>...</td>\n",
       "      <td>...</td>\n",
       "    </tr>\n",
       "    <tr>\n",
       "      <th>4052</th>\n",
       "      <td>4052</td>\n",
       "      <td>var_995</td>\n",
       "      <td>1.788858e-06</td>\n",
       "    </tr>\n",
       "    <tr>\n",
       "      <th>4053</th>\n",
       "      <td>4053</td>\n",
       "      <td>var_996</td>\n",
       "      <td>7.791295e-06</td>\n",
       "    </tr>\n",
       "    <tr>\n",
       "      <th>4054</th>\n",
       "      <td>4054</td>\n",
       "      <td>var_997</td>\n",
       "      <td>4.116156e-06</td>\n",
       "    </tr>\n",
       "    <tr>\n",
       "      <th>4055</th>\n",
       "      <td>4055</td>\n",
       "      <td>var_998</td>\n",
       "      <td>2.848729e-07</td>\n",
       "    </tr>\n",
       "    <tr>\n",
       "      <th>4056</th>\n",
       "      <td>4056</td>\n",
       "      <td>var_999</td>\n",
       "      <td>8.440821e-06</td>\n",
       "    </tr>\n",
       "  </tbody>\n",
       "</table>\n",
       "<p>4057 rows × 3 columns</p>\n",
       "</div>"
      ],
      "text/plain": [
       "      Unnamed: 0       key      sample_0\n",
       "0              0     var_0  1.369832e-05\n",
       "1              1     var_1  6.418322e-06\n",
       "2              2    var_10  9.650263e-06\n",
       "3              3   var_100  3.412744e-06\n",
       "4              4  var_1000  3.183374e-06\n",
       "...          ...       ...           ...\n",
       "4052        4052   var_995  1.788858e-06\n",
       "4053        4053   var_996  7.791295e-06\n",
       "4054        4054   var_997  4.116156e-06\n",
       "4055        4055   var_998  2.848729e-07\n",
       "4056        4056   var_999  8.440821e-06\n",
       "\n",
       "[4057 rows x 3 columns]"
      ]
     },
     "execution_count": 77,
     "metadata": {},
     "output_type": "execute_result"
    }
   ],
   "source": [
    "var_data"
   ]
  },
  {
   "cell_type": "code",
   "execution_count": 86,
   "id": "c99dc5ec-b9dc-44b8-9c5c-767b97b8610c",
   "metadata": {},
   "outputs": [
    {
     "data": {
      "image/png": "[encoded data removed]",
      "text/plain": [
       "<Figure size 640x480 with 1 Axes>"
      ]
     },
     "metadata": {},
     "output_type": "display_data"
    }
   ],
   "source": [
    "plt.plot(var_data['sample_0']);"
   ]
  },
  {
   "cell_type": "code",
   "execution_count": 82,
   "id": "eb87b343-8df7-42fd-938d-05412736cc65",
   "metadata": {},
   "outputs": [
    {
     "data": {
      "text/plain": [
       "0.02927127576058349"
      ]
     },
     "execution_count": 82,
     "metadata": {},
     "output_type": "execute_result"
    }
   ],
   "source": [
    "np.sum(var_data['sample_0'])"
   ]
  },
  {
   "cell_type": "markdown",
   "id": "a0791ee0-60c2-4db5-bf97-82ba446131b5",
   "metadata": {
    "jp-MarkdownHeadingCollapsed": true
   },
   "source": [
    "## Calculate variance"
   ]
  },
  {
   "cell_type": "code",
   "execution_count": 19,
   "id": "c75d9c53-fdef-418e-89ba-afabd37809b0",
   "metadata": {},
   "outputs": [
    {
     "name": "stderr",
     "output_type": "stream",
     "text": [
      "/home/divyajyoti/miniconda3/envs/gwpopulation/lib/python3.11/site-packages/tqdm/auto.py:21: TqdmWarning: IProgress not found. Please update jupyter and ipywidgets. See https://ipywidgets.readthedocs.io/en/stable/user_install.html\n",
      "  from .autonotebook import tqdm as notebook_tqdm\n",
      "/home/divyajyoti/miniconda3/envs/gwpopulation/lib/python3.11/site-packages/htcondor/__init__.py:49: UserWarning: Neither the environment variable CONDOR_CONFIG, /etc/condor/, /usr/local/etc/, nor ~condor/ contain a condor_config source. Therefore, we are using a null condor_config.\n",
      "  _warnings.warn(message)\n"
     ]
    }
   ],
   "source": [
    "gwpop.set_backend(\"jax\")\n",
    "from gwpopulation.experimental.jax import JittedLikelihood, NonCachingModel\n",
    "import jax\n",
    "\n",
    "xp = gwpop.utils.xp\n",
    "\n",
    "project_dir = '/home/divyajyoti/ACADEMIC/Projects/Cardiff_University/Next_gen_detectability/A-sharp-study/'\n",
    "#project_dir = '/home/divyajyoti.nln/Cardiff_University/Next_gen_detectability/A-sharp-study/'"
   ]
  },
  {
   "cell_type": "code",
   "execution_count": 22,
   "id": "eb6ec9ff-a077-490e-b2d6-9b8202e0c4b5",
   "metadata": {},
   "outputs": [],
   "source": [
    "#netw = 'Asharp'\n",
    "netw = 'CE4020ET123'\n",
    "#mass_band = 'below_40'\n",
    "#mass_band = '40-80'\n",
    "mass_band = 'above_80'\n",
    "outdir = os.path.join(project_dir, 'gwpopulation', 'BBH', 'gwpop_analysis_results', \n",
    "                      netw, 'mass_bands', mass_band, 'run01_original_cov_mf_from_opt_SNR_injections_XPHM')\n",
    "#outdir = os.path.join(project_dir, 'gwpopulation', 'BBH', 'gwpop_analysis_results', \n",
    "#                      netw, 'run09_original_cov_mf_from_opt_SNR_injections_XPHM')"
   ]
  },
  {
   "cell_type": "code",
   "execution_count": 23,
   "id": "ad487100-8c93-4ccc-a25d-58d641f8d027",
   "metadata": {},
   "outputs": [],
   "source": [
    "result = bilby.result.read_in_result(filename=os.path.join(outdir, f'{netw}_result.hdf5'))\n",
    "#result = bilby.result.read_in_result(filename=os.path.join(outdir, 'CE4020ET123_result.hdf5'))"
   ]
  },
  {
   "cell_type": "code",
   "execution_count": 24,
   "id": "e588419f-5e26-4fb9-a13f-75e113e14d28",
   "metadata": {},
   "outputs": [],
   "source": [
    "with open(os.path.join(outdir, 'README.txt'), 'r') as f:\n",
    "    lines = [line.rstrip('\\n').strip('\\t') for line in f]\n",
    "readme_dict = {}\n",
    "for line in lines:\n",
    "    words = line.split()\n",
    "    if 'Posterior' in words:\n",
    "        readme_dict['posterior_file'] = words[-1].replace('divyajyoti.nln/', 'divyajyoti/ACADEMIC/Projects/')\n",
    "    elif 'Injections' in words:\n",
    "        readme_dict['injections_file'] = words[-1].replace('divyajyoti.nln/', 'divyajyoti/ACADEMIC/Projects/')"
   ]
  },
  {
   "cell_type": "code",
   "execution_count": 25,
   "id": "effb635d-ab00-464d-b26a-129741c92520",
   "metadata": {},
   "outputs": [
    {
     "data": {
      "text/plain": [
       "{'posterior_file': '/home/divyajyoti/ACADEMIC/Projects/Cardiff_University/Next_gen_detectability/A-sharp-study/gwpopulation/BBH/mass_bands/CE4020ET123_CoBA10_2_PLP_z_MD_zmax_10_lmrd_22_no_spins_set3_z_posteriors_original_cov_49_events_pop_from_XPHM_above_80.pkl',\n",
       " 'injections_file': '/home/divyajyoti/ACADEMIC/Projects/Cardiff_University/Next_gen_detectability/A-sharp-study/gwpopulation/BBH/injections/mass_bands/XPHM/CE4020ET123_CoBA10_SNR_2_pop_PLP_spin_prec_z_MD_zmax_10_lmrd_22_corrected_td_detected_injs_mf_from_opt_SNR_19852_points_above_80.pkl'}"
      ]
     },
     "execution_count": 25,
     "metadata": {},
     "output_type": "execute_result"
    }
   ],
   "source": [
    "readme_dict"
   ]
  },
  {
   "cell_type": "code",
   "execution_count": 26,
   "id": "1a17efeb-8920-4fc1-ba11-6596b69f686f",
   "metadata": {},
   "outputs": [],
   "source": [
    "# ## Load posteriors\n",
    "posteriors = pd.read_pickle(readme_dict['posterior_file'])"
   ]
  },
  {
   "cell_type": "code",
   "execution_count": 127,
   "id": "6ede5df6-38ef-4bdb-904d-a9ea803a5617",
   "metadata": {},
   "outputs": [],
   "source": [
    "# ## Load injections\n",
    "\n",
    "import dill\n",
    "from tqdm import tqdm\n",
    "\n",
    "with open(readme_dict['injections_file'], \"rb\") as ff:\n",
    "    injections = dill.load(ff)"
   ]
  },
  {
   "cell_type": "code",
   "execution_count": 128,
   "id": "831d2961-3917-4cd2-b77f-6a228095619c",
   "metadata": {},
   "outputs": [],
   "source": [
    "z_max = 10\n",
    "model = NonCachingModel(\n",
    "    model_functions=[gwpop.models.redshift.MadauDickinsonRedshift(cosmo_model=\"Planck18\", z_max=z_max)],\n",
    "    #model_functions=[gwpop.models.redshift.PowerLawRedshift(z_max=8)],\n",
    ")\n",
    "\n",
    "vt = gwpop.vt.ResamplingVT(model=model, data=injections, n_events=len(posteriors))\n",
    "\n",
    "likelihood = gwpop.hyperpe.HyperparameterLikelihood(\n",
    "    posteriors=posteriors,\n",
    "    hyper_prior=model,\n",
    "    selection_function=vt,\n",
    ")\n",
    "\n",
    "priors = PriorDict()\n",
    "priors['gamma'] = Uniform(minimum=0, maximum=5, latex_label=\"$\\\\gamma$\")\n",
    "priors['kappa'] = Uniform(minimum=0, maximum=20, latex_label=\"$\\\\kappa$\")\n",
    "priors['z_peak'] = Uniform(minimum=0.5, maximum=4, latex_label=\"$z_{peak}$\")\n",
    "\n",
    "parameters = priors.sample()\n",
    "likelihood.parameters.update(parameters)"
   ]
  },
  {
   "cell_type": "code",
   "execution_count": 131,
   "id": "7b84282d-63a2-4fcf-8d9a-e72ba22df96e",
   "metadata": {},
   "outputs": [
    {
     "data": {
      "text/plain": [
       "\u001b[31mSignature:\u001b[39m likelihood.ln_likelihood_and_variance()\n",
       "\u001b[31mDocstring:\u001b[39m Compute the ln likelihood estimator and its variance.\n",
       "\u001b[31mFile:\u001b[39m      ~/miniconda3/envs/gwpopulation/lib/python3.11/site-packages/gwpopulation/hyperpe.py\n",
       "\u001b[31mType:\u001b[39m      method"
      ]
     },
     "metadata": {},
     "output_type": "display_data"
    }
   ],
   "source": [
    "likelihood.ln_likelihood_and_variance?"
   ]
  },
  {
   "cell_type": "code",
   "execution_count": 30,
   "id": "4b65d76f-d5d4-40da-ae89-c454bb7799a4",
   "metadata": {},
   "outputs": [],
   "source": [
    "func = jax.jit(likelihood.generate_extra_statistics)\n",
    "#func = jax.jit(likelihood.ln_likelihood_and_variance)"
   ]
  },
  {
   "cell_type": "code",
   "execution_count": 43,
   "id": "b36eb9bd-786b-4b31-a0da-31baab380118",
   "metadata": {
    "scrolled": true
   },
   "outputs": [
    {
     "name": "stderr",
     "output_type": "stream",
     "text": [
      "100%|██████████████████████████████████████████████████████████████████████████████████████████████████████████████████████████████████████████████| 2726/2726 [00:15<00:00, 171.65it/s]\n"
     ]
    }
   ],
   "source": [
    "test_full_posterior_list = [func(parameters) for parameters in tqdm(result.posterior.to_dict(orient=\"records\"), desc='constructing full posterior')]\n",
    "test_full_posterior = pd.DataFrame(test_full_posterior_list).astype(float)"
   ]
  },
  {
   "cell_type": "code",
   "execution_count": 58,
   "id": "f21078f5-3760-4611-bc91-7beab9aa742e",
   "metadata": {},
   "outputs": [
    {
     "data": {
      "text/plain": [
       "2726"
      ]
     },
     "execution_count": 58,
     "metadata": {},
     "output_type": "execute_result"
    }
   ],
   "source": [
    "len(test_full_posterior_list)"
   ]
  },
  {
   "cell_type": "code",
   "execution_count": 118,
   "id": "97b63d06-f55d-4408-9a88-7f17a7c65eee",
   "metadata": {
    "scrolled": true
   },
   "outputs": [
    {
     "name": "stderr",
     "output_type": "stream",
     "text": [
      "Converting to dictionaries: 100%|█████████████████████████████████████████████████████████████████████████████████████████████████████████████████| 2726/2726 [00:01<00:00, 1526.93it/s]\n"
     ]
    }
   ],
   "source": [
    "import numpy as np\n",
    "\n",
    "keys_ln_bf = []\n",
    "keys_var_event = []\n",
    "keys_main = []\n",
    "for key in test_full_posterior_list[0].keys():\n",
    "    if 'ln_bf' in key:\n",
    "        keys_ln_bf.append(key)\n",
    "    elif 'var_' in key:\n",
    "        keys_var_event.append(key)\n",
    "    else:\n",
    "        keys_main.append(key)\n",
    "keys_ln_bf.extend(keys_main)\n",
    "keys_var_event.extend(keys_main)\n",
    "\"\"\"\n",
    "# Convert keys to list of indices (functions) to avoid repeated lookups\n",
    "extractors_ln_bf     = [lambda d, k=k: d[k] for k in keys_ln_bf]\n",
    "extractors_var_event = [lambda d, k=k: d[k] for k in keys_var_event]\n",
    "extractors_main      = [lambda d, k=k: d[k] for k in keys_main]\n",
    "\n",
    "# Preallocate arrays\n",
    "N = len(test_full_posterior_list)\n",
    "data_ln_bf     = np.empty((N, len(keys_ln_bf)), dtype=np.float32)\n",
    "data_var_event = np.empty((N, len(keys_var_event)), dtype=np.float32)\n",
    "data_main      = np.empty((N, len(keys_main)), dtype=np.float32)\n",
    "\n",
    "# Fill arrays using extractors\n",
    "for i, d in tqdm(enumerate(test_full_posterior_list), total=N, desc='Converting to arrays'):\n",
    "    data_ln_bf[i]     = [f(d) for f in extractors_ln_bf]\n",
    "    data_var_event[i] = [f(d) for f in extractors_var_event]\n",
    "    data_main[i]      = [f(d) for f in extractors_main]\n",
    "\n",
    "# Vectorized conversion to dict of arrays\n",
    "dict_ln_bf     = dict(zip(keys_ln_bf,     data_ln_bf.T))\n",
    "dict_var_event = dict(zip(keys_var_event, data_var_event.T))\n",
    "dict_main      = dict(zip(keys_main,      data_main.T))\n",
    "\n",
    "\"\"\"\n",
    "data_ln_bf = np.empty((len(test_full_posterior_list), len(keys_ln_bf)), dtype=np.float32)\n",
    "data_var_event = np.empty((len(test_full_posterior_list), len(keys_var_event)), dtype=np.float32)\n",
    "data_main = np.empty((len(test_full_posterior_list), len(keys_main)), dtype=np.float32)\n",
    "\n",
    "for i, d in tqdm(enumerate(test_full_posterior_list), total=len(test_full_posterior_list), desc='Converting to dictionaries'):\n",
    "    data_ln_bf[i] = [d[k] for k in keys_ln_bf]\n",
    "    data_var_event[i] = [d[k] for k in keys_var_event]\n",
    "    data_main[i] = [d[k] for k in keys_main]\n",
    "\n",
    "# Convert to dict of arrays\n",
    "dict_ln_bf = {k: data_ln_bf[:, i] for i, k in enumerate(keys_ln_bf)}\n",
    "dict_var_event = {k: data_var_event[:, i] for i, k in enumerate(keys_var_event)}\n",
    "dict_main = {k: data_main[:, i] for i, k in enumerate(keys_main)}"
   ]
  },
  {
   "cell_type": "code",
   "execution_count": 108,
   "id": "805c808e-8108-4c3b-9dbf-b51317a1a5b5",
   "metadata": {},
   "outputs": [],
   "source": [
    "df_main = pd.DataFrame(dict_main)"
   ]
  },
  {
   "cell_type": "code",
   "execution_count": 109,
   "id": "2e04497b-b429-4305-9a92-4986f5b1609c",
   "metadata": {},
   "outputs": [
    {
     "data": {
      "text/html": [
       "<div>\n",
       "<style scoped>\n",
       "    .dataframe tbody tr th:only-of-type {\n",
       "        vertical-align: middle;\n",
       "    }\n",
       "\n",
       "    .dataframe tbody tr th {\n",
       "        vertical-align: top;\n",
       "    }\n",
       "\n",
       "    .dataframe thead th {\n",
       "        text-align: right;\n",
       "    }\n",
       "</style>\n",
       "<table border=\"1\" class=\"dataframe\">\n",
       "  <thead>\n",
       "    <tr style=\"text-align: right;\">\n",
       "      <th></th>\n",
       "      <th>gamma</th>\n",
       "      <th>kappa</th>\n",
       "      <th>log_likelihood</th>\n",
       "      <th>log_prior</th>\n",
       "      <th>selection</th>\n",
       "      <th>selection_variance</th>\n",
       "      <th>variance</th>\n",
       "      <th>z_peak</th>\n",
       "    </tr>\n",
       "  </thead>\n",
       "  <tbody>\n",
       "    <tr>\n",
       "      <th>count</th>\n",
       "      <td>2726.000000</td>\n",
       "      <td>2726.000000</td>\n",
       "      <td>2726.000000</td>\n",
       "      <td>2726.000000</td>\n",
       "      <td>2726.000000</td>\n",
       "      <td>2.726000e+03</td>\n",
       "      <td>2726.000000</td>\n",
       "      <td>2726.000000</td>\n",
       "    </tr>\n",
       "    <tr>\n",
       "      <th>mean</th>\n",
       "      <td>1.907401</td>\n",
       "      <td>5.996839</td>\n",
       "      <td>348.920807</td>\n",
       "      <td>-5.857933</td>\n",
       "      <td>0.999426</td>\n",
       "      <td>2.852150e-06</td>\n",
       "      <td>0.006922</td>\n",
       "      <td>2.068088</td>\n",
       "    </tr>\n",
       "    <tr>\n",
       "      <th>std</th>\n",
       "      <td>1.418292</td>\n",
       "      <td>1.680055</td>\n",
       "      <td>0.973480</td>\n",
       "      <td>0.000000</td>\n",
       "      <td>0.001255</td>\n",
       "      <td>2.823121e-06</td>\n",
       "      <td>0.006776</td>\n",
       "      <td>0.851838</td>\n",
       "    </tr>\n",
       "    <tr>\n",
       "      <th>min</th>\n",
       "      <td>0.000085</td>\n",
       "      <td>2.126269</td>\n",
       "      <td>340.495758</td>\n",
       "      <td>-5.857933</td>\n",
       "      <td>0.995153</td>\n",
       "      <td>3.261948e-08</td>\n",
       "      <td>0.000150</td>\n",
       "      <td>0.505977</td>\n",
       "    </tr>\n",
       "    <tr>\n",
       "      <th>25%</th>\n",
       "      <td>0.687937</td>\n",
       "      <td>4.923723</td>\n",
       "      <td>348.497223</td>\n",
       "      <td>-5.857933</td>\n",
       "      <td>0.998645</td>\n",
       "      <td>1.178110e-06</td>\n",
       "      <td>0.002897</td>\n",
       "      <td>1.354990</td>\n",
       "    </tr>\n",
       "    <tr>\n",
       "      <th>50%</th>\n",
       "      <td>1.576846</td>\n",
       "      <td>5.878192</td>\n",
       "      <td>349.140945</td>\n",
       "      <td>-5.857933</td>\n",
       "      <td>0.999521</td>\n",
       "      <td>2.046581e-06</td>\n",
       "      <td>0.004986</td>\n",
       "      <td>1.916559</td>\n",
       "    </tr>\n",
       "    <tr>\n",
       "      <th>75%</th>\n",
       "      <td>2.985056</td>\n",
       "      <td>6.878242</td>\n",
       "      <td>349.599495</td>\n",
       "      <td>-5.857933</td>\n",
       "      <td>1.000288</td>\n",
       "      <td>3.619512e-06</td>\n",
       "      <td>0.008758</td>\n",
       "      <td>2.738614</td>\n",
       "    </tr>\n",
       "    <tr>\n",
       "      <th>max</th>\n",
       "      <td>4.998580</td>\n",
       "      <td>17.243456</td>\n",
       "      <td>350.289764</td>\n",
       "      <td>-5.857933</td>\n",
       "      <td>1.003706</td>\n",
       "      <td>3.582271e-05</td>\n",
       "      <td>0.086029</td>\n",
       "      <td>3.999785</td>\n",
       "    </tr>\n",
       "  </tbody>\n",
       "</table>\n",
       "</div>"
      ],
      "text/plain": [
       "             gamma        kappa  log_likelihood    log_prior    selection  \\\n",
       "count  2726.000000  2726.000000     2726.000000  2726.000000  2726.000000   \n",
       "mean      1.907401     5.996839      348.920807    -5.857933     0.999426   \n",
       "std       1.418292     1.680055        0.973480     0.000000     0.001255   \n",
       "min       0.000085     2.126269      340.495758    -5.857933     0.995153   \n",
       "25%       0.687937     4.923723      348.497223    -5.857933     0.998645   \n",
       "50%       1.576846     5.878192      349.140945    -5.857933     0.999521   \n",
       "75%       2.985056     6.878242      349.599495    -5.857933     1.000288   \n",
       "max       4.998580    17.243456      350.289764    -5.857933     1.003706   \n",
       "\n",
       "       selection_variance     variance       z_peak  \n",
       "count        2.726000e+03  2726.000000  2726.000000  \n",
       "mean         2.852150e-06     0.006922     2.068088  \n",
       "std          2.823121e-06     0.006776     0.851838  \n",
       "min          3.261948e-08     0.000150     0.505977  \n",
       "25%          1.178110e-06     0.002897     1.354990  \n",
       "50%          2.046581e-06     0.004986     1.916559  \n",
       "75%          3.619512e-06     0.008758     2.738614  \n",
       "max          3.582271e-05     0.086029     3.999785  "
      ]
     },
     "execution_count": 109,
     "metadata": {},
     "output_type": "execute_result"
    }
   ],
   "source": [
    "df_main.describe()"
   ]
  },
  {
   "cell_type": "code",
   "execution_count": 113,
   "id": "71146459-ddbd-48a6-8e16-ec01211efc33",
   "metadata": {},
   "outputs": [
    {
     "data": {
      "text/html": [
       "<div>\n",
       "<style scoped>\n",
       "    .dataframe tbody tr th:only-of-type {\n",
       "        vertical-align: middle;\n",
       "    }\n",
       "\n",
       "    .dataframe tbody tr th {\n",
       "        vertical-align: top;\n",
       "    }\n",
       "\n",
       "    .dataframe thead th {\n",
       "        text-align: right;\n",
       "    }\n",
       "</style>\n",
       "<table border=\"1\" class=\"dataframe\">\n",
       "  <thead>\n",
       "    <tr style=\"text-align: right;\">\n",
       "      <th></th>\n",
       "      <th>gamma</th>\n",
       "      <th>kappa</th>\n",
       "      <th>z_peak</th>\n",
       "      <th>log_likelihood</th>\n",
       "      <th>variance</th>\n",
       "    </tr>\n",
       "  </thead>\n",
       "  <tbody>\n",
       "    <tr>\n",
       "      <th>gamma</th>\n",
       "      <td>1.000000</td>\n",
       "      <td>0.198562</td>\n",
       "      <td>-0.804147</td>\n",
       "      <td>0.311881</td>\n",
       "      <td>-0.050510</td>\n",
       "    </tr>\n",
       "    <tr>\n",
       "      <th>kappa</th>\n",
       "      <td>0.198562</td>\n",
       "      <td>1.000000</td>\n",
       "      <td>0.250383</td>\n",
       "      <td>-0.164009</td>\n",
       "      <td>-0.004891</td>\n",
       "    </tr>\n",
       "    <tr>\n",
       "      <th>z_peak</th>\n",
       "      <td>-0.804147</td>\n",
       "      <td>0.250383</td>\n",
       "      <td>1.000000</td>\n",
       "      <td>-0.320078</td>\n",
       "      <td>0.032138</td>\n",
       "    </tr>\n",
       "    <tr>\n",
       "      <th>log_likelihood</th>\n",
       "      <td>0.311881</td>\n",
       "      <td>-0.164009</td>\n",
       "      <td>-0.320078</td>\n",
       "      <td>1.000000</td>\n",
       "      <td>-0.807387</td>\n",
       "    </tr>\n",
       "    <tr>\n",
       "      <th>variance</th>\n",
       "      <td>-0.050510</td>\n",
       "      <td>-0.004891</td>\n",
       "      <td>0.032138</td>\n",
       "      <td>-0.807387</td>\n",
       "      <td>1.000000</td>\n",
       "    </tr>\n",
       "  </tbody>\n",
       "</table>\n",
       "</div>"
      ],
      "text/plain": [
       "                   gamma     kappa    z_peak  log_likelihood  variance\n",
       "gamma           1.000000  0.198562 -0.804147        0.311881 -0.050510\n",
       "kappa           0.198562  1.000000  0.250383       -0.164009 -0.004891\n",
       "z_peak         -0.804147  0.250383  1.000000       -0.320078  0.032138\n",
       "log_likelihood  0.311881 -0.164009 -0.320078        1.000000 -0.807387\n",
       "variance       -0.050510 -0.004891  0.032138       -0.807387  1.000000"
      ]
     },
     "execution_count": 113,
     "metadata": {},
     "output_type": "execute_result"
    }
   ],
   "source": [
    "df_main[result.search_parameter_keys + [\"log_likelihood\", \"variance\"]].corr()"
   ]
  },
  {
   "cell_type": "markdown",
   "id": "c5595ad9-1d16-46ce-9c7c-cd8ee6bca3be",
   "metadata": {},
   "source": [
    "### Save to files"
   ]
  },
  {
   "cell_type": "code",
   "execution_count": 112,
   "id": "47f9b216-8c51-44ff-956a-e542c521a70a",
   "metadata": {},
   "outputs": [],
   "source": [
    "import h5py\n",
    "with h5py.File(os.path.join(outdir, 'ln_bf_vals_events.h5'), 'w') as f:\n",
    "    for key, array in dict_ln_bf.items():\n",
    "        f.create_dataset(key, data=array)\n",
    "\n",
    "with h5py.File(os.path.join(outdir, 'var_vals_events.h5'), 'w') as f:\n",
    "    for key, array in dict_var_event.items():\n",
    "        f.create_dataset(key, data=array)"
   ]
  },
  {
   "cell_type": "code",
   "execution_count": 114,
   "id": "946163aa-7b93-4888-8c18-bc128683d2aa",
   "metadata": {},
   "outputs": [],
   "source": [
    "df_main.to_csv(os.path.join(outdir, 'full_posterior_main.csv'))"
   ]
  },
  {
   "cell_type": "markdown",
   "id": "ee5cd9ac-0bed-4bc1-8104-4d1890f3fe48",
   "metadata": {},
   "source": [
    "### Plot the scatter matrix"
   ]
  },
  {
   "cell_type": "code",
   "execution_count": 115,
   "id": "c7f72714-1ce3-4b53-936f-1f8877430440",
   "metadata": {},
   "outputs": [],
   "source": [
    "pd.plotting.scatter_matrix(\n",
    "    df_main[[\"gamma\", \"kappa\", \"z_peak\", \"log_likelihood\", \"variance\"]],\n",
    "    alpha=0.5,\n",
    ")\n",
    "plt.tight_layout()\n",
    "plt.savefig(os.path.join(outdir, 'param_variance_matrix.png'), dpi=300)"
   ]
  },
  {
   "cell_type": "code",
   "execution_count": null,
   "id": "c87dcde8-e22e-4869-a3ff-1f974fea27ed",
   "metadata": {},
   "outputs": [],
   "source": []
  },
  {
   "cell_type": "code",
   "execution_count": null,
   "id": "3675152e-6a3e-42fa-86dd-d0a2eb6b1d8a",
   "metadata": {},
   "outputs": [],
   "source": []
  }
 ],
 "metadata": {
  "kernelspec": {
   "display_name": "gwpopulation",
   "language": "python",
   "name": "gwpopulation"
  },
  "language_info": {
   "codemirror_mode": {
    "name": "ipython",
    "version": 3
   },
   "file_extension": ".py",
   "mimetype": "text/x-python",
   "name": "python",
   "nbconvert_exporter": "python",
   "pygments_lexer": "ipython3",
   "version": "3.11.11"
  }
 },
 "nbformat": 4,
 "nbformat_minor": 5
}
