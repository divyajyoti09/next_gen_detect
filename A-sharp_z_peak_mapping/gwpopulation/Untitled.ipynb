{
 "cells": [
  {
   "cell_type": "code",
   "execution_count": 3,
   "id": "0c28d818-505c-4f7e-b29d-382ab17bcf36",
   "metadata": {},
   "outputs": [],
   "source": [
    "import dill\n",
    "import numpy as np\n",
    "import os"
   ]
  },
  {
   "cell_type": "code",
   "execution_count": 4,
   "id": "63d4c69f-3ef0-4e81-b615-a8dc127f9023",
   "metadata": {},
   "outputs": [],
   "source": [
    "project_dir = '/home/divyajyoti/ACADEMIC/Projects/Cardiff_University/Next_gen_detectability/A-sharp-study/gwpopulation/BBH/injections/'\n",
    "source_file = 'LHI_Asharp_SNR_2_pop_PLP_spin_prec_fref_10_z_MD_zmax_10_lmrd_22_corrected_td_detected_injs_mf_from_opt_SNR_4M_points_XPHM.pkl'\n",
    "source_file_path = os.path.join(project_dir, source_file)"
   ]
  },
  {
   "cell_type": "code",
   "execution_count": 6,
   "id": "14c443ab-1fb7-4e63-a001-48c3976e2fe7",
   "metadata": {},
   "outputs": [],
   "source": [
    "with open(source_file_path, 'rb') as f:\n",
    "    source_data = dill.load(f)"
   ]
  },
  {
   "cell_type": "code",
   "execution_count": null,
   "id": "31323faf-4e21-4b8f-ac18-57fe3330b639",
   "metadata": {},
   "outputs": [],
   "source": []
  }
 ],
 "metadata": {
  "kernelspec": {
   "display_name": "igwn-py311",
   "language": "python",
   "name": "igwn-py311"
  },
  "language_info": {
   "codemirror_mode": {
    "name": "ipython",
    "version": 3
   },
   "file_extension": ".py",
   "mimetype": "text/x-python",
   "name": "python",
   "nbconvert_exporter": "python",
   "pygments_lexer": "ipython3",
   "version": "3.11.10"
  }
 },
 "nbformat": 4,
 "nbformat_minor": 5
}
