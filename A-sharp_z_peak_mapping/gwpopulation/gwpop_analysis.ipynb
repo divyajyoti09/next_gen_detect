{
 "cells": [
  {
   "cell_type": "code",
   "execution_count": 1,
   "id": "00686084-4dbd-4a0e-a225-2e39e0da4a4b",
   "metadata": {},
   "outputs": [],
   "source": [
    "import bilby as bb\n",
    "import gwpopulation as gwpop\n",
    "import jax\n",
    "import matplotlib.pyplot as plt\n",
    "import pandas as pd\n",
    "from bilby.core.prior import PriorDict, Uniform\n",
    "from gwpopulation.experimental.jax import JittedLikelihood, NonCachingModel\n",
    "import os\n",
    "\n",
    "gwpop.set_backend(\"jax\")\n",
    "\n",
    "xp = gwpop.utils.xp"
   ]
  },
  {
   "cell_type": "code",
   "execution_count": 2,
   "id": "4e7b00c5-d210-4cf2-8ebe-13dfdc0eb774",
   "metadata": {},
   "outputs": [],
   "source": [
    "project_dir = '/home/divyajyoti/ACADEMIC/Projects/Cardiff_University/Next_gen_detectability/A-sharp-study/'"
   ]
  },
  {
   "cell_type": "markdown",
   "id": "2471aed0-3ed6-4cab-b815-b676981768d3",
   "metadata": {},
   "source": [
    "## Load posteriors"
   ]
  },
  {
   "cell_type": "code",
   "execution_count": 3,
   "id": "7435f09c-dad0-4c6c-9e91-fc2a6aa030d4",
   "metadata": {},
   "outputs": [],
   "source": [
    "posteriors = pd.read_pickle(os.path.join(project_dir, 'gwpopulation', 'BBH', 'redshift_posteriors_499_events.pkl'))"
   ]
  },
  {
   "cell_type": "markdown",
   "id": "3b232297-4044-414f-8487-2b77d7acfd81",
   "metadata": {},
   "source": [
    "## Load injections"
   ]
  },
  {
   "cell_type": "code",
   "execution_count": 4,
   "id": "90880622-12b4-4218-9daf-5bffb0da05a5",
   "metadata": {},
   "outputs": [],
   "source": [
    "import dill\n",
    "\n",
    "with open(os.path.join(project_dir, 'gwpopulation', 'BBH', 'detected_injections.pkl'), \"rb\") as ff:\n",
    "    injections = dill.load(ff)"
   ]
  },
  {
   "cell_type": "markdown",
   "id": "40f7614e-3307-4d7d-826d-2607d760fae3",
   "metadata": {},
   "source": [
    "## Define models and likelihood"
   ]
  },
  {
   "cell_type": "code",
   "execution_count": 5,
   "id": "100a7b5f-8e81-49f0-9403-9aa66a47a9f6",
   "metadata": {},
   "outputs": [],
   "source": [
    "model = NonCachingModel(\n",
    "    model_functions=[gwpop.models.redshift.MadauDickinsonRedshift(cosmo_model=\"Planck18\", z_max=8)],\n",
    "    #model_functions=[gwpop.models.redshift.PowerLawRedshift(z_max=8)],\n",
    ")\n",
    "\n",
    "vt = gwpop.vt.ResamplingVT(model=model, data=injections, n_events=len(posteriors))\n",
    "\n",
    "likelihood = gwpop.hyperpe.HyperparameterLikelihood(\n",
    "    posteriors=posteriors,\n",
    "    hyper_prior=model,\n",
    "    selection_function=vt,\n",
    ")"
   ]
  },
  {
   "cell_type": "markdown",
   "id": "1e680b2e-1ca1-4c5b-9a36-7496e9085290",
   "metadata": {},
   "source": [
    "## Define prior"
   ]
  },
  {
   "cell_type": "code",
   "execution_count": 6,
   "id": "45ed1dcb-febf-4e48-b001-d232f31bead1",
   "metadata": {},
   "outputs": [],
   "source": [
    "priors = PriorDict()\n",
    "priors['gamma'] = Uniform(minimum=1, maximum=5, latex_label=\"$\\\\gamma$\")\n",
    "priors['kappa'] = Uniform(minimum=2, maximum=8, latex_label=\"$\\\\kappa$\")\n",
    "priors['z_peak'] = Uniform(minimum=0.5, maximum=4, latex_label=\"$z_{peak}$\")\n",
    "#priors['lamb'] = Uniform(minimum=0.5, maximum=4, latex_label=\"$\\\\lambda$\")"
   ]
  },
  {
   "cell_type": "markdown",
   "id": "66f52b12-f8b3-43a6-a2c3-e081354af297",
   "metadata": {},
   "source": [
    "## Just-in-time compile"
   ]
  },
  {
   "cell_type": "code",
   "execution_count": 7,
   "id": "56f48cd9-9d90-436d-9f15-488438d5a5b1",
   "metadata": {},
   "outputs": [
    {
     "name": "stdout",
     "output_type": "stream",
     "text": [
      "4497.104404986363\n",
      "CPU times: user 669 ms, sys: 181 ms, total: 850 ms\n",
      "Wall time: 377 ms\n",
      "4497.104404986363\n",
      "CPU times: user 8.81 s, sys: 681 ms, total: 9.49 s\n",
      "Wall time: 2.29 s\n",
      "4497.104404986363\n",
      "CPU times: user 209 ms, sys: 46.2 ms, total: 256 ms\n",
      "Wall time: 81.2 ms\n"
     ]
    }
   ],
   "source": [
    "parameters = priors.sample()\n",
    "likelihood.parameters.update(parameters)\n",
    "likelihood.log_likelihood_ratio()\n",
    "%time print(likelihood.log_likelihood_ratio())\n",
    "jit_likelihood = JittedLikelihood(likelihood)\n",
    "jit_likelihood.parameters.update(parameters)\n",
    "%time print(jit_likelihood.log_likelihood_ratio())\n",
    "%time print(jit_likelihood.log_likelihood_ratio())"
   ]
  },
  {
   "cell_type": "code",
   "execution_count": 8,
   "id": "ed355a2d-fd65-4131-b064-9b51471a0b77",
   "metadata": {},
   "outputs": [
    {
     "name": "stderr",
     "output_type": "stream",
     "text": [
      "13:07 bilby INFO    : Running for label 'cosmo', output will be saved to 'outdir'\n",
      "13:07 bilby INFO    : Analysis priors:\n",
      "13:07 bilby INFO    : gamma=Uniform(minimum=1, maximum=5, name=None, latex_label='$\\\\gamma$', unit=None, boundary=None)\n",
      "13:07 bilby INFO    : kappa=Uniform(minimum=2, maximum=8, name=None, latex_label='$\\\\kappa$', unit=None, boundary=None)\n",
      "13:07 bilby INFO    : z_peak=Uniform(minimum=0.5, maximum=4, name=None, latex_label='$z_{peak}$', unit=None, boundary=None)\n",
      "13:07 bilby INFO    : Analysis likelihood class: <class 'gwpopulation.experimental.jax.JittedLikelihood'>\n",
      "13:07 bilby INFO    : Analysis likelihood noise evidence: nan\n",
      "13:07 bilby INFO    : Single likelihood evaluation took 4.427e-05 s\n",
      "13:07 bilby INFO    : Using sampler Dynesty with kwargs {'nlive': 100, 'bound': 'live', 'sample': 'acceptance-walk', 'periodic': None, 'reflective': None, 'update_interval': 600, 'first_update': None, 'npdim': None, 'rstate': None, 'queue_size': 1, 'pool': None, 'use_pool': None, 'live_points': None, 'logl_args': None, 'logl_kwargs': None, 'ptform_args': None, 'ptform_kwargs': None, 'gradient': None, 'grad_args': None, 'grad_kwargs': None, 'compute_jac': False, 'enlarge': None, 'bootstrap': None, 'walks': 100, 'facc': 0.2, 'slices': None, 'fmove': 0.9, 'max_move': 100, 'update_func': None, 'ncdim': None, 'blob': False, 'save_history': False, 'history_filename': None, 'maxiter': None, 'maxcall': None, 'dlogz': 0.1, 'logl_max': inf, 'n_effective': None, 'add_live': True, 'print_progress': True, 'print_func': <bound method Dynesty._print_func of <bilby.core.sampler.dynesty.Dynesty object at 0x7fda26373790>>, 'save_bounds': False, 'checkpoint_file': None, 'checkpoint_every': 60, 'resume': False, 'seed': None}\n",
      "13:07 bilby INFO    : Global meta data was removed from the result object for compatibility. Use the `BILBY_INCLUDE_GLOBAL_METADATA` environment variable to include it. This behaviour will be removed in a future release. For more details see: https://bilby-dev.github.io/bilby/faq.html#global-meta-data\n",
      "13:07 bilby INFO    : Checkpoint every check_point_delta_t = 600s\n",
      "13:07 bilby INFO    : Using dynesty version 2.1.5\n",
      "13:07 bilby INFO    : Using the bilby-implemented acceptance-walk sampling with an average of 5 accepted steps per MCMC and maximum length 5000\n",
      "13:07 bilby INFO    : Resume file outdir/cosmo_resume.pickle does not exist.\n",
      "13:07 bilby INFO    : Generating initial points from the prior\n",
      "/home/divyajyoti/miniconda3/envs/gwpopulation/lib/python3.11/site-packages/tqdm/auto.py:21: TqdmWarning: IProgress not found. Please update jupyter and ipywidgets. See https://ipywidgets.readthedocs.io/en/stable/user_install.html\n",
      "  from .autonotebook import tqdm as notebook_tqdm\n"
     ]
    },
    {
     "name": "stdout",
     "output_type": "stream",
     "text": [
      "131it [00:21,  5.91it/s, bound:0 nc:  3 ncall:3.6e+02 eff:36.9% logz-ratio=4502.36+/-0.20 dlogz:23.3>0.1]"
     ]
    },
    {
     "name": "stderr",
     "output_type": "stream",
     "text": [
      "13:08 bilby INFO    : Run interrupted by signal 2: checkpoint and exit on 130\n",
      "13:08 bilby INFO    : Written checkpoint file outdir/cosmo_resume.pickle\n"
     ]
    },
    {
     "name": "stdout",
     "output_type": "stream",
     "text": [
      "\n",
      "Exception while calling loglikelihood function:\n",
      "  params: [2.83899239 2.92941997 3.31222462]\n",
      "  args: []\n",
      "  kwargs: {}\n",
      "  exception:\n"
     ]
    },
    {
     "name": "stderr",
     "output_type": "stream",
     "text": [
      "Traceback (most recent call last):\n",
      "  File \"/home/divyajyoti/miniconda3/envs/gwpopulation/lib/python3.11/site-packages/dynesty/dynesty.py\", line 913, in __call__\n",
      "    return self.func(np.asarray(x).copy(), *self.args, **self.kwargs)\n",
      "           ^^^^^^^^^^^^^^^^^^^^^^^^^^^^^^^^^^^^^^^^^^^^^^^^^^^^^^^^^^\n",
      "  File \"/home/divyajyoti/miniconda3/envs/gwpopulation/lib/python3.11/site-packages/bilby/core/sampler/dynesty.py\", line 54, in _log_likelihood_wrapper\n",
      "    return _sampling_convenience_dump.likelihood.log_likelihood_ratio()\n",
      "           ^^^^^^^^^^^^^^^^^^^^^^^^^^^^^^^^^^^^^^^^^^^^^^^^^^^^^^^^^^^^\n",
      "  File \"/home/divyajyoti/miniconda3/envs/gwpopulation/lib/python3.11/site-packages/gwpopulation/experimental/jax.py\", line 95, in log_likelihood_ratio\n",
      "    np.nan_to_num(self.likelihood_func(self.parameters, **self.kwargs))\n",
      "  File \"/home/divyajyoti/miniconda3/envs/gwpopulation/lib/python3.11/site-packages/numpy/lib/_type_check_impl.py\", line 458, in nan_to_num\n",
      "    x = _nx.array(x, subok=True, copy=copy)\n",
      "        ^^^^^^^^^^^^^^^^^^^^^^^^^^^^^^^^^^^\n",
      "  File \"/home/divyajyoti/miniconda3/envs/gwpopulation/lib/python3.11/site-packages/bilby/core/sampler/dynesty.py\", line 812, in write_current_state_and_exit\n",
      "    super(Dynesty, self).write_current_state_and_exit(signum=signum, frame=frame)\n",
      "  File \"/home/divyajyoti/miniconda3/envs/gwpopulation/lib/python3.11/site-packages/bilby/core/sampler/base_sampler.py\", line 749, in write_current_state_and_exit\n",
      "    sys.exit(self.exit_code)\n",
      "SystemExit: 130\n"
     ]
    },
    {
     "ename": "SystemExit",
     "evalue": "130",
     "output_type": "error",
     "traceback": [
      "An exception has occurred, use %tb to see the full traceback.\n",
      "\u001b[31mSystemExit\u001b[39m\u001b[31m:\u001b[39m 130\n"
     ]
    },
    {
     "name": "stderr",
     "output_type": "stream",
     "text": [
      "/home/divyajyoti/miniconda3/envs/gwpopulation/lib/python3.11/site-packages/IPython/core/interactiveshell.py:3678: UserWarning: To exit: use 'exit', 'quit', or Ctrl-D.\n",
      "  warn(\"To exit: use 'exit', 'quit', or Ctrl-D.\", stacklevel=1)\n"
     ]
    }
   ],
   "source": [
    "result = bb.run_sampler(\n",
    "    likelihood=jit_likelihood,\n",
    "    priors=priors,\n",
    "    sampler=\"dynesty\",\n",
    "    nlive=100,\n",
    "    label=\"cosmo\",\n",
    "    sample=\"acceptance-walk\",\n",
    "    naccept=5,\n",
    "    save=\"hdf5\",\n",
    ")"
   ]
  },
  {
   "cell_type": "code",
   "execution_count": 10,
   "id": "13dcc02c-fdda-4ed9-b803-d39ccb3632f1",
   "metadata": {},
   "outputs": [
    {
     "data": {
      "text/plain": [
       "\u001b[31mSignature:\u001b[39m\n",
       "bb.run_sampler(\n",
       "    likelihood,\n",
       "    priors=\u001b[38;5;28;01mNone\u001b[39;00m,\n",
       "    label=\u001b[33m'label'\u001b[39m,\n",
       "    outdir=\u001b[33m'outdir'\u001b[39m,\n",
       "    sampler=\u001b[33m'dynesty'\u001b[39m,\n",
       "    use_ratio=\u001b[38;5;28;01mNone\u001b[39;00m,\n",
       "    injection_parameters=\u001b[38;5;28;01mNone\u001b[39;00m,\n",
       "    conversion_function=\u001b[38;5;28;01mNone\u001b[39;00m,\n",
       "    plot=\u001b[38;5;28;01mFalse\u001b[39;00m,\n",
       "    default_priors_file=\u001b[38;5;28;01mNone\u001b[39;00m,\n",
       "    clean=\u001b[38;5;28;01mNone\u001b[39;00m,\n",
       "    meta_data=\u001b[38;5;28;01mNone\u001b[39;00m,\n",
       "    save=\u001b[38;5;28;01mTrue\u001b[39;00m,\n",
       "    gzip=\u001b[38;5;28;01mFalse\u001b[39;00m,\n",
       "    result_class=\u001b[38;5;28;01mNone\u001b[39;00m,\n",
       "    npool=\u001b[32m1\u001b[39m,\n",
       "    **kwargs,\n",
       ")\n",
       "\u001b[31mDocstring:\u001b[39m\n",
       "The primary interface to easy parameter estimation\n",
       "\n",
       "Parameters\n",
       "==========\n",
       "likelihood: `bilby.Likelihood`\n",
       "    A `Likelihood` instance\n",
       "priors: `bilby.PriorDict`\n",
       "    A PriorDict/dictionary of the priors for each parameter - missing\n",
       "    parameters will use default priors, if None, all priors will be default\n",
       "label: str\n",
       "    Name for the run, used in output files\n",
       "outdir: str\n",
       "    A string used in defining output files\n",
       "sampler: str, Sampler\n",
       "    The name of the sampler to use - see\n",
       "    `bilby.sampler.get_implemented_samplers()` for a list of available\n",
       "    samplers.\n",
       "    Alternatively a Sampler object can be passed\n",
       "use_ratio: bool (False)\n",
       "    If True, use the likelihood's log_likelihood_ratio, rather than just\n",
       "    the log_likelihood.\n",
       "injection_parameters: dict\n",
       "    A dictionary of injection parameters used in creating the data (if\n",
       "    using simulated data). Appended to the result object and saved.\n",
       "plot: bool\n",
       "    If true, generate a corner plot and, if applicable diagnostic plots\n",
       "conversion_function: function, optional\n",
       "    Function to apply to posterior to generate additional parameters.\n",
       "    This function should take one positional argument, a dictionary or\n",
       "    pandas dataframe and three optional arguments: the likelihood, prior\n",
       "    dict, and an integer :code:`npool` to allow parallelisation.\n",
       "default_priors_file: str\n",
       "    If given, a file containing the default priors; otherwise defaults to\n",
       "    the bilby defaults for a binary black hole.\n",
       "clean: bool\n",
       "    If given, override the command line interface `clean` option.\n",
       "meta_data: dict\n",
       "    If given, adds the key-value pairs to the 'results' object before\n",
       "    saving. For example, if `meta_data={dtype: 'signal'}`. Warning: in case\n",
       "    of conflict with keys saved by bilby, the meta_data keys will be\n",
       "    overwritten.\n",
       "save: bool, str\n",
       "    If true, save the priors and results to disk.\n",
       "    If hdf5, save as an hdf5 file instead of json.\n",
       "    If pickle or pkl, save as an pickle file instead of json.\n",
       "gzip: bool\n",
       "    If true, and save is true, gzip the saved results file.\n",
       "result_class: bilby.core.result.Result, or child of\n",
       "    The result class to use. By default, `bilby.core.result.Result` is used,\n",
       "    but objects which inherit from this class can be given providing\n",
       "    additional methods.\n",
       "npool: int\n",
       "    An integer specifying the available CPUs to create pool objects for\n",
       "    parallelization.\n",
       "**kwargs:\n",
       "    All kwargs are passed directly to the samplers `run` function\n",
       "\n",
       "Returns\n",
       "=======\n",
       "result: bilby.core.result.Result\n",
       "    An object containing the results\n",
       "\u001b[31mFile:\u001b[39m      ~/miniconda3/envs/gwpopulation/lib/python3.11/site-packages/bilby/core/sampler/__init__.py\n",
       "\u001b[31mType:\u001b[39m      function"
      ]
     },
     "metadata": {},
     "output_type": "display_data"
    }
   ],
   "source": [
    "bb.run_sampler?"
   ]
  },
  {
   "cell_type": "code",
   "execution_count": null,
   "id": "ef4f4797-5e08-4a3d-8828-4927f3ddc745",
   "metadata": {},
   "outputs": [],
   "source": []
  }
 ],
 "metadata": {
  "kernelspec": {
   "display_name": "gwpopulation",
   "language": "python",
   "name": "gwpopulation"
  },
  "language_info": {
   "codemirror_mode": {
    "name": "ipython",
    "version": 3
   },
   "file_extension": ".py",
   "mimetype": "text/x-python",
   "name": "python",
   "nbconvert_exporter": "python",
   "pygments_lexer": "ipython3",
   "version": "3.11.11"
  }
 },
 "nbformat": 4,
 "nbformat_minor": 5
}
