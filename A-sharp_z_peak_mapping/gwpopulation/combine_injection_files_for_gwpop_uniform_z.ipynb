{
 "cells": [
  {
   "cell_type": "code",
   "execution_count": 4,
   "id": "642688db-4df1-446c-a178-1f4a46e0657e",
   "metadata": {},
   "outputs": [],
   "source": [
    "import warnings\n",
    "warnings.filterwarnings(\"ignore\", \"Wswiglal-redir-stdio\")\n",
    "import h5py\n",
    "from GWForge.population.redshift import Redshift\n",
    "import bilby\n",
    "import numpy as np\n",
    "import pylab as plt\n",
    "import os\n",
    "from glob import glob\n",
    "import seaborn as sns\n",
    "import pandas as pd\n",
    "import dill\n",
    "from tqdm import tqdm\n",
    "from scipy.stats import ncx2\n",
    "from pycbc.waveform import get_fd_waveform\n",
    "from pycbc.population.population_models import coalescence_rate, norm_redshift_distribution"
   ]
  },
  {
   "cell_type": "code",
   "execution_count": 2,
   "id": "b36a1935-ce69-4b20-bc54-7a3efe0a9527",
   "metadata": {},
   "outputs": [],
   "source": [
    "project_dir = '/home/divyajyoti/ACADEMIC/Projects/Cardiff_University/Next_gen_detectability/A-sharp-study/'\n",
    "#study_label = f'CE4020ET123_CoBA10_SNR_{pop_num}_pop_PLP_spin_prec_fref_5_z_{MDmodel}_zp_{pop_params[\"z_peak\"]}_zmax_10_lmrd_22_corrected_td'\n",
    "study_label = f'LHI_Asharp_SNR_2_pop_PLP_spin_prec_fref_10_z_uniform_zmax_10_no_td'"
   ]
  },
  {
   "cell_type": "code",
   "execution_count": 7,
   "id": "9af1c2bd-19c0-4e1c-9bf5-6c736db789d8",
   "metadata": {},
   "outputs": [
    {
     "name": "stdout",
     "output_type": "stream",
     "text": [
      "zmax = 10.0\n"
     ]
    }
   ],
   "source": [
    "maximum_redshift = float(study_label.split('zmax_')[-1].split('_')[0])\n",
    "print('zmax =', maximum_redshift)\n",
    "\n",
    "def uniform_z(z, min_z=0., max_z=maximum_redshift):\n",
    "        prior = bilby.core.prior.Uniform(minimum=min_z, maximum=max_z)\n",
    "        return(prior.prob(z))\n",
    "\n",
    "mr_uniform = coalescence_rate(uniform_z)\n",
    "xx = np.linspace(0., maximum_redshift, 10000)\n",
    "prob = norm_redshift_distribution(xx, mr_uniform)\n",
    "p_z = bilby.core.prior.Interped(xx=xx, yy=prob, minimum=0.,maximum=maximum_redshift, name='redshift')"
   ]
  },
  {
   "cell_type": "code",
   "execution_count": 9,
   "id": "88cd1fc4-92e1-4c24-a292-a81ae2c3cfe3",
   "metadata": {},
   "outputs": [],
   "source": [
    "#z_grid = np.arange(0, z_max, 0.001)\n",
    "z_grid = np.arange(0, maximum_redshift, 0.001)"
   ]
  },
  {
   "cell_type": "markdown",
   "id": "2f129e48-dc20-493c-bedf-02eb04bb520a",
   "metadata": {},
   "source": [
    "## Get SNRs, masses, and redshift"
   ]
  },
  {
   "cell_type": "code",
   "execution_count": 20,
   "id": "c0c4f938-ad3c-4f89-a817-667f9c86a476",
   "metadata": {
    "scrolled": true
   },
   "outputs": [
    {
     "name": "stderr",
     "output_type": "stream",
     "text": [
      "100%|███████████████████████████████████████████████████████████████████████████████████████████████████████████████████████████████████████████████████| 17/17 [00:03<00:00,  5.11it/s]\n"
     ]
    }
   ],
   "source": [
    "#dets = ['C1', 'CE20', 'E1', 'E2', 'E3']\n",
    "dets = ['L1', 'H1', 'I1']\n",
    "injected_data = {'total':{}}\n",
    "select_params = ['distance','redshift', 'srcmass1', 'srcmass2', 'srcmtotal']\n",
    "\n",
    "very_high_SNR_val = 800\n",
    "#very_high_SNR_val = 6500\n",
    "weird_points = {'index':[], 'params':[]}\n",
    "for det in dets + ['network']:\n",
    "    select_params.append(f'SNR_{det}')\n",
    "    select_params.append(f'SNR_mf_{det}')\n",
    "    select_params.append(f'SNR_mf_from_opt_{det}')\n",
    "    \n",
    "for param in tqdm(select_params):\n",
    "    injected_data['total'][param] = []\n",
    "    for i in list(range(400)):\n",
    "        file_name = os.path.join(project_dir, 'gwpopulation', 'BBH', 'injections', \n",
    "                                 'SNR_output_files_XPHM', \n",
    "                                 study_label.replace('_Asharp', ''), \n",
    "                                 f'{study_label.replace(\"_Asharp\", \"\")}_part{i}_SNR_data.h5')\n",
    "        with h5py.File(file_name, 'r') as f:\n",
    "            injected_data['total'][param].append(f['results'][param][:])\n",
    "            if param == select_params[0]: #just need to run the code block once hence this if statement\n",
    "                weird_idxs_in_file = np.where(f['results']['SNR_network'][()] > very_high_SNR_val)[0]\n",
    "                if len(weird_idxs_in_file) != 0:\n",
    "                    weird_points['index'].extend(list(weird_idxs_in_file+10000*i))\n",
    "                    for idx in weird_idxs_in_file:\n",
    "                        weird_points['params'].append({key:f['results'][key][idx] for key in f['results'].keys()})\n",
    "    injected_data['total'][param] = np.concatenate(injected_data['total'][param])"
   ]
  },
  {
   "cell_type": "code",
   "execution_count": 21,
   "id": "cfe63268-6aad-4679-bf84-0f8311167847",
   "metadata": {},
   "outputs": [
    {
     "data": {
      "text/html": [
       "<div>\n",
       "<style scoped>\n",
       "    .dataframe tbody tr th:only-of-type {\n",
       "        vertical-align: middle;\n",
       "    }\n",
       "\n",
       "    .dataframe tbody tr th {\n",
       "        vertical-align: top;\n",
       "    }\n",
       "\n",
       "    .dataframe thead th {\n",
       "        text-align: right;\n",
       "    }\n",
       "</style>\n",
       "<table border=\"1\" class=\"dataframe\">\n",
       "  <thead>\n",
       "    <tr style=\"text-align: right;\">\n",
       "      <th></th>\n",
       "      <th>distance</th>\n",
       "      <th>redshift</th>\n",
       "      <th>srcmass1</th>\n",
       "      <th>srcmass2</th>\n",
       "      <th>srcmtotal</th>\n",
       "      <th>SNR_L1</th>\n",
       "      <th>SNR_mf_L1</th>\n",
       "      <th>SNR_mf_from_opt_L1</th>\n",
       "      <th>SNR_H1</th>\n",
       "      <th>SNR_mf_H1</th>\n",
       "      <th>SNR_mf_from_opt_H1</th>\n",
       "      <th>SNR_I1</th>\n",
       "      <th>SNR_mf_I1</th>\n",
       "      <th>SNR_mf_from_opt_I1</th>\n",
       "      <th>SNR_network</th>\n",
       "      <th>SNR_mf_network</th>\n",
       "      <th>SNR_mf_from_opt_network</th>\n",
       "    </tr>\n",
       "  </thead>\n",
       "  <tbody>\n",
       "    <tr>\n",
       "      <th>1866217</th>\n",
       "      <td>28439.625355</td>\n",
       "      <td>3.229027</td>\n",
       "      <td>9.149348</td>\n",
       "      <td>2.482831</td>\n",
       "      <td>11.632179</td>\n",
       "      <td>6.447242e+28</td>\n",
       "      <td>6.447242e+28</td>\n",
       "      <td>6.447242e+28</td>\n",
       "      <td>7.447342e+28</td>\n",
       "      <td>7.447342e+28</td>\n",
       "      <td>7.447342e+28</td>\n",
       "      <td>5.352589e+28</td>\n",
       "      <td>5.352589e+28</td>\n",
       "      <td>5.352589e+28</td>\n",
       "      <td>1.121071e+29</td>\n",
       "      <td>1.121071e+29</td>\n",
       "      <td>1.121071e+29</td>\n",
       "    </tr>\n",
       "  </tbody>\n",
       "</table>\n",
       "</div>"
      ],
      "text/plain": [
       "             distance  redshift  srcmass1  srcmass2  srcmtotal        SNR_L1  \\\n",
       "1866217  28439.625355  3.229027  9.149348  2.482831  11.632179  6.447242e+28   \n",
       "\n",
       "            SNR_mf_L1  SNR_mf_from_opt_L1        SNR_H1     SNR_mf_H1  \\\n",
       "1866217  6.447242e+28        6.447242e+28  7.447342e+28  7.447342e+28   \n",
       "\n",
       "         SNR_mf_from_opt_H1        SNR_I1     SNR_mf_I1  SNR_mf_from_opt_I1  \\\n",
       "1866217        7.447342e+28  5.352589e+28  5.352589e+28        5.352589e+28   \n",
       "\n",
       "          SNR_network  SNR_mf_network  SNR_mf_from_opt_network  \n",
       "1866217  1.121071e+29    1.121071e+29             1.121071e+29  "
      ]
     },
     "execution_count": 21,
     "metadata": {},
     "output_type": "execute_result"
    }
   ],
   "source": [
    "pd.DataFrame(injected_data['total'])[(injected_data['total']['SNR_network']>very_high_SNR_val)]"
   ]
  },
  {
   "cell_type": "code",
   "execution_count": 22,
   "id": "fab3cdde-c99f-4b14-87a7-a512e71b2b57",
   "metadata": {},
   "outputs": [
    {
     "data": {
      "text/plain": [
       "True"
      ]
     },
     "execution_count": 22,
     "metadata": {},
     "output_type": "execute_result"
    }
   ],
   "source": [
    "np.all([weird_points['index'], pd.DataFrame(injected_data['total'])[injected_data['total']['SNR_network']>very_high_SNR_val].index])"
   ]
  },
  {
   "cell_type": "code",
   "execution_count": 23,
   "id": "a8df7ae7-2736-4338-8679-32d5789da7a9",
   "metadata": {},
   "outputs": [
    {
     "data": {
      "image/png": "[encoded data removed]",
      "text/plain": [
       "<Figure size 640x480 with 1 Axes>"
      ]
     },
     "metadata": {},
     "output_type": "display_data"
    }
   ],
   "source": [
    "for idx, params in zip(weird_points['index'], weird_points['params']):\n",
    "    params['approximant'] = 'IMRPhenomXPHM'\n",
    "    hp, hc = get_fd_waveform(**params)\n",
    "    plt.loglog(hp.sample_frequencies, abs(hp), label=idx)\n",
    "    plt.xlim(5, )\n",
    "    plt.legend(title='index', fontsize=12)"
   ]
  },
  {
   "cell_type": "markdown",
   "id": "e19cc734-2109-4cea-adf1-bba6dd809b34",
   "metadata": {},
   "source": [
    "### Remove the weird data points"
   ]
  },
  {
   "cell_type": "code",
   "execution_count": 24,
   "id": "33987ea0-2220-4445-803e-076d2579f30d",
   "metadata": {
    "scrolled": true
   },
   "outputs": [],
   "source": [
    "for key, arr in injected_data['total'].items():\n",
    "    injected_data['total'][key] = np.delete(arr, weird_points['index'])"
   ]
  },
  {
   "cell_type": "markdown",
   "id": "57cc505d-c163-4daa-8e60-0ef8590b3e15",
   "metadata": {},
   "source": [
    "### Plot SNRs"
   ]
  },
  {
   "cell_type": "code",
   "execution_count": 25,
   "id": "aed1ec9e-1072-4857-8615-eac1522695be",
   "metadata": {},
   "outputs": [
    {
     "data": {
      "text/plain": [
       "dict_keys(['distance', 'redshift', 'srcmass1', 'srcmass2', 'srcmtotal', 'SNR_L1', 'SNR_mf_L1', 'SNR_mf_from_opt_L1', 'SNR_H1', 'SNR_mf_H1', 'SNR_mf_from_opt_H1', 'SNR_I1', 'SNR_mf_I1', 'SNR_mf_from_opt_I1', 'SNR_network', 'SNR_mf_network', 'SNR_mf_from_opt_network'])"
      ]
     },
     "execution_count": 25,
     "metadata": {},
     "output_type": "execute_result"
    }
   ],
   "source": [
    "injected_data['total'].keys()"
   ]
  },
  {
   "cell_type": "code",
   "execution_count": 26,
   "id": "b34df729-c0aa-4ea5-8057-0b691235ebe8",
   "metadata": {},
   "outputs": [
    {
     "data": {
      "text/plain": [
       "<matplotlib.lines.Line2D at 0x76cd0490c510>"
      ]
     },
     "execution_count": 26,
     "metadata": {},
     "output_type": "execute_result"
    },
    {
     "data": {
      "image/png": "[encoded data removed]",
      "text/plain": [
       "<Figure size 640x480 with 1 Axes>"
      ]
     },
     "metadata": {},
     "output_type": "display_data"
    }
   ],
   "source": [
    "plt.plot(injected_data['total']['SNR_network'], injected_data['total']['SNR_mf_from_opt_network']/injected_data['total']['SNR_network'], '.')\n",
    "plt.xscale('log')\n",
    "plt.axvline(12, color='k')\n",
    "plt.axhline(1, color='k')"
   ]
  },
  {
   "cell_type": "code",
   "execution_count": 27,
   "id": "03e4aa35-e37f-457b-b71e-301ca79fb017",
   "metadata": {},
   "outputs": [
    {
     "data": {
      "text/plain": [
       "3999999"
      ]
     },
     "execution_count": 27,
     "metadata": {},
     "output_type": "execute_result"
    }
   ],
   "source": [
    "len(injected_data['total']['redshift'])"
   ]
  },
  {
   "cell_type": "markdown",
   "id": "3235d0bb-671f-4991-a44c-8cda9659b6d0",
   "metadata": {},
   "source": [
    "## Get detected population for injections"
   ]
  },
  {
   "cell_type": "code",
   "execution_count": 28,
   "id": "f56f8815-e0a1-4590-bbc3-656a90cdc011",
   "metadata": {},
   "outputs": [],
   "source": [
    "def get_detected_SNRs(data_dict, ifo_threshold=5, network_threshold=12, \n",
    "                      method='network', return_detected_dict=False, \n",
    "                      snr_type='mf_from_opt'):\n",
    "    if type(data_dict) == pd.core.frame.DataFrame:\n",
    "        pass\n",
    "    else:\n",
    "        data_dict = pd.DataFrame(data_dict)\n",
    "        \n",
    "    if snr_type == 'opt':\n",
    "        SNR_keys = [key for key in data_dict.keys() if 'SNR' in key and 'mf' not in key]\n",
    "    elif snr_type == 'mf_from_opt':\n",
    "        SNR_keys = [key for key in data_dict.keys() if 'SNR_mf_from_opt' in key]\n",
    "    elif snr_type == 'mf':\n",
    "        SNR_keys = [key for key in data_dict.keys() if 'SNR_mf' in key and 'from_opt' not in key]\n",
    "    else:\n",
    "        raise KeyError('Please choose snr_type from \"opt\" or \"mf\"')\n",
    "    print(SNR_keys)\n",
    "    detected_bool_dict = {}\n",
    "    detected_dict = {}\n",
    "    \n",
    "    for key in SNR_keys:\n",
    "        if snr_type == 'opt':\n",
    "            dict_key = key.split('SNR_')[-1]\n",
    "        elif snr_type == 'mf_from_opt':\n",
    "            dict_key = key.split('SNR_mf_from_opt_')[-1]\n",
    "        elif snr_type == 'mf':\n",
    "            dict_key = key.split('SNR_mf_')[-1]\n",
    "        \n",
    "        if \"network\" in key:\n",
    "            threshold = network_threshold\n",
    "        else:\n",
    "            threshold = ifo_threshold\n",
    "\n",
    "        detected_bool_dict[dict_key] = data_dict[key] >= threshold\n",
    "        detected_dict[dict_key] = data_dict[detected_bool_dict[dict_key]]\n",
    "\n",
    "    if method=='all':\n",
    "        detected_events_df = data_dict[np.all(tuple(detected_bool_dict.values()), axis=0) & detected_bool_dict['network']]\n",
    "    elif method == 'two-detector':\n",
    "        detector_keys = [key for key in detected_bool_dict.keys() if key != 'network']\n",
    "        detection_sum = np.sum([detected_bool_dict[key] for key in detector_keys], axis=0)\n",
    "        detected_events_df = data_dict[(detection_sum >= 2) & (detected_bool_dict['network'])]\n",
    "    elif method=='network':\n",
    "        detected_events_df = detected_dict['network']\n",
    "\n",
    "    if return_detected_dict:\n",
    "        return(detected_events_df, detected_dict)\n",
    "    else:\n",
    "        return(detected_events_df)"
   ]
  },
  {
   "cell_type": "code",
   "execution_count": 29,
   "id": "af389465-d1ee-4967-82de-72bac5dd1383",
   "metadata": {},
   "outputs": [
    {
     "name": "stdout",
     "output_type": "stream",
     "text": [
      "['SNR_mf_from_opt_L1', 'SNR_mf_from_opt_H1', 'SNR_mf_from_opt_I1', 'SNR_mf_from_opt_network']\n"
     ]
    }
   ],
   "source": [
    "#injected_data['detected'] = get_detected_SNRs(injected_data['total'], method='two-detector', snr_type='opt')\n",
    "#injected_data['detected_mf'] = get_detected_SNRs(injected_data['total'], method='two-detector', snr_type='mf')\n",
    "injected_data['detected_mf_from_opt'] = get_detected_SNRs(injected_data['total'], method='two-detector', snr_type='mf_from_opt')"
   ]
  },
  {
   "cell_type": "code",
   "execution_count": 30,
   "id": "2fea0726-e14e-4f69-83f2-c9f5d66b4f17",
   "metadata": {},
   "outputs": [
    {
     "data": {
      "text/plain": [
       "381501"
      ]
     },
     "execution_count": 30,
     "metadata": {},
     "output_type": "execute_result"
    }
   ],
   "source": [
    "#len(injected_data['detected']['redshift']), len(injected_data['detected_mf']['redshift']), len(injected_data['detected_mf_from_opt']['redshift'])\n",
    "len(injected_data['detected_mf_from_opt']['redshift'])"
   ]
  },
  {
   "cell_type": "markdown",
   "id": "b3cce3ad-d446-4976-95df-da1dbe0541a7",
   "metadata": {},
   "source": [
    "## Create gwpopulation injection prior for redshift"
   ]
  },
  {
   "cell_type": "code",
   "execution_count": 31,
   "id": "85f05430-b9ed-4008-9aea-f7494501a267",
   "metadata": {},
   "outputs": [],
   "source": [
    "injected_data['detected_mf_from_opt']['p_z'] = p_z.probability_density(injected_data['detected_mf_from_opt']['redshift'])"
   ]
  },
  {
   "cell_type": "code",
   "execution_count": 33,
   "id": "ef4a32ca-d3dd-43e4-b346-864617ca6ce0",
   "metadata": {},
   "outputs": [
    {
     "name": "stderr",
     "output_type": "stream",
     "text": [
      "/home/divyajyoti/miniconda3/envs/spe_ngloc_mygwf_mypycbc/lib/python3.11/site-packages/seaborn/_oldcore.py:1119: FutureWarning: use_inf_as_na option is deprecated and will be removed in a future version. Convert inf values to NaN before operating instead.\n",
      "  with pd.option_context('mode.use_inf_as_na', True):\n",
      "/home/divyajyoti/miniconda3/envs/spe_ngloc_mygwf_mypycbc/lib/python3.11/site-packages/seaborn/_oldcore.py:1119: FutureWarning: use_inf_as_na option is deprecated and will be removed in a future version. Convert inf values to NaN before operating instead.\n",
      "  with pd.option_context('mode.use_inf_as_na', True):\n"
     ]
    },
    {
     "data": {
      "text/plain": [
       "Text(0.5, 0, '$z$')"
      ]
     },
     "execution_count": 33,
     "metadata": {},
     "output_type": "execute_result"
    },
    {
     "data": {
      "image/png": "[encoded data removed]",
      "text/plain": [
       "<Figure size 640x480 with 1 Axes>"
      ]
     },
     "metadata": {},
     "output_type": "display_data"
    }
   ],
   "source": [
    "sns.kdeplot(injected_data['total']['redshift'], label='total')\n",
    "sns.kdeplot(injected_data['detected_mf_from_opt']['redshift'], label='detected_mf_from_opt')\n",
    "sort_idx_mf = np.argsort(injected_data['detected_mf_from_opt']['redshift'])\n",
    "plt.plot(np.array(injected_data['detected_mf_from_opt']['redshift'])[sort_idx_mf], \n",
    "         np.array(injected_data['detected_mf_from_opt']['p_z'])[sort_idx_mf], label='gwpop prior', ls='--', c='yellow')\n",
    "plt.legend(loc=1, fontsize=10)\n",
    "plt.xlabel('$z$')"
   ]
  },
  {
   "cell_type": "markdown",
   "id": "f6e5d45f-f88e-4a94-8705-d0f8882bb061",
   "metadata": {},
   "source": [
    "## Write to file"
   ]
  },
  {
   "cell_type": "markdown",
   "id": "143b9ca6-9edc-4dcb-92bf-f2753e5884df",
   "metadata": {},
   "source": [
    "#### MF from opt SNR detected population"
   ]
  },
  {
   "cell_type": "code",
   "execution_count": 34,
   "id": "8a8e854a-6403-4ee3-935e-3dc75abf6fce",
   "metadata": {},
   "outputs": [],
   "source": [
    "z_dict_write_mf_from_opt = {'redshift':np.array(injected_data['detected_mf_from_opt']['redshift']), \n",
    "                            'prior':np.array(injected_data['detected_mf_from_opt']['p_z']),\n",
    "                            'total_generated':len(injected_data['total']['redshift'])}"
   ]
  },
  {
   "cell_type": "code",
   "execution_count": 35,
   "id": "c64d3c0e-5e25-47ef-a07c-0cc92a1b298a",
   "metadata": {},
   "outputs": [
    {
     "data": {
      "text/plain": [
       "{'redshift': array([0.29438082, 1.92324781, 1.9018529 , ..., 0.71448946, 0.63843696,\n",
       "        2.20202778]),\n",
       " 'prior': array([0.06454809, 0.21183891, 0.21285508, ..., 0.17782505, 0.16221316,\n",
       "        0.19755416]),\n",
       " 'total_generated': 3999999}"
      ]
     },
     "execution_count": 35,
     "metadata": {},
     "output_type": "execute_result"
    }
   ],
   "source": [
    "z_dict_write_mf_from_opt"
   ]
  },
  {
   "cell_type": "code",
   "execution_count": 36,
   "id": "bbbfd34b-2653-41e4-9177-2f6e0fab8d82",
   "metadata": {},
   "outputs": [
    {
     "data": {
      "text/plain": [
       "'/home/divyajyoti/ACADEMIC/Projects/Cardiff_University/Next_gen_detectability/A-sharp-study/gwpopulation/BBH/injections/LHI_Asharp_SNR_2_pop_PLP_spin_prec_fref_10_z_uniform_zmax_10_no_td_detected_injs_mf_from_opt_SNR_4M_points_XPHM.pkl'"
      ]
     },
     "execution_count": 36,
     "metadata": {},
     "output_type": "execute_result"
    }
   ],
   "source": [
    "out_file = os.path.join(project_dir, 'gwpopulation', 'BBH', 'injections', \n",
    "                        f'{study_label}_detected_injs_mf_from_opt_SNR_4M_points_XPHM.pkl')\n",
    "out_file"
   ]
  },
  {
   "cell_type": "code",
   "execution_count": 37,
   "id": "ffd095be-da0f-4859-a32b-a6073b98ac9f",
   "metadata": {},
   "outputs": [],
   "source": [
    "with open(out_file, 'wb') as f:\n",
    "    dill.dump(z_dict_write_mf_from_opt, f)"
   ]
  },
  {
   "cell_type": "code",
   "execution_count": null,
   "id": "f5f51a14-e88e-4223-a203-23e6cd6e40c9",
   "metadata": {},
   "outputs": [],
   "source": []
  }
 ],
 "metadata": {
  "kernelspec": {
   "display_name": "spe_ngloc_mygwf_mypycbc",
   "language": "python",
   "name": "spe_ngloc_mygwf_mypycbc"
  },
  "language_info": {
   "codemirror_mode": {
    "name": "ipython",
    "version": 3
   },
   "file_extension": ".py",
   "mimetype": "text/x-python",
   "name": "python",
   "nbconvert_exporter": "python",
   "pygments_lexer": "ipython3",
   "version": "3.11.11"
  }
 },
 "nbformat": 4,
 "nbformat_minor": 5
}
