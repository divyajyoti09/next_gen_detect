{
 "cells": [
  {
   "cell_type": "code",
   "execution_count": 15,
   "id": "c1d0026d-8354-4577-bba6-0f24311bd07d",
   "metadata": {},
   "outputs": [],
   "source": [
    "import dill\n",
    "import os"
   ]
  },
  {
   "cell_type": "code",
   "execution_count": 3,
   "id": "54e02a54-2ba3-4785-a005-3a9b3597f71c",
   "metadata": {},
   "outputs": [],
   "source": [
    "project_dir = '/home/divyajyoti/ACADEMIC/Projects/Cardiff_University/Next_gen_detectability/A-sharp-study/gwpopulation/BBH/injections/'"
   ]
  },
  {
   "cell_type": "code",
   "execution_count": 16,
   "id": "2e503abe-1000-4a61-8880-7d798722ae45",
   "metadata": {},
   "outputs": [],
   "source": [
    "netw = 'LHI_Asharp'\n",
    "fref = 10\n",
    "pop_num = 2\n",
    "inj_files = {}\n",
    "pops = ['MD', 'uniform']\n",
    "for pop in pops:\n",
    "    if pop == 'MD':\n",
    "        td = 'corrected'\n",
    "        lmrd = 'lmrd_22_'\n",
    "    elif pop == 'uniform':\n",
    "        td = 'no'\n",
    "        lmrd = ''\n",
    "    inj_files[pop] = os.path.join(project_dir, '_'.join([netw, 'SNR', str(pop_num), \n",
    "                                              'pop_PLP_spin_prec_fref', str(fref), \n",
    "                                              'z', pop, f'zmax_10_{lmrd}{td}', \n",
    "                                              'td_detected_injs_mf_from_opt_SNR_4M_points_XPHM.pkl']))"
   ]
  },
  {
   "cell_type": "code",
   "execution_count": 17,
   "id": "fe3b9903-cf8c-412f-b2e0-39cc91a83b76",
   "metadata": {},
   "outputs": [
    {
     "data": {
      "text/plain": [
       "{'MD': '/home/divyajyoti/ACADEMIC/Projects/Cardiff_University/Next_gen_detectability/A-sharp-study/gwpopulation/BBH/injections/LHI_Asharp_SNR_2_pop_PLP_spin_prec_fref_10_z_MD_zmax_10_lmrd_22_corrected_td_detected_injs_mf_from_opt_SNR_4M_points_XPHM.pkl',\n",
       " 'uniform': '/home/divyajyoti/ACADEMIC/Projects/Cardiff_University/Next_gen_detectability/A-sharp-study/gwpopulation/BBH/injections/LHI_Asharp_SNR_2_pop_PLP_spin_prec_fref_10_z_uniform_zmax_10_no_td_detected_injs_mf_from_opt_SNR_4M_points_XPHM.pkl'}"
      ]
     },
     "execution_count": 17,
     "metadata": {},
     "output_type": "execute_result"
    }
   ],
   "source": [
    "inj_files"
   ]
  },
  {
   "cell_type": "code",
   "execution_count": 20,
   "id": "5efd3254-62ba-4fb2-a812-efeceae4e05b",
   "metadata": {},
   "outputs": [],
   "source": [
    "inj_data = {}\n",
    "for pop in pops:\n",
    "    with open(inj_files[pop], 'rb') as f:\n",
    "        inj_data[pop] = dill.load(f)"
   ]
  },
  {
   "cell_type": "code",
   "execution_count": 34,
   "id": "8d023507-9849-4330-b794-4ebda1011de6",
   "metadata": {},
   "outputs": [
    {
     "name": "stdout",
     "output_type": "stream",
     "text": [
      "MD\n",
      "total detected 551882 (13.80%)\n",
      "> 3 8012\n",
      "< 3 543870\n",
      "uniform\n",
      "total detected 381501 (9.54%)\n",
      "> 3 11982\n",
      "< 3 369519\n"
     ]
    }
   ],
   "source": [
    "z_th = 3\n",
    "for pop in pops:\n",
    "    print(pop)\n",
    "    print('total detected', len(inj_data[pop]['redshift']), \n",
    "          f\"({len(inj_data[pop]['redshift'])*100/inj_data[pop]['total_generated']:.2f}%)\")\n",
    "    print('>', z_th, len(inj_data[pop]['redshift'][inj_data[pop]['redshift']>z_th]))\n",
    "    print('<', z_th, len(inj_data[pop]['redshift'][inj_data[pop]['redshift']<z_th]))"
   ]
  },
  {
   "cell_type": "code",
   "execution_count": 35,
   "id": "44c699c3-1c59-42b2-a4d5-7d0a424d3bc5",
   "metadata": {},
   "outputs": [],
   "source": [
    "with open('/home/divyajyoti/ACADEMIC/Projects/Cardiff_University/Next_gen_detectability/A-sharp-study/gwpopulation/BBH/injections/mass_bands/XPHM/LHI_Asharp_SNR_2_pop_PLP_spin_prec_fref_10_z_MD_zmax_10_lmrd_22_corrected_td_detected_injs_mf_from_opt_SNR_40044_points_above_80.pkl', 'rb') as f:\n",
    "    above_80 = dill.load(f)"
   ]
  },
  {
   "cell_type": "code",
   "execution_count": 36,
   "id": "90b7c40f-de97-4981-8467-a7b0df7bef26",
   "metadata": {},
   "outputs": [
    {
     "data": {
      "text/plain": [
       "24615"
      ]
     },
     "execution_count": 36,
     "metadata": {},
     "output_type": "execute_result"
    }
   ],
   "source": [
    "len(above_80['redshift'])"
   ]
  },
  {
   "cell_type": "code",
   "execution_count": 37,
   "id": "9a0d9b1b-5332-44b8-af79-2b10a71a0528",
   "metadata": {},
   "outputs": [
    {
     "data": {
      "text/plain": [
       "40044"
      ]
     },
     "execution_count": 37,
     "metadata": {},
     "output_type": "execute_result"
    }
   ],
   "source": [
    "above_80['total_generated']"
   ]
  },
  {
   "cell_type": "code",
   "execution_count": 46,
   "id": "02197324-be8f-43ae-8b12-77aa5d443a44",
   "metadata": {},
   "outputs": [],
   "source": [
    "import numpy as np\n",
    "import pylab as plt"
   ]
  },
  {
   "cell_type": "code",
   "execution_count": 58,
   "id": "f064e86a-bbe8-48fb-b7c3-b6b1d90395e4",
   "metadata": {},
   "outputs": [
    {
     "data": {
      "text/plain": [
       "42025"
      ]
     },
     "execution_count": 58,
     "metadata": {},
     "output_type": "execute_result"
    }
   ],
   "source": [
    "205*205"
   ]
  },
  {
   "cell_type": "code",
   "execution_count": 56,
   "id": "cf5102b9-6c70-440a-a894-f9ed1421a7f4",
   "metadata": {},
   "outputs": [
    {
     "data": {
      "text/plain": [
       "16459249"
      ]
     },
     "execution_count": 56,
     "metadata": {},
     "output_type": "execute_result"
    }
   ],
   "source": [
    "4057*4057"
   ]
  },
  {
   "cell_type": "code",
   "execution_count": null,
   "id": "c1e50a5b-9c86-4cec-a382-e6277176f96c",
   "metadata": {},
   "outputs": [],
   "source": []
  }
 ],
 "metadata": {
  "kernelspec": {
   "display_name": "igwn-py311",
   "language": "python",
   "name": "igwn-py311"
  },
  "language_info": {
   "codemirror_mode": {
    "name": "ipython",
    "version": 3
   },
   "file_extension": ".py",
   "mimetype": "text/x-python",
   "name": "python",
   "nbconvert_exporter": "python",
   "pygments_lexer": "ipython3",
   "version": "3.11.10"
  }
 },
 "nbformat": 4,
 "nbformat_minor": 5
}
